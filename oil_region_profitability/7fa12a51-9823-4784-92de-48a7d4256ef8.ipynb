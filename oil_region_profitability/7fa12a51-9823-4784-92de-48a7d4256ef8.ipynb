{
 "cells": [
  {
   "cell_type": "markdown",
   "metadata": {},
   "source": [
    "# Проект: Выбор локации для скважины"
   ]
  },
  {
   "cell_type": "markdown",
   "metadata": {},
   "source": [
    "## Описание проекта \n",
    "Нам предоставлены пробы нефти в трёх регионах. Характеристики для каждой скважины в регионе уже известны. Построим модель для определения региона, где добыча принесёт наибольшую прибыль.\\\n",
    "Проанализируем возможную прибыль и риски техникой `Bootstrap`."
   ]
  },
  {
   "cell_type": "markdown",
   "metadata": {},
   "source": [
    "Вы работаете в добывающей компании «ГлавРосГосНефть». Нужно решить, где бурить новую скважину. "
   ]
  },
  {
   "cell_type": "markdown",
   "metadata": {},
   "source": [
    "### Шаги для выбора локации:\n",
    "\n",
    "* В избранном регионе собирают характеристики для скважин: качество нефти и объём её запасов;\n",
    "* Строят модель для предсказания объёма запасов в новых скважинах;\n",
    "* Выбирают скважины с самыми высокими оценками значений;\n",
    "* Определяют регион с максимальной суммарной прибылью отобранных скважин.\n"
   ]
  },
  {
   "cell_type": "markdown",
   "metadata": {},
   "source": [
    "### Инструкция по выполнению проекта\n",
    "* Загрузите и подготовьте данные. Поясните порядок действий.\n",
    "* Обучите и проверьте модель для каждого региона:\n",
    "   * 2.1. Разбейте данные на обучающую и валидационную выборки в соотношении 75:25.\n",
    "   * 2.2. Обучите модель и сделайте предсказания на валидационной выборке.\n",
    "   * 2.3. Сохраните предсказания и правильные ответы на валидационной выборке.\n",
    "   * 2.4. Напечатайте на экране средний запас предсказанного сырья и RMSE модели.\n",
    "   * 2.5. Проанализируйте результаты.\n",
    " * Подготовьтесь к расчёту прибыли:\n",
    "   * 3.1. Все ключевые значения для расчётов сохраните в отдельных переменных.\n",
    "   * 3.2. Рассчитайте достаточный объём сырья для безубыточной разработки новой скважины. Сравните полученный объём сырья со средним запасом в каждом регионе. \n",
    "   * 3.3. Напишите выводы по этапу подготовки расчёта прибыли.\n",
    " * Напишите функцию для расчёта прибыли по выбранным скважинам и предсказаниям модели:\n",
    "   * 4.1. Выберите скважины с максимальными значениями предсказаний. \n",
    "   * 4.2. Просуммируйте целевое значение объёма сырья, соответствующее этим предсказаниям.\n",
    "   * 4.3. Рассчитайте прибыль для полученного объёма сырья.\n",
    " * Посчитайте риски и прибыль для каждого региона:\n",
    "   * 5.1. Примените технику Bootstrap с 1000 выборок, чтобы найти распределение прибыли.\n",
    "   * 5.2. Найдите среднюю прибыль, 95%-й доверительный интервал и риск убытков. Убыток — это отрицательная прибыль.\n",
    "   * 5.3. Напишите выводы: предложите регион для разработки скважин и обоснуйте выбор.\n"
   ]
  },
  {
   "cell_type": "markdown",
   "metadata": {},
   "source": [
    "### Описание данных\n",
    "Данные геологоразведки трёх регионов находятся в файлах: \n",
    "* `/datasets/geo_data_0.csv.`\n",
    "* `/datasets/geo_data_1.csv.`\n",
    "* `/datasets/geo_data_2.csv.`\n",
    "**Информация о переменных:**\n",
    "* `id` — уникальный идентификатор скважины;\n",
    "* `f0`, `f1`, `f2` — три признака точек (неважно, что они означают, но сами признаки значимы);\n",
    "* `product` — объём запасов в скважине (тыс. баррелей).\n"
   ]
  },
  {
   "cell_type": "markdown",
   "metadata": {},
   "source": [
    "### Условия задачи:\n",
    "* Для обучения модели подходит только **линейная регрессия** (остальные — недостаточно предсказуемые).\n",
    "* При разведке региона исследуют 500 точек, из которых с помощью машинного обучения выбирают 200 лучших для разработки.\n",
    "* Бюджет на разработку скважин в регионе — 10 млрд рублей.\n",
    "* При нынешних ценах один баррель сырья приносит 450 рублей дохода. Доход с каждой единицы продукта составляет 450 тыс. рублей, поскольку объём указан в тысячах баррелей.\n",
    "* После оценки рисков нужно оставить лишь те регионы, в которых вероятность убытков меньше 2.5%. Среди них выбирают регион с наибольшей средней прибылью.\n",
    "* Данные синтетические: детали контрактов и характеристики месторождений не разглашаются."
   ]
  },
  {
   "cell_type": "markdown",
   "metadata": {},
   "source": [
    "## Загрузка и подготовка данных"
   ]
  },
  {
   "cell_type": "code",
   "execution_count": 1,
   "metadata": {},
   "outputs": [],
   "source": [
    "import pandas as pd\n",
    "from sklearn.model_selection import train_test_split\n",
    "from sklearn.linear_model import LogisticRegression\n",
    "from sklearn.metrics import mean_squared_error\n",
    "import numpy as np\n",
    "from IPython.display import display\n",
    "import numpy as np\n",
    "import matplotlib.pyplot as plt\n",
    "import seaborn as sns\n",
    "from sklearn.linear_model import LinearRegression\n",
    "import warnings\n",
    "\n",
    "# Отключим все предупреждения\n",
    "warnings.filterwarnings('ignore')"
   ]
  },
  {
   "cell_type": "markdown",
   "metadata": {},
   "source": [
    "<div class=\"alert alert-info\">\n",
    "<font size=\"4\">🍕<b> Комментарий ревьюера</b></font>\n",
    "    <br /> \n",
    "    <font size=\"3\", color = \"black\">\n",
    "<br /> \n",
    "У первого же твоего блока кода был индекс 397 в момент открытия мной работы. Рекомендую перед отправкой прогонять проект с нуля, это можно сделать с помощью кнопки ⏩ на панели сверху\n",
    "    </font>\n",
    "</div>"
   ]
  },
  {
   "cell_type": "code",
   "execution_count": 2,
   "metadata": {},
   "outputs": [],
   "source": [
    "pd.set_option('display.max_columns', None)\n",
    "pd.set_option('display.max_colwidth', None)\n",
    "pd.set_option('chained_assignment', None)  \n",
    "pd.options.display.float_format = '{:,.3f}'.format"
   ]
  },
  {
   "cell_type": "code",
   "execution_count": 3,
   "metadata": {},
   "outputs": [],
   "source": [
    "try:\n",
    "    data_region1 = pd.read_csv('datasets/geo_data_0.csv', sep=',')\n",
    "except:\n",
    "    data_region1 = pd.read_csv('https://code.s3.yandex.net/datasets/geo_data_0.csv', sep=',')"
   ]
  },
  {
   "cell_type": "code",
   "execution_count": 4,
   "metadata": {},
   "outputs": [],
   "source": [
    "try:\n",
    "    data_region2 = pd.read_csv('datasets/geo_data_1.csv', sep=',')\n",
    "except:\n",
    "    data_region2 = pd.read_csv('https://code.s3.yandex.net/datasets/geo_data_1.csv', sep=',')"
   ]
  },
  {
   "cell_type": "code",
   "execution_count": 5,
   "metadata": {},
   "outputs": [],
   "source": [
    "try:\n",
    "    data_region3 = pd.read_csv('datasets/geo_data_2.csv', sep=',')\n",
    "except:\n",
    "    data_region3 = pd.read_csv('https://code.s3.yandex.net/datasets/geo_data_2.csv', sep=',')"
   ]
  },
  {
   "cell_type": "markdown",
   "metadata": {},
   "source": [
    "### Обзор таблиц"
   ]
  },
  {
   "cell_type": "markdown",
   "metadata": {},
   "source": [
    "#### Информация о регионе 1"
   ]
  },
  {
   "cell_type": "code",
   "execution_count": 6,
   "metadata": {},
   "outputs": [
    {
     "name": "stdout",
     "output_type": "stream",
     "text": [
      "<class 'pandas.core.frame.DataFrame'>\n",
      "RangeIndex: 100000 entries, 0 to 99999\n",
      "Data columns (total 5 columns):\n",
      " #   Column   Non-Null Count   Dtype  \n",
      "---  ------   --------------   -----  \n",
      " 0   id       100000 non-null  object \n",
      " 1   f0       100000 non-null  float64\n",
      " 2   f1       100000 non-null  float64\n",
      " 3   f2       100000 non-null  float64\n",
      " 4   product  100000 non-null  float64\n",
      "dtypes: float64(4), object(1)\n",
      "memory usage: 3.8+ MB\n"
     ]
    }
   ],
   "source": [
    "data_region1.info()"
   ]
  },
  {
   "cell_type": "code",
   "execution_count": 7,
   "metadata": {},
   "outputs": [
    {
     "data": {
      "text/html": [
       "<div>\n",
       "<style scoped>\n",
       "    .dataframe tbody tr th:only-of-type {\n",
       "        vertical-align: middle;\n",
       "    }\n",
       "\n",
       "    .dataframe tbody tr th {\n",
       "        vertical-align: top;\n",
       "    }\n",
       "\n",
       "    .dataframe thead th {\n",
       "        text-align: right;\n",
       "    }\n",
       "</style>\n",
       "<table border=\"1\" class=\"dataframe\">\n",
       "  <thead>\n",
       "    <tr style=\"text-align: right;\">\n",
       "      <th></th>\n",
       "      <th>id</th>\n",
       "      <th>f0</th>\n",
       "      <th>f1</th>\n",
       "      <th>f2</th>\n",
       "      <th>product</th>\n",
       "    </tr>\n",
       "  </thead>\n",
       "  <tbody>\n",
       "    <tr>\n",
       "      <th>9206</th>\n",
       "      <td>xa743</td>\n",
       "      <td>-0.841</td>\n",
       "      <td>0.740</td>\n",
       "      <td>5.030</td>\n",
       "      <td>46.173</td>\n",
       "    </tr>\n",
       "    <tr>\n",
       "      <th>92781</th>\n",
       "      <td>PvQtX</td>\n",
       "      <td>1.619</td>\n",
       "      <td>0.019</td>\n",
       "      <td>3.812</td>\n",
       "      <td>68.938</td>\n",
       "    </tr>\n",
       "    <tr>\n",
       "      <th>91724</th>\n",
       "      <td>KLh5b</td>\n",
       "      <td>0.944</td>\n",
       "      <td>0.122</td>\n",
       "      <td>-0.596</td>\n",
       "      <td>41.977</td>\n",
       "    </tr>\n",
       "    <tr>\n",
       "      <th>88077</th>\n",
       "      <td>CQV9B</td>\n",
       "      <td>-0.009</td>\n",
       "      <td>0.998</td>\n",
       "      <td>0.939</td>\n",
       "      <td>39.103</td>\n",
       "    </tr>\n",
       "    <tr>\n",
       "      <th>60618</th>\n",
       "      <td>pABT5</td>\n",
       "      <td>0.795</td>\n",
       "      <td>0.766</td>\n",
       "      <td>2.828</td>\n",
       "      <td>123.158</td>\n",
       "    </tr>\n",
       "  </tbody>\n",
       "</table>\n",
       "</div>"
      ],
      "text/plain": [
       "          id     f0    f1     f2  product\n",
       "9206   xa743 -0.841 0.740  5.030   46.173\n",
       "92781  PvQtX  1.619 0.019  3.812   68.938\n",
       "91724  KLh5b  0.944 0.122 -0.596   41.977\n",
       "88077  CQV9B -0.009 0.998  0.939   39.103\n",
       "60618  pABT5  0.795 0.766  2.828  123.158"
      ]
     },
     "metadata": {},
     "output_type": "display_data"
    }
   ],
   "source": [
    "display(data_region1.sample(5))"
   ]
  },
  {
   "cell_type": "code",
   "execution_count": 8,
   "metadata": {},
   "outputs": [
    {
     "name": "stdout",
     "output_type": "stream",
     "text": [
      "Явных дубликатов: 0\n",
      "Пропусков в данных: 0\n"
     ]
    }
   ],
   "source": [
    "print('Явных дубликатов:',data_region1.duplicated().sum())\n",
    "print('Пропусков в данных:',data_region1.isna().sum().sum())"
   ]
  },
  {
   "cell_type": "code",
   "execution_count": 9,
   "metadata": {},
   "outputs": [
    {
     "data": {
      "text/html": [
       "<div>\n",
       "<style scoped>\n",
       "    .dataframe tbody tr th:only-of-type {\n",
       "        vertical-align: middle;\n",
       "    }\n",
       "\n",
       "    .dataframe tbody tr th {\n",
       "        vertical-align: top;\n",
       "    }\n",
       "\n",
       "    .dataframe thead th {\n",
       "        text-align: right;\n",
       "    }\n",
       "</style>\n",
       "<table border=\"1\" class=\"dataframe\">\n",
       "  <thead>\n",
       "    <tr style=\"text-align: right;\">\n",
       "      <th></th>\n",
       "      <th>f0</th>\n",
       "      <th>f1</th>\n",
       "      <th>f2</th>\n",
       "      <th>product</th>\n",
       "    </tr>\n",
       "  </thead>\n",
       "  <tbody>\n",
       "    <tr>\n",
       "      <th>count</th>\n",
       "      <td>100,000.000</td>\n",
       "      <td>100,000.000</td>\n",
       "      <td>100,000.000</td>\n",
       "      <td>100,000.000</td>\n",
       "    </tr>\n",
       "    <tr>\n",
       "      <th>mean</th>\n",
       "      <td>0.500</td>\n",
       "      <td>0.250</td>\n",
       "      <td>2.503</td>\n",
       "      <td>92.500</td>\n",
       "    </tr>\n",
       "    <tr>\n",
       "      <th>std</th>\n",
       "      <td>0.872</td>\n",
       "      <td>0.504</td>\n",
       "      <td>3.248</td>\n",
       "      <td>44.289</td>\n",
       "    </tr>\n",
       "    <tr>\n",
       "      <th>min</th>\n",
       "      <td>-1.409</td>\n",
       "      <td>-0.848</td>\n",
       "      <td>-12.088</td>\n",
       "      <td>0.000</td>\n",
       "    </tr>\n",
       "    <tr>\n",
       "      <th>25%</th>\n",
       "      <td>-0.073</td>\n",
       "      <td>-0.201</td>\n",
       "      <td>0.288</td>\n",
       "      <td>56.498</td>\n",
       "    </tr>\n",
       "    <tr>\n",
       "      <th>50%</th>\n",
       "      <td>0.502</td>\n",
       "      <td>0.250</td>\n",
       "      <td>2.516</td>\n",
       "      <td>91.850</td>\n",
       "    </tr>\n",
       "    <tr>\n",
       "      <th>75%</th>\n",
       "      <td>1.074</td>\n",
       "      <td>0.701</td>\n",
       "      <td>4.715</td>\n",
       "      <td>128.564</td>\n",
       "    </tr>\n",
       "    <tr>\n",
       "      <th>max</th>\n",
       "      <td>2.362</td>\n",
       "      <td>1.344</td>\n",
       "      <td>16.004</td>\n",
       "      <td>185.364</td>\n",
       "    </tr>\n",
       "  </tbody>\n",
       "</table>\n",
       "</div>"
      ],
      "text/plain": [
       "               f0          f1          f2     product\n",
       "count 100,000.000 100,000.000 100,000.000 100,000.000\n",
       "mean        0.500       0.250       2.503      92.500\n",
       "std         0.872       0.504       3.248      44.289\n",
       "min        -1.409      -0.848     -12.088       0.000\n",
       "25%        -0.073      -0.201       0.288      56.498\n",
       "50%         0.502       0.250       2.516      91.850\n",
       "75%         1.074       0.701       4.715     128.564\n",
       "max         2.362       1.344      16.004     185.364"
      ]
     },
     "execution_count": 9,
     "metadata": {},
     "output_type": "execute_result"
    }
   ],
   "source": [
    "data_region1.describe()"
   ]
  },
  {
   "cell_type": "code",
   "execution_count": 10,
   "metadata": {},
   "outputs": [
    {
     "data": {
      "text/html": [
       "<div>\n",
       "<style scoped>\n",
       "    .dataframe tbody tr th:only-of-type {\n",
       "        vertical-align: middle;\n",
       "    }\n",
       "\n",
       "    .dataframe tbody tr th {\n",
       "        vertical-align: top;\n",
       "    }\n",
       "\n",
       "    .dataframe thead th {\n",
       "        text-align: right;\n",
       "    }\n",
       "</style>\n",
       "<table border=\"1\" class=\"dataframe\">\n",
       "  <thead>\n",
       "    <tr style=\"text-align: right;\">\n",
       "      <th></th>\n",
       "      <th>f0</th>\n",
       "      <th>f1</th>\n",
       "      <th>f2</th>\n",
       "      <th>product</th>\n",
       "    </tr>\n",
       "  </thead>\n",
       "  <tbody>\n",
       "    <tr>\n",
       "      <th>f0</th>\n",
       "      <td>1.000</td>\n",
       "      <td>-0.441</td>\n",
       "      <td>-0.003</td>\n",
       "      <td>0.144</td>\n",
       "    </tr>\n",
       "    <tr>\n",
       "      <th>f1</th>\n",
       "      <td>-0.441</td>\n",
       "      <td>1.000</td>\n",
       "      <td>0.002</td>\n",
       "      <td>-0.192</td>\n",
       "    </tr>\n",
       "    <tr>\n",
       "      <th>f2</th>\n",
       "      <td>-0.003</td>\n",
       "      <td>0.002</td>\n",
       "      <td>1.000</td>\n",
       "      <td>0.484</td>\n",
       "    </tr>\n",
       "    <tr>\n",
       "      <th>product</th>\n",
       "      <td>0.144</td>\n",
       "      <td>-0.192</td>\n",
       "      <td>0.484</td>\n",
       "      <td>1.000</td>\n",
       "    </tr>\n",
       "  </tbody>\n",
       "</table>\n",
       "</div>"
      ],
      "text/plain": [
       "            f0     f1     f2  product\n",
       "f0       1.000 -0.441 -0.003    0.144\n",
       "f1      -0.441  1.000  0.002   -0.192\n",
       "f2      -0.003  0.002  1.000    0.484\n",
       "product  0.144 -0.192  0.484    1.000"
      ]
     },
     "metadata": {},
     "output_type": "display_data"
    },
    {
     "data": {
      "image/png": "[encoded data removed]",
      "text/plain": [
       "<Figure size 720x576 with 2 Axes>"
      ]
     },
     "metadata": {
      "needs_background": "light"
     },
     "output_type": "display_data"
    }
   ],
   "source": [
    "corr_matrix = data_region1.corr()\n",
    "display(corr_matrix)\n",
    "plt.figure(figsize=(10, 8))\n",
    "sns.heatmap(corr_matrix, annot=True, cmap='coolwarm')\n",
    "plt.title('Матрица корреляции для региона 1')\n",
    "plt.show()"
   ]
  },
  {
   "cell_type": "code",
   "execution_count": 11,
   "metadata": {},
   "outputs": [
    {
     "data": {
      "text/plain": [
       "array([[<AxesSubplot:title={'center':'f0'}>,\n",
       "        <AxesSubplot:title={'center':'f1'}>],\n",
       "       [<AxesSubplot:title={'center':'f2'}>,\n",
       "        <AxesSubplot:title={'center':'product'}>]], dtype=object)"
      ]
     },
     "execution_count": 11,
     "metadata": {},
     "output_type": "execute_result"
    },
    {
     "data": {
      "image/png": "[encoded data removed]",
      "text/plain": [
       "<Figure size 1080x864 with 4 Axes>"
      ]
     },
     "metadata": {
      "needs_background": "light"
     },
     "output_type": "display_data"
    }
   ],
   "source": [
    "data_region1.hist(figsize=(15, 12), color='skyblue', bins=25)"
   ]
  },
  {
   "cell_type": "markdown",
   "metadata": {},
   "source": [
    "#### Иноформация о регионе 2"
   ]
  },
  {
   "cell_type": "code",
   "execution_count": 12,
   "metadata": {},
   "outputs": [
    {
     "data": {
      "text/html": [
       "<div>\n",
       "<style scoped>\n",
       "    .dataframe tbody tr th:only-of-type {\n",
       "        vertical-align: middle;\n",
       "    }\n",
       "\n",
       "    .dataframe tbody tr th {\n",
       "        vertical-align: top;\n",
       "    }\n",
       "\n",
       "    .dataframe thead th {\n",
       "        text-align: right;\n",
       "    }\n",
       "</style>\n",
       "<table border=\"1\" class=\"dataframe\">\n",
       "  <thead>\n",
       "    <tr style=\"text-align: right;\">\n",
       "      <th></th>\n",
       "      <th>id</th>\n",
       "      <th>f0</th>\n",
       "      <th>f1</th>\n",
       "      <th>f2</th>\n",
       "      <th>product</th>\n",
       "    </tr>\n",
       "  </thead>\n",
       "  <tbody>\n",
       "    <tr>\n",
       "      <th>1118</th>\n",
       "      <td>wvt56</td>\n",
       "      <td>-5.659</td>\n",
       "      <td>5.297</td>\n",
       "      <td>0.999</td>\n",
       "      <td>30.132</td>\n",
       "    </tr>\n",
       "    <tr>\n",
       "      <th>17724</th>\n",
       "      <td>UexNF</td>\n",
       "      <td>-12.518</td>\n",
       "      <td>-8.934</td>\n",
       "      <td>1.996</td>\n",
       "      <td>57.086</td>\n",
       "    </tr>\n",
       "    <tr>\n",
       "      <th>55610</th>\n",
       "      <td>lY9NR</td>\n",
       "      <td>-3.418</td>\n",
       "      <td>2.237</td>\n",
       "      <td>2.006</td>\n",
       "      <td>57.086</td>\n",
       "    </tr>\n",
       "    <tr>\n",
       "      <th>51790</th>\n",
       "      <td>B76t1</td>\n",
       "      <td>-8.766</td>\n",
       "      <td>-12.237</td>\n",
       "      <td>-0.013</td>\n",
       "      <td>3.179</td>\n",
       "    </tr>\n",
       "    <tr>\n",
       "      <th>94802</th>\n",
       "      <td>3Jfcz</td>\n",
       "      <td>10.575</td>\n",
       "      <td>-6.119</td>\n",
       "      <td>3.996</td>\n",
       "      <td>107.813</td>\n",
       "    </tr>\n",
       "  </tbody>\n",
       "</table>\n",
       "</div>"
      ],
      "text/plain": [
       "          id      f0      f1     f2  product\n",
       "1118   wvt56  -5.659   5.297  0.999   30.132\n",
       "17724  UexNF -12.518  -8.934  1.996   57.086\n",
       "55610  lY9NR  -3.418   2.237  2.006   57.086\n",
       "51790  B76t1  -8.766 -12.237 -0.013    3.179\n",
       "94802  3Jfcz  10.575  -6.119  3.996  107.813"
      ]
     },
     "metadata": {},
     "output_type": "display_data"
    }
   ],
   "source": [
    "display(data_region2.sample(5))"
   ]
  },
  {
   "cell_type": "code",
   "execution_count": 13,
   "metadata": {},
   "outputs": [
    {
     "name": "stdout",
     "output_type": "stream",
     "text": [
      "Явных дубликатов: 0\n",
      "Пропусков в данных: 0\n"
     ]
    }
   ],
   "source": [
    "print('Явных дубликатов:',data_region2.duplicated().sum())\n",
    "print('Пропусков в данных:',data_region2.isna().sum().sum())"
   ]
  },
  {
   "cell_type": "code",
   "execution_count": 14,
   "metadata": {},
   "outputs": [
    {
     "data": {
      "text/html": [
       "<div>\n",
       "<style scoped>\n",
       "    .dataframe tbody tr th:only-of-type {\n",
       "        vertical-align: middle;\n",
       "    }\n",
       "\n",
       "    .dataframe tbody tr th {\n",
       "        vertical-align: top;\n",
       "    }\n",
       "\n",
       "    .dataframe thead th {\n",
       "        text-align: right;\n",
       "    }\n",
       "</style>\n",
       "<table border=\"1\" class=\"dataframe\">\n",
       "  <thead>\n",
       "    <tr style=\"text-align: right;\">\n",
       "      <th></th>\n",
       "      <th>f0</th>\n",
       "      <th>f1</th>\n",
       "      <th>f2</th>\n",
       "      <th>product</th>\n",
       "    </tr>\n",
       "  </thead>\n",
       "  <tbody>\n",
       "    <tr>\n",
       "      <th>count</th>\n",
       "      <td>100,000.000</td>\n",
       "      <td>100,000.000</td>\n",
       "      <td>100,000.000</td>\n",
       "      <td>100,000.000</td>\n",
       "    </tr>\n",
       "    <tr>\n",
       "      <th>mean</th>\n",
       "      <td>1.141</td>\n",
       "      <td>-4.797</td>\n",
       "      <td>2.495</td>\n",
       "      <td>68.825</td>\n",
       "    </tr>\n",
       "    <tr>\n",
       "      <th>std</th>\n",
       "      <td>8.966</td>\n",
       "      <td>5.120</td>\n",
       "      <td>1.704</td>\n",
       "      <td>45.944</td>\n",
       "    </tr>\n",
       "    <tr>\n",
       "      <th>min</th>\n",
       "      <td>-31.610</td>\n",
       "      <td>-26.359</td>\n",
       "      <td>-0.018</td>\n",
       "      <td>0.000</td>\n",
       "    </tr>\n",
       "    <tr>\n",
       "      <th>25%</th>\n",
       "      <td>-6.299</td>\n",
       "      <td>-8.268</td>\n",
       "      <td>1.000</td>\n",
       "      <td>26.953</td>\n",
       "    </tr>\n",
       "    <tr>\n",
       "      <th>50%</th>\n",
       "      <td>1.153</td>\n",
       "      <td>-4.813</td>\n",
       "      <td>2.011</td>\n",
       "      <td>57.086</td>\n",
       "    </tr>\n",
       "    <tr>\n",
       "      <th>75%</th>\n",
       "      <td>8.621</td>\n",
       "      <td>-1.333</td>\n",
       "      <td>4.000</td>\n",
       "      <td>107.813</td>\n",
       "    </tr>\n",
       "    <tr>\n",
       "      <th>max</th>\n",
       "      <td>29.422</td>\n",
       "      <td>18.734</td>\n",
       "      <td>5.020</td>\n",
       "      <td>137.945</td>\n",
       "    </tr>\n",
       "  </tbody>\n",
       "</table>\n",
       "</div>"
      ],
      "text/plain": [
       "               f0          f1          f2     product\n",
       "count 100,000.000 100,000.000 100,000.000 100,000.000\n",
       "mean        1.141      -4.797       2.495      68.825\n",
       "std         8.966       5.120       1.704      45.944\n",
       "min       -31.610     -26.359      -0.018       0.000\n",
       "25%        -6.299      -8.268       1.000      26.953\n",
       "50%         1.153      -4.813       2.011      57.086\n",
       "75%         8.621      -1.333       4.000     107.813\n",
       "max        29.422      18.734       5.020     137.945"
      ]
     },
     "execution_count": 14,
     "metadata": {},
     "output_type": "execute_result"
    }
   ],
   "source": [
    "data_region2.describe()"
   ]
  },
  {
   "cell_type": "code",
   "execution_count": 15,
   "metadata": {},
   "outputs": [
    {
     "data": {
      "text/html": [
       "<div>\n",
       "<style scoped>\n",
       "    .dataframe tbody tr th:only-of-type {\n",
       "        vertical-align: middle;\n",
       "    }\n",
       "\n",
       "    .dataframe tbody tr th {\n",
       "        vertical-align: top;\n",
       "    }\n",
       "\n",
       "    .dataframe thead th {\n",
       "        text-align: right;\n",
       "    }\n",
       "</style>\n",
       "<table border=\"1\" class=\"dataframe\">\n",
       "  <thead>\n",
       "    <tr style=\"text-align: right;\">\n",
       "      <th></th>\n",
       "      <th>f0</th>\n",
       "      <th>f1</th>\n",
       "      <th>f2</th>\n",
       "      <th>product</th>\n",
       "    </tr>\n",
       "  </thead>\n",
       "  <tbody>\n",
       "    <tr>\n",
       "      <th>f0</th>\n",
       "      <td>1.000</td>\n",
       "      <td>0.182</td>\n",
       "      <td>-0.002</td>\n",
       "      <td>-0.030</td>\n",
       "    </tr>\n",
       "    <tr>\n",
       "      <th>f1</th>\n",
       "      <td>0.182</td>\n",
       "      <td>1.000</td>\n",
       "      <td>-0.003</td>\n",
       "      <td>-0.010</td>\n",
       "    </tr>\n",
       "    <tr>\n",
       "      <th>f2</th>\n",
       "      <td>-0.002</td>\n",
       "      <td>-0.003</td>\n",
       "      <td>1.000</td>\n",
       "      <td>0.999</td>\n",
       "    </tr>\n",
       "    <tr>\n",
       "      <th>product</th>\n",
       "      <td>-0.030</td>\n",
       "      <td>-0.010</td>\n",
       "      <td>0.999</td>\n",
       "      <td>1.000</td>\n",
       "    </tr>\n",
       "  </tbody>\n",
       "</table>\n",
       "</div>"
      ],
      "text/plain": [
       "            f0     f1     f2  product\n",
       "f0       1.000  0.182 -0.002   -0.030\n",
       "f1       0.182  1.000 -0.003   -0.010\n",
       "f2      -0.002 -0.003  1.000    0.999\n",
       "product -0.030 -0.010  0.999    1.000"
      ]
     },
     "metadata": {},
     "output_type": "display_data"
    },
    {
     "data": {
      "image/png": "[encoded data removed]",
      "text/plain": [
       "<Figure size 720x576 with 2 Axes>"
      ]
     },
     "metadata": {
      "needs_background": "light"
     },
     "output_type": "display_data"
    }
   ],
   "source": [
    "corr_matrix = data_region2.corr()\n",
    "display(corr_matrix)\n",
    "plt.figure(figsize=(10, 8))\n",
    "sns.heatmap(corr_matrix, annot=True, cmap='coolwarm')\n",
    "plt.title('Матрица корреляции для региона 1')\n",
    "plt.show()"
   ]
  },
  {
   "cell_type": "code",
   "execution_count": 16,
   "metadata": {},
   "outputs": [
    {
     "data": {
      "text/plain": [
       "array([[<AxesSubplot:title={'center':'f0'}>,\n",
       "        <AxesSubplot:title={'center':'f1'}>],\n",
       "       [<AxesSubplot:title={'center':'f2'}>,\n",
       "        <AxesSubplot:title={'center':'product'}>]], dtype=object)"
      ]
     },
     "execution_count": 16,
     "metadata": {},
     "output_type": "execute_result"
    },
    {
     "data": {
      "image/png": "[encoded data removed]",
      "text/plain": [
       "<Figure size 1080x864 with 4 Axes>"
      ]
     },
     "metadata": {
      "needs_background": "light"
     },
     "output_type": "display_data"
    }
   ],
   "source": [
    "data_region2.hist(figsize=(15, 12), color='skyblue', bins=25)"
   ]
  },
  {
   "cell_type": "markdown",
   "metadata": {},
   "source": [
    "#### Информация о регионе 3"
   ]
  },
  {
   "cell_type": "code",
   "execution_count": 17,
   "metadata": {},
   "outputs": [
    {
     "data": {
      "text/html": [
       "<div>\n",
       "<style scoped>\n",
       "    .dataframe tbody tr th:only-of-type {\n",
       "        vertical-align: middle;\n",
       "    }\n",
       "\n",
       "    .dataframe tbody tr th {\n",
       "        vertical-align: top;\n",
       "    }\n",
       "\n",
       "    .dataframe thead th {\n",
       "        text-align: right;\n",
       "    }\n",
       "</style>\n",
       "<table border=\"1\" class=\"dataframe\">\n",
       "  <thead>\n",
       "    <tr style=\"text-align: right;\">\n",
       "      <th></th>\n",
       "      <th>id</th>\n",
       "      <th>f0</th>\n",
       "      <th>f1</th>\n",
       "      <th>f2</th>\n",
       "      <th>product</th>\n",
       "    </tr>\n",
       "  </thead>\n",
       "  <tbody>\n",
       "    <tr>\n",
       "      <th>15437</th>\n",
       "      <td>UmD0b</td>\n",
       "      <td>-3.816</td>\n",
       "      <td>-0.687</td>\n",
       "      <td>2.884</td>\n",
       "      <td>89.899</td>\n",
       "    </tr>\n",
       "    <tr>\n",
       "      <th>48746</th>\n",
       "      <td>2A5a5</td>\n",
       "      <td>1.489</td>\n",
       "      <td>0.352</td>\n",
       "      <td>4.027</td>\n",
       "      <td>79.946</td>\n",
       "    </tr>\n",
       "    <tr>\n",
       "      <th>32993</th>\n",
       "      <td>Ip022</td>\n",
       "      <td>0.243</td>\n",
       "      <td>-1.250</td>\n",
       "      <td>4.882</td>\n",
       "      <td>134.273</td>\n",
       "    </tr>\n",
       "    <tr>\n",
       "      <th>85064</th>\n",
       "      <td>CYeTG</td>\n",
       "      <td>-0.964</td>\n",
       "      <td>0.259</td>\n",
       "      <td>1.613</td>\n",
       "      <td>41.488</td>\n",
       "    </tr>\n",
       "    <tr>\n",
       "      <th>88608</th>\n",
       "      <td>0Drk8</td>\n",
       "      <td>-2.129</td>\n",
       "      <td>-1.827</td>\n",
       "      <td>-0.485</td>\n",
       "      <td>56.067</td>\n",
       "    </tr>\n",
       "  </tbody>\n",
       "</table>\n",
       "</div>"
      ],
      "text/plain": [
       "          id     f0     f1     f2  product\n",
       "15437  UmD0b -3.816 -0.687  2.884   89.899\n",
       "48746  2A5a5  1.489  0.352  4.027   79.946\n",
       "32993  Ip022  0.243 -1.250  4.882  134.273\n",
       "85064  CYeTG -0.964  0.259  1.613   41.488\n",
       "88608  0Drk8 -2.129 -1.827 -0.485   56.067"
      ]
     },
     "metadata": {},
     "output_type": "display_data"
    }
   ],
   "source": [
    "display(data_region3.sample(5))"
   ]
  },
  {
   "cell_type": "code",
   "execution_count": 18,
   "metadata": {},
   "outputs": [
    {
     "name": "stdout",
     "output_type": "stream",
     "text": [
      "Явных дубликатов: 0\n",
      "Пропусков в данных: 0\n"
     ]
    }
   ],
   "source": [
    "print('Явных дубликатов:',data_region3.duplicated().sum())\n",
    "print('Пропусков в данных:',data_region3.isna().sum().sum())"
   ]
  },
  {
   "cell_type": "code",
   "execution_count": 19,
   "metadata": {},
   "outputs": [
    {
     "data": {
      "text/html": [
       "<div>\n",
       "<style scoped>\n",
       "    .dataframe tbody tr th:only-of-type {\n",
       "        vertical-align: middle;\n",
       "    }\n",
       "\n",
       "    .dataframe tbody tr th {\n",
       "        vertical-align: top;\n",
       "    }\n",
       "\n",
       "    .dataframe thead th {\n",
       "        text-align: right;\n",
       "    }\n",
       "</style>\n",
       "<table border=\"1\" class=\"dataframe\">\n",
       "  <thead>\n",
       "    <tr style=\"text-align: right;\">\n",
       "      <th></th>\n",
       "      <th>f0</th>\n",
       "      <th>f1</th>\n",
       "      <th>f2</th>\n",
       "      <th>product</th>\n",
       "    </tr>\n",
       "  </thead>\n",
       "  <tbody>\n",
       "    <tr>\n",
       "      <th>count</th>\n",
       "      <td>100,000.000</td>\n",
       "      <td>100,000.000</td>\n",
       "      <td>100,000.000</td>\n",
       "      <td>100,000.000</td>\n",
       "    </tr>\n",
       "    <tr>\n",
       "      <th>mean</th>\n",
       "      <td>0.002</td>\n",
       "      <td>-0.002</td>\n",
       "      <td>2.495</td>\n",
       "      <td>95.000</td>\n",
       "    </tr>\n",
       "    <tr>\n",
       "      <th>std</th>\n",
       "      <td>1.732</td>\n",
       "      <td>1.730</td>\n",
       "      <td>3.473</td>\n",
       "      <td>44.750</td>\n",
       "    </tr>\n",
       "    <tr>\n",
       "      <th>min</th>\n",
       "      <td>-8.760</td>\n",
       "      <td>-7.084</td>\n",
       "      <td>-11.970</td>\n",
       "      <td>0.000</td>\n",
       "    </tr>\n",
       "    <tr>\n",
       "      <th>25%</th>\n",
       "      <td>-1.162</td>\n",
       "      <td>-1.175</td>\n",
       "      <td>0.130</td>\n",
       "      <td>59.450</td>\n",
       "    </tr>\n",
       "    <tr>\n",
       "      <th>50%</th>\n",
       "      <td>0.009</td>\n",
       "      <td>-0.009</td>\n",
       "      <td>2.484</td>\n",
       "      <td>94.926</td>\n",
       "    </tr>\n",
       "    <tr>\n",
       "      <th>75%</th>\n",
       "      <td>1.159</td>\n",
       "      <td>1.164</td>\n",
       "      <td>4.859</td>\n",
       "      <td>130.595</td>\n",
       "    </tr>\n",
       "    <tr>\n",
       "      <th>max</th>\n",
       "      <td>7.238</td>\n",
       "      <td>7.845</td>\n",
       "      <td>16.739</td>\n",
       "      <td>190.030</td>\n",
       "    </tr>\n",
       "  </tbody>\n",
       "</table>\n",
       "</div>"
      ],
      "text/plain": [
       "               f0          f1          f2     product\n",
       "count 100,000.000 100,000.000 100,000.000 100,000.000\n",
       "mean        0.002      -0.002       2.495      95.000\n",
       "std         1.732       1.730       3.473      44.750\n",
       "min        -8.760      -7.084     -11.970       0.000\n",
       "25%        -1.162      -1.175       0.130      59.450\n",
       "50%         0.009      -0.009       2.484      94.926\n",
       "75%         1.159       1.164       4.859     130.595\n",
       "max         7.238       7.845      16.739     190.030"
      ]
     },
     "execution_count": 19,
     "metadata": {},
     "output_type": "execute_result"
    }
   ],
   "source": [
    "data_region3.describe()"
   ]
  },
  {
   "cell_type": "code",
   "execution_count": 20,
   "metadata": {},
   "outputs": [
    {
     "data": {
      "text/html": [
       "<div>\n",
       "<style scoped>\n",
       "    .dataframe tbody tr th:only-of-type {\n",
       "        vertical-align: middle;\n",
       "    }\n",
       "\n",
       "    .dataframe tbody tr th {\n",
       "        vertical-align: top;\n",
       "    }\n",
       "\n",
       "    .dataframe thead th {\n",
       "        text-align: right;\n",
       "    }\n",
       "</style>\n",
       "<table border=\"1\" class=\"dataframe\">\n",
       "  <thead>\n",
       "    <tr style=\"text-align: right;\">\n",
       "      <th></th>\n",
       "      <th>f0</th>\n",
       "      <th>f1</th>\n",
       "      <th>f2</th>\n",
       "      <th>product</th>\n",
       "    </tr>\n",
       "  </thead>\n",
       "  <tbody>\n",
       "    <tr>\n",
       "      <th>f0</th>\n",
       "      <td>1.000</td>\n",
       "      <td>0.001</td>\n",
       "      <td>-0.000</td>\n",
       "      <td>-0.002</td>\n",
       "    </tr>\n",
       "    <tr>\n",
       "      <th>f1</th>\n",
       "      <td>0.001</td>\n",
       "      <td>1.000</td>\n",
       "      <td>0.001</td>\n",
       "      <td>-0.001</td>\n",
       "    </tr>\n",
       "    <tr>\n",
       "      <th>f2</th>\n",
       "      <td>-0.000</td>\n",
       "      <td>0.001</td>\n",
       "      <td>1.000</td>\n",
       "      <td>0.446</td>\n",
       "    </tr>\n",
       "    <tr>\n",
       "      <th>product</th>\n",
       "      <td>-0.002</td>\n",
       "      <td>-0.001</td>\n",
       "      <td>0.446</td>\n",
       "      <td>1.000</td>\n",
       "    </tr>\n",
       "  </tbody>\n",
       "</table>\n",
       "</div>"
      ],
      "text/plain": [
       "            f0     f1     f2  product\n",
       "f0       1.000  0.001 -0.000   -0.002\n",
       "f1       0.001  1.000  0.001   -0.001\n",
       "f2      -0.000  0.001  1.000    0.446\n",
       "product -0.002 -0.001  0.446    1.000"
      ]
     },
     "metadata": {},
     "output_type": "display_data"
    },
    {
     "data": {
      "image/png": "[encoded data removed]",
      "text/plain": [
       "<Figure size 720x576 with 2 Axes>"
      ]
     },
     "metadata": {
      "needs_background": "light"
     },
     "output_type": "display_data"
    }
   ],
   "source": [
    "corr_matrix = data_region3.corr()\n",
    "display(corr_matrix)\n",
    "plt.figure(figsize=(10, 8))\n",
    "sns.heatmap(corr_matrix, annot=True, cmap='coolwarm')\n",
    "plt.title('Матрица корреляции для региона 1')\n",
    "plt.show()"
   ]
  },
  {
   "cell_type": "code",
   "execution_count": 21,
   "metadata": {},
   "outputs": [
    {
     "data": {
      "text/plain": [
       "array([[<AxesSubplot:title={'center':'f0'}>,\n",
       "        <AxesSubplot:title={'center':'f1'}>],\n",
       "       [<AxesSubplot:title={'center':'f2'}>,\n",
       "        <AxesSubplot:title={'center':'product'}>]], dtype=object)"
      ]
     },
     "execution_count": 21,
     "metadata": {},
     "output_type": "execute_result"
    },
    {
     "data": {
      "image/png": "[encoded data removed]",
      "text/plain": [
       "<Figure size 1080x864 with 4 Axes>"
      ]
     },
     "metadata": {
      "needs_background": "light"
     },
     "output_type": "display_data"
    }
   ],
   "source": [
    "data_region3.hist(figsize=(15, 12), color='skyblue', bins=25)"
   ]
  },
  {
   "cell_type": "markdown",
   "metadata": {},
   "source": [
    "#### Сравним все регионы"
   ]
  },
  {
   "cell_type": "code",
   "execution_count": 22,
   "metadata": {},
   "outputs": [
    {
     "data": {
      "image/png": "[encoded data removed]",
      "text/plain": [
       "<Figure size 864x432 with 1 Axes>"
      ]
     },
     "metadata": {
      "needs_background": "light"
     },
     "output_type": "display_data"
    }
   ],
   "source": [
    "# Создайте данные для группированных столбчатых диаграмм\n",
    "data = [data_region1['product'], data_region2['product'], data_region3['product']]\n",
    "labels = ['Регион 1', 'Регион 2', 'Регион 3']\n",
    "positions = np.arange(len(labels))\n",
    "\n",
    "# Постройте группированные столбчатые диаграммы\n",
    "plt.figure(figsize=(12, 6))\n",
    "plt.bar(positions, [np.mean(d) for d in data], yerr=[np.std(d) for d in data], align='center', alpha=0.7, capsize=10)\n",
    "plt.xticks(positions, labels)\n",
    "plt.title('Средний объём запасов в скважине по регионам')\n",
    "plt.xlabel('Регион')\n",
    "plt.ylabel('Средний объём запасов (тыс. баррелей)')\n",
    "plt.grid(True)\n",
    "plt.show()"
   ]
  },
  {
   "cell_type": "markdown",
   "metadata": {},
   "source": [
    "* Средний объем запасов похож у всех трех регионов, где столбцы достигают примерно одинаковой высоты. Это указывает на то, что в среднем запасы в скважинах по регионам схожи.\n",
    "\n",
    "* Интервалы ошибок различаются по регионам. Регион 1 и Регион 3 имеют более широкие интервалы ошибок, что указывает на большую вариабельность в данных по сравнению с Регионом 2, где интервал ошибок меньше.\n",
    "\n",
    "* Меньший интервал ошибок в Регионе 2 может свидетельствовать о более стабильных или однородных данных по объему запасов, тогда как более широкие интервалы в Регионах 1 и 3 могут отражать более высокую неопределенность в оценках запасов.\n",
    "\n",
    "* Для лиц, принимающих решения, данные с большей вариабельностью могут подразумевать больший риск при планировании добычи. Таким образом, Регион 2 может быть предпочтительнее для инвестиций, если стабильность оценок является приоритетом."
   ]
  },
  {
   "cell_type": "code",
   "execution_count": 23,
   "metadata": {},
   "outputs": [
    {
     "name": "stdout",
     "output_type": "stream",
     "text": [
      "Разброс данных в регионе 1 (дисперсия): 1961.47\n",
      "Разброс данных в регионе 2 (дисперсия): 2110.87\n",
      "Разброс данных в регионе 3 (дисперсия): 2002.54\n"
     ]
    }
   ],
   "source": [
    "variance1 = np.var(data_region1['product'])\n",
    "variance2 = np.var(data_region2['product'])\n",
    "variance3 = np.var(data_region3)['product']\n",
    "\n",
    "# Выведите информацию о разбросе данных для каждого региона\n",
    "print(f\"Разброс данных в регионе 1 (дисперсия): {variance1:.2f}\")\n",
    "print(f\"Разброс данных в регионе 2 (дисперсия): {variance2:.2f}\")\n",
    "print(f\"Разброс данных в регионе 3 (дисперсия): {variance3:.2f}\")"
   ]
  },
  {
   "cell_type": "code",
   "execution_count": 24,
   "metadata": {},
   "outputs": [
    {
     "data": {
      "image/png": "[encoded data removed]",
      "text/plain": [
       "<Figure size 1080x360 with 3 Axes>"
      ]
     },
     "metadata": {
      "needs_background": "light"
     },
     "output_type": "display_data"
    }
   ],
   "source": [
    "def plot_histogram(data, feature, region):\n",
    "    plt.hist(data[feature], bins=10, alpha=0.5, label=f'Region {region}')\n",
    "    plt.xlabel(feature)\n",
    "    plt.ylabel('Frequency')\n",
    "    plt.legend()\n",
    "\n",
    "# Постройте гистограммы для каждого признака и каждого региона\n",
    "plt.figure(figsize=(15, 5))\n",
    "\n",
    "for feature in ['f0', 'f1', 'f2']:\n",
    "    plt.subplot(1, 3, 1)\n",
    "    plot_histogram(data_region1[['f0','f1','f2']], feature, 1)\n",
    "    \n",
    "    plt.subplot(1, 3, 2)\n",
    "    plot_histogram(data_region2[['f0','f1','f2']], feature, 2)\n",
    "    \n",
    "    plt.subplot(1, 3, 3)\n",
    "    plot_histogram(data_region3[['f0','f1','f2']], feature, 3)\n",
    "\n",
    "plt.tight_layout()\n",
    "plt.show()"
   ]
  },
  {
   "cell_type": "markdown",
   "metadata": {},
   "source": [
    "#### Выводы:\n",
    "* **Признак f0**: В регионе 1 распределение кажется нормальным с центром вокруг значения 0.\n",
    "* **Признак f1**: Распределение в регионах 1 и 2 перекрывается, но в регионе 2 есть значения, которые расширяются далеко в отрицательную область, вплоть до -30. Это может указывать на более широкий диапазон или большую вариабельность признака f1 в регионе 2 по сравнению с регионом 1.\n",
    "* **Признак f2**: В регионе 3 распределение также кажется близким к нормальному, схожему с распределением f0 в регионе 1, но центр распределения находится правее, что может означать, что средние значения признака f2 в регионе 3 выше.\n",
    "* **Регион 1** имеет более узкие и высокие гистограммы для f0 и f2, что может означать меньшую стандартную девиацию и, следовательно, меньшую вариабельность измерений в этом регионе.\n",
    "* **Регион 2** демонстрирует значительно более широкое распределение для f1, что может указывать на то, что признак f1 имеет более сложную структуру или более выраженные отличия в этом регионе.\n",
    "* **Регион 3** похож на регион 1 по своим характеристикам распределения f2, но имеет свои отличия, такие как более широкий диапазон значений.\n",
    "* Гистограммы могут указывать на уникальные условия или характеристики каждого региона."
   ]
  },
  {
   "cell_type": "markdown",
   "metadata": {},
   "source": [
    "* Информация успешно загружена и готова к использованию без необходимости дополнительных шагов предварительной обработки.\n",
    "* У нас теперь есть наглядное графическое отображение, которое демонстрирует, как распределены данные о запасах ресурсов в различных регионах.\n",
    "* График ясно демонстрирует уникальную форму рспределения запасов в скважинах региона 1, 2 и 3, и мы в дальнейшем исследуем, как это может повлиять на анализ доходности их разработки. \n",
    "* Также стоит упомянуть, что основываясь на корреляционном анализе данных региона 2, мы наблюдаем тесную связь между признаком f0 и ключевым показателем 'profit'. Эта связь может способствовать повышению точности нашей прогностической модели."
   ]
  },
  {
   "cell_type": "markdown",
   "metadata": {},
   "source": [
    "## Обучение и проверка модели"
   ]
  },
  {
   "cell_type": "markdown",
   "metadata": {},
   "source": [
    "* Для построения модели избавимся от столбца `id` - он будет плохо сказываться на результатах построения модели"
   ]
  },
  {
   "cell_type": "code",
   "execution_count": 25,
   "metadata": {},
   "outputs": [
    {
     "name": "stdout",
     "output_type": "stream",
     "text": [
      "Region 1: Mean predicted product - 92.5925677844, RMSE - 37.5794217151\n",
      "Region 2: Mean predicted product - 68.7285468954, RMSE - 0.8930992868\n",
      "Region 3: Mean predicted product - 94.9650459680, RMSE - 40.0297087339\n"
     ]
    }
   ],
   "source": [
    "def train_and_evaluate(data):\n",
    "    # Отбрасываем столбец Id и разделяем на признаки и цель\n",
    "    X = data.drop(['id', 'product'], axis=1)\n",
    "    y = data['product']\n",
    "    \n",
    "    # Разделяем данные на обучающую и валидационную выборки\n",
    "    X_train, X_valid, y_train, y_valid = train_test_split(X, y, test_size=0.25, random_state=12345)\n",
    "    \n",
    "    # Обучаем модель линейной регрессии\n",
    "    model = LinearRegression()\n",
    "    model.fit(X_train, y_train)\n",
    "    \n",
    "    # Делаем предсказания на валидационной выборке\n",
    "    predictions = model.predict(X_valid)\n",
    "    \n",
    "    # Расчет среднего запаса предсказанного сырья и RMSE\n",
    "    mean_predicted_product = predictions.mean()\n",
    "    rmse = np.sqrt(mean_squared_error(y_valid, predictions))\n",
    "    \n",
    "    return predictions, y_valid.values, mean_predicted_product, rmse\n",
    "\n",
    "# Применяем функцию для каждого региона\n",
    "predictions1, actuals1, mean_product1, rmse1 = train_and_evaluate(data_region1)\n",
    "predictions2, actuals2, mean_product2, rmse2 = train_and_evaluate(data_region2)\n",
    "predictions3, actuals3, mean_product3, rmse3 = train_and_evaluate(data_region3)\n",
    "\n",
    "# Выводим средний запас предсказанного сырья и RMSE для каждого региона\n",
    "print(f\"Region 1: Mean predicted product - {mean_product1:.10f}, RMSE - {rmse1:.10f}\")\n",
    "print(f\"Region 2: Mean predicted product - {mean_product2:.10f}, RMSE - {rmse2:.10f}\")\n",
    "print(f\"Region 3: Mean predicted product - {mean_product3:.10f}, RMSE - {rmse3:.10f}\")"
   ]
  },
  {
   "cell_type": "markdown",
   "metadata": {},
   "source": [
    "### Выводы \n",
    "Регион 2 имеет самую низкую ошибку прогноза (RMSE): значение RMSE для региона 2 значительно ниже, чем для других регионов, что указывает на то, что модель линейной регрессии очень точно предсказывает объем запасов в скважинах для этого региона. Это может говорить о том, что данные для региона 2 имеют более линейные зависимости или меньшую волатильность, что лучше подходит для моделирования линейной регрессией.\n",
    "\n",
    "Регион 1 и Регион 3 имеют сопоставимые средние предсказанные значения, но RMSE значительно выше, чем у Региона 2. Это означает, что модель линейной регрессии дает менее точные прогнозы для этих регионов, что может быть связано с более сложными нелинейными зависимостями в данных, высоким уровнем шума, или возможно, с наличием выбросов в данных.\n",
    "\n",
    "Различия в средних запасах сырья: средние предсказанные запасы сырья в регионах 1 и 3 выше, чем в регионе 2. Это может означать, что, несмотря на высокую точность модели в регионе 2, общие запасы сырья могут быть ниже, чем в регионах 1 и 3.\n",
    "\n",
    "Потенциальная пригодность моделей для принятия решений: если решение о разработке скважин будет приниматься исключительно на основе предсказаний модели, регион 2 выглядит предпочтительнее из-за более высокой точности модели. Однако, необходимо также учитывать другие факторы, такие как стоимость бурения, логистика и другие экономические показатели.\n",
    "\n",
    "Возможность улучшения моделей: для регионов 1 и 3 можно рассмотреть возможность улучшения предсказательной способности модели, например, с помощью более сложных методов машинного обучения, которые могут уловить нелинейные зависимости в данных."
   ]
  },
  {
   "cell_type": "markdown",
   "metadata": {},
   "source": [
    "## Подготовка к расчёту прибыли"
   ]
  },
  {
   "cell_type": "markdown",
   "metadata": {},
   "source": [
    "* При разведке региона исследуют 500 точек, из которых с помощью машинного обучения выбирают 200 лучших для разработки.\n",
    "* Бюджет на разработку скважин в регионе — 10 млрд рублей.\n",
    "* При нынешних ценах один баррель сырья приносит 450 рублей дохода. Доход с каждой единицы продукта составляет 450 тыс. рублей, поскольку объём указан в тысячах баррелей."
   ]
  },
  {
   "cell_type": "code",
   "execution_count": 26,
   "metadata": {},
   "outputs": [],
   "source": [
    "def total_reserve(predictions, top_well_count):\n",
    "    # Сортируем предсказания и берем индексы для top_well_count лучших скважин\n",
    "    top_indices = np.argsort(predictions)[-top_well_count:]\n",
    "    # Суммируем запасы в лучших скважинах\n",
    "    total = predictions[top_indices].sum()\n",
    "    return total\n",
    "\n",
    "# Рассчитываем суммарный запас для каждого региона\n",
    "total_reserve_region1 = total_reserve(predictions1, 200)\n",
    "total_reserve_region2 = total_reserve(predictions2, 200)\n",
    "total_reserve_region3 = total_reserve(predictions3, 200)"
   ]
  },
  {
   "cell_type": "code",
   "execution_count": 27,
   "metadata": {},
   "outputs": [
    {
     "name": "stdout",
     "output_type": "stream",
     "text": [
      "Достаточный объём сырья для безубыточной разработки одной скважины: 111.11 тыс. баррелей\n",
      "Средний запас в первом регионе: 92.59 тыс. баррелей\n",
      "Средний запас во втором регионе: 68.73 тыс. баррелей\n",
      "Средний запас в третьем регионе: 94.97 тыс. баррелей\n",
      "\n",
      "Сравнение с необходимым минимальным объёмом для безубыточности:\n",
      "Первый регион: Средний запас (92.59 тыс. баррелей) ниже необходимого для безубыточности (111.11 тыс. баррелей).\n",
      "Второй регион: Средний запас (68.73 тыс. баррелей) ниже необходимого для безубыточности (111.11 тыс. баррелей).\n",
      "Третий регион: Средний запас (94.97 тыс. баррелей) ниже необходимого для безубыточности (111.11 тыс. баррелей).\n"
     ]
    }
   ],
   "source": [
    "# Обозначим ключевые значения для расчётов\n",
    "NUMBER_OF_POINTS = 500  # количество исследованных точек\n",
    "BEST_POINTS = 200       # количество лучших точек для разработки\n",
    "BUDGET = 10_000_000_000  # бюджет на разработку скважин в регионе, в рублях\n",
    "INCOME_PER_BARREL = 450  # доход с одного барреля, в рублях\n",
    "INCOME_PER_THOUSAND_BARRELS = INCOME_PER_BARREL * 1000  # доход с одной единицы продукта, в рублях\n",
    "\n",
    "# Рассчитываем достаточный объём сырья для безубыточной разработки новой скважины\n",
    "BREAKEVEN_VOLUME = BUDGET / (BEST_POINTS * INCOME_PER_THOUSAND_BARRELS)  # в тысячах баррелей\n",
    "\n",
    "# Средние запасы в каждом регионе (предполагаем, что это средние значения из предыдущих расчётов)\n",
    "average_product_region1 = mean_product1  # средний запас сырья в первом регионе, в тысячах баррелей\n",
    "average_product_region2 = mean_product2  # средний запас сырья во втором регионе, в тысячах баррелей\n",
    "average_product_region3 = mean_product3  # средний запас сырья в третьем регионе, в тысячах баррелей\n",
    "\n",
    "\n",
    "print(f\"Достаточный объём сырья для безубыточной разработки одной скважины: {BREAKEVEN_VOLUME:.2f} тыс. баррелей\")\n",
    "print(f\"Средний запас в первом регионе: {average_product_region1:.2f} тыс. баррелей\")\n",
    "print(f\"Средний запас во втором регионе: {average_product_region2:.2f} тыс. баррелей\")\n",
    "print(f\"Средний запас в третьем регионе: {average_product_region3:.2f} тыс. баррелей\")\n",
    "\n",
    "# Сравниваем средние запасы с необходимым минимальным объёмом\n",
    "print(\"\\nСравнение с необходимым минимальным объёмом для безубыточности:\")\n",
    "regions = [\"Первый регион\", \"Второй регион\", \"Третий регион\"]\n",
    "average_products = [average_product_region1, average_product_region2, average_product_region3]\n",
    "\n",
    "for region, average in zip(regions, average_products):\n",
    "    if average >= BREAKEVEN_VOLUME:\n",
    "        print(f\"{region}: Средний запас ({average:.2f} тыс. баррелей) выше или равен необходимому для безубыточности ({BREAKEVEN_VOLUME:.2f} тыс. баррелей).\")\n",
    "    else:\n",
    "        print(f\"{region}: Средний запас ({average:.2f} тыс. баррелей) ниже необходимого для безубыточности ({BREAKEVEN_VOLUME:.2f} тыс. баррелей).\")"
   ]
  },
  {
   "cell_type": "code",
   "execution_count": 28,
   "metadata": {},
   "outputs": [],
   "source": [
    "average_reserves = [\n",
    "    92.40,  # Регион 1\n",
    "    68.71,  # Регион 2\n",
    "    94.77   # Регион 3\n",
    "]"
   ]
  },
  {
   "cell_type": "markdown",
   "metadata": {},
   "source": [
    "### Выводы\n",
    "* Для обеспечения безубыточности проекта в каждом регионе необходимо, чтобы средние запасы в лучших 200 скважинах были выше расчетного безубыточного объема.\n",
    "* Если средние запасы ниже этого порога, то может потребоваться пересмотр бюджета, повышение эффективности разработки или изменение стратегии выбора скважин."
   ]
  },
  {
   "cell_type": "markdown",
   "metadata": {},
   "source": [
    "* **Необходимый объём для безубыточности превышает средний запас сырья в каждом регионе**.\n",
    " * Это указывает на то, что в среднем, выбор только одной скважины на основе текущих данных предполагает убыточность. Для достижения безубыточности, в каждой скважине должно быть в среднем больше сырья, чем средний показатель по региону.\n",
    "\n",
    "* Во всех регионах средние запасы меньше, чем необходимо для безубыточной разработки скважины. Это означает, что при текущих условиях (цене на нефть и бюджете на разработку) существует риск не окупить инвестиции.\n",
    "\n",
    "* Поскольку средние значения запасов сырья во всех регионах меньше требуемых для безубыточности, особенно важно использование методов машинного обучения для отбора 200 наиболее перспективных скважин из 500 возможных. Отбор должен учитывать не только средние запасы, но и другие параметры, которые могут повлиять на прибыльность скважины.\n",
    "\n",
    "* Для регионов с наименьшим средним запасом (например, второй регион) потребуются дополнительные стратегии, чтобы сделать разработку прибыльной, например, увеличение эффективности производства, сокращение затрат или возможно даже повышение цены продажи.\n",
    "\n",
    "* Возможно, что для достижения прибыльности потребуется пересмотреть общий бюджет на разработку скважин, улучшить технологии бурения и добычи или изменить подход к оценке и выбору скважин."
   ]
  },
  {
   "cell_type": "markdown",
   "metadata": {},
   "source": [
    "## Расчёт прибыли и рисков "
   ]
  },
  {
   "cell_type": "code",
   "execution_count": 29,
   "metadata": {},
   "outputs": [],
   "source": [
    "# Параметры для расчётов\n",
    "BOOTSTRAP_SAMPLES = 1000\n",
    "TOP_WELLS = 200\n",
    "BUDGET_PER_WELL = BUDGET / TOP_WELLS\n",
    "INCOME_PER_UNIT = INCOME_PER_BARREL * 1000"
   ]
  },
  {
   "cell_type": "code",
   "execution_count": 30,
   "metadata": {},
   "outputs": [],
   "source": [
    "def calculate_subsample_profit(subsample_predictions, subsample_actuals, top_wells, income_per_unit, budget):\n",
    "    best_wells_indices = np.argsort(subsample_predictions)[-top_wells:]\n",
    "    best_wells_actuals = subsample_actuals[best_wells_indices]\n",
    "    total_income = best_wells_actuals.sum() * income_per_unit\n",
    "    profit = total_income - budget\n",
    "    return profit\n",
    "\n",
    "# Функция bootstrap, которая использует calculate_subsample_profit\n",
    "def bootstrap_profit(predictions, actuals, number_of_points, top_wells, budget, income_per_unit, bootstrap_samples=1000):\n",
    "    profits = []\n",
    "\n",
    "    for _ in range(bootstrap_samples):\n",
    "        subsample_indices = np.random.choice(range(len(predictions)), size=number_of_points, replace=True)\n",
    "        subsample_predictions = predictions[subsample_indices]\n",
    "        subsample_actuals = actuals[subsample_indices]\n",
    "# Использую функцию calculate_subsample_profit внутри функции bootstrap_profit\n",
    "        profit = calculate_subsample_profit(subsample_predictions, subsample_actuals, top_wells, income_per_unit, budget)\n",
    "        profits.append(profit)\n",
    "\n",
    "    profits = np.array(profits)\n",
    "\n",
    "    mean_profit = profits.mean()\n",
    "    sum_profit = profits.sum()\n",
    "    lower_confidence = np.percentile(profits, 2.5)\n",
    "    upper_confidence = np.percentile(profits, 97.5)\n",
    "    risk_of_loss = (profits < 0).mean()\n",
    "\n",
    "    return {\n",
    "        'sum_profit' : sum_profit,\n",
    "        'mean_profit': mean_profit,\n",
    "        '95%_confidence_interval': (lower_confidence, upper_confidence),\n",
    "        'loss_risk': risk_of_loss,\n",
    "        'profits': profits\n",
    "    }"
   ]
  },
  {
   "cell_type": "code",
   "execution_count": 31,
   "metadata": {},
   "outputs": [
    {
     "name": "stdout",
     "output_type": "stream",
     "text": [
      "Функция прибыли работает:\n",
      "Прибыль региона 1: 3320826043.1398506\n",
      "Прибыль региона 2: 2415086696.681511\n",
      "Прибыль региона 3: 2710349963.5998325\n"
     ]
    }
   ],
   "source": [
    "profit1 = calculate_subsample_profit(predictions1, actuals1, TOP_WELLS, INCOME_PER_UNIT, BUDGET)\n",
    "profit2 = calculate_subsample_profit(predictions2, actuals2, TOP_WELLS, INCOME_PER_UNIT, BUDGET)\n",
    "profit3 = calculate_subsample_profit(predictions3, actuals3, TOP_WELLS, INCOME_PER_UNIT, BUDGET)\n",
    "print('Функция прибыли работает:')\n",
    "print('Прибыль региона 1:', profit1)\n",
    "print('Прибыль региона 2:', profit2)\n",
    "print('Прибыль региона 3:', profit3)"
   ]
  },
  {
   "cell_type": "code",
   "execution_count": 32,
   "metadata": {},
   "outputs": [
    {
     "data": {
      "text/plain": [
       "array([ 10.03864464, 114.55148852, 132.60363526, ..., 127.35225854,\n",
       "        99.78269989, 177.82102181])"
      ]
     },
     "execution_count": 32,
     "metadata": {},
     "output_type": "execute_result"
    }
   ],
   "source": [
    "actuals1"
   ]
  },
  {
   "cell_type": "code",
   "execution_count": 33,
   "metadata": {},
   "outputs": [],
   "source": [
    "#  Использование функции для региона 1:\n",
    "region1_results = bootstrap_profit(\n",
    "    predictions1,\n",
    "    actuals1,\n",
    "    NUMBER_OF_POINTS,\n",
    "    TOP_WELLS,\n",
    "    BUDGET,\n",
    "    INCOME_PER_UNIT\n",
    ")\n",
    "#  Использование функции для региона 2:\n",
    "region2_results = bootstrap_profit(\n",
    "    predictions2,\n",
    "    actuals2,\n",
    "    NUMBER_OF_POINTS,\n",
    "    TOP_WELLS,\n",
    "    BUDGET,\n",
    "    INCOME_PER_UNIT\n",
    ")\n",
    "#  Использование функции для региона 3:\n",
    "region3_results = bootstrap_profit(\n",
    "    predictions3,\n",
    "    actuals3,\n",
    "    NUMBER_OF_POINTS,\n",
    "    TOP_WELLS,\n",
    "    BUDGET,\n",
    "    INCOME_PER_UNIT\n",
    ")\n",
    "profits1 = region1_results['profits']\n",
    "profits2 = region2_results['profits']\n",
    "profits3 = region3_results['profits']"
   ]
  },
  {
   "cell_type": "code",
   "execution_count": 34,
   "metadata": {},
   "outputs": [
    {
     "name": "stdout",
     "output_type": "stream",
     "text": [
      "Прибыль в первом регионе: 396409493857.00 рублей\n",
      "Суммарный запас в 200 лучших скважинах региона 1: 31102.33 тыс барелей\n",
      "Прибыль во втором регионе: 453446272358.0 рублей\n",
      "Суммарный запас в 200 лучших скважинах региона 2: 27746.03 тыс барелей\n",
      "Прибыль в третьем регионе: 391616371634.00 рублей\n",
      "Суммарный запас в 200 лучших скважинах региона 3: 29603.9 тыс барелей\n"
     ]
    }
   ],
   "source": [
    "# Вывод прибыли для каждого региона\n",
    "print(f\"Прибыль в первом регионе: {round(region1_results['sum_profit'],0):.2f} рублей\")\n",
    "print(f\"Суммарный запас в 200 лучших скважинах региона 1: {round(total_reserve_region1, 2)} тыс барелей\")\n",
    "print(f\"Прибыль во втором регионе: {round(region2_results['sum_profit'],0)} рублей\")\n",
    "print(f\"Суммарный запас в 200 лучших скважинах региона 2: {round(total_reserve_region2, 2)} тыс барелей\")\n",
    "print(f\"Прибыль в третьем регионе: {round(region3_results['sum_profit'],0):.2f} рублей\")\n",
    "print(f\"Суммарный запас в 200 лучших скважинах региона 3: {round(total_reserve_region3, 2)} тыс барелей\")"
   ]
  },
  {
   "cell_type": "code",
   "execution_count": 35,
   "metadata": {},
   "outputs": [
    {
     "name": "stdout",
     "output_type": "stream",
     "text": [
      "Регион 1\n",
      "Средняя прибыль: 396409494.0 рублей\n",
      "95% доверительный интервал: от -105961443.0 до 894423074.0 рублей\n",
      "Риск убытков: 7.1%\n"
     ]
    }
   ],
   "source": [
    "print('Регион 1')\n",
    "print(f\"Средняя прибыль: {round(region1_results['mean_profit'],0)} рублей\")\n",
    "print(f\"95% доверительный интервал: от {round(region1_results['95%_confidence_interval'][0],0)} до {round(region1_results['95%_confidence_interval'][1],0)} рублей\")\n",
    "print(f\"Риск убытков: {region1_results['loss_risk'] * 100}%\")"
   ]
  },
  {
   "cell_type": "code",
   "execution_count": 36,
   "metadata": {},
   "outputs": [
    {
     "name": "stdout",
     "output_type": "stream",
     "text": [
      "Регион 2\n",
      "Средняя прибыль: 453446272.0 рублей\n",
      "95% доверительный интервал: от 32271734.0 до 843724537.0 рублей\n",
      "Риск убытков: 2.0%\n"
     ]
    }
   ],
   "source": [
    "print('Регион 2')\n",
    "print(f\"Средняя прибыль: {round(region2_results['mean_profit'],0)} рублей\")\n",
    "print(f\"95% доверительный интервал: от {round(region2_results['95%_confidence_interval'][0],0)} до {round(region2_results['95%_confidence_interval'][1],0)} рублей\")\n",
    "print(f\"Риск убытков: {region2_results['loss_risk'] * 100}%\")"
   ]
  },
  {
   "cell_type": "code",
   "execution_count": 37,
   "metadata": {},
   "outputs": [
    {
     "name": "stdout",
     "output_type": "stream",
     "text": [
      "Регион 3\n",
      "Средняя прибыль: 391616372.0 рублей\n",
      "95% доверительный интервал: от -148081242.0 до 937416814.0 рублей\n",
      "Риск убытков: 7.6%\n"
     ]
    }
   ],
   "source": [
    "print('Регион 3')\n",
    "print(f\"Средняя прибыль: {round(region3_results['mean_profit'],0)} рублей\")\n",
    "print(f\"95% доверительный интервал: от {round(region3_results['95%_confidence_interval'][0],0)} до {round(region3_results['95%_confidence_interval'][1],0)} рублей\")\n",
    "print(f\"Риск убытков: {region3_results['loss_risk'] * 100}%\")"
   ]
  },
  {
   "cell_type": "code",
   "execution_count": 38,
   "metadata": {},
   "outputs": [
    {
     "data": {
      "image/png": "[encoded data removed]",
      "text/plain": [
       "<Figure size 720x1080 with 3 Axes>"
      ]
     },
     "metadata": {
      "needs_background": "light"
     },
     "output_type": "display_data"
    }
   ],
   "source": [
    "def plot_profit_distribution_with_confidence(profits, region_name, ax):\n",
    "    mean_profit = np.mean(profits)\n",
    "    lower_bound = np.percentile(profits, 2.5)\n",
    "    upper_bound = np.percentile(profits, 97.5)\n",
    "    \n",
    "    ax.hist(profits, bins=50, alpha=0.5, label=f'Регион {region_name}')\n",
    "    ax.axvline(mean_profit, color='k', linestyle='dashed', linewidth=1, label='Средняя прыбиль')\n",
    "    ax.axvline(0, color='r', linestyle='dashed', linewidth=1, label='Break-even Point')\n",
    "    ax.axvline(lower_bound, color='g', linestyle='dotted', linewidth=2, label='2.5 percentile')\n",
    "    ax.axvline(upper_bound, color='g', linestyle='dotted', linewidth=2, label='97.5 percentile')\n",
    "    \n",
    "    ax.set_title(f'Распределение прибыли по Региону {region_name}')\n",
    "    ax.set_xlabel('Прибыль')\n",
    "    ax.set_ylabel('Кол-во')\n",
    "    ax.legend(loc='upper right')\n",
    "\n",
    "\n",
    "fig, axs = plt.subplots(3, 1, figsize=(10, 15))\n",
    "\n",
    "# Строим графики для каждого региона\n",
    "plot_profit_distribution_with_confidence(profits1, 1, axs[0])\n",
    "plot_profit_distribution_with_confidence(profits2, 2, axs[1])\n",
    "plot_profit_distribution_with_confidence(profits3, 3, axs[2])\n",
    "\n",
    "# Показываем графики\n",
    "plt.tight_layout()\n",
    "plt.show()\n"
   ]
  },
  {
   "cell_type": "markdown",
   "metadata": {},
   "source": [
    "**Четыре вертикальные линии на графике:** \n",
    "* средняя прибыль; \n",
    "* точка безубыточности (break-even point);\n",
    "* нижняя и верхняя границы 95%-го доверительного интервала. \\\n",
    "Это поможет визуально оценить риски и потенциальную прибыльность инвестиций в каждом регионе. "
   ]
  },
  {
   "cell_type": "code",
   "execution_count": 39,
   "metadata": {},
   "outputs": [
    {
     "data": {
      "image/png": "[encoded data removed]",
      "text/plain": [
       "<Figure size 720x432 with 1 Axes>"
      ]
     },
     "metadata": {
      "needs_background": "light"
     },
     "output_type": "display_data"
    }
   ],
   "source": [
    "# Средняя прибыль для каждого региона\n",
    "average_profits = [\n",
    "    region1_results['mean_profit'],  # Регион 1\n",
    "    region2_results['mean_profit'],  # Регион 2\n",
    "    region3_results['mean_profit']  # Регион 3\n",
    "]\n",
    "\n",
    "# Названия регионов\n",
    "regions = ['Регион 1', 'Регион 2', 'Регион 3']\n",
    "colors = ['blue', 'green', 'red']\n",
    "# Создание столбчатой диаграммы\n",
    "plt.figure(figsize=(10, 6))\n",
    "plt.bar(regions, average_profits,color=colors)\n",
    "\n",
    "# Добавление названий и меток\n",
    "plt.title('Средняя прибыль по региону')\n",
    "plt.xlabel('Регион')\n",
    "plt.ylabel('Средняя прибыль по региону (в тыс рублей)')\n",
    "plt.ylim(0, max(average_profits) * 1.1)  # Устанавливаем лимит по оси Y с некоторым запасом\n",
    "\n",
    "# Добавление текстовых меток с значениями средней прибыли над столбцами\n",
    "for i, profit in enumerate(average_profits):\n",
    "    plt.text(i, profit + max(average_profits) * 0.05, f'{profit / 1000:.0f} тыс руб', ha='center')\n",
    "\n",
    "# Отображение диаграммы\n",
    "plt.tight_layout()\n",
    "plt.show()"
   ]
  },
  {
   "cell_type": "code",
   "execution_count": 40,
   "metadata": {},
   "outputs": [
    {
     "data": {
      "image/png": "[encoded data removed]",
      "text/plain": [
       "<Figure size 576x576 with 1 Axes>"
      ]
     },
     "metadata": {},
     "output_type": "display_data"
    }
   ],
   "source": [
    "# Создание пай чарта\n",
    "plt.figure(figsize=(8, 8))\n",
    "plt.pie(average_reserves, labels=regions, colors=colors, autopct='%1.1f%%', startangle=140)\n",
    "# Добавление заголовка\n",
    "plt.title('Средние предсказанные запасы по регионам')\n",
    "\n",
    "# Отображение диаграммы\n",
    "plt.show()"
   ]
  },
  {
   "cell_type": "code",
   "execution_count": 41,
   "metadata": {},
   "outputs": [
    {
     "data": {
      "image/png": "[encoded data removed]",
      "text/plain": [
       "<Figure size 576x576 with 1 Axes>"
      ]
     },
     "metadata": {},
     "output_type": "display_data"
    }
   ],
   "source": [
    "# Суммарные запасы в 200 лучших скважинах для каждого региона\n",
    "sum_reserves = [31102.33, 27746.03, 29603.9]\n",
    "# Создание круговой диаграммы\n",
    "plt.figure(figsize=(8, 8))\n",
    "plt.pie(sum_reserves, labels=regions, autopct='%1.1f%%', startangle=140, colors=colors)\n",
    "plt.title('Суммарные запасы в 200 лучших скважинах по регионам')\n",
    "plt.show()"
   ]
  },
  {
   "cell_type": "markdown",
   "metadata": {},
   "source": [
    "### Круговые диаграммы\n",
    "Круговая диаграмма дает представление о том, что Регион 2 имеет меньше всего запасов сырья в целом,\n",
    "но 200 месторождений отобранных в каждом регионе имеют примерно равные пропорции"
   ]
  },
  {
   "cell_type": "markdown",
   "metadata": {},
   "source": [
    "### Вывод расчета прибыли и убытков"
   ]
  },
  {
   "cell_type": "markdown",
   "metadata": {},
   "source": [
    "**На основе проведенного анализа мы имеем следующие результаты по каждому региону:**\n",
    "\n",
    "* Регион 1:\n",
    "\n",
    "  * Средняя прибыль: 392,012,680 рублей\n",
    "  * 95% доверительный интервал: от -93,727,564 до 889,636,041 рублей\n",
    "  * Риск убытков: 5.4%\n",
    "* Регион 2:\n",
    "\n",
    "  * Средняя прибыль: 452,586,111 рублей\n",
    "  * 95% доверительный интервал: от 42,368,321 до 853,720,050 рублей\n",
    "  * Риск убытков: 1.6%\n",
    "* Регион 3:\n",
    "\n",
    "  * Средняя прибыль: 392,285,257 рублей\n",
    "  * 95% доверительный интервал: от -141,992,300 до 903,005,212 рублей\n",
    "  * Риск убытков: 7.9%\n",
    "* Исходя из критерия вероятности убытков менее 2.5%, для дальнейшего рассмотрения остается только Регион 2, поскольку риск убытков здесь составляет всего 1.6%. Дополнительно, Регион 2 обладает наивысшей средней прибылью среди рассматриваемых регионов. Таким образом, если основной задачей является минимизация рисков и максимизация прибыли, Регион 2 является наиболее предпочтительным для разработки скважин.\n",
    "\n",
    "* К тому же, положительный нижний предел 95% доверительного интервала указывает на то, что вероятность получения убытка в этом регионе очень мала, и в большинстве случаев мы можем ожидать положительной прибыли.\n",
    "\n",
    "* Таким образом, на основе данных оценок и рисков, Регион 2 представляется наиболее привлекательным для инвестиций в добычу сырья."
   ]
  },
  {
   "cell_type": "markdown",
   "metadata": {},
   "source": [
    "## Итоговый вывод\n",
    "* В ходе нашей работы мы провели комплексный анализ данных трех нефтедобывающих регионов для определения наиболее выгодного из них для разработки скважин. Работа включала в себя следующие этапы:\n",
    "\n",
    "* **Предобработка данных**: Мы очистили и подготовили данные каждого региона, отбросив ненужные столбцы и выделив целевые переменные.\n",
    "\n",
    "* **Разбиение на выборки**: Данные для каждого региона были разделены на обучающие и валидационные наборы в соотношении 75:25.\n",
    "\n",
    "* **Построение моделей**: Мы обучили модели линейной регрессии для каждого региона и сделали предсказания о запасах нефти.\n",
    "\n",
    "* **Оценка моделей**: Мы рассчитали среднее значение предсказанных запасов и RMSE для каждой модели, что позволило оценить точность моделей.\n",
    "\n",
    "* **Расчет прибыли**: Для каждого региона была рассчитана потенциальная прибыль на основе лучших скважин, которая учитывала количество исследованных точек, бюджет на разработку, доход с одного барреля и другие экономические параметры.\n",
    "\n",
    "* **Анализ рисков**: С использованием техники Bootstrap были получены распределения прибыли для каждого региона, на основе которых были рассчитаны средняя прибыль, 95%-ный доверительный интервал и риск убытков.\n",
    "* **Визуализация данных**: Были построены графики, включая гистограммы распределения прибыли и столбчатые диаграммы средней прибыли, что помогло наглядно сравнить результаты для каждого региона.\n",
    "\n",
    "* **Итоговый выбор**: На основании анализа рисков и потенциальной прибыльности, был выбран Регион 2, так как он показал наименьший риск убытков (1.6%) и наибольшую среднюю прибыль. Вероятность убытков в данном регионе оказалась ниже установленного порога в 2.5%, что делает его наиболее предпочтительным для разработки скважин.\n",
    "\n",
    "* Итог работы подтвердил важность комплексного анализа данных и рисков перед принятием инвестиционных решений в области добычи полезных ископаемых."
   ]
  },
  {
   "cell_type": "markdown",
   "metadata": {},
   "source": [
    "## Чек-лист готовности проекта"
   ]
  },
  {
   "cell_type": "code",
   "execution_count": 42,
   "metadata": {},
   "outputs": [
    {
     "data": {
      "text/plain": [
       "3    3\n",
       "3    3\n",
       "3    3\n",
       "3    3\n",
       "3    3\n",
       "3    3\n",
       "3    3\n",
       "3    3\n",
       "3    3\n",
       "2    2\n",
       "2    2\n",
       "2    2\n",
       "2    2\n",
       "dtype: int64"
      ]
     },
     "metadata": {},
     "output_type": "display_data"
    }
   ],
   "source": [
    "# КОД РЕВЬЮЕРА\n",
    "# предположим, у нас есть небольшой сэмпл из 5 предсказаний и 5 соответствующих таргетов\n",
    "_target = pd.Series([2, 2, 3, 3, 3], index=[2, 2, 3, 3, 3])\n",
    "_preds = pd.Series([2, 2, 3, 3, 3], index=[2, 2, 3, 3, 3]).sort_values(ascending=False)\n",
    "\n",
    "\n",
    "# берём таргеты по индексам предсказаний:\n",
    "\n",
    "display(_target.loc[_preds.index])"
   ]
  },
  {
   "cell_type": "markdown",
   "metadata": {},
   "source": [
    "Поставьте 'x' в выполненных пунктах. Далее нажмите Shift+Enter."
   ]
  },
  {
   "cell_type": "markdown",
   "metadata": {},
   "source": [
    "- [x]  Jupyter Notebook открыт\n",
    "- [x]  Весь код выполняется без ошибок\n",
    "- [x]  Ячейки с кодом расположены в порядке исполнения\n",
    "- [x] Выполнен шаг 1: данные подготовлены\n",
    "- [x]  Выполнен шаг 2: модели обучены и проверены\n",
    "    - [x]  Данные корректно разбиты на обучающую и валидационную выборки\n",
    "    - [x]  Модели обучены, предсказания сделаны\n",
    "    - [x]  Предсказания и правильные ответы на валидационной выборке сохранены\n",
    "    - [x]  На экране напечатаны результаты\n",
    "    - [x]  Сделаны выводы\n",
    "- [x]  Выполнен шаг 3: проведена подготовка к расчёту прибыли\n",
    "    - [x]  Для всех ключевых значений созданы константы Python\n",
    "    - [x]  Посчитано минимальное среднее количество продукта в месторождениях региона, достаточное для разработки\n",
    "    - [x]  По предыдущему пункту сделаны выводы\n",
    "    - [x]  Написана функция расчёта прибыли\n",
    "- [x]  Выполнен шаг 4: посчитаны риски и прибыль\n",
    "    - [x]  Проведена процедура *Bootstrap*\n",
    "    - [x]  Все параметры бутстрепа соответствуют условию\n",
    "    - [x]  Найдены все нужные величины\n",
    "    - [x]  Предложен регион для разработки месторождения\n",
    "    - [x]  Выбор региона обоснован"
   ]
  }
 ],
 "metadata": {
  "ExecuteTimeLog": [
   {
    "duration": 1742,
    "start_time": "2023-11-05T12:41:02.026Z"
   },
   {
    "duration": 3,
    "start_time": "2023-11-05T12:41:03.771Z"
   },
   {
    "duration": 370,
    "start_time": "2023-11-05T12:41:03.775Z"
   },
   {
    "duration": 426,
    "start_time": "2023-11-05T12:41:04.148Z"
   },
   {
    "duration": 348,
    "start_time": "2023-11-05T12:41:04.575Z"
   },
   {
    "duration": 25,
    "start_time": "2023-11-05T12:41:04.924Z"
   },
   {
    "duration": 14,
    "start_time": "2023-11-05T12:41:04.951Z"
   },
   {
    "duration": 48,
    "start_time": "2023-11-05T12:41:04.967Z"
   },
   {
    "duration": 55,
    "start_time": "2023-11-05T12:41:05.018Z"
   },
   {
    "duration": 446,
    "start_time": "2023-11-05T12:41:05.076Z"
   },
   {
    "duration": 561,
    "start_time": "2023-11-05T12:41:05.523Z"
   },
   {
    "duration": 10,
    "start_time": "2023-11-05T12:41:06.085Z"
   },
   {
    "duration": 61,
    "start_time": "2023-11-05T12:41:06.097Z"
   },
   {
    "duration": 32,
    "start_time": "2023-11-05T12:41:06.160Z"
   },
   {
    "duration": 430,
    "start_time": "2023-11-05T12:41:06.194Z"
   },
   {
    "duration": 581,
    "start_time": "2023-11-05T12:41:06.626Z"
   },
   {
    "duration": 112,
    "start_time": "2023-11-05T12:41:07.208Z"
   },
   {
    "duration": 0,
    "start_time": "2023-11-05T12:41:07.322Z"
   },
   {
    "duration": 0,
    "start_time": "2023-11-05T12:41:07.323Z"
   },
   {
    "duration": 0,
    "start_time": "2023-11-05T12:41:07.324Z"
   },
   {
    "duration": 0,
    "start_time": "2023-11-05T12:41:07.324Z"
   },
   {
    "duration": 0,
    "start_time": "2023-11-05T12:41:07.326Z"
   },
   {
    "duration": 0,
    "start_time": "2023-11-05T12:41:07.327Z"
   },
   {
    "duration": 0,
    "start_time": "2023-11-05T12:41:07.328Z"
   },
   {
    "duration": 0,
    "start_time": "2023-11-05T12:41:07.344Z"
   },
   {
    "duration": 0,
    "start_time": "2023-11-05T12:41:07.345Z"
   },
   {
    "duration": 0,
    "start_time": "2023-11-05T12:41:07.346Z"
   },
   {
    "duration": 0,
    "start_time": "2023-11-05T12:41:07.347Z"
   },
   {
    "duration": 0,
    "start_time": "2023-11-05T12:41:07.348Z"
   },
   {
    "duration": 1,
    "start_time": "2023-11-05T12:41:07.349Z"
   },
   {
    "duration": 0,
    "start_time": "2023-11-05T12:41:07.350Z"
   },
   {
    "duration": 0,
    "start_time": "2023-11-05T12:41:07.351Z"
   },
   {
    "duration": 0,
    "start_time": "2023-11-05T12:41:07.353Z"
   },
   {
    "duration": 0,
    "start_time": "2023-11-05T12:41:07.354Z"
   },
   {
    "duration": 0,
    "start_time": "2023-11-05T12:41:07.355Z"
   },
   {
    "duration": 0,
    "start_time": "2023-11-05T12:41:07.356Z"
   },
   {
    "duration": 46,
    "start_time": "2023-11-05T12:42:20.633Z"
   },
   {
    "duration": 33,
    "start_time": "2023-11-05T12:42:21.170Z"
   },
   {
    "duration": 334,
    "start_time": "2023-11-05T12:42:21.404Z"
   },
   {
    "duration": 566,
    "start_time": "2023-11-05T12:42:21.745Z"
   },
   {
    "duration": 146,
    "start_time": "2023-11-05T12:42:22.313Z"
   },
   {
    "duration": 19,
    "start_time": "2023-11-05T12:42:22.833Z"
   },
   {
    "duration": 765,
    "start_time": "2023-11-05T12:42:23.033Z"
   },
   {
    "duration": 391,
    "start_time": "2023-11-05T12:42:24.258Z"
   },
   {
    "duration": 9,
    "start_time": "2023-11-05T12:42:25.472Z"
   },
   {
    "duration": 7,
    "start_time": "2023-11-05T12:42:25.772Z"
   },
   {
    "duration": 3,
    "start_time": "2023-11-05T12:42:27.590Z"
   },
   {
    "duration": 11,
    "start_time": "2023-11-05T12:42:27.767Z"
   },
   {
    "duration": 1977,
    "start_time": "2023-11-05T12:42:27.961Z"
   },
   {
    "duration": 1853,
    "start_time": "2023-11-05T12:42:29.944Z"
   },
   {
    "duration": 1934,
    "start_time": "2023-11-05T12:42:31.799Z"
   },
   {
    "duration": 1195,
    "start_time": "2023-11-05T12:42:33.735Z"
   },
   {
    "duration": 2441,
    "start_time": "2023-11-05T12:44:46.378Z"
   },
   {
    "duration": 2528,
    "start_time": "2023-11-05T12:45:10.149Z"
   },
   {
    "duration": 2099,
    "start_time": "2023-11-05T12:45:37.540Z"
   },
   {
    "duration": 286,
    "start_time": "2023-11-05T12:47:29.394Z"
   },
   {
    "duration": 107,
    "start_time": "2023-11-05T12:47:29.682Z"
   },
   {
    "duration": 108,
    "start_time": "2023-11-05T12:47:29.791Z"
   },
   {
    "duration": 1747,
    "start_time": "2023-11-05T13:02:45.287Z"
   },
   {
    "duration": 4,
    "start_time": "2023-11-05T13:02:47.037Z"
   },
   {
    "duration": 415,
    "start_time": "2023-11-05T13:02:47.042Z"
   },
   {
    "duration": 338,
    "start_time": "2023-11-05T13:02:47.460Z"
   },
   {
    "duration": 403,
    "start_time": "2023-11-05T13:02:47.801Z"
   },
   {
    "duration": 21,
    "start_time": "2023-11-05T13:02:48.206Z"
   },
   {
    "duration": 30,
    "start_time": "2023-11-05T13:02:48.229Z"
   },
   {
    "duration": 62,
    "start_time": "2023-11-05T13:02:48.261Z"
   },
   {
    "duration": 47,
    "start_time": "2023-11-05T13:02:48.325Z"
   },
   {
    "duration": 404,
    "start_time": "2023-11-05T13:02:48.374Z"
   },
   {
    "duration": 706,
    "start_time": "2023-11-05T13:02:48.780Z"
   },
   {
    "duration": 12,
    "start_time": "2023-11-05T13:02:49.488Z"
   },
   {
    "duration": 68,
    "start_time": "2023-11-05T13:02:49.502Z"
   },
   {
    "duration": 36,
    "start_time": "2023-11-05T13:02:49.573Z"
   },
   {
    "duration": 484,
    "start_time": "2023-11-05T13:02:49.611Z"
   },
   {
    "duration": 694,
    "start_time": "2023-11-05T13:02:50.097Z"
   },
   {
    "duration": 142,
    "start_time": "2023-11-05T13:02:50.793Z"
   },
   {
    "duration": 0,
    "start_time": "2023-11-05T13:02:50.936Z"
   },
   {
    "duration": 0,
    "start_time": "2023-11-05T13:02:50.938Z"
   },
   {
    "duration": 0,
    "start_time": "2023-11-05T13:02:50.938Z"
   },
   {
    "duration": 0,
    "start_time": "2023-11-05T13:02:50.947Z"
   },
   {
    "duration": 0,
    "start_time": "2023-11-05T13:02:50.948Z"
   },
   {
    "duration": 0,
    "start_time": "2023-11-05T13:02:50.949Z"
   },
   {
    "duration": 0,
    "start_time": "2023-11-05T13:02:50.950Z"
   },
   {
    "duration": 0,
    "start_time": "2023-11-05T13:02:50.951Z"
   },
   {
    "duration": 0,
    "start_time": "2023-11-05T13:02:50.952Z"
   },
   {
    "duration": 0,
    "start_time": "2023-11-05T13:02:50.953Z"
   },
   {
    "duration": 0,
    "start_time": "2023-11-05T13:02:50.954Z"
   },
   {
    "duration": 0,
    "start_time": "2023-11-05T13:02:50.955Z"
   },
   {
    "duration": 0,
    "start_time": "2023-11-05T13:02:50.956Z"
   },
   {
    "duration": 0,
    "start_time": "2023-11-05T13:02:50.957Z"
   },
   {
    "duration": 0,
    "start_time": "2023-11-05T13:02:50.958Z"
   },
   {
    "duration": 0,
    "start_time": "2023-11-05T13:02:50.959Z"
   },
   {
    "duration": 0,
    "start_time": "2023-11-05T13:02:50.960Z"
   },
   {
    "duration": 0,
    "start_time": "2023-11-05T13:02:50.961Z"
   },
   {
    "duration": 0,
    "start_time": "2023-11-05T13:02:50.962Z"
   },
   {
    "duration": 12,
    "start_time": "2023-11-05T13:03:13.016Z"
   },
   {
    "duration": 1499,
    "start_time": "2023-11-05T13:03:17.740Z"
   },
   {
    "duration": 6,
    "start_time": "2023-11-05T13:03:19.241Z"
   },
   {
    "duration": 604,
    "start_time": "2023-11-05T13:03:19.256Z"
   },
   {
    "duration": 351,
    "start_time": "2023-11-05T13:03:19.862Z"
   },
   {
    "duration": 301,
    "start_time": "2023-11-05T13:03:20.215Z"
   },
   {
    "duration": 35,
    "start_time": "2023-11-05T13:03:20.518Z"
   },
   {
    "duration": 15,
    "start_time": "2023-11-05T13:03:20.560Z"
   },
   {
    "duration": 80,
    "start_time": "2023-11-05T13:03:20.577Z"
   },
   {
    "duration": 39,
    "start_time": "2023-11-05T13:03:20.659Z"
   },
   {
    "duration": 404,
    "start_time": "2023-11-05T13:03:20.700Z"
   },
   {
    "duration": 685,
    "start_time": "2023-11-05T13:03:21.106Z"
   },
   {
    "duration": 14,
    "start_time": "2023-11-05T13:03:21.793Z"
   },
   {
    "duration": 72,
    "start_time": "2023-11-05T13:03:21.809Z"
   },
   {
    "duration": 37,
    "start_time": "2023-11-05T13:03:21.884Z"
   },
   {
    "duration": 464,
    "start_time": "2023-11-05T13:03:21.922Z"
   },
   {
    "duration": 649,
    "start_time": "2023-11-05T13:03:22.387Z"
   },
   {
    "duration": 22,
    "start_time": "2023-11-05T13:03:23.038Z"
   },
   {
    "duration": 64,
    "start_time": "2023-11-05T13:03:23.062Z"
   },
   {
    "duration": 47,
    "start_time": "2023-11-05T13:03:23.128Z"
   },
   {
    "duration": 366,
    "start_time": "2023-11-05T13:03:23.177Z"
   },
   {
    "duration": 670,
    "start_time": "2023-11-05T13:03:23.550Z"
   },
   {
    "duration": 168,
    "start_time": "2023-11-05T13:03:24.222Z"
   },
   {
    "duration": 19,
    "start_time": "2023-11-05T13:03:24.391Z"
   },
   {
    "duration": 904,
    "start_time": "2023-11-05T13:03:24.412Z"
   },
   {
    "duration": 348,
    "start_time": "2023-11-05T13:03:25.318Z"
   },
   {
    "duration": 93,
    "start_time": "2023-11-05T13:03:25.668Z"
   },
   {
    "duration": 93,
    "start_time": "2023-11-05T13:03:25.764Z"
   },
   {
    "duration": 10,
    "start_time": "2023-11-05T13:03:25.858Z"
   },
   {
    "duration": 13,
    "start_time": "2023-11-05T13:03:25.870Z"
   },
   {
    "duration": 2435,
    "start_time": "2023-11-05T13:03:25.885Z"
   },
   {
    "duration": 2414,
    "start_time": "2023-11-05T13:03:28.322Z"
   },
   {
    "duration": 2374,
    "start_time": "2023-11-05T13:03:30.737Z"
   },
   {
    "duration": 1348,
    "start_time": "2023-11-05T13:03:33.113Z"
   },
   {
    "duration": 254,
    "start_time": "2023-11-05T13:03:34.463Z"
   },
   {
    "duration": 117,
    "start_time": "2023-11-05T13:03:34.719Z"
   },
   {
    "duration": 122,
    "start_time": "2023-11-05T13:03:34.838Z"
   },
   {
    "duration": 99,
    "start_time": "2023-11-05T13:04:27.892Z"
   },
   {
    "duration": 1789,
    "start_time": "2023-11-05T18:24:34.386Z"
   },
   {
    "duration": 3,
    "start_time": "2023-11-05T18:24:36.178Z"
   },
   {
    "duration": 705,
    "start_time": "2023-11-05T18:24:36.183Z"
   },
   {
    "duration": 392,
    "start_time": "2023-11-05T18:24:36.890Z"
   },
   {
    "duration": 389,
    "start_time": "2023-11-05T18:24:37.284Z"
   },
   {
    "duration": 29,
    "start_time": "2023-11-05T18:24:37.677Z"
   },
   {
    "duration": 56,
    "start_time": "2023-11-05T18:24:37.708Z"
   },
   {
    "duration": 95,
    "start_time": "2023-11-05T18:24:37.766Z"
   },
   {
    "duration": 38,
    "start_time": "2023-11-05T18:24:37.862Z"
   },
   {
    "duration": 411,
    "start_time": "2023-11-05T18:24:37.903Z"
   },
   {
    "duration": 613,
    "start_time": "2023-11-05T18:24:38.316Z"
   },
   {
    "duration": 17,
    "start_time": "2023-11-05T18:24:38.931Z"
   },
   {
    "duration": 48,
    "start_time": "2023-11-05T18:24:38.951Z"
   },
   {
    "duration": 62,
    "start_time": "2023-11-05T18:24:39.002Z"
   },
   {
    "duration": 431,
    "start_time": "2023-11-05T18:24:39.066Z"
   },
   {
    "duration": 597,
    "start_time": "2023-11-05T18:24:39.499Z"
   },
   {
    "duration": 12,
    "start_time": "2023-11-05T18:24:40.098Z"
   },
   {
    "duration": 95,
    "start_time": "2023-11-05T18:24:40.112Z"
   },
   {
    "duration": 60,
    "start_time": "2023-11-05T18:24:40.209Z"
   },
   {
    "duration": 399,
    "start_time": "2023-11-05T18:24:40.272Z"
   },
   {
    "duration": 643,
    "start_time": "2023-11-05T18:24:40.673Z"
   },
   {
    "duration": 156,
    "start_time": "2023-11-05T18:24:41.318Z"
   },
   {
    "duration": 18,
    "start_time": "2023-11-05T18:24:41.475Z"
   },
   {
    "duration": 847,
    "start_time": "2023-11-05T18:24:41.495Z"
   },
   {
    "duration": 419,
    "start_time": "2023-11-05T18:24:42.344Z"
   },
   {
    "duration": 179,
    "start_time": "2023-11-05T18:24:42.765Z"
   },
   {
    "duration": 160,
    "start_time": "2023-11-05T18:24:42.946Z"
   },
   {
    "duration": 19,
    "start_time": "2023-11-05T18:24:43.111Z"
   },
   {
    "duration": 6173,
    "start_time": "2023-11-05T18:24:43.132Z"
   },
   {
    "duration": 5,
    "start_time": "2023-11-05T18:24:49.307Z"
   },
   {
    "duration": 10,
    "start_time": "2023-11-05T18:24:49.313Z"
   },
   {
    "duration": 20,
    "start_time": "2023-11-05T18:24:49.324Z"
   },
   {
    "duration": 4,
    "start_time": "2023-11-05T18:24:49.346Z"
   },
   {
    "duration": 1340,
    "start_time": "2023-11-05T18:24:49.352Z"
   },
   {
    "duration": 290,
    "start_time": "2023-11-05T18:24:50.694Z"
   },
   {
    "duration": 117,
    "start_time": "2023-11-05T18:24:50.985Z"
   },
   {
    "duration": 114,
    "start_time": "2023-11-05T18:24:51.104Z"
   },
   {
    "duration": 1612,
    "start_time": "2023-11-05T18:33:40.577Z"
   },
   {
    "duration": 6,
    "start_time": "2023-11-05T18:33:42.192Z"
   },
   {
    "duration": 288,
    "start_time": "2023-11-05T18:33:42.200Z"
   },
   {
    "duration": 327,
    "start_time": "2023-11-05T18:33:42.491Z"
   },
   {
    "duration": 311,
    "start_time": "2023-11-05T18:33:42.820Z"
   },
   {
    "duration": 19,
    "start_time": "2023-11-05T18:33:43.133Z"
   },
   {
    "duration": 21,
    "start_time": "2023-11-05T18:33:43.154Z"
   },
   {
    "duration": 70,
    "start_time": "2023-11-05T18:33:43.177Z"
   },
   {
    "duration": 44,
    "start_time": "2023-11-05T18:33:43.250Z"
   },
   {
    "duration": 390,
    "start_time": "2023-11-05T18:33:43.298Z"
   },
   {
    "duration": 657,
    "start_time": "2023-11-05T18:33:43.690Z"
   },
   {
    "duration": 11,
    "start_time": "2023-11-05T18:33:44.349Z"
   },
   {
    "duration": 96,
    "start_time": "2023-11-05T18:33:44.362Z"
   },
   {
    "duration": 52,
    "start_time": "2023-11-05T18:33:44.460Z"
   },
   {
    "duration": 487,
    "start_time": "2023-11-05T18:33:44.514Z"
   },
   {
    "duration": 741,
    "start_time": "2023-11-05T18:33:45.003Z"
   },
   {
    "duration": 14,
    "start_time": "2023-11-05T18:33:45.746Z"
   },
   {
    "duration": 61,
    "start_time": "2023-11-05T18:33:45.762Z"
   },
   {
    "duration": 60,
    "start_time": "2023-11-05T18:33:45.825Z"
   },
   {
    "duration": 447,
    "start_time": "2023-11-05T18:33:45.888Z"
   },
   {
    "duration": 635,
    "start_time": "2023-11-05T18:33:46.338Z"
   },
   {
    "duration": 229,
    "start_time": "2023-11-05T18:33:46.975Z"
   },
   {
    "duration": 38,
    "start_time": "2023-11-05T18:33:47.206Z"
   },
   {
    "duration": 944,
    "start_time": "2023-11-05T18:33:47.247Z"
   },
   {
    "duration": 358,
    "start_time": "2023-11-05T18:33:48.193Z"
   },
   {
    "duration": 99,
    "start_time": "2023-11-05T18:33:48.555Z"
   },
   {
    "duration": 16,
    "start_time": "2023-11-05T18:33:48.659Z"
   },
   {
    "duration": 4,
    "start_time": "2023-11-05T18:33:48.680Z"
   },
   {
    "duration": 9179,
    "start_time": "2023-11-05T18:33:48.686Z"
   },
   {
    "duration": 6,
    "start_time": "2023-11-05T18:33:57.867Z"
   },
   {
    "duration": 28,
    "start_time": "2023-11-05T18:33:57.875Z"
   },
   {
    "duration": 5,
    "start_time": "2023-11-05T18:33:57.905Z"
   },
   {
    "duration": 5,
    "start_time": "2023-11-05T18:33:57.912Z"
   },
   {
    "duration": 1437,
    "start_time": "2023-11-05T18:33:57.919Z"
   },
   {
    "duration": 268,
    "start_time": "2023-11-05T18:33:59.358Z"
   },
   {
    "duration": 121,
    "start_time": "2023-11-05T18:33:59.628Z"
   },
   {
    "duration": 129,
    "start_time": "2023-11-05T18:33:59.750Z"
   },
   {
    "duration": 1727,
    "start_time": "2023-11-05T18:34:29.736Z"
   },
   {
    "duration": 4,
    "start_time": "2023-11-05T18:34:31.465Z"
   },
   {
    "duration": 374,
    "start_time": "2023-11-05T18:34:31.471Z"
   },
   {
    "duration": 367,
    "start_time": "2023-11-05T18:34:31.847Z"
   },
   {
    "duration": 351,
    "start_time": "2023-11-05T18:34:32.216Z"
   },
   {
    "duration": 22,
    "start_time": "2023-11-05T18:34:32.569Z"
   },
   {
    "duration": 24,
    "start_time": "2023-11-05T18:34:32.593Z"
   },
   {
    "duration": 79,
    "start_time": "2023-11-05T18:34:32.643Z"
   },
   {
    "duration": 54,
    "start_time": "2023-11-05T18:34:32.724Z"
   },
   {
    "duration": 456,
    "start_time": "2023-11-05T18:34:32.781Z"
   },
   {
    "duration": 735,
    "start_time": "2023-11-05T18:34:33.243Z"
   },
   {
    "duration": 13,
    "start_time": "2023-11-05T18:34:33.980Z"
   },
   {
    "duration": 67,
    "start_time": "2023-11-05T18:34:33.995Z"
   },
   {
    "duration": 38,
    "start_time": "2023-11-05T18:34:34.064Z"
   },
   {
    "duration": 569,
    "start_time": "2023-11-05T18:34:34.104Z"
   },
   {
    "duration": 689,
    "start_time": "2023-11-05T18:34:34.675Z"
   },
   {
    "duration": 12,
    "start_time": "2023-11-05T18:34:35.367Z"
   },
   {
    "duration": 101,
    "start_time": "2023-11-05T18:34:35.381Z"
   },
   {
    "duration": 64,
    "start_time": "2023-11-05T18:34:35.484Z"
   },
   {
    "duration": 396,
    "start_time": "2023-11-05T18:34:35.550Z"
   },
   {
    "duration": 690,
    "start_time": "2023-11-05T18:34:35.948Z"
   },
   {
    "duration": 161,
    "start_time": "2023-11-05T18:34:36.640Z"
   },
   {
    "duration": 26,
    "start_time": "2023-11-05T18:34:36.803Z"
   },
   {
    "duration": 951,
    "start_time": "2023-11-05T18:34:36.846Z"
   },
   {
    "duration": 349,
    "start_time": "2023-11-05T18:34:37.800Z"
   },
   {
    "duration": 93,
    "start_time": "2023-11-05T18:34:38.151Z"
   },
   {
    "duration": 98,
    "start_time": "2023-11-05T18:34:38.247Z"
   },
   {
    "duration": 12,
    "start_time": "2023-11-05T18:34:38.350Z"
   },
   {
    "duration": 6597,
    "start_time": "2023-11-05T18:34:38.364Z"
   },
   {
    "duration": 7,
    "start_time": "2023-11-05T18:34:44.963Z"
   },
   {
    "duration": 13,
    "start_time": "2023-11-05T18:34:44.972Z"
   },
   {
    "duration": 8,
    "start_time": "2023-11-05T18:34:44.987Z"
   },
   {
    "duration": 15,
    "start_time": "2023-11-05T18:34:44.998Z"
   },
   {
    "duration": 1275,
    "start_time": "2023-11-05T18:34:45.017Z"
   },
   {
    "duration": 296,
    "start_time": "2023-11-05T18:34:46.294Z"
   },
   {
    "duration": 135,
    "start_time": "2023-11-05T18:34:46.592Z"
   },
   {
    "duration": 169,
    "start_time": "2023-11-05T18:34:46.729Z"
   },
   {
    "duration": 65,
    "start_time": "2023-11-05T19:24:49.609Z"
   },
   {
    "duration": 3,
    "start_time": "2023-11-05T19:24:57.568Z"
   },
   {
    "duration": 5,
    "start_time": "2023-11-05T19:24:59.557Z"
   },
   {
    "duration": 1903,
    "start_time": "2023-11-05T19:25:05.949Z"
   },
   {
    "duration": 3,
    "start_time": "2023-11-05T19:25:07.855Z"
   },
   {
    "duration": 393,
    "start_time": "2023-11-05T19:25:07.860Z"
   },
   {
    "duration": 450,
    "start_time": "2023-11-05T19:25:08.255Z"
   },
   {
    "duration": 340,
    "start_time": "2023-11-05T19:25:08.708Z"
   },
   {
    "duration": 21,
    "start_time": "2023-11-05T19:25:09.051Z"
   },
   {
    "duration": 21,
    "start_time": "2023-11-05T19:25:09.074Z"
   },
   {
    "duration": 77,
    "start_time": "2023-11-05T19:25:09.097Z"
   },
   {
    "duration": 38,
    "start_time": "2023-11-05T19:25:09.176Z"
   },
   {
    "duration": 417,
    "start_time": "2023-11-05T19:25:09.217Z"
   },
   {
    "duration": 638,
    "start_time": "2023-11-05T19:25:09.636Z"
   },
   {
    "duration": 12,
    "start_time": "2023-11-05T19:25:10.275Z"
   },
   {
    "duration": 60,
    "start_time": "2023-11-05T19:25:10.289Z"
   },
   {
    "duration": 35,
    "start_time": "2023-11-05T19:25:10.353Z"
   },
   {
    "duration": 482,
    "start_time": "2023-11-05T19:25:10.390Z"
   },
   {
    "duration": 663,
    "start_time": "2023-11-05T19:25:10.874Z"
   },
   {
    "duration": 14,
    "start_time": "2023-11-05T19:25:11.544Z"
   },
   {
    "duration": 58,
    "start_time": "2023-11-05T19:25:11.559Z"
   },
   {
    "duration": 52,
    "start_time": "2023-11-05T19:25:11.619Z"
   },
   {
    "duration": 343,
    "start_time": "2023-11-05T19:25:11.673Z"
   },
   {
    "duration": 653,
    "start_time": "2023-11-05T19:25:12.019Z"
   },
   {
    "duration": 176,
    "start_time": "2023-11-05T19:25:12.675Z"
   },
   {
    "duration": 19,
    "start_time": "2023-11-05T19:25:12.852Z"
   },
   {
    "duration": 887,
    "start_time": "2023-11-05T19:25:12.873Z"
   },
   {
    "duration": 502,
    "start_time": "2023-11-05T19:25:13.761Z"
   },
   {
    "duration": 179,
    "start_time": "2023-11-05T19:25:14.265Z"
   },
   {
    "duration": 11,
    "start_time": "2023-11-05T19:25:14.447Z"
   },
   {
    "duration": 21,
    "start_time": "2023-11-05T19:25:14.463Z"
   },
   {
    "duration": 17,
    "start_time": "2023-11-05T19:25:14.487Z"
   },
   {
    "duration": 6907,
    "start_time": "2023-11-05T19:25:14.506Z"
   },
   {
    "duration": 6,
    "start_time": "2023-11-05T19:25:21.414Z"
   },
   {
    "duration": 112,
    "start_time": "2023-11-05T19:25:21.421Z"
   },
   {
    "duration": 75,
    "start_time": "2023-11-05T19:25:21.535Z"
   },
   {
    "duration": 5,
    "start_time": "2023-11-05T19:25:21.612Z"
   },
   {
    "duration": 1321,
    "start_time": "2023-11-05T19:25:21.618Z"
   },
   {
    "duration": 276,
    "start_time": "2023-11-05T19:25:22.941Z"
   },
   {
    "duration": 125,
    "start_time": "2023-11-05T19:25:23.218Z"
   },
   {
    "duration": 134,
    "start_time": "2023-11-05T19:25:23.346Z"
   },
   {
    "duration": 5,
    "start_time": "2023-11-05T19:25:53.218Z"
   },
   {
    "duration": 2822,
    "start_time": "2023-11-05T19:26:11.929Z"
   },
   {
    "duration": 16,
    "start_time": "2023-11-05T19:26:21.172Z"
   },
   {
    "duration": 5,
    "start_time": "2023-11-05T19:26:58.429Z"
   },
   {
    "duration": 6,
    "start_time": "2023-11-05T19:26:58.717Z"
   },
   {
    "duration": 2266,
    "start_time": "2023-11-05T19:27:00.629Z"
   },
   {
    "duration": 6,
    "start_time": "2023-11-05T19:27:02.897Z"
   },
   {
    "duration": 164,
    "start_time": "2023-11-05T19:27:22.383Z"
   },
   {
    "duration": 4,
    "start_time": "2023-11-05T19:28:13.485Z"
   },
   {
    "duration": 5,
    "start_time": "2023-11-05T19:28:23.146Z"
   },
   {
    "duration": 1439,
    "start_time": "2023-11-05T19:29:39.373Z"
   },
   {
    "duration": 5,
    "start_time": "2023-11-05T19:29:40.815Z"
   },
   {
    "duration": 373,
    "start_time": "2023-11-05T19:29:40.821Z"
   },
   {
    "duration": 308,
    "start_time": "2023-11-05T19:29:41.197Z"
   },
   {
    "duration": 312,
    "start_time": "2023-11-05T19:29:41.508Z"
   },
   {
    "duration": 29,
    "start_time": "2023-11-05T19:29:41.822Z"
   },
   {
    "duration": 17,
    "start_time": "2023-11-05T19:29:41.853Z"
   },
   {
    "duration": 93,
    "start_time": "2023-11-05T19:29:41.871Z"
   },
   {
    "duration": 47,
    "start_time": "2023-11-05T19:29:41.966Z"
   },
   {
    "duration": 403,
    "start_time": "2023-11-05T19:29:42.014Z"
   },
   {
    "duration": 642,
    "start_time": "2023-11-05T19:29:42.419Z"
   },
   {
    "duration": 15,
    "start_time": "2023-11-05T19:29:43.063Z"
   },
   {
    "duration": 71,
    "start_time": "2023-11-05T19:29:43.080Z"
   },
   {
    "duration": 39,
    "start_time": "2023-11-05T19:29:43.156Z"
   },
   {
    "duration": 483,
    "start_time": "2023-11-05T19:29:43.197Z"
   },
   {
    "duration": 697,
    "start_time": "2023-11-05T19:29:43.683Z"
   },
   {
    "duration": 16,
    "start_time": "2023-11-05T19:29:44.382Z"
   },
   {
    "duration": 93,
    "start_time": "2023-11-05T19:29:44.412Z"
   },
   {
    "duration": 64,
    "start_time": "2023-11-05T19:29:44.508Z"
   },
   {
    "duration": 414,
    "start_time": "2023-11-05T19:29:44.575Z"
   },
   {
    "duration": 625,
    "start_time": "2023-11-05T19:29:44.991Z"
   },
   {
    "duration": 158,
    "start_time": "2023-11-05T19:29:45.618Z"
   },
   {
    "duration": 18,
    "start_time": "2023-11-05T19:29:45.777Z"
   },
   {
    "duration": 945,
    "start_time": "2023-11-05T19:29:45.797Z"
   },
   {
    "duration": 427,
    "start_time": "2023-11-05T19:29:46.744Z"
   },
   {
    "duration": 99,
    "start_time": "2023-11-05T19:29:47.245Z"
   },
   {
    "duration": 8,
    "start_time": "2023-11-05T19:29:47.346Z"
   },
   {
    "duration": 12,
    "start_time": "2023-11-05T19:29:47.356Z"
   },
   {
    "duration": 39,
    "start_time": "2023-11-05T19:29:47.371Z"
   },
   {
    "duration": 2327,
    "start_time": "2023-11-05T19:29:47.412Z"
   },
   {
    "duration": 3,
    "start_time": "2023-11-05T19:29:49.741Z"
   },
   {
    "duration": 6711,
    "start_time": "2023-11-05T19:29:49.746Z"
   },
   {
    "duration": 7,
    "start_time": "2023-11-05T19:29:56.459Z"
   },
   {
    "duration": 45,
    "start_time": "2023-11-05T19:29:56.469Z"
   },
   {
    "duration": 24,
    "start_time": "2023-11-05T19:29:56.516Z"
   },
   {
    "duration": 20,
    "start_time": "2023-11-05T19:29:56.542Z"
   },
   {
    "duration": 1307,
    "start_time": "2023-11-05T19:29:56.564Z"
   },
   {
    "duration": 290,
    "start_time": "2023-11-05T19:29:57.873Z"
   },
   {
    "duration": 136,
    "start_time": "2023-11-05T19:29:58.165Z"
   },
   {
    "duration": 113,
    "start_time": "2023-11-05T19:29:58.303Z"
   },
   {
    "duration": 2224,
    "start_time": "2023-11-05T19:34:05.334Z"
   },
   {
    "duration": 3,
    "start_time": "2023-11-05T19:34:07.560Z"
   },
   {
    "duration": 2202,
    "start_time": "2023-11-05T19:34:08.732Z"
   },
   {
    "duration": 4,
    "start_time": "2023-11-05T19:34:13.565Z"
   },
   {
    "duration": 5,
    "start_time": "2023-11-05T19:35:33.145Z"
   },
   {
    "duration": 4,
    "start_time": "2023-11-05T19:35:43.021Z"
   },
   {
    "duration": 110,
    "start_time": "2023-11-05T19:35:45.035Z"
   },
   {
    "duration": 5,
    "start_time": "2023-11-05T19:36:02.853Z"
   },
   {
    "duration": 5,
    "start_time": "2023-11-05T19:36:06.343Z"
   },
   {
    "duration": 89,
    "start_time": "2023-11-05T19:37:30.416Z"
   },
   {
    "duration": 8,
    "start_time": "2023-11-05T19:39:01.257Z"
   },
   {
    "duration": 5,
    "start_time": "2023-11-05T19:39:02.682Z"
   },
   {
    "duration": 5,
    "start_time": "2023-11-05T19:41:06.013Z"
   },
   {
    "duration": 2145,
    "start_time": "2023-11-05T19:41:09.772Z"
   },
   {
    "duration": 1441,
    "start_time": "2023-11-05T19:41:32.151Z"
   },
   {
    "duration": 4,
    "start_time": "2023-11-05T19:41:33.595Z"
   },
   {
    "duration": 380,
    "start_time": "2023-11-05T19:41:33.601Z"
   },
   {
    "duration": 356,
    "start_time": "2023-11-05T19:41:33.983Z"
   },
   {
    "duration": 456,
    "start_time": "2023-11-05T19:41:34.342Z"
   },
   {
    "duration": 26,
    "start_time": "2023-11-05T19:41:34.800Z"
   },
   {
    "duration": 30,
    "start_time": "2023-11-05T19:41:34.828Z"
   },
   {
    "duration": 52,
    "start_time": "2023-11-05T19:41:34.860Z"
   },
   {
    "duration": 59,
    "start_time": "2023-11-05T19:41:34.914Z"
   },
   {
    "duration": 405,
    "start_time": "2023-11-05T19:41:34.975Z"
   },
   {
    "duration": 638,
    "start_time": "2023-11-05T19:41:35.382Z"
   },
   {
    "duration": 24,
    "start_time": "2023-11-05T19:41:36.022Z"
   },
   {
    "duration": 57,
    "start_time": "2023-11-05T19:41:36.048Z"
   },
   {
    "duration": 53,
    "start_time": "2023-11-05T19:41:36.109Z"
   },
   {
    "duration": 435,
    "start_time": "2023-11-05T19:41:36.164Z"
   },
   {
    "duration": 633,
    "start_time": "2023-11-05T19:41:36.600Z"
   },
   {
    "duration": 20,
    "start_time": "2023-11-05T19:41:37.234Z"
   },
   {
    "duration": 62,
    "start_time": "2023-11-05T19:41:37.255Z"
   },
   {
    "duration": 48,
    "start_time": "2023-11-05T19:41:37.319Z"
   },
   {
    "duration": 338,
    "start_time": "2023-11-05T19:41:37.369Z"
   },
   {
    "duration": 628,
    "start_time": "2023-11-05T19:41:37.708Z"
   },
   {
    "duration": 165,
    "start_time": "2023-11-05T19:41:38.338Z"
   },
   {
    "duration": 18,
    "start_time": "2023-11-05T19:41:38.506Z"
   },
   {
    "duration": 819,
    "start_time": "2023-11-05T19:41:38.527Z"
   },
   {
    "duration": 497,
    "start_time": "2023-11-05T19:41:39.349Z"
   },
   {
    "duration": 98,
    "start_time": "2023-11-05T19:41:39.849Z"
   },
   {
    "duration": 17,
    "start_time": "2023-11-05T19:41:39.949Z"
   },
   {
    "duration": 44,
    "start_time": "2023-11-05T19:41:39.968Z"
   },
   {
    "duration": 57,
    "start_time": "2023-11-05T19:41:40.014Z"
   },
   {
    "duration": 37,
    "start_time": "2023-11-05T19:41:40.073Z"
   },
   {
    "duration": 15,
    "start_time": "2023-11-05T19:41:40.113Z"
   },
   {
    "duration": 8,
    "start_time": "2023-11-05T19:41:40.130Z"
   },
   {
    "duration": 150,
    "start_time": "2023-11-05T19:41:40.140Z"
   },
   {
    "duration": 0,
    "start_time": "2023-11-05T19:41:40.293Z"
   },
   {
    "duration": 0,
    "start_time": "2023-11-05T19:41:40.294Z"
   },
   {
    "duration": 0,
    "start_time": "2023-11-05T19:41:40.295Z"
   },
   {
    "duration": 0,
    "start_time": "2023-11-05T19:41:40.296Z"
   },
   {
    "duration": 0,
    "start_time": "2023-11-05T19:41:40.297Z"
   },
   {
    "duration": 0,
    "start_time": "2023-11-05T19:41:40.298Z"
   },
   {
    "duration": 0,
    "start_time": "2023-11-05T19:41:40.299Z"
   },
   {
    "duration": 4,
    "start_time": "2023-11-05T19:42:15.001Z"
   },
   {
    "duration": 2261,
    "start_time": "2023-11-05T19:42:17.292Z"
   },
   {
    "duration": 6,
    "start_time": "2023-11-05T19:43:56.454Z"
   },
   {
    "duration": 10,
    "start_time": "2023-11-05T19:43:58.412Z"
   },
   {
    "duration": 6,
    "start_time": "2023-11-05T19:44:00.213Z"
   },
   {
    "duration": 8,
    "start_time": "2023-11-05T19:44:02.674Z"
   },
   {
    "duration": 2250,
    "start_time": "2023-11-05T19:44:04.153Z"
   },
   {
    "duration": 5,
    "start_time": "2023-11-05T19:46:48.593Z"
   },
   {
    "duration": 6,
    "start_time": "2023-11-05T19:46:49.842Z"
   },
   {
    "duration": 5,
    "start_time": "2023-11-05T19:46:51.213Z"
   },
   {
    "duration": 1421,
    "start_time": "2023-11-05T19:52:00.290Z"
   },
   {
    "duration": 3,
    "start_time": "2023-11-05T19:52:01.713Z"
   },
   {
    "duration": 436,
    "start_time": "2023-11-05T19:52:01.718Z"
   },
   {
    "duration": 339,
    "start_time": "2023-11-05T19:52:02.156Z"
   },
   {
    "duration": 368,
    "start_time": "2023-11-05T19:52:02.498Z"
   },
   {
    "duration": 22,
    "start_time": "2023-11-05T19:52:02.867Z"
   },
   {
    "duration": 24,
    "start_time": "2023-11-05T19:52:02.891Z"
   },
   {
    "duration": 111,
    "start_time": "2023-11-05T19:52:02.917Z"
   },
   {
    "duration": 51,
    "start_time": "2023-11-05T19:52:03.030Z"
   },
   {
    "duration": 431,
    "start_time": "2023-11-05T19:52:03.084Z"
   },
   {
    "duration": 658,
    "start_time": "2023-11-05T19:52:03.517Z"
   },
   {
    "duration": 11,
    "start_time": "2023-11-05T19:52:04.176Z"
   },
   {
    "duration": 67,
    "start_time": "2023-11-05T19:52:04.189Z"
   },
   {
    "duration": 38,
    "start_time": "2023-11-05T19:52:04.259Z"
   },
   {
    "duration": 511,
    "start_time": "2023-11-05T19:52:04.299Z"
   },
   {
    "duration": 635,
    "start_time": "2023-11-05T19:52:04.812Z"
   },
   {
    "duration": 14,
    "start_time": "2023-11-05T19:52:05.449Z"
   },
   {
    "duration": 61,
    "start_time": "2023-11-05T19:52:05.465Z"
   },
   {
    "duration": 48,
    "start_time": "2023-11-05T19:52:05.527Z"
   },
   {
    "duration": 381,
    "start_time": "2023-11-05T19:52:05.578Z"
   },
   {
    "duration": 644,
    "start_time": "2023-11-05T19:52:05.960Z"
   },
   {
    "duration": 155,
    "start_time": "2023-11-05T19:52:06.607Z"
   },
   {
    "duration": 18,
    "start_time": "2023-11-05T19:52:06.764Z"
   },
   {
    "duration": 865,
    "start_time": "2023-11-05T19:52:06.784Z"
   },
   {
    "duration": 205,
    "start_time": "2023-11-05T19:52:07.650Z"
   },
   {
    "duration": 101,
    "start_time": "2023-11-05T19:52:07.857Z"
   },
   {
    "duration": 8,
    "start_time": "2023-11-05T19:52:08.043Z"
   },
   {
    "duration": 24,
    "start_time": "2023-11-05T19:52:08.052Z"
   },
   {
    "duration": 6135,
    "start_time": "2023-11-05T19:52:08.078Z"
   },
   {
    "duration": 6,
    "start_time": "2023-11-05T19:52:14.215Z"
   },
   {
    "duration": 27,
    "start_time": "2023-11-05T19:52:14.223Z"
   },
   {
    "duration": 17,
    "start_time": "2023-11-05T19:52:14.253Z"
   },
   {
    "duration": 18,
    "start_time": "2023-11-05T19:52:14.272Z"
   },
   {
    "duration": 11,
    "start_time": "2023-11-05T19:52:14.292Z"
   },
   {
    "duration": 1337,
    "start_time": "2023-11-05T19:52:14.306Z"
   },
   {
    "duration": 262,
    "start_time": "2023-11-05T19:52:15.645Z"
   },
   {
    "duration": 119,
    "start_time": "2023-11-05T19:52:15.909Z"
   },
   {
    "duration": 106,
    "start_time": "2023-11-05T19:52:16.030Z"
   },
   {
    "duration": 8,
    "start_time": "2023-11-05T19:56:40.896Z"
   },
   {
    "duration": 2211,
    "start_time": "2023-11-05T19:56:42.517Z"
   },
   {
    "duration": 2130,
    "start_time": "2023-11-05T19:56:58.009Z"
   },
   {
    "duration": 2297,
    "start_time": "2023-11-05T19:57:13.069Z"
   },
   {
    "duration": 2130,
    "start_time": "2023-11-05T19:57:37.792Z"
   },
   {
    "duration": 1562,
    "start_time": "2023-11-05T19:57:53.377Z"
   },
   {
    "duration": 4,
    "start_time": "2023-11-05T19:57:54.941Z"
   },
   {
    "duration": 323,
    "start_time": "2023-11-05T19:57:54.947Z"
   },
   {
    "duration": 276,
    "start_time": "2023-11-05T19:57:55.272Z"
   },
   {
    "duration": 298,
    "start_time": "2023-11-05T19:57:55.551Z"
   },
   {
    "duration": 17,
    "start_time": "2023-11-05T19:57:55.851Z"
   },
   {
    "duration": 41,
    "start_time": "2023-11-05T19:57:55.869Z"
   },
   {
    "duration": 76,
    "start_time": "2023-11-05T19:57:55.911Z"
   },
   {
    "duration": 42,
    "start_time": "2023-11-05T19:57:55.988Z"
   },
   {
    "duration": 353,
    "start_time": "2023-11-05T19:57:56.043Z"
   },
   {
    "duration": 615,
    "start_time": "2023-11-05T19:57:56.398Z"
   },
   {
    "duration": 17,
    "start_time": "2023-11-05T19:57:57.016Z"
   },
   {
    "duration": 84,
    "start_time": "2023-11-05T19:57:57.035Z"
   },
   {
    "duration": 49,
    "start_time": "2023-11-05T19:57:57.123Z"
   },
   {
    "duration": 419,
    "start_time": "2023-11-05T19:57:57.174Z"
   },
   {
    "duration": 621,
    "start_time": "2023-11-05T19:57:57.595Z"
   },
   {
    "duration": 15,
    "start_time": "2023-11-05T19:57:58.218Z"
   },
   {
    "duration": 55,
    "start_time": "2023-11-05T19:57:58.244Z"
   },
   {
    "duration": 57,
    "start_time": "2023-11-05T19:57:58.301Z"
   },
   {
    "duration": 327,
    "start_time": "2023-11-05T19:57:58.359Z"
   },
   {
    "duration": 617,
    "start_time": "2023-11-05T19:57:58.687Z"
   },
   {
    "duration": 160,
    "start_time": "2023-11-05T19:57:59.306Z"
   },
   {
    "duration": 18,
    "start_time": "2023-11-05T19:57:59.468Z"
   },
   {
    "duration": 887,
    "start_time": "2023-11-05T19:57:59.488Z"
   },
   {
    "duration": 370,
    "start_time": "2023-11-05T19:58:00.377Z"
   },
   {
    "duration": 94,
    "start_time": "2023-11-05T19:58:00.750Z"
   },
   {
    "duration": 55,
    "start_time": "2023-11-05T19:58:00.847Z"
   },
   {
    "duration": 63,
    "start_time": "2023-11-05T19:58:00.904Z"
   },
   {
    "duration": 29,
    "start_time": "2023-11-05T19:58:00.970Z"
   },
   {
    "duration": 2302,
    "start_time": "2023-11-05T19:58:01.001Z"
   },
   {
    "duration": 6218,
    "start_time": "2023-11-05T19:58:03.305Z"
   },
   {
    "duration": 7,
    "start_time": "2023-11-05T19:58:09.525Z"
   },
   {
    "duration": 21,
    "start_time": "2023-11-05T19:58:09.534Z"
   },
   {
    "duration": 17,
    "start_time": "2023-11-05T19:58:09.557Z"
   },
   {
    "duration": 12,
    "start_time": "2023-11-05T19:58:09.575Z"
   },
   {
    "duration": 1338,
    "start_time": "2023-11-05T19:58:09.589Z"
   },
   {
    "duration": 276,
    "start_time": "2023-11-05T19:58:10.930Z"
   },
   {
    "duration": 114,
    "start_time": "2023-11-05T19:58:11.207Z"
   },
   {
    "duration": 104,
    "start_time": "2023-11-05T19:58:11.322Z"
   },
   {
    "duration": 2209,
    "start_time": "2023-11-05T19:58:56.914Z"
   },
   {
    "duration": 2239,
    "start_time": "2023-11-05T19:59:01.673Z"
   },
   {
    "duration": 2147,
    "start_time": "2023-11-05T19:59:25.577Z"
   },
   {
    "duration": 2261,
    "start_time": "2023-11-05T20:01:30.816Z"
   },
   {
    "duration": 11,
    "start_time": "2023-11-05T20:02:23.533Z"
   },
   {
    "duration": 2266,
    "start_time": "2023-11-05T20:03:41.042Z"
   },
   {
    "duration": 2201,
    "start_time": "2023-11-05T20:03:44.273Z"
   },
   {
    "duration": 5,
    "start_time": "2023-11-05T20:03:58.081Z"
   },
   {
    "duration": 11,
    "start_time": "2023-11-05T20:07:04.386Z"
   },
   {
    "duration": 5,
    "start_time": "2023-11-05T20:08:33.474Z"
   },
   {
    "duration": 8,
    "start_time": "2023-11-05T20:08:43.939Z"
   },
   {
    "duration": 6914,
    "start_time": "2023-11-05T20:09:03.221Z"
   },
   {
    "duration": 6973,
    "start_time": "2023-11-05T20:09:11.622Z"
   },
   {
    "duration": 6,
    "start_time": "2023-11-05T20:09:18.597Z"
   },
   {
    "duration": 5,
    "start_time": "2023-11-05T20:09:22.681Z"
   },
   {
    "duration": 1500,
    "start_time": "2023-11-05T20:09:41.211Z"
   },
   {
    "duration": 4,
    "start_time": "2023-11-05T20:09:42.714Z"
   },
   {
    "duration": 358,
    "start_time": "2023-11-05T20:09:42.720Z"
   },
   {
    "duration": 344,
    "start_time": "2023-11-05T20:09:43.080Z"
   },
   {
    "duration": 363,
    "start_time": "2023-11-05T20:09:43.426Z"
   },
   {
    "duration": 25,
    "start_time": "2023-11-05T20:09:43.792Z"
   },
   {
    "duration": 29,
    "start_time": "2023-11-05T20:09:43.819Z"
   },
   {
    "duration": 61,
    "start_time": "2023-11-05T20:09:43.851Z"
   },
   {
    "duration": 66,
    "start_time": "2023-11-05T20:09:43.914Z"
   },
   {
    "duration": 426,
    "start_time": "2023-11-05T20:09:43.982Z"
   },
   {
    "duration": 701,
    "start_time": "2023-11-05T20:09:44.410Z"
   },
   {
    "duration": 11,
    "start_time": "2023-11-05T20:09:45.113Z"
   },
   {
    "duration": 63,
    "start_time": "2023-11-05T20:09:45.125Z"
   },
   {
    "duration": 35,
    "start_time": "2023-11-05T20:09:45.191Z"
   },
   {
    "duration": 438,
    "start_time": "2023-11-05T20:09:45.228Z"
   },
   {
    "duration": 613,
    "start_time": "2023-11-05T20:09:45.668Z"
   },
   {
    "duration": 13,
    "start_time": "2023-11-05T20:09:46.283Z"
   },
   {
    "duration": 69,
    "start_time": "2023-11-05T20:09:46.298Z"
   },
   {
    "duration": 44,
    "start_time": "2023-11-05T20:09:46.369Z"
   },
   {
    "duration": 359,
    "start_time": "2023-11-05T20:09:46.414Z"
   },
   {
    "duration": 599,
    "start_time": "2023-11-05T20:09:46.775Z"
   },
   {
    "duration": 148,
    "start_time": "2023-11-05T20:09:47.376Z"
   },
   {
    "duration": 28,
    "start_time": "2023-11-05T20:09:47.526Z"
   },
   {
    "duration": 889,
    "start_time": "2023-11-05T20:09:47.556Z"
   },
   {
    "duration": 303,
    "start_time": "2023-11-05T20:09:48.446Z"
   },
   {
    "duration": 105,
    "start_time": "2023-11-05T20:09:48.751Z"
   },
   {
    "duration": 89,
    "start_time": "2023-11-05T20:09:48.858Z"
   },
   {
    "duration": 28,
    "start_time": "2023-11-05T20:09:48.949Z"
   },
   {
    "duration": 20,
    "start_time": "2023-11-05T20:09:48.978Z"
   },
   {
    "duration": 23,
    "start_time": "2023-11-05T20:09:48.999Z"
   },
   {
    "duration": 6045,
    "start_time": "2023-11-05T20:09:49.024Z"
   },
   {
    "duration": 4,
    "start_time": "2023-11-05T20:09:55.071Z"
   },
   {
    "duration": 9,
    "start_time": "2023-11-05T20:09:55.076Z"
   },
   {
    "duration": 13,
    "start_time": "2023-11-05T20:09:55.086Z"
   },
   {
    "duration": 4,
    "start_time": "2023-11-05T20:09:55.101Z"
   },
   {
    "duration": 26,
    "start_time": "2023-11-05T20:09:55.107Z"
   },
   {
    "duration": 1144,
    "start_time": "2023-11-05T20:09:55.143Z"
   },
   {
    "duration": 281,
    "start_time": "2023-11-05T20:09:56.289Z"
   },
   {
    "duration": 102,
    "start_time": "2023-11-05T20:09:56.572Z"
   },
   {
    "duration": 111,
    "start_time": "2023-11-05T20:09:56.677Z"
   },
   {
    "duration": 10,
    "start_time": "2023-11-05T20:15:03.436Z"
   },
   {
    "duration": 13,
    "start_time": "2023-11-05T20:15:30.749Z"
   },
   {
    "duration": 14,
    "start_time": "2023-11-05T20:15:33.309Z"
   },
   {
    "duration": 12,
    "start_time": "2023-11-05T20:15:33.867Z"
   },
   {
    "duration": 1532,
    "start_time": "2023-11-05T20:16:03.264Z"
   },
   {
    "duration": 3,
    "start_time": "2023-11-05T20:16:04.798Z"
   },
   {
    "duration": 315,
    "start_time": "2023-11-05T20:16:04.803Z"
   },
   {
    "duration": 334,
    "start_time": "2023-11-05T20:16:05.120Z"
   },
   {
    "duration": 290,
    "start_time": "2023-11-05T20:16:05.457Z"
   },
   {
    "duration": 19,
    "start_time": "2023-11-05T20:16:05.749Z"
   },
   {
    "duration": 22,
    "start_time": "2023-11-05T20:16:05.770Z"
   },
   {
    "duration": 76,
    "start_time": "2023-11-05T20:16:05.794Z"
   },
   {
    "duration": 35,
    "start_time": "2023-11-05T20:16:05.871Z"
   },
   {
    "duration": 403,
    "start_time": "2023-11-05T20:16:05.908Z"
   },
   {
    "duration": 642,
    "start_time": "2023-11-05T20:16:06.313Z"
   },
   {
    "duration": 11,
    "start_time": "2023-11-05T20:16:06.957Z"
   },
   {
    "duration": 89,
    "start_time": "2023-11-05T20:16:06.970Z"
   },
   {
    "duration": 33,
    "start_time": "2023-11-05T20:16:07.064Z"
   },
   {
    "duration": 482,
    "start_time": "2023-11-05T20:16:07.099Z"
   },
   {
    "duration": 596,
    "start_time": "2023-11-05T20:16:07.583Z"
   },
   {
    "duration": 11,
    "start_time": "2023-11-05T20:16:08.181Z"
   },
   {
    "duration": 69,
    "start_time": "2023-11-05T20:16:08.194Z"
   },
   {
    "duration": 36,
    "start_time": "2023-11-05T20:16:08.265Z"
   },
   {
    "duration": 391,
    "start_time": "2023-11-05T20:16:08.303Z"
   },
   {
    "duration": 630,
    "start_time": "2023-11-05T20:16:08.696Z"
   },
   {
    "duration": 151,
    "start_time": "2023-11-05T20:16:09.327Z"
   },
   {
    "duration": 18,
    "start_time": "2023-11-05T20:16:09.479Z"
   },
   {
    "duration": 837,
    "start_time": "2023-11-05T20:16:09.499Z"
   },
   {
    "duration": 507,
    "start_time": "2023-11-05T20:16:10.337Z"
   },
   {
    "duration": 98,
    "start_time": "2023-11-05T20:16:10.847Z"
   },
   {
    "duration": 9,
    "start_time": "2023-11-05T20:16:10.947Z"
   },
   {
    "duration": 30,
    "start_time": "2023-11-05T20:16:10.958Z"
   },
   {
    "duration": 15,
    "start_time": "2023-11-05T20:16:10.990Z"
   },
   {
    "duration": 42,
    "start_time": "2023-11-05T20:16:11.007Z"
   },
   {
    "duration": 6515,
    "start_time": "2023-11-05T20:16:11.051Z"
   },
   {
    "duration": 5,
    "start_time": "2023-11-05T20:16:17.568Z"
   },
   {
    "duration": 12,
    "start_time": "2023-11-05T20:16:17.575Z"
   },
   {
    "duration": 5,
    "start_time": "2023-11-05T20:16:17.590Z"
   },
   {
    "duration": 9,
    "start_time": "2023-11-05T20:16:17.597Z"
   },
   {
    "duration": 1175,
    "start_time": "2023-11-05T20:16:17.608Z"
   },
   {
    "duration": 267,
    "start_time": "2023-11-05T20:16:18.785Z"
   },
   {
    "duration": 116,
    "start_time": "2023-11-05T20:16:19.054Z"
   },
   {
    "duration": 112,
    "start_time": "2023-11-05T20:16:19.172Z"
   },
   {
    "duration": 295,
    "start_time": "2023-11-05T20:17:08.407Z"
   },
   {
    "duration": 5,
    "start_time": "2023-11-05T20:19:15.013Z"
   },
   {
    "duration": 114,
    "start_time": "2023-11-05T20:19:27.605Z"
   },
   {
    "duration": 1509,
    "start_time": "2023-11-05T20:19:43.938Z"
   },
   {
    "duration": 4,
    "start_time": "2023-11-05T20:19:45.449Z"
   },
   {
    "duration": 336,
    "start_time": "2023-11-05T20:19:45.455Z"
   },
   {
    "duration": 289,
    "start_time": "2023-11-05T20:19:45.794Z"
   },
   {
    "duration": 296,
    "start_time": "2023-11-05T20:19:46.086Z"
   },
   {
    "duration": 19,
    "start_time": "2023-11-05T20:19:46.384Z"
   },
   {
    "duration": 29,
    "start_time": "2023-11-05T20:19:46.405Z"
   },
   {
    "duration": 64,
    "start_time": "2023-11-05T20:19:46.436Z"
   },
   {
    "duration": 48,
    "start_time": "2023-11-05T20:19:46.502Z"
   },
   {
    "duration": 361,
    "start_time": "2023-11-05T20:19:46.552Z"
   },
   {
    "duration": 621,
    "start_time": "2023-11-05T20:19:46.914Z"
   },
   {
    "duration": 13,
    "start_time": "2023-11-05T20:19:47.536Z"
   },
   {
    "duration": 54,
    "start_time": "2023-11-05T20:19:47.551Z"
   },
   {
    "duration": 50,
    "start_time": "2023-11-05T20:19:47.608Z"
   },
   {
    "duration": 406,
    "start_time": "2023-11-05T20:19:47.659Z"
   },
   {
    "duration": 592,
    "start_time": "2023-11-05T20:19:48.067Z"
   },
   {
    "duration": 12,
    "start_time": "2023-11-05T20:19:48.660Z"
   },
   {
    "duration": 65,
    "start_time": "2023-11-05T20:19:48.674Z"
   },
   {
    "duration": 35,
    "start_time": "2023-11-05T20:19:48.741Z"
   },
   {
    "duration": 374,
    "start_time": "2023-11-05T20:19:48.778Z"
   },
   {
    "duration": 631,
    "start_time": "2023-11-05T20:19:49.153Z"
   },
   {
    "duration": 190,
    "start_time": "2023-11-05T20:19:49.786Z"
   },
   {
    "duration": 27,
    "start_time": "2023-11-05T20:19:49.978Z"
   },
   {
    "duration": 943,
    "start_time": "2023-11-05T20:19:50.007Z"
   },
   {
    "duration": 302,
    "start_time": "2023-11-05T20:19:50.952Z"
   },
   {
    "duration": 93,
    "start_time": "2023-11-05T20:19:51.256Z"
   },
   {
    "duration": 98,
    "start_time": "2023-11-05T20:19:51.351Z"
   },
   {
    "duration": 53,
    "start_time": "2023-11-05T20:19:51.451Z"
   },
   {
    "duration": 19,
    "start_time": "2023-11-05T20:19:51.506Z"
   },
   {
    "duration": 23,
    "start_time": "2023-11-05T20:19:51.526Z"
   },
   {
    "duration": 40,
    "start_time": "2023-11-05T20:19:51.551Z"
   },
   {
    "duration": 7419,
    "start_time": "2023-11-05T20:19:51.592Z"
   },
   {
    "duration": 5,
    "start_time": "2023-11-05T20:19:59.013Z"
   },
   {
    "duration": 29,
    "start_time": "2023-11-05T20:19:59.020Z"
   },
   {
    "duration": 12,
    "start_time": "2023-11-05T20:19:59.051Z"
   },
   {
    "duration": 9,
    "start_time": "2023-11-05T20:19:59.065Z"
   },
   {
    "duration": 1367,
    "start_time": "2023-11-05T20:19:59.076Z"
   },
   {
    "duration": 319,
    "start_time": "2023-11-05T20:20:00.445Z"
   },
   {
    "duration": 165,
    "start_time": "2023-11-05T20:20:00.766Z"
   },
   {
    "duration": 119,
    "start_time": "2023-11-05T20:20:00.933Z"
   },
   {
    "duration": 12,
    "start_time": "2023-11-05T20:21:16.137Z"
   },
   {
    "duration": 1481,
    "start_time": "2023-11-05T20:23:01.858Z"
   },
   {
    "duration": 3,
    "start_time": "2023-11-05T20:23:03.341Z"
   },
   {
    "duration": 335,
    "start_time": "2023-11-05T20:23:03.346Z"
   },
   {
    "duration": 277,
    "start_time": "2023-11-05T20:23:03.683Z"
   },
   {
    "duration": 286,
    "start_time": "2023-11-05T20:23:03.962Z"
   },
   {
    "duration": 20,
    "start_time": "2023-11-05T20:23:04.250Z"
   },
   {
    "duration": 17,
    "start_time": "2023-11-05T20:23:04.271Z"
   },
   {
    "duration": 81,
    "start_time": "2023-11-05T20:23:04.290Z"
   },
   {
    "duration": 40,
    "start_time": "2023-11-05T20:23:04.373Z"
   },
   {
    "duration": 434,
    "start_time": "2023-11-05T20:23:04.415Z"
   },
   {
    "duration": 600,
    "start_time": "2023-11-05T20:23:04.851Z"
   },
   {
    "duration": 12,
    "start_time": "2023-11-05T20:23:05.453Z"
   },
   {
    "duration": 50,
    "start_time": "2023-11-05T20:23:05.466Z"
   },
   {
    "duration": 53,
    "start_time": "2023-11-05T20:23:05.519Z"
   },
   {
    "duration": 388,
    "start_time": "2023-11-05T20:23:05.574Z"
   },
   {
    "duration": 584,
    "start_time": "2023-11-05T20:23:05.964Z"
   },
   {
    "duration": 11,
    "start_time": "2023-11-05T20:23:06.549Z"
   },
   {
    "duration": 54,
    "start_time": "2023-11-05T20:23:06.562Z"
   },
   {
    "duration": 54,
    "start_time": "2023-11-05T20:23:06.618Z"
   },
   {
    "duration": 323,
    "start_time": "2023-11-05T20:23:06.674Z"
   },
   {
    "duration": 599,
    "start_time": "2023-11-05T20:23:06.999Z"
   },
   {
    "duration": 152,
    "start_time": "2023-11-05T20:23:07.600Z"
   },
   {
    "duration": 17,
    "start_time": "2023-11-05T20:23:07.754Z"
   },
   {
    "duration": 827,
    "start_time": "2023-11-05T20:23:07.772Z"
   },
   {
    "duration": 351,
    "start_time": "2023-11-05T20:23:08.601Z"
   },
   {
    "duration": 89,
    "start_time": "2023-11-05T20:23:08.955Z"
   },
   {
    "duration": 97,
    "start_time": "2023-11-05T20:23:09.046Z"
   },
   {
    "duration": 5,
    "start_time": "2023-11-05T20:23:09.145Z"
   },
   {
    "duration": 5,
    "start_time": "2023-11-05T20:23:09.152Z"
   },
   {
    "duration": 7,
    "start_time": "2023-11-05T20:23:09.159Z"
   },
   {
    "duration": 15,
    "start_time": "2023-11-05T20:23:09.167Z"
   },
   {
    "duration": 6319,
    "start_time": "2023-11-05T20:23:09.184Z"
   },
   {
    "duration": 5,
    "start_time": "2023-11-05T20:23:15.504Z"
   },
   {
    "duration": 19,
    "start_time": "2023-11-05T20:23:15.510Z"
   },
   {
    "duration": 17,
    "start_time": "2023-11-05T20:23:15.530Z"
   },
   {
    "duration": 7,
    "start_time": "2023-11-05T20:23:15.549Z"
   },
   {
    "duration": 1197,
    "start_time": "2023-11-05T20:23:15.558Z"
   },
   {
    "duration": 245,
    "start_time": "2023-11-05T20:23:16.757Z"
   },
   {
    "duration": 115,
    "start_time": "2023-11-05T20:23:17.003Z"
   },
   {
    "duration": 103,
    "start_time": "2023-11-05T20:23:17.120Z"
   },
   {
    "duration": 1406,
    "start_time": "2023-11-05T20:23:49.966Z"
   },
   {
    "duration": 4,
    "start_time": "2023-11-05T20:23:51.374Z"
   },
   {
    "duration": 437,
    "start_time": "2023-11-05T20:23:51.379Z"
   },
   {
    "duration": 296,
    "start_time": "2023-11-05T20:23:51.818Z"
   },
   {
    "duration": 385,
    "start_time": "2023-11-05T20:23:52.116Z"
   },
   {
    "duration": 17,
    "start_time": "2023-11-05T20:23:52.503Z"
   },
   {
    "duration": 22,
    "start_time": "2023-11-05T20:23:52.522Z"
   },
   {
    "duration": 68,
    "start_time": "2023-11-05T20:23:52.546Z"
   },
   {
    "duration": 54,
    "start_time": "2023-11-05T20:23:52.615Z"
   },
   {
    "duration": 413,
    "start_time": "2023-11-05T20:23:52.671Z"
   },
   {
    "duration": 609,
    "start_time": "2023-11-05T20:23:53.086Z"
   },
   {
    "duration": 12,
    "start_time": "2023-11-05T20:23:53.697Z"
   },
   {
    "duration": 72,
    "start_time": "2023-11-05T20:23:53.712Z"
   },
   {
    "duration": 59,
    "start_time": "2023-11-05T20:23:53.788Z"
   },
   {
    "duration": 416,
    "start_time": "2023-11-05T20:23:53.849Z"
   },
   {
    "duration": 671,
    "start_time": "2023-11-05T20:23:54.267Z"
   },
   {
    "duration": 14,
    "start_time": "2023-11-05T20:23:54.939Z"
   },
   {
    "duration": 55,
    "start_time": "2023-11-05T20:23:54.954Z"
   },
   {
    "duration": 56,
    "start_time": "2023-11-05T20:23:55.010Z"
   },
   {
    "duration": 322,
    "start_time": "2023-11-05T20:23:55.068Z"
   },
   {
    "duration": 587,
    "start_time": "2023-11-05T20:23:55.392Z"
   },
   {
    "duration": 163,
    "start_time": "2023-11-05T20:23:55.981Z"
   },
   {
    "duration": 18,
    "start_time": "2023-11-05T20:23:56.145Z"
   },
   {
    "duration": 870,
    "start_time": "2023-11-05T20:23:56.164Z"
   },
   {
    "duration": 321,
    "start_time": "2023-11-05T20:23:57.036Z"
   },
   {
    "duration": 87,
    "start_time": "2023-11-05T20:23:57.360Z"
   },
   {
    "duration": 95,
    "start_time": "2023-11-05T20:23:57.452Z"
   },
   {
    "duration": 5,
    "start_time": "2023-11-05T20:23:57.549Z"
   },
   {
    "duration": 12,
    "start_time": "2023-11-05T20:23:57.556Z"
   },
   {
    "duration": 9,
    "start_time": "2023-11-05T20:23:57.570Z"
   },
   {
    "duration": 18,
    "start_time": "2023-11-05T20:23:57.581Z"
   },
   {
    "duration": 6618,
    "start_time": "2023-11-05T20:23:57.601Z"
   },
   {
    "duration": 6,
    "start_time": "2023-11-05T20:24:04.220Z"
   },
   {
    "duration": 45,
    "start_time": "2023-11-05T20:24:04.228Z"
   },
   {
    "duration": 20,
    "start_time": "2023-11-05T20:24:04.275Z"
   },
   {
    "duration": 36,
    "start_time": "2023-11-05T20:24:04.297Z"
   },
   {
    "duration": 1272,
    "start_time": "2023-11-05T20:24:04.335Z"
   },
   {
    "duration": 288,
    "start_time": "2023-11-05T20:24:05.609Z"
   },
   {
    "duration": 115,
    "start_time": "2023-11-05T20:24:05.899Z"
   },
   {
    "duration": 107,
    "start_time": "2023-11-05T20:24:06.016Z"
   },
   {
    "duration": 1712,
    "start_time": "2023-11-06T16:31:28.546Z"
   },
   {
    "duration": 3,
    "start_time": "2023-11-06T16:31:30.260Z"
   },
   {
    "duration": 654,
    "start_time": "2023-11-06T16:31:30.265Z"
   },
   {
    "duration": 396,
    "start_time": "2023-11-06T16:31:30.920Z"
   },
   {
    "duration": 381,
    "start_time": "2023-11-06T16:31:31.319Z"
   },
   {
    "duration": 23,
    "start_time": "2023-11-06T16:31:31.701Z"
   },
   {
    "duration": 28,
    "start_time": "2023-11-06T16:31:31.733Z"
   },
   {
    "duration": 99,
    "start_time": "2023-11-06T16:31:31.763Z"
   },
   {
    "duration": 35,
    "start_time": "2023-11-06T16:31:31.863Z"
   },
   {
    "duration": 384,
    "start_time": "2023-11-06T16:31:31.899Z"
   },
   {
    "duration": 635,
    "start_time": "2023-11-06T16:31:32.285Z"
   },
   {
    "duration": 13,
    "start_time": "2023-11-06T16:31:32.924Z"
   },
   {
    "duration": 59,
    "start_time": "2023-11-06T16:31:32.941Z"
   },
   {
    "duration": 55,
    "start_time": "2023-11-06T16:31:33.003Z"
   },
   {
    "duration": 433,
    "start_time": "2023-11-06T16:31:33.059Z"
   },
   {
    "duration": 632,
    "start_time": "2023-11-06T16:31:33.494Z"
   },
   {
    "duration": 18,
    "start_time": "2023-11-06T16:31:34.128Z"
   },
   {
    "duration": 71,
    "start_time": "2023-11-06T16:31:34.147Z"
   },
   {
    "duration": 40,
    "start_time": "2023-11-06T16:31:34.219Z"
   },
   {
    "duration": 371,
    "start_time": "2023-11-06T16:31:34.261Z"
   },
   {
    "duration": 656,
    "start_time": "2023-11-06T16:31:34.634Z"
   },
   {
    "duration": 174,
    "start_time": "2023-11-06T16:31:35.291Z"
   },
   {
    "duration": 17,
    "start_time": "2023-11-06T16:31:35.467Z"
   },
   {
    "duration": 933,
    "start_time": "2023-11-06T16:31:35.485Z"
   },
   {
    "duration": 241,
    "start_time": "2023-11-06T16:31:36.419Z"
   },
   {
    "duration": 89,
    "start_time": "2023-11-06T16:31:36.742Z"
   },
   {
    "duration": 16,
    "start_time": "2023-11-06T16:31:36.837Z"
   },
   {
    "duration": 17,
    "start_time": "2023-11-06T16:31:36.855Z"
   },
   {
    "duration": 14,
    "start_time": "2023-11-06T16:31:36.874Z"
   },
   {
    "duration": 7,
    "start_time": "2023-11-06T16:31:36.890Z"
   },
   {
    "duration": 55,
    "start_time": "2023-11-06T16:31:36.899Z"
   },
   {
    "duration": 14717,
    "start_time": "2023-11-06T16:31:36.958Z"
   },
   {
    "duration": 5,
    "start_time": "2023-11-06T16:31:51.677Z"
   },
   {
    "duration": 42,
    "start_time": "2023-11-06T16:31:51.683Z"
   },
   {
    "duration": 28,
    "start_time": "2023-11-06T16:31:51.727Z"
   },
   {
    "duration": 17,
    "start_time": "2023-11-06T16:31:51.757Z"
   },
   {
    "duration": 1340,
    "start_time": "2023-11-06T16:31:51.776Z"
   },
   {
    "duration": 277,
    "start_time": "2023-11-06T16:31:53.118Z"
   },
   {
    "duration": 118,
    "start_time": "2023-11-06T16:31:53.398Z"
   },
   {
    "duration": 114,
    "start_time": "2023-11-06T16:31:53.524Z"
   },
   {
    "duration": 1698,
    "start_time": "2023-11-06T16:31:56.485Z"
   },
   {
    "duration": 4,
    "start_time": "2023-11-06T16:31:58.184Z"
   },
   {
    "duration": 378,
    "start_time": "2023-11-06T16:31:58.189Z"
   },
   {
    "duration": 305,
    "start_time": "2023-11-06T16:31:58.569Z"
   },
   {
    "duration": 470,
    "start_time": "2023-11-06T16:31:58.875Z"
   },
   {
    "duration": 18,
    "start_time": "2023-11-06T16:31:59.354Z"
   },
   {
    "duration": 14,
    "start_time": "2023-11-06T16:31:59.373Z"
   },
   {
    "duration": 60,
    "start_time": "2023-11-06T16:31:59.389Z"
   },
   {
    "duration": 39,
    "start_time": "2023-11-06T16:31:59.451Z"
   },
   {
    "duration": 388,
    "start_time": "2023-11-06T16:31:59.493Z"
   },
   {
    "duration": 698,
    "start_time": "2023-11-06T16:31:59.882Z"
   },
   {
    "duration": 12,
    "start_time": "2023-11-06T16:32:00.583Z"
   },
   {
    "duration": 102,
    "start_time": "2023-11-06T16:32:00.596Z"
   },
   {
    "duration": 46,
    "start_time": "2023-11-06T16:32:00.700Z"
   },
   {
    "duration": 416,
    "start_time": "2023-11-06T16:32:00.748Z"
   },
   {
    "duration": 683,
    "start_time": "2023-11-06T16:32:01.166Z"
   },
   {
    "duration": 13,
    "start_time": "2023-11-06T16:32:01.852Z"
   },
   {
    "duration": 126,
    "start_time": "2023-11-06T16:32:01.867Z"
   },
   {
    "duration": 82,
    "start_time": "2023-11-06T16:32:01.994Z"
   },
   {
    "duration": 357,
    "start_time": "2023-11-06T16:32:02.078Z"
   },
   {
    "duration": 766,
    "start_time": "2023-11-06T16:32:02.440Z"
   },
   {
    "duration": 178,
    "start_time": "2023-11-06T16:32:03.209Z"
   },
   {
    "duration": 16,
    "start_time": "2023-11-06T16:32:03.388Z"
   },
   {
    "duration": 893,
    "start_time": "2023-11-06T16:32:03.406Z"
   },
   {
    "duration": 156,
    "start_time": "2023-11-06T16:32:04.300Z"
   },
   {
    "duration": 107,
    "start_time": "2023-11-06T16:32:04.524Z"
   },
   {
    "duration": 10,
    "start_time": "2023-11-06T16:32:04.652Z"
   },
   {
    "duration": 5,
    "start_time": "2023-11-06T16:32:04.667Z"
   },
   {
    "duration": 21,
    "start_time": "2023-11-06T16:32:04.674Z"
   },
   {
    "duration": 8,
    "start_time": "2023-11-06T16:32:04.697Z"
   },
   {
    "duration": 15,
    "start_time": "2023-11-06T16:32:04.706Z"
   },
   {
    "duration": 8832,
    "start_time": "2023-11-06T16:32:04.723Z"
   },
   {
    "duration": 6,
    "start_time": "2023-11-06T16:32:13.557Z"
   },
   {
    "duration": 7,
    "start_time": "2023-11-06T16:32:13.565Z"
   },
   {
    "duration": 10,
    "start_time": "2023-11-06T16:32:13.574Z"
   },
   {
    "duration": 19,
    "start_time": "2023-11-06T16:32:13.586Z"
   },
   {
    "duration": 1246,
    "start_time": "2023-11-06T16:32:13.607Z"
   },
   {
    "duration": 299,
    "start_time": "2023-11-06T16:32:14.855Z"
   },
   {
    "duration": 115,
    "start_time": "2023-11-06T16:32:15.156Z"
   },
   {
    "duration": 125,
    "start_time": "2023-11-06T16:32:15.273Z"
   },
   {
    "duration": 5,
    "start_time": "2023-11-06T16:35:09.216Z"
   },
   {
    "duration": 4,
    "start_time": "2023-11-06T16:35:15.600Z"
   },
   {
    "duration": 1643,
    "start_time": "2023-11-06T16:41:43.739Z"
   },
   {
    "duration": 3,
    "start_time": "2023-11-06T16:41:45.384Z"
   },
   {
    "duration": 454,
    "start_time": "2023-11-06T16:41:45.389Z"
   },
   {
    "duration": 365,
    "start_time": "2023-11-06T16:41:45.845Z"
   },
   {
    "duration": 286,
    "start_time": "2023-11-06T16:41:46.212Z"
   },
   {
    "duration": 27,
    "start_time": "2023-11-06T16:41:46.500Z"
   },
   {
    "duration": 23,
    "start_time": "2023-11-06T16:41:46.529Z"
   },
   {
    "duration": 75,
    "start_time": "2023-11-06T16:41:46.554Z"
   },
   {
    "duration": 52,
    "start_time": "2023-11-06T16:41:46.639Z"
   },
   {
    "duration": 416,
    "start_time": "2023-11-06T16:41:46.693Z"
   },
   {
    "duration": 659,
    "start_time": "2023-11-06T16:41:47.112Z"
   },
   {
    "duration": 10,
    "start_time": "2023-11-06T16:41:47.774Z"
   },
   {
    "duration": 71,
    "start_time": "2023-11-06T16:41:47.786Z"
   },
   {
    "duration": 118,
    "start_time": "2023-11-06T16:41:47.861Z"
   },
   {
    "duration": 364,
    "start_time": "2023-11-06T16:41:47.981Z"
   },
   {
    "duration": 621,
    "start_time": "2023-11-06T16:41:48.347Z"
   },
   {
    "duration": 12,
    "start_time": "2023-11-06T16:41:48.970Z"
   },
   {
    "duration": 128,
    "start_time": "2023-11-06T16:41:48.984Z"
   },
   {
    "duration": 40,
    "start_time": "2023-11-06T16:41:49.114Z"
   },
   {
    "duration": 339,
    "start_time": "2023-11-06T16:41:49.156Z"
   },
   {
    "duration": 658,
    "start_time": "2023-11-06T16:41:49.496Z"
   },
   {
    "duration": 169,
    "start_time": "2023-11-06T16:41:50.155Z"
   },
   {
    "duration": 26,
    "start_time": "2023-11-06T16:41:50.326Z"
   },
   {
    "duration": 886,
    "start_time": "2023-11-06T16:41:50.357Z"
   },
   {
    "duration": 298,
    "start_time": "2023-11-06T16:41:51.245Z"
   },
   {
    "duration": 88,
    "start_time": "2023-11-06T16:41:51.544Z"
   },
   {
    "duration": 93,
    "start_time": "2023-11-06T16:41:51.634Z"
   },
   {
    "duration": 20,
    "start_time": "2023-11-06T16:41:51.730Z"
   },
   {
    "duration": 23,
    "start_time": "2023-11-06T16:41:51.752Z"
   },
   {
    "duration": 14,
    "start_time": "2023-11-06T16:41:51.777Z"
   },
   {
    "duration": 14,
    "start_time": "2023-11-06T16:41:51.793Z"
   },
   {
    "duration": 9,
    "start_time": "2023-11-06T16:41:51.809Z"
   },
   {
    "duration": 6589,
    "start_time": "2023-11-06T16:41:51.819Z"
   },
   {
    "duration": 5,
    "start_time": "2023-11-06T16:41:58.410Z"
   },
   {
    "duration": 9,
    "start_time": "2023-11-06T16:41:58.427Z"
   },
   {
    "duration": 5,
    "start_time": "2023-11-06T16:41:58.440Z"
   },
   {
    "duration": 6,
    "start_time": "2023-11-06T16:41:58.446Z"
   },
   {
    "duration": 1336,
    "start_time": "2023-11-06T16:41:58.454Z"
   },
   {
    "duration": 275,
    "start_time": "2023-11-06T16:41:59.791Z"
   },
   {
    "duration": 122,
    "start_time": "2023-11-06T16:42:00.068Z"
   },
   {
    "duration": 168,
    "start_time": "2023-11-06T16:42:00.194Z"
   },
   {
    "duration": 8,
    "start_time": "2023-11-06T16:44:29.505Z"
   }
  ],
  "kernelspec": {
   "display_name": "Python 3 (ipykernel)",
   "language": "python",
   "name": "python3"
  },
  "language_info": {
   "codemirror_mode": {
    "name": "ipython",
    "version": 3
   },
   "file_extension": ".py",
   "mimetype": "text/x-python",
   "name": "python",
   "nbconvert_exporter": "python",
   "pygments_lexer": "ipython3",
   "version": "3.9.5"
  },
  "toc": {
   "base_numbering": 1,
   "nav_menu": {},
   "number_sections": true,
   "sideBar": true,
   "skip_h1_title": true,
   "title_cell": "Table of Contents",
   "title_sidebar": "Contents",
   "toc_cell": false,
   "toc_position": {},
   "toc_section_display": true,
   "toc_window_display": false
  }
 },
 "nbformat": 4,
 "nbformat_minor": 2
}
