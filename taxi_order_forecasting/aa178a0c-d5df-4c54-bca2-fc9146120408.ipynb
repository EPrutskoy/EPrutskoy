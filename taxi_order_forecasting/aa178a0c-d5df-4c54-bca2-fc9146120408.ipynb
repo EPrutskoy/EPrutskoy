{
 "cells": [
  {
   "cell_type": "markdown",
   "metadata": {
    "toc": true
   },
   "source": [
    "<h1>Содержание<span class=\"tocSkip\"></span></h1>\n",
    "<div class=\"toc\"><ul class=\"toc-item\"><li><span><a href=\"#Подготовка\" data-toc-modified-id=\"Подготовка-1\"><span class=\"toc-item-num\">1&nbsp;&nbsp;</span>Подготовка</a></span></li><li><span><a href=\"#Анализ\" data-toc-modified-id=\"Анализ-2\"><span class=\"toc-item-num\">2&nbsp;&nbsp;</span>Анализ</a></span><ul class=\"toc-item\"><li><span><a href=\"#Анализ-последних-двух-графиков-(сезонность-и-остатки)-для-августа-2018-года:\" data-toc-modified-id=\"Анализ-последних-двух-графиков-(сезонность-и-остатки)-для-августа-2018-года:-2.1\"><span class=\"toc-item-num\">2.1&nbsp;&nbsp;</span>Анализ последних двух графиков (сезонность и остатки) для августа 2018 года:</a></span></li><li><span><a href=\"#Общая-зависимость-в-данных:\" data-toc-modified-id=\"Общая-зависимость-в-данных:-2.2\"><span class=\"toc-item-num\">2.2&nbsp;&nbsp;</span>Общая зависимость в данных:</a></span></li><li><span><a href=\"#Новые-признаки.\" data-toc-modified-id=\"Новые-признаки.-2.3\"><span class=\"toc-item-num\">2.3&nbsp;&nbsp;</span>Новые признаки.</a></span></li><li><span><a href=\"#Вывод-о-добавлении-новых-признаков\" data-toc-modified-id=\"Вывод-о-добавлении-новых-признаков-2.4\"><span class=\"toc-item-num\">2.4&nbsp;&nbsp;</span>Вывод о добавлении новых признаков</a></span><ul class=\"toc-item\"><li><span><a href=\"#Обоснование\" data-toc-modified-id=\"Обоснование-2.4.1\"><span class=\"toc-item-num\">2.4.1&nbsp;&nbsp;</span>Обоснование</a></span></li></ul></li></ul></li><li><span><a href=\"#Обучение\" data-toc-modified-id=\"Обучение-3\"><span class=\"toc-item-num\">3&nbsp;&nbsp;</span>Обучение</a></span><ul class=\"toc-item\"><li><span><a href=\"#Обоснование-выбора-моделей\" data-toc-modified-id=\"Обоснование-выбора-моделей-3.1\"><span class=\"toc-item-num\">3.1&nbsp;&nbsp;</span>Обоснование выбора моделей</a></span></li><li><span><a href=\"#Заключение\" data-toc-modified-id=\"Заключение-3.2\"><span class=\"toc-item-num\">3.2&nbsp;&nbsp;</span>Заключение</a></span></li><li><span><a href=\"#Модель-Random-Forest-Reg\" data-toc-modified-id=\"Модель-Random-Forest-Reg-3.3\"><span class=\"toc-item-num\">3.3&nbsp;&nbsp;</span>Модель Random Forest Reg</a></span></li><li><span><a href=\"#Модель-Linear-Reg\" data-toc-modified-id=\"Модель-Linear-Reg-3.4\"><span class=\"toc-item-num\">3.4&nbsp;&nbsp;</span>Модель Linear Reg</a></span></li><li><span><a href=\"#Модель-Catboost-Reg\" data-toc-modified-id=\"Модель-Catboost-Reg-3.5\"><span class=\"toc-item-num\">3.5&nbsp;&nbsp;</span>Модель Catboost Reg</a></span></li></ul></li><li><span><a href=\"#Тестирование\" data-toc-modified-id=\"Тестирование-4\"><span class=\"toc-item-num\">4&nbsp;&nbsp;</span>Тестирование</a></span></li><li><span><a href=\"#Итог-проекта\" data-toc-modified-id=\"Итог-проекта-5\"><span class=\"toc-item-num\">5&nbsp;&nbsp;</span>Итог проекта</a></span><ul class=\"toc-item\"><li><span><a href=\"#Выбор-моделей\" data-toc-modified-id=\"Выбор-моделей-5.1\"><span class=\"toc-item-num\">5.1&nbsp;&nbsp;</span>Выбор моделей</a></span></li><li><span><a href=\"#Вывод-по-графикам-важности-признаков\" data-toc-modified-id=\"Вывод-по-графикам-важности-признаков-5.2\"><span class=\"toc-item-num\">5.2&nbsp;&nbsp;</span>Вывод по графикам важности признаков</a></span></li><li><span><a href=\"#Заключение\" data-toc-modified-id=\"Заключение-5.3\"><span class=\"toc-item-num\">5.3&nbsp;&nbsp;</span>Заключение</a></span></li><li><span><a href=\"#Анализ-графика-предсказаний-и-реальных-значений\" data-toc-modified-id=\"Анализ-графика-предсказаний-и-реальных-значений-5.4\"><span class=\"toc-item-num\">5.4&nbsp;&nbsp;</span>Анализ графика предсказаний и реальных значений</a></span></li></ul></li><li><span><a href=\"#Чек-лист-проверки\" data-toc-modified-id=\"Чек-лист-проверки-6\"><span class=\"toc-item-num\">6&nbsp;&nbsp;</span>Чек-лист проверки</a></span></li></ul></div>"
   ]
  },
  {
   "cell_type": "markdown",
   "metadata": {},
   "source": [
    "#  Прогнозирование заказов такси"
   ]
  },
  {
   "cell_type": "markdown",
   "metadata": {},
   "source": [
    "Компания «Чётенькое такси» собрала исторические данные о заказах такси в аэропортах. Чтобы привлекать больше водителей в период пиковой нагрузки, нужно спрогнозировать количество заказов такси на следующий час. Постройте модель для такого предсказания.\n",
    "\n",
    "Значение метрики *RMSE* на тестовой выборке должно быть не больше 48.\n",
    "\n",
    "Вам нужно:\n",
    "\n",
    "1. Загрузить данные и выполнить их ресемплирование по одному часу.\n",
    "2. Проанализировать данные.\n",
    "3. Обучить разные модели с различными гиперпараметрами. Сделать тестовую выборку размером 10% от исходных данных.\n",
    "4. Проверить данные на тестовой выборке и сделать выводы.\n",
    "\n",
    "\n",
    "Данные лежат в файле `taxi.csv`. Количество заказов находится в столбце `num_orders` (от англ. *number of orders*, «число заказов»)."
   ]
  },
  {
   "cell_type": "markdown",
   "metadata": {},
   "source": [
    "## Подготовка"
   ]
  },
  {
   "cell_type": "code",
   "execution_count": null,
   "metadata": {},
   "outputs": [],
   "source": [
    "pip install shap"
   ]
  },
  {
   "cell_type": "code",
   "execution_count": null,
   "metadata": {},
   "outputs": [],
   "source": [
    "import pandas as pd\n",
    "import matplotlib.pyplot as plt\n",
    "\n",
    "from statsmodels.tsa.seasonal import seasonal_decompose \n",
    "from statsmodels.tsa.stattools import adfuller\n",
    "\n",
    "from sklearn.model_selection import train_test_split, GridSearchCV, TimeSeriesSplit\n",
    "from sklearn.preprocessing import StandardScaler\n",
    "from sklearn.pipeline import Pipeline\n",
    "from sklearn.metrics import make_scorer, mean_squared_error \n",
    "from sklearn.compose import ColumnTransformer\n",
    "from sklearn.ensemble import RandomForestClassifier, GradientBoostingClassifier, RandomForestRegressor\n",
    "from sklearn.linear_model import LinearRegression\n",
    "\n",
    "import shap"
   ]
  },
  {
   "cell_type": "markdown",
   "metadata": {},
   "source": [
    "<div class=\"alert alert-block alert-success\">\n",
    "<b>Успех:</b> Импорты  на месте\n",
    "</div>\n"
   ]
  },
  {
   "cell_type": "code",
   "execution_count": null,
   "metadata": {},
   "outputs": [],
   "source": [
    "# Функция для создания новых признаков\n",
    "def make_features(data, column, max_lag, rolling_mean_size):\n",
    "    data['day'] = data.index.day\n",
    "    data['dayofweek'] = data.index.dayofweek\n",
    "    \n",
    "    for lag in range(1, max_lag + 1):\n",
    "        data['lag_{}'.format(lag)] = data[column].shift(lag)\n",
    "\n",
    "    data['rolling_mean'] = data[column].shift().rolling(rolling_mean_size).mean()"
   ]
  },
  {
   "cell_type": "code",
   "execution_count": null,
   "metadata": {},
   "outputs": [],
   "source": [
    "# Функция для извлечения лучших параметров и счёта модели и добавления в таблицу\n",
    "def extract_best_model_info(grid_search, model_name, existing_df=None):\n",
    "    best_params = grid_search.best_params_\n",
    "    best_score = grid_search.best_score_\n",
    "    model_info = {\n",
    "        'model': [model_name],\n",
    "        'best_f1_score': [best_score]\n",
    "    }\n",
    "    for param, value in best_params.items():\n",
    "        model_info[param] = [value]\n",
    "    \n",
    "    model_info_df = pd.DataFrame(model_info)\n",
    "    \n",
    "    if existing_df is not None:\n",
    "        return pd.concat([existing_df, model_info_df], ignore_index=True)\n",
    "    else:\n",
    "        return model_info_df\n",
    "models_info_df = pd.DataFrame()"
   ]
  },
  {
   "cell_type": "code",
   "execution_count": null,
   "metadata": {},
   "outputs": [],
   "source": [
    "# Load the CSV file\n",
    "file_path = '/datasets/taxi.csv'\n",
    "taxi_data = pd.read_csv(file_path)\n",
    "taxi_data_info = taxi_data.info()\n",
    "taxi_data_description = taxi_data.describe()\n",
    "taxi_data_head = taxi_data.head()\n",
    "\n",
    "taxi_data_info, taxi_data_description, taxi_data_head"
   ]
  },
  {
   "cell_type": "markdown",
   "metadata": {},
   "source": [
    "## Анализ"
   ]
  },
  {
   "cell_type": "code",
   "execution_count": null,
   "metadata": {},
   "outputs": [],
   "source": [
    "# Convert datetime column to datetime type\n",
    "taxi_data['datetime'] = pd.to_datetime(taxi_data['datetime'])\n",
    "\n",
    "# Plot the data\n",
    "plt.figure(figsize=(12, 6))\n",
    "plt.plot(taxi_data['datetime'], taxi_data['num_orders'], color='blue')\n",
    "plt.title('Distribution of Taxi Orders Over Time')\n",
    "plt.xlabel('Datetime')\n",
    "plt.ylabel('Number of Orders')\n",
    "plt.grid(True)\n",
    "plt.show()"
   ]
  },
  {
   "cell_type": "code",
   "execution_count": null,
   "metadata": {
    "scrolled": false
   },
   "outputs": [],
   "source": [
    "# Resample the data to hourly frequency\n",
    "taxi_res = taxi_data.set_index('datetime')\n",
    "hourly_data = taxi_res.resample('12H').sum()\n",
    "\n",
    "# Plot the resampled data\n",
    "plt.figure(figsize=(12, 6))\n",
    "plt.plot(hourly_data.index, hourly_data['num_orders'], color='blue')\n",
    "plt.title('Hourly Distribution of Taxi Orders')\n",
    "plt.xlabel('Datetime')\n",
    "plt.ylabel('Number of Orders')\n",
    "plt.grid(True)\n",
    "plt.show()"
   ]
  },
  {
   "cell_type": "code",
   "execution_count": null,
   "metadata": {},
   "outputs": [],
   "source": [
    "hourly_data"
   ]
  },
  {
   "cell_type": "code",
   "execution_count": null,
   "metadata": {},
   "outputs": [],
   "source": [
    "# Perform seasonal decomposition\n",
    "decomposition = seasonal_decompose(hourly_data['num_orders'], model='additive')\n",
    "\n",
    "# Extract the components\n",
    "trend = decomposition.trend\n",
    "seasonal = decomposition.seasonal\n",
    "residual = decomposition.resid\n",
    "\n",
    "# Plot the components\n",
    "plt.figure(figsize=(14, 10))\n",
    "\n",
    "plt.subplot(4, 1, 1)\n",
    "plt.plot(hourly_data['num_orders'], label='Original')\n",
    "plt.legend(loc='best')\n",
    "\n",
    "plt.subplot(4, 1, 2)\n",
    "plt.plot(trend, label='Trend')\n",
    "plt.legend(loc='best')\n",
    "\n",
    "plt.subplot(4, 1, 3)\n",
    "plt.plot(seasonal, label='Seasonality')\n",
    "plt.legend(loc='best')\n",
    "\n",
    "plt.subplot(4, 1, 4)\n",
    "plt.plot(residual, label='Residuals')\n",
    "plt.legend(loc='best')\n",
    "\n",
    "plt.tight_layout()\n",
    "plt.show()"
   ]
  },
  {
   "cell_type": "code",
   "execution_count": null,
   "metadata": {
    "scrolled": false
   },
   "outputs": [],
   "source": [
    "# Extract data for August 2018\n",
    "august_data = hourly_data['2018-08']\n",
    "\n",
    "# Perform seasonal decomposition for August 2018\n",
    "august_decomposition = seasonal_decompose(august_data['num_orders'], model='additive')\n",
    "\n",
    "# Extract the components\n",
    "august_trend = august_decomposition.trend\n",
    "august_seasonal = august_decomposition.seasonal\n",
    "august_residual = august_decomposition.resid\n",
    "\n",
    "# Plot the components for August 2018\n",
    "plt.figure(figsize=(14, 10))\n",
    "\n",
    "plt.subplot(4, 1, 1)\n",
    "plt.plot(august_data['num_orders'], label='Original')\n",
    "plt.legend(loc='best')\n",
    "\n",
    "plt.subplot(4, 1, 2)\n",
    "plt.plot(august_trend, label='Trend')\n",
    "plt.legend(loc='best')\n",
    "\n",
    "plt.subplot(4, 1, 3)\n",
    "plt.plot(august_seasonal, label='Seasonality')\n",
    "plt.legend(loc='best')\n",
    "\n",
    "plt.subplot(4, 1, 4)\n",
    "plt.plot(august_residual, label='Residuals')\n",
    "plt.legend(loc='best')\n",
    "\n",
    "plt.tight_layout()\n",
    "plt.show()"
   ]
  },
  {
   "cell_type": "code",
   "execution_count": null,
   "metadata": {},
   "outputs": [],
   "source": [
    "taxi_data.info()"
   ]
  },
  {
   "cell_type": "markdown",
   "metadata": {},
   "source": [
    "### Анализ последних двух графиков (сезонность и остатки) для августа 2018 года:\n",
    "\n",
    "1. Сезонность:\n",
    "   - График сезонности показывает регулярные колебания в пределах дня. Видно, что количество заказов увеличивается и уменьшается в определенные часы суток, что может отражать типичное поведение пассажиров.\n",
    "   - Сезонность указывает на наличие циклов, связанных с определенными временными интервалами, например, утренние и вечерние часы пик.\n",
    "\n",
    "2. Остатки (Residuals):\n",
    "   - График остатков отображает отклонения, которые не объясняются ни трендом, ни сезонностью. Эти отклонения могут быть вызваны случайными событиями, такими как погодные условия, дорожно-транспортные происшествия или другие неожиданные факторы.\n",
    "   - Видно, что остатки колеблются вокруг нуля, что подтверждает их случайный характер. Периоды сильных отклонений могут указывать на аномалии или необычные события в данных.\n",
    "\n",
    "### Общая зависимость в данных:\n",
    "\n",
    "1. Тренд:\n",
    "   - Тренд показывает развитие сервиса, увеличение кол0-ва заказов.\n",
    "\n",
    "2. Сезонные колебания:\n",
    "   - Сезонные компоненты указывают на регулярные повторяющиеся паттерны в данных. \\\n",
    "   Это может быть суточный цикл (колебания в течение дня) или недельный цикл (различия в спросе в будние и выходные дни).\n",
    "\n",
    "3. Шумы и аномалии:\n",
    "   - Остатки отображают случайные колебания, которые не могут быть объяснены трендом или сезонностью.\\\n",
    "   Анализ остатков может помочь в выявлении аномальных событий или периодов высокой волатильности.\n",
    "\n",
    "3. В данных отсутсвуют дуюликаты и пропуски, предобработка не требуется."
   ]
  },
  {
   "cell_type": "code",
   "execution_count": null,
   "metadata": {},
   "outputs": [],
   "source": [
    "%who"
   ]
  },
  {
   "cell_type": "code",
   "execution_count": null,
   "metadata": {},
   "outputs": [],
   "source": [
    "del decomposition, seasonal_decompose, residual, seasonal, august_data, august_decomposition, august_residual, august_seasonal, august_trend"
   ]
  },
  {
   "cell_type": "markdown",
   "metadata": {},
   "source": [
    "Проверим данные на стационарность:"
   ]
  },
  {
   "cell_type": "code",
   "execution_count": null,
   "metadata": {},
   "outputs": [],
   "source": [
    "# Выполнение теста Дикки-Фуллера\n",
    "result = adfuller(hourly_data)\n",
    "\n",
    "print('ADF Statistic:', result[0])\n",
    "print('p-value:', result[1])\n",
    "for key, value in result[4].items():\n",
    "    print(f'Critical Value ({key}): {value}')"
   ]
  },
  {
   "cell_type": "markdown",
   "metadata": {},
   "source": [
    "* ADF Statistic: 2.506 (положительное значение)\n",
    "* p-value: 0.999 (значительно больше 0.05)\n",
    "* Critical Values: Значение ADF статистики больше всех критических значений (на уровнях 1%, 5% и 10%).\n",
    "\n",
    "**Интерпретация**:\n",
    "\n",
    "* Поскольку p-value намного больше уровня значимости (обычно 0.05), мы не можем отвергнуть нулевую гипотезу о наличии единичного корня. Это означает, что временной ряд не является стационарным.\\\n",
    "Для моделей типа ARIMA необходимо провести дифференцирование данных, чтобы ряд стал стационарным."
   ]
  },
  {
   "cell_type": "markdown",
   "metadata": {},
   "source": [
    "### Новые признаки."
   ]
  },
  {
   "cell_type": "code",
   "execution_count": null,
   "metadata": {
    "scrolled": false
   },
   "outputs": [],
   "source": [
    "taxi_data.info()"
   ]
  },
  {
   "cell_type": "code",
   "execution_count": null,
   "metadata": {},
   "outputs": [],
   "source": [
    "taxi_data_res = taxi_data.set_index('datetime')\n",
    "taxi_data_res = taxi_data_res.resample('H').sum()"
   ]
  },
  {
   "cell_type": "code",
   "execution_count": null,
   "metadata": {},
   "outputs": [],
   "source": [
    "taxi_data_res.sample()"
   ]
  },
  {
   "cell_type": "code",
   "execution_count": null,
   "metadata": {},
   "outputs": [],
   "source": [
    "# Применение функции создания признаков\n",
    "make_features(taxi_data_res, 'num_orders', max_lag=24, rolling_mean_size=100)"
   ]
  },
  {
   "cell_type": "code",
   "execution_count": null,
   "metadata": {},
   "outputs": [],
   "source": [
    "taxi_data_res.sample()"
   ]
  },
  {
   "cell_type": "code",
   "execution_count": null,
   "metadata": {},
   "outputs": [],
   "source": [
    "taxi_data_res.info()"
   ]
  },
  {
   "cell_type": "code",
   "execution_count": null,
   "metadata": {},
   "outputs": [],
   "source": [
    "# Удаление строк с пропусками\n",
    "taxi_data_res.dropna(inplace=True)\n",
    "\n",
    "# Приведение lag-признаков к типу int\n",
    "lag_columns = [f'lag_{i}' for i in range(1, 25)]\n",
    "taxi_data_res[lag_columns] = taxi_data_res[lag_columns].astype('int32')\n",
    "\n",
    "# Даункаст других числовых данных\n",
    "taxi_data_res['num_orders'] = taxi_data_res['num_orders'].astype('int32')\n",
    "taxi_data_res['day'] = taxi_data_res['day'].astype('int8')\n",
    "taxi_data_res['dayofweek'] = taxi_data_res['dayofweek'].astype('int8')\n",
    "taxi_data_res['rolling_mean'] = taxi_data_res['rolling_mean'].astype('float32')"
   ]
  },
  {
   "cell_type": "code",
   "execution_count": null,
   "metadata": {},
   "outputs": [],
   "source": [
    "taxi_data_res.info()"
   ]
  },
  {
   "cell_type": "code",
   "execution_count": null,
   "metadata": {
    "scrolled": true
   },
   "outputs": [],
   "source": [
    "taxi_data_res.sample()"
   ]
  },
  {
   "cell_type": "markdown",
   "metadata": {},
   "source": [
    "После создания новых признаков, разделим данные на выборки и создадим пайплайн."
   ]
  },
  {
   "cell_type": "code",
   "execution_count": null,
   "metadata": {
    "scrolled": false
   },
   "outputs": [],
   "source": [
    "# Разделение на тренировочную и тестовую выборки\n",
    "target_column = 'num_orders'\n",
    "feature_columns = taxi_data_res.columns.difference([target_column])\n",
    "\n",
    "X = taxi_data_res[feature_columns]\n",
    "y = taxi_data_res[target_column]\n",
    "\n",
    "X_train, X_test, y_train, y_test = train_test_split(X, y, test_size=0.1, random_state=42)\n"
   ]
  },
  {
   "cell_type": "code",
   "execution_count": null,
   "metadata": {},
   "outputs": [],
   "source": [
    "print(X_train.shape)\n",
    "print(X_test.shape)\n",
    "print(y_train.shape)\n",
    "print(y_test.shape)"
   ]
  },
  {
   "cell_type": "code",
   "execution_count": null,
   "metadata": {},
   "outputs": [],
   "source": [
    "feature_columns"
   ]
  },
  {
   "cell_type": "code",
   "execution_count": null,
   "metadata": {},
   "outputs": [],
   "source": [
    "# Определение признаков\n",
    "numerical_features = feature_columns\n",
    "\n",
    "# Создание колонного трансформера\n",
    "preprocessor = ColumnTransformer(\n",
    "    transformers=[\n",
    "        ('num', StandardScaler(), numerical_features)\n",
    "    ])"
   ]
  },
  {
   "cell_type": "markdown",
   "metadata": {},
   "source": [
    "Перед обучением моделей инициалиризуем функцию подсчета RMSE."
   ]
  },
  {
   "cell_type": "code",
   "execution_count": null,
   "metadata": {},
   "outputs": [],
   "source": [
    "# Функция для расчета RMSE\n",
    "def RMSE(target, predict):\n",
    "    return (mean_squared_error(target, predict))**0.5\n",
    "\n",
    "# Создание метрики RMSE\n",
    "RMSE_score = make_scorer(RMSE, greater_is_better=False)"
   ]
  },
  {
   "cell_type": "markdown",
   "metadata": {},
   "source": [
    "### Вывод о добавлении новых признаков\n",
    "\n",
    "Изначально таблица представляла собой два столбца: временные интервалы (по 10 минут) и количество заказов такси. \\\n",
    "Для улучшения модели прогнозирования и учета временной зависимости данных мы провели следующие преобразования и добавили новые признаки:\n",
    "\n",
    "1. Рассемплирование данных:\n",
    "   - Преобразовали временные интервалы с 10-минутных на часовые, чтобы сгладить данные и уменьшить шум.\n",
    "\n",
    "2. Добавление лаговых признаков:\n",
    "   - Создали столбцы lag_1 по lag_24, чтобы учесть значение количества заказов за предыдущие 24 часа. \\\n",
    "   Эти признаки помогают модели понять зависимость текущих значений от предыдущих.\n",
    "\n",
    "3. Добавление временных признаков:\n",
    "   - Создали столбец day, представляющий день месяца, и столбец dayofweek, представляющий день недели. \\\n",
    "   Эти признаки помогают учесть дневные и недельные циклы в данных.\n",
    "\n",
    "4. Добавление скользящего средне/го:\n",
    "   - Добавили столбец rolling_mean_100, представляющий скользящее среднее значения заказов за предыдущие 100 интервалов (10 минут). \\\n",
    "   Этот признак помогает сгладить колебания и выявить общие тренды.\n",
    "\n",
    "#### Обоснование\n",
    "Проведенные преобразования и добавленные признаки позволяют модели лучше учитывать временные зависимости и циклические паттерны в данных. \\\n",
    "Лаговые признаки предоставляют информацию о предыдущих значениях, временные признаки учитывают сезонные эффекты, а скользящее среднее сглаживает данные, что улучшает качество прогнозирования. \\\n",
    "Эти улучшения способствуют созданию более точной и надежной модели для прогнозирования количества заказов такси."
   ]
  },
  {
   "cell_type": "markdown",
   "metadata": {},
   "source": [
    "## Обучение"
   ]
  },
  {
   "cell_type": "markdown",
   "metadata": {},
   "source": [
    "### Обоснование выбора моделей\n",
    "\n",
    "Для задачи прогнозирования количества заказов такси на следующий час мы выбрали три модели: Random Forest Regressor, Linear Regression и CatBoost Regressor. Каждая из этих моделей имеет свои преимущества и особенности, которые делают их подходящими для данной задачи.\n",
    "\n",
    "1. Random Forest Regressor:\n",
    "   - Обоснование: \\\n",
    "   Random Forest является ансамблевым методом, основанным на построении множества деревьев решений и объединении их прогнозов. Этот метод хорошо справляется с нелинейными зависимостями и высокоразмерными данными.\n",
    "   - Преимущества: \\\n",
    "   Устойчивость к выбросам, возможность выявления важности признаков, устойчивость к переобучению благодаря случайному выбору признаков и данных для каждого дерева.\n",
    "   - Применение:\\\n",
    "   Использование Random Forest помогает учесть сложные зависимости в данных и получить надежные прогнозы.\n",
    "\n",
    "2. Linear Regression:\n",
    "   - Обоснование: \\\n",
    "   Линейная регрессия является базовой моделью, которая служит отправной точкой для более сложных моделей. \\\n",
    "   Она предполагает линейную зависимость между признаками и целевой переменной.\n",
    "   - Преимущества: Простота и интерпретируемость модели, высокая скорость обучения и предсказания.\n",
    "   - Применение: Линейная регрессия позволяет быстро оценить основные зависимости в данных и служит хорошим сравнением для более сложных моделей.\n",
    "\n",
    "3. CatBoost Regressor:\n",
    "   - Обоснование: \\\n",
    "   CatBoost (Categorical Boosting) — это градиентный бустинг, разработанный для работы с категориальными признаками и временными рядами. Он эффективно справляется с большими объемами данных и сложными зависимостями.\n",
    "   - Преимущества: \\\n",
    "   Высокая точность, встроенная обработка категориальных признаков, устойчивость к переобучению, автоматическое управление пропусками в данных.\n",
    "   - Применение:\\\n",
    "   CatBoost хорошо подходит для задач, где требуется высокая точность прогноза и учет временных зависимостей, что делает его идеальным выбором для прогнозирования временных рядов.\n",
    "\n",
    "### Заключение\n",
    "Выбор этих трех моделей позволяет нам сравнить простую линейную модель с более сложными ансамблевыми методами. Random Forest и CatBoost могут выявлять сложные нелинейные зависимости в данных, в то время как линейная регрессия предоставляет базовый уровень для сравнения. Этот подход помогает получить более полное представление о данных и выбрать наилучшую модель для прогнозирования количества заказов такси."
   ]
  },
  {
   "cell_type": "markdown",
   "metadata": {},
   "source": [
    "**TimeSeriesSplit:**\\\n",
    "При работе с временными рядами важно учитывать временную последовательность данных. \\\n",
    "Стандартная кросс-валидация, которая случайным образом разделяет данные на обучающие и тестовые выборки, нарушает эту последовательность и может приводить к неверным результатам. \\\n",
    "TimeSeriesSplit сохраняет временной порядок данных при разделении, что позволяет модели обучаться на более ранних данных и тестироваться на более поздних, как в реальной ситуации.\n",
    "Этот метод обеспечивает правильную оценку производительности модели на временных рядах и помогает избежать утечки данных (data leakage), что критично для надежного прогнозирования."
   ]
  },
  {
   "cell_type": "markdown",
   "metadata": {},
   "source": [
    "### Модель Random Forest Reg"
   ]
  },
  {
   "cell_type": "code",
   "execution_count": null,
   "metadata": {
    "scrolled": true
   },
   "outputs": [],
   "source": [
    "# Создание пайплайна для Random Forest\n",
    "pipeline = Pipeline(steps=[('preprocessor', preprocessor),\n",
    "                           ('regressor', RandomForestRegressor(random_state=42))])\n",
    "\n",
    "# Определение параметров для перебора\n",
    "param_grid = {\n",
    "    'regressor__n_estimators': [5, 10, 15],\n",
    "    'regressor__max_depth': [2, 5, 10],\n",
    "    'regressor__min_samples_split': [5, 6],\n",
    "    'regressor__min_samples_leaf': [2, 3]\n",
    "}\n",
    "\n",
    "# Создание TimeSeriesSplit\n",
    "tscv = TimeSeriesSplit(n_splits=5)\n",
    "\n",
    "# Создание и запуск GridSearchCV с TimeSeriesSplit\n",
    "grid_search1 = GridSearchCV(pipeline, param_grid, scoring=RMSE_score, cv=tscv, n_jobs=-1)\n",
    "grid_search1.fit(X_train, y_train)\n",
    "\n",
    "# Вывод лучших параметров\n",
    "best_params = grid_search1.best_params_\n",
    "print(f'Лучшие параметры: {best_params}')\n",
    "\n",
    "# Получение отрицательного значения RMSE\n",
    "best_score = grid_search1.best_score_\n",
    "print(f'Лучший (отрицательный) RMSE: {best_score}')\n",
    "\n",
    "# Получение модели с лучшими параметрами и расчет фактического RMSE на тестовой выборке\n",
    "best_model1 = grid_search1.best_estimator_"
   ]
  },
  {
   "cell_type": "markdown",
   "metadata": {},
   "source": [
    "Отрицательные значения RMSE:\n",
    "В процессе оптимизации гиперпараметров с использованием GridSearchCV мы применяем метрику RMSE через функцию make_scorer с параметром `greater_is_better=False`. \\\n",
    "Это делается для того, чтобы GridSearchCV минимизировал ошибку, так как по умолчанию он максимизирует метрики.\\\n",
    "Фактическое значение RMSE всегда неотрицательно, так как оно представляет собой корень из среднего квадратичного отклонения.\\ Однако при использовании `greater_is_better=False` в make_scorer GridSearchCV интерпретирует метрику как отрицательную для минимизации. \\\n",
    "Это позволяет корректно выбирать лучшие параметры, несмотря на \"отрицательные\" значения RMSE в процессе оптимизации."
   ]
  },
  {
   "cell_type": "code",
   "execution_count": null,
   "metadata": {
    "scrolled": true
   },
   "outputs": [],
   "source": [
    "abs(round(grid_search1.best_score_, 6))"
   ]
  },
  {
   "cell_type": "code",
   "execution_count": null,
   "metadata": {},
   "outputs": [],
   "source": [
    "models_info_df = extract_best_model_info(grid_search1, 'RandomForestReg', models_info_df)\n",
    "# Вывод таблицы с информацией о лучшей модели\n",
    "display(models_info_df)"
   ]
  },
  {
   "cell_type": "markdown",
   "metadata": {},
   "source": [
    "### Модель Linear Reg"
   ]
  },
  {
   "cell_type": "code",
   "execution_count": null,
   "metadata": {
    "scrolled": true
   },
   "outputs": [],
   "source": [
    "# Создание пайплайна для Линейной Регрессии\n",
    "pipeline_linear = Pipeline(steps=[('preprocessor', preprocessor),\n",
    "                                  ('regressor', LinearRegression())])\n",
    "\n",
    "# Определение параметров для перебора (для линейной регрессии часто параметры не настраиваются, но можно использовать Ridge или Lasso)\n",
    "param_grid_linear = {\n",
    "    'regressor__fit_intercept': [True, False],\n",
    "    'regressor__normalize': [True, False]\n",
    "}\n",
    "\n",
    "# Создание и запуск GridSearchCV с TimeSeriesSplit для Линейной Регрессии\n",
    "grid_search_linear = GridSearchCV(pipeline_linear, param_grid_linear, scoring=RMSE_score, cv=tscv, n_jobs=-1)\n",
    "grid_search_linear.fit(X_train, y_train)\n",
    "\n",
    "\n",
    "\n",
    "# Вывод лучших параметров\n",
    "best_params = grid_search_linear.best_params_\n",
    "print(f'Лучшие параметры: {best_params}')\n",
    "\n",
    "# Получение отрицательного значения RMSE\n",
    "best_score = grid_search_linear.best_score_\n",
    "print(f'Лучший (отрицательный) RMSE: {best_score}')\n",
    "\n",
    "# Получение модели с лучшими параметрами и расчет фактического RMSE на тестовой выборке\n",
    "best_model2 = grid_search_linear.best_estimator_"
   ]
  },
  {
   "cell_type": "code",
   "execution_count": null,
   "metadata": {
    "scrolled": true
   },
   "outputs": [],
   "source": [
    "grid_search_linear.best_score_"
   ]
  },
  {
   "cell_type": "code",
   "execution_count": null,
   "metadata": {
    "scrolled": true
   },
   "outputs": [],
   "source": [
    "models_info_df = extract_best_model_info(grid_search_linear, 'Linear Reg', models_info_df)\n",
    "display(models_info_df)"
   ]
  },
  {
   "cell_type": "markdown",
   "metadata": {},
   "source": [
    "### Модель Catboost Reg"
   ]
  },
  {
   "cell_type": "code",
   "execution_count": null,
   "metadata": {},
   "outputs": [],
   "source": [
    "from catboost import CatBoostRegressor\n",
    "from sklearn.model_selection import TimeSeriesSplit\n",
    "from sklearn.pipeline import Pipeline\n",
    "from sklearn.compose import ColumnTransformer\n",
    "from sklearn.preprocessing import StandardScaler"
   ]
  },
  {
   "cell_type": "code",
   "execution_count": null,
   "metadata": {},
   "outputs": [],
   "source": [
    "# Создание пайплайна для CatBoost Regressor\n",
    "pipeline_catboost = Pipeline(steps=[('preprocessor', preprocessor),\n",
    "                                    ('regressor', CatBoostRegressor(random_seed=42, silent=True))])\n",
    "\n",
    "# Определение параметров для перебора\n",
    "param_grid_catboost = {\n",
    "    'regressor__iterations': [20, 50],\n",
    "    'regressor__depth': [3, 6, 10],\n",
    "    'regressor__learning_rate': [0.01, 0.1]\n",
    "}\n",
    "\n",
    "# Создание TimeSeriesSplit\n",
    "tscv = TimeSeriesSplit(n_splits=3)\n",
    "\n",
    "# Создание и запуск GridSearchCV с TimeSeriesSplit для CatBoost Regressor\n",
    "grid_search_catboost = GridSearchCV(pipeline_catboost, param_grid_catboost, scoring=RMSE_score, cv=tscv, n_jobs=-1)\n",
    "grid_search_catboost.fit(X_train, y_train)\n",
    "\n",
    "# Вывод лучших параметров для CatBoost\n",
    "best_params_catboost = grid_search_catboost.best_params_\n",
    "print(f'Лучшие параметры для CatBoost: {best_params_catboost}')\n",
    "\n",
    "# Модель с лучшими параметрами для CatBoost\n",
    "best_model_catboost = grid_search_catboost.best_estimator_"
   ]
  },
  {
   "cell_type": "code",
   "execution_count": null,
   "metadata": {},
   "outputs": [],
   "source": [
    "grid_search_catboost.best_score_"
   ]
  },
  {
   "cell_type": "code",
   "execution_count": null,
   "metadata": {
    "scrolled": true
   },
   "outputs": [],
   "source": [
    "models_info_df = extract_best_model_info(grid_search_catboost, 'CatBoost Reg', models_info_df)\n",
    "# Вывод таблицы с информацией о лучшей модели\n",
    "display(models_info_df)"
   ]
  },
  {
   "cell_type": "markdown",
   "metadata": {},
   "source": [
    "**RandomForestReg - лучшая модель, выберем ее для проверки на тестовых данных.**"
   ]
  },
  {
   "cell_type": "markdown",
   "metadata": {},
   "source": [
    "## Тестирование"
   ]
  },
  {
   "cell_type": "code",
   "execution_count": null,
   "metadata": {},
   "outputs": [],
   "source": [
    "# Получение лучших параметров для Random Forest из GridSearchCV\n",
    "best_model_rf = grid_search1.best_estimator_\n",
    "\n",
    "# Прогнозирование на тестовой выборке\n",
    "y_pred_rf = best_model_rf.predict(X_test)\n",
    "\n",
    "actual_rmse_rf = RMSE(y_test, y_pred_rf)\n",
    "\n",
    "print(f'Фактический RMSE на тестовой выборке для Random Forest: {actual_rmse_rf}')"
   ]
  },
  {
   "cell_type": "code",
   "execution_count": null,
   "metadata": {
    "scrolled": true
   },
   "outputs": [],
   "source": [
    "# Инициализация объекта Explainer для Random Forest\n",
    "explainer = shap.Explainer(best_model_rf.named_steps['regressor'], X_train)\n",
    "\n",
    "# Вычисление SHAP значений для тестовой выборки\n",
    "shap_values = explainer(X_test)\n",
    "\n",
    "# Построение графика важности признаков\n",
    "shap.summary_plot(shap_values, X_test, plot_type=\"bar\")\n",
    "\n",
    "# Также можно построить обычный summary plot\n",
    "shap.summary_plot(shap_values, X_test)"
   ]
  },
  {
   "cell_type": "markdown",
   "metadata": {},
   "source": [
    "## Итог проекта\n",
    "\n",
    "В рамках проекта была поставлена задача прогнозирования количества заказов такси на следующий час. \\\n",
    "Изначально таблица представляла собой два столбца: временные интервалы по 10 минут и количество заказов. \\\n",
    "Для улучшения модели прогнозирования были проведены следующие шаги по преобразованию данных и добавлению новых признаков:\n",
    "\n",
    "1. **Рассемплирование данных**:\n",
    "   - Преобразовали временные интервалы с 10-минутных на часовые, чтобы сгладить данные и уменьшить шум.\n",
    "\n",
    "2. **Добавление лаговых признаков**:\n",
    "   - Создали столбцы `lag_1` по `lag_24`, чтобы учесть значение количества заказов за предыдущие 24 часа. \\\n",
    "   Эти признаки помогают модели понять зависимость текущих значений от предыдущих.\n",
    "\n",
    "3. **Добавление временных признаков**:\n",
    "   - Создали столбец `day`, представляющий день месяца, и столбец `dayofweek`, представляющий день недели. \\\n",
    "   Эти признаки помогают учесть дневные и недельные циклы в данных.\n",
    "\n",
    "4. **Добавление скользящего среднего**:\n",
    "   - Добавили столбец `rolling_mean`, представляющий скользящее среднее значения заказов за предыдущие 100 интервалов (10 минут). Этот признак помогает сгладить колебания и выявить общие тренды.\n",
    "\n",
    "### Выбор моделей\n",
    "\n",
    "Для решения задачи прогнозирования были выбраны три модели: **Random Forest Regressor, Linear Regression и CatBoost Regressor**.\\\n",
    "Каждая из этих моделей имеет свои преимущества и особенности.\n",
    "\n",
    "1. **Random Forest Regressor**:\n",
    "   - Ансамблевый метод, основанный на построении множества деревьев решений и объединении их прогнозов. Хорошо справляется с нелинейными зависимостями и высокоразмерными данными.\n",
    "\n",
    "2. **Linear Regression**:\n",
    "   - Базовая модель, служащая отправной точкой для более сложных моделей. Предполагает линейную зависимость между признаками и целевой переменной.\n",
    "3. **CatBoost Regressor**:\n",
    "   - Градиентный бустинг, разработанный для работы с категориальными признаками и временными рядами. Эффективно справляется с большими объемами данных и сложными зависимостями.\n",
    "   - Высокая точность, встроенная обработка категориальных признаков, устойчивость к переобучению.\n"
   ]
  },
  {
   "cell_type": "markdown",
   "metadata": {},
   "source": [
    "### Вывод по графикам важности признаков\n",
    "\n",
    "На графиках важности признаков видно, что наиболее значимыми признаками являются `lag_24`, `lag_2`, и `lag_1`. Это указывает на сильную зависимость текущего значения от значений в предыдущие часы. \\\n",
    "Признаки, такие как `dayofweek` и `rolling_mean`, имеют меньшую важность, что указывает на меньший вклад в прогнозирование модели.\n",
    "\n",
    "### Заключение\n",
    "\n",
    "Проведенные преобразования данных и использование различных моделей позволили создать эффективные модели для прогнозирования количества заказов такси. \\\n",
    "Наилучшие результаты показала модель Random Forest Regressor с фактическим RMSE на тестовой выборке **27.002188528162414**.\n"
   ]
  },
  {
   "cell_type": "code",
   "execution_count": 42,
   "metadata": {
    "scrolled": true
   },
   "outputs": [
    {
     "data": {
      "image/png": "[encoded data removed]",
      "text/plain": [
       "<Figure size 1008x504 with 1 Axes>"
      ]
     },
     "metadata": {
      "needs_background": "light"
     },
     "output_type": "display_data"
    }
   ],
   "source": [
    "# Визуализация предсказаний и их сравнения с реальными значениями (ограниченный диапазон)\n",
    "plt.figure(figsize=(14, 7))\n",
    "plt.plot(y_test.values[:200], label='Actual', color='blue', alpha=0.6)\n",
    "plt.plot(y_pred_rf[:200], label='Predicted', color='red', alpha=0.6)\n",
    "plt.xlabel('Samples')\n",
    "plt.ylabel('Number of Orders')\n",
    "plt.title('Actual vs Predicted Values (First 200 Samples)')\n",
    "plt.legend()\n",
    "plt.show()"
   ]
  },
  {
   "cell_type": "markdown",
   "metadata": {},
   "source": [
    "### Анализ графика предсказаний и реальных значений\n",
    "\n",
    "По графику, который отображает реальные значения (синие линии) и предсказанные значения (красные линии), можно сделать несколько выводов о работе модели Random Forest:\n",
    "\n",
    "1. **Тренды, паттерны, шум**:\n",
    "   - Модель хорошо улавливает общие тренды и паттерны в данных. Это видно по совпадению пиков и спадов реальных и предсказанных значений.\n",
    "   - Временами модель точно предсказывает высокие и низкие значения, что свидетельствует о способности модели улавливать сезонные или дневные паттерны.\n",
    "   \n",
    "   - Есть периоды, где предсказанные значения существенно отличаются от реальных. \\\n",
    "   Это может быть вызвано неожиданными событиями или шумом в данных, которые модель не смогла учесть.\n",
    "   - Особенно заметны ошибки в предсказаниях высоких пиков, где модель может либо переоценивать, либо недооценивать значения.\n",
    "\n",
    "   - Модель хорошо справляется с предсказанием колебаний, но иногда сглаживает резкие изменения, что может привести к незначительным отклонениям от реальных значений.\n",
    "\n",
    "\n",
    "2. **Улучшение Модели**:\n",
    "   - Возможно, стоит рассмотреть добавление дополнительных признаков, которые могут помочь модели лучше понять резкие изменения в данных, такие как погодные условия, специальные события или праздники.\n",
    "   - Можно попробовать другие модели или их ансамбли, такие как Gradient Boosting или CatBoost, которые могут лучше справляться с нелинейными зависимостями.\n",
    "   - Провести более детальный анализ периодов, где модель сильно ошибается. \\\n",
    "   Это может помочь выявить дополнительные факторы, влияющие на количество заказов, которые не были учтены в текущей модели.\n",
    "   - Возможно, стоит провести дополнительное обучение модели на более свежих данных или использовать более сложные методы обработки временных рядов, такие как SARIMA или рекуррентные нейронные сети (RNN).\n"
   ]
  }
 ],
 "metadata": {
  "ExecuteTimeLog": [
   {
    "duration": 335,
    "start_time": "2024-06-10T12:20:23.429Z"
   },
   {
    "duration": 167,
    "start_time": "2024-06-10T12:23:20.335Z"
   },
   {
    "duration": 64,
    "start_time": "2024-06-10T12:24:15.184Z"
   },
   {
    "duration": 377,
    "start_time": "2024-06-10T12:24:18.402Z"
   },
   {
    "duration": 55,
    "start_time": "2024-06-10T12:24:19.253Z"
   },
   {
    "duration": 276,
    "start_time": "2024-06-10T12:24:20.332Z"
   },
   {
    "duration": 167,
    "start_time": "2024-06-10T12:24:27.337Z"
   },
   {
    "duration": 17,
    "start_time": "2024-06-10T12:24:39.649Z"
   },
   {
    "duration": 7,
    "start_time": "2024-06-10T12:24:42.249Z"
   },
   {
    "duration": 8,
    "start_time": "2024-06-10T12:24:46.449Z"
   },
   {
    "duration": 7,
    "start_time": "2024-06-10T12:24:50.161Z"
   },
   {
    "duration": 7,
    "start_time": "2024-06-10T12:24:54.258Z"
   },
   {
    "duration": 50,
    "start_time": "2024-06-10T12:24:57.602Z"
   },
   {
    "duration": 199,
    "start_time": "2024-06-10T12:24:58.450Z"
   },
   {
    "duration": 184,
    "start_time": "2024-06-10T12:25:03.023Z"
   },
   {
    "duration": 8,
    "start_time": "2024-06-10T12:25:19.710Z"
   },
   {
    "duration": 8,
    "start_time": "2024-06-10T12:25:25.686Z"
   },
   {
    "duration": 865,
    "start_time": "2024-06-10T12:25:28.695Z"
   },
   {
    "duration": 0,
    "start_time": "2024-06-10T12:25:29.562Z"
   },
   {
    "duration": 48,
    "start_time": "2024-06-10T12:25:33.946Z"
   },
   {
    "duration": 196,
    "start_time": "2024-06-10T12:25:35.742Z"
   },
   {
    "duration": 136,
    "start_time": "2024-06-10T12:25:37.466Z"
   },
   {
    "duration": 51,
    "start_time": "2024-06-10T12:25:58.011Z"
   },
   {
    "duration": 194,
    "start_time": "2024-06-10T12:25:59.435Z"
   },
   {
    "duration": 7,
    "start_time": "2024-06-10T12:26:59.017Z"
   },
   {
    "duration": 875,
    "start_time": "2024-06-10T12:27:07.408Z"
   },
   {
    "duration": 0,
    "start_time": "2024-06-10T12:27:08.284Z"
   },
   {
    "duration": 58,
    "start_time": "2024-06-10T12:27:14.672Z"
   },
   {
    "duration": 194,
    "start_time": "2024-06-10T12:27:16.081Z"
   },
   {
    "duration": 8,
    "start_time": "2024-06-10T12:27:16.965Z"
   },
   {
    "duration": 7,
    "start_time": "2024-06-10T12:27:23.507Z"
   },
   {
    "duration": 8,
    "start_time": "2024-06-10T12:27:37.682Z"
   },
   {
    "duration": 6,
    "start_time": "2024-06-10T12:27:42.081Z"
   },
   {
    "duration": 49,
    "start_time": "2024-06-10T12:27:45.897Z"
   },
   {
    "duration": 198,
    "start_time": "2024-06-10T12:27:51.190Z"
   },
   {
    "duration": 3,
    "start_time": "2024-06-10T12:27:54.365Z"
   },
   {
    "duration": 195,
    "start_time": "2024-06-10T12:27:59.830Z"
   },
   {
    "duration": 7,
    "start_time": "2024-06-10T12:28:19.474Z"
   },
   {
    "duration": 6,
    "start_time": "2024-06-10T12:28:21.706Z"
   },
   {
    "duration": 49,
    "start_time": "2024-06-10T12:28:26.330Z"
   },
   {
    "duration": 195,
    "start_time": "2024-06-10T12:28:27.486Z"
   },
   {
    "duration": 3,
    "start_time": "2024-06-10T12:28:28.214Z"
   },
   {
    "duration": 8,
    "start_time": "2024-06-10T12:28:28.590Z"
   },
   {
    "duration": 8,
    "start_time": "2024-06-10T12:28:36.278Z"
   },
   {
    "duration": 8,
    "start_time": "2024-06-10T12:28:38.277Z"
   },
   {
    "duration": 885,
    "start_time": "2024-06-10T12:28:43.266Z"
   },
   {
    "duration": 50,
    "start_time": "2024-06-10T12:28:51.123Z"
   },
   {
    "duration": 201,
    "start_time": "2024-06-10T12:28:52.146Z"
   },
   {
    "duration": 4,
    "start_time": "2024-06-10T12:28:53.002Z"
   },
   {
    "duration": 132,
    "start_time": "2024-06-10T12:28:55.891Z"
   },
   {
    "duration": 171,
    "start_time": "2024-06-10T12:29:13.731Z"
   },
   {
    "duration": 199,
    "start_time": "2024-06-10T12:29:22.028Z"
   },
   {
    "duration": 166,
    "start_time": "2024-06-10T12:29:25.228Z"
   },
   {
    "duration": 142,
    "start_time": "2024-06-10T12:29:33.115Z"
   },
   {
    "duration": 146,
    "start_time": "2024-06-10T12:29:37.399Z"
   },
   {
    "duration": 154,
    "start_time": "2024-06-10T12:29:46.487Z"
   },
   {
    "duration": 148,
    "start_time": "2024-06-10T12:29:50.040Z"
   },
   {
    "duration": 156,
    "start_time": "2024-06-10T12:30:22.796Z"
   },
   {
    "duration": 159,
    "start_time": "2024-06-10T12:30:27.077Z"
   },
   {
    "duration": 159,
    "start_time": "2024-06-10T12:30:32.261Z"
   },
   {
    "duration": 439,
    "start_time": "2024-06-10T12:31:19.550Z"
   },
   {
    "duration": 707,
    "start_time": "2024-06-10T12:31:25.070Z"
   },
   {
    "duration": 734,
    "start_time": "2024-06-10T12:31:52.294Z"
   },
   {
    "duration": 3,
    "start_time": "2024-06-10T13:09:06.843Z"
   },
   {
    "duration": 4,
    "start_time": "2024-06-10T13:09:09.427Z"
   },
   {
    "duration": 8,
    "start_time": "2024-06-10T13:10:46.569Z"
   },
   {
    "duration": 8,
    "start_time": "2024-06-10T13:10:52.810Z"
   },
   {
    "duration": 6,
    "start_time": "2024-06-10T13:11:01.934Z"
   },
   {
    "duration": 31,
    "start_time": "2024-06-10T13:11:08.782Z"
   },
   {
    "duration": 4,
    "start_time": "2024-06-10T13:11:12.238Z"
   },
   {
    "duration": 7,
    "start_time": "2024-06-10T13:11:21.719Z"
   },
   {
    "duration": 4,
    "start_time": "2024-06-10T13:11:24.022Z"
   },
   {
    "duration": 7,
    "start_time": "2024-06-10T13:11:32.346Z"
   },
   {
    "duration": 6,
    "start_time": "2024-06-10T13:11:36.001Z"
   },
   {
    "duration": 5,
    "start_time": "2024-06-10T13:11:38.515Z"
   },
   {
    "duration": 2,
    "start_time": "2024-06-10T13:11:53.523Z"
   },
   {
    "duration": 965,
    "start_time": "2024-06-10T13:12:01.531Z"
   },
   {
    "duration": 54,
    "start_time": "2024-06-10T13:12:03.143Z"
   },
   {
    "duration": 266,
    "start_time": "2024-06-10T13:12:03.811Z"
   },
   {
    "duration": 7,
    "start_time": "2024-06-10T13:12:04.079Z"
   },
   {
    "duration": 157,
    "start_time": "2024-06-10T13:12:04.183Z"
   },
   {
    "duration": 667,
    "start_time": "2024-06-10T13:12:04.350Z"
   },
   {
    "duration": 644,
    "start_time": "2024-06-10T13:12:05.019Z"
   },
   {
    "duration": 8,
    "start_time": "2024-06-10T13:12:05.664Z"
   },
   {
    "duration": 5,
    "start_time": "2024-06-10T13:12:06.094Z"
   },
   {
    "duration": 87,
    "start_time": "2024-06-10T13:12:06.888Z"
   },
   {
    "duration": 7,
    "start_time": "2024-06-10T13:12:19.199Z"
   },
   {
    "duration": 4,
    "start_time": "2024-06-10T13:12:21.031Z"
   },
   {
    "duration": 3,
    "start_time": "2024-06-10T13:12:36.203Z"
   },
   {
    "duration": 3,
    "start_time": "2024-06-10T13:12:38.787Z"
   },
   {
    "duration": 2,
    "start_time": "2024-06-10T13:12:50.957Z"
   },
   {
    "duration": 3,
    "start_time": "2024-06-10T13:12:53.780Z"
   },
   {
    "duration": 2,
    "start_time": "2024-06-10T13:13:19.857Z"
   },
   {
    "duration": 3,
    "start_time": "2024-06-10T13:13:21.664Z"
   },
   {
    "duration": 3,
    "start_time": "2024-06-10T13:15:03.247Z"
   },
   {
    "duration": 8,
    "start_time": "2024-06-10T13:15:13.707Z"
   },
   {
    "duration": 997,
    "start_time": "2024-06-10T13:24:32.468Z"
   },
   {
    "duration": 50,
    "start_time": "2024-06-10T13:24:56.448Z"
   },
   {
    "duration": 40,
    "start_time": "2024-06-10T13:24:59.458Z"
   },
   {
    "duration": 11,
    "start_time": "2024-06-10T13:25:23.812Z"
   },
   {
    "duration": 17,
    "start_time": "2024-06-10T13:25:27.286Z"
   },
   {
    "duration": 24,
    "start_time": "2024-06-10T13:25:35.596Z"
   },
   {
    "duration": 13,
    "start_time": "2024-06-10T13:26:01.098Z"
   },
   {
    "duration": 5,
    "start_time": "2024-06-10T13:26:32.014Z"
   },
   {
    "duration": 16,
    "start_time": "2024-06-10T13:26:56.143Z"
   },
   {
    "duration": 11,
    "start_time": "2024-06-10T13:26:56.895Z"
   },
   {
    "duration": 17,
    "start_time": "2024-06-10T13:27:00.007Z"
   },
   {
    "duration": 25,
    "start_time": "2024-06-10T13:27:42.448Z"
   },
   {
    "duration": 10,
    "start_time": "2024-06-10T13:27:44.277Z"
   },
   {
    "duration": 5,
    "start_time": "2024-06-10T13:27:46.316Z"
   },
   {
    "duration": 34,
    "start_time": "2024-06-10T13:27:49.805Z"
   },
   {
    "duration": 24,
    "start_time": "2024-06-10T13:27:52.001Z"
   },
   {
    "duration": 23,
    "start_time": "2024-06-10T13:27:56.297Z"
   },
   {
    "duration": 23,
    "start_time": "2024-06-10T13:27:57.905Z"
   },
   {
    "duration": 22,
    "start_time": "2024-06-10T13:28:02.066Z"
   },
   {
    "duration": 85,
    "start_time": "2024-06-10T13:28:05.260Z"
   },
   {
    "duration": 20,
    "start_time": "2024-06-10T13:28:07.608Z"
   },
   {
    "duration": 50,
    "start_time": "2024-06-10T13:31:15.677Z"
   },
   {
    "duration": 16,
    "start_time": "2024-06-10T13:32:34.127Z"
   },
   {
    "duration": 4,
    "start_time": "2024-06-10T13:33:14.795Z"
   },
   {
    "duration": 4,
    "start_time": "2024-06-10T13:33:19.147Z"
   },
   {
    "duration": 3,
    "start_time": "2024-06-10T13:33:21.556Z"
   },
   {
    "duration": 3,
    "start_time": "2024-06-10T13:33:24.460Z"
   },
   {
    "duration": 4,
    "start_time": "2024-06-10T13:33:29.255Z"
   },
   {
    "duration": 3,
    "start_time": "2024-06-10T13:33:31.864Z"
   },
   {
    "duration": 9,
    "start_time": "2024-06-10T13:33:38.597Z"
   },
   {
    "duration": 5,
    "start_time": "2024-06-10T13:33:44.731Z"
   },
   {
    "duration": 3,
    "start_time": "2024-06-10T13:33:59.069Z"
   },
   {
    "duration": 3,
    "start_time": "2024-06-10T13:34:09.173Z"
   },
   {
    "duration": 3,
    "start_time": "2024-06-10T13:34:14.761Z"
   },
   {
    "duration": 3,
    "start_time": "2024-06-10T13:34:19.793Z"
   },
   {
    "duration": 22,
    "start_time": "2024-06-10T13:35:00.026Z"
   },
   {
    "duration": 26,
    "start_time": "2024-06-10T13:35:00.686Z"
   },
   {
    "duration": 4,
    "start_time": "2024-06-10T13:35:19.337Z"
   },
   {
    "duration": 3,
    "start_time": "2024-06-10T13:35:22.370Z"
   },
   {
    "duration": 3,
    "start_time": "2024-06-10T13:35:31.759Z"
   },
   {
    "duration": 3,
    "start_time": "2024-06-10T13:35:37.355Z"
   },
   {
    "duration": 24,
    "start_time": "2024-06-10T13:35:57.043Z"
   },
   {
    "duration": 295,
    "start_time": "2024-06-10T13:38:31.323Z"
   },
   {
    "duration": 22,
    "start_time": "2024-06-10T13:38:49.927Z"
   },
   {
    "duration": 9,
    "start_time": "2024-06-10T13:39:08.739Z"
   },
   {
    "duration": 3,
    "start_time": "2024-06-10T13:39:26.303Z"
   },
   {
    "duration": 10,
    "start_time": "2024-06-10T13:39:34.851Z"
   },
   {
    "duration": 10,
    "start_time": "2024-06-10T13:39:42.359Z"
   },
   {
    "duration": 9,
    "start_time": "2024-06-10T13:39:44.784Z"
   },
   {
    "duration": 12,
    "start_time": "2024-06-10T13:43:36.196Z"
   },
   {
    "duration": 13,
    "start_time": "2024-06-10T13:43:39.666Z"
   },
   {
    "duration": 12,
    "start_time": "2024-06-10T13:43:43.545Z"
   },
   {
    "duration": 12,
    "start_time": "2024-06-10T13:47:04.523Z"
   },
   {
    "duration": 3,
    "start_time": "2024-06-10T13:47:08.317Z"
   },
   {
    "duration": 56,
    "start_time": "2024-06-10T13:47:08.676Z"
   },
   {
    "duration": 210,
    "start_time": "2024-06-10T13:47:26.461Z"
   },
   {
    "duration": 181,
    "start_time": "2024-06-10T13:47:44.202Z"
   },
   {
    "duration": 8,
    "start_time": "2024-06-10T13:47:47.657Z"
   },
   {
    "duration": 8,
    "start_time": "2024-06-10T13:47:57.765Z"
   },
   {
    "duration": 649,
    "start_time": "2024-06-10T13:48:17.670Z"
   },
   {
    "duration": 686,
    "start_time": "2024-06-10T13:48:21.707Z"
   },
   {
    "duration": 10,
    "start_time": "2024-06-10T13:48:24.562Z"
   },
   {
    "duration": 5,
    "start_time": "2024-06-10T13:48:27.366Z"
   },
   {
    "duration": 8,
    "start_time": "2024-06-10T13:48:31.923Z"
   },
   {
    "duration": 6,
    "start_time": "2024-06-10T13:48:58.451Z"
   },
   {
    "duration": 41,
    "start_time": "2024-06-10T13:49:40.506Z"
   },
   {
    "duration": 13,
    "start_time": "2024-06-10T13:49:43.896Z"
   },
   {
    "duration": 4,
    "start_time": "2024-06-10T13:49:48.040Z"
   },
   {
    "duration": 12,
    "start_time": "2024-06-10T13:50:28.668Z"
   },
   {
    "duration": 16,
    "start_time": "2024-06-10T13:50:33.069Z"
   },
   {
    "duration": 16,
    "start_time": "2024-06-10T13:50:51.729Z"
   },
   {
    "duration": 11,
    "start_time": "2024-06-10T13:50:52.394Z"
   },
   {
    "duration": 16,
    "start_time": "2024-06-10T13:50:59.321Z"
   },
   {
    "duration": 16,
    "start_time": "2024-06-10T13:51:01.913Z"
   },
   {
    "duration": 11,
    "start_time": "2024-06-10T13:51:02.554Z"
   },
   {
    "duration": 4,
    "start_time": "2024-06-10T13:51:23.489Z"
   },
   {
    "duration": 23,
    "start_time": "2024-06-10T13:51:45.354Z"
   },
   {
    "duration": 4,
    "start_time": "2024-06-10T13:51:46.626Z"
   },
   {
    "duration": 10,
    "start_time": "2024-06-10T13:51:47.226Z"
   },
   {
    "duration": 7,
    "start_time": "2024-06-10T13:52:05.435Z"
   },
   {
    "duration": 7,
    "start_time": "2024-06-10T13:52:07.903Z"
   },
   {
    "duration": 16,
    "start_time": "2024-06-10T13:52:22.839Z"
   },
   {
    "duration": 5,
    "start_time": "2024-06-10T13:52:23.159Z"
   },
   {
    "duration": 12,
    "start_time": "2024-06-10T13:52:23.479Z"
   },
   {
    "duration": 16,
    "start_time": "2024-06-10T13:52:31.976Z"
   },
   {
    "duration": 13,
    "start_time": "2024-06-10T13:52:58.920Z"
   },
   {
    "duration": 8,
    "start_time": "2024-06-10T13:53:00.000Z"
   },
   {
    "duration": 25,
    "start_time": "2024-06-10T13:53:09.868Z"
   },
   {
    "duration": 21,
    "start_time": "2024-06-10T13:53:20.228Z"
   },
   {
    "duration": 352,
    "start_time": "2024-06-10T13:53:55.218Z"
   },
   {
    "duration": 25,
    "start_time": "2024-06-10T13:53:57.898Z"
   },
   {
    "duration": 30,
    "start_time": "2024-06-10T13:54:05.542Z"
   },
   {
    "duration": 10,
    "start_time": "2024-06-10T13:54:18.547Z"
   },
   {
    "duration": 14,
    "start_time": "2024-06-10T13:54:45.090Z"
   },
   {
    "duration": 13,
    "start_time": "2024-06-10T13:54:45.730Z"
   },
   {
    "duration": 14,
    "start_time": "2024-06-10T13:55:09.131Z"
   },
   {
    "duration": 13,
    "start_time": "2024-06-10T13:55:14.499Z"
   },
   {
    "duration": 12,
    "start_time": "2024-06-10T13:55:17.699Z"
   },
   {
    "duration": 12,
    "start_time": "2024-06-10T13:55:56.772Z"
   },
   {
    "duration": 15,
    "start_time": "2024-06-10T13:55:59.563Z"
   },
   {
    "duration": 8,
    "start_time": "2024-06-10T13:56:00.523Z"
   },
   {
    "duration": 9181,
    "start_time": "2024-06-10T14:01:56.185Z"
   },
   {
    "duration": 23,
    "start_time": "2024-06-10T14:06:35.269Z"
   },
   {
    "duration": 6037,
    "start_time": "2024-06-10T14:06:49.209Z"
   },
   {
    "duration": 183,
    "start_time": "2024-06-10T14:09:22.634Z"
   },
   {
    "duration": 9,
    "start_time": "2024-06-10T14:09:29.593Z"
   },
   {
    "duration": 8,
    "start_time": "2024-06-10T14:09:31.817Z"
   },
   {
    "duration": 9,
    "start_time": "2024-06-10T14:10:10.463Z"
   },
   {
    "duration": 18,
    "start_time": "2024-06-10T14:10:17.582Z"
   },
   {
    "duration": 12,
    "start_time": "2024-06-10T14:10:32.328Z"
   },
   {
    "duration": 90,
    "start_time": "2024-06-10T14:10:57.189Z"
   },
   {
    "duration": 10,
    "start_time": "2024-06-10T14:11:04.392Z"
   },
   {
    "duration": 3,
    "start_time": "2024-06-10T14:12:03.597Z"
   },
   {
    "duration": 3,
    "start_time": "2024-06-10T14:12:03.789Z"
   },
   {
    "duration": 48,
    "start_time": "2024-06-10T14:12:04.562Z"
   },
   {
    "duration": 187,
    "start_time": "2024-06-10T14:12:13.741Z"
   },
   {
    "duration": 153,
    "start_time": "2024-06-10T14:12:18.881Z"
   },
   {
    "duration": 7,
    "start_time": "2024-06-10T14:12:20.002Z"
   },
   {
    "duration": 7,
    "start_time": "2024-06-10T14:12:30.154Z"
   },
   {
    "duration": 648,
    "start_time": "2024-06-10T14:12:35.125Z"
   },
   {
    "duration": 641,
    "start_time": "2024-06-10T14:12:36.002Z"
   },
   {
    "duration": 8,
    "start_time": "2024-06-10T14:12:38.593Z"
   },
   {
    "duration": 12,
    "start_time": "2024-06-10T14:12:48.646Z"
   },
   {
    "duration": 1255,
    "start_time": "2024-06-11T11:27:44.583Z"
   },
   {
    "duration": 0,
    "start_time": "2024-06-11T11:27:45.841Z"
   },
   {
    "duration": 0,
    "start_time": "2024-06-11T11:27:45.842Z"
   },
   {
    "duration": 0,
    "start_time": "2024-06-11T11:27:45.843Z"
   },
   {
    "duration": 0,
    "start_time": "2024-06-11T11:27:45.844Z"
   },
   {
    "duration": 0,
    "start_time": "2024-06-11T11:27:45.845Z"
   },
   {
    "duration": 0,
    "start_time": "2024-06-11T11:27:45.846Z"
   },
   {
    "duration": 0,
    "start_time": "2024-06-11T11:27:45.847Z"
   },
   {
    "duration": 0,
    "start_time": "2024-06-11T11:27:45.848Z"
   },
   {
    "duration": 0,
    "start_time": "2024-06-11T11:27:45.849Z"
   },
   {
    "duration": 0,
    "start_time": "2024-06-11T11:27:45.850Z"
   },
   {
    "duration": 0,
    "start_time": "2024-06-11T11:27:45.852Z"
   },
   {
    "duration": 0,
    "start_time": "2024-06-11T11:27:45.853Z"
   },
   {
    "duration": 0,
    "start_time": "2024-06-11T11:27:45.854Z"
   },
   {
    "duration": 0,
    "start_time": "2024-06-11T11:27:45.855Z"
   },
   {
    "duration": 0,
    "start_time": "2024-06-11T11:27:45.857Z"
   },
   {
    "duration": 0,
    "start_time": "2024-06-11T11:27:45.858Z"
   },
   {
    "duration": 0,
    "start_time": "2024-06-11T11:27:45.859Z"
   },
   {
    "duration": 0,
    "start_time": "2024-06-11T11:27:45.860Z"
   },
   {
    "duration": 0,
    "start_time": "2024-06-11T11:27:45.861Z"
   },
   {
    "duration": 0,
    "start_time": "2024-06-11T11:27:45.862Z"
   },
   {
    "duration": 0,
    "start_time": "2024-06-11T11:27:45.863Z"
   },
   {
    "duration": 0,
    "start_time": "2024-06-11T11:27:45.864Z"
   },
   {
    "duration": 0,
    "start_time": "2024-06-11T11:27:45.865Z"
   },
   {
    "duration": 0,
    "start_time": "2024-06-11T11:27:45.866Z"
   },
   {
    "duration": 0,
    "start_time": "2024-06-11T11:27:45.867Z"
   },
   {
    "duration": 0,
    "start_time": "2024-06-11T11:27:45.868Z"
   },
   {
    "duration": 0,
    "start_time": "2024-06-11T11:27:45.869Z"
   },
   {
    "duration": 7,
    "start_time": "2024-06-11T11:27:54.746Z"
   },
   {
    "duration": 71,
    "start_time": "2024-06-11T11:28:08.815Z"
   },
   {
    "duration": 7,
    "start_time": "2024-06-11T11:28:14.895Z"
   },
   {
    "duration": 226,
    "start_time": "2024-06-11T11:29:08.357Z"
   },
   {
    "duration": 4,
    "start_time": "2024-06-11T11:29:09.724Z"
   },
   {
    "duration": 179,
    "start_time": "2024-06-11T11:29:10.092Z"
   },
   {
    "duration": 305,
    "start_time": "2024-06-11T11:29:11.165Z"
   },
   {
    "duration": 180,
    "start_time": "2024-06-11T11:29:11.989Z"
   },
   {
    "duration": 10,
    "start_time": "2024-06-11T11:29:12.620Z"
   },
   {
    "duration": 678,
    "start_time": "2024-06-11T11:29:13.189Z"
   },
   {
    "duration": 673,
    "start_time": "2024-06-11T11:29:14.653Z"
   },
   {
    "duration": 9,
    "start_time": "2024-06-11T11:29:15.965Z"
   },
   {
    "duration": 3,
    "start_time": "2024-06-11T11:29:18.461Z"
   },
   {
    "duration": 3,
    "start_time": "2024-06-11T11:29:18.816Z"
   },
   {
    "duration": 19,
    "start_time": "2024-06-11T11:29:20.032Z"
   },
   {
    "duration": 8,
    "start_time": "2024-06-11T11:29:42.201Z"
   },
   {
    "duration": 3,
    "start_time": "2024-06-11T11:29:56.261Z"
   },
   {
    "duration": 4,
    "start_time": "2024-06-11T11:29:56.421Z"
   },
   {
    "duration": 53,
    "start_time": "2024-06-11T11:29:56.566Z"
   },
   {
    "duration": 195,
    "start_time": "2024-06-11T11:29:56.878Z"
   },
   {
    "duration": 173,
    "start_time": "2024-06-11T11:29:57.190Z"
   },
   {
    "duration": 8,
    "start_time": "2024-06-11T11:29:57.381Z"
   },
   {
    "duration": 637,
    "start_time": "2024-06-11T11:29:57.798Z"
   },
   {
    "duration": 684,
    "start_time": "2024-06-11T11:29:58.436Z"
   },
   {
    "duration": 9,
    "start_time": "2024-06-11T11:29:59.122Z"
   },
   {
    "duration": 5,
    "start_time": "2024-06-11T11:30:00.350Z"
   },
   {
    "duration": 2,
    "start_time": "2024-06-11T11:30:01.294Z"
   },
   {
    "duration": 17,
    "start_time": "2024-06-11T11:30:02.285Z"
   },
   {
    "duration": 9,
    "start_time": "2024-06-11T11:30:05.086Z"
   },
   {
    "duration": 8,
    "start_time": "2024-06-11T11:30:07.617Z"
   },
   {
    "duration": 6,
    "start_time": "2024-06-11T11:30:09.185Z"
   },
   {
    "duration": 20,
    "start_time": "2024-06-11T11:30:10.470Z"
   },
   {
    "duration": 17,
    "start_time": "2024-06-11T11:30:16.522Z"
   },
   {
    "duration": 9,
    "start_time": "2024-06-11T11:30:34.915Z"
   },
   {
    "duration": 6,
    "start_time": "2024-06-11T11:30:35.323Z"
   },
   {
    "duration": 5,
    "start_time": "2024-06-11T11:30:36.067Z"
   },
   {
    "duration": 15,
    "start_time": "2024-06-11T11:30:36.874Z"
   },
   {
    "duration": 15,
    "start_time": "2024-06-11T11:30:39.251Z"
   },
   {
    "duration": 10,
    "start_time": "2024-06-11T11:30:46.230Z"
   },
   {
    "duration": 16,
    "start_time": "2024-06-11T11:30:46.975Z"
   },
   {
    "duration": 16,
    "start_time": "2024-06-11T11:30:48.215Z"
   },
   {
    "duration": 12,
    "start_time": "2024-06-11T11:30:49.095Z"
   },
   {
    "duration": 5,
    "start_time": "2024-06-11T11:30:58.623Z"
   },
   {
    "duration": 3,
    "start_time": "2024-06-11T11:30:59.327Z"
   },
   {
    "duration": 9,
    "start_time": "2024-06-11T11:31:19.243Z"
   },
   {
    "duration": 4,
    "start_time": "2024-06-11T11:31:45.700Z"
   },
   {
    "duration": 3,
    "start_time": "2024-06-11T11:31:50.289Z"
   },
   {
    "duration": 1520,
    "start_time": "2024-06-13T12:41:50.659Z"
   },
   {
    "duration": 4,
    "start_time": "2024-06-13T12:41:52.181Z"
   },
   {
    "duration": 192,
    "start_time": "2024-06-13T12:41:52.186Z"
   },
   {
    "duration": 328,
    "start_time": "2024-06-13T12:41:52.380Z"
   },
   {
    "duration": 203,
    "start_time": "2024-06-13T12:41:52.710Z"
   },
   {
    "duration": 11,
    "start_time": "2024-06-13T12:41:52.914Z"
   },
   {
    "duration": 841,
    "start_time": "2024-06-13T12:41:52.926Z"
   },
   {
    "duration": 838,
    "start_time": "2024-06-13T12:41:53.769Z"
   },
   {
    "duration": 10,
    "start_time": "2024-06-13T12:41:54.608Z"
   },
   {
    "duration": 6,
    "start_time": "2024-06-13T12:41:54.621Z"
   },
   {
    "duration": 11,
    "start_time": "2024-06-13T12:41:54.628Z"
   },
   {
    "duration": 19,
    "start_time": "2024-06-13T12:41:54.641Z"
   },
   {
    "duration": 11,
    "start_time": "2024-06-13T12:41:54.661Z"
   },
   {
    "duration": 32,
    "start_time": "2024-06-13T12:41:54.673Z"
   },
   {
    "duration": 6,
    "start_time": "2024-06-13T12:41:54.707Z"
   },
   {
    "duration": 27,
    "start_time": "2024-06-13T12:41:54.715Z"
   },
   {
    "duration": 21,
    "start_time": "2024-06-13T12:41:54.744Z"
   },
   {
    "duration": 38,
    "start_time": "2024-06-13T12:41:54.767Z"
   },
   {
    "duration": 18,
    "start_time": "2024-06-13T12:41:54.807Z"
   },
   {
    "duration": 17,
    "start_time": "2024-06-13T12:41:54.827Z"
   },
   {
    "duration": 16,
    "start_time": "2024-06-13T12:41:54.845Z"
   },
   {
    "duration": 38,
    "start_time": "2024-06-13T12:41:54.862Z"
   },
   {
    "duration": 4,
    "start_time": "2024-06-13T12:41:54.902Z"
   },
   {
    "duration": 13,
    "start_time": "2024-06-13T12:41:54.908Z"
   },
   {
    "duration": 13,
    "start_time": "2024-06-13T12:41:54.922Z"
   },
   {
    "duration": 13,
    "start_time": "2024-06-13T12:41:54.937Z"
   },
   {
    "duration": 216,
    "start_time": "2024-06-13T12:41:54.952Z"
   },
   {
    "duration": 8,
    "start_time": "2024-06-13T12:42:33.827Z"
   },
   {
    "duration": 826,
    "start_time": "2024-06-13T12:43:12.752Z"
   },
   {
    "duration": 168,
    "start_time": "2024-06-13T12:43:28.032Z"
   },
   {
    "duration": 171,
    "start_time": "2024-06-13T12:43:55.132Z"
   },
   {
    "duration": 5579,
    "start_time": "2024-06-13T12:44:18.969Z"
   },
   {
    "duration": 2,
    "start_time": "2024-06-13T12:54:48.753Z"
   },
   {
    "duration": 21,
    "start_time": "2024-06-13T12:59:05.861Z"
   },
   {
    "duration": 9,
    "start_time": "2024-06-13T12:59:29.226Z"
   },
   {
    "duration": 5,
    "start_time": "2024-06-13T12:59:48.416Z"
   },
   {
    "duration": 2,
    "start_time": "2024-06-13T12:59:55.047Z"
   },
   {
    "duration": 3,
    "start_time": "2024-06-13T13:00:10.774Z"
   },
   {
    "duration": 3,
    "start_time": "2024-06-13T13:00:11.110Z"
   },
   {
    "duration": 12,
    "start_time": "2024-06-13T13:00:15.254Z"
   },
   {
    "duration": 3,
    "start_time": "2024-06-13T13:00:32.291Z"
   },
   {
    "duration": 16,
    "start_time": "2024-06-13T13:00:42.347Z"
   },
   {
    "duration": 15,
    "start_time": "2024-06-13T13:00:58.416Z"
   },
   {
    "duration": 3,
    "start_time": "2024-06-13T13:01:41.948Z"
   },
   {
    "duration": 4,
    "start_time": "2024-06-13T13:01:45.212Z"
   },
   {
    "duration": 17984,
    "start_time": "2024-06-13T13:03:50.149Z"
   },
   {
    "duration": 4,
    "start_time": "2024-06-13T13:04:22.591Z"
   },
   {
    "duration": 71,
    "start_time": "2024-06-13T13:04:52.516Z"
   },
   {
    "duration": 9364,
    "start_time": "2024-06-13T13:04:57.036Z"
   },
   {
    "duration": 4,
    "start_time": "2024-06-13T13:05:06.402Z"
   },
   {
    "duration": 4,
    "start_time": "2024-06-13T13:07:15.719Z"
   },
   {
    "duration": 4,
    "start_time": "2024-06-13T13:07:45.678Z"
   },
   {
    "duration": 5,
    "start_time": "2024-06-13T13:35:52.385Z"
   },
   {
    "duration": 10,
    "start_time": "2024-06-13T13:36:04.604Z"
   },
   {
    "duration": 5,
    "start_time": "2024-06-13T13:36:55.516Z"
   },
   {
    "duration": 10,
    "start_time": "2024-06-13T13:36:57.172Z"
   },
   {
    "duration": 5,
    "start_time": "2024-06-13T13:44:19.676Z"
   },
   {
    "duration": 12000,
    "start_time": "2024-06-13T13:44:25.151Z"
   },
   {
    "duration": 3,
    "start_time": "2024-06-13T13:44:42.136Z"
   },
   {
    "duration": 64,
    "start_time": "2024-06-13T13:45:30.454Z"
   },
   {
    "duration": 49301,
    "start_time": "2024-06-13T13:45:35.842Z"
   },
   {
    "duration": 3,
    "start_time": "2024-06-13T13:46:25.145Z"
   },
   {
    "duration": 10,
    "start_time": "2024-06-13T13:46:31.320Z"
   },
   {
    "duration": 50135,
    "start_time": "2024-06-13T13:47:59.343Z"
   },
   {
    "duration": 3,
    "start_time": "2024-06-13T13:48:49.480Z"
   },
   {
    "duration": 11,
    "start_time": "2024-06-13T13:49:07.832Z"
   },
   {
    "duration": 27231,
    "start_time": "2024-06-13T13:50:36.511Z"
   },
   {
    "duration": 4,
    "start_time": "2024-06-13T13:51:03.744Z"
   },
   {
    "duration": 12310,
    "start_time": "2024-06-13T13:51:22.436Z"
   },
   {
    "duration": 4,
    "start_time": "2024-06-13T13:51:40.183Z"
   },
   {
    "duration": 12,
    "start_time": "2024-06-13T13:51:41.272Z"
   },
   {
    "duration": 3,
    "start_time": "2024-06-13T13:52:21.157Z"
   },
   {
    "duration": 23291,
    "start_time": "2024-06-13T13:52:50.202Z"
   },
   {
    "duration": 7,
    "start_time": "2024-06-13T13:53:13.494Z"
   },
   {
    "duration": 22,
    "start_time": "2024-06-13T13:53:13.503Z"
   },
   {
    "duration": 4111,
    "start_time": "2024-06-13T14:00:04.390Z"
   },
   {
    "duration": 3,
    "start_time": "2024-06-13T14:00:19.809Z"
   },
   {
    "duration": 4255,
    "start_time": "2024-06-13T14:02:01.257Z"
   },
   {
    "duration": 4,
    "start_time": "2024-06-13T14:02:07.735Z"
   },
   {
    "duration": 15,
    "start_time": "2024-06-13T14:02:33.805Z"
   },
   {
    "duration": 4,
    "start_time": "2024-06-17T10:55:05.073Z"
   },
   {
    "duration": 9,
    "start_time": "2024-06-17T10:55:14.487Z"
   },
   {
    "duration": 20,
    "start_time": "2024-06-17T10:55:20.133Z"
   },
   {
    "duration": 25,
    "start_time": "2024-06-17T10:55:28.959Z"
   },
   {
    "duration": 56,
    "start_time": "2024-06-17T10:59:33.536Z"
   },
   {
    "duration": 137524,
    "start_time": "2024-06-17T10:59:34.032Z"
   },
   {
    "duration": 46818,
    "start_time": "2024-06-17T11:01:56.482Z"
   },
   {
    "duration": 4,
    "start_time": "2024-06-17T11:03:07.288Z"
   },
   {
    "duration": 21,
    "start_time": "2024-06-17T11:03:32.828Z"
   },
   {
    "duration": 1478,
    "start_time": "2024-06-17T11:03:52.461Z"
   },
   {
    "duration": 6,
    "start_time": "2024-06-17T11:03:53.940Z"
   },
   {
    "duration": 8,
    "start_time": "2024-06-17T11:03:53.947Z"
   },
   {
    "duration": 80,
    "start_time": "2024-06-17T11:03:53.956Z"
   },
   {
    "duration": 376,
    "start_time": "2024-06-17T11:03:54.038Z"
   },
   {
    "duration": 224,
    "start_time": "2024-06-17T11:03:54.415Z"
   },
   {
    "duration": 10,
    "start_time": "2024-06-17T11:03:54.641Z"
   },
   {
    "duration": 943,
    "start_time": "2024-06-17T11:03:54.652Z"
   },
   {
    "duration": 895,
    "start_time": "2024-06-17T11:03:55.598Z"
   },
   {
    "duration": 19,
    "start_time": "2024-06-17T11:03:56.499Z"
   },
   {
    "duration": 14,
    "start_time": "2024-06-17T11:03:56.520Z"
   },
   {
    "duration": 3,
    "start_time": "2024-06-17T11:03:56.536Z"
   },
   {
    "duration": 18,
    "start_time": "2024-06-17T11:03:56.541Z"
   },
   {
    "duration": 12,
    "start_time": "2024-06-17T11:03:56.562Z"
   },
   {
    "duration": 41,
    "start_time": "2024-06-17T11:03:56.576Z"
   },
   {
    "duration": 7,
    "start_time": "2024-06-17T11:03:56.619Z"
   },
   {
    "duration": 40,
    "start_time": "2024-06-17T11:03:56.628Z"
   },
   {
    "duration": 21,
    "start_time": "2024-06-17T11:03:56.670Z"
   },
   {
    "duration": 21,
    "start_time": "2024-06-17T11:03:56.692Z"
   },
   {
    "duration": 17,
    "start_time": "2024-06-17T11:03:56.718Z"
   },
   {
    "duration": 17,
    "start_time": "2024-06-17T11:03:56.737Z"
   },
   {
    "duration": 15,
    "start_time": "2024-06-17T11:03:56.756Z"
   },
   {
    "duration": 37,
    "start_time": "2024-06-17T11:03:56.773Z"
   },
   {
    "duration": 4,
    "start_time": "2024-06-17T11:03:56.813Z"
   },
   {
    "duration": 7,
    "start_time": "2024-06-17T11:03:56.818Z"
   },
   {
    "duration": 4,
    "start_time": "2024-06-17T11:03:56.827Z"
   },
   {
    "duration": 5,
    "start_time": "2024-06-17T11:03:56.832Z"
   },
   {
    "duration": 24857,
    "start_time": "2024-06-17T11:03:56.838Z"
   },
   {
    "duration": 4,
    "start_time": "2024-06-17T11:04:21.699Z"
   },
   {
    "duration": 13,
    "start_time": "2024-06-17T11:04:21.704Z"
   },
   {
    "duration": 4805,
    "start_time": "2024-06-17T11:04:21.719Z"
   },
   {
    "duration": 10,
    "start_time": "2024-06-17T11:04:26.605Z"
   },
   {
    "duration": 17,
    "start_time": "2024-06-17T11:04:26.700Z"
   },
   {
    "duration": 57,
    "start_time": "2024-06-17T11:04:26.719Z"
   },
   {
    "duration": 48809,
    "start_time": "2024-06-17T11:04:26.778Z"
   },
   {
    "duration": 4,
    "start_time": "2024-06-17T11:05:15.589Z"
   },
   {
    "duration": 32,
    "start_time": "2024-06-17T11:05:15.594Z"
   },
   {
    "duration": 13,
    "start_time": "2024-06-17T11:43:36.825Z"
   },
   {
    "duration": 20,
    "start_time": "2024-06-17T11:44:31.258Z"
   },
   {
    "duration": 22,
    "start_time": "2024-06-17T11:44:40.340Z"
   },
   {
    "duration": 4362,
    "start_time": "2024-06-17T11:46:36.780Z"
   },
   {
    "duration": 2183,
    "start_time": "2024-06-17T11:46:41.244Z"
   },
   {
    "duration": 3,
    "start_time": "2024-06-17T11:49:04.865Z"
   },
   {
    "duration": 1748,
    "start_time": "2024-06-17T12:21:21.423Z"
   },
   {
    "duration": 4,
    "start_time": "2024-06-17T12:21:23.173Z"
   },
   {
    "duration": 10,
    "start_time": "2024-06-17T12:21:23.178Z"
   },
   {
    "duration": 69,
    "start_time": "2024-06-17T12:21:23.189Z"
   },
   {
    "duration": 295,
    "start_time": "2024-06-17T12:21:23.259Z"
   },
   {
    "duration": 196,
    "start_time": "2024-06-17T12:21:23.556Z"
   },
   {
    "duration": 9,
    "start_time": "2024-06-17T12:21:23.754Z"
   },
   {
    "duration": 755,
    "start_time": "2024-06-17T12:21:23.764Z"
   },
   {
    "duration": 831,
    "start_time": "2024-06-17T12:21:24.521Z"
   },
   {
    "duration": 10,
    "start_time": "2024-06-17T12:21:25.354Z"
   },
   {
    "duration": 6,
    "start_time": "2024-06-17T12:21:25.365Z"
   },
   {
    "duration": 2,
    "start_time": "2024-06-17T12:21:25.373Z"
   },
   {
    "duration": 36,
    "start_time": "2024-06-17T12:21:25.377Z"
   },
   {
    "duration": 9,
    "start_time": "2024-06-17T12:21:25.416Z"
   },
   {
    "duration": 8,
    "start_time": "2024-06-17T12:21:25.426Z"
   },
   {
    "duration": 6,
    "start_time": "2024-06-17T12:21:25.435Z"
   },
   {
    "duration": 21,
    "start_time": "2024-06-17T12:21:25.442Z"
   },
   {
    "duration": 44,
    "start_time": "2024-06-17T12:21:25.465Z"
   },
   {
    "duration": 11,
    "start_time": "2024-06-17T12:21:25.510Z"
   },
   {
    "duration": 15,
    "start_time": "2024-06-17T12:21:25.523Z"
   },
   {
    "duration": 14,
    "start_time": "2024-06-17T12:21:25.540Z"
   },
   {
    "duration": 17,
    "start_time": "2024-06-17T12:21:25.555Z"
   },
   {
    "duration": 7,
    "start_time": "2024-06-17T12:21:25.600Z"
   },
   {
    "duration": 14,
    "start_time": "2024-06-17T12:21:25.609Z"
   },
   {
    "duration": 20,
    "start_time": "2024-06-17T12:21:25.625Z"
   },
   {
    "duration": 4,
    "start_time": "2024-06-17T12:21:25.647Z"
   },
   {
    "duration": 3,
    "start_time": "2024-06-17T12:21:25.652Z"
   },
   {
    "duration": 21149,
    "start_time": "2024-06-17T12:21:25.657Z"
   },
   {
    "duration": 4,
    "start_time": "2024-06-17T12:21:46.807Z"
   },
   {
    "duration": 11,
    "start_time": "2024-06-17T12:21:46.812Z"
   },
   {
    "duration": 4285,
    "start_time": "2024-06-17T12:21:46.824Z"
   },
   {
    "duration": 89,
    "start_time": "2024-06-17T12:21:51.111Z"
   },
   {
    "duration": 103,
    "start_time": "2024-06-17T12:21:51.204Z"
   },
   {
    "duration": 19,
    "start_time": "2024-06-17T12:21:51.308Z"
   },
   {
    "duration": 42994,
    "start_time": "2024-06-17T12:21:51.329Z"
   },
   {
    "duration": 3,
    "start_time": "2024-06-17T12:22:34.325Z"
   },
   {
    "duration": 17,
    "start_time": "2024-06-17T12:22:34.329Z"
   },
   {
    "duration": 16,
    "start_time": "2024-06-17T12:22:34.348Z"
   },
   {
    "duration": 2388,
    "start_time": "2024-06-17T12:22:34.365Z"
   },
   {
    "duration": 1523,
    "start_time": "2024-06-17T12:22:36.755Z"
   },
   {
    "duration": 9662,
    "start_time": "2024-06-17T15:21:28.394Z"
   },
   {
    "duration": 4568,
    "start_time": "2024-06-17T15:21:38.058Z"
   },
   {
    "duration": 3,
    "start_time": "2024-06-17T15:21:42.628Z"
   },
   {
    "duration": 12,
    "start_time": "2024-06-17T15:21:42.633Z"
   },
   {
    "duration": 117,
    "start_time": "2024-06-17T15:21:42.646Z"
   },
   {
    "duration": 307,
    "start_time": "2024-06-17T15:21:42.765Z"
   },
   {
    "duration": 211,
    "start_time": "2024-06-17T15:21:43.073Z"
   },
   {
    "duration": 10,
    "start_time": "2024-06-17T15:21:43.286Z"
   },
   {
    "duration": 875,
    "start_time": "2024-06-17T15:21:43.297Z"
   },
   {
    "duration": 712,
    "start_time": "2024-06-17T15:21:44.174Z"
   },
   {
    "duration": 10,
    "start_time": "2024-06-17T15:21:44.887Z"
   },
   {
    "duration": 11,
    "start_time": "2024-06-17T15:21:44.899Z"
   },
   {
    "duration": 5,
    "start_time": "2024-06-17T15:21:44.911Z"
   },
   {
    "duration": 28,
    "start_time": "2024-06-17T15:21:44.917Z"
   },
   {
    "duration": 25,
    "start_time": "2024-06-17T15:21:44.946Z"
   },
   {
    "duration": 18,
    "start_time": "2024-06-17T15:21:44.973Z"
   },
   {
    "duration": 12,
    "start_time": "2024-06-17T15:25:25.538Z"
   },
   {
    "duration": 1637,
    "start_time": "2024-06-17T15:25:32.130Z"
   },
   {
    "duration": 21,
    "start_time": "2024-06-17T15:25:35.852Z"
   },
   {
    "duration": 66,
    "start_time": "2024-06-17T15:27:20.473Z"
   },
   {
    "duration": 281,
    "start_time": "2024-06-17T16:05:03.694Z"
   },
   {
    "duration": 236,
    "start_time": "2024-06-17T16:05:58.764Z"
   },
   {
    "duration": 69,
    "start_time": "2024-06-17T16:12:30.608Z"
   },
   {
    "duration": 62,
    "start_time": "2024-06-17T16:13:59.805Z"
   }
  ],
  "kernelspec": {
   "display_name": "Python 3 (ipykernel)",
   "language": "python",
   "name": "python3"
  },
  "language_info": {
   "codemirror_mode": {
    "name": "ipython",
    "version": 3
   },
   "file_extension": ".py",
   "mimetype": "text/x-python",
   "name": "python",
   "nbconvert_exporter": "python",
   "pygments_lexer": "ipython3",
   "version": "3.9.5"
  },
  "toc": {
   "base_numbering": 1,
   "nav_menu": {},
   "number_sections": true,
   "sideBar": true,
   "skip_h1_title": true,
   "title_cell": "Содержание",
   "title_sidebar": "Contents",
   "toc_cell": true,
   "toc_position": {
    "height": "calc(100% - 180px)",
    "left": "10px",
    "top": "150px",
    "width": "349.091px"
   },
   "toc_section_display": true,
   "toc_window_display": true
  }
 },
 "nbformat": 4,
 "nbformat_minor": 2
}
