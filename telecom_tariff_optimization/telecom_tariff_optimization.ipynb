{
 "cells": [
  {
   "cell_type": "markdown",
   "id": "1e74334d",
   "metadata": {},
   "source": [
    "### **Содержание**\n",
    "* [Информация о проекте | Описание данных](#chapter0)\n",
    "* [Шаг 1. Загрузка данных](#chapter1)\n",
    "    * 1.1 Загрузка данных и библиотек.\n",
    "    * 1.2 Общая информация о данных и структуре.\n",
    "    * 1.3 Вывод.\n",
    "* [Шаг 2. Предобработка данных](#chapter2)\n",
    "    * 2.1 Приведем столбец date к типу даты pandas.\n",
    "    * 2.2 Создадим новый столбец с номером месяца на основе столбца date.\n",
    "    * 2.3 Проверим наличие пропущенных значений и дубликатов в датафреймах. Обработаем их, если такие значения присутствуют.\n",
    "    * 2.4 Вывод.\n",
    "* [Шаг 3. Исследовательский анализ данных](#chapter3) \n",
    "    * 3.1 Опишим и визуализируем общую информацию о пользователях и поездках: частота встречаемости городов;\n",
    "    * 3.2 соотношение пользователей с подпиской и без подписки;\n",
    "    * 3.3 возраст пользователей;\n",
    "    * 3.4 расстояние, которое пользователь преодолел за одну поездку;\n",
    "    * 3.5 продолжительность поездок.\n",
    "    * 3.6 Вывод.\n",
    "* [Шаг 4. Объединение данных](#chapter4)\n",
    "    * 4.1 Объединим данные о пользователях, поездках и подписках в один датафрейм.\n",
    "    * 4.2 Создадим ещё два датафрейма из датафрейма, созданного на этапе 4.1: \n",
    "        * c данными о пользователях без подписки;\n",
    "        * с данными о пользователях с подпиской.\n",
    "    * 4.3 Визуализируем информацию о расстоянии и времени поездок для пользователей обеих категорий.\n",
    "* [Шаг 5. Подсчет выручки](#chapter5)\n",
    "    * 5.1 Создадим датафрейм с агрегированными данными о поездках на основе датафрейма с объединёнными данными из шага 4.\n",
    "    * 5.2 В этот же датафрейм добавим столбец с помесячной выручкой, которую принёс каждый пользователь. \n",
    "* [Шаг 6. Проверка гипотез](#chapter6)\n",
    "    * 6.1 Важно понять, тратят ли пользователи с подпиской больше времени на поездки? \n",
    "    * 6.2 Можно ли сказать, что среднее расстояние, которое проезжают пользователи с подпиской за одну поездку, не превышает 3130 метров? Провим гипотезу и сделайте выводы.\n",
    "    * 6.3 Проверим гипотезу о том, будет ли помесячная выручка от пользователей с подпиской по месяцам выше, чем выручка от пользователей без подписки.\n",
    "    * 6.4 Техническая команда сервиса обновила сервера, с которыми взаимодействует мобильное приложение. Она надеется, что из-за этого количество обращений в техподдержку значимо снизилось. Найдем тест, который бы нам понадобился для проверки этой гипотезы.\n",
    "* [Шаг 6. Общий Вывод](#chapter7)"
   ]
  },
  {
   "cell_type": "markdown",
   "id": "199ed6d1",
   "metadata": {},
   "source": [
    "## Описание проекта\n",
    "Вы аналитик популярного сервиса аренды самокатов GoFast. \\\n",
    "Вам передали данные о некоторых пользователях из нескольких городов, а также об их поездках. Проанализируйте данные и проверьте некоторые гипотезы, которые могут помочь бизнесу вырасти. \\\n",
    "Чтобы совершать поездки по городу, пользователи сервиса GoFast пользуются мобильным приложением. \\\n",
    "Сервисом можно пользоваться:\n",
    "* без подписки абонентская плата отсутствует;\n",
    "    * стоимость одной минуты поездки — 8 рублей;\n",
    "    * сстоимость старта (начала поездки) — 50 рублей;\n",
    "* с подпиской Ultra абонентская плата — 199 рублей в месяц;\n",
    "    * стоимость одной минуты поездки — 6 рублей;\n",
    "    * стоимость старта — бесплатно."
   ]
  },
  {
   "cell_type": "markdown",
   "id": "7188ee79",
   "metadata": {},
   "source": [
    "## Описание данных\n",
    "* **Пользователи** — *users_go.csv*\n",
    "   * `user_id` — уникальный идентификатор пользователя\n",
    "   * `name` — имя пользователя\n",
    "   * `age` — возраст\n",
    "   * `city` — город\n",
    "   * `subscription_type` — тип подписки (free, ultra)\n",
    " \\\n",
    "* **Поeздки** — *rides_go.csv*\n",
    "   * `user_id` — уникальный идентификатор пользователя\n",
    "   * `distance` — расстояние, которое пользователь проехал в текущей сессии (в метрах)\n",
    "   * `duration` — продолжительность сессии (в минутах) — время с того момента, как пользователь нажал кнопку «Начать поездку» до момента, как он нажал кнопку «Завершить поездку»\n",
    "   * `date` — дата совершения поездки\n",
    " \\\n",
    "* **Подписки** — *subscriptions_go.csv*\n",
    "   * `subscription_type` — тип подписки\n",
    "   * `minute_price` — стоимость одной минуты поездки по данной подписке\n",
    "   * `start_ride_price` — стоимость начала поездки\n",
    "   * `subscription_fee` — стоимость ежемесячного платежа"
   ]
  },
  {
   "cell_type": "markdown",
   "id": "c42cbe00",
   "metadata": {},
   "source": [
    "## Шаг 1. Загрузка данных"
   ]
  },
  {
   "cell_type": "markdown",
   "id": "0ef85794",
   "metadata": {},
   "source": [
    "### 1.1 Загружаем и настраиваем библиотеки"
   ]
  },
  {
   "cell_type": "code",
   "execution_count": 2,
   "id": "eff9f206",
   "metadata": {},
   "outputs": [],
   "source": [
    "import pandas as pd\n",
    "import matplotlib.pyplot as plt\n",
    "import seaborn as sns\n",
    "import plotly.express as px\n",
    "import numpy as np\n",
    "from scipy import stats as st\n",
    "from IPython.display import display\n",
    "pd.options.display.max_columns = 25\n",
    "pd.options.display.float_format = '{:,.2f}'.format"
   ]
  },
  {
   "cell_type": "markdown",
   "id": "ad491bd0",
   "metadata": {},
   "source": [
    "#### 1.1.1 Загружаем данные"
   ]
  },
  {
   "cell_type": "markdown",
   "id": "1b47d160",
   "metadata": {},
   "source": [
    "##### Датасет с информацией о пользователях"
   ]
  },
  {
   "cell_type": "code",
   "execution_count": 3,
   "id": "a409bc8d",
   "metadata": {},
   "outputs": [],
   "source": [
    "try:\n",
    "    data_users = pd.read_csv('/datasets/users_go.csv')\n",
    "except:\n",
    "    data_users = pd.read_csv('https://code.s3.yandex.net/datasets/users_go.csv')"
   ]
  },
  {
   "cell_type": "markdown",
   "id": "3ef9ffbc",
   "metadata": {},
   "source": [
    "##### Датасет с информацией о поездках"
   ]
  },
  {
   "cell_type": "code",
   "execution_count": 4,
   "id": "46e9c12b",
   "metadata": {},
   "outputs": [],
   "source": [
    "try:\n",
    "    data_riders = pd.read_csv('/datasets/rides_go.csv')\n",
    "except:\n",
    "    data_riders = pd.read_csv('https://code.s3.yandex.net/datasets/rides_go.csv')"
   ]
  },
  {
   "cell_type": "markdown",
   "id": "b7656560",
   "metadata": {},
   "source": [
    "##### Датасет с информацией о подписках"
   ]
  },
  {
   "cell_type": "code",
   "execution_count": 5,
   "id": "9c07bafc",
   "metadata": {},
   "outputs": [],
   "source": [
    "try:\n",
    "    data_sub = pd.read_csv('/datasets/subscriptions_go.csv')\n",
    "except:\n",
    "    data_sub = pd.read_csv('https://code.s3.yandex.net/datasets/subscriptions_go.csv')"
   ]
  },
  {
   "cell_type": "markdown",
   "id": "cf951205",
   "metadata": {},
   "source": [
    "### 1.2 Структура данных\n",
    "#### 1.2.1 Данные о пользователях"
   ]
  },
  {
   "cell_type": "code",
   "execution_count": 6,
   "id": "0ff43c2b",
   "metadata": {},
   "outputs": [
    {
     "name": "stdout",
     "output_type": "stream",
     "text": [
      "<class 'pandas.core.frame.DataFrame'>\n",
      "RangeIndex: 1565 entries, 0 to 1564\n",
      "Data columns (total 5 columns):\n",
      " #   Column             Non-Null Count  Dtype \n",
      "---  ------             --------------  ----- \n",
      " 0   user_id            1565 non-null   int64 \n",
      " 1   name               1565 non-null   object\n",
      " 2   age                1565 non-null   int64 \n",
      " 3   city               1565 non-null   object\n",
      " 4   subscription_type  1565 non-null   object\n",
      "dtypes: int64(2), object(3)\n",
      "memory usage: 61.3+ KB\n",
      "(1565, 5)\n"
     ]
    }
   ],
   "source": [
    "data_users.info()\n",
    "print(data_users.shape)"
   ]
  },
  {
   "cell_type": "code",
   "execution_count": 7,
   "id": "6dd6e59e",
   "metadata": {},
   "outputs": [
    {
     "data": {
      "text/html": [
       "<div>\n",
       "<style scoped>\n",
       "    .dataframe tbody tr th:only-of-type {\n",
       "        vertical-align: middle;\n",
       "    }\n",
       "\n",
       "    .dataframe tbody tr th {\n",
       "        vertical-align: top;\n",
       "    }\n",
       "\n",
       "    .dataframe thead th {\n",
       "        text-align: right;\n",
       "    }\n",
       "</style>\n",
       "<table border=\"1\" class=\"dataframe\">\n",
       "  <thead>\n",
       "    <tr style=\"text-align: right;\">\n",
       "      <th></th>\n",
       "      <th>user_id</th>\n",
       "      <th>name</th>\n",
       "      <th>age</th>\n",
       "      <th>city</th>\n",
       "      <th>subscription_type</th>\n",
       "    </tr>\n",
       "  </thead>\n",
       "  <tbody>\n",
       "    <tr>\n",
       "      <th>481</th>\n",
       "      <td>482</td>\n",
       "      <td>Ясмина</td>\n",
       "      <td>22</td>\n",
       "      <td>Пятигорск</td>\n",
       "      <td>ultra</td>\n",
       "    </tr>\n",
       "    <tr>\n",
       "      <th>1354</th>\n",
       "      <td>1355</td>\n",
       "      <td>Владислава</td>\n",
       "      <td>29</td>\n",
       "      <td>Ростов-на-Дону</td>\n",
       "      <td>free</td>\n",
       "    </tr>\n",
       "    <tr>\n",
       "      <th>1452</th>\n",
       "      <td>1453</td>\n",
       "      <td>Виолетта</td>\n",
       "      <td>26</td>\n",
       "      <td>Екатеринбург</td>\n",
       "      <td>free</td>\n",
       "    </tr>\n",
       "    <tr>\n",
       "      <th>468</th>\n",
       "      <td>469</td>\n",
       "      <td>Майя</td>\n",
       "      <td>24</td>\n",
       "      <td>Сочи</td>\n",
       "      <td>ultra</td>\n",
       "    </tr>\n",
       "    <tr>\n",
       "      <th>1122</th>\n",
       "      <td>1123</td>\n",
       "      <td>Матвей</td>\n",
       "      <td>25</td>\n",
       "      <td>Краснодар</td>\n",
       "      <td>free</td>\n",
       "    </tr>\n",
       "    <tr>\n",
       "      <th>866</th>\n",
       "      <td>867</td>\n",
       "      <td>Леонид</td>\n",
       "      <td>24</td>\n",
       "      <td>Ростов-на-Дону</td>\n",
       "      <td>free</td>\n",
       "    </tr>\n",
       "    <tr>\n",
       "      <th>76</th>\n",
       "      <td>77</td>\n",
       "      <td>Анна</td>\n",
       "      <td>23</td>\n",
       "      <td>Пятигорск</td>\n",
       "      <td>ultra</td>\n",
       "    </tr>\n",
       "    <tr>\n",
       "      <th>667</th>\n",
       "      <td>668</td>\n",
       "      <td>Андрей</td>\n",
       "      <td>25</td>\n",
       "      <td>Ростов-на-Дону</td>\n",
       "      <td>ultra</td>\n",
       "    </tr>\n",
       "    <tr>\n",
       "      <th>1257</th>\n",
       "      <td>1258</td>\n",
       "      <td>Антон</td>\n",
       "      <td>18</td>\n",
       "      <td>Омск</td>\n",
       "      <td>free</td>\n",
       "    </tr>\n",
       "    <tr>\n",
       "      <th>360</th>\n",
       "      <td>361</td>\n",
       "      <td>Анастасия</td>\n",
       "      <td>28</td>\n",
       "      <td>Краснодар</td>\n",
       "      <td>ultra</td>\n",
       "    </tr>\n",
       "  </tbody>\n",
       "</table>\n",
       "</div>"
      ],
      "text/plain": [
       "      user_id        name  age            city subscription_type\n",
       "481       482      Ясмина   22       Пятигорск             ultra\n",
       "1354     1355  Владислава   29  Ростов-на-Дону              free\n",
       "1452     1453    Виолетта   26    Екатеринбург              free\n",
       "468       469        Майя   24            Сочи             ultra\n",
       "1122     1123      Матвей   25       Краснодар              free\n",
       "866       867      Леонид   24  Ростов-на-Дону              free\n",
       "76         77        Анна   23       Пятигорск             ultra\n",
       "667       668      Андрей   25  Ростов-на-Дону             ultra\n",
       "1257     1258       Антон   18            Омск              free\n",
       "360       361   Анастасия   28       Краснодар             ultra"
      ]
     },
     "execution_count": 7,
     "metadata": {},
     "output_type": "execute_result"
    }
   ],
   "source": [
    "data_users.sample(10)"
   ]
  },
  {
   "cell_type": "markdown",
   "id": "ac93a150",
   "metadata": {},
   "source": [
    "##### Проверим распределение пользователей по возрасту - столбец `age`"
   ]
  },
  {
   "cell_type": "code",
   "execution_count": 8,
   "id": "5df3d6f3",
   "metadata": {},
   "outputs": [
    {
     "name": "stdout",
     "output_type": "stream",
     "text": [
      "Максимальный возраст пользователя 43 года\n",
      "Минимальный возраст пользователя 12 лет\n"
     ]
    }
   ],
   "source": [
    "print('Максимальный возраст пользователя', data_users['age'].max(), 'года')\n",
    "\n",
    "print('Минимальный возраст пользователя', data_users['age'].min(), 'лет')"
   ]
  },
  {
   "cell_type": "code",
   "execution_count": 9,
   "id": "3e5e473c",
   "metadata": {},
   "outputs": [
    {
     "data": {
      "image/png": "[encoded data removed]",
      "text/plain": [
       "<Figure size 432x288 with 1 Axes>"
      ]
     },
     "metadata": {},
     "output_type": "display_data"
    }
   ],
   "source": [
    "plt.style.use('seaborn-darkgrid')  # выбор стиля\n",
    "palette = plt.get_cmap('Set2')  # выбор цветовой палитры\n",
    "\n",
    "plt.hist(data_users['age'], bins=15, color=palette(5), edgecolor=\"k\", alpha=0.7)  # добавляем цвет и границы бинов\n",
    "plt.title('Возраст пользователей')\n",
    "plt.xlabel('Возраст')\n",
    "plt.ylabel('Количество пользователей')\n",
    "plt.grid(axis='y')  # сетка только по вертикали\n",
    "plt.tight_layout()  # автоматическая настройка размера и расположения элементов на фигуре\n",
    "\n",
    "plt.show()"
   ]
  },
  {
   "cell_type": "markdown",
   "id": "bf93360e",
   "metadata": {},
   "source": [
    "##### Проверим распределение пользователей по городам - столбец `city`"
   ]
  },
  {
   "cell_type": "code",
   "execution_count": 10,
   "id": "a1fdaf3e",
   "metadata": {},
   "outputs": [
    {
     "name": "stdout",
     "output_type": "stream",
     "text": [
      "Кол-во пользователей в каждом городе:\n",
      "Пятигорск         226\n",
      "Екатеринбург      206\n",
      "Ростов-на-Дону    202\n",
      "Краснодар         196\n",
      "Сочи              192\n",
      "Омск              186\n",
      "Тюмень            185\n",
      "Москва            172\n",
      "Name: city, dtype: int64\n"
     ]
    }
   ],
   "source": [
    "print(\"Кол-во пользователей в каждом городе:\")\n",
    "print(data_users['city'].value_counts())"
   ]
  },
  {
   "cell_type": "code",
   "execution_count": 11,
   "id": "8592d449",
   "metadata": {},
   "outputs": [
    {
     "data": {
      "text/plain": [
       "<AxesSubplot:title={'center':'Распределение пользователей по городам'}, ylabel='city'>"
      ]
     },
     "execution_count": 11,
     "metadata": {},
     "output_type": "execute_result"
    },
    {
     "data": {
      "image/png": "[encoded data removed]",
      "text/plain": [
       "<Figure size 720x720 with 1 Axes>"
      ]
     },
     "metadata": {},
     "output_type": "display_data"
    }
   ],
   "source": [
    "colors = ['lightblue', 'lightcoral', 'lightgreen', 'lightpink', 'lightyellow', 'lightcyan', 'lightgrey', 'lightsalmon']  # цветовая палитра для различных городов\n",
    "\n",
    "data_users['city'].value_counts().plot(\n",
    "    kind = 'pie', \n",
    "    y = data_users['city'].value_counts(),\n",
    "    autopct = '%1.0f%%',\n",
    "    figsize=(10,10), \n",
    "    title = 'Распределение пользователей по городам',\n",
    "    colors = colors,  # применяем цветовую палитру\n",
    "    wedgeprops=dict(width=0.3),  # делаем диаграмму \"кольцевой\"\n",
    "    shadow=True,  # добавляем тень для 3D-эффекта\n",
    "    startangle=140  # начинаем с определенного угла\n",
    ")"
   ]
  },
  {
   "cell_type": "markdown",
   "id": "390ed667",
   "metadata": {},
   "source": [
    "##### Проверим распределение пользователей по типу подписки - столбец `subscription_type`"
   ]
  },
  {
   "cell_type": "code",
   "execution_count": 12,
   "id": "13870dba",
   "metadata": {},
   "outputs": [
    {
     "name": "stdout",
     "output_type": "stream",
     "text": [
      "Кол-во пользователей с каждым типо подписки:\n"
     ]
    },
    {
     "data": {
      "text/plain": [
       "free     846\n",
       "ultra    719\n",
       "Name: subscription_type, dtype: int64"
      ]
     },
     "execution_count": 12,
     "metadata": {},
     "output_type": "execute_result"
    }
   ],
   "source": [
    "print(\"Кол-во пользователей с каждым типо подписки:\")\n",
    "data_users['subscription_type'].value_counts()"
   ]
  },
  {
   "cell_type": "code",
   "execution_count": 13,
   "id": "04ba5b50",
   "metadata": {},
   "outputs": [
    {
     "data": {
      "text/plain": [
       "<AxesSubplot:title={'center':'Процентное соотношение пользователей в зависимости от тарифа'}, ylabel='subscription_type'>"
      ]
     },
     "execution_count": 13,
     "metadata": {},
     "output_type": "execute_result"
    },
    {
     "data": {
      "image/png": "[encoded data removed]",
      "text/plain": [
       "<Figure size 720x720 with 1 Axes>"
      ]
     },
     "metadata": {},
     "output_type": "display_data"
    }
   ],
   "source": [
    "data_users['subscription_type'].value_counts().plot(\n",
    "    kind = 'pie', \n",
    "    y = data_users['subscription_type'].value_counts(), \n",
    "    autopct = '%1.0f%%', \n",
    "    figsize=(10,10),\n",
    "    title = 'Процентное соотношение пользователей в зависимости от тарифа',\n",
    "    colors = ['lightblue', 'lightcoral'],  # добавляем разноцветные секторы\n",
    "    wedgeprops=dict(width=0.3),  # делаем диаграмму \"кольцевой\"\n",
    "    shadow=True,  # добавляем тень для 3D-эффекта\n",
    "    startangle=140,  # начинаем с определенного угла\n",
    "    explode=[0.1, 0]  # отделяем первый сектор для акцентирования внимания\n",
    ")"
   ]
  },
  {
   "cell_type": "markdown",
   "id": "c160ed63",
   "metadata": {},
   "source": [
    "#### 1.2.2 Данные о поездках"
   ]
  },
  {
   "cell_type": "code",
   "execution_count": 14,
   "id": "c2f2f3b4",
   "metadata": {},
   "outputs": [
    {
     "name": "stdout",
     "output_type": "stream",
     "text": [
      "<class 'pandas.core.frame.DataFrame'>\n",
      "RangeIndex: 18068 entries, 0 to 18067\n",
      "Data columns (total 4 columns):\n",
      " #   Column    Non-Null Count  Dtype  \n",
      "---  ------    --------------  -----  \n",
      " 0   user_id   18068 non-null  int64  \n",
      " 1   distance  18068 non-null  float64\n",
      " 2   duration  18068 non-null  float64\n",
      " 3   date      18068 non-null  object \n",
      "dtypes: float64(2), int64(1), object(1)\n",
      "memory usage: 564.8+ KB\n"
     ]
    }
   ],
   "source": [
    "data_riders.info()"
   ]
  },
  {
   "cell_type": "code",
   "execution_count": 15,
   "id": "5bdbf792",
   "metadata": {},
   "outputs": [
    {
     "data": {
      "text/html": [
       "<div>\n",
       "<style scoped>\n",
       "    .dataframe tbody tr th:only-of-type {\n",
       "        vertical-align: middle;\n",
       "    }\n",
       "\n",
       "    .dataframe tbody tr th {\n",
       "        vertical-align: top;\n",
       "    }\n",
       "\n",
       "    .dataframe thead th {\n",
       "        text-align: right;\n",
       "    }\n",
       "</style>\n",
       "<table border=\"1\" class=\"dataframe\">\n",
       "  <thead>\n",
       "    <tr style=\"text-align: right;\">\n",
       "      <th></th>\n",
       "      <th>user_id</th>\n",
       "      <th>distance</th>\n",
       "      <th>duration</th>\n",
       "      <th>date</th>\n",
       "    </tr>\n",
       "  </thead>\n",
       "  <tbody>\n",
       "    <tr>\n",
       "      <th>5557</th>\n",
       "      <td>592</td>\n",
       "      <td>3,013.44</td>\n",
       "      <td>18.23</td>\n",
       "      <td>2021-02-28</td>\n",
       "    </tr>\n",
       "    <tr>\n",
       "      <th>6448</th>\n",
       "      <td>693</td>\n",
       "      <td>1,523.67</td>\n",
       "      <td>12.16</td>\n",
       "      <td>2021-11-09</td>\n",
       "    </tr>\n",
       "    <tr>\n",
       "      <th>17488</th>\n",
       "      <td>1494</td>\n",
       "      <td>4,086.87</td>\n",
       "      <td>12.46</td>\n",
       "      <td>2021-02-20</td>\n",
       "    </tr>\n",
       "    <tr>\n",
       "      <th>10142</th>\n",
       "      <td>967</td>\n",
       "      <td>3,847.57</td>\n",
       "      <td>16.83</td>\n",
       "      <td>2021-10-02</td>\n",
       "    </tr>\n",
       "    <tr>\n",
       "      <th>11230</th>\n",
       "      <td>1046</td>\n",
       "      <td>330.49</td>\n",
       "      <td>4.80</td>\n",
       "      <td>2021-08-04</td>\n",
       "    </tr>\n",
       "    <tr>\n",
       "      <th>1705</th>\n",
       "      <td>184</td>\n",
       "      <td>3,071.20</td>\n",
       "      <td>10.09</td>\n",
       "      <td>2021-06-09</td>\n",
       "    </tr>\n",
       "    <tr>\n",
       "      <th>64</th>\n",
       "      <td>6</td>\n",
       "      <td>3,142.27</td>\n",
       "      <td>16.57</td>\n",
       "      <td>2021-08-15</td>\n",
       "    </tr>\n",
       "    <tr>\n",
       "      <th>16576</th>\n",
       "      <td>1427</td>\n",
       "      <td>3,482.85</td>\n",
       "      <td>22.50</td>\n",
       "      <td>2021-10-22</td>\n",
       "    </tr>\n",
       "    <tr>\n",
       "      <th>9180</th>\n",
       "      <td>900</td>\n",
       "      <td>2,767.91</td>\n",
       "      <td>19.92</td>\n",
       "      <td>2021-01-26</td>\n",
       "    </tr>\n",
       "    <tr>\n",
       "      <th>15692</th>\n",
       "      <td>1368</td>\n",
       "      <td>2,473.80</td>\n",
       "      <td>19.45</td>\n",
       "      <td>2021-09-25</td>\n",
       "    </tr>\n",
       "  </tbody>\n",
       "</table>\n",
       "</div>"
      ],
      "text/plain": [
       "       user_id  distance  duration        date\n",
       "5557       592  3,013.44     18.23  2021-02-28\n",
       "6448       693  1,523.67     12.16  2021-11-09\n",
       "17488     1494  4,086.87     12.46  2021-02-20\n",
       "10142      967  3,847.57     16.83  2021-10-02\n",
       "11230     1046    330.49      4.80  2021-08-04\n",
       "1705       184  3,071.20     10.09  2021-06-09\n",
       "64           6  3,142.27     16.57  2021-08-15\n",
       "16576     1427  3,482.85     22.50  2021-10-22\n",
       "9180       900  2,767.91     19.92  2021-01-26\n",
       "15692     1368  2,473.80     19.45  2021-09-25"
      ]
     },
     "execution_count": 15,
     "metadata": {},
     "output_type": "execute_result"
    }
   ],
   "source": [
    "data_riders.sample(10)"
   ]
  },
  {
   "cell_type": "markdown",
   "id": "6d7602c1",
   "metadata": {},
   "source": [
    "##### Количество поездок у единичного пользователя, общая дистанция и время поедок."
   ]
  },
  {
   "cell_type": "code",
   "execution_count": 16,
   "id": "1501c4f9",
   "metadata": {},
   "outputs": [
    {
     "data": {
      "text/plain": [
       "1236    27\n",
       "1063    26\n",
       "783     26\n",
       "1204    24\n",
       "1149    23\n",
       "716     23\n",
       "1531    23\n",
       "1030    23\n",
       "1252    22\n",
       "919     22\n",
       "Name: user_id, dtype: int64"
      ]
     },
     "execution_count": 16,
     "metadata": {},
     "output_type": "execute_result"
    }
   ],
   "source": [
    "data_riders['user_id'].value_counts().sort_values(ascending=False).head(10)"
   ]
  },
  {
   "cell_type": "code",
   "execution_count": 17,
   "id": "7520ef27",
   "metadata": {},
   "outputs": [
    {
     "name": "stdout",
     "output_type": "stream",
     "text": [
      "Сортировка по общей дистанции поездок:\n",
      "         distance  duration\n",
      "user_id                    \n",
      "1063    79,325.85    440.53\n",
      "1236    78,744.98    446.23\n",
      "1361    77,773.50    408.98\n",
      "1468    77,392.08    429.51\n",
      "1374    74,901.67    394.42\n",
      "Сортировка по общей длительности поездок:\n",
      "         distance  duration\n",
      "user_id                    \n",
      "1236    78,744.98    446.23\n",
      "1063    79,325.85    440.53\n",
      "783     68,009.90    435.19\n",
      "871     69,047.30    433.50\n",
      "1204    72,873.75    432.15\n"
     ]
    }
   ],
   "source": [
    "print('Сортировка по общей дистанции поездок:')\n",
    "print(data_riders.groupby(['user_id']).sum(numeric_only = True).sort_values(by='distance',ascending=False).head(5))\n",
    "print('Сортировка по общей длительности поездок:')\n",
    "print(data_riders.groupby(['user_id']).sum(numeric_only = True).sort_values(by='duration',ascending=False).head(5))"
   ]
  },
  {
   "cell_type": "code",
   "execution_count": 18,
   "id": "fe8f5b30",
   "metadata": {},
   "outputs": [
    {
     "data": {
      "image/png": "[encoded data removed]",
      "text/plain": [
       "<Figure size 432x288 with 1 Axes>"
      ]
     },
     "metadata": {},
     "output_type": "display_data"
    }
   ],
   "source": [
    "data_riders['date'] = pd.to_datetime(data_riders['date'])\n",
    "# Группировка данных по месяцам\n",
    "monthly_rides = data_riders.groupby(data_riders['date'].dt.to_period(\"M\")).size()\n",
    "# Построение графика\n",
    "monthly_rides.plot(kind='bar', color='skyblue', edgecolor='black')\n",
    "plt.xlabel('Месяц')\n",
    "plt.ylabel('Количество поездок')\n",
    "plt.title('Распределение поездок на самокатах по месяцам')\n",
    "plt.xticks(rotation=45)\n",
    "plt.grid(axis='y')\n",
    "plt.tight_layout()\n",
    "plt.show()"
   ]
  },
  {
   "cell_type": "markdown",
   "id": "348d6d94",
   "metadata": {},
   "source": [
    "#### Данные о подписках"
   ]
  },
  {
   "cell_type": "code",
   "execution_count": 19,
   "id": "b00d4cdc",
   "metadata": {},
   "outputs": [
    {
     "name": "stdout",
     "output_type": "stream",
     "text": [
      "<class 'pandas.core.frame.DataFrame'>\n",
      "RangeIndex: 2 entries, 0 to 1\n",
      "Data columns (total 4 columns):\n",
      " #   Column             Non-Null Count  Dtype \n",
      "---  ------             --------------  ----- \n",
      " 0   subscription_type  2 non-null      object\n",
      " 1   minute_price       2 non-null      int64 \n",
      " 2   start_ride_price   2 non-null      int64 \n",
      " 3   subscription_fee   2 non-null      int64 \n",
      "dtypes: int64(3), object(1)\n",
      "memory usage: 192.0+ bytes\n"
     ]
    }
   ],
   "source": [
    "data_sub.info()"
   ]
  },
  {
   "cell_type": "code",
   "execution_count": 20,
   "id": "2c0aba7f",
   "metadata": {},
   "outputs": [
    {
     "data": {
      "text/html": [
       "<div>\n",
       "<style scoped>\n",
       "    .dataframe tbody tr th:only-of-type {\n",
       "        vertical-align: middle;\n",
       "    }\n",
       "\n",
       "    .dataframe tbody tr th {\n",
       "        vertical-align: top;\n",
       "    }\n",
       "\n",
       "    .dataframe thead th {\n",
       "        text-align: right;\n",
       "    }\n",
       "</style>\n",
       "<table border=\"1\" class=\"dataframe\">\n",
       "  <thead>\n",
       "    <tr style=\"text-align: right;\">\n",
       "      <th></th>\n",
       "      <th>subscription_type</th>\n",
       "      <th>minute_price</th>\n",
       "      <th>start_ride_price</th>\n",
       "      <th>subscription_fee</th>\n",
       "    </tr>\n",
       "  </thead>\n",
       "  <tbody>\n",
       "    <tr>\n",
       "      <th>0</th>\n",
       "      <td>free</td>\n",
       "      <td>8</td>\n",
       "      <td>50</td>\n",
       "      <td>0</td>\n",
       "    </tr>\n",
       "    <tr>\n",
       "      <th>1</th>\n",
       "      <td>ultra</td>\n",
       "      <td>6</td>\n",
       "      <td>0</td>\n",
       "      <td>199</td>\n",
       "    </tr>\n",
       "  </tbody>\n",
       "</table>\n",
       "</div>"
      ],
      "text/plain": [
       "  subscription_type  minute_price  start_ride_price  subscription_fee\n",
       "0              free             8                50                 0\n",
       "1             ultra             6                 0               199"
      ]
     },
     "execution_count": 20,
     "metadata": {},
     "output_type": "execute_result"
    }
   ],
   "source": [
    "data_sub.head()"
   ]
  },
  {
   "cell_type": "markdown",
   "id": "780590d8",
   "metadata": {},
   "source": [
    "#### Вывод"
   ]
  },
  {
   "cell_type": "markdown",
   "id": "02c99d7d",
   "metadata": {},
   "source": [
    "\n",
    "* Загрузили необходимые библиотеки и три датасета:\n",
    "   * Данные о клиентах\n",
    "   * Записи о движениях\n",
    "   * Детали о тарифах\n",
    "* Распределение возраста клиентов соответствует нормальному распределению, с медианным возрастом около 25 лет.\n",
    "* Возраст клиентов колеблется в диапазоне от 12 до 43 лет.\n",
    "* Анализ включает в себя данные клиентов только из 8 городов:\n",
    "  * Пятигорск, Екатеринбург, Ростов-на-Дону, Краснодар, Сочи, Омск, Тюмень и Москва.\n",
    "* Пятигорск выделяется наибольшим числом клиентов, в то время как Москва — наименьшим.\n",
    "* Однако, если смотреть в процентном соотношении, распределение клиентов по городам держится в пределах 11-14%.\n",
    "* Большая часть клиентов предпочитает не приобретать платные тарифы.\n",
    "* Максимальное число движений, зарегистрированное для одного клиента, равно 27.\n",
    "* Самое длинное общее время движения не обязательно соответствует наибольшему общему расстоянию.\n",
    "* Распределение движений по месяцам показывает примерно одинаковую активность, но январь является пиковым месяцем, а февраль — наименее загруженным."
   ]
  },
  {
   "cell_type": "markdown",
   "id": "e95ebca7",
   "metadata": {},
   "source": [
    "## Шаг 2. Предобработка данных"
   ]
  },
  {
   "cell_type": "markdown",
   "id": "0715f2a3",
   "metadata": {},
   "source": [
    "##### Проверим пропуски в данных и заполним по необходимости"
   ]
  },
  {
   "cell_type": "code",
   "execution_count": 21,
   "id": "af6d202c",
   "metadata": {},
   "outputs": [
    {
     "name": "stdout",
     "output_type": "stream",
     "text": [
      "Пропусков в таблице с пользователями: 0\n",
      "Пропусков в таблице с поездками: 0\n"
     ]
    }
   ],
   "source": [
    "print('Пропусков в таблице с пользователями:' ,data_users.isna().sum().sum())\n",
    "print('Пропусков в таблице с поездками:' ,data_riders.isna().sum().sum())"
   ]
  },
  {
   "cell_type": "markdown",
   "id": "b2119b88",
   "metadata": {},
   "source": [
    "##### Проверим дубликаты в данных и удалим по необходимости"
   ]
  },
  {
   "cell_type": "code",
   "execution_count": 22,
   "id": "f656b28c",
   "metadata": {},
   "outputs": [
    {
     "name": "stdout",
     "output_type": "stream",
     "text": [
      "Кол-во явных дубликатов: 31\n"
     ]
    }
   ],
   "source": [
    "print(\"Кол-во явных дубликатов:\",data_users.duplicated().sum())"
   ]
  },
  {
   "cell_type": "code",
   "execution_count": 23,
   "id": "b6546587",
   "metadata": {},
   "outputs": [
    {
     "data": {
      "text/plain": [
       "0"
      ]
     },
     "execution_count": 23,
     "metadata": {},
     "output_type": "execute_result"
    }
   ],
   "source": [
    "data_users.drop_duplicates(inplace=True)\n",
    "data_users.duplicated().sum()"
   ]
  },
  {
   "cell_type": "markdown",
   "id": "6d8b2c53",
   "metadata": {},
   "source": [
    "##### Изменим формат данных в столбце `date` и добавим новый столбец с месяцем."
   ]
  },
  {
   "cell_type": "code",
   "execution_count": 24,
   "id": "eed4d510",
   "metadata": {},
   "outputs": [
    {
     "data": {
      "text/plain": [
       "0     1\n",
       "1     1\n",
       "2     4\n",
       "3     8\n",
       "4     8\n",
       "5    10\n",
       "6    10\n",
       "7    11\n",
       "8    11\n",
       "9    11\n",
       "Name: month, dtype: int64"
      ]
     },
     "execution_count": 24,
     "metadata": {},
     "output_type": "execute_result"
    }
   ],
   "source": [
    "data_riders['date'] = pd.to_datetime(data_riders['date'], format = '%Y-%m-%d')\n",
    "data_riders['month'] = data_riders['date'].dt.month\n",
    "data_riders['month'].head(10)"
   ]
  },
  {
   "cell_type": "markdown",
   "id": "2abada32",
   "metadata": {},
   "source": [
    "##### Вывод"
   ]
  },
  {
   "cell_type": "markdown",
   "id": "57bfbfc3",
   "metadata": {},
   "source": [
    "\n",
    "* В таблицах отсутствуют пропущенные значения.\n",
    "\n",
    "* У пользователей обнаружены повторы, которые были удалены.\n",
    "\n",
    "* Отформатировали дату правильным образом и внесли дополнительный столбец month, показывающий номер месяца."
   ]
  },
  {
   "cell_type": "markdown",
   "id": "212593c7",
   "metadata": {},
   "source": [
    "## Шаг 3. Исследовательский анализ данных"
   ]
  },
  {
   "cell_type": "markdown",
   "id": "a0fb496e",
   "metadata": {},
   "source": [
    "На Шагу 1 я уже составлял некоторые нужные графики и обращал внимание на максимальные и минимальные значения.\\\n",
    "Тем не менее, повторим необходимые действия."
   ]
  },
  {
   "cell_type": "markdown",
   "id": "4ed352f2",
   "metadata": {},
   "source": [
    "##### Частота встречаемости городов"
   ]
  },
  {
   "cell_type": "code",
   "execution_count": 25,
   "id": "e3a4274c",
   "metadata": {},
   "outputs": [
    {
     "name": "stdout",
     "output_type": "stream",
     "text": [
      "Пятигорск         219\n",
      "Екатеринбург      204\n",
      "Ростов-на-Дону    198\n",
      "Краснодар         193\n",
      "Сочи              189\n",
      "Омск              183\n",
      "Тюмень            180\n",
      "Москва            168\n",
      "Name: city, dtype: int64\n"
     ]
    }
   ],
   "source": [
    "print(data_users['city'].value_counts())"
   ]
  },
  {
   "cell_type": "code",
   "execution_count": 26,
   "id": "5f512089",
   "metadata": {},
   "outputs": [
    {
     "data": {
      "text/plain": [
       "<AxesSubplot:title={'center':'Распределение пользователей по городам'}, ylabel='city'>"
      ]
     },
     "execution_count": 26,
     "metadata": {},
     "output_type": "execute_result"
    },
    {
     "data": {
      "image/png": "[encoded data removed]",
      "text/plain": [
       "<Figure size 576x576 with 1 Axes>"
      ]
     },
     "metadata": {},
     "output_type": "display_data"
    }
   ],
   "source": [
    "data_users['city'].value_counts().plot(\n",
    "    kind = 'pie', \n",
    "    y = data_users['city'].value_counts(),\n",
    "    autopct = '%1.0f%%',\n",
    "    figsize=(8,8), \n",
    "    title = 'Распределение пользователей по городам',\n",
    "    colors = ['skyblue', 'coral', 'lightgreen', 'yellow', 'purple', 'orange', 'pink'], # добавляем разноцветные секторы\n",
    "    wedgeprops=dict(width=0.3), # делаем диаграмму \"кольцевой\"\n",
    "    shadow=True, # добавляем тень для 3D-эффекта\n",
    "    startangle=140, # начинаем с определенного угла\n",
    "    explode=[0.1 for _ in data_users['city'].unique()] # отделяем каждый сектор для акцентирования внимания\n",
    ")"
   ]
  },
  {
   "cell_type": "code",
   "execution_count": 27,
   "id": "d3e7edec",
   "metadata": {},
   "outputs": [
    {
     "name": "stderr",
     "output_type": "stream",
     "text": [
      "/opt/conda/lib/python3.9/site-packages/seaborn/_decorators.py:36: FutureWarning: Pass the following variables as keyword args: x, y. From version 0.12, the only valid positional argument will be `data`, and passing other arguments without an explicit keyword will result in an error or misinterpretation.\n",
      "  warnings.warn(\n"
     ]
    },
    {
     "data": {
      "image/png": "[encoded data removed]",
      "text/plain": [
       "<Figure size 1080x576 with 1 Axes>"
      ]
     },
     "metadata": {},
     "output_type": "display_data"
    }
   ],
   "source": [
    "city_counts = data_users['city'].value_counts()\n",
    "\n",
    "plt.figure(figsize=(15,8))\n",
    "bars = sns.barplot(city_counts.index, city_counts.values, palette=\"viridis\")\n",
    "\n",
    "plt.title('Распределение пользователей по городам', fontsize=15)\n",
    "plt.ylabel('Количество пользователей', fontsize=12)\n",
    "plt.xlabel('Город', fontsize=12)\n",
    "plt.xticks(rotation=45) \n",
    "plt.grid(axis='y') \n",
    "\n",
    "for p in bars.patches:\n",
    "    bars.annotate(f'{int(p.get_height())}', \n",
    "                 (p.get_x() + p.get_width() / 2., p.get_height()),\n",
    "                 ha='center', va='center', \n",
    "                 fontsize=10, color='black',\n",
    "                 xytext=(0, 5), \n",
    "                 textcoords='offset points')\n",
    "\n",
    "plt.tight_layout()\n",
    "plt.show()\n"
   ]
  },
  {
   "cell_type": "markdown",
   "id": "9990a94f",
   "metadata": {},
   "source": [
    "##### Соотношение пользователей с подпиской и без подписки"
   ]
  },
  {
   "cell_type": "code",
   "execution_count": 28,
   "id": "61a11268",
   "metadata": {},
   "outputs": [
    {
     "name": "stdout",
     "output_type": "stream",
     "text": [
      "free     835\n",
      "ultra    699\n",
      "Name: subscription_type, dtype: int64\n"
     ]
    }
   ],
   "source": [
    "print(data_users['subscription_type'].value_counts())"
   ]
  },
  {
   "cell_type": "code",
   "execution_count": 29,
   "id": "b9b9f0e6",
   "metadata": {},
   "outputs": [
    {
     "data": {
      "text/plain": [
       "<AxesSubplot:title={'center':'Процентное соотношение пользователей в зависимости от тарифа'}, ylabel='subscription_type'>"
      ]
     },
     "execution_count": 29,
     "metadata": {},
     "output_type": "execute_result"
    },
    {
     "data": {
      "image/png": "[encoded data removed]",
      "text/plain": [
       "<Figure size 360x360 with 1 Axes>"
      ]
     },
     "metadata": {},
     "output_type": "display_data"
    }
   ],
   "source": [
    "colors = ['skyblue', 'coral', 'gold']  # Пример цветовой палитры\n",
    "explode = (0.1, 0)  # Для выделения определенного сектора (например, первого)\n",
    "\n",
    "data_users['subscription_type'].value_counts().plot(\n",
    "    kind='pie',\n",
    "    y=data_users['subscription_type'].value_counts(),\n",
    "    autopct='%1.0f%%',\n",
    "    figsize=(5, 5),\n",
    "    title='Процентное соотношение пользователей в зависимости от тарифа',\n",
    "    colors=colors,\n",
    "    startangle=140, \n",
    "    explode=explode,\n",
    "    legend=True\n",
    ")"
   ]
  },
  {
   "cell_type": "markdown",
   "id": "0a9816f8",
   "metadata": {},
   "source": [
    "##### Возраст пользователей"
   ]
  },
  {
   "cell_type": "code",
   "execution_count": 30,
   "id": "6543ce24",
   "metadata": {},
   "outputs": [
    {
     "name": "stdout",
     "output_type": "stream",
     "text": [
      "Самые младшие пользователи:\n",
      "664    12\n",
      "66     12\n",
      "727    12\n",
      "34     12\n",
      "235    13\n",
      "Name: age, dtype: int64\n",
      "Самые старшие пользователи:\n",
      "1201    43\n",
      "961     39\n",
      "804     38\n",
      "453     38\n",
      "383     38\n",
      "Name: age, dtype: int64\n"
     ]
    }
   ],
   "source": [
    "print('Самые младшие пользователи:')\n",
    "print(data_users['age'].sort_values().head(5))\n",
    "print('Самые старшие пользователи:')\n",
    "print(data_users['age'].sort_values(ascending=False).head(5))"
   ]
  },
  {
   "cell_type": "code",
   "execution_count": 31,
   "id": "e09e1243",
   "metadata": {},
   "outputs": [
    {
     "data": {
      "image/png": "[encoded data removed]",
      "text/plain": [
       "<Figure size 432x288 with 1 Axes>"
      ]
     },
     "metadata": {},
     "output_type": "display_data"
    }
   ],
   "source": [
    "plt.style.use('seaborn-darkgrid')  # выбор стиля\n",
    "palette = plt.get_cmap('Set2')  # выбор цветовой палитры\n",
    "\n",
    "plt.hist(data_users['age'], bins=15, color=palette(5), edgecolor=\"k\", alpha=0.7)  # добавляем цвет и границы бинов\n",
    "plt.title('Возраст пользователей')\n",
    "plt.xlabel('Возраст')\n",
    "plt.ylabel('Количество пользователей')\n",
    "plt.grid(axis='y')  # сетка только по вертикали\n",
    "plt.tight_layout()  # автоматическая настройка размера и расположения элементов на фигуре\n",
    "\n",
    "plt.show()"
   ]
  },
  {
   "cell_type": "markdown",
   "id": "d58ffb8b",
   "metadata": {},
   "source": [
    "##### Расстояние, которое пользователь преодолел за одну поездку"
   ]
  },
  {
   "cell_type": "code",
   "execution_count": 32,
   "id": "2f92be6f",
   "metadata": {},
   "outputs": [
    {
     "name": "stdout",
     "output_type": "stream",
     "text": [
      "Самые короткие дистанции за одну поездку:\n",
      "11555   0.86\n",
      "9541    2.57\n",
      "13690   4.33\n",
      "8658    6.78\n",
      "7841    7.10\n",
      "Name: distance, dtype: float64\n",
      "Самые длинные дистанции за одну поездку:\n",
      "16309   7,211.01\n",
      "16484   7,066.00\n",
      "15580   6,908.49\n",
      "17171   6,760.94\n",
      "17242   6,724.93\n",
      "Name: distance, dtype: float64\n"
     ]
    }
   ],
   "source": [
    "print(\"Самые короткие дистанции за одну поездку:\")\n",
    "print(data_riders['distance'].sort_values().head(5))\n",
    "print(\"Самые длинные дистанции за одну поездку:\")\n",
    "print(data_riders['distance'].sort_values(ascending=False).head(5))"
   ]
  },
  {
   "cell_type": "code",
   "execution_count": 33,
   "id": "fe1b42fc",
   "metadata": {},
   "outputs": [
    {
     "data": {
      "image/png": "[encoded data removed]",
      "text/plain": [
       "<Figure size 432x288 with 1 Axes>"
      ]
     },
     "metadata": {},
     "output_type": "display_data"
    }
   ],
   "source": [
    "sns.set_style(\"whitegrid\")  # Установить стиль \"whitegrid\" для улучшенной визуализации данных\n",
    "\n",
    "sns.boxplot(x=data_riders['distance'], color='green')  # Изменим цвет на зеленый\n",
    "plt.title('Расстояние, преодоленное за одну поездку')\n",
    "plt.xlabel('Расстояние, м')\n",
    "_ = plt.xlim(0, 8000)"
   ]
  },
  {
   "cell_type": "markdown",
   "id": "cf7a9d10",
   "metadata": {},
   "source": [
    "##### Продолжительность поездок"
   ]
  },
  {
   "cell_type": "code",
   "execution_count": 34,
   "id": "786263b1",
   "metadata": {},
   "outputs": [
    {
     "name": "stdout",
     "output_type": "stream",
     "text": [
      "Самые короткие поездки:\n",
      "12013   0.50\n",
      "17314   0.50\n",
      "15029   0.50\n",
      "7437    0.50\n",
      "12967   0.50\n",
      "Name: duration, dtype: float64\n",
      "Самые долгие поездки:\n",
      "4215   40.82\n",
      "4709   39.87\n",
      "2623   39.53\n",
      "1998   38.35\n",
      "6453   38.27\n",
      "Name: duration, dtype: float64\n"
     ]
    }
   ],
   "source": [
    "print(\"Самые короткие поездки:\")\n",
    "print(data_riders['duration'].sort_values().head(5))\n",
    "print(\"Самые долгие поездки:\")\n",
    "print(data_riders['duration'].sort_values(ascending=False).head(5))"
   ]
  },
  {
   "cell_type": "code",
   "execution_count": 35,
   "id": "b93b4b50",
   "metadata": {},
   "outputs": [
    {
     "data": {
      "image/png": "[encoded data removed]",
      "text/plain": [
       "<Figure size 432x288 with 1 Axes>"
      ]
     },
     "metadata": {},
     "output_type": "display_data"
    }
   ],
   "source": [
    "sns.set_style(\"ticks\")  # Установим стиль \"ticks\" для лучшей визуализации данных\n",
    "\n",
    "sns.boxplot(x = data_riders['duration'], color='purple')  # Изменим цвет на фиолетовый\n",
    "plt.title('Время, проведенное в поездке')\n",
    "plt.xlabel('Время, минуты')\n",
    "plt.grid(axis='x', linestyle='--', alpha=0.7)  # Добавим горизонтальную сетку для лучшей читаемости данных\n",
    "_ = plt.xlim(0, 50)"
   ]
  },
  {
   "cell_type": "markdown",
   "id": "8fc983a8",
   "metadata": {},
   "source": [
    "* Распределение пользователей по городам\n",
    "\n",
    "  * Количество пользователей в разных городах практически одинаково, без явных выбросов. В Пятигорске насчитывается наибольшее число пользователей - 219, в то время как в Москве их всего 168.\n",
    "  * Это может быть связано с размером Пятигорска, который намного меньше Москвы, делая самокаты более удобным средством передвижения в небольшом городе.\n",
    "* Подписки пользователей\n",
    "\n",
    "  * Большая часть пользователей, а именно 835 человек (примерно 54% от общего числа), предпочитают бесплатную подписку.\n",
    "  * Оставшиеся 699 пользователей (приблизительно 46%) используют платную подписку.\n",
    "* Демография пользователей\n",
    "\n",
    "  * Наиболее молодыми пользователями являются те, кто в возрасте 12-13 лет.\n",
    "  * Наиболее возрастной категорией являются люди в возрасте 39-43 лет.\n",
    "  * Большая часть пользователей находится в возрастном диапазоне от 20 до 30 лет.\n",
    "* Дистанция одной поездки\n",
    "\n",
    "Наименьшее пройденное расстояние составляет 0.86 км.\n",
    "Наибольшая пройденная дистанция равна 7.2 км.\n",
    "В среднем, пользователи проезжают расстояние между 2.5 и 4 км.\n",
    "* Длительность проката\n",
    "\n",
    "  * Существуют очень короткие поездки в полминуты. Возможные причины: изменение решения или проблемы с самокатом.\n",
    "  * Рекордная поездка длилась 40 минут.\n",
    "  * Большинство поездок занимают от 13 до 22 минут."
   ]
  },
  {
   "cell_type": "markdown",
   "id": "4ef51331",
   "metadata": {},
   "source": [
    "## Шаг 4. Объединение данных"
   ]
  },
  {
   "cell_type": "markdown",
   "id": "c3fb007b",
   "metadata": {},
   "source": [
    "#### Объединим данные о пользователях, поездках и подписках в один датафрейм."
   ]
  },
  {
   "cell_type": "code",
   "execution_count": 36,
   "id": "6bf288b5",
   "metadata": {},
   "outputs": [
    {
     "name": "stdout",
     "output_type": "stream",
     "text": [
      "       user_id       name  age            city subscription_type  distance  \\\n",
      "14585     1286       Кира   21          Москва              free  4,878.42   \n",
      "1732       187     Михаил   28       Пятигорск             ultra    949.96   \n",
      "15451     1351      Захар   22  Ростов-на-Дону              free  2,613.19   \n",
      "4051       436   Вероника   31            Омск             ultra  3,427.71   \n",
      "1108       119      Макар   18    Екатеринбург             ultra  3,090.93   \n",
      "7968       807  Александр   28    Екатеринбург              free  4,555.89   \n",
      "6807       721     Андрей   27       Пятигорск              free  3,586.16   \n",
      "15730     1372  Святослав   28       Краснодар              free  1,552.70   \n",
      "10404      985    Эльмира   25    Екатеринбург              free  1,045.19   \n",
      "11395     1057      Адель   26          Москва              free  3,363.09   \n",
      "\n",
      "       duration       date  month  minute_price  start_ride_price  \\\n",
      "14585     18.73 2021-05-22      5             8                50   \n",
      "1732      14.37 2021-07-24      7             6                 0   \n",
      "15451     15.45 2021-12-20     12             8                50   \n",
      "4051      20.57 2021-06-26      6             6                 0   \n",
      "1108      16.27 2021-02-05      2             6                 0   \n",
      "7968      18.19 2021-09-18      9             8                50   \n",
      "6807      16.66 2021-03-05      3             8                50   \n",
      "15730     19.82 2021-02-16      2             8                50   \n",
      "10404     15.14 2021-09-09      9             8                50   \n",
      "11395     19.61 2021-12-22     12             8                50   \n",
      "\n",
      "       subscription_fee  \n",
      "14585                 0  \n",
      "1732                199  \n",
      "15451                 0  \n",
      "4051                199  \n",
      "1108                199  \n",
      "7968                  0  \n",
      "6807                  0  \n",
      "15730                 0  \n",
      "10404                 0  \n",
      "11395                 0  \n"
     ]
    }
   ],
   "source": [
    "full_data = data_users.merge(data_riders)\n",
    "full_data = full_data.merge(data_sub)\n",
    "print(full_data.sample(10))"
   ]
  },
  {
   "cell_type": "code",
   "execution_count": 37,
   "id": "eb2850da",
   "metadata": {},
   "outputs": [
    {
     "name": "stdout",
     "output_type": "stream",
     "text": [
      "Размер данных с пользователями: (1534, 5)\n",
      "Размер данных с поездками: (18068, 5)\n",
      "Размер данных с подписками: (2, 4)\n",
      "Размер полных данных: (18068, 12)\n"
     ]
    }
   ],
   "source": [
    "print('Размер данных с пользователями:',data_users.shape)\n",
    "print('Размер данных с поездками:',data_riders.shape)\n",
    "print('Размер данных с подписками:',data_sub.shape)\n",
    "print('Размер полных данных:',full_data.shape)"
   ]
  },
  {
   "cell_type": "code",
   "execution_count": 38,
   "id": "ad3f956f",
   "metadata": {},
   "outputs": [
    {
     "name": "stdout",
     "output_type": "stream",
     "text": [
      "<class 'pandas.core.frame.DataFrame'>\n",
      "Int64Index: 18068 entries, 0 to 18067\n",
      "Data columns (total 12 columns):\n",
      " #   Column             Non-Null Count  Dtype         \n",
      "---  ------             --------------  -----         \n",
      " 0   user_id            18068 non-null  int64         \n",
      " 1   name               18068 non-null  object        \n",
      " 2   age                18068 non-null  int64         \n",
      " 3   city               18068 non-null  object        \n",
      " 4   subscription_type  18068 non-null  object        \n",
      " 5   distance           18068 non-null  float64       \n",
      " 6   duration           18068 non-null  float64       \n",
      " 7   date               18068 non-null  datetime64[ns]\n",
      " 8   month              18068 non-null  int64         \n",
      " 9   minute_price       18068 non-null  int64         \n",
      " 10  start_ride_price   18068 non-null  int64         \n",
      " 11  subscription_fee   18068 non-null  int64         \n",
      "dtypes: datetime64[ns](1), float64(2), int64(6), object(3)\n",
      "memory usage: 1.8+ MB\n"
     ]
    }
   ],
   "source": [
    "full_data.info()"
   ]
  },
  {
   "cell_type": "markdown",
   "id": "4a33af62",
   "metadata": {},
   "source": [
    "#### Создадим ещё два датафрейма из полного датафрейма:\n",
    "* c данными о пользователях без подписки;\n",
    "* с данными о пользователях с подпиской."
   ]
  },
  {
   "cell_type": "code",
   "execution_count": 39,
   "id": "562000fb",
   "metadata": {},
   "outputs": [],
   "source": [
    "free_sub = full_data.query(\"`subscription_type` == 'free'\")\n",
    "ultra_sub = full_data.query(\"`subscription_type` == 'ultra'\")"
   ]
  },
  {
   "cell_type": "markdown",
   "id": "b1add258",
   "metadata": {},
   "source": [
    "##### Визуализируем информацию о расстоянии на бесплатном тарифе"
   ]
  },
  {
   "cell_type": "code",
   "execution_count": 40,
   "id": "2167a4aa",
   "metadata": {},
   "outputs": [
    {
     "data": {
      "image/png": "[encoded data removed]",
      "text/plain": [
       "<Figure size 720x720 with 1 Axes>"
      ]
     },
     "metadata": {},
     "output_type": "display_data"
    }
   ],
   "source": [
    "# Установка стиля графика\n",
    "plt.style.use('ggplot')\n",
    "\n",
    "# Установка размера графика\n",
    "plt.figure(figsize=(10,10))\n",
    "\n",
    "# Создание гистограммы с измененным цветом\n",
    "plt.hist(free_sub['distance'], bins=40, range=(0, 7000), color='skyblue', edgecolor='black')\n",
    "\n",
    "# Заголовок и метки осей\n",
    "plt.title('Расстояние, бесплатный тариф', fontsize=18)\n",
    "plt.xlabel('Расстояние, м', fontsize=16)\n",
    "plt.ylabel('Количество поездок', fontsize=16)\n",
    "\n",
    "# Добавление сетки на график\n",
    "plt.grid(axis='y', linestyle='--', linewidth=0.7, alpha=0.7)\n",
    "\n",
    "# Отображение графика\n",
    "plt.show()"
   ]
  },
  {
   "cell_type": "markdown",
   "id": "2701bcc1",
   "metadata": {},
   "source": [
    "##### Визуализируем информацию о расстоянии на платном тарифе"
   ]
  },
  {
   "cell_type": "code",
   "execution_count": 41,
   "id": "17981f22",
   "metadata": {},
   "outputs": [
    {
     "data": {
      "image/png": "[encoded data removed]",
      "text/plain": [
       "<Figure size 720x720 with 1 Axes>"
      ]
     },
     "metadata": {},
     "output_type": "display_data"
    }
   ],
   "source": [
    "# Установка стиля графика\n",
    "plt.style.use('ggplot')\n",
    "\n",
    "# Установка размера графика\n",
    "plt.figure(figsize=(10,10))\n",
    "\n",
    "# Создание гистограммы с измененным цветом\n",
    "plt.hist(ultra_sub['distance'], bins=40, range=(0, 7000), color='skyblue', edgecolor='black')\n",
    "\n",
    "# Заголовок и метки осей\n",
    "plt.title('Расстояние, бесплатный тариф', fontsize=18)\n",
    "plt.xlabel('Расстояние, м', fontsize=16)\n",
    "plt.ylabel('Количество поездок', fontsize=16)\n",
    "\n",
    "# Добавление сетки на график\n",
    "plt.grid(axis='y', linestyle='--', linewidth=0.7, alpha=0.7)\n",
    "\n",
    "# Отображение графика\n",
    "plt.show()"
   ]
  },
  {
   "cell_type": "markdown",
   "id": "44e5abfa",
   "metadata": {},
   "source": [
    "##### Визуализируем информацию о времени на бесплатном тарифе"
   ]
  },
  {
   "cell_type": "code",
   "execution_count": 42,
   "id": "1e56fe31",
   "metadata": {},
   "outputs": [
    {
     "data": {
      "image/png": "[encoded data removed]",
      "text/plain": [
       "<Figure size 720x720 with 1 Axes>"
      ]
     },
     "metadata": {},
     "output_type": "display_data"
    }
   ],
   "source": [
    "plt.figure(figsize=(10,10))\n",
    "plt.hist(free_sub['duration'], bins=30, range = (0, 35), color='darkcyan', edgecolor='white', alpha=0.7)\n",
    "plt.title('Время, бесплатный тариф', fontsize=18)\n",
    "plt.xlabel('Время поездки, минуты', fontsize=16)\n",
    "plt.ylabel('Количество поездок', fontsize=16)\n",
    "plt.grid(axis='y', linestyle='--', alpha=0.7)\n",
    "plt.show()"
   ]
  },
  {
   "cell_type": "markdown",
   "id": "bc5824d7",
   "metadata": {},
   "source": [
    "##### Визуализируем информацию о времени на платном тарифе"
   ]
  },
  {
   "cell_type": "code",
   "execution_count": 43,
   "id": "253e9569",
   "metadata": {},
   "outputs": [
    {
     "data": {
      "image/png": "[encoded data removed]",
      "text/plain": [
       "<Figure size 720x720 with 1 Axes>"
      ]
     },
     "metadata": {},
     "output_type": "display_data"
    }
   ],
   "source": [
    "plt.figure(figsize=(10,10))\n",
    "plt.hist(ultra_sub['duration'], bins=30, range = (0, 35), color='darkcyan', edgecolor='white', alpha=0.7)\n",
    "plt.title('Время, бесплатный тариф', fontsize=18)\n",
    "plt.xlabel('Время поездки, минуты', fontsize=16)\n",
    "plt.ylabel('Количество поездок', fontsize=16)\n",
    "plt.grid(axis='y', linestyle='--', alpha=0.7)\n",
    "plt.show()"
   ]
  },
  {
   "cell_type": "markdown",
   "id": "66bfcbc3",
   "metadata": {},
   "source": [
    "#### Вывод\n",
    "\n",
    "* Мы объединили данные о пользователях, их поездках и тарифах в одном датафрейме, который мы назвали full_data. Затем мы разделили этот датафрейм на два: free_sub, который содержит информацию о пользователях с бесплатным тарифом, и ultra_sub, где находится информация о пользователях с платным тарифом.\n",
    "\n",
    "* Далее мы визуализировали информацию о длительности поездок и пройденном расстоянии для каждого из тарифов. Для бесплатного тарифа средняя длительность поездки составляет от 10 до 30 минут, и пользователи проезжают от 2 до 5 километров, хотя некоторые из них даже доезжают до 6 или 6,5 километров.\n",
    "\n",
    "* Что касается платного тарифа, то большинство пользователей укладываются в интервал от 15 до 25 минут для длительности поездки, и наибольшее количество поездок происходит на расстояние в 3 километра.\n",
    "\n",
    "* В итоге можно сделать вывод, что пользователи с бесплатным тарифом, в среднем, совершают более длительные поездки и проезжают большее расстояние по сравнению с пользователями, выбравшими платный тариф."
   ]
  },
  {
   "cell_type": "markdown",
   "id": "402d620f",
   "metadata": {},
   "source": [
    "## Шаг 5. Подсчёт выручки"
   ]
  },
  {
   "cell_type": "markdown",
   "id": "7ff721f7",
   "metadata": {},
   "source": [
    "#### Найдем суммарное расстояние, количество поeздок и суммарное время для каждого пользователя за каждый месяц\n",
    "\n"
   ]
  },
  {
   "cell_type": "code",
   "execution_count": 44,
   "id": "53049e0a",
   "metadata": {},
   "outputs": [
    {
     "data": {
      "text/html": [
       "<div>\n",
       "<style scoped>\n",
       "    .dataframe tbody tr th:only-of-type {\n",
       "        vertical-align: middle;\n",
       "    }\n",
       "\n",
       "    .dataframe tbody tr th {\n",
       "        vertical-align: top;\n",
       "    }\n",
       "\n",
       "    .dataframe thead th {\n",
       "        text-align: right;\n",
       "    }\n",
       "</style>\n",
       "<table border=\"1\" class=\"dataframe\">\n",
       "  <thead>\n",
       "    <tr style=\"text-align: right;\">\n",
       "      <th></th>\n",
       "      <th></th>\n",
       "      <th>distance</th>\n",
       "      <th>duration</th>\n",
       "      <th>count_tips</th>\n",
       "      <th>subscription_type</th>\n",
       "    </tr>\n",
       "    <tr>\n",
       "      <th>month</th>\n",
       "      <th>user_id</th>\n",
       "      <th></th>\n",
       "      <th></th>\n",
       "      <th></th>\n",
       "      <th></th>\n",
       "    </tr>\n",
       "  </thead>\n",
       "  <tbody>\n",
       "    <tr>\n",
       "      <th>1</th>\n",
       "      <th>954</th>\n",
       "      <td>6,394.25</td>\n",
       "      <td>38.00</td>\n",
       "      <td>2</td>\n",
       "      <td>free</td>\n",
       "    </tr>\n",
       "    <tr>\n",
       "      <th>3</th>\n",
       "      <th>1299</th>\n",
       "      <td>3,422.15</td>\n",
       "      <td>18.00</td>\n",
       "      <td>1</td>\n",
       "      <td>free</td>\n",
       "    </tr>\n",
       "    <tr>\n",
       "      <th>8</th>\n",
       "      <th>727</th>\n",
       "      <td>2,610.76</td>\n",
       "      <td>14.00</td>\n",
       "      <td>1</td>\n",
       "      <td>free</td>\n",
       "    </tr>\n",
       "    <tr>\n",
       "      <th>10</th>\n",
       "      <th>1177</th>\n",
       "      <td>7,694.04</td>\n",
       "      <td>47.00</td>\n",
       "      <td>3</td>\n",
       "      <td>free</td>\n",
       "    </tr>\n",
       "    <tr>\n",
       "      <th>6</th>\n",
       "      <th>846</th>\n",
       "      <td>10,495.07</td>\n",
       "      <td>68.00</td>\n",
       "      <td>3</td>\n",
       "      <td>free</td>\n",
       "    </tr>\n",
       "    <tr>\n",
       "      <th>10</th>\n",
       "      <th>698</th>\n",
       "      <td>2,746.10</td>\n",
       "      <td>14.00</td>\n",
       "      <td>1</td>\n",
       "      <td>ultra</td>\n",
       "    </tr>\n",
       "    <tr>\n",
       "      <th>8</th>\n",
       "      <th>1079</th>\n",
       "      <td>4,024.16</td>\n",
       "      <td>25.00</td>\n",
       "      <td>1</td>\n",
       "      <td>free</td>\n",
       "    </tr>\n",
       "    <tr>\n",
       "      <th>3</th>\n",
       "      <th>548</th>\n",
       "      <td>3,126.55</td>\n",
       "      <td>22.00</td>\n",
       "      <td>1</td>\n",
       "      <td>ultra</td>\n",
       "    </tr>\n",
       "    <tr>\n",
       "      <th>12</th>\n",
       "      <th>1053</th>\n",
       "      <td>3,328.38</td>\n",
       "      <td>15.00</td>\n",
       "      <td>1</td>\n",
       "      <td>free</td>\n",
       "    </tr>\n",
       "    <tr>\n",
       "      <th>10</th>\n",
       "      <th>104</th>\n",
       "      <td>3,185.85</td>\n",
       "      <td>20.00</td>\n",
       "      <td>1</td>\n",
       "      <td>ultra</td>\n",
       "    </tr>\n",
       "  </tbody>\n",
       "</table>\n",
       "</div>"
      ],
      "text/plain": [
       "               distance  duration  count_tips subscription_type\n",
       "month user_id                                                  \n",
       "1     954      6,394.25     38.00           2              free\n",
       "3     1299     3,422.15     18.00           1              free\n",
       "8     727      2,610.76     14.00           1              free\n",
       "10    1177     7,694.04     47.00           3              free\n",
       "6     846     10,495.07     68.00           3              free\n",
       "10    698      2,746.10     14.00           1             ultra\n",
       "8     1079     4,024.16     25.00           1              free\n",
       "3     548      3,126.55     22.00           1             ultra\n",
       "12    1053     3,328.38     15.00           1              free\n",
       "10    104      3,185.85     20.00           1             ultra"
      ]
     },
     "execution_count": 44,
     "metadata": {},
     "output_type": "execute_result"
    }
   ],
   "source": [
    "total_data = pd.pivot_table(full_data, index=['month', 'user_id'], values = ['distance', 'duration', 'name', 'subscription_type'],\n",
    "                           aggfunc = {'distance': sum, \n",
    "                                      'duration' : sum, \n",
    "                                      'name' : len, \n",
    "                                      'subscription_type' : min})\n",
    "total_data.rename(columns = {'name' : 'count_tips'}, inplace = True)\n",
    "total_data['duration'] = np.ceil(total_data['duration'])\n",
    "total_data.sort_values(by='month').sample(10)"
   ]
  },
  {
   "cell_type": "markdown",
   "id": "184924c4",
   "metadata": {},
   "source": [
    "#### Добавим столбец с помесячной выручкой"
   ]
  },
  {
   "cell_type": "code",
   "execution_count": 45,
   "id": "e769ba40",
   "metadata": {},
   "outputs": [
    {
     "data": {
      "text/plain": [
       "month  user_id\n",
       "7      786       428.00\n",
       "8      346       289.00\n",
       "4      703       252.00\n",
       "10     733       266.00\n",
       "1      954       404.00\n",
       "4      225       361.00\n",
       "8      1352      478.00\n",
       "3      315       307.00\n",
       "8      1384      380.00\n",
       "5      1185      428.00\n",
       "Name: revenue_per_month, dtype: float64"
      ]
     },
     "execution_count": 45,
     "metadata": {},
     "output_type": "execute_result"
    }
   ],
   "source": [
    "def sub_type(row):\n",
    "    if row['subscription_type'] == 'ultra':\n",
    "        return 6 * row['duration'] + 199\n",
    "    elif row['subscription_type'] == 'free':\n",
    "        return 8 * row['duration'] + 50 * row['count_tips']\n",
    "    else:\n",
    "        return 'Not such sub'\n",
    "total_data['revenue_per_month'] = total_data.apply(sub_type, axis=1)\n",
    "total_data['revenue_per_month'].sample(10)"
   ]
  },
  {
   "cell_type": "markdown",
   "id": "6512863d",
   "metadata": {},
   "source": [
    "#### Вывод\n",
    "\n",
    "\n",
    "* Мы создали новый набор данных, который мы называем \"total_data\". Этот набор данных был создан на основе другого набора данных, который мы объединили и назвали \"full_data\".\n",
    "\n",
    "* Затем мы выполнили следующие операции:\n",
    "\n",
    "* Для каждого пользователя и каждого месяца мы вычислили общее расстояние, количество совершенных поездок и общее время, проведенное в путешествиях.\n",
    "\n",
    "* Мы также добавили новый столбец, в котором рассчитали ежемесячный доход для каждого пользователя, учитывая их тариф и информацию о поездках.\n",
    "\n",
    "* В итоге, теперь в наборе данных \"total_data\" содержится собранная информация о каждом пользователе за каждый месяц, включая данные о суммарном расстоянии, количестве поездок, общем времени и выручке за данный месяц."
   ]
  },
  {
   "cell_type": "markdown",
   "id": "41545ac0",
   "metadata": {},
   "source": [
    "## Шаг 6. Проверка гипотез"
   ]
  },
  {
   "cell_type": "markdown",
   "id": "d65b6ff3",
   "metadata": {},
   "source": [
    "### 6.1 **Важно понять, тратят ли пользователи с подпиской больше времени на поездки?**\n",
    "\n",
    "Если да, то пользователи с подпиской могут быть «выгоднее» для компании. Проверьте гипотезу. Используйте исходные данные о продолжительности каждой сессии — отдельно для подписчиков и тех, у кого нет подписки.\n",
    "\n",
    "Проверим гипотезу: **пользователи с подпиской тратят больше времени на поездки, чем пользователи на бесплатном тарифе.**\n",
    "\n",
    "H_0: Время (`duration`) пользователей на подписке *ultra* = время (`duration`) пользователей на подписке *free*\n",
    "\n",
    "H_1: Время (`duration`) пользователей на подписке *ultra* > время (`duration`) пользователей на подписке *free*\n",
    "\n",
    "*alpha* = 0.05"
   ]
  },
  {
   "cell_type": "code",
   "execution_count": 46,
   "id": "23ea867b",
   "metadata": {},
   "outputs": [
    {
     "name": "stdout",
     "output_type": "stream",
     "text": [
      "p-значение: 0.00000000000000000000000000000000013\n",
      "Отвергаем нулевую гипотезу: средняя продолжительность поездок по тарифу ultra действительно больше.\n"
     ]
    }
   ],
   "source": [
    "# Исходные данные: продолжительность поездок для разных тарифов\n",
    "ultra = ultra_sub['duration'] \n",
    "free = free_sub['duration']\n",
    "\n",
    "# Тестирование гипотезы\n",
    "# H0: средняя продолжительность поездок по тарифу ultra не превосходит среднюю продолжительность по тарифу free.\n",
    "# H1: средняя продолжительность поездок по тарифу ultra больше, чем по тарифу free.\n",
    "\n",
    "results = st.ttest_ind(ultra, free, alternative='greater')\n",
    "\n",
    "# Уровень значимости\n",
    "alpha = .05\n",
    "\n",
    "# Вывод результатов\n",
    "print(f\"p-значение: {results.pvalue:.35f}\")\n",
    "if results.pvalue < alpha:\n",
    "    print('Отвергаем нулевую гипотезу: средняя продолжительность поездок по тарифу ultra действительно больше.')\n",
    "else:\n",
    "    print('Не удалось отвергнуть нулевую гипотезу.')"
   ]
  },
  {
   "cell_type": "code",
   "execution_count": 47,
   "id": "8409b5c2",
   "metadata": {},
   "outputs": [
    {
     "data": {
      "image/png": "[encoded data removed]",
      "text/plain": [
       "<Figure size 864x432 with 1 Axes>"
      ]
     },
     "metadata": {},
     "output_type": "display_data"
    }
   ],
   "source": [
    "# Установка размера графика\n",
    "plt.figure(figsize=(12, 6))\n",
    "\n",
    "# Создание barplot\n",
    "ax = sns.barplot(x='month', \n",
    "                 y='duration', \n",
    "                 hue='subscription_type', \n",
    "                 data=full_data, \n",
    "                 palette=['green', 'blue'])\n",
    "# Настройка заголовка и осей\n",
    "ax.set_title('Распределение продолжительности поездок по видам подписок и месяцам', fontsize=15)\n",
    "ax.set_xlabel('Номер месяца', fontsize=12)\n",
    "ax.set_ylabel('Продолжительность поездок', fontsize=12)\n",
    "ax.legend(title='Тип подписки')\n",
    "# Показать график\n",
    "plt.tight_layout()\n",
    "plt.show()"
   ]
  },
  {
   "cell_type": "markdown",
   "id": "49106258",
   "metadata": {},
   "source": [
    "#### **Вывод**\n",
    "\n",
    "Мы провели статистический анализ и проверили гипотезу о том, что время поездок пользователей на тарифе ultra равно времени поездок пользователей на тарифе free. В результате анализа было выявлено, что гипотезу о равенстве времени поездок для пользователей на разных тарифах (ultra и free) можно отвергнуть. Это означает, что существует статистически значимое различие во времени поездок между пользователями на этих двух тарифах."
   ]
  },
  {
   "cell_type": "markdown",
   "id": "d6852555",
   "metadata": {},
   "source": [
    "### 6.2 Расстояние одной поездки в 3130 метров — оптимальное с точки зрения износа самоката. Можно ли сказать, что расстояние, которое проезжают пользователи с подпиской за одну поездку, не превышает 3130 метров? Проверьте гипотезу и сделайте выводы.\n",
    "\n",
    "Проверим гипотезу: **пользователи с подпиской проезжают расстояние, не превышающее 3130 метров за одну поездку.**\n",
    "\n",
    "H_0: Расстояние (`distance`) пользователей на подписке *ultra* < 3130 метров\n",
    "\n",
    "H_1: Расстояние (`distance`) пользователей на подписке *ultra* > 3130 метров\n",
    "\n",
    "*alpha* = 0.05"
   ]
  },
  {
   "cell_type": "code",
   "execution_count": 48,
   "id": "600195ad",
   "metadata": {},
   "outputs": [
    {
     "name": "stdout",
     "output_type": "stream",
     "text": [
      "p-value: 0.9195368848\n",
      "Не удалось отвергнуть нулевую гипотезу: среднее значение не меньше указанного\n"
     ]
    }
   ],
   "source": [
    "interested_value = 3130.0\n",
    "u_distance = ultra_sub['distance']\n",
    "# Задаём уровень значимости\n",
    "alpha = .05\n",
    "\n",
    "# Выполняем одновыборочный t-тест для проверки гипотезы о среднем значении\n",
    "results = st.ttest_1samp(\n",
    "    u_distance, \n",
    "    interested_value,\n",
    "    alternative='greater')\n",
    "    \n",
    "# Выводим p-value\n",
    "print(f\"p-value: {results.pvalue:.10f}\")\n",
    "\n",
    "# Проверяем гипотезу на основе p-value и заданного уровня значимости\n",
    "if (results.pvalue < alpha):\n",
    "    print('Отвергаем нулевую гипотезу: среднее значение меньше указанного')\n",
    "else:\n",
    "    print('Не удалось отвергнуть нулевую гипотезу: среднее значение не меньше указанного')"
   ]
  },
  {
   "cell_type": "markdown",
   "id": "47e1b5f2",
   "metadata": {},
   "source": [
    "#### **Вывод**\n",
    "\n",
    "\n",
    "Мы провели статистический анализ и не смогли отвергнуть нулевую гипотезу о том, что расстояние, которое проехали пользователи на тарифе ultra, не превышает 3130 метров. Это означает, что наши данные не обеспечивают достаточно убедительных доказательств в пользу того, что пользователи тарифа ultra всегда не превышают указанное значение расстояния."
   ]
  },
  {
   "cell_type": "markdown",
   "id": "1be675e0",
   "metadata": {},
   "source": [
    "### 6.3 Проверьте гипотезу о том, будет ли помесячная выручка от пользователей с подпиской по месяцам выше, чем выручка от пользователей без подписки. Сделайте вывод.\n",
    "\n",
    "Проверим гипотезу: **помесячная выручка от пользователей с подпиской выше, чем выручка от пользователей без подписки.**\\\n",
    "H_0: Выручка (`revenue_per_month`) пользователей на подписке **ultra** = выручка (`revenue_per_month`) пользователей на подписке **free**\n",
    "\n",
    "H_1: Выручка (`revenue_per_month`) пользователей на подписке **ultra** > выручка (`revenue_per_month`) пользователей на подписке **free**\n",
    "\n",
    "*alpha* = 0.05"
   ]
  },
  {
   "cell_type": "code",
   "execution_count": 49,
   "id": "d09ad9c2",
   "metadata": {},
   "outputs": [
    {
     "name": "stdout",
     "output_type": "stream",
     "text": [
      "p-value 2.8130926188487286e-35\n",
      "Отвергаем нулевую гипотезу: средняя выручка по подписке \"ultra\" больше, чем по \"free\"\n"
     ]
    }
   ],
   "source": [
    "ultra_per_mnth = total_data.loc[total_data.subscription_type == 'ultra', 'revenue_per_month']\n",
    "free_per_mnth = total_data.loc[total_data.subscription_type == 'free', 'revenue_per_month']\n",
    "\n",
    "# Выполняем двухвыборочный t-тест для сравнения средних значений выручки между двумя группами\n",
    "results = st.ttest_ind(ultra_per_mnth, \n",
    "                       free_per_mnth,\n",
    "                       alternative='greater')\n",
    "\n",
    "# Задаём уровень значимости\n",
    "alpha = .05\n",
    "\n",
    "# Выводим p-value\n",
    "#print(f\"p-value: {results.pvalue:.40f}\")\n",
    "\n",
    "print('p-value', results.pvalue) #Код ревьюера\n",
    "\n",
    "# Проверяем гипотезу на основе p-value и заданного уровня значимости\n",
    "if results.pvalue < alpha:\n",
    "    print('Отвергаем нулевую гипотезу: средняя выручка по подписке \"ultra\" больше, чем по \"free\"')\n",
    "else:\n",
    "    print('Не удалось отвергнуть нулевую гипотезу: средняя выручка по подписке \"ultra\" не обязательно больше, чем по \"free\"')"
   ]
  },
  {
   "cell_type": "markdown",
   "id": "449294bb",
   "metadata": {},
   "source": [
    "#### **Вывод**\n",
    "\n",
    "Проверка гипотезы о том, что доход от пользователей с тарифом \"ultra\" больше, чем от тех, кто использует тариф \"free\", не является непосредственным выводом о разнице в доходе между этими двумя группами пользователей. Гипотеза о разнице в доходе между тарифами может быть проверена статистически, например, с использованием t-теста или анализа дисперсии.\n",
    "\n",
    "Если результаты статистического анализа покажут, что разница в доходе между пользователями с тарифами \"ultra\" и \"free\" статистически значима, то тогда можно будет сделать вывод о том, что доход от пользователей с тарифом \"ultra\" действительно больше. Однако для этого нужно провести анализ и удостовериться, что различие не является случайным."
   ]
  },
  {
   "cell_type": "markdown",
   "id": "73fcde84",
   "metadata": {},
   "source": [
    "### 6.4 Представьте такую ситуацию: \n",
    "техническая команда сервиса обновила сервера, с которыми взаимодействует мобильное приложение. Она надеется, что из-за этого количество обращений в техподдержку значимо снизилось. Некоторый файл содержит для каждого пользователя данные о количестве обращений до обновления и после него. **Какой тест вам понадобился бы для проверки этой гипотезы?**"
   ]
  },
  {
   "cell_type": "markdown",
   "id": "4c707fc2",
   "metadata": {},
   "source": [
    "#### Вывод:\n",
    "\n",
    "Применим предположение о том, что средние значения для связанных выборок равны.\n",
    "\n",
    "Гипотезы представлены следующим образом:\n",
    "\n",
    "H0 : μ1 = μ2 \\\n",
    "H1 : μ1 ≠ μ2 \\\n",
    "Здесь μ1 и μ2 обозначают средние показатели обращений в службу поддержки до и после внесенных изменений.\n",
    "\n",
    "Для анализа следует применить метод: scipy.stats.ttest_rel()."
   ]
  },
  {
   "cell_type": "markdown",
   "id": "61213c5e",
   "metadata": {},
   "source": [
    "### Шаг 7. Итоговый вывод"
   ]
  },
  {
   "cell_type": "markdown",
   "id": "484ae3e0",
   "metadata": {},
   "source": [
    "Провели анализ данных:\n",
    "\n",
    "Распределение пользователей по городам примерно равномерное, с Пятигорском на первом месте (219 пользователей) и Москвой на последнем (168 пользователей).\n",
    "Большинство, или 54%, выбирают бесплатную подписку, остальные 46% платят за подписку.\n",
    "Большая часть пользователей находится в возрасте от 20 до 30 лет.\n",
    "Среднее расстояние поездки - от 2.5 до 4 км, длительность - 13-22 минуты.\n",
    "Далее, объединили всю информацию в одну таблицу и на ее основе создали еще две: для платных и бесплатных пользователей.\n",
    "\n",
    "Визуализация показала:\n",
    "\n",
    "На бесплатном тарифе люди в пути от 10 до 30 минут и проезжают 2-6,5 км.\n",
    "На платном тарифе, в основном, путешествуют 15-25 минут, а максимальное расстояние - 3 км.\n",
    "Сформировали датафрейм total_data, отображающий суммарные показатели по каждому пользователю за месяц и добавили столбец с выручкой.\n",
    "\n",
    "По итогам проверки гипотез:\n",
    "\n",
    "Подписчики проводят в пути больше времени, чем те, кто использует бесплатный тариф.\n",
    "Пользователи с платной подпиской, как правило, проезжают не более 3130 метров за раз.\n",
    "Ежемесячная выручка от платных пользователей превышает доход от тех, кто пользуется бесплатной версией.\n"
   ]
  }
 ],
 "metadata": {
  "ExecuteTimeLog": [
   {
    "duration": 3,
    "start_time": "2023-10-31T12:54:26.487Z"
   },
   {
    "duration": 1455,
    "start_time": "2023-10-31T12:54:26.493Z"
   },
   {
    "duration": 104,
    "start_time": "2023-10-31T12:54:27.950Z"
   },
   {
    "duration": 240,
    "start_time": "2023-10-31T12:54:28.056Z"
   },
   {
    "duration": 55,
    "start_time": "2023-10-31T12:54:28.298Z"
   },
   {
    "duration": 12,
    "start_time": "2023-10-31T12:54:28.354Z"
   },
   {
    "duration": 44,
    "start_time": "2023-10-31T12:54:28.368Z"
   },
   {
    "duration": 42,
    "start_time": "2023-10-31T12:54:28.414Z"
   },
   {
    "duration": 174,
    "start_time": "2023-10-31T12:54:28.457Z"
   },
   {
    "duration": 5,
    "start_time": "2023-10-31T12:54:28.634Z"
   },
   {
    "duration": 214,
    "start_time": "2023-10-31T12:54:28.645Z"
   },
   {
    "duration": 6,
    "start_time": "2023-10-31T12:54:28.861Z"
   },
   {
    "duration": 144,
    "start_time": "2023-10-31T12:54:28.868Z"
   },
   {
    "duration": 11,
    "start_time": "2023-10-31T12:54:29.013Z"
   },
   {
    "duration": 41,
    "start_time": "2023-10-31T12:54:29.025Z"
   },
   {
    "duration": 32,
    "start_time": "2023-10-31T12:54:29.068Z"
   },
   {
    "duration": 51,
    "start_time": "2023-10-31T12:54:29.102Z"
   },
   {
    "duration": 372,
    "start_time": "2023-10-31T12:54:29.154Z"
   },
   {
    "duration": 21,
    "start_time": "2023-10-31T12:54:29.528Z"
   },
   {
    "duration": 57,
    "start_time": "2023-10-31T12:54:29.551Z"
   },
   {
    "duration": 29,
    "start_time": "2023-10-31T12:54:29.610Z"
   },
   {
    "duration": 26,
    "start_time": "2023-10-31T12:54:29.641Z"
   },
   {
    "duration": 8,
    "start_time": "2023-10-31T12:54:29.669Z"
   },
   {
    "duration": 24,
    "start_time": "2023-10-31T12:54:29.679Z"
   },
   {
    "duration": 13,
    "start_time": "2023-10-31T12:54:29.704Z"
   },
   {
    "duration": 140,
    "start_time": "2023-10-31T12:54:29.718Z"
   },
   {
    "duration": 5,
    "start_time": "2023-10-31T12:54:29.859Z"
   },
   {
    "duration": 105,
    "start_time": "2023-10-31T12:54:29.867Z"
   },
   {
    "duration": 6,
    "start_time": "2023-10-31T12:54:29.974Z"
   },
   {
    "duration": 229,
    "start_time": "2023-10-31T12:54:29.981Z"
   },
   {
    "duration": 10,
    "start_time": "2023-10-31T12:54:30.212Z"
   },
   {
    "duration": 135,
    "start_time": "2023-10-31T12:54:30.223Z"
   },
   {
    "duration": 9,
    "start_time": "2023-10-31T12:54:30.360Z"
   },
   {
    "duration": 139,
    "start_time": "2023-10-31T12:54:30.370Z"
   },
   {
    "duration": 34,
    "start_time": "2023-10-31T12:54:30.511Z"
   },
   {
    "duration": 16,
    "start_time": "2023-10-31T12:54:30.547Z"
   },
   {
    "duration": 257,
    "start_time": "2023-10-31T12:54:30.565Z"
   },
   {
    "duration": 184,
    "start_time": "2023-10-31T12:54:30.824Z"
   },
   {
    "duration": 199,
    "start_time": "2023-10-31T12:54:31.010Z"
   },
   {
    "duration": 197,
    "start_time": "2023-10-31T12:54:31.211Z"
   },
   {
    "duration": 863,
    "start_time": "2023-10-31T12:54:31.409Z"
   },
   {
    "duration": 142,
    "start_time": "2023-10-31T12:54:32.274Z"
   },
   {
    "duration": 5,
    "start_time": "2023-10-31T12:54:32.418Z"
   },
   {
    "duration": 782,
    "start_time": "2023-10-31T12:54:32.425Z"
   },
   {
    "duration": 6,
    "start_time": "2023-10-31T12:54:33.209Z"
   },
   {
    "duration": 13,
    "start_time": "2023-10-31T12:54:33.217Z"
   },
   {
    "duration": 77,
    "start_time": "2023-10-31T15:43:22.047Z"
   },
   {
    "duration": 3,
    "start_time": "2023-10-31T15:43:36.978Z"
   },
   {
    "duration": 1313,
    "start_time": "2023-10-31T15:43:36.982Z"
   },
   {
    "duration": 77,
    "start_time": "2023-10-31T15:43:38.296Z"
   },
   {
    "duration": 67,
    "start_time": "2023-10-31T15:43:38.374Z"
   },
   {
    "duration": 53,
    "start_time": "2023-10-31T15:43:38.443Z"
   },
   {
    "duration": 12,
    "start_time": "2023-10-31T15:43:38.497Z"
   },
   {
    "duration": 13,
    "start_time": "2023-10-31T15:43:38.510Z"
   },
   {
    "duration": 4,
    "start_time": "2023-10-31T15:43:38.524Z"
   },
   {
    "duration": 129,
    "start_time": "2023-10-31T15:43:38.529Z"
   },
   {
    "duration": 5,
    "start_time": "2023-10-31T15:43:38.659Z"
   },
   {
    "duration": 180,
    "start_time": "2023-10-31T15:43:38.665Z"
   },
   {
    "duration": 6,
    "start_time": "2023-10-31T15:43:38.846Z"
   },
   {
    "duration": 118,
    "start_time": "2023-10-31T15:43:38.853Z"
   },
   {
    "duration": 10,
    "start_time": "2023-10-31T15:43:38.973Z"
   },
   {
    "duration": 8,
    "start_time": "2023-10-31T15:43:38.984Z"
   },
   {
    "duration": 10,
    "start_time": "2023-10-31T15:43:38.993Z"
   },
   {
    "duration": 11,
    "start_time": "2023-10-31T15:43:39.004Z"
   },
   {
    "duration": 306,
    "start_time": "2023-10-31T15:43:39.017Z"
   },
   {
    "duration": 21,
    "start_time": "2023-10-31T15:43:39.325Z"
   },
   {
    "duration": 6,
    "start_time": "2023-10-31T15:43:39.347Z"
   },
   {
    "duration": 6,
    "start_time": "2023-10-31T15:43:39.355Z"
   },
   {
    "duration": 5,
    "start_time": "2023-10-31T15:43:39.363Z"
   },
   {
    "duration": 8,
    "start_time": "2023-10-31T15:43:39.369Z"
   },
   {
    "duration": 14,
    "start_time": "2023-10-31T15:43:39.378Z"
   },
   {
    "duration": 3,
    "start_time": "2023-10-31T15:43:39.394Z"
   },
   {
    "duration": 76,
    "start_time": "2023-10-31T15:43:39.398Z"
   },
   {
    "duration": 0,
    "start_time": "2023-10-31T15:43:39.475Z"
   },
   {
    "duration": 0,
    "start_time": "2023-10-31T15:43:39.476Z"
   },
   {
    "duration": 0,
    "start_time": "2023-10-31T15:43:39.477Z"
   },
   {
    "duration": 0,
    "start_time": "2023-10-31T15:43:39.478Z"
   },
   {
    "duration": 0,
    "start_time": "2023-10-31T15:43:39.479Z"
   },
   {
    "duration": 0,
    "start_time": "2023-10-31T15:43:39.480Z"
   },
   {
    "duration": 0,
    "start_time": "2023-10-31T15:43:39.481Z"
   },
   {
    "duration": 0,
    "start_time": "2023-10-31T15:43:39.482Z"
   },
   {
    "duration": 0,
    "start_time": "2023-10-31T15:43:39.483Z"
   },
   {
    "duration": 0,
    "start_time": "2023-10-31T15:43:39.484Z"
   },
   {
    "duration": 0,
    "start_time": "2023-10-31T15:43:39.485Z"
   },
   {
    "duration": 0,
    "start_time": "2023-10-31T15:43:39.486Z"
   },
   {
    "duration": 0,
    "start_time": "2023-10-31T15:43:39.486Z"
   },
   {
    "duration": 0,
    "start_time": "2023-10-31T15:43:39.488Z"
   },
   {
    "duration": 0,
    "start_time": "2023-10-31T15:43:39.488Z"
   },
   {
    "duration": 0,
    "start_time": "2023-10-31T15:43:39.489Z"
   },
   {
    "duration": 0,
    "start_time": "2023-10-31T15:43:39.490Z"
   },
   {
    "duration": 0,
    "start_time": "2023-10-31T15:43:39.491Z"
   },
   {
    "duration": 0,
    "start_time": "2023-10-31T15:43:39.492Z"
   },
   {
    "duration": 0,
    "start_time": "2023-10-31T15:43:39.493Z"
   },
   {
    "duration": 190,
    "start_time": "2023-10-31T15:44:00.422Z"
   },
   {
    "duration": 148,
    "start_time": "2023-10-31T15:47:50.019Z"
   },
   {
    "duration": 256,
    "start_time": "2023-10-31T15:48:35.514Z"
   },
   {
    "duration": 230,
    "start_time": "2023-10-31T15:49:03.442Z"
   },
   {
    "duration": 4,
    "start_time": "2023-10-31T15:51:07.042Z"
   },
   {
    "duration": 77,
    "start_time": "2023-10-31T15:51:29.441Z"
   },
   {
    "duration": 120,
    "start_time": "2023-10-31T15:52:03.013Z"
   },
   {
    "duration": 111,
    "start_time": "2023-10-31T15:52:12.793Z"
   },
   {
    "duration": 188,
    "start_time": "2023-10-31T15:52:45.077Z"
   },
   {
    "duration": 9,
    "start_time": "2023-10-31T15:52:48.581Z"
   },
   {
    "duration": 89,
    "start_time": "2023-10-31T15:52:51.229Z"
   },
   {
    "duration": 120,
    "start_time": "2023-10-31T15:53:34.821Z"
   },
   {
    "duration": 126,
    "start_time": "2023-10-31T15:53:41.661Z"
   },
   {
    "duration": 94,
    "start_time": "2023-10-31T15:54:22.601Z"
   },
   {
    "duration": 84,
    "start_time": "2023-10-31T15:54:27.350Z"
   },
   {
    "duration": 92,
    "start_time": "2023-10-31T15:54:44.589Z"
   },
   {
    "duration": 8,
    "start_time": "2023-10-31T15:54:48.410Z"
   },
   {
    "duration": 3,
    "start_time": "2023-10-31T15:55:07.312Z"
   },
   {
    "duration": 1154,
    "start_time": "2023-10-31T15:55:07.316Z"
   },
   {
    "duration": 30,
    "start_time": "2023-10-31T15:55:08.471Z"
   },
   {
    "duration": 26,
    "start_time": "2023-10-31T15:55:08.502Z"
   },
   {
    "duration": 16,
    "start_time": "2023-10-31T15:55:08.530Z"
   },
   {
    "duration": 12,
    "start_time": "2023-10-31T15:55:08.547Z"
   },
   {
    "duration": 24,
    "start_time": "2023-10-31T15:55:08.561Z"
   },
   {
    "duration": 14,
    "start_time": "2023-10-31T15:55:08.587Z"
   },
   {
    "duration": 250,
    "start_time": "2023-10-31T15:55:08.603Z"
   },
   {
    "duration": 4,
    "start_time": "2023-10-31T15:55:08.855Z"
   },
   {
    "duration": 210,
    "start_time": "2023-10-31T15:55:08.861Z"
   },
   {
    "duration": 6,
    "start_time": "2023-10-31T15:55:09.073Z"
   },
   {
    "duration": 159,
    "start_time": "2023-10-31T15:55:09.081Z"
   },
   {
    "duration": 9,
    "start_time": "2023-10-31T15:55:09.243Z"
   },
   {
    "duration": 7,
    "start_time": "2023-10-31T15:55:09.253Z"
   },
   {
    "duration": 8,
    "start_time": "2023-10-31T15:55:09.261Z"
   },
   {
    "duration": 17,
    "start_time": "2023-10-31T15:55:09.270Z"
   },
   {
    "duration": 286,
    "start_time": "2023-10-31T15:55:09.288Z"
   },
   {
    "duration": 10,
    "start_time": "2023-10-31T15:55:09.575Z"
   },
   {
    "duration": 9,
    "start_time": "2023-10-31T15:55:09.586Z"
   },
   {
    "duration": 8,
    "start_time": "2023-10-31T15:55:09.596Z"
   },
   {
    "duration": 9,
    "start_time": "2023-10-31T15:55:09.605Z"
   },
   {
    "duration": 28,
    "start_time": "2023-10-31T15:55:09.616Z"
   },
   {
    "duration": 14,
    "start_time": "2023-10-31T15:55:09.645Z"
   },
   {
    "duration": 3,
    "start_time": "2023-10-31T15:55:09.661Z"
   },
   {
    "duration": 198,
    "start_time": "2023-10-31T15:55:09.666Z"
   },
   {
    "duration": 4,
    "start_time": "2023-10-31T15:55:09.865Z"
   },
   {
    "duration": 127,
    "start_time": "2023-10-31T15:55:09.870Z"
   },
   {
    "duration": 6,
    "start_time": "2023-10-31T15:55:09.999Z"
   },
   {
    "duration": 268,
    "start_time": "2023-10-31T15:55:10.006Z"
   },
   {
    "duration": 8,
    "start_time": "2023-10-31T15:55:10.276Z"
   },
   {
    "duration": 161,
    "start_time": "2023-10-31T15:55:10.286Z"
   },
   {
    "duration": 9,
    "start_time": "2023-10-31T15:55:10.449Z"
   },
   {
    "duration": 95,
    "start_time": "2023-10-31T15:55:10.460Z"
   },
   {
    "duration": 23,
    "start_time": "2023-10-31T15:55:10.557Z"
   },
   {
    "duration": 10,
    "start_time": "2023-10-31T15:55:10.581Z"
   },
   {
    "duration": 179,
    "start_time": "2023-10-31T15:55:10.592Z"
   },
   {
    "duration": 156,
    "start_time": "2023-10-31T15:55:10.773Z"
   },
   {
    "duration": 150,
    "start_time": "2023-10-31T15:55:10.931Z"
   },
   {
    "duration": 156,
    "start_time": "2023-10-31T15:55:11.083Z"
   },
   {
    "duration": 963,
    "start_time": "2023-10-31T15:55:11.244Z"
   },
   {
    "duration": 147,
    "start_time": "2023-10-31T15:55:12.209Z"
   },
   {
    "duration": 5,
    "start_time": "2023-10-31T15:55:12.358Z"
   },
   {
    "duration": 788,
    "start_time": "2023-10-31T15:55:12.364Z"
   },
   {
    "duration": 4,
    "start_time": "2023-10-31T15:55:13.153Z"
   },
   {
    "duration": 44,
    "start_time": "2023-10-31T15:55:13.158Z"
   },
   {
    "duration": 287,
    "start_time": "2023-10-31T15:57:09.712Z"
   },
   {
    "duration": 197,
    "start_time": "2023-10-31T15:57:20.172Z"
   },
   {
    "duration": 249,
    "start_time": "2023-10-31T15:57:47.883Z"
   },
   {
    "duration": 293,
    "start_time": "2023-10-31T15:58:29.640Z"
   },
   {
    "duration": 175,
    "start_time": "2023-10-31T15:58:36.780Z"
   },
   {
    "duration": 97,
    "start_time": "2023-10-31T15:58:44.843Z"
   },
   {
    "duration": 279,
    "start_time": "2023-10-31T15:58:52.743Z"
   },
   {
    "duration": 175,
    "start_time": "2023-10-31T15:59:01.980Z"
   },
   {
    "duration": 5,
    "start_time": "2023-10-31T16:02:58.563Z"
   },
   {
    "duration": 5,
    "start_time": "2023-10-31T16:03:04.883Z"
   },
   {
    "duration": 5,
    "start_time": "2023-10-31T16:03:09.497Z"
   },
   {
    "duration": 5,
    "start_time": "2023-10-31T16:03:15.440Z"
   },
   {
    "duration": 5,
    "start_time": "2023-10-31T16:03:18.504Z"
   },
   {
    "duration": 5,
    "start_time": "2023-10-31T16:03:23.015Z"
   },
   {
    "duration": 5,
    "start_time": "2023-10-31T16:03:27.124Z"
   },
   {
    "duration": 911,
    "start_time": "2023-10-31T16:04:18.075Z"
   },
   {
    "duration": 5,
    "start_time": "2023-10-31T16:05:32.784Z"
   },
   {
    "duration": 9,
    "start_time": "2023-10-31T16:06:49.634Z"
   },
   {
    "duration": 129,
    "start_time": "2023-10-31T16:08:31.023Z"
   },
   {
    "duration": 4,
    "start_time": "2023-11-01T03:52:57.654Z"
   },
   {
    "duration": 1447,
    "start_time": "2023-11-01T03:52:57.659Z"
   },
   {
    "duration": 74,
    "start_time": "2023-11-01T03:52:59.108Z"
   },
   {
    "duration": 70,
    "start_time": "2023-11-01T03:52:59.184Z"
   },
   {
    "duration": 51,
    "start_time": "2023-11-01T03:52:59.256Z"
   },
   {
    "duration": 12,
    "start_time": "2023-11-01T03:52:59.309Z"
   },
   {
    "duration": 45,
    "start_time": "2023-11-01T03:52:59.323Z"
   },
   {
    "duration": 9,
    "start_time": "2023-11-01T03:52:59.370Z"
   },
   {
    "duration": 302,
    "start_time": "2023-11-01T03:52:59.380Z"
   },
   {
    "duration": 4,
    "start_time": "2023-11-01T03:52:59.685Z"
   },
   {
    "duration": 242,
    "start_time": "2023-11-01T03:52:59.691Z"
   },
   {
    "duration": 7,
    "start_time": "2023-11-01T03:52:59.935Z"
   },
   {
    "duration": 174,
    "start_time": "2023-11-01T03:52:59.944Z"
   },
   {
    "duration": 13,
    "start_time": "2023-11-01T03:53:00.120Z"
   },
   {
    "duration": 39,
    "start_time": "2023-11-01T03:53:00.134Z"
   },
   {
    "duration": 50,
    "start_time": "2023-11-01T03:53:00.175Z"
   },
   {
    "duration": 336,
    "start_time": "2023-11-01T03:53:00.226Z"
   },
   {
    "duration": 391,
    "start_time": "2023-11-01T03:53:00.564Z"
   },
   {
    "duration": 11,
    "start_time": "2023-11-01T03:53:00.957Z"
   },
   {
    "duration": 254,
    "start_time": "2023-11-01T03:53:00.969Z"
   },
   {
    "duration": 43,
    "start_time": "2023-11-01T03:53:01.225Z"
   },
   {
    "duration": 202,
    "start_time": "2023-11-01T03:53:01.269Z"
   },
   {
    "duration": 75,
    "start_time": "2023-11-01T03:53:01.472Z"
   },
   {
    "duration": 164,
    "start_time": "2023-11-01T03:53:01.549Z"
   },
   {
    "duration": 225,
    "start_time": "2023-11-01T03:53:01.715Z"
   },
   {
    "duration": 507,
    "start_time": "2023-11-01T03:53:01.942Z"
   },
   {
    "duration": 5,
    "start_time": "2023-11-01T03:53:02.451Z"
   },
   {
    "duration": 233,
    "start_time": "2023-11-01T03:53:02.459Z"
   },
   {
    "duration": 168,
    "start_time": "2023-11-01T03:53:02.694Z"
   },
   {
    "duration": 398,
    "start_time": "2023-11-01T03:53:02.864Z"
   },
   {
    "duration": 12,
    "start_time": "2023-11-01T03:53:03.302Z"
   },
   {
    "duration": 170,
    "start_time": "2023-11-01T03:53:03.316Z"
   },
   {
    "duration": 23,
    "start_time": "2023-11-01T03:53:03.487Z"
   },
   {
    "duration": 126,
    "start_time": "2023-11-01T03:53:03.511Z"
   },
   {
    "duration": 32,
    "start_time": "2023-11-01T03:53:03.639Z"
   },
   {
    "duration": 28,
    "start_time": "2023-11-01T03:53:03.673Z"
   },
   {
    "duration": 258,
    "start_time": "2023-11-01T03:53:03.703Z"
   },
   {
    "duration": 226,
    "start_time": "2023-11-01T03:53:03.963Z"
   },
   {
    "duration": 235,
    "start_time": "2023-11-01T03:53:04.191Z"
   },
   {
    "duration": 257,
    "start_time": "2023-11-01T03:53:04.427Z"
   },
   {
    "duration": 74,
    "start_time": "2023-11-01T03:53:04.686Z"
   },
   {
    "duration": 0,
    "start_time": "2023-11-01T03:53:04.763Z"
   },
   {
    "duration": 0,
    "start_time": "2023-11-01T03:53:04.764Z"
   },
   {
    "duration": 0,
    "start_time": "2023-11-01T03:53:04.766Z"
   },
   {
    "duration": 0,
    "start_time": "2023-11-01T03:53:04.768Z"
   },
   {
    "duration": 0,
    "start_time": "2023-11-01T03:53:04.769Z"
   },
   {
    "duration": 16,
    "start_time": "2023-11-01T04:07:08.542Z"
   },
   {
    "duration": 4,
    "start_time": "2023-11-01T07:14:22.689Z"
   },
   {
    "duration": 1492,
    "start_time": "2023-11-01T07:14:22.695Z"
   },
   {
    "duration": 77,
    "start_time": "2023-11-01T07:14:24.189Z"
   },
   {
    "duration": 71,
    "start_time": "2023-11-01T07:14:24.267Z"
   },
   {
    "duration": 51,
    "start_time": "2023-11-01T07:14:24.340Z"
   },
   {
    "duration": 12,
    "start_time": "2023-11-01T07:14:24.393Z"
   },
   {
    "duration": 17,
    "start_time": "2023-11-01T07:14:24.407Z"
   },
   {
    "duration": 41,
    "start_time": "2023-11-01T07:14:24.425Z"
   },
   {
    "duration": 354,
    "start_time": "2023-11-01T07:14:24.467Z"
   },
   {
    "duration": 6,
    "start_time": "2023-11-01T07:14:24.823Z"
   },
   {
    "duration": 274,
    "start_time": "2023-11-01T07:14:24.830Z"
   },
   {
    "duration": 6,
    "start_time": "2023-11-01T07:14:25.106Z"
   },
   {
    "duration": 220,
    "start_time": "2023-11-01T07:14:25.114Z"
   },
   {
    "duration": 23,
    "start_time": "2023-11-01T07:14:25.336Z"
   },
   {
    "duration": 11,
    "start_time": "2023-11-01T07:14:25.361Z"
   },
   {
    "duration": 14,
    "start_time": "2023-11-01T07:14:25.374Z"
   },
   {
    "duration": 26,
    "start_time": "2023-11-01T07:14:25.390Z"
   },
   {
    "duration": 341,
    "start_time": "2023-11-01T07:14:25.418Z"
   },
   {
    "duration": 10,
    "start_time": "2023-11-01T07:14:25.761Z"
   },
   {
    "duration": 32,
    "start_time": "2023-11-01T07:14:25.772Z"
   },
   {
    "duration": 9,
    "start_time": "2023-11-01T07:14:25.806Z"
   },
   {
    "duration": 11,
    "start_time": "2023-11-01T07:14:25.817Z"
   },
   {
    "duration": 13,
    "start_time": "2023-11-01T07:14:25.829Z"
   },
   {
    "duration": 26,
    "start_time": "2023-11-01T07:14:25.847Z"
   },
   {
    "duration": 9,
    "start_time": "2023-11-01T07:14:25.875Z"
   },
   {
    "duration": 245,
    "start_time": "2023-11-01T07:14:25.886Z"
   },
   {
    "duration": 316,
    "start_time": "2023-11-01T07:14:26.133Z"
   },
   {
    "duration": 5,
    "start_time": "2023-11-01T07:14:26.450Z"
   },
   {
    "duration": 234,
    "start_time": "2023-11-01T07:14:26.457Z"
   },
   {
    "duration": 8,
    "start_time": "2023-11-01T07:14:26.693Z"
   },
   {
    "duration": 289,
    "start_time": "2023-11-01T07:14:26.703Z"
   },
   {
    "duration": 10,
    "start_time": "2023-11-01T07:14:26.994Z"
   },
   {
    "duration": 172,
    "start_time": "2023-11-01T07:14:27.005Z"
   },
   {
    "duration": 10,
    "start_time": "2023-11-01T07:14:27.179Z"
   },
   {
    "duration": 116,
    "start_time": "2023-11-01T07:14:27.191Z"
   },
   {
    "duration": 27,
    "start_time": "2023-11-01T07:14:27.309Z"
   },
   {
    "duration": 10,
    "start_time": "2023-11-01T07:14:27.348Z"
   },
   {
    "duration": 241,
    "start_time": "2023-11-01T07:14:27.360Z"
   },
   {
    "duration": 253,
    "start_time": "2023-11-01T07:14:27.603Z"
   },
   {
    "duration": 227,
    "start_time": "2023-11-01T07:14:27.858Z"
   },
   {
    "duration": 226,
    "start_time": "2023-11-01T07:14:28.087Z"
   },
   {
    "duration": 96,
    "start_time": "2023-11-01T07:14:28.315Z"
   },
   {
    "duration": 0,
    "start_time": "2023-11-01T07:14:28.413Z"
   },
   {
    "duration": 0,
    "start_time": "2023-11-01T07:14:28.414Z"
   },
   {
    "duration": 0,
    "start_time": "2023-11-01T07:14:28.415Z"
   },
   {
    "duration": 0,
    "start_time": "2023-11-01T07:14:28.416Z"
   },
   {
    "duration": 0,
    "start_time": "2023-11-01T07:14:28.417Z"
   },
   {
    "duration": 93,
    "start_time": "2023-11-01T07:16:17.321Z"
   },
   {
    "duration": 348,
    "start_time": "2023-11-01T07:16:24.141Z"
   },
   {
    "duration": 86,
    "start_time": "2023-11-01T07:19:12.575Z"
   },
   {
    "duration": 4,
    "start_time": "2023-11-01T07:19:25.069Z"
   },
   {
    "duration": 14,
    "start_time": "2023-11-01T07:20:02.660Z"
   },
   {
    "duration": 86,
    "start_time": "2023-11-01T07:21:38.922Z"
   },
   {
    "duration": 86,
    "start_time": "2023-11-01T07:22:13.682Z"
   },
   {
    "duration": 97,
    "start_time": "2023-11-01T07:22:18.883Z"
   },
   {
    "duration": 100,
    "start_time": "2023-11-01T07:22:26.502Z"
   },
   {
    "duration": 915,
    "start_time": "2023-11-01T07:24:07.882Z"
   },
   {
    "duration": 954,
    "start_time": "2023-11-01T07:24:43.442Z"
   },
   {
    "duration": 91,
    "start_time": "2023-11-01T07:24:53.061Z"
   },
   {
    "duration": 175,
    "start_time": "2023-11-01T07:25:00.641Z"
   },
   {
    "duration": 176,
    "start_time": "2023-11-01T07:26:42.041Z"
   },
   {
    "duration": 7,
    "start_time": "2023-11-01T07:26:54.153Z"
   },
   {
    "duration": 1074,
    "start_time": "2023-11-01T07:27:02.182Z"
   },
   {
    "duration": 113,
    "start_time": "2023-11-01T07:27:29.703Z"
   },
   {
    "duration": 1179,
    "start_time": "2023-11-01T07:27:34.102Z"
   },
   {
    "duration": 11,
    "start_time": "2023-11-01T07:27:38.362Z"
   },
   {
    "duration": 6,
    "start_time": "2023-11-01T07:28:09.265Z"
   },
   {
    "duration": 11,
    "start_time": "2023-11-01T07:28:13.313Z"
   },
   {
    "duration": 3,
    "start_time": "2023-11-01T07:28:54.580Z"
   },
   {
    "duration": 1421,
    "start_time": "2023-11-01T07:28:54.585Z"
   },
   {
    "duration": 29,
    "start_time": "2023-11-01T07:28:56.008Z"
   },
   {
    "duration": 31,
    "start_time": "2023-11-01T07:28:56.039Z"
   },
   {
    "duration": 16,
    "start_time": "2023-11-01T07:28:56.072Z"
   },
   {
    "duration": 18,
    "start_time": "2023-11-01T07:28:56.089Z"
   },
   {
    "duration": 23,
    "start_time": "2023-11-01T07:28:56.109Z"
   },
   {
    "duration": 22,
    "start_time": "2023-11-01T07:28:56.135Z"
   },
   {
    "duration": 293,
    "start_time": "2023-11-01T07:28:56.159Z"
   },
   {
    "duration": 6,
    "start_time": "2023-11-01T07:28:56.453Z"
   },
   {
    "duration": 267,
    "start_time": "2023-11-01T07:28:56.461Z"
   },
   {
    "duration": 15,
    "start_time": "2023-11-01T07:28:56.731Z"
   },
   {
    "duration": 214,
    "start_time": "2023-11-01T07:28:56.749Z"
   },
   {
    "duration": 14,
    "start_time": "2023-11-01T07:28:56.966Z"
   },
   {
    "duration": 21,
    "start_time": "2023-11-01T07:28:56.982Z"
   },
   {
    "duration": 11,
    "start_time": "2023-11-01T07:28:57.006Z"
   },
   {
    "duration": 38,
    "start_time": "2023-11-01T07:28:57.020Z"
   },
   {
    "duration": 342,
    "start_time": "2023-11-01T07:28:57.060Z"
   },
   {
    "duration": 12,
    "start_time": "2023-11-01T07:28:57.404Z"
   },
   {
    "duration": 29,
    "start_time": "2023-11-01T07:28:57.418Z"
   },
   {
    "duration": 30,
    "start_time": "2023-11-01T07:28:57.450Z"
   },
   {
    "duration": 25,
    "start_time": "2023-11-01T07:28:57.483Z"
   },
   {
    "duration": 18,
    "start_time": "2023-11-01T07:28:57.510Z"
   },
   {
    "duration": 45,
    "start_time": "2023-11-01T07:28:57.529Z"
   },
   {
    "duration": 11,
    "start_time": "2023-11-01T07:28:57.576Z"
   },
   {
    "duration": 264,
    "start_time": "2023-11-01T07:28:57.590Z"
   },
   {
    "duration": 431,
    "start_time": "2023-11-01T07:28:57.857Z"
   },
   {
    "duration": 5,
    "start_time": "2023-11-01T07:28:58.290Z"
   },
   {
    "duration": 239,
    "start_time": "2023-11-01T07:28:58.297Z"
   },
   {
    "duration": 13,
    "start_time": "2023-11-01T07:28:58.538Z"
   },
   {
    "duration": 264,
    "start_time": "2023-11-01T07:28:58.553Z"
   },
   {
    "duration": 12,
    "start_time": "2023-11-01T07:28:58.820Z"
   },
   {
    "duration": 171,
    "start_time": "2023-11-01T07:28:58.848Z"
   },
   {
    "duration": 26,
    "start_time": "2023-11-01T07:28:59.021Z"
   },
   {
    "duration": 157,
    "start_time": "2023-11-01T07:28:59.049Z"
   },
   {
    "duration": 40,
    "start_time": "2023-11-01T07:28:59.207Z"
   },
   {
    "duration": 6,
    "start_time": "2023-11-01T07:28:59.249Z"
   },
   {
    "duration": 16,
    "start_time": "2023-11-01T07:28:59.257Z"
   },
   {
    "duration": 12,
    "start_time": "2023-11-01T07:28:59.275Z"
   },
   {
    "duration": 268,
    "start_time": "2023-11-01T07:28:59.289Z"
   },
   {
    "duration": 246,
    "start_time": "2023-11-01T07:28:59.561Z"
   },
   {
    "duration": 239,
    "start_time": "2023-11-01T07:28:59.809Z"
   },
   {
    "duration": 234,
    "start_time": "2023-11-01T07:29:00.050Z"
   },
   {
    "duration": 977,
    "start_time": "2023-11-01T07:29:00.286Z"
   },
   {
    "duration": 173,
    "start_time": "2023-11-01T07:29:01.265Z"
   },
   {
    "duration": 7,
    "start_time": "2023-11-01T07:29:01.447Z"
   },
   {
    "duration": 1093,
    "start_time": "2023-11-01T07:29:01.456Z"
   },
   {
    "duration": 7,
    "start_time": "2023-11-01T07:29:02.551Z"
   },
   {
    "duration": 19,
    "start_time": "2023-11-01T07:29:02.561Z"
   },
   {
    "duration": 4,
    "start_time": "2023-11-01T14:46:53.267Z"
   },
   {
    "duration": 1335,
    "start_time": "2023-11-01T14:46:53.273Z"
   },
   {
    "duration": 80,
    "start_time": "2023-11-01T14:46:54.610Z"
   },
   {
    "duration": 77,
    "start_time": "2023-11-01T14:46:54.692Z"
   },
   {
    "duration": 56,
    "start_time": "2023-11-01T14:46:54.771Z"
   },
   {
    "duration": 12,
    "start_time": "2023-11-01T14:46:54.828Z"
   },
   {
    "duration": 32,
    "start_time": "2023-11-01T14:46:54.842Z"
   },
   {
    "duration": 26,
    "start_time": "2023-11-01T14:46:54.876Z"
   },
   {
    "duration": 259,
    "start_time": "2023-11-01T14:46:54.903Z"
   },
   {
    "duration": 6,
    "start_time": "2023-11-01T14:46:55.164Z"
   },
   {
    "duration": 255,
    "start_time": "2023-11-01T14:46:55.171Z"
   },
   {
    "duration": 7,
    "start_time": "2023-11-01T14:46:55.428Z"
   },
   {
    "duration": 185,
    "start_time": "2023-11-01T14:46:55.437Z"
   },
   {
    "duration": 11,
    "start_time": "2023-11-01T14:46:55.625Z"
   },
   {
    "duration": 17,
    "start_time": "2023-11-01T14:46:55.637Z"
   },
   {
    "duration": 17,
    "start_time": "2023-11-01T14:46:55.656Z"
   },
   {
    "duration": 29,
    "start_time": "2023-11-01T14:46:55.675Z"
   },
   {
    "duration": 377,
    "start_time": "2023-11-01T14:46:55.706Z"
   },
   {
    "duration": 23,
    "start_time": "2023-11-01T14:46:56.085Z"
   },
   {
    "duration": 34,
    "start_time": "2023-11-01T14:46:56.111Z"
   },
   {
    "duration": 17,
    "start_time": "2023-11-01T14:46:56.148Z"
   },
   {
    "duration": 22,
    "start_time": "2023-11-01T14:46:56.167Z"
   },
   {
    "duration": 16,
    "start_time": "2023-11-01T14:46:56.191Z"
   },
   {
    "duration": 28,
    "start_time": "2023-11-01T14:46:56.209Z"
   },
   {
    "duration": 5,
    "start_time": "2023-11-01T14:46:56.239Z"
   },
   {
    "duration": 246,
    "start_time": "2023-11-01T14:46:56.245Z"
   },
   {
    "duration": 362,
    "start_time": "2023-11-01T14:46:56.493Z"
   },
   {
    "duration": 5,
    "start_time": "2023-11-01T14:46:56.857Z"
   },
   {
    "duration": 250,
    "start_time": "2023-11-01T14:46:56.864Z"
   },
   {
    "duration": 7,
    "start_time": "2023-11-01T14:46:57.116Z"
   },
   {
    "duration": 243,
    "start_time": "2023-11-01T14:46:57.125Z"
   },
   {
    "duration": 12,
    "start_time": "2023-11-01T14:46:57.406Z"
   },
   {
    "duration": 175,
    "start_time": "2023-11-01T14:46:57.420Z"
   },
   {
    "duration": 14,
    "start_time": "2023-11-01T14:46:57.596Z"
   },
   {
    "duration": 112,
    "start_time": "2023-11-01T14:46:57.611Z"
   },
   {
    "duration": 35,
    "start_time": "2023-11-01T14:46:57.725Z"
   },
   {
    "duration": 43,
    "start_time": "2023-11-01T14:46:57.762Z"
   },
   {
    "duration": 32,
    "start_time": "2023-11-01T14:46:57.807Z"
   },
   {
    "duration": 36,
    "start_time": "2023-11-01T14:46:57.841Z"
   },
   {
    "duration": 231,
    "start_time": "2023-11-01T14:46:57.879Z"
   },
   {
    "duration": 265,
    "start_time": "2023-11-01T14:46:58.114Z"
   },
   {
    "duration": 250,
    "start_time": "2023-11-01T14:46:58.381Z"
   },
   {
    "duration": 233,
    "start_time": "2023-11-01T14:46:58.633Z"
   },
   {
    "duration": 968,
    "start_time": "2023-11-01T14:46:58.868Z"
   },
   {
    "duration": 167,
    "start_time": "2023-11-01T14:46:59.838Z"
   },
   {
    "duration": 5,
    "start_time": "2023-11-01T14:47:00.007Z"
   },
   {
    "duration": 1158,
    "start_time": "2023-11-01T14:47:00.014Z"
   },
   {
    "duration": 6,
    "start_time": "2023-11-01T14:47:01.175Z"
   },
   {
    "duration": 47,
    "start_time": "2023-11-01T14:47:01.183Z"
   },
   {
    "duration": 19,
    "start_time": "2023-11-01T14:49:20.139Z"
   },
   {
    "duration": 12,
    "start_time": "2023-11-01T14:49:25.335Z"
   },
   {
    "duration": 48,
    "start_time": "2023-11-01T15:08:40.933Z"
   },
   {
    "duration": 10,
    "start_time": "2023-11-01T15:08:43.773Z"
   },
   {
    "duration": 3,
    "start_time": "2023-11-01T15:08:49.009Z"
   },
   {
    "duration": 1437,
    "start_time": "2023-11-01T15:08:49.013Z"
   },
   {
    "duration": 86,
    "start_time": "2023-11-01T15:08:50.452Z"
   },
   {
    "duration": 72,
    "start_time": "2023-11-01T15:08:50.539Z"
   },
   {
    "duration": 52,
    "start_time": "2023-11-01T15:08:50.613Z"
   },
   {
    "duration": 12,
    "start_time": "2023-11-01T15:08:50.667Z"
   },
   {
    "duration": 20,
    "start_time": "2023-11-01T15:08:50.680Z"
   },
   {
    "duration": 8,
    "start_time": "2023-11-01T15:08:50.701Z"
   },
   {
    "duration": 313,
    "start_time": "2023-11-01T15:08:50.710Z"
   },
   {
    "duration": 6,
    "start_time": "2023-11-01T15:08:51.024Z"
   },
   {
    "duration": 239,
    "start_time": "2023-11-01T15:08:51.045Z"
   },
   {
    "duration": 6,
    "start_time": "2023-11-01T15:08:51.286Z"
   },
   {
    "duration": 177,
    "start_time": "2023-11-01T15:08:51.294Z"
   },
   {
    "duration": 11,
    "start_time": "2023-11-01T15:08:51.472Z"
   },
   {
    "duration": 41,
    "start_time": "2023-11-01T15:08:51.485Z"
   },
   {
    "duration": 18,
    "start_time": "2023-11-01T15:08:51.528Z"
   },
   {
    "duration": 28,
    "start_time": "2023-11-01T15:08:51.547Z"
   },
   {
    "duration": 334,
    "start_time": "2023-11-01T15:08:51.576Z"
   },
   {
    "duration": 10,
    "start_time": "2023-11-01T15:08:51.912Z"
   },
   {
    "duration": 32,
    "start_time": "2023-11-01T15:08:51.923Z"
   },
   {
    "duration": 14,
    "start_time": "2023-11-01T15:08:51.957Z"
   },
   {
    "duration": 18,
    "start_time": "2023-11-01T15:08:51.972Z"
   },
   {
    "duration": 9,
    "start_time": "2023-11-01T15:08:51.992Z"
   },
   {
    "duration": 22,
    "start_time": "2023-11-01T15:08:52.003Z"
   },
   {
    "duration": 16,
    "start_time": "2023-11-01T15:08:52.026Z"
   },
   {
    "duration": 215,
    "start_time": "2023-11-01T15:08:52.044Z"
   },
   {
    "duration": 398,
    "start_time": "2023-11-01T15:08:52.261Z"
   },
   {
    "duration": 5,
    "start_time": "2023-11-01T15:08:52.661Z"
   },
   {
    "duration": 240,
    "start_time": "2023-11-01T15:08:52.669Z"
   },
   {
    "duration": 6,
    "start_time": "2023-11-01T15:08:52.911Z"
   },
   {
    "duration": 263,
    "start_time": "2023-11-01T15:08:52.919Z"
   },
   {
    "duration": 10,
    "start_time": "2023-11-01T15:08:53.183Z"
   },
   {
    "duration": 159,
    "start_time": "2023-11-01T15:08:53.194Z"
   },
   {
    "duration": 9,
    "start_time": "2023-11-01T15:08:53.355Z"
   },
   {
    "duration": 120,
    "start_time": "2023-11-01T15:08:53.366Z"
   },
   {
    "duration": 26,
    "start_time": "2023-11-01T15:08:53.487Z"
   },
   {
    "duration": 5,
    "start_time": "2023-11-01T15:08:53.515Z"
   },
   {
    "duration": 36,
    "start_time": "2023-11-01T15:08:53.521Z"
   },
   {
    "duration": 30,
    "start_time": "2023-11-01T15:08:53.559Z"
   },
   {
    "duration": 255,
    "start_time": "2023-11-01T15:08:53.591Z"
   },
   {
    "duration": 222,
    "start_time": "2023-11-01T15:08:53.848Z"
   },
   {
    "duration": 208,
    "start_time": "2023-11-01T15:08:54.072Z"
   },
   {
    "duration": 228,
    "start_time": "2023-11-01T15:08:54.282Z"
   },
   {
    "duration": 919,
    "start_time": "2023-11-01T15:08:54.512Z"
   },
   {
    "duration": 145,
    "start_time": "2023-11-01T15:08:55.433Z"
   },
   {
    "duration": 5,
    "start_time": "2023-11-01T15:08:55.580Z"
   },
   {
    "duration": 948,
    "start_time": "2023-11-01T15:08:55.587Z"
   },
   {
    "duration": 13,
    "start_time": "2023-11-01T15:08:56.537Z"
   },
   {
    "duration": 10,
    "start_time": "2023-11-01T15:08:56.551Z"
   },
   {
    "duration": 5,
    "start_time": "2023-11-01T15:09:19.569Z"
   },
   {
    "duration": 5,
    "start_time": "2023-11-01T15:10:25.694Z"
   },
   {
    "duration": 6,
    "start_time": "2023-11-01T15:10:30.321Z"
   },
   {
    "duration": 5,
    "start_time": "2023-11-01T15:10:35.653Z"
   },
   {
    "duration": 7,
    "start_time": "2023-11-01T15:12:46.473Z"
   },
   {
    "duration": 5,
    "start_time": "2023-11-01T15:12:50.893Z"
   },
   {
    "duration": 7,
    "start_time": "2023-11-01T15:12:53.773Z"
   },
   {
    "duration": 6,
    "start_time": "2023-11-01T15:13:00.657Z"
   },
   {
    "duration": 10,
    "start_time": "2023-11-01T15:13:35.648Z"
   },
   {
    "duration": 9,
    "start_time": "2023-11-01T15:13:38.781Z"
   },
   {
    "duration": 108,
    "start_time": "2023-11-01T15:13:43.409Z"
   },
   {
    "duration": 9,
    "start_time": "2023-11-01T15:13:49.913Z"
   },
   {
    "duration": 10,
    "start_time": "2023-11-01T15:13:54.044Z"
   },
   {
    "duration": 10,
    "start_time": "2023-11-01T15:13:58.388Z"
   },
   {
    "duration": 120,
    "start_time": "2023-11-01T15:20:03.692Z"
   },
   {
    "duration": 4,
    "start_time": "2023-11-01T20:57:19.124Z"
   },
   {
    "duration": 1284,
    "start_time": "2023-11-01T20:57:19.130Z"
   },
   {
    "duration": 31,
    "start_time": "2023-11-01T20:57:20.416Z"
   },
   {
    "duration": 31,
    "start_time": "2023-11-01T20:57:20.449Z"
   },
   {
    "duration": 16,
    "start_time": "2023-11-01T20:57:20.482Z"
   },
   {
    "duration": 12,
    "start_time": "2023-11-01T20:57:20.500Z"
   },
   {
    "duration": 41,
    "start_time": "2023-11-01T20:57:20.513Z"
   },
   {
    "duration": 4,
    "start_time": "2023-11-01T20:57:20.555Z"
   },
   {
    "duration": 275,
    "start_time": "2023-11-01T20:57:20.561Z"
   },
   {
    "duration": 5,
    "start_time": "2023-11-01T20:57:20.838Z"
   },
   {
    "duration": 239,
    "start_time": "2023-11-01T20:57:20.844Z"
   },
   {
    "duration": 7,
    "start_time": "2023-11-01T20:57:21.085Z"
   },
   {
    "duration": 165,
    "start_time": "2023-11-01T20:57:21.094Z"
   },
   {
    "duration": 12,
    "start_time": "2023-11-01T20:57:21.262Z"
   },
   {
    "duration": 30,
    "start_time": "2023-11-01T20:57:21.275Z"
   },
   {
    "duration": 37,
    "start_time": "2023-11-01T20:57:21.307Z"
   },
   {
    "duration": 54,
    "start_time": "2023-11-01T20:57:21.346Z"
   },
   {
    "duration": 344,
    "start_time": "2023-11-01T20:57:21.402Z"
   },
   {
    "duration": 11,
    "start_time": "2023-11-01T20:57:21.748Z"
   },
   {
    "duration": 62,
    "start_time": "2023-11-01T20:57:21.760Z"
   },
   {
    "duration": 40,
    "start_time": "2023-11-01T20:57:21.823Z"
   },
   {
    "duration": 16,
    "start_time": "2023-11-01T20:57:21.865Z"
   },
   {
    "duration": 30,
    "start_time": "2023-11-01T20:57:21.883Z"
   },
   {
    "duration": 16,
    "start_time": "2023-11-01T20:57:21.914Z"
   },
   {
    "duration": 8,
    "start_time": "2023-11-01T20:57:21.932Z"
   },
   {
    "duration": 229,
    "start_time": "2023-11-01T20:57:21.942Z"
   },
   {
    "duration": 373,
    "start_time": "2023-11-01T20:57:22.173Z"
   },
   {
    "duration": 4,
    "start_time": "2023-11-01T20:57:22.548Z"
   },
   {
    "duration": 317,
    "start_time": "2023-11-01T20:57:22.553Z"
   },
   {
    "duration": 7,
    "start_time": "2023-11-01T20:57:22.871Z"
   },
   {
    "duration": 276,
    "start_time": "2023-11-01T20:57:22.879Z"
   },
   {
    "duration": 8,
    "start_time": "2023-11-01T20:57:23.157Z"
   },
   {
    "duration": 175,
    "start_time": "2023-11-01T20:57:23.166Z"
   },
   {
    "duration": 9,
    "start_time": "2023-11-01T20:57:23.342Z"
   },
   {
    "duration": 112,
    "start_time": "2023-11-01T20:57:23.352Z"
   },
   {
    "duration": 23,
    "start_time": "2023-11-01T20:57:23.466Z"
   },
   {
    "duration": 17,
    "start_time": "2023-11-01T20:57:23.490Z"
   },
   {
    "duration": 33,
    "start_time": "2023-11-01T20:57:23.509Z"
   },
   {
    "duration": 28,
    "start_time": "2023-11-01T20:57:23.544Z"
   },
   {
    "duration": 207,
    "start_time": "2023-11-01T20:57:23.574Z"
   },
   {
    "duration": 205,
    "start_time": "2023-11-01T20:57:23.784Z"
   },
   {
    "duration": 208,
    "start_time": "2023-11-01T20:57:23.990Z"
   },
   {
    "duration": 198,
    "start_time": "2023-11-01T20:57:24.199Z"
   },
   {
    "duration": 857,
    "start_time": "2023-11-01T20:57:24.399Z"
   },
   {
    "duration": 153,
    "start_time": "2023-11-01T20:57:25.257Z"
   },
   {
    "duration": 6,
    "start_time": "2023-11-01T20:57:25.412Z"
   },
   {
    "duration": 1039,
    "start_time": "2023-11-01T20:57:25.420Z"
   },
   {
    "duration": 5,
    "start_time": "2023-11-01T20:57:26.461Z"
   },
   {
    "duration": 22,
    "start_time": "2023-11-01T20:57:26.468Z"
   },
   {
    "duration": 10,
    "start_time": "2023-11-01T21:01:10.524Z"
   },
   {
    "duration": 3,
    "start_time": "2023-11-01T21:01:31.313Z"
   },
   {
    "duration": 1279,
    "start_time": "2023-11-01T21:01:31.318Z"
   },
   {
    "duration": 30,
    "start_time": "2023-11-01T21:01:32.599Z"
   },
   {
    "duration": 27,
    "start_time": "2023-11-01T21:01:32.631Z"
   },
   {
    "duration": 15,
    "start_time": "2023-11-01T21:01:32.660Z"
   },
   {
    "duration": 11,
    "start_time": "2023-11-01T21:01:32.677Z"
   },
   {
    "duration": 20,
    "start_time": "2023-11-01T21:01:32.690Z"
   },
   {
    "duration": 29,
    "start_time": "2023-11-01T21:01:32.712Z"
   },
   {
    "duration": 314,
    "start_time": "2023-11-01T21:01:32.743Z"
   },
   {
    "duration": 4,
    "start_time": "2023-11-01T21:01:33.059Z"
   },
   {
    "duration": 231,
    "start_time": "2023-11-01T21:01:33.065Z"
   },
   {
    "duration": 11,
    "start_time": "2023-11-01T21:01:33.297Z"
   },
   {
    "duration": 164,
    "start_time": "2023-11-01T21:01:33.310Z"
   },
   {
    "duration": 13,
    "start_time": "2023-11-01T21:01:33.476Z"
   },
   {
    "duration": 17,
    "start_time": "2023-11-01T21:01:33.506Z"
   },
   {
    "duration": 16,
    "start_time": "2023-11-01T21:01:33.525Z"
   },
   {
    "duration": 42,
    "start_time": "2023-11-01T21:01:33.543Z"
   },
   {
    "duration": 357,
    "start_time": "2023-11-01T21:01:33.586Z"
   },
   {
    "duration": 10,
    "start_time": "2023-11-01T21:01:33.944Z"
   },
   {
    "duration": 17,
    "start_time": "2023-11-01T21:01:33.956Z"
   },
   {
    "duration": 31,
    "start_time": "2023-11-01T21:01:33.975Z"
   },
   {
    "duration": 15,
    "start_time": "2023-11-01T21:01:34.008Z"
   },
   {
    "duration": 23,
    "start_time": "2023-11-01T21:01:34.024Z"
   },
   {
    "duration": 29,
    "start_time": "2023-11-01T21:01:34.049Z"
   },
   {
    "duration": 10,
    "start_time": "2023-11-01T21:01:34.080Z"
   },
   {
    "duration": 207,
    "start_time": "2023-11-01T21:01:34.092Z"
   },
   {
    "duration": 319,
    "start_time": "2023-11-01T21:01:34.300Z"
   },
   {
    "duration": 4,
    "start_time": "2023-11-01T21:01:34.622Z"
   },
   {
    "duration": 206,
    "start_time": "2023-11-01T21:01:34.628Z"
   },
   {
    "duration": 5,
    "start_time": "2023-11-01T21:01:34.836Z"
   },
   {
    "duration": 287,
    "start_time": "2023-11-01T21:01:34.843Z"
   },
   {
    "duration": 9,
    "start_time": "2023-11-01T21:01:35.132Z"
   },
   {
    "duration": 166,
    "start_time": "2023-11-01T21:01:35.142Z"
   },
   {
    "duration": 8,
    "start_time": "2023-11-01T21:01:35.310Z"
   },
   {
    "duration": 111,
    "start_time": "2023-11-01T21:01:35.320Z"
   },
   {
    "duration": 34,
    "start_time": "2023-11-01T21:01:35.433Z"
   },
   {
    "duration": 6,
    "start_time": "2023-11-01T21:01:35.469Z"
   },
   {
    "duration": 32,
    "start_time": "2023-11-01T21:01:35.477Z"
   },
   {
    "duration": 20,
    "start_time": "2023-11-01T21:01:35.511Z"
   },
   {
    "duration": 220,
    "start_time": "2023-11-01T21:01:35.533Z"
   },
   {
    "duration": 255,
    "start_time": "2023-11-01T21:01:35.755Z"
   },
   {
    "duration": 252,
    "start_time": "2023-11-01T21:01:36.012Z"
   },
   {
    "duration": 196,
    "start_time": "2023-11-01T21:01:36.266Z"
   },
   {
    "duration": 861,
    "start_time": "2023-11-01T21:01:36.463Z"
   },
   {
    "duration": 161,
    "start_time": "2023-11-01T21:01:37.325Z"
   },
   {
    "duration": 19,
    "start_time": "2023-11-01T21:01:37.488Z"
   },
   {
    "duration": 953,
    "start_time": "2023-11-01T21:01:37.508Z"
   },
   {
    "duration": 6,
    "start_time": "2023-11-01T21:01:38.463Z"
   },
   {
    "duration": 18,
    "start_time": "2023-11-01T21:01:38.471Z"
   }
  ],
  "kernelspec": {
   "display_name": "Python 3 (ipykernel)",
   "language": "python",
   "name": "python3"
  },
  "language_info": {
   "codemirror_mode": {
    "name": "ipython",
    "version": 3
   },
   "file_extension": ".py",
   "mimetype": "text/x-python",
   "name": "python",
   "nbconvert_exporter": "python",
   "pygments_lexer": "ipython3",
   "version": "3.9.5"
  },
  "toc": {
   "base_numbering": 1,
   "nav_menu": {},
   "number_sections": true,
   "sideBar": true,
   "skip_h1_title": true,
   "title_cell": "Table of Contents",
   "title_sidebar": "Contents",
   "toc_cell": false,
   "toc_position": {},
   "toc_section_display": true,
   "toc_window_display": false
  }
 },
 "nbformat": 4,
 "nbformat_minor": 5
}
