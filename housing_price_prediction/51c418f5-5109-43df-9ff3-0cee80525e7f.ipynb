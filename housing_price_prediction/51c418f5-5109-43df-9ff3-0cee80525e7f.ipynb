{
 "cells": [
  {
   "cell_type": "markdown",
   "id": "3ca80ec7",
   "metadata": {},
   "source": [
    "# Проект: ML Предсказание стоимости жилья за 1990 год в Калифорнии, США"
   ]
  },
  {
   "cell_type": "markdown",
   "id": "GEqQaHzsZ_bA",
   "metadata": {
    "id": "GEqQaHzsZ_bA"
   },
   "source": [
    "## Описание проекта\n",
    "\n",
    "В проекте вам нужно обучить модель линейной регрессии на данных о жилье в Калифорнии в 1990 году. На основе данных нужно предсказать медианную стоимость дома в жилом массиве. Обучите модель и сделайте предсказания на тестовой выборке. Для оценки качества модели используйте метрики RMSE, MAE и R2."
   ]
  },
  {
   "cell_type": "markdown",
   "id": "ba41e41d",
   "metadata": {},
   "source": [
    "В колонках датасета содержатся следующие данные:\n",
    "* `longitude` — широта;\n",
    "* `latitude` — долгота;\n",
    "* `housing_median_age` — медианный возраст жителей жилого массива;\n",
    "* `total_rooms` — общее количество комнат в домах жилого массива;\n",
    "* `total_bedrooms` — общее количество спален в домах жилого массива;\n",
    "* `population` — количество человек, которые проживают в жилом массиве;\n",
    "* `households` — количество домовладений в жилом массиве;\n",
    "* `median_income` — медианный доход жителей жилого массива;\n",
    "* `median_house_value` — медианная стоимость дома в жилом массиве;\n",
    "* `ocean_proximity` — близость к океану."
   ]
  },
  {
   "cell_type": "markdown",
   "id": "41210c7d",
   "metadata": {},
   "source": [
    "### ЗАДАЧИ\n",
    "* На основе данных нужно предсказать медианную стоимость дома в жилом массиве — `median_house_value`. \n",
    "* Обучить модель и сделать предсказания на тестовой выборке. \n",
    "* Для оценки качества модели будем испольщовать метрики **RMSE**, **MAE** и **R2**."
   ]
  },
  {
   "cell_type": "markdown",
   "id": "4a6d33bd",
   "metadata": {},
   "source": [
    "### План проекта\n",
    "\n",
    "1. Инициализируем локальную Spark-сессию.\n",
    "2. Прочитаем содержимое файла `/datasets/housing.csv`.\n",
    "3. Выведем типы данных колонок датасета. Используем методы pySpark.\n",
    "4. Выполним предобработку данных:\n",
    "5. Исследуем данные на наличие пропусков и заполним их, выбрав значения по своему усмотрению.\n",
    "6. Преобразуем колонку с категориальными значениями техникой One hot encoding.\n",
    "7. Построим две модели линейной регрессии на разных наборах данных:\n",
    "  * используя все данные из файла;\n",
    "  * используя только числовые переменные, исключив категориальные.\n",
    "8. Для построения модели используем оценщик LinearRegression из библиотеки MLlib.\n",
    "9. Сравним результаты работы линейной регрессии на двух наборах данных по метрикам RMSE, MAE и R2.\n",
    "10. Общий вывод"
   ]
  },
  {
   "cell_type": "markdown",
   "id": "53871372",
   "metadata": {
    "id": "53871372"
   },
   "source": [
    "## Подготовка данных"
   ]
  },
  {
   "cell_type": "markdown",
   "id": "b2dd76b3",
   "metadata": {},
   "source": [
    "### Библиотеки и окружение"
   ]
  },
  {
   "cell_type": "code",
   "execution_count": 1,
   "id": "df92e3ec",
   "metadata": {
    "id": "df92e3ec"
   },
   "outputs": [],
   "source": [
    "import pandas as pd \n",
    "import numpy as np\n",
    "import seaborn as sns\n",
    "import matplotlib.pyplot as plt\n",
    "\n",
    "import phik\n",
    "from phik import resources, report\n",
    "\n",
    "import pyspark\n",
    "from pyspark import keyword_only\n",
    "\n",
    "from pyspark.sql import SparkSession, DataFrame\n",
    "from pyspark.sql.types import *\n",
    "from pyspark.sql.types import NumericType, FloatType, DoubleType\n",
    "import pyspark.sql.functions as F\n",
    "from pyspark.sql.functions import skewness, udf, col, log1p, expr\n",
    "\n",
    "from pyspark.ml.feature import StringIndexer, VectorAssembler, StandardScaler, OneHotEncoder, Imputer, SQLTransformer\n",
    "from pyspark.ml import Pipeline, Transformer\n",
    "from pyspark.ml.regression import LinearRegression\n",
    "from pyspark.ml.evaluation import RegressionEvaluator\n",
    "from pyspark.ml.param.shared import HasInputCols, HasOutputCol, Param, Params, TypeConverters\n"
   ]
  },
  {
   "cell_type": "markdown",
   "id": "a6098689",
   "metadata": {},
   "source": [
    "### Инициализация функций"
   ]
  },
  {
   "cell_type": "code",
   "execution_count": 2,
   "id": "79b3ba9d",
   "metadata": {},
   "outputs": [],
   "source": [
    "def plot_kde_numeric_features(df):\n",
    "    \"\"\"\n",
    "    Функция для создания графиков KDE для всех числовых переменных в DataFrame.\n",
    "    Параметры:\n",
    "        df (pyspark.sql.dataframe.DataFrame): DataFrame, для которого требуется создать графики.\n",
    "    \"\"\"\n",
    "    numeric_features = [f.name for f in df.schema.fields if isinstance(f.dataType, NumericType)]\n",
    "    \n",
    "    for feature in numeric_features:\n",
    "        # Собираем данные столбца\n",
    "        data = df.select(feature).na.drop().rdd.flatMap(lambda x: x).collect()\n",
    "        \n",
    "        # Создаем график KDE\n",
    "        plt.figure(figsize=(10, 6))\n",
    "        sns.kdeplot(data, shade=True, color=\"r\", alpha=0.5, linewidth=1.5)\n",
    "        plt.title(f'KDE для {feature}')\n",
    "        plt.xlabel(feature)\n",
    "        plt.ylabel('Плотность')\n",
    "        plt.grid(True)\n",
    "        plt.show()"
   ]
  },
  {
   "cell_type": "code",
   "execution_count": 3,
   "id": "340042f9",
   "metadata": {},
   "outputs": [],
   "source": [
    "def calculate_skewness(df: DataFrame):\n",
    "    \"\"\"\n",
    "    Функция для измерения асимметрии числовых столбцов в PySpark DataFrame.\n",
    "    \n",
    "    Параметры:\n",
    "    - df (DataFrame): PySpark DataFrame с числовыми столбцами для анализа.\n",
    "    \n",
    "    Возвращает:\n",
    "    - Список кортежей с именем столбца и его асимметрией.\n",
    "    \"\"\"\n",
    "    # Определение числовых столбцов\n",
    "    numeric_columns = [field.name for field in df.schema.fields if isinstance(field.dataType, NumericType)]\n",
    "    \n",
    "    # Список для хранения результатов\n",
    "    skewness_results = []\n",
    "    \n",
    "    for column in numeric_columns:\n",
    "        # Вычисление асимметрии для каждого числового столбца\n",
    "        skewness_value = df.select(skewness(df[column])).collect()[0][0]\n",
    "        \n",
    "        # Добавление результата в список\n",
    "        skewness_results.append((column, skewness_value))\n",
    "    \n",
    "    # Вывод результатов\n",
    "    for result in skewness_results:\n",
    "        print(f\"Skewness of {result[0]}: {result[1]}\")"
   ]
  },
  {
   "cell_type": "code",
   "execution_count": 4,
   "id": "9d0f175f",
   "metadata": {},
   "outputs": [],
   "source": [
    "#def create_correlation_heatmaps(df_spark):\n",
    "#    # Конвертация Spark DataFrame в Pandas DataFrame\n",
    "#    df_pandas = df_spark.toPandas()\n",
    "#    \n",
    "#    # Корреляция Pearson для непрерывных переменных\n",
    "#    plt.figure(figsize=(10, 8))\n",
    "#    plt.title('Pearson Correlation Matrix')\n",
    "#    sns.heatmap(df_pandas.corr(method='pearson'), annot=True, fmt=\".2f\", cmap='bwr')\n",
    "#    plt.show()\n",
    "#    \n",
    "#    # Корреляция phik для всех типов переменных, включая категориальные\n",
    "#    plt.figure(figsize=(10, 8))\n",
    "#    plt.title('Phik Correlation Matrix')\n",
    "#    phik_matrix = df_pandas.phik_matrix()\n",
    "#    sns.heatmap(phik_matrix, annot=True, fmt=\".2f\", cmap='seismic')\n",
    "#    plt.show()"
   ]
  },
  {
   "cell_type": "code",
   "execution_count": 5,
   "id": "6970dc98",
   "metadata": {},
   "outputs": [],
   "source": [
    "# def create_correlation_heatmaps(df_spark):\n",
    "#     # Конвертация Spark DataFrame в Pandas DataFrame\n",
    "#     df_pandas = df_spark.toPandas()\n",
    "#     \n",
    "#     # Корреляция Pearson для непрерывных переменных\n",
    "#     pearson_corr = df_pandas.corr(method='pearson')\n",
    "#     print(\"Pearson Correlation Matrix:\")\n",
    "#     print(pearson_corr)\n",
    "#     plt.figure(figsize=(10, 8))\n",
    "#     plt.title('Pearson Correlation Matrix')\n",
    "#     sns.heatmap(pearson_corr, annot=True, fmt=\".2f\", cmap='bwr')\n",
    "#     plt.show()\n",
    "#     \n",
    "#     # Корреляция phik для всех типов переменных, включая категориальные\n",
    "#     phik_matrix = df_pandas.phik_matrix( interval_cols = ['longitude', \n",
    "#                                                            'latitude', \n",
    "#                                                           'housing_median_age', \n",
    "#                                                           'total_rooms', \n",
    "#                                                           'total_bedrooms', \n",
    "#                                                           'population',\n",
    "#                                                           'households', \n",
    "#                                                           'median_income', \n",
    "#                                                           'median_house_value'])\n",
    "#    print(\"Phik Correlation Matrix:\")\n",
    "#    print(phik_matrix)\n",
    "#    plt.figure(figsize=(10, 8))\n",
    "#    plt.title('Phik Correlation Matrix')\n",
    "#    sns.heatmap(phik_matrix, annot=True, fmt=\".2f\", cmap='seismic')\n",
    "#    plt.show()"
   ]
  },
  {
   "cell_type": "code",
   "execution_count": 6,
   "id": "d04983ac",
   "metadata": {},
   "outputs": [],
   "source": [
    "# Функция для логарифмического преобразования столбцов\n",
    "def log_transform(df, columns):\n",
    "    for column in columns:\n",
    "        df = df.withColumn(column, log1p(df[column]))\n",
    "    return df"
   ]
  },
  {
   "cell_type": "code",
   "execution_count": 7,
   "id": "671d9c14",
   "metadata": {},
   "outputs": [],
   "source": [
    "def create_phik_heatmap(df_spark, sample_fraction=0.2):\n",
    "    \"\"\"\n",
    "    Создает тепловую карту корреляции PhiK для сэмплированных данных из Spark DataFrame.\n",
    "    \n",
    "    Аргументы:\n",
    "    df_spark (Spark DataFrame): Исходный DataFrame.\n",
    "    sample_fraction (float): Доля выборки для сэмплирования. По умолчанию 0.1.\n",
    "    \"\"\"\n",
    "    # Сэмплирование данных\n",
    "    sampled_df = df_spark.sample(fraction=sample_fraction).toPandas()\n",
    "    \n",
    "    # Вычисление матрицы корреляции PhiK\n",
    "    phik_matrix = sampled_df.phik_matrix()\n",
    "    \n",
    "    # Визуализация тепловой карты\n",
    "    plt.figure(figsize=(12, 10))\n",
    "    plt.title('PhiK Correlation Matrix (Sampled Data)')\n",
    "    sns.heatmap(phik_matrix, annot=True, fmt=\".2f\", cmap='viridis', vmin=-1, vmax=1)\n",
    "    plt.show()"
   ]
  },
  {
   "cell_type": "markdown",
   "id": "cefe4737",
   "metadata": {},
   "source": [
    "### Инициализация Spark"
   ]
  },
  {
   "cell_type": "code",
   "execution_count": 8,
   "id": "da8a2bf6",
   "metadata": {},
   "outputs": [],
   "source": [
    "# настройка параметров Spark-сессии\n",
    "spark = SparkSession.builder \\\n",
    "                    .master(\"local\") \\\n",
    "                    .appName(\"House pricing in California, USA\") \\\n",
    "                    .getOrCreate()"
   ]
  },
  {
   "cell_type": "code",
   "execution_count": 9,
   "id": "8ed46d90",
   "metadata": {},
   "outputs": [
    {
     "name": "stderr",
     "output_type": "stream",
     "text": [
      "[Stage 1:>                                                          (0 + 1) / 1]\r"
     ]
    },
    {
     "name": "stdout",
     "output_type": "stream",
     "text": [
      "root\n",
      " |-- longitude: double (nullable = true)\n",
      " |-- latitude: double (nullable = true)\n",
      " |-- housing_median_age: double (nullable = true)\n",
      " |-- total_rooms: double (nullable = true)\n",
      " |-- total_bedrooms: double (nullable = true)\n",
      " |-- population: double (nullable = true)\n",
      " |-- households: double (nullable = true)\n",
      " |-- median_income: double (nullable = true)\n",
      " |-- median_house_value: double (nullable = true)\n",
      " |-- ocean_proximity: string (nullable = true)\n",
      "\n"
     ]
    },
    {
     "name": "stderr",
     "output_type": "stream",
     "text": [
      "                                                                                \r"
     ]
    }
   ],
   "source": [
    "df = spark.read.load('/datasets/housing.csv', format='csv', sep=',', inferSchema=True, header='true')\n",
    "df.printSchema()"
   ]
  },
  {
   "cell_type": "code",
   "execution_count": 10,
   "id": "2ac006d6",
   "metadata": {},
   "outputs": [],
   "source": [
    "df_pipe = df.alias(\"df_pipe\")"
   ]
  },
  {
   "cell_type": "markdown",
   "id": "7805b640",
   "metadata": {},
   "source": [
    "### Обзор данных"
   ]
  },
  {
   "cell_type": "code",
   "execution_count": 11,
   "id": "cea811e5",
   "metadata": {},
   "outputs": [
    {
     "data": {
      "text/html": [
       "<div>\n",
       "<style scoped>\n",
       "    .dataframe tbody tr th:only-of-type {\n",
       "        vertical-align: middle;\n",
       "    }\n",
       "\n",
       "    .dataframe tbody tr th {\n",
       "        vertical-align: top;\n",
       "    }\n",
       "\n",
       "    .dataframe thead th {\n",
       "        text-align: right;\n",
       "    }\n",
       "</style>\n",
       "<table border=\"1\" class=\"dataframe\">\n",
       "  <thead>\n",
       "    <tr style=\"text-align: right;\">\n",
       "      <th></th>\n",
       "      <th>column</th>\n",
       "      <th>type</th>\n",
       "    </tr>\n",
       "  </thead>\n",
       "  <tbody>\n",
       "    <tr>\n",
       "      <th>0</th>\n",
       "      <td>longitude</td>\n",
       "      <td>double</td>\n",
       "    </tr>\n",
       "    <tr>\n",
       "      <th>1</th>\n",
       "      <td>latitude</td>\n",
       "      <td>double</td>\n",
       "    </tr>\n",
       "    <tr>\n",
       "      <th>2</th>\n",
       "      <td>housing_median_age</td>\n",
       "      <td>double</td>\n",
       "    </tr>\n",
       "    <tr>\n",
       "      <th>3</th>\n",
       "      <td>total_rooms</td>\n",
       "      <td>double</td>\n",
       "    </tr>\n",
       "    <tr>\n",
       "      <th>4</th>\n",
       "      <td>total_bedrooms</td>\n",
       "      <td>double</td>\n",
       "    </tr>\n",
       "    <tr>\n",
       "      <th>5</th>\n",
       "      <td>population</td>\n",
       "      <td>double</td>\n",
       "    </tr>\n",
       "    <tr>\n",
       "      <th>6</th>\n",
       "      <td>households</td>\n",
       "      <td>double</td>\n",
       "    </tr>\n",
       "    <tr>\n",
       "      <th>7</th>\n",
       "      <td>median_income</td>\n",
       "      <td>double</td>\n",
       "    </tr>\n",
       "    <tr>\n",
       "      <th>8</th>\n",
       "      <td>median_house_value</td>\n",
       "      <td>double</td>\n",
       "    </tr>\n",
       "    <tr>\n",
       "      <th>9</th>\n",
       "      <td>ocean_proximity</td>\n",
       "      <td>string</td>\n",
       "    </tr>\n",
       "  </tbody>\n",
       "</table>\n",
       "</div>"
      ],
      "text/plain": [
       "               column    type\n",
       "0           longitude  double\n",
       "1            latitude  double\n",
       "2  housing_median_age  double\n",
       "3         total_rooms  double\n",
       "4      total_bedrooms  double\n",
       "5          population  double\n",
       "6          households  double\n",
       "7       median_income  double\n",
       "8  median_house_value  double\n",
       "9     ocean_proximity  string"
      ]
     },
     "execution_count": 11,
     "metadata": {},
     "output_type": "execute_result"
    }
   ],
   "source": [
    "pd.DataFrame(df.dtypes, columns=['column', 'type'])"
   ]
  },
  {
   "cell_type": "code",
   "execution_count": 12,
   "id": "13a3c468",
   "metadata": {},
   "outputs": [
    {
     "name": "stdout",
     "output_type": "stream",
     "text": [
      "+---------+--------+------------------+-----------+--------------+----------+----------+-------------+------------------+---------------+\n",
      "|longitude|latitude|housing_median_age|total_rooms|total_bedrooms|population|households|median_income|median_house_value|ocean_proximity|\n",
      "+---------+--------+------------------+-----------+--------------+----------+----------+-------------+------------------+---------------+\n",
      "|  -122.23|   37.88|              41.0|      880.0|         129.0|     322.0|     126.0|       8.3252|          452600.0|       NEAR BAY|\n",
      "|  -122.22|   37.86|              21.0|     7099.0|        1106.0|    2401.0|    1138.0|       8.3014|          358500.0|       NEAR BAY|\n",
      "|  -122.24|   37.85|              52.0|     1467.0|         190.0|     496.0|     177.0|       7.2574|          352100.0|       NEAR BAY|\n",
      "|  -122.25|   37.85|              52.0|     1274.0|         235.0|     558.0|     219.0|       5.6431|          341300.0|       NEAR BAY|\n",
      "|  -122.25|   37.85|              52.0|     1627.0|         280.0|     565.0|     259.0|       3.8462|          342200.0|       NEAR BAY|\n",
      "|  -122.25|   37.85|              52.0|      919.0|         213.0|     413.0|     193.0|       4.0368|          269700.0|       NEAR BAY|\n",
      "|  -122.25|   37.84|              52.0|     2535.0|         489.0|    1094.0|     514.0|       3.6591|          299200.0|       NEAR BAY|\n",
      "|  -122.25|   37.84|              52.0|     3104.0|         687.0|    1157.0|     647.0|         3.12|          241400.0|       NEAR BAY|\n",
      "|  -122.26|   37.84|              42.0|     2555.0|         665.0|    1206.0|     595.0|       2.0804|          226700.0|       NEAR BAY|\n",
      "|  -122.25|   37.84|              52.0|     3549.0|         707.0|    1551.0|     714.0|       3.6912|          261100.0|       NEAR BAY|\n",
      "+---------+--------+------------------+-----------+--------------+----------+----------+-------------+------------------+---------------+\n",
      "only showing top 10 rows\n",
      "\n"
     ]
    }
   ],
   "source": [
    "df.show(10)"
   ]
  },
  {
   "cell_type": "code",
   "execution_count": 13,
   "id": "2c64b72d",
   "metadata": {},
   "outputs": [
    {
     "name": "stderr",
     "output_type": "stream",
     "text": [
      "                                                                                \r"
     ]
    },
    {
     "data": {
      "text/html": [
       "<div>\n",
       "<style scoped>\n",
       "    .dataframe tbody tr th:only-of-type {\n",
       "        vertical-align: middle;\n",
       "    }\n",
       "\n",
       "    .dataframe tbody tr th {\n",
       "        vertical-align: top;\n",
       "    }\n",
       "\n",
       "    .dataframe thead th {\n",
       "        text-align: right;\n",
       "    }\n",
       "</style>\n",
       "<table border=\"1\" class=\"dataframe\">\n",
       "  <thead>\n",
       "    <tr style=\"text-align: right;\">\n",
       "      <th></th>\n",
       "      <th>summary</th>\n",
       "      <th>housing_median_age</th>\n",
       "      <th>total_rooms</th>\n",
       "      <th>total_bedrooms</th>\n",
       "      <th>population</th>\n",
       "      <th>households</th>\n",
       "      <th>median_income</th>\n",
       "      <th>median_house_value</th>\n",
       "    </tr>\n",
       "  </thead>\n",
       "  <tbody>\n",
       "    <tr>\n",
       "      <th>0</th>\n",
       "      <td>count</td>\n",
       "      <td>20640.0000</td>\n",
       "      <td>20640.0000</td>\n",
       "      <td>20433.0000</td>\n",
       "      <td>20640.0000</td>\n",
       "      <td>20640.0000</td>\n",
       "      <td>20640.0000</td>\n",
       "      <td>20640.0000</td>\n",
       "    </tr>\n",
       "    <tr>\n",
       "      <th>1</th>\n",
       "      <td>mean</td>\n",
       "      <td>28.6395</td>\n",
       "      <td>2635.7631</td>\n",
       "      <td>537.8706</td>\n",
       "      <td>1425.4767</td>\n",
       "      <td>499.5397</td>\n",
       "      <td>3.8707</td>\n",
       "      <td>206855.8169</td>\n",
       "    </tr>\n",
       "    <tr>\n",
       "      <th>2</th>\n",
       "      <td>stddev</td>\n",
       "      <td>12.5856</td>\n",
       "      <td>2181.6153</td>\n",
       "      <td>421.3851</td>\n",
       "      <td>1132.4621</td>\n",
       "      <td>382.3298</td>\n",
       "      <td>1.8998</td>\n",
       "      <td>115395.6159</td>\n",
       "    </tr>\n",
       "    <tr>\n",
       "      <th>3</th>\n",
       "      <td>min</td>\n",
       "      <td>1.0000</td>\n",
       "      <td>2.0000</td>\n",
       "      <td>1.0000</td>\n",
       "      <td>3.0000</td>\n",
       "      <td>1.0000</td>\n",
       "      <td>0.4999</td>\n",
       "      <td>14999.0000</td>\n",
       "    </tr>\n",
       "    <tr>\n",
       "      <th>4</th>\n",
       "      <td>max</td>\n",
       "      <td>52.0000</td>\n",
       "      <td>39320.0000</td>\n",
       "      <td>6445.0000</td>\n",
       "      <td>35682.0000</td>\n",
       "      <td>6082.0000</td>\n",
       "      <td>15.0001</td>\n",
       "      <td>500001.0000</td>\n",
       "    </tr>\n",
       "  </tbody>\n",
       "</table>\n",
       "</div>"
      ],
      "text/plain": [
       "  summary  housing_median_age  total_rooms  total_bedrooms  population  \\\n",
       "0   count          20640.0000   20640.0000      20433.0000  20640.0000   \n",
       "1    mean             28.6395    2635.7631        537.8706   1425.4767   \n",
       "2  stddev             12.5856    2181.6153        421.3851   1132.4621   \n",
       "3     min              1.0000       2.0000          1.0000      3.0000   \n",
       "4     max             52.0000   39320.0000       6445.0000  35682.0000   \n",
       "\n",
       "   households  median_income  median_house_value  \n",
       "0  20640.0000     20640.0000          20640.0000  \n",
       "1    499.5397         3.8707         206855.8169  \n",
       "2    382.3298         1.8998         115395.6159  \n",
       "3      1.0000         0.4999          14999.0000  \n",
       "4   6082.0000        15.0001         500001.0000  "
      ]
     },
     "execution_count": 13,
     "metadata": {},
     "output_type": "execute_result"
    }
   ],
   "source": [
    "df.describe().select(\n",
    "    'summary',\n",
    "    F.round('housing_median_age',4).alias('housing_median_age'),\n",
    "    F.round('total_rooms',4).alias('total_rooms'),\n",
    "    F.round('total_bedrooms',4).alias('total_bedrooms'),\n",
    "    F.round('population',4).alias('population'),\n",
    "    F.round('households', 4).alias(\"households\"),\n",
    "    F.round('median_income', 4).alias(\"median_income\"),\n",
    "    F.round('median_house_value', 4).alias('median_house_value')\n",
    ").toPandas()"
   ]
  },
  {
   "cell_type": "markdown",
   "id": "3fb230bb",
   "metadata": {},
   "source": [
    "### Работа с пропусками"
   ]
  },
  {
   "cell_type": "code",
   "execution_count": 14,
   "id": "8ad7c8c7",
   "metadata": {
    "scrolled": true
   },
   "outputs": [
    {
     "name": "stdout",
     "output_type": "stream",
     "text": [
      "longitude 0\n",
      "latitude 0\n",
      "housing_median_age 0\n",
      "total_rooms 0\n",
      "total_bedrooms 207\n",
      "population 0\n",
      "households 0\n",
      "median_income 0\n",
      "median_house_value 0\n",
      "ocean_proximity 0\n"
     ]
    }
   ],
   "source": [
    "columns = df.columns\n",
    "for column in columns:\n",
    "    check_col = F.col(column).isNull()\n",
    "    print(column, df.filter(check_col).count())"
   ]
  },
  {
   "cell_type": "markdown",
   "id": "2fcedba9",
   "metadata": {},
   "source": [
    "`total_bedrooms` содержит 207 пропусков. Чтобы выбрать значения для заполнения, нужно посмотреть как распределяется переменная."
   ]
  },
  {
   "cell_type": "code",
   "execution_count": 15,
   "id": "90823e2d",
   "metadata": {},
   "outputs": [
    {
     "name": "stderr",
     "output_type": "stream",
     "text": [
      "                                                                                \r"
     ]
    },
    {
     "data": {
      "image/png": "[encoded data removed]",
      "text/plain": [
       "<Figure size 720x432 with 1 Axes>"
      ]
     },
     "metadata": {
      "needs_background": "light"
     },
     "output_type": "display_data"
    }
   ],
   "source": [
    "df_no_missing = df.na.drop(subset=[\"total_bedrooms\"])\n",
    "bedrooms_data = df_no_missing.select('total_bedrooms').rdd.flatMap(lambda x: x).collect()\n",
    "\n",
    "# Визуализация распределения\n",
    "plt.figure(figsize=(10, 6))\n",
    "plt.hist(bedrooms_data, bins=50, color='blue', alpha=0.7)\n",
    "plt.title('Распределение total_bedrooms')\n",
    "plt.xlabel('Total Bedrooms')\n",
    "plt.ylabel('Количество')\n",
    "plt.show()"
   ]
  },
  {
   "cell_type": "markdown",
   "id": "a4095b89",
   "metadata": {},
   "source": [
    "Распределение похоже на нормальное, но с длинным правым хвостом содержащим большое кол-во выбросов. \\\n",
    "Лучше заполнить пропуск медианой."
   ]
  },
  {
   "cell_type": "code",
   "execution_count": 16,
   "id": "9c0a0302",
   "metadata": {},
   "outputs": [],
   "source": [
    "# Создаем объект Imputer\n",
    "#imputer = Imputer(inputCols=['total_bedrooms'], \n",
    "#                  outputCols=['total_bedrooms'],\n",
    "#                  strategy='median')\n",
    "\n",
    "# Обучаем imputer на данных (рассчитываем медиану)\n",
    "# df = imputer.fit(df).transform(df)\n",
    "\n",
    "# Посмотрим на пропуски\n",
    "#for column in columns:\n",
    "#    check_col = F.col(column).isNull()\n",
    "#    print(column, df.filter(check_col).count())"
   ]
  },
  {
   "cell_type": "code",
   "execution_count": 17,
   "id": "f9f23eac",
   "metadata": {},
   "outputs": [
    {
     "name": "stdout",
     "output_type": "stream",
     "text": [
      "+--------------+\n",
      "|total_bedrooms|\n",
      "+--------------+\n",
      "|         129.0|\n",
      "|        1106.0|\n",
      "|         190.0|\n",
      "|         235.0|\n",
      "|         280.0|\n",
      "|         213.0|\n",
      "|         489.0|\n",
      "|         687.0|\n",
      "|         665.0|\n",
      "|         707.0|\n",
      "|         434.0|\n",
      "|         752.0|\n",
      "|         474.0|\n",
      "|         191.0|\n",
      "|         626.0|\n",
      "|         283.0|\n",
      "|         347.0|\n",
      "|         293.0|\n",
      "|         455.0|\n",
      "|         298.0|\n",
      "+--------------+\n",
      "only showing top 20 rows\n",
      "\n"
     ]
    }
   ],
   "source": [
    "# Вычисление медианы для 'total_bedrooms'\n",
    "median_value = df.agg(expr('percentile_approx(total_bedrooms, 0.5) as median')).collect()[0]['median']\n",
    "\n",
    "# Заполнение пропусков медианным значением\n",
    "df = df.na.fill({'total_bedrooms': median_value})\n",
    "\n",
    "# Показать результаты\n",
    "df.select('total_bedrooms').show(10)"
   ]
  },
  {
   "cell_type": "code",
   "execution_count": 18,
   "id": "08f55706",
   "metadata": {},
   "outputs": [
    {
     "name": "stdout",
     "output_type": "stream",
     "text": [
      "longitude 0\n",
      "latitude 0\n",
      "housing_median_age 0\n",
      "total_rooms 0\n",
      "total_bedrooms 0\n",
      "population 0\n",
      "households 0\n",
      "median_income 0\n",
      "median_house_value 0\n",
      "ocean_proximity 0\n"
     ]
    }
   ],
   "source": [
    "columns = df.columns\n",
    "for column in columns:\n",
    "    check_col = F.col(column).isNull()\n",
    "    print(column, df.filter(check_col).count())"
   ]
  },
  {
   "cell_type": "markdown",
   "id": "512f1a01",
   "metadata": {},
   "source": [
    "### Анализ данных"
   ]
  },
  {
   "cell_type": "markdown",
   "id": "308f693a",
   "metadata": {},
   "source": [
    "После заполнения пропусков, посмотрим, как распределяются числовые переменные."
   ]
  },
  {
   "cell_type": "code",
   "execution_count": 19,
   "id": "843abb99",
   "metadata": {},
   "outputs": [],
   "source": [
    "df_num = df[\"housing_median_age\",\n",
    "'total_rooms',\n",
    "'total_bedrooms',\n",
    "'population',\n",
    "'households',\n",
    "\"median_income\",\n",
    "\"median_house_value\"]\n"
   ]
  },
  {
   "cell_type": "code",
   "execution_count": 20,
   "id": "0fb5bb8c",
   "metadata": {},
   "outputs": [
    {
     "data": {
      "image/png": "[encoded data removed]",
      "text/plain": [
       "<Figure size 720x432 with 1 Axes>"
      ]
     },
     "metadata": {
      "needs_background": "light"
     },
     "output_type": "display_data"
    },
    {
     "data": {
      "image/png": "[encoded data removed]",
      "text/plain": [
       "<Figure size 720x432 with 1 Axes>"
      ]
     },
     "metadata": {
      "needs_background": "light"
     },
     "output_type": "display_data"
    },
    {
     "data": {
      "image/png": "[encoded data removed]",
      "text/plain": [
       "<Figure size 720x432 with 1 Axes>"
      ]
     },
     "metadata": {
      "needs_background": "light"
     },
     "output_type": "display_data"
    },
    {
     "data": {
      "image/png": "[encoded data removed]",
      "text/plain": [
       "<Figure size 720x432 with 1 Axes>"
      ]
     },
     "metadata": {
      "needs_background": "light"
     },
     "output_type": "display_data"
    },
    {
     "data": {
      "image/png": "[encoded data removed]",
      "text/plain": [
       "<Figure size 720x432 with 1 Axes>"
      ]
     },
     "metadata": {
      "needs_background": "light"
     },
     "output_type": "display_data"
    },
    {
     "data": {
      "image/png": "[encoded data removed]",
      "text/plain": [
       "<Figure size 720x432 with 1 Axes>"
      ]
     },
     "metadata": {
      "needs_background": "light"
     },
     "output_type": "display_data"
    },
    {
     "data": {
      "image/png": "[encoded data removed]",
      "text/plain": [
       "<Figure size 720x432 with 1 Axes>"
      ]
     },
     "metadata": {
      "needs_background": "light"
     },
     "output_type": "display_data"
    }
   ],
   "source": [
    "plot_kde_numeric_features(df_num)"
   ]
  },
  {
   "cell_type": "code",
   "execution_count": 21,
   "id": "e2e98537",
   "metadata": {},
   "outputs": [
    {
     "name": "stdout",
     "output_type": "stream",
     "text": [
      "Skewness of housing_median_age: 0.060326253016608676\n",
      "Skewness of total_rooms: 4.147042038773302\n",
      "Skewness of total_bedrooms: 3.480887868105646\n",
      "Skewness of population: 4.935499508858543\n",
      "Skewness of households: 3.410189855085662\n",
      "Skewness of median_income: 1.6465370299001063\n",
      "Skewness of median_house_value: 0.9776922140978437\n"
     ]
    }
   ],
   "source": [
    "calculate_skewness(df_num)"
   ]
  },
  {
   "cell_type": "markdown",
   "id": "c612daac",
   "metadata": {},
   "source": [
    "* У переменных `housing_median_age`, `median_house_value`, `median_income` показатель *Skewness* ближе всего к нормальному распределению.\n",
    "* `total_rooms`, `total_bedrooms`, `population`, `households` - распределение сильно смещено вправо, возможно попробовать логарифмическое преобразование."
   ]
  },
  {
   "cell_type": "markdown",
   "id": "88eea311",
   "metadata": {},
   "source": [
    "#### Рассмотрим категориальный признак."
   ]
  },
  {
   "cell_type": "code",
   "execution_count": 22,
   "id": "856353d4",
   "metadata": {},
   "outputs": [
    {
     "name": "stderr",
     "output_type": "stream",
     "text": [
      "                                                                                \r"
     ]
    },
    {
     "data": {
      "image/png": "[encoded data removed]",
      "text/plain": [
       "<Figure size 720x432 with 1 Axes>"
      ]
     },
     "metadata": {},
     "output_type": "display_data"
    }
   ],
   "source": [
    "# Разделение данных на категории и количество\n",
    "category_counts = df.groupBy(\"ocean_proximity\").count().collect()\n",
    "categories = [row[0] for row in category_counts]\n",
    "counts = [row[1] for row in category_counts]\n",
    "\n",
    "sns.set(style=\"whitegrid\")\n",
    "colors = sns.color_palette('pastel')[0:len(categories)]\n",
    "\n",
    "plt.figure(figsize=(10, 6))\n",
    "bars = plt.bar(categories, counts, color=colors)\n",
    "for bar in bars:\n",
    "    yval = bar.get_height()\n",
    "    plt.text(bar.get_x() + bar.get_width()/2, yval + 0.5, yval, ha='center', va='bottom')\n",
    "\n",
    "plt.xlabel('Ocean Proximity')\n",
    "plt.ylabel('Count')\n",
    "plt.title('Distribution of Ocean Proximity Categories')\n",
    "plt.xticks(rotation=50) \n",
    "plt.show()"
   ]
  },
  {
   "cell_type": "markdown",
   "id": "ada0e87b",
   "metadata": {},
   "source": [
    "* Большинство домохозяйств глубоко на суше либо в часе езды от океана."
   ]
  },
  {
   "cell_type": "markdown",
   "id": "d7fec691",
   "metadata": {},
   "source": [
    "#### Изучим корреляции в данных."
   ]
  },
  {
   "cell_type": "code",
   "execution_count": 23,
   "id": "dcde099a",
   "metadata": {},
   "outputs": [
    {
     "name": "stdout",
     "output_type": "stream",
     "text": [
      "interval columns not set, guessing: ['longitude', 'latitude', 'housing_median_age', 'total_rooms', 'total_bedrooms', 'population', 'households', 'median_income', 'median_house_value']\n"
     ]
    },
    {
     "data": {
      "image/png": "[encoded data removed]",
      "text/plain": [
       "<Figure size 864x720 with 2 Axes>"
      ]
     },
     "metadata": {},
     "output_type": "display_data"
    }
   ],
   "source": [
    "create_phik_heatmap(df, sample_fraction=0.2)"
   ]
  },
  {
   "cell_type": "code",
   "execution_count": 24,
   "id": "573b16e7",
   "metadata": {},
   "outputs": [
    {
     "data": {
      "text/plain": [
       "['longitude',\n",
       " 'latitude',\n",
       " 'housing_median_age',\n",
       " 'total_rooms',\n",
       " 'total_bedrooms',\n",
       " 'population',\n",
       " 'households',\n",
       " 'median_income',\n",
       " 'median_house_value',\n",
       " 'ocean_proximity']"
      ]
     },
     "execution_count": 24,
     "metadata": {},
     "output_type": "execute_result"
    }
   ],
   "source": [
    "df.columns"
   ]
  },
  {
   "cell_type": "markdown",
   "id": "3053c0bd",
   "metadata": {},
   "source": [
    "* Географическое положение: Корреляция между `longitude` и `latitude` отрицательная и очень сильная (-0.92), что говорит о том, что в этом географическом наборе данных широта и долгота меняются в противоположных направления\n",
    "* Размеры недвижимости: `total_rooms`, `total_bedrooms`, `population` и `households` имеют высокую положительную корреляцию друг с другом (от 0.87 до 0.97), что логично, поскольку больше комнат обычно означает больше спален, большее население и больше домохозяйств.\n",
    "* Доход: median_income имеет сильную положительную корреляцию с median_house_value (0.69), что является одним из самых значимых показателей в этом наборе данных. Это подразумевает, что доходы населения являются важным фактором в определении стоимости жилья.\n",
    "* Стоимость жилья: Наименьшая корреляция median_house_value наблюдается с population (-0.02), что может указывать на то, что размер населения не имеет прямого влияния на медианную стоимость жилья.\n",
    "* Географическая корреляция со стоимостью жилья: Интересно, что есть небольшая отрицательная корреляция между longitude и median_house_value (-0.046), а также между latitude и median_house_value (-0.144), что может отражать определенные региональные тенденции в стоимости недвижимости. \n",
    "* Далее попробуем исследовать и реализовать идею с географической зависимостью стоимости домовладения."
   ]
  },
  {
   "cell_type": "markdown",
   "id": "842ba8e3",
   "metadata": {},
   "source": [
    "Пока что из вида мы упускали пару количественных переменных - `longitude` и `latitude`. \\\n",
    "Попробуем найти зависимость координат (широты и долготы от среднего дохода домовладения)"
   ]
  },
  {
   "cell_type": "markdown",
   "id": "fc9f8d81",
   "metadata": {},
   "source": [
    "#### Разработаем новый признак"
   ]
  },
  {
   "cell_type": "code",
   "execution_count": 25,
   "id": "2b7be156",
   "metadata": {},
   "outputs": [
    {
     "name": "stdout",
     "output_type": "stream",
     "text": [
      "+---------+--------+------------------+-----------+--------------+----------+----------+-------------+------------------+---------------+\n",
      "|longitude|latitude|housing_median_age|total_rooms|total_bedrooms|population|households|median_income|median_house_value|ocean_proximity|\n",
      "+---------+--------+------------------+-----------+--------------+----------+----------+-------------+------------------+---------------+\n",
      "|  -122.23|   37.88|              41.0|      880.0|         129.0|     322.0|     126.0|       8.3252|          452600.0|       NEAR BAY|\n",
      "|  -122.22|   37.86|              21.0|     7099.0|        1106.0|    2401.0|    1138.0|       8.3014|          358500.0|       NEAR BAY|\n",
      "|  -122.24|   37.85|              52.0|     1467.0|         190.0|     496.0|     177.0|       7.2574|          352100.0|       NEAR BAY|\n",
      "|  -122.25|   37.85|              52.0|     1274.0|         235.0|     558.0|     219.0|       5.6431|          341300.0|       NEAR BAY|\n",
      "|  -122.25|   37.85|              52.0|     1627.0|         280.0|     565.0|     259.0|       3.8462|          342200.0|       NEAR BAY|\n",
      "+---------+--------+------------------+-----------+--------------+----------+----------+-------------+------------------+---------------+\n",
      "only showing top 5 rows\n",
      "\n"
     ]
    }
   ],
   "source": [
    "# Сохраним данные до каких-либо преобразований\n",
    "df_copy = df.alias(\"df_copy\")\n",
    "df_copy.show(5)"
   ]
  },
  {
   "cell_type": "code",
   "execution_count": 26,
   "id": "553c6143",
   "metadata": {},
   "outputs": [
    {
     "data": {
      "image/png": "[encoded data removed]",
      "text/plain": [
       "<Figure size 720x576 with 2 Axes>"
      ]
     },
     "metadata": {},
     "output_type": "display_data"
    }
   ],
   "source": [
    "# Сэмплирование небольшой части данных для визуализации\n",
    "sampled_df = df.sample(False, 0.1).collect()\n",
    "\n",
    "# Использование результатов для визуализации\n",
    "longitude = [row['longitude'] for row in sampled_df]\n",
    "latitude = [row['latitude'] for row in sampled_df]\n",
    "median_house_value = [row['median_house_value'] for row in sampled_df]\n",
    "\n",
    "plt.figure(figsize=(10, 8))\n",
    "plt.scatter(longitude, latitude, c=median_house_value, cmap='seismic', alpha=0.35)\n",
    "plt.colorbar(label='Median House Value')\n",
    "plt.xlabel('Longitude')\n",
    "plt.ylabel('Latitude')\n",
    "plt.title('House Value by Location (Sampled Data)')\n",
    "plt.show()"
   ]
  },
  {
   "cell_type": "markdown",
   "id": "de8aaf54",
   "metadata": {},
   "source": [
    "Наблюдаются две области \"высокой цены\":\n",
    "* Lat. : Long. : ~[37; -122.5] и ~[34; -118.5] - координаты на глаз.\n",
    "* Возможно, по этим координатам распологается скопление богатых домовладений, т.е дорогой район.\n",
    "* На вид наблюдается нелинейная связь координат с `median_house_value`.\n",
    "* Создадим новый признак, который будет отражать удаленность от от двух координат с высокими значениями `median_house_value`.\n",
    "* Оценивать удаленность будем с помошью формулы оценки Евклидова расстояния. "
   ]
  },
  {
   "cell_type": "code",
   "execution_count": 27,
   "id": "68bc7559",
   "metadata": {},
   "outputs": [],
   "source": [
    "rich_dist1 = [37, -122.5]\n",
    "rich_dist2 = [34, -118.5]"
   ]
  },
  {
   "cell_type": "code",
   "execution_count": 28,
   "id": "11728cac",
   "metadata": {},
   "outputs": [],
   "source": [
    "# Функция для вычисления Евклидова расстояния\n",
    "def calculate_euclid_dist(longitude, latitude, rich_dist1, rich_dist2):\n",
    "    dist1 = np.sqrt((rich_dist1[0]-latitude)**2 + (rich_dist1[1]-longitude)**2)\n",
    "    dist2 = np.sqrt((rich_dist2[0]-latitude)**2 + (rich_dist2[1]-longitude)**2)\n",
    "    return float(np.min([dist1, dist2]))\n",
    "\n",
    "# Регистрация UDF в Spark\n",
    "hotspot_distance_udf = udf(lambda lon, \n",
    "                           lat: calculate_euclid_dist(lon, \n",
    "                                                      lat, \n",
    "                                                      rich_dist1, \n",
    "                                                      rich_dist2), FloatType())\n",
    "\n",
    "# Добавление нового столбца с расстоянием до ближайшей точки\n",
    "df = df.withColumn('rich_dist', hotspot_distance_udf(df['longitude'], df['latitude']))"
   ]
  },
  {
   "cell_type": "code",
   "execution_count": 29,
   "id": "efc7d70e",
   "metadata": {},
   "outputs": [
    {
     "name": "stdout",
     "output_type": "stream",
     "text": [
      "+----------+\n",
      "| rich_dist|\n",
      "+----------+\n",
      "|  0.920489|\n",
      "|0.90443355|\n",
      "| 0.8888757|\n",
      "|0.88600224|\n",
      "|0.88600224|\n",
      "|0.88600224|\n",
      "|0.87641317|\n",
      "|0.87641317|\n",
      "| 0.8736132|\n",
      "|0.87641317|\n",
      "+----------+\n",
      "only showing top 10 rows\n",
      "\n"
     ]
    }
   ],
   "source": [
    "df.select('rich_dist').show(10)"
   ]
  },
  {
   "cell_type": "code",
   "execution_count": 30,
   "id": "d12206cc",
   "metadata": {},
   "outputs": [
    {
     "name": "stderr",
     "output_type": "stream",
     "text": [
      "[Stage 76:>                                                         (0 + 1) / 1]\r"
     ]
    },
    {
     "name": "stdout",
     "output_type": "stream",
     "text": [
      "Корреляция Пирсона между 'rich_dist' и 'median_house_value': -0.474528496233286\n"
     ]
    },
    {
     "name": "stderr",
     "output_type": "stream",
     "text": [
      "                                                                                \r"
     ]
    }
   ],
   "source": [
    "correlation = df.stat.corr(\"rich_dist\", \"median_house_value\")\n",
    "\n",
    "print(f\"Корреляция Пирсона между 'rich_dist' и 'median_house_value': {correlation}\")"
   ]
  },
  {
   "cell_type": "code",
   "execution_count": 31,
   "id": "85805427",
   "metadata": {},
   "outputs": [
    {
     "name": "stderr",
     "output_type": "stream",
     "text": [
      "                                                                                \r"
     ]
    },
    {
     "name": "stdout",
     "output_type": "stream",
     "text": [
      "interval columns not set, guessing: ['longitude', 'latitude', 'housing_median_age', 'total_rooms', 'total_bedrooms', 'population', 'households', 'median_income', 'median_house_value', 'rich_dist']\n"
     ]
    },
    {
     "data": {
      "image/png": "[encoded data removed]",
      "text/plain": [
       "<Figure size 864x720 with 2 Axes>"
      ]
     },
     "metadata": {},
     "output_type": "display_data"
    }
   ],
   "source": [
    "create_phik_heatmap(df, sample_fraction=0.2)"
   ]
  },
  {
   "cell_type": "markdown",
   "id": "0d99edca",
   "metadata": {},
   "source": [
    "* Новая переменная имеет хорошую корреляцию с target-признаком. \n",
    "* Создание нового признака, думаю, можно считать удачным."
   ]
  },
  {
   "cell_type": "markdown",
   "id": "3fd2f8fd",
   "metadata": {},
   "source": [
    "#### Логарифмическое преобразование"
   ]
  },
  {
   "cell_type": "markdown",
   "id": "947034d3",
   "metadata": {},
   "source": [
    "Попробуем взять логарифм от `total_rooms`, `total_bedrooms`, `population`, `households`. \\\n",
    "Посмотрим, как изменится распределение, разброс и корреляция."
   ]
  },
  {
   "cell_type": "code",
   "execution_count": 32,
   "id": "fbc446d5",
   "metadata": {},
   "outputs": [],
   "source": [
    "# Список столбцов для логарифмического преобразования\n",
    "columns_to_transform = ['total_rooms', 'total_bedrooms', 'population', 'households']\n",
    "\n",
    "# Применение преобразования\n",
    "df = log_transform(df, columns_to_transform)"
   ]
  },
  {
   "cell_type": "code",
   "execution_count": 33,
   "id": "2c856191",
   "metadata": {},
   "outputs": [
    {
     "name": "stdout",
     "output_type": "stream",
     "text": [
      "interval columns not set, guessing: ['longitude', 'latitude', 'housing_median_age', 'total_rooms', 'total_bedrooms', 'population', 'households', 'median_income', 'median_house_value', 'rich_dist']\n"
     ]
    },
    {
     "data": {
      "image/png": "[encoded data removed]",
      "text/plain": [
       "<Figure size 864x720 with 2 Axes>"
      ]
     },
     "metadata": {},
     "output_type": "display_data"
    }
   ],
   "source": [
    "create_phik_heatmap(df, sample_fraction=0.2)"
   ]
  },
  {
   "cell_type": "code",
   "execution_count": 34,
   "id": "7b05b012",
   "metadata": {
    "scrolled": true
   },
   "outputs": [
    {
     "data": {
      "image/png": "[encoded data removed]",
      "text/plain": [
       "<Figure size 720x432 with 1 Axes>"
      ]
     },
     "metadata": {},
     "output_type": "display_data"
    },
    {
     "data": {
      "image/png": "[encoded data removed]",
      "text/plain": [
       "<Figure size 720x432 with 1 Axes>"
      ]
     },
     "metadata": {},
     "output_type": "display_data"
    },
    {
     "data": {
      "image/png": "[encoded data removed]",
      "text/plain": [
       "<Figure size 720x432 with 1 Axes>"
      ]
     },
     "metadata": {},
     "output_type": "display_data"
    },
    {
     "data": {
      "image/png": "[encoded data removed]",
      "text/plain": [
       "<Figure size 720x432 with 1 Axes>"
      ]
     },
     "metadata": {},
     "output_type": "display_data"
    }
   ],
   "source": [
    "df_num = df['total_rooms',\n",
    "'total_bedrooms',\n",
    "'population',\n",
    "'households']\n",
    "plot_kde_numeric_features(df_num)"
   ]
  },
  {
   "cell_type": "code",
   "execution_count": 35,
   "id": "9c471ae0",
   "metadata": {},
   "outputs": [
    {
     "name": "stdout",
     "output_type": "stream",
     "text": [
      "Skewness of longitude: -0.29777956498585917\n",
      "Skewness of latitude: 0.4659191401627141\n",
      "Skewness of housing_median_age: 0.060326253016608676\n",
      "Skewness of total_rooms: -1.075454519042874\n",
      "Skewness of total_bedrooms: -0.9986955264951644\n",
      "Skewness of population: -1.044010816226511\n",
      "Skewness of households: -1.0515310016250505\n",
      "Skewness of median_income: 1.6465370299001063\n",
      "Skewness of median_house_value: 0.9776922140978437\n",
      "Skewness of rich_dist: 1.1366714652834615\n"
     ]
    }
   ],
   "source": [
    "calculate_skewness(df)"
   ]
  },
  {
   "cell_type": "markdown",
   "id": "baf18ec0",
   "metadata": {},
   "source": [
    "* Сущесивенно уменьшилось смещение и разброс данных. \n",
    "* Распределение случайной величины в переменной стало напоминать нормальное.\n",
    "* Логарифмическое преобразование можно считать удачным."
   ]
  },
  {
   "cell_type": "code",
   "execution_count": 36,
   "id": "d2ac5546",
   "metadata": {
    "collapsed": true
   },
   "outputs": [
    {
     "name": "stdout",
     "output_type": "stream",
     "text": [
      "+---------+--------+------------------+------------------+------------------+------------------+------------------+-------------+------------------+---------------+----------+\n",
      "|longitude|latitude|housing_median_age|       total_rooms|    total_bedrooms|        population|        households|median_income|median_house_value|ocean_proximity| rich_dist|\n",
      "+---------+--------+------------------+------------------+------------------+------------------+------------------+-------------+------------------+---------------+----------+\n",
      "|  -122.23|   37.88|              41.0|  6.78105762593618| 4.867534450455582| 5.777652323222656| 4.844187086458591|       8.3252|          452600.0|       NEAR BAY|  0.920489|\n",
      "|  -122.22|   37.86|              21.0| 8.867850063029406| 7.009408932708637| 7.784057002639929| 7.037905963447182|       8.3014|          358500.0|       NEAR BAY|0.90443355|\n",
      "|  -122.24|   37.85|              52.0| 7.291656209174461|  5.25227342804663| 6.208590026096629| 5.181783550292085|       7.2574|          352100.0|       NEAR BAY| 0.8888757|\n",
      "|  -122.25|   37.85|              52.0| 7.150701457592526|5.4638318050256105| 6.326149473155099| 5.393627546352361|       5.6431|          341300.0|       NEAR BAY|0.88600224|\n",
      "|  -122.25|   37.85|              52.0| 7.395107546562485| 5.638354669333745| 6.338594078203183| 5.560681631015528|       3.8462|          342200.0|       NEAR BAY|0.88600224|\n",
      "|  -122.25|   37.85|              52.0| 6.824373670043086| 5.365976015021851| 6.025865973825314| 5.267858159063328|       4.0368|          269700.0|       NEAR BAY|0.88600224|\n",
      "|  -122.25|   37.84|              52.0|7.8383433155571165| 6.194405391104672|6.9985096422506015| 6.244166900663736|       3.6591|          299200.0|       NEAR BAY|0.87641317|\n",
      "|  -122.25|   37.84|              52.0| 8.040768994367578|6.5337888379333435|  7.05444965813294| 6.473890696352274|         3.12|          241400.0|       NEAR BAY|0.87641317|\n",
      "|  -122.26|   37.84|              42.0| 7.846198815497425| 6.501289670540389| 7.095893221097532|  6.39024066706535|       2.0804|          226700.0|       NEAR BAY| 0.8736132|\n",
      "|  -122.25|   37.84|              52.0| 8.174702882469461|  6.56244409369372| 7.347299700743164|6.5722825426940075|       3.6912|          261100.0|       NEAR BAY|0.87641317|\n",
      "|  -122.26|   37.85|              52.0| 7.697575346802343| 6.075346031088684| 6.814542897259958| 5.998936561946683|       3.2031|          281500.0|       NEAR BAY| 0.8832327|\n",
      "|  -122.26|   37.85|              52.0| 8.161660452056282|6.6240652277998935| 7.316548177182976|6.5998704992128365|       3.2705|          241800.0|       NEAR BAY| 0.8832327|\n",
      "|  -122.26|   37.85|              52.0| 7.820840879907344| 6.163314804034641| 7.002155954403621| 6.150602768446279|        3.075|          213500.0|       NEAR BAY| 0.8832327|\n",
      "|  -122.26|   37.84|              52.0| 6.546785410760524|5.2574953720277815| 5.846438775057724|5.1647859739235145|       2.6736|          191300.0|       NEAR BAY| 0.8736132|\n",
      "|  -122.26|   37.85|              52.0| 7.880048200971577| 6.440946540632921|  7.10085190894405| 6.431331081933479|       1.9167|          159200.0|       NEAR BAY| 0.8832327|\n",
      "|  -122.26|   37.85|              50.0|  7.02197642307216| 5.648974238161206| 6.548219102762372| 5.579729825986222|        2.125|          140000.0|       NEAR BAY| 0.8832327|\n",
      "|  -122.27|   37.85|              52.0| 7.584264818389059|5.8522024797744745| 6.677083461247136| 5.805134968916488|        2.775|          152500.0|       NEAR BAY|  0.880568|\n",
      "|  -122.27|   37.85|              52.0| 7.113956109566034| 5.683579767338681|  6.47543271670409| 5.717027701406222|       2.1202|          155500.0|       NEAR BAY|  0.880568|\n",
      "|  -122.26|   37.84|              50.0|7.7142311448490855|6.1224928095143865| 6.898714534329988| 6.040254711277414|       1.9911|          158700.0|       NEAR BAY| 0.8736132|\n",
      "|  -122.27|   37.84|              52.0| 7.315883504509785| 5.700443573390686|  6.53813982376767|  5.62040086571715|       2.6033|          162900.0|       NEAR BAY|0.87091905|\n",
      "+---------+--------+------------------+------------------+------------------+------------------+------------------+-------------+------------------+---------------+----------+\n",
      "only showing top 20 rows\n",
      "\n"
     ]
    }
   ],
   "source": [
    "df.show()\n"
   ]
  },
  {
   "cell_type": "markdown",
   "id": "9f0a82f3",
   "metadata": {
    "id": "9f0a82f3"
   },
   "source": [
    "## Обучение моделей"
   ]
  },
  {
   "cell_type": "markdown",
   "id": "9c9ee891",
   "metadata": {},
   "source": [
    "### Преобразование данных для ML"
   ]
  },
  {
   "cell_type": "markdown",
   "id": "91f64f19",
   "metadata": {},
   "source": [
    "#### OHE-кодирование"
   ]
  },
  {
   "cell_type": "code",
   "execution_count": 37,
   "id": "75983621",
   "metadata": {},
   "outputs": [],
   "source": [
    "# Инициализация StringIndexer для преобразования категориального признака в числовые индексы\n",
    "#string_indexer = StringIndexer(inputCol=\"ocean_proximity\", outputCol=\"ocean_proximity_indexed\")\n",
    "\n",
    "# Инициализация OneHotEncoder для преобразования числовых индексов в вектор OHE\n",
    "#onehot_encoder = OneHotEncoder(inputCols=[\"ocean_proximity_indexed\"], outputCols=[\"ocean_proximity_ohe\"])\n",
    "\n",
    "# Создание Pipeline для применения преобразований\n",
    "#pipeline = Pipeline(stages=[string_indexer, onehot_encoder])\n",
    "\n",
    "# Обучение модели и преобразование данных\n",
    "#model = pipeline.fit(df)\n",
    "#df_transformed = model.transform(df)\n",
    "#df_pandas = df_transformed.toPandas()\n",
    "#print(df_pandas)"
   ]
  },
  {
   "cell_type": "code",
   "execution_count": 38,
   "id": "bddb08c4",
   "metadata": {
    "id": "bddb08c4"
   },
   "outputs": [],
   "source": [
    "#df_transformed.printSchema()"
   ]
  },
  {
   "cell_type": "code",
   "execution_count": 39,
   "id": "c980b80a",
   "metadata": {},
   "outputs": [],
   "source": [
    "#cat_feature = ['ocean_proximity_ohe']\n",
    "#target = ['median_house_value']\n",
    "#num_features = ['longitude', \n",
    "#                'latitude', \n",
    " #               'housing_median_age', \n",
    "  #              'total_rooms', \n",
    "   #             'total_bedrooms', \n",
    "    #            'population',\n",
    "     #           'households',\n",
    "      #          'median_income',\n",
    "       #         'rich_dist']"
   ]
  },
  {
   "cell_type": "markdown",
   "id": "8b76d378",
   "metadata": {},
   "source": [
    "#### Масштабирование"
   ]
  },
  {
   "cell_type": "code",
   "execution_count": 40,
   "id": "e133669f",
   "metadata": {},
   "outputs": [],
   "source": [
    "# Создание вектора признаков\n",
    "#assembler = VectorAssembler(inputCols=num_features, outputCol=\"features_vector\")\n",
    "\n",
    "# Преобразование данных\n",
    "#df_vector = assembler.transform(df_transformed)\n",
    "\n",
    "# Инициализация StandardScaler\n",
    "#scaler = StandardScaler(inputCol=\"features_vector\", outputCol=\"scaled_features\", withStd=True, withMean=True)\n",
    "\n",
    "# Обучение StandardScaler и преобразование данных\n",
    "#scaler_model = scaler.fit(df_vector)\n",
    "#df_scaled = scaler_model.transform(df_vector)\n",
    "#features = ['features_vector']\n",
    "\n",
    "#df_pandas = df_scaled.toPandas()\n",
    "#print(df_pandas)"
   ]
  },
  {
   "cell_type": "code",
   "execution_count": 41,
   "id": "5aa3cc1f",
   "metadata": {},
   "outputs": [],
   "source": [
    "#df_final = df_scaled.select(\"median_house_value\", \"ocean_proximity_ohe\",  \"features_vector\")\n",
    "\n",
    "#all_features = ['ocean_proximity_ohe', 'features_vector']\n",
    "\n",
    "#df_final.show()"
   ]
  },
  {
   "cell_type": "code",
   "execution_count": 42,
   "id": "575b8bcc",
   "metadata": {},
   "outputs": [],
   "source": [
    "# Инициализация VectorAssembler\n",
    "#assembler = VectorAssembler(inputCols=[\"ocean_proximity_ohe\", \n",
    "#                                       \"features_vector\"], outputCol=\"combined_features\")\n",
    "\n",
    "# Преобразование df_final для создания нового векторного столбца\n",
    "#df_final = assembler.transform(df_final)\n",
    "#df_final = df_final.select(\"median_house_value\", \n",
    "#                           \"ocean_proximity_ohe\", \n",
    "#                           \"features_vector\", \n",
    "#                           \"combined_features\")\n",
    "\n",
    "# Показываем результат\n",
    "#df_final.show()"
   ]
  },
  {
   "cell_type": "markdown",
   "id": "6747db0b",
   "metadata": {},
   "source": [
    "### Построение моделей Линейной регресии"
   ]
  },
  {
   "cell_type": "markdown",
   "id": "a2b6a3fa",
   "metadata": {},
   "source": [
    "Построим и сравним 3 модели:\n",
    "* Модель после разработки новых признаков со всеми признаками\n",
    "* Модель после разработки новых признаков только с числовыми признаками\n",
    "* Модель до разработки новых признаков со всеми признаками"
   ]
  },
  {
   "cell_type": "markdown",
   "id": "955d8f56",
   "metadata": {},
   "source": [
    "* median_house_value - таргет-признак\n",
    "* ocean_proximity_ohe - закодированый категориальный признак\n",
    "* features_vector - вектор признаков без категориального признака\n",
    "* combined_features - вектор ВСЕХ признаков."
   ]
  },
  {
   "cell_type": "markdown",
   "id": "2b4c5ec4",
   "metadata": {},
   "source": [
    "<font color='purple'><b>Комментарий студента:</b></font> \n",
    "\n",
    "<font color='darkblue'> Изменим часть с созданием моделей, выполним построение через пайплайны</b></font>"
   ]
  },
  {
   "cell_type": "code",
   "execution_count": 44,
   "id": "233b8cca",
   "metadata": {
    "scrolled": true
   },
   "outputs": [
    {
     "data": {
      "text/html": [
       "<div>\n",
       "<style scoped>\n",
       "    .dataframe tbody tr th:only-of-type {\n",
       "        vertical-align: middle;\n",
       "    }\n",
       "\n",
       "    .dataframe tbody tr th {\n",
       "        vertical-align: top;\n",
       "    }\n",
       "\n",
       "    .dataframe thead th {\n",
       "        text-align: right;\n",
       "    }\n",
       "</style>\n",
       "<table border=\"1\" class=\"dataframe\">\n",
       "  <thead>\n",
       "    <tr style=\"text-align: right;\">\n",
       "      <th></th>\n",
       "      <th>column</th>\n",
       "      <th>type</th>\n",
       "    </tr>\n",
       "  </thead>\n",
       "  <tbody>\n",
       "    <tr>\n",
       "      <th>0</th>\n",
       "      <td>longitude</td>\n",
       "      <td>double</td>\n",
       "    </tr>\n",
       "    <tr>\n",
       "      <th>1</th>\n",
       "      <td>latitude</td>\n",
       "      <td>double</td>\n",
       "    </tr>\n",
       "    <tr>\n",
       "      <th>2</th>\n",
       "      <td>housing_median_age</td>\n",
       "      <td>double</td>\n",
       "    </tr>\n",
       "    <tr>\n",
       "      <th>3</th>\n",
       "      <td>total_rooms</td>\n",
       "      <td>double</td>\n",
       "    </tr>\n",
       "    <tr>\n",
       "      <th>4</th>\n",
       "      <td>total_bedrooms</td>\n",
       "      <td>double</td>\n",
       "    </tr>\n",
       "    <tr>\n",
       "      <th>5</th>\n",
       "      <td>population</td>\n",
       "      <td>double</td>\n",
       "    </tr>\n",
       "    <tr>\n",
       "      <th>6</th>\n",
       "      <td>households</td>\n",
       "      <td>double</td>\n",
       "    </tr>\n",
       "    <tr>\n",
       "      <th>7</th>\n",
       "      <td>median_income</td>\n",
       "      <td>double</td>\n",
       "    </tr>\n",
       "    <tr>\n",
       "      <th>8</th>\n",
       "      <td>median_house_value</td>\n",
       "      <td>double</td>\n",
       "    </tr>\n",
       "    <tr>\n",
       "      <th>9</th>\n",
       "      <td>ocean_proximity</td>\n",
       "      <td>string</td>\n",
       "    </tr>\n",
       "  </tbody>\n",
       "</table>\n",
       "</div>"
      ],
      "text/plain": [
       "               column    type\n",
       "0           longitude  double\n",
       "1            latitude  double\n",
       "2  housing_median_age  double\n",
       "3         total_rooms  double\n",
       "4      total_bedrooms  double\n",
       "5          population  double\n",
       "6          households  double\n",
       "7       median_income  double\n",
       "8  median_house_value  double\n",
       "9     ocean_proximity  string"
      ]
     },
     "execution_count": 44,
     "metadata": {},
     "output_type": "execute_result"
    }
   ],
   "source": [
    "pd.DataFrame(df_pipe.dtypes, columns=['column', 'type'])"
   ]
  },
  {
   "cell_type": "code",
   "execution_count": 45,
   "id": "84629e72",
   "metadata": {},
   "outputs": [
    {
     "name": "stdout",
     "output_type": "stream",
     "text": [
      "longitude 0\n",
      "latitude 0\n",
      "housing_median_age 0\n",
      "total_rooms 0\n",
      "total_bedrooms 207\n",
      "population 0\n",
      "households 0\n",
      "median_income 0\n",
      "median_house_value 0\n",
      "ocean_proximity 0\n"
     ]
    }
   ],
   "source": [
    "columns = df_pipe.columns\n",
    "for column in columns:\n",
    "    check_col = F.col(column).isNull()\n",
    "    print(column, df_pipe.filter(check_col).count())"
   ]
  },
  {
   "cell_type": "code",
   "execution_count": 46,
   "id": "04e77594",
   "metadata": {},
   "outputs": [],
   "source": [
    "# Разделение набора данных на обучающий и тестовый\n",
    "train_data, test_data = df_pipe.randomSplit([0.8, 0.2], seed=12345)"
   ]
  },
  {
   "cell_type": "code",
   "execution_count": 47,
   "id": "a711919b",
   "metadata": {},
   "outputs": [],
   "source": [
    "# Определение числовых и категориальных столбцов\n",
    "num_features = ['longitude', \n",
    "                'latitude', \n",
    "               'housing_median_age', \n",
    "                'total_rooms', \n",
    "                'total_bedrooms', \n",
    "                'population',\n",
    "                'households',\n",
    "                'median_income']\n",
    "cat_features = ['ocean_proximity']\n",
    "target = ['median_house_value']\n",
    "\n",
    "# Шаги пайплайна: \n",
    "# Шаг 1: Заполнение пропусков в числовых переменных медианой\n",
    "imputer = Imputer(inputCols=num_features, outputCols=[f\"{col}_imputed\" for col in num_features], strategy=\"median\")\n",
    "\n",
    "# Шаг 2: Масштабирование числовых переменных\n",
    "scaler = StandardScaler(inputCol=\"num_features_vector\", outputCol=\"scaled_features\")\n",
    "\n",
    "# Шаг 3: Кодирование категориальных переменных с помощью OHE\n",
    "string_indexer = StringIndexer(inputCol=\"ocean_proximity\", outputCol=\"cat_indexed\")\n",
    "onehot_encoder = OneHotEncoder(inputCols=[\"cat_indexed\"], outputCols=[\"cat_ohe\"])\n",
    "\n",
    "# Векторизация числовых признаков для масштабирования\n",
    "assembler_num = VectorAssembler(inputCols=[f\"{col}_imputed\" for col in num_features], outputCol=\"num_features_vector\")\n",
    "\n",
    "# Векторизация всех признаков для модели\n",
    "assembler_final = VectorAssembler(inputCols=[\"scaled_features\", \"cat_ohe\"], outputCol=\"features\")\n",
    "\n",
    "lr = LinearRegression(featuresCol=\"features\", labelCol=\"median_house_value\")\n",
    "\n",
    "\n",
    "# Создание пайплайна\n",
    "pipeline_1 = Pipeline(stages=[imputer, assembler_num, scaler, string_indexer, onehot_encoder, assembler_final, lr])"
   ]
  },
  {
   "cell_type": "code",
   "execution_count": 48,
   "id": "c2d87dac",
   "metadata": {},
   "outputs": [],
   "source": [
    "# Регистрация UDF для логарифмического преобразования\n",
    "log_udf = udf(lambda x: np.log(x + 1), FloatType())\n",
    "\n",
    "# Функция для вычисления Евклидова расстояния\n",
    "def calculate_euclid_dist(longitude, latitude):\n",
    "    rich_dist1 = [37, -122.5]\n",
    "    rich_dist2 = [34, -118.5]\n",
    "    dist1 = np.sqrt((rich_dist1[0]-latitude)**2 + (rich_dist1[1]-longitude)**2)\n",
    "    dist2 = np.sqrt((rich_dist2[0]-latitude)**2 + (rich_dist2[1]-longitude)**2)\n",
    "    return float(np.min([dist1, dist2]))\n",
    "\n",
    "# Регистрация UDF в Spark\n",
    "hotspot_distance_udf = udf(lambda lon, \n",
    "                           lat: calculate_euclid_dist(lon, \n",
    "                                                      lat, \n",
    "                                                      FloatType()))"
   ]
  },
  {
   "cell_type": "code",
   "execution_count": 49,
   "id": "cbb49ad0",
   "metadata": {},
   "outputs": [],
   "source": [
    "class EuclidDistanceTransformer(Transformer, HasInputCols, HasOutputCol):\n",
    "    \"\"\"\n",
    "   1. EuclidDistanceTransformer - пользовательзовательский трансформер для PySpark, наследуемым от базового класса Transformer и интерфейсов HasInputCols и HasOutputCol, что позволяет ему интегрироваться в механизм пайплайнов MLlib PySpark.\n",
    "   \n",
    "   2. Метод __init__ инициализирует экземпляр трансформера. В нем вызывается конструктор базового класса и устанавливаются параметры, переданные в трансформер. \n",
    "   Параметры inputCols и outputCol указывают на входные колонки (в данном случае широту и долготу) и выходную колонку (расстояние до ближайшей \"богатой\" точки), соответственно.\n",
    "   \n",
    "   3. Метод setParams позволяет задать параметры трансформера через вызов метода с ключевыми аргументами. \n",
    "   Это позволяет удобно изменять параметры после инициализации объекта.\n",
    "   \n",
    "   4. Метод _transform определяет, как трансформер изменяет входной DataFrame. \n",
    "   Он добавляет к DataFrame новую колонку, которая рассчитывается с помощью заранее определенной и зарегистрированной UDF calculate_euclid_dist_udf, примененной к столбцам, указанным в inputCols. \n",
    "   Этот метод использует метод withColumn DataFrame API PySpark для добавления или изменения колонки в DataFrame.\n",
    "  \n",
    "  !!! ВАЖНО!!!  \n",
    "   calculate_euclid_dist_udf должна быть определена и зарегистрирована как UDF вне класса трансформера. \n",
    "   Эта UDF принимает два аргумента (широту и долготу) и возвращает расстояние до ближайшей \"богатой\" точки, используя функцию calculate_euclid_dist.\n",
    "    \n",
    "    Метод __init__ и init, а также super(EuclidDistanceTransformer, self).__init__() и super(EuclidDistanceTransformer, self).init() используют двойные подчеркивания (`__init__`), так как это правильное определение специальных методов в Python.\n",
    "    \"\"\"  \n",
    "    \n",
    "    @keyword_only\n",
    "    def __init__(self, inputCols=None, outputCol=None):\n",
    "        super(EuclidDistanceTransformer, self).__init__()\n",
    "        kwargs = self._input_kwargs\n",
    "        self.setParams(**kwargs)\n",
    "    \n",
    "    @keyword_only\n",
    "    def setParams(self, inputCols=None, outputCol=None):\n",
    "        kwargs = self._input_kwargs\n",
    "        return self._set(**kwargs)\n",
    "    \n",
    "    def _transform(self, dataset):\n",
    "        # Главное не забыть, чтобы calculate_euclid_dist уже зарегистрирована как UDF\n",
    "        return dataset.withColumn(self.getOutputCol(), calculate_euclid_dist_udf(col(self.getInputCols()[0]), col(self.getInputCols()[1])))\n",
    "\n",
    "# Регистрация UDF на основе функции calculate_euclid_dist\n",
    "calculate_euclid_dist_udf = udf(calculate_euclid_dist, DoubleType())\n"
   ]
  },
  {
   "cell_type": "code",
   "execution_count": 50,
   "id": "adddd1ec",
   "metadata": {
    "scrolled": false
   },
   "outputs": [],
   "source": [
    "num_features = ['longitude', \n",
    "                'latitude', \n",
    "               'housing_median_age', \n",
    "                'median_income'] \n",
    "log_features =  ['total_rooms', 'total_bedrooms', 'population', 'households']\n",
    "cat_features = ['ocean_proximity'] \n",
    "rich_feature = ['rich_dist']\n",
    "\n",
    "# Шаги пайплайна: \n",
    "\n",
    "# Определение Imputer для заполнения пропусков медианными значениями в log_features\n",
    "imputer = Imputer(inputCols=log_features, outputCols=[f\"{col}_imputed\" for col in log_features], strategy=\"median\")\n",
    "\n",
    "# Создание SQLTransformer для логарифмического преобразования\n",
    "sqlExpr = [\"log({0}_imputed + 1) as log_{0}\".format(feature) for feature in log_features]\n",
    "sqlTransformer = SQLTransformer(statement=\"SELECT *, \" + \", \".join(sqlExpr) + \" FROM __THIS__\")\n",
    "\n",
    "\n",
    "# Создание экземпляра вашего трансформера\n",
    "euclidDistTransformer = EuclidDistanceTransformer(inputCols=[\"longitude\", \"latitude\"], outputCol=\"rich_dist\")\n",
    "\n",
    "\n",
    "# Создание VectorAssembler для масштабирования всех числовых признаков, включая логарифмически преобразованные\n",
    "assembler = VectorAssembler(inputCols=num_features + [f\"log_{feature}\" for feature in log_features] + rich_feature, outputCol=\"features_vec\")\n",
    " \n",
    "# Масштабирование всех признаков\n",
    "scaler = StandardScaler(inputCol=\"features_vec\", outputCol=\"scaled_features\")\n",
    "\n",
    "# Создание и применение StringIndexer и OneHotEncoder для категориальных признаков\n",
    "stringIndexer = StringIndexer(inputCol=\"ocean_proximity\", outputCol=\"ocean_proximity_indexed\")\n",
    "oneHotEncoder = OneHotEncoder(inputCols=[\"ocean_proximity_indexed\"], outputCols=[\"ocean_proximity_ohe\"])\n",
    "\n",
    "# Финальный VectorAssembler для объединения масштабированных признаков и OHE категориальных признаков\n",
    "finalAssembler = VectorAssembler(inputCols=[\"scaled_features\", \"ocean_proximity_ohe\"], outputCol=\"final_features\")\n",
    "\n",
    "lr = LinearRegression(featuresCol=\"final_features\", labelCol=\"median_house_value\")\n",
    "\n",
    "# Как же я лююлю Трасформары и ассемблеры ! Вот они все слева направо - \n",
    "\n",
    "bts_pipeline = Pipeline(stages=[imputer, # Намджун\n",
    "                              sqlTransformer, # Чонгук\n",
    "                              euclidDistTransformer, # Чингачгук\n",
    "                              assembler, \n",
    "                              scaler, # ...\n",
    "                              stringIndexer, \n",
    "                              oneHotEncoder, # Гойко Митич\n",
    "                              finalAssembler, \n",
    "                              lr])"
   ]
  },
  {
   "cell_type": "code",
   "execution_count": 51,
   "id": "f15e8185",
   "metadata": {},
   "outputs": [],
   "source": [
    "# Шаги пайплайна: \n",
    "\n",
    "# Определение Imputer для заполнения пропусков медианными значениями в log_features\n",
    "imputer = Imputer(inputCols=log_features, outputCols=[f\"{col}_imputed\" for col in log_features], strategy=\"median\")\n",
    "\n",
    "# Создание SQLTransformer для логарифмического преобразования\n",
    "sqlExpr = [\"log({0}_imputed + 1) as log_{0}\".format(feature) for feature in log_features]\n",
    "sqlTransformer = SQLTransformer(statement=\"SELECT *, \" + \", \".join(sqlExpr) + \" FROM __THIS__\")\n",
    "\n",
    "\n",
    "# Создание экземпляра вашего трансформера\n",
    "euclidDistTransformer = EuclidDistanceTransformer(inputCols=[\"longitude\", \"latitude\"], outputCol=\"rich_dist\")\n",
    "\n",
    "\n",
    "# Создание VectorAssembler для масштабирования всех числовых признаков, включая логарифмически преобразованные\n",
    "assembler = VectorAssembler(inputCols=num_features + [f\"log_{feature}\" for feature in log_features] + rich_feature, outputCol=\"features_vec\")\n",
    " \n",
    "# Масштабирование всех признаков\n",
    "scaler = StandardScaler(inputCol=\"features_vec\", outputCol=\"scaled_features\")\n",
    "\n",
    "\n",
    "\n",
    "# Финальный VectorAssembler для объединения масштабированных признаков и OHE категориальных признаков\n",
    "finalAssembler = VectorAssembler(inputCols=[\"scaled_features\"], outputCol=\"final_features\")\n",
    "\n",
    "lr = LinearRegression(featuresCol=\"final_features\", labelCol=\"median_house_value\")\n",
    "\n",
    "# BTS но неполным составом...\n",
    "\n",
    "no_bts_pipeline = Pipeline(stages=[imputer, # Намджун\n",
    "                              sqlTransformer, # Чонгук\n",
    "                              euclidDistTransformer, # Чингачгук\n",
    "                              assembler, \n",
    "                              scaler,\n",
    "                              finalAssembler, \n",
    "                              lr])"
   ]
  },
  {
   "cell_type": "code",
   "execution_count": 52,
   "id": "a40a7e06",
   "metadata": {
    "scrolled": false
   },
   "outputs": [
    {
     "name": "stderr",
     "output_type": "stream",
     "text": [
      "24/02/16 12:35:05 WARN Instrumentation: [300dc49f] regParam is zero, which might cause numerical instability and overfitting.\n",
      "24/02/16 12:35:05 WARN BLAS: Failed to load implementation from: com.github.fommil.netlib.NativeSystemBLAS\n",
      "24/02/16 12:35:05 WARN BLAS: Failed to load implementation from: com.github.fommil.netlib.NativeRefBLAS\n",
      "24/02/16 12:35:06 WARN LAPACK: Failed to load implementation from: com.github.fommil.netlib.NativeSystemLAPACK\n",
      "24/02/16 12:35:06 WARN LAPACK: Failed to load implementation from: com.github.fommil.netlib.NativeRefLAPACK\n",
      "                                                                                \r"
     ]
    }
   ],
   "source": [
    "model_1 = pipeline_1.fit(train_data)\n",
    "predictions_1 = model_1.transform(test_data)"
   ]
  },
  {
   "cell_type": "code",
   "execution_count": 53,
   "id": "e7817d8e",
   "metadata": {
    "scrolled": true
   },
   "outputs": [
    {
     "name": "stderr",
     "output_type": "stream",
     "text": [
      "24/02/16 12:35:12 WARN Instrumentation: [f598098c] regParam is zero, which might cause numerical instability and overfitting.\n",
      "                                                                                \r"
     ]
    }
   ],
   "source": [
    "model_2 = bts_pipeline.fit(train_data)\n",
    "predictions_2 = model_2.transform(test_data)"
   ]
  },
  {
   "cell_type": "code",
   "execution_count": 54,
   "id": "48d773d4",
   "metadata": {},
   "outputs": [
    {
     "name": "stderr",
     "output_type": "stream",
     "text": [
      "24/02/16 12:35:17 WARN Instrumentation: [75cd1412] regParam is zero, which might cause numerical instability and overfitting.\n",
      "                                                                                \r"
     ]
    }
   ],
   "source": [
    "model_3 = no_bts_pipeline.fit(train_data)\n",
    "predictions_3 = model_3.transform(test_data)"
   ]
  },
  {
   "cell_type": "code",
   "execution_count": 55,
   "id": "3a9ec0ca",
   "metadata": {},
   "outputs": [
    {
     "name": "stdout",
     "output_type": "stream",
     "text": [
      "Модель 1:\n",
      "  RMSE: 67710.87612723716\n",
      "  MAE: 49104.64439816546\n",
      "  R^2: 0.658833848537691\n",
      "\n",
      "Модель 2:\n",
      "  RMSE: 64313.81305680815\n",
      "  MAE: 46613.89334236302\n",
      "  R^2: 0.6922078156584819\n",
      "\n",
      "Модель 3:\n",
      "  RMSE: 65245.12943707232\n",
      "  MAE: 47555.72209778754\n",
      "  R^2: 0.6832291105949324\n",
      "\n"
     ]
    }
   ],
   "source": [
    "# Предполагаем, что predictions_1, predictions_2, predictions_3 уже существуют\n",
    "predictions_list = [predictions_1, predictions_2, predictions_3]\n",
    "models_names = [\"Модель 1\", \"Модель 2\", \"Модель 3\"]\n",
    "\n",
    "# Инициализация оценщиков\n",
    "evaluatorRMSE = RegressionEvaluator(labelCol=\"median_house_value\", predictionCol=\"prediction\", metricName=\"rmse\")\n",
    "evaluatorMAE = RegressionEvaluator(labelCol=\"median_house_value\", predictionCol=\"prediction\", metricName=\"mae\")\n",
    "evaluatorR2 = RegressionEvaluator(labelCol=\"median_house_value\", predictionCol=\"prediction\", metricName=\"r2\")\n",
    "\n",
    "# Цикл для вычисления и вывода метрик для каждой модели\n",
    "for predictions, name in zip(predictions_list, models_names):\n",
    "    rmse = evaluatorRMSE.evaluate(predictions)\n",
    "    mae = evaluatorMAE.evaluate(predictions)\n",
    "    r2 = evaluatorR2.evaluate(predictions)\n",
    "    \n",
    "    print(f\"{name}:\")\n",
    "    print(f\"  RMSE: {rmse}\")\n",
    "    print(f\"  MAE: {mae}\")\n",
    "    print(f\"  R^2: {r2}\\n\")"
   ]
  },
  {
   "cell_type": "markdown",
   "id": "5c23ce45",
   "metadata": {},
   "source": [
    "### Построим модель без создания нового признака и без логарифмических преобразований"
   ]
  },
  {
   "cell_type": "code",
   "execution_count": 56,
   "id": "3b2306c8",
   "metadata": {},
   "outputs": [],
   "source": [
    "# Список числовых признаков\n",
    "#num_features = ['longitude', 'latitude', 'housing_median_age', 'total_rooms', \n",
    "#                'total_bedrooms', 'population', 'households', 'median_income']\n",
    "\n",
    "# Шаг 1: Кодирование категориального признака 'ocean_proximity'\n",
    "#string_indexer = StringIndexer(inputCol=\"ocean_proximity\", outputCol=\"ocean_proximity_indexed\")\n",
    "#onehot_encoder = OneHotEncoder(inputCols=[\"ocean_proximity_indexed\"], outputCols=[\"ocean_proximity_ohe\"])\n",
    "\n",
    "# Шаг 2: Векторизация числовых признаков\n",
    "#assembler_num = VectorAssembler(inputCols=num_features, outputCol=\"features_vector\")\n",
    "\n",
    "# Шаг 3: Масштабирование векторизованных числовых признаков\n",
    "#scaler = StandardScaler(inputCol=\"features_vector\", outputCol=\"scaled_features_vector\", withStd=True, withMean=True)\n",
    "\n",
    "# Шаг 4: Объединение вектора с числовыми признаками и вектора с OHE в один вектор\n",
    "#assembler_final = VectorAssembler(inputCols=[\"ocean_proximity_ohe\", \"scaled_features_vector\"], outputCol=\"final_features_vector\")\n",
    "\n",
    "# Создание Pipeline\n",
    "#pipeline = Pipeline(stages=[string_indexer, onehot_encoder, assembler_num, scaler, assembler_final])\n",
    "\n",
    "# Обучение Pipeline и преобразование df_copy\n",
    "#model = pipeline.fit(df_copy)\n",
    "#df_transformed2 = model.transform(df_copy)\n",
    "\n",
    "# Выборка только необходимых столбцов для финального DataFrame\n",
    "#df_final2 = df_transformed2.select(\"median_house_value\", \"final_features_vector\")\n",
    "\n",
    "# Показываем результат\n",
    "#df_final2.show()"
   ]
  },
  {
   "cell_type": "code",
   "execution_count": 57,
   "id": "2fbbc0bf",
   "metadata": {},
   "outputs": [],
   "source": [
    "spark.stop()"
   ]
  },
  {
   "cell_type": "markdown",
   "id": "757fd103",
   "metadata": {
    "id": "757fd103"
   },
   "source": [
    "## Анализ результатов"
   ]
  },
  {
   "cell_type": "markdown",
   "id": "e90aca15",
   "metadata": {},
   "source": [
    "1. Модель 2 со всеми признаками после обработки данных:\n",
    "  *   RMSE: 64313.81305680815\n",
    "  *   MAE: 46613.89334236302\n",
    "  *   R^2: 0.6922078156584819\n",
    "\n",
    "2. Модель 3 с числовыми переменными после обработки данных (исключая категориальные признаки):\n",
    "  *   RMSE: 65245.12943707232\n",
    "  *   MAE: 47555.72209778754\n",
    "  *   R^2: 0.6832291105949324\n",
    "\n",
    "3. Модель 1 без обработки со всеми признаками (без логарифмического преобразования и нового синтетического признака):\n",
    "  *  RMSE: 67710.87612723716\n",
    "  *  MAE: 49104.64439816546\n",
    "  *  R^2: 0.658833848537691\n",
    "\n",
    "\n",
    "### Результат работы моделей:\n",
    "\n",
    "- **Улучшение метрик**: Модель, включающая все обработанные признаки, показывает лучшие результаты по сравнению с моделью, в которой использовались только числовые переменные после обработки, а также по сравнению с моделью без предварительной обработки данных. Это указывает на то, что логарифмическое преобразование числовых признаков и введение нового признака, основанного на удаленности от районов с высокой стоимостью жилья, действительно способствуют улучшению качества модели.\n",
    "\n",
    "- **Важность категориальных признаков**: Включение обработанного категориального признака ocean_proximity через OHE в первую модель улучшило метрики по сравнению со второй моделью, где этот признак был исключен. Это подтверждает ценность категориальных данных при построении моделей машинного обучения.\n",
    "\n",
    "- **Повышение R2**: Коэффициент детерминации (R2), наивысший у модели со всеми обработанными признаками, указывает на лучшее объяснение вариативности целевой переменной по сравнению с другими моделями. Это свидетельствует о том, что модель способна объяснить большую часть изменчивости цены на жилье.\n",
    "\n",
    "- **Снижение RMSE и MAE**: Модель со всеми обработанными признаками показала наименьшие значения ошибок RMSE и MAE, что говорит о более точных предсказаниях цены на жилье.\n",
    "\n",
    "### Общий вывод:\n",
    "**В рамках проекта были пройдены следующие этапы:**\n",
    "1. **Преобразование и анализ данных**: Были выполнены различные преобразования данных, включая кодирование категориальных признаков и масштабирование числовых данных. Это подчеркивает значимость правильной предобработки признаков перед использованием их в моделях машинного обучения.\n",
    "2. **Векторизация признаков**: Применение техник векторизации, таких как One Hot Encoding и сборка признаков в векторы с помощью VectorAssembler, позволило эффективно подготовить данные для обучения модели.\n",
    "3. **Построение моделей линейной регрессии**: Были построены и оценены модели линейной регрессии на разных наборах признаков, что демонстрирует важность выбора и обработки признаков для достижения наилучшей производительности модели.\n",
    "4. **Оценка моделей**: Использование метрик RMSE, MAE и R^2 для оценки качества моделей подчеркнуло важность комплексного подхода к оценке моделей машинного обучения.\n",
    "5. **Анализ результатов**: Сравнение моделей показало, что предварительная обработка данных, включая логарифмическое преобразование и введение синтетических признаков, способствует улучшению показателей модели. Особенно это заметно на примере улучшения метрик для модели со всеми обработанными признаками по сравнению с моделью без предобработки данных и моделью, использующей только числовые признаки.\n",
    "\n",
    "Этот анализ подчеркивает значимость тщательной предобработки и анализа данных перед построением моделей машинного обучения. Использование PySpark позволяет эффективно обрабатывать большие объемы данных, применяя сложные преобразования и аналитические методы. Результаты моделирования показывают, что интеграция качественной предобработки данных, включая обработку категориальных и числовых признаков, влияет на точность и качество предсказаний моделей. Это подтверждает необходимость комплексного подхода к анализу данных, включая инженерию признаков и тщательный выбор моделей и их параметров, для достижения наилучших результатов в машинном обучении."
   ]
  }
 ],
 "metadata": {
  "ExecuteTimeLog": [
   {
    "duration": 725,
    "start_time": "2024-02-13T11:23:16.813Z"
   },
   {
    "duration": 599,
    "start_time": "2024-02-13T11:23:25.070Z"
   },
   {
    "duration": 14606,
    "start_time": "2024-02-13T11:23:40.547Z"
   },
   {
    "duration": 7519,
    "start_time": "2024-02-13T11:24:31.429Z"
   },
   {
    "duration": 52,
    "start_time": "2024-02-13T12:09:57.330Z"
   },
   {
    "duration": 682,
    "start_time": "2024-02-13T12:13:10.547Z"
   },
   {
    "duration": 4,
    "start_time": "2024-02-13T12:13:12.319Z"
   },
   {
    "duration": 800,
    "start_time": "2024-02-13T12:13:14.836Z"
   },
   {
    "duration": 11,
    "start_time": "2024-02-13T12:13:17.858Z"
   },
   {
    "duration": 2,
    "start_time": "2024-02-13T12:16:17.189Z"
   },
   {
    "duration": 67,
    "start_time": "2024-02-13T12:17:35.474Z"
   },
   {
    "duration": 3950,
    "start_time": "2024-02-13T12:27:50.686Z"
   },
   {
    "duration": 7,
    "start_time": "2024-02-13T12:28:49.017Z"
   },
   {
    "duration": 105,
    "start_time": "2024-02-13T12:29:02.792Z"
   },
   {
    "duration": 276,
    "start_time": "2024-02-13T12:29:08.062Z"
   },
   {
    "duration": 1015,
    "start_time": "2024-02-13T12:29:53.133Z"
   },
   {
    "duration": 758,
    "start_time": "2024-02-13T12:29:58.173Z"
   },
   {
    "duration": 1632,
    "start_time": "2024-02-13T12:34:18.802Z"
   },
   {
    "duration": 147,
    "start_time": "2024-02-13T12:34:56.607Z"
   },
   {
    "duration": 28,
    "start_time": "2024-02-13T12:37:19.443Z"
   },
   {
    "duration": 8904,
    "start_time": "2024-02-13T12:37:28.135Z"
   },
   {
    "duration": 17,
    "start_time": "2024-02-13T14:17:02.962Z"
   },
   {
    "duration": 15,
    "start_time": "2024-02-13T14:17:15.397Z"
   },
   {
    "duration": 2969,
    "start_time": "2024-02-13T14:17:22.373Z"
   },
   {
    "duration": 1912,
    "start_time": "2024-02-13T14:17:41.206Z"
   },
   {
    "duration": 123,
    "start_time": "2024-02-13T14:19:32.503Z"
   },
   {
    "duration": 90,
    "start_time": "2024-02-13T14:19:42.571Z"
   },
   {
    "duration": 2161,
    "start_time": "2024-02-14T09:14:26.826Z"
   },
   {
    "duration": 1673,
    "start_time": "2024-02-14T09:14:34.218Z"
   },
   {
    "duration": 1176,
    "start_time": "2024-02-14T09:14:44.049Z"
   },
   {
    "duration": 15001,
    "start_time": "2024-02-14T09:14:45.227Z"
   },
   {
    "duration": 0,
    "start_time": "2024-02-14T09:15:29.069Z"
   },
   {
    "duration": 4,
    "start_time": "2024-02-14T09:15:30.139Z"
   },
   {
    "duration": 488,
    "start_time": "2024-02-14T09:15:32.561Z"
   },
   {
    "duration": 13,
    "start_time": "2024-02-14T09:15:34.098Z"
   },
   {
    "duration": 198,
    "start_time": "2024-02-14T09:15:36.627Z"
   },
   {
    "duration": 1147,
    "start_time": "2024-02-14T09:15:39.203Z"
   },
   {
    "duration": 1958,
    "start_time": "2024-02-14T09:15:42.291Z"
   },
   {
    "duration": 24,
    "start_time": "2024-02-14T09:15:44.964Z"
   },
   {
    "duration": 5824,
    "start_time": "2024-02-14T09:15:47.747Z"
   },
   {
    "duration": 1789,
    "start_time": "2024-02-14T09:18:10.850Z"
   },
   {
    "duration": 4,
    "start_time": "2024-02-14T09:39:45.220Z"
   },
   {
    "duration": 11,
    "start_time": "2024-02-14T09:40:03.089Z"
   },
   {
    "duration": 9,
    "start_time": "2024-02-14T09:40:09.384Z"
   },
   {
    "duration": 1682,
    "start_time": "2024-02-14T09:40:56.829Z"
   },
   {
    "duration": 1515,
    "start_time": "2024-02-14T09:46:17.405Z"
   },
   {
    "duration": 2196,
    "start_time": "2024-02-14T09:46:35.333Z"
   },
   {
    "duration": 2335,
    "start_time": "2024-02-14T09:46:57.409Z"
   },
   {
    "duration": 72,
    "start_time": "2024-02-14T09:48:50.163Z"
   },
   {
    "duration": 93,
    "start_time": "2024-02-14T09:48:53.580Z"
   },
   {
    "duration": 2102,
    "start_time": "2024-02-14T09:50:38.562Z"
   },
   {
    "duration": 1141,
    "start_time": "2024-02-14T09:50:51.529Z"
   },
   {
    "duration": 1125,
    "start_time": "2024-02-14T09:51:32.013Z"
   },
   {
    "duration": 6,
    "start_time": "2024-02-14T09:53:13.253Z"
   },
   {
    "duration": 6063,
    "start_time": "2024-02-14T09:53:20.530Z"
   },
   {
    "duration": 84,
    "start_time": "2024-02-14T09:54:42.308Z"
   },
   {
    "duration": 65,
    "start_time": "2024-02-14T09:54:47.931Z"
   },
   {
    "duration": 3487,
    "start_time": "2024-02-14T09:55:01.636Z"
   },
   {
    "duration": 4330,
    "start_time": "2024-02-14T09:58:01.583Z"
   },
   {
    "duration": 4598,
    "start_time": "2024-02-14T09:58:14.624Z"
   },
   {
    "duration": 4669,
    "start_time": "2024-02-14T09:58:29.540Z"
   },
   {
    "duration": 8062,
    "start_time": "2024-02-14T09:58:41.160Z"
   },
   {
    "duration": 4218,
    "start_time": "2024-02-14T09:58:54.325Z"
   },
   {
    "duration": 5,
    "start_time": "2024-02-14T10:00:45.363Z"
   },
   {
    "duration": 4325,
    "start_time": "2024-02-14T10:01:24.488Z"
   },
   {
    "duration": 5,
    "start_time": "2024-02-14T10:07:50.240Z"
   },
   {
    "duration": 15,
    "start_time": "2024-02-14T10:08:18.632Z"
   },
   {
    "duration": 4271,
    "start_time": "2024-02-14T10:08:24.540Z"
   },
   {
    "duration": 3970,
    "start_time": "2024-02-14T10:08:36.333Z"
   },
   {
    "duration": 4,
    "start_time": "2024-02-14T10:10:02.487Z"
   },
   {
    "duration": 4,
    "start_time": "2024-02-14T10:10:05.070Z"
   },
   {
    "duration": 16,
    "start_time": "2024-02-14T10:10:09.770Z"
   },
   {
    "duration": 3876,
    "start_time": "2024-02-14T10:10:11.290Z"
   },
   {
    "duration": 1578,
    "start_time": "2024-02-14T10:17:02.843Z"
   },
   {
    "duration": 1624,
    "start_time": "2024-02-14T10:17:23.099Z"
   },
   {
    "duration": 2013,
    "start_time": "2024-02-14T10:17:43.905Z"
   },
   {
    "duration": 1262,
    "start_time": "2024-02-14T10:23:07.123Z"
   },
   {
    "duration": 1788,
    "start_time": "2024-02-14T10:23:47.829Z"
   },
   {
    "duration": 1198,
    "start_time": "2024-02-14T10:24:06.121Z"
   },
   {
    "duration": 6,
    "start_time": "2024-02-14T10:24:08.073Z"
   },
   {
    "duration": 4,
    "start_time": "2024-02-14T10:24:08.745Z"
   },
   {
    "duration": 14808,
    "start_time": "2024-02-14T10:24:09.648Z"
   },
   {
    "duration": 8094,
    "start_time": "2024-02-14T10:24:24.458Z"
   },
   {
    "duration": 37,
    "start_time": "2024-02-14T10:24:35.674Z"
   },
   {
    "duration": 516,
    "start_time": "2024-02-14T10:24:37.029Z"
   },
   {
    "duration": 3849,
    "start_time": "2024-02-14T10:24:40.005Z"
   },
   {
    "duration": 1368,
    "start_time": "2024-02-14T10:25:26.090Z"
   },
   {
    "duration": 3685,
    "start_time": "2024-02-14T10:25:29.633Z"
   },
   {
    "duration": 108,
    "start_time": "2024-02-14T10:25:35.230Z"
   },
   {
    "duration": 1389,
    "start_time": "2024-02-14T10:25:47.959Z"
   },
   {
    "duration": 4009,
    "start_time": "2024-02-14T10:25:53.238Z"
   },
   {
    "duration": 2285,
    "start_time": "2024-02-14T10:26:22.467Z"
   },
   {
    "duration": 2053,
    "start_time": "2024-02-14T10:26:29.699Z"
   },
   {
    "duration": 19,
    "start_time": "2024-02-14T10:26:43.023Z"
   },
   {
    "duration": 4731,
    "start_time": "2024-02-14T10:26:46.031Z"
   },
   {
    "duration": 2460,
    "start_time": "2024-02-14T10:26:53.704Z"
   },
   {
    "duration": 1371,
    "start_time": "2024-02-14T10:27:19.524Z"
   },
   {
    "duration": 1520,
    "start_time": "2024-02-14T11:36:16.017Z"
   },
   {
    "duration": 3113,
    "start_time": "2024-02-14T11:46:26.658Z"
   },
   {
    "duration": 160,
    "start_time": "2024-02-14T12:00:09.316Z"
   },
   {
    "duration": 2286,
    "start_time": "2024-02-14T12:00:43.216Z"
   },
   {
    "duration": 91,
    "start_time": "2024-02-14T12:04:22.436Z"
   },
   {
    "duration": 107,
    "start_time": "2024-02-14T12:06:46.555Z"
   },
   {
    "duration": 3216,
    "start_time": "2024-02-14T12:06:57.051Z"
   },
   {
    "duration": 2908,
    "start_time": "2024-02-14T12:07:04.876Z"
   },
   {
    "duration": 2628,
    "start_time": "2024-02-14T12:08:52.754Z"
   },
   {
    "duration": 2624,
    "start_time": "2024-02-14T12:09:41.463Z"
   },
   {
    "duration": 558,
    "start_time": "2024-02-14T12:14:04.108Z"
   },
   {
    "duration": 4563,
    "start_time": "2024-02-14T12:14:26.469Z"
   },
   {
    "duration": 47,
    "start_time": "2024-02-14T12:14:39.833Z"
   },
   {
    "duration": 448,
    "start_time": "2024-02-14T12:14:46.482Z"
   },
   {
    "duration": 34,
    "start_time": "2024-02-14T12:14:50.978Z"
   },
   {
    "duration": 480,
    "start_time": "2024-02-14T12:15:09.943Z"
   },
   {
    "duration": 2841,
    "start_time": "2024-02-14T12:15:29.975Z"
   },
   {
    "duration": 12,
    "start_time": "2024-02-14T12:35:02.254Z"
   },
   {
    "duration": 4,
    "start_time": "2024-02-14T12:38:02.954Z"
   },
   {
    "duration": 84,
    "start_time": "2024-02-14T12:38:29.295Z"
   },
   {
    "duration": 816,
    "start_time": "2024-02-14T12:39:45.065Z"
   },
   {
    "duration": 882,
    "start_time": "2024-02-14T12:40:23.785Z"
   },
   {
    "duration": 765,
    "start_time": "2024-02-14T12:40:53.593Z"
   },
   {
    "duration": 821,
    "start_time": "2024-02-14T12:41:01.855Z"
   },
   {
    "duration": 831,
    "start_time": "2024-02-14T12:41:07.045Z"
   },
   {
    "duration": 781,
    "start_time": "2024-02-14T12:41:15.214Z"
   },
   {
    "duration": 1061,
    "start_time": "2024-02-14T12:41:27.798Z"
   },
   {
    "duration": 752,
    "start_time": "2024-02-14T12:41:31.930Z"
   },
   {
    "duration": 74,
    "start_time": "2024-02-14T12:46:18.928Z"
   },
   {
    "duration": 105,
    "start_time": "2024-02-14T13:03:07.402Z"
   },
   {
    "duration": 12,
    "start_time": "2024-02-14T13:04:09.107Z"
   },
   {
    "duration": 22,
    "start_time": "2024-02-14T13:05:01.668Z"
   },
   {
    "duration": 119,
    "start_time": "2024-02-14T13:05:07.619Z"
   },
   {
    "duration": 902,
    "start_time": "2024-02-14T13:05:17.868Z"
   },
   {
    "duration": 137,
    "start_time": "2024-02-14T13:06:52.650Z"
   },
   {
    "duration": 48,
    "start_time": "2024-02-14T13:06:59.850Z"
   },
   {
    "duration": 293,
    "start_time": "2024-02-14T13:07:26.973Z"
   },
   {
    "duration": 7,
    "start_time": "2024-02-14T13:08:18.539Z"
   },
   {
    "duration": 411,
    "start_time": "2024-02-14T13:08:23.571Z"
   },
   {
    "duration": 337,
    "start_time": "2024-02-14T13:08:29.591Z"
   },
   {
    "duration": 4,
    "start_time": "2024-02-14T13:08:32.623Z"
   },
   {
    "duration": 46,
    "start_time": "2024-02-14T13:08:59.504Z"
   },
   {
    "duration": 2,
    "start_time": "2024-02-14T13:13:53.818Z"
   },
   {
    "duration": 288,
    "start_time": "2024-02-14T13:14:00.602Z"
   },
   {
    "duration": 8,
    "start_time": "2024-02-14T13:14:32.072Z"
   },
   {
    "duration": 958,
    "start_time": "2024-02-14T13:14:54.870Z"
   },
   {
    "duration": 4,
    "start_time": "2024-02-14T13:14:55.830Z"
   },
   {
    "duration": 4,
    "start_time": "2024-02-14T13:14:55.836Z"
   },
   {
    "duration": 7,
    "start_time": "2024-02-14T13:14:55.842Z"
   },
   {
    "duration": 14483,
    "start_time": "2024-02-14T13:14:55.851Z"
   },
   {
    "duration": 7795,
    "start_time": "2024-02-14T13:15:10.336Z"
   },
   {
    "duration": 91,
    "start_time": "2024-02-14T13:15:18.133Z"
   },
   {
    "duration": 598,
    "start_time": "2024-02-14T13:15:18.225Z"
   },
   {
    "duration": 4127,
    "start_time": "2024-02-14T13:15:18.824Z"
   },
   {
    "duration": 3406,
    "start_time": "2024-02-14T13:15:22.953Z"
   },
   {
    "duration": 1513,
    "start_time": "2024-02-14T13:15:26.360Z"
   },
   {
    "duration": 3748,
    "start_time": "2024-02-14T13:15:27.875Z"
   },
   {
    "duration": 24,
    "start_time": "2024-02-14T13:15:31.625Z"
   },
   {
    "duration": 4915,
    "start_time": "2024-02-14T13:15:31.652Z"
   },
   {
    "duration": 1895,
    "start_time": "2024-02-14T13:15:36.568Z"
   },
   {
    "duration": 3566,
    "start_time": "2024-02-14T13:15:38.465Z"
   },
   {
    "duration": 2857,
    "start_time": "2024-02-14T13:15:42.033Z"
   },
   {
    "duration": 4,
    "start_time": "2024-02-14T13:15:44.891Z"
   },
   {
    "duration": 1234,
    "start_time": "2024-02-14T13:15:44.896Z"
   },
   {
    "duration": 2,
    "start_time": "2024-02-14T13:15:46.132Z"
   },
   {
    "duration": 32,
    "start_time": "2024-02-14T13:15:46.136Z"
   },
   {
    "duration": 62,
    "start_time": "2024-02-14T13:16:22.174Z"
   },
   {
    "duration": 8,
    "start_time": "2024-02-14T13:16:25.033Z"
   },
   {
    "duration": 527,
    "start_time": "2024-02-14T13:16:36.610Z"
   },
   {
    "duration": 724,
    "start_time": "2024-02-14T13:18:14.728Z"
   },
   {
    "duration": 29,
    "start_time": "2024-02-14T13:20:22.228Z"
   },
   {
    "duration": 398,
    "start_time": "2024-02-14T13:20:25.858Z"
   },
   {
    "duration": 528,
    "start_time": "2024-02-14T13:20:31.019Z"
   },
   {
    "duration": 21,
    "start_time": "2024-02-14T13:21:03.271Z"
   },
   {
    "duration": 340,
    "start_time": "2024-02-14T13:21:05.951Z"
   },
   {
    "duration": 21,
    "start_time": "2024-02-14T13:21:38.425Z"
   },
   {
    "duration": 406,
    "start_time": "2024-02-14T13:21:40.417Z"
   },
   {
    "duration": 5,
    "start_time": "2024-02-14T13:22:57.817Z"
   },
   {
    "duration": 295,
    "start_time": "2024-02-14T13:23:10.929Z"
   },
   {
    "duration": 13,
    "start_time": "2024-02-14T13:23:23.779Z"
   },
   {
    "duration": 306,
    "start_time": "2024-02-14T13:23:32.238Z"
   },
   {
    "duration": 150,
    "start_time": "2024-02-14T13:23:41.320Z"
   },
   {
    "duration": 362,
    "start_time": "2024-02-14T13:23:43.791Z"
   },
   {
    "duration": 215,
    "start_time": "2024-02-14T13:23:52.343Z"
   },
   {
    "duration": 3822,
    "start_time": "2024-02-14T13:49:45.391Z"
   },
   {
    "duration": 396,
    "start_time": "2024-02-14T13:50:32.300Z"
   },
   {
    "duration": 12,
    "start_time": "2024-02-14T13:52:03.505Z"
   },
   {
    "duration": 2659,
    "start_time": "2024-02-14T13:52:08.018Z"
   },
   {
    "duration": 18,
    "start_time": "2024-02-14T13:52:18.578Z"
   },
   {
    "duration": 220,
    "start_time": "2024-02-14T13:52:21.331Z"
   },
   {
    "duration": 112,
    "start_time": "2024-02-14T13:52:24.186Z"
   },
   {
    "duration": 382,
    "start_time": "2024-02-14T13:52:32.206Z"
   },
   {
    "duration": 3408,
    "start_time": "2024-02-14T13:52:34.834Z"
   },
   {
    "duration": 39,
    "start_time": "2024-02-14T14:03:33.325Z"
   },
   {
    "duration": 3449,
    "start_time": "2024-02-14T14:03:35.172Z"
   },
   {
    "duration": 2787,
    "start_time": "2024-02-14T14:07:54.134Z"
   },
   {
    "duration": 375,
    "start_time": "2024-02-14T14:12:15.451Z"
   },
   {
    "duration": 584,
    "start_time": "2024-02-14T14:12:46.308Z"
   },
   {
    "duration": 546,
    "start_time": "2024-02-14T14:12:56.528Z"
   },
   {
    "duration": 576,
    "start_time": "2024-02-14T14:17:21.273Z"
   },
   {
    "duration": 274,
    "start_time": "2024-02-14T14:17:26.771Z"
   },
   {
    "duration": 2356,
    "start_time": "2024-02-14T14:17:34.661Z"
   },
   {
    "duration": 2697,
    "start_time": "2024-02-14T14:17:51.415Z"
   },
   {
    "duration": 3246,
    "start_time": "2024-02-14T14:18:20.339Z"
   },
   {
    "duration": 23,
    "start_time": "2024-02-14T14:19:40.565Z"
   },
   {
    "duration": 432,
    "start_time": "2024-02-14T14:19:44.885Z"
   },
   {
    "duration": 3247,
    "start_time": "2024-02-14T14:19:49.956Z"
   },
   {
    "duration": 1172,
    "start_time": "2024-02-14T14:20:14.955Z"
   },
   {
    "duration": 5,
    "start_time": "2024-02-14T14:20:16.129Z"
   },
   {
    "duration": 7,
    "start_time": "2024-02-14T14:20:16.136Z"
   },
   {
    "duration": 20,
    "start_time": "2024-02-14T14:20:16.145Z"
   },
   {
    "duration": 14354,
    "start_time": "2024-02-14T14:20:16.167Z"
   },
   {
    "duration": 8217,
    "start_time": "2024-02-14T14:20:30.523Z"
   },
   {
    "duration": 93,
    "start_time": "2024-02-14T14:20:38.742Z"
   },
   {
    "duration": 613,
    "start_time": "2024-02-14T14:20:38.837Z"
   },
   {
    "duration": 4409,
    "start_time": "2024-02-14T14:20:39.518Z"
   },
   {
    "duration": 4024,
    "start_time": "2024-02-14T14:20:43.929Z"
   },
   {
    "duration": 1710,
    "start_time": "2024-02-14T14:20:47.955Z"
   },
   {
    "duration": 4079,
    "start_time": "2024-02-14T14:20:49.667Z"
   },
   {
    "duration": 93,
    "start_time": "2024-02-14T14:20:53.748Z"
   },
   {
    "duration": 5534,
    "start_time": "2024-02-14T14:20:53.843Z"
   },
   {
    "duration": 2059,
    "start_time": "2024-02-14T14:20:59.378Z"
   },
   {
    "duration": 3874,
    "start_time": "2024-02-14T14:21:01.439Z"
   },
   {
    "duration": 3142,
    "start_time": "2024-02-14T14:21:05.314Z"
   },
   {
    "duration": 4,
    "start_time": "2024-02-14T14:21:08.458Z"
   },
   {
    "duration": 978,
    "start_time": "2024-02-14T14:21:08.463Z"
   },
   {
    "duration": 3,
    "start_time": "2024-02-14T14:21:09.442Z"
   },
   {
    "duration": 85,
    "start_time": "2024-02-14T14:21:09.447Z"
   },
   {
    "duration": 743,
    "start_time": "2024-02-14T14:21:09.534Z"
   },
   {
    "duration": 0,
    "start_time": "2024-02-14T14:21:10.279Z"
   },
   {
    "duration": 0,
    "start_time": "2024-02-14T14:21:10.280Z"
   },
   {
    "duration": 0,
    "start_time": "2024-02-14T14:21:10.283Z"
   },
   {
    "duration": 0,
    "start_time": "2024-02-14T14:21:10.285Z"
   },
   {
    "duration": 0,
    "start_time": "2024-02-14T14:21:10.286Z"
   },
   {
    "duration": 0,
    "start_time": "2024-02-14T14:21:10.288Z"
   },
   {
    "duration": 0,
    "start_time": "2024-02-14T14:21:10.289Z"
   },
   {
    "duration": 20,
    "start_time": "2024-02-14T14:21:45.075Z"
   },
   {
    "duration": 371,
    "start_time": "2024-02-14T14:21:48.154Z"
   },
   {
    "duration": 560,
    "start_time": "2024-02-14T14:21:50.978Z"
   },
   {
    "duration": 3640,
    "start_time": "2024-02-14T14:21:53.203Z"
   },
   {
    "duration": 23,
    "start_time": "2024-02-14T14:26:28.821Z"
   },
   {
    "duration": 3840,
    "start_time": "2024-02-14T14:26:31.119Z"
   },
   {
    "duration": 544,
    "start_time": "2024-02-14T14:27:44.784Z"
   },
   {
    "duration": 3299,
    "start_time": "2024-02-14T14:27:58.086Z"
   },
   {
    "duration": 3472,
    "start_time": "2024-02-14T14:28:32.754Z"
   },
   {
    "duration": 626,
    "start_time": "2024-02-14T14:28:59.944Z"
   },
   {
    "duration": 628,
    "start_time": "2024-02-14T14:29:23.148Z"
   },
   {
    "duration": 326,
    "start_time": "2024-02-14T14:29:53.993Z"
   },
   {
    "duration": 2,
    "start_time": "2024-02-14T14:30:16.046Z"
   },
   {
    "duration": 2422,
    "start_time": "2024-02-14T14:30:56.610Z"
   },
   {
    "duration": 3103,
    "start_time": "2024-02-14T14:31:13.007Z"
   },
   {
    "duration": 2860,
    "start_time": "2024-02-14T14:32:08.111Z"
   },
   {
    "duration": 2076,
    "start_time": "2024-02-14T14:32:43.048Z"
   },
   {
    "duration": 69,
    "start_time": "2024-02-14T14:33:53.023Z"
   },
   {
    "duration": 14,
    "start_time": "2024-02-14T14:49:22.948Z"
   },
   {
    "duration": 24,
    "start_time": "2024-02-14T14:49:57.497Z"
   },
   {
    "duration": 34,
    "start_time": "2024-02-14T14:49:58.769Z"
   },
   {
    "duration": 13,
    "start_time": "2024-02-14T14:51:57.632Z"
   },
   {
    "duration": 1118,
    "start_time": "2024-02-14T14:51:59.760Z"
   },
   {
    "duration": 15,
    "start_time": "2024-02-14T14:52:19.748Z"
   },
   {
    "duration": 1266,
    "start_time": "2024-02-14T14:52:21.573Z"
   },
   {
    "duration": 2254,
    "start_time": "2024-02-14T14:52:49.121Z"
   },
   {
    "duration": 9,
    "start_time": "2024-02-14T14:54:28.330Z"
   },
   {
    "duration": 10,
    "start_time": "2024-02-14T14:54:41.447Z"
   },
   {
    "duration": 1222,
    "start_time": "2024-02-14T14:54:43.670Z"
   },
   {
    "duration": 6,
    "start_time": "2024-02-14T14:55:08.955Z"
   },
   {
    "duration": 1137,
    "start_time": "2024-02-14T14:55:10.475Z"
   },
   {
    "duration": 5,
    "start_time": "2024-02-14T15:56:00.468Z"
   },
   {
    "duration": 18,
    "start_time": "2024-02-14T15:56:00.475Z"
   },
   {
    "duration": 24,
    "start_time": "2024-02-14T15:56:00.494Z"
   },
   {
    "duration": 40,
    "start_time": "2024-02-14T15:56:00.520Z"
   },
   {
    "duration": 30,
    "start_time": "2024-02-14T15:56:00.562Z"
   },
   {
    "duration": 60,
    "start_time": "2024-02-14T15:56:00.594Z"
   },
   {
    "duration": 688,
    "start_time": "2024-02-14T15:56:00.655Z"
   },
   {
    "duration": 10,
    "start_time": "2024-02-14T15:56:01.344Z"
   },
   {
    "duration": 198,
    "start_time": "2024-02-14T15:56:01.356Z"
   },
   {
    "duration": 1197,
    "start_time": "2024-02-14T15:56:01.556Z"
   },
   {
    "duration": 1693,
    "start_time": "2024-02-14T15:56:02.755Z"
   },
   {
    "duration": 537,
    "start_time": "2024-02-14T15:56:04.450Z"
   },
   {
    "duration": 1749,
    "start_time": "2024-02-14T15:56:04.990Z"
   },
   {
    "duration": 15,
    "start_time": "2024-02-14T15:56:06.741Z"
   },
   {
    "duration": 4337,
    "start_time": "2024-02-14T15:56:06.757Z"
   },
   {
    "duration": 1184,
    "start_time": "2024-02-14T15:56:11.096Z"
   },
   {
    "duration": 1898,
    "start_time": "2024-02-14T15:56:12.281Z"
   },
   {
    "duration": 3041,
    "start_time": "2024-02-14T15:56:14.181Z"
   },
   {
    "duration": 812,
    "start_time": "2024-02-14T15:56:17.223Z"
   },
   {
    "duration": 812,
    "start_time": "2024-02-14T16:00:02.123Z"
   },
   {
    "duration": 756,
    "start_time": "2024-02-14T16:00:08.631Z"
   },
   {
    "duration": 793,
    "start_time": "2024-02-14T16:00:12.620Z"
   },
   {
    "duration": 856,
    "start_time": "2024-02-14T16:00:19.305Z"
   },
   {
    "duration": 737,
    "start_time": "2024-02-14T16:00:32.142Z"
   },
   {
    "duration": 3,
    "start_time": "2024-02-14T16:09:37.055Z"
   },
   {
    "duration": 1251,
    "start_time": "2024-02-14T16:09:58.188Z"
   },
   {
    "duration": 5,
    "start_time": "2024-02-14T16:09:59.440Z"
   },
   {
    "duration": 6,
    "start_time": "2024-02-14T16:09:59.447Z"
   },
   {
    "duration": 5,
    "start_time": "2024-02-14T16:09:59.455Z"
   },
   {
    "duration": 3,
    "start_time": "2024-02-14T16:09:59.462Z"
   },
   {
    "duration": 14888,
    "start_time": "2024-02-14T16:09:59.466Z"
   },
   {
    "duration": 7861,
    "start_time": "2024-02-14T16:10:14.357Z"
   },
   {
    "duration": 99,
    "start_time": "2024-02-14T16:10:22.220Z"
   },
   {
    "duration": 622,
    "start_time": "2024-02-14T16:10:22.321Z"
   },
   {
    "duration": 3999,
    "start_time": "2024-02-14T16:10:22.945Z"
   },
   {
    "duration": 3673,
    "start_time": "2024-02-14T16:10:26.946Z"
   },
   {
    "duration": 1491,
    "start_time": "2024-02-14T16:10:30.621Z"
   },
   {
    "duration": 3867,
    "start_time": "2024-02-14T16:10:32.113Z"
   },
   {
    "duration": 24,
    "start_time": "2024-02-14T16:10:36.017Z"
   },
   {
    "duration": 5120,
    "start_time": "2024-02-14T16:10:36.043Z"
   },
   {
    "duration": 1860,
    "start_time": "2024-02-14T16:10:41.165Z"
   },
   {
    "duration": 3394,
    "start_time": "2024-02-14T16:10:43.027Z"
   },
   {
    "duration": 5,
    "start_time": "2024-02-14T16:13:35.988Z"
   },
   {
    "duration": 2750,
    "start_time": "2024-02-14T16:13:44.140Z"
   },
   {
    "duration": 2553,
    "start_time": "2024-02-14T16:17:28.135Z"
   },
   {
    "duration": 82,
    "start_time": "2024-02-14T16:19:23.897Z"
   },
   {
    "duration": 936,
    "start_time": "2024-02-14T16:24:08.103Z"
   },
   {
    "duration": 725,
    "start_time": "2024-02-14T16:24:14.403Z"
   },
   {
    "duration": 852,
    "start_time": "2024-02-14T16:24:19.872Z"
   },
   {
    "duration": 3,
    "start_time": "2024-02-14T16:26:55.812Z"
   },
   {
    "duration": 39,
    "start_time": "2024-02-14T16:27:01.936Z"
   },
   {
    "duration": 749,
    "start_time": "2024-02-14T16:27:04.388Z"
   },
   {
    "duration": 811,
    "start_time": "2024-02-14T16:27:07.811Z"
   },
   {
    "duration": 3806,
    "start_time": "2024-02-14T16:27:11.926Z"
   },
   {
    "duration": 26,
    "start_time": "2024-02-14T16:27:50.965Z"
   },
   {
    "duration": 3670,
    "start_time": "2024-02-14T16:27:52.996Z"
   },
   {
    "duration": 3240,
    "start_time": "2024-02-14T16:53:04.669Z"
   },
   {
    "duration": 2347,
    "start_time": "2024-02-14T16:53:14.731Z"
   },
   {
    "duration": 684,
    "start_time": "2024-02-14T16:53:28.665Z"
   },
   {
    "duration": 19,
    "start_time": "2024-02-14T16:54:58.179Z"
   },
   {
    "duration": 2294,
    "start_time": "2024-02-14T17:11:44.527Z"
   },
   {
    "duration": 2355,
    "start_time": "2024-02-14T17:12:20.916Z"
   },
   {
    "duration": 7,
    "start_time": "2024-02-14T17:13:20.149Z"
   },
   {
    "duration": 226,
    "start_time": "2024-02-14T17:13:36.749Z"
   },
   {
    "duration": 1822,
    "start_time": "2024-02-14T17:17:40.992Z"
   },
   {
    "duration": 1605,
    "start_time": "2024-02-14T17:19:17.728Z"
   },
   {
    "duration": 118,
    "start_time": "2024-02-14T17:20:05.198Z"
   },
   {
    "duration": 14,
    "start_time": "2024-02-14T17:55:46.174Z"
   },
   {
    "duration": 4,
    "start_time": "2024-02-14T17:55:46.190Z"
   },
   {
    "duration": 21,
    "start_time": "2024-02-14T17:55:46.196Z"
   },
   {
    "duration": 14,
    "start_time": "2024-02-14T17:55:46.219Z"
   },
   {
    "duration": 6,
    "start_time": "2024-02-14T17:55:46.234Z"
   },
   {
    "duration": 32,
    "start_time": "2024-02-14T17:55:46.242Z"
   },
   {
    "duration": 7,
    "start_time": "2024-02-14T17:55:46.275Z"
   },
   {
    "duration": 437,
    "start_time": "2024-02-14T17:55:46.283Z"
   },
   {
    "duration": 10,
    "start_time": "2024-02-14T17:55:46.722Z"
   },
   {
    "duration": 127,
    "start_time": "2024-02-14T17:55:46.734Z"
   },
   {
    "duration": 1159,
    "start_time": "2024-02-14T17:55:46.863Z"
   },
   {
    "duration": 1724,
    "start_time": "2024-02-14T17:55:48.024Z"
   },
   {
    "duration": 623,
    "start_time": "2024-02-14T17:55:49.750Z"
   },
   {
    "duration": 1899,
    "start_time": "2024-02-14T17:55:50.375Z"
   },
   {
    "duration": 23,
    "start_time": "2024-02-14T17:55:52.276Z"
   },
   {
    "duration": 4172,
    "start_time": "2024-02-14T17:55:52.317Z"
   },
   {
    "duration": 1226,
    "start_time": "2024-02-14T17:55:56.491Z"
   },
   {
    "duration": 2308,
    "start_time": "2024-02-14T17:55:57.719Z"
   },
   {
    "duration": 2650,
    "start_time": "2024-02-14T17:56:00.028Z"
   },
   {
    "duration": 4,
    "start_time": "2024-02-14T17:56:02.679Z"
   },
   {
    "duration": 918,
    "start_time": "2024-02-14T17:56:02.685Z"
   },
   {
    "duration": 2,
    "start_time": "2024-02-14T17:56:03.605Z"
   },
   {
    "duration": 26,
    "start_time": "2024-02-14T17:56:03.609Z"
   },
   {
    "duration": 236,
    "start_time": "2024-02-14T17:56:03.636Z"
   },
   {
    "duration": 554,
    "start_time": "2024-02-14T17:56:03.874Z"
   },
   {
    "duration": 3279,
    "start_time": "2024-02-14T17:56:04.429Z"
   },
   {
    "duration": 24,
    "start_time": "2024-02-14T17:56:07.710Z"
   },
   {
    "duration": 3743,
    "start_time": "2024-02-14T17:56:07.738Z"
   },
   {
    "duration": 2540,
    "start_time": "2024-02-14T17:56:11.483Z"
   },
   {
    "duration": 1858,
    "start_time": "2024-02-14T17:56:14.025Z"
   },
   {
    "duration": 533,
    "start_time": "2024-02-14T17:56:15.885Z"
   },
   {
    "duration": 1855,
    "start_time": "2024-02-14T18:31:29.124Z"
   },
   {
    "duration": 1418,
    "start_time": "2024-02-15T09:13:22.089Z"
   },
   {
    "duration": 0,
    "start_time": "2024-02-15T09:13:23.509Z"
   },
   {
    "duration": 0,
    "start_time": "2024-02-15T09:13:23.511Z"
   },
   {
    "duration": 0,
    "start_time": "2024-02-15T09:13:23.514Z"
   },
   {
    "duration": 0,
    "start_time": "2024-02-15T09:13:23.516Z"
   },
   {
    "duration": 0,
    "start_time": "2024-02-15T09:13:23.517Z"
   },
   {
    "duration": 0,
    "start_time": "2024-02-15T09:13:23.518Z"
   },
   {
    "duration": 0,
    "start_time": "2024-02-15T09:13:23.519Z"
   },
   {
    "duration": 0,
    "start_time": "2024-02-15T09:13:23.520Z"
   },
   {
    "duration": 0,
    "start_time": "2024-02-15T09:13:23.521Z"
   },
   {
    "duration": 0,
    "start_time": "2024-02-15T09:13:23.521Z"
   },
   {
    "duration": 0,
    "start_time": "2024-02-15T09:13:23.522Z"
   },
   {
    "duration": 0,
    "start_time": "2024-02-15T09:13:23.523Z"
   },
   {
    "duration": 0,
    "start_time": "2024-02-15T09:13:23.525Z"
   },
   {
    "duration": 0,
    "start_time": "2024-02-15T09:13:23.525Z"
   },
   {
    "duration": 1,
    "start_time": "2024-02-15T09:13:23.526Z"
   },
   {
    "duration": 0,
    "start_time": "2024-02-15T09:13:23.527Z"
   },
   {
    "duration": 0,
    "start_time": "2024-02-15T09:13:23.528Z"
   },
   {
    "duration": 0,
    "start_time": "2024-02-15T09:13:23.529Z"
   },
   {
    "duration": 0,
    "start_time": "2024-02-15T09:13:23.530Z"
   },
   {
    "duration": 0,
    "start_time": "2024-02-15T09:13:23.531Z"
   },
   {
    "duration": 0,
    "start_time": "2024-02-15T09:13:23.532Z"
   },
   {
    "duration": 0,
    "start_time": "2024-02-15T09:13:23.533Z"
   },
   {
    "duration": 0,
    "start_time": "2024-02-15T09:13:23.534Z"
   },
   {
    "duration": 0,
    "start_time": "2024-02-15T09:13:23.535Z"
   },
   {
    "duration": 0,
    "start_time": "2024-02-15T09:13:23.536Z"
   },
   {
    "duration": 0,
    "start_time": "2024-02-15T09:13:23.536Z"
   },
   {
    "duration": 0,
    "start_time": "2024-02-15T09:13:23.537Z"
   },
   {
    "duration": 0,
    "start_time": "2024-02-15T09:13:23.538Z"
   },
   {
    "duration": 0,
    "start_time": "2024-02-15T09:13:23.539Z"
   },
   {
    "duration": 0,
    "start_time": "2024-02-15T09:13:23.541Z"
   },
   {
    "duration": 0,
    "start_time": "2024-02-15T09:13:23.541Z"
   },
   {
    "duration": 3417,
    "start_time": "2024-02-15T09:13:59.635Z"
   },
   {
    "duration": 115,
    "start_time": "2024-02-15T09:14:09.655Z"
   },
   {
    "duration": 1200,
    "start_time": "2024-02-15T09:14:24.354Z"
   },
   {
    "duration": 4,
    "start_time": "2024-02-15T09:14:25.556Z"
   },
   {
    "duration": 15,
    "start_time": "2024-02-15T09:14:25.561Z"
   },
   {
    "duration": 23,
    "start_time": "2024-02-15T09:14:25.578Z"
   },
   {
    "duration": 22,
    "start_time": "2024-02-15T09:14:25.603Z"
   },
   {
    "duration": 5,
    "start_time": "2024-02-15T09:14:25.627Z"
   },
   {
    "duration": 14503,
    "start_time": "2024-02-15T09:14:25.634Z"
   },
   {
    "duration": 8688,
    "start_time": "2024-02-15T09:14:40.139Z"
   },
   {
    "duration": 94,
    "start_time": "2024-02-15T09:14:48.829Z"
   },
   {
    "duration": 614,
    "start_time": "2024-02-15T09:14:48.926Z"
   },
   {
    "duration": 4074,
    "start_time": "2024-02-15T09:14:49.542Z"
   },
   {
    "duration": 3727,
    "start_time": "2024-02-15T09:14:53.618Z"
   },
   {
    "duration": 1997,
    "start_time": "2024-02-15T09:14:57.347Z"
   },
   {
    "duration": 4087,
    "start_time": "2024-02-15T09:14:59.346Z"
   },
   {
    "duration": 80,
    "start_time": "2024-02-15T09:15:03.435Z"
   },
   {
    "duration": 5257,
    "start_time": "2024-02-15T09:15:03.516Z"
   },
   {
    "duration": 1835,
    "start_time": "2024-02-15T09:15:08.774Z"
   },
   {
    "duration": 3497,
    "start_time": "2024-02-15T09:15:10.611Z"
   },
   {
    "duration": 3081,
    "start_time": "2024-02-15T09:15:14.114Z"
   },
   {
    "duration": 4,
    "start_time": "2024-02-15T09:15:17.196Z"
   },
   {
    "duration": 1087,
    "start_time": "2024-02-15T09:15:17.202Z"
   },
   {
    "duration": 3,
    "start_time": "2024-02-15T09:15:18.291Z"
   },
   {
    "duration": 47,
    "start_time": "2024-02-15T09:15:18.295Z"
   },
   {
    "duration": 587,
    "start_time": "2024-02-15T09:15:18.344Z"
   },
   {
    "duration": 822,
    "start_time": "2024-02-15T09:15:18.933Z"
   },
   {
    "duration": 3844,
    "start_time": "2024-02-15T09:15:19.756Z"
   },
   {
    "duration": 32,
    "start_time": "2024-02-15T09:15:23.602Z"
   },
   {
    "duration": 4055,
    "start_time": "2024-02-15T09:15:23.637Z"
   },
   {
    "duration": 3033,
    "start_time": "2024-02-15T09:15:27.693Z"
   },
   {
    "duration": 2907,
    "start_time": "2024-02-15T09:15:30.731Z"
   },
   {
    "duration": 1081,
    "start_time": "2024-02-15T09:15:33.639Z"
   },
   {
    "duration": 131,
    "start_time": "2024-02-15T09:15:34.722Z"
   },
   {
    "duration": 3623,
    "start_time": "2024-02-15T09:18:05.622Z"
   },
   {
    "duration": 1965,
    "start_time": "2024-02-15T09:19:16.087Z"
   },
   {
    "duration": 1955,
    "start_time": "2024-02-15T09:26:07.886Z"
   },
   {
    "duration": 3,
    "start_time": "2024-02-15T09:26:45.889Z"
   },
   {
    "duration": 1857,
    "start_time": "2024-02-15T09:40:21.684Z"
   },
   {
    "duration": 3,
    "start_time": "2024-02-15T09:43:56.607Z"
   },
   {
    "duration": 3,
    "start_time": "2024-02-15T09:43:59.815Z"
   },
   {
    "duration": 4317,
    "start_time": "2024-02-15T09:44:51.705Z"
   },
   {
    "duration": 498,
    "start_time": "2024-02-15T09:49:34.226Z"
   },
   {
    "duration": 534,
    "start_time": "2024-02-15T09:56:59.090Z"
   },
   {
    "duration": 234,
    "start_time": "2024-02-15T09:59:59.179Z"
   },
   {
    "duration": 3666,
    "start_time": "2024-02-15T10:00:29.521Z"
   },
   {
    "duration": 315,
    "start_time": "2024-02-15T10:00:39.344Z"
   },
   {
    "duration": 497,
    "start_time": "2024-02-15T10:00:47.933Z"
   },
   {
    "duration": 108,
    "start_time": "2024-02-15T10:01:18.258Z"
   },
   {
    "duration": 414,
    "start_time": "2024-02-15T10:01:22.810Z"
   },
   {
    "duration": 310,
    "start_time": "2024-02-15T10:01:25.250Z"
   },
   {
    "duration": 12039,
    "start_time": "2024-02-15T10:09:28.707Z"
   },
   {
    "duration": 1273,
    "start_time": "2024-02-15T10:21:15.998Z"
   },
   {
    "duration": 6,
    "start_time": "2024-02-15T10:21:17.272Z"
   },
   {
    "duration": 7,
    "start_time": "2024-02-15T10:21:17.279Z"
   },
   {
    "duration": 8,
    "start_time": "2024-02-15T10:21:17.288Z"
   },
   {
    "duration": 17,
    "start_time": "2024-02-15T10:21:17.298Z"
   },
   {
    "duration": 6,
    "start_time": "2024-02-15T10:21:17.316Z"
   },
   {
    "duration": 14834,
    "start_time": "2024-02-15T10:21:17.323Z"
   },
   {
    "duration": 7831,
    "start_time": "2024-02-15T10:21:32.214Z"
   },
   {
    "duration": 103,
    "start_time": "2024-02-15T10:21:40.047Z"
   },
   {
    "duration": 669,
    "start_time": "2024-02-15T10:21:40.152Z"
   },
   {
    "duration": 4196,
    "start_time": "2024-02-15T10:21:40.822Z"
   },
   {
    "duration": 3225,
    "start_time": "2024-02-15T10:21:45.019Z"
   },
   {
    "duration": 1647,
    "start_time": "2024-02-15T10:21:48.245Z"
   },
   {
    "duration": 3856,
    "start_time": "2024-02-15T10:21:49.894Z"
   },
   {
    "duration": 82,
    "start_time": "2024-02-15T10:21:53.751Z"
   },
   {
    "duration": 5154,
    "start_time": "2024-02-15T10:21:53.834Z"
   },
   {
    "duration": 1635,
    "start_time": "2024-02-15T10:21:58.989Z"
   },
   {
    "duration": 3336,
    "start_time": "2024-02-15T10:22:00.625Z"
   },
   {
    "duration": 2993,
    "start_time": "2024-02-15T10:22:03.962Z"
   },
   {
    "duration": 4,
    "start_time": "2024-02-15T10:22:06.956Z"
   },
   {
    "duration": 8,
    "start_time": "2024-02-15T10:22:14.061Z"
   },
   {
    "duration": 174,
    "start_time": "2024-02-15T10:22:26.545Z"
   },
   {
    "duration": 175,
    "start_time": "2024-02-15T10:23:03.212Z"
   },
   {
    "duration": 1114,
    "start_time": "2024-02-15T10:23:03.389Z"
   },
   {
    "duration": 10,
    "start_time": "2024-02-15T10:23:04.505Z"
   },
   {
    "duration": 31,
    "start_time": "2024-02-15T10:23:04.517Z"
   },
   {
    "duration": 824,
    "start_time": "2024-02-15T10:23:04.550Z"
   },
   {
    "duration": 0,
    "start_time": "2024-02-15T10:23:05.376Z"
   },
   {
    "duration": 0,
    "start_time": "2024-02-15T10:23:05.377Z"
   },
   {
    "duration": 0,
    "start_time": "2024-02-15T10:23:05.378Z"
   },
   {
    "duration": 0,
    "start_time": "2024-02-15T10:23:05.379Z"
   },
   {
    "duration": 0,
    "start_time": "2024-02-15T10:23:05.380Z"
   },
   {
    "duration": 0,
    "start_time": "2024-02-15T10:23:05.380Z"
   },
   {
    "duration": 0,
    "start_time": "2024-02-15T10:23:05.381Z"
   },
   {
    "duration": 0,
    "start_time": "2024-02-15T10:23:05.382Z"
   },
   {
    "duration": 0,
    "start_time": "2024-02-15T10:23:05.383Z"
   },
   {
    "duration": 0,
    "start_time": "2024-02-15T10:23:05.384Z"
   },
   {
    "duration": 0,
    "start_time": "2024-02-15T10:23:05.385Z"
   },
   {
    "duration": 0,
    "start_time": "2024-02-15T10:23:05.386Z"
   },
   {
    "duration": 0,
    "start_time": "2024-02-15T10:23:05.387Z"
   },
   {
    "duration": 0,
    "start_time": "2024-02-15T10:23:05.388Z"
   },
   {
    "duration": 19,
    "start_time": "2024-02-15T10:23:41.604Z"
   },
   {
    "duration": 395,
    "start_time": "2024-02-15T10:23:43.931Z"
   },
   {
    "duration": 629,
    "start_time": "2024-02-15T10:23:46.987Z"
   },
   {
    "duration": 3911,
    "start_time": "2024-02-15T10:23:49.243Z"
   },
   {
    "duration": 31,
    "start_time": "2024-02-15T10:24:01.716Z"
   },
   {
    "duration": 3918,
    "start_time": "2024-02-15T10:24:02.411Z"
   },
   {
    "duration": 2695,
    "start_time": "2024-02-15T10:24:06.331Z"
   },
   {
    "duration": 2596,
    "start_time": "2024-02-15T10:24:09.027Z"
   },
   {
    "duration": 1046,
    "start_time": "2024-02-15T10:24:11.625Z"
   },
   {
    "duration": 3576,
    "start_time": "2024-02-15T10:24:19.056Z"
   },
   {
    "duration": 4,
    "start_time": "2024-02-15T10:24:26.515Z"
   },
   {
    "duration": 3,
    "start_time": "2024-02-15T10:24:30.316Z"
   },
   {
    "duration": 4866,
    "start_time": "2024-02-15T10:24:34.269Z"
   },
   {
    "duration": 430,
    "start_time": "2024-02-15T10:24:42.628Z"
   },
   {
    "duration": 467,
    "start_time": "2024-02-15T10:24:49.653Z"
   },
   {
    "duration": 13789,
    "start_time": "2024-02-15T10:24:59.130Z"
   },
   {
    "duration": 1344,
    "start_time": "2024-02-15T10:31:10.505Z"
   },
   {
    "duration": 3167,
    "start_time": "2024-02-15T10:33:17.891Z"
   },
   {
    "duration": 3844,
    "start_time": "2024-02-15T10:34:55.176Z"
   },
   {
    "duration": 2988,
    "start_time": "2024-02-15T10:35:21.070Z"
   },
   {
    "duration": 89,
    "start_time": "2024-02-15T10:42:46.380Z"
   },
   {
    "duration": 1304,
    "start_time": "2024-02-15T10:46:42.677Z"
   },
   {
    "duration": 5,
    "start_time": "2024-02-15T10:46:43.983Z"
   },
   {
    "duration": 16,
    "start_time": "2024-02-15T10:46:43.989Z"
   },
   {
    "duration": 14,
    "start_time": "2024-02-15T10:46:44.007Z"
   },
   {
    "duration": 14,
    "start_time": "2024-02-15T10:46:44.022Z"
   },
   {
    "duration": 8,
    "start_time": "2024-02-15T10:46:44.038Z"
   },
   {
    "duration": 15172,
    "start_time": "2024-02-15T10:46:44.048Z"
   },
   {
    "duration": 7712,
    "start_time": "2024-02-15T10:46:59.222Z"
   },
   {
    "duration": 94,
    "start_time": "2024-02-15T10:47:06.936Z"
   },
   {
    "duration": 588,
    "start_time": "2024-02-15T10:47:07.033Z"
   },
   {
    "duration": 4197,
    "start_time": "2024-02-15T10:47:07.623Z"
   },
   {
    "duration": 3531,
    "start_time": "2024-02-15T10:47:11.821Z"
   },
   {
    "duration": 1559,
    "start_time": "2024-02-15T10:47:15.354Z"
   },
   {
    "duration": 3805,
    "start_time": "2024-02-15T10:47:16.915Z"
   },
   {
    "duration": 26,
    "start_time": "2024-02-15T10:47:20.722Z"
   },
   {
    "duration": 4823,
    "start_time": "2024-02-15T10:47:20.749Z"
   },
   {
    "duration": 2167,
    "start_time": "2024-02-15T10:47:25.573Z"
   },
   {
    "duration": 3810,
    "start_time": "2024-02-15T10:47:27.743Z"
   },
   {
    "duration": 3048,
    "start_time": "2024-02-15T10:47:31.555Z"
   },
   {
    "duration": 10,
    "start_time": "2024-02-15T10:47:34.605Z"
   },
   {
    "duration": 205,
    "start_time": "2024-02-15T10:47:34.617Z"
   },
   {
    "duration": 1068,
    "start_time": "2024-02-15T10:47:34.824Z"
   },
   {
    "duration": 3,
    "start_time": "2024-02-15T10:47:35.893Z"
   },
   {
    "duration": 45,
    "start_time": "2024-02-15T10:47:35.897Z"
   },
   {
    "duration": 678,
    "start_time": "2024-02-15T10:47:35.944Z"
   },
   {
    "duration": 816,
    "start_time": "2024-02-15T10:47:36.624Z"
   },
   {
    "duration": 3962,
    "start_time": "2024-02-15T10:47:37.442Z"
   },
   {
    "duration": 36,
    "start_time": "2024-02-15T10:47:41.407Z"
   },
   {
    "duration": 4162,
    "start_time": "2024-02-15T10:47:41.445Z"
   },
   {
    "duration": 2906,
    "start_time": "2024-02-15T10:47:45.609Z"
   },
   {
    "duration": 2519,
    "start_time": "2024-02-15T10:47:48.517Z"
   },
   {
    "duration": 748,
    "start_time": "2024-02-15T10:47:51.038Z"
   },
   {
    "duration": 3256,
    "start_time": "2024-02-15T10:47:51.787Z"
   },
   {
    "duration": 3,
    "start_time": "2024-02-15T10:47:55.045Z"
   },
   {
    "duration": 13,
    "start_time": "2024-02-15T10:47:55.050Z"
   },
   {
    "duration": 4640,
    "start_time": "2024-02-15T10:47:55.064Z"
   },
   {
    "duration": 412,
    "start_time": "2024-02-15T10:47:59.706Z"
   },
   {
    "duration": 698,
    "start_time": "2024-02-15T10:48:00.120Z"
   },
   {
    "duration": 13011,
    "start_time": "2024-02-15T10:48:00.820Z"
   },
   {
    "duration": 1427,
    "start_time": "2024-02-15T10:48:13.833Z"
   },
   {
    "duration": 3601,
    "start_time": "2024-02-15T10:48:15.262Z"
   },
   {
    "duration": 4187,
    "start_time": "2024-02-15T10:48:18.865Z"
   },
   {
    "duration": 3695,
    "start_time": "2024-02-15T10:48:50.622Z"
   },
   {
    "duration": 3293,
    "start_time": "2024-02-15T10:48:55.491Z"
   },
   {
    "duration": 88,
    "start_time": "2024-02-16T08:08:49.954Z"
   },
   {
    "duration": 91,
    "start_time": "2024-02-16T08:13:25.977Z"
   },
   {
    "duration": 5,
    "start_time": "2024-02-16T08:13:32.999Z"
   },
   {
    "duration": 1625,
    "start_time": "2024-02-16T08:14:54.539Z"
   },
   {
    "duration": 0,
    "start_time": "2024-02-16T08:14:56.166Z"
   },
   {
    "duration": 0,
    "start_time": "2024-02-16T08:14:56.168Z"
   },
   {
    "duration": 0,
    "start_time": "2024-02-16T08:14:56.169Z"
   },
   {
    "duration": 0,
    "start_time": "2024-02-16T08:14:56.170Z"
   },
   {
    "duration": 0,
    "start_time": "2024-02-16T08:14:56.172Z"
   },
   {
    "duration": 0,
    "start_time": "2024-02-16T08:14:56.174Z"
   },
   {
    "duration": 0,
    "start_time": "2024-02-16T08:14:56.176Z"
   },
   {
    "duration": 0,
    "start_time": "2024-02-16T08:14:56.177Z"
   },
   {
    "duration": 0,
    "start_time": "2024-02-16T08:14:56.179Z"
   },
   {
    "duration": 0,
    "start_time": "2024-02-16T08:14:56.180Z"
   },
   {
    "duration": 0,
    "start_time": "2024-02-16T08:14:56.182Z"
   },
   {
    "duration": 0,
    "start_time": "2024-02-16T08:14:56.183Z"
   },
   {
    "duration": 0,
    "start_time": "2024-02-16T08:14:56.185Z"
   },
   {
    "duration": 0,
    "start_time": "2024-02-16T08:14:56.186Z"
   },
   {
    "duration": 0,
    "start_time": "2024-02-16T08:14:56.188Z"
   },
   {
    "duration": 0,
    "start_time": "2024-02-16T08:14:56.190Z"
   },
   {
    "duration": 0,
    "start_time": "2024-02-16T08:14:56.191Z"
   },
   {
    "duration": 0,
    "start_time": "2024-02-16T08:14:56.192Z"
   },
   {
    "duration": 0,
    "start_time": "2024-02-16T08:14:56.193Z"
   },
   {
    "duration": 6255,
    "start_time": "2024-02-16T08:15:16.113Z"
   },
   {
    "duration": 133,
    "start_time": "2024-02-16T08:15:27.387Z"
   },
   {
    "duration": 5,
    "start_time": "2024-02-16T08:15:30.105Z"
   },
   {
    "duration": 5,
    "start_time": "2024-02-16T08:15:30.569Z"
   },
   {
    "duration": 5,
    "start_time": "2024-02-16T08:15:32.997Z"
   },
   {
    "duration": 4,
    "start_time": "2024-02-16T08:15:35.581Z"
   },
   {
    "duration": 5,
    "start_time": "2024-02-16T08:15:48.005Z"
   },
   {
    "duration": 3,
    "start_time": "2024-02-16T08:15:48.924Z"
   },
   {
    "duration": 4,
    "start_time": "2024-02-16T08:15:49.941Z"
   },
   {
    "duration": 16056,
    "start_time": "2024-02-16T08:15:52.805Z"
   },
   {
    "duration": 9327,
    "start_time": "2024-02-16T08:16:08.864Z"
   },
   {
    "duration": 74,
    "start_time": "2024-02-16T08:16:18.193Z"
   },
   {
    "duration": 117,
    "start_time": "2024-02-16T08:16:18.269Z"
   },
   {
    "duration": 779,
    "start_time": "2024-02-16T08:16:18.388Z"
   },
   {
    "duration": 4706,
    "start_time": "2024-02-16T08:16:19.169Z"
   },
   {
    "duration": 4189,
    "start_time": "2024-02-16T08:16:23.877Z"
   },
   {
    "duration": 2193,
    "start_time": "2024-02-16T08:16:28.068Z"
   },
   {
    "duration": 5,
    "start_time": "2024-02-16T08:16:40.871Z"
   },
   {
    "duration": 8,
    "start_time": "2024-02-16T08:16:46.806Z"
   },
   {
    "duration": 191,
    "start_time": "2024-02-16T08:16:57.739Z"
   },
   {
    "duration": 1553,
    "start_time": "2024-02-16T08:17:01.031Z"
   },
   {
    "duration": 2840,
    "start_time": "2024-02-16T08:17:14.826Z"
   },
   {
    "duration": 736,
    "start_time": "2024-02-16T08:17:18.499Z"
   },
   {
    "duration": 5,
    "start_time": "2024-02-16T09:04:54.155Z"
   },
   {
    "duration": 1385,
    "start_time": "2024-02-16T09:05:32.288Z"
   },
   {
    "duration": 2421,
    "start_time": "2024-02-16T09:05:36.263Z"
   },
   {
    "duration": 93,
    "start_time": "2024-02-16T09:08:08.543Z"
   },
   {
    "duration": 19,
    "start_time": "2024-02-16T09:08:29.735Z"
   },
   {
    "duration": 5398,
    "start_time": "2024-02-16T09:08:31.440Z"
   },
   {
    "duration": 2122,
    "start_time": "2024-02-16T09:08:36.840Z"
   },
   {
    "duration": 4076,
    "start_time": "2024-02-16T09:08:47.684Z"
   },
   {
    "duration": 2320,
    "start_time": "2024-02-16T09:08:56.404Z"
   },
   {
    "duration": 7,
    "start_time": "2024-02-16T09:10:13.430Z"
   },
   {
    "duration": 1846,
    "start_time": "2024-02-16T09:10:22.089Z"
   },
   {
    "duration": 5,
    "start_time": "2024-02-16T09:15:54.186Z"
   },
   {
    "duration": 0,
    "start_time": "2024-02-16T09:17:46.107Z"
   },
   {
    "duration": 1370,
    "start_time": "2024-02-16T09:18:52.397Z"
   },
   {
    "duration": 6,
    "start_time": "2024-02-16T09:18:53.769Z"
   },
   {
    "duration": 16,
    "start_time": "2024-02-16T09:18:53.777Z"
   },
   {
    "duration": 4,
    "start_time": "2024-02-16T09:18:53.795Z"
   },
   {
    "duration": 14,
    "start_time": "2024-02-16T09:18:53.801Z"
   },
   {
    "duration": 15,
    "start_time": "2024-02-16T09:18:53.816Z"
   },
   {
    "duration": 9,
    "start_time": "2024-02-16T09:18:53.833Z"
   },
   {
    "duration": 15844,
    "start_time": "2024-02-16T09:18:53.844Z"
   },
   {
    "duration": 9177,
    "start_time": "2024-02-16T09:19:09.690Z"
   },
   {
    "duration": 10,
    "start_time": "2024-02-16T09:19:18.869Z"
   },
   {
    "duration": 97,
    "start_time": "2024-02-16T09:19:18.880Z"
   },
   {
    "duration": 689,
    "start_time": "2024-02-16T09:19:18.979Z"
   },
   {
    "duration": 4520,
    "start_time": "2024-02-16T09:19:19.670Z"
   },
   {
    "duration": 4080,
    "start_time": "2024-02-16T09:19:24.192Z"
   },
   {
    "duration": 1848,
    "start_time": "2024-02-16T09:19:28.274Z"
   },
   {
    "duration": 2,
    "start_time": "2024-02-16T09:19:30.124Z"
   },
   {
    "duration": 1379,
    "start_time": "2024-02-16T09:19:30.128Z"
   },
   {
    "duration": 2886,
    "start_time": "2024-02-16T09:19:31.509Z"
   },
   {
    "duration": 80,
    "start_time": "2024-02-16T09:19:34.397Z"
   },
   {
    "duration": 5645,
    "start_time": "2024-02-16T09:19:34.479Z"
   },
   {
    "duration": 2249,
    "start_time": "2024-02-16T09:19:40.125Z"
   },
   {
    "duration": 4057,
    "start_time": "2024-02-16T09:19:42.375Z"
   },
   {
    "duration": 12984,
    "start_time": "2024-02-16T09:19:46.434Z"
   },
   {
    "duration": 4,
    "start_time": "2024-02-16T09:20:12.530Z"
   },
   {
    "duration": 1941,
    "start_time": "2024-02-16T09:20:17.818Z"
   },
   {
    "duration": 5,
    "start_time": "2024-02-16T09:20:27.161Z"
   },
   {
    "duration": 235,
    "start_time": "2024-02-16T09:20:35.174Z"
   },
   {
    "duration": 842,
    "start_time": "2024-02-16T09:22:35.836Z"
   },
   {
    "duration": 679,
    "start_time": "2024-02-16T09:23:24.212Z"
   },
   {
    "duration": 551,
    "start_time": "2024-02-16T09:23:34.796Z"
   },
   {
    "duration": 593,
    "start_time": "2024-02-16T09:23:42.485Z"
   },
   {
    "duration": 3,
    "start_time": "2024-02-16T09:25:19.937Z"
   },
   {
    "duration": 37,
    "start_time": "2024-02-16T09:25:20.354Z"
   },
   {
    "duration": 623,
    "start_time": "2024-02-16T09:25:21.354Z"
   },
   {
    "duration": 749,
    "start_time": "2024-02-16T09:25:25.541Z"
   },
   {
    "duration": 2736,
    "start_time": "2024-02-16T09:26:02.194Z"
   },
   {
    "duration": 34,
    "start_time": "2024-02-16T09:26:17.355Z"
   },
   {
    "duration": 10,
    "start_time": "2024-02-16T09:26:24.915Z"
   },
   {
    "duration": 3269,
    "start_time": "2024-02-16T09:26:25.603Z"
   },
   {
    "duration": 2282,
    "start_time": "2024-02-16T09:26:39.135Z"
   },
   {
    "duration": 2919,
    "start_time": "2024-02-16T09:26:50.463Z"
   },
   {
    "duration": 2880,
    "start_time": "2024-02-16T09:27:08.612Z"
   },
   {
    "duration": 2347,
    "start_time": "2024-02-16T09:27:44.688Z"
   },
   {
    "duration": 350,
    "start_time": "2024-02-16T09:28:11.509Z"
   },
   {
    "duration": 94,
    "start_time": "2024-02-16T09:29:30.810Z"
   },
   {
    "duration": 11,
    "start_time": "2024-02-16T09:32:36.333Z"
   },
   {
    "duration": 146,
    "start_time": "2024-02-16T09:32:56.522Z"
   },
   {
    "duration": 156,
    "start_time": "2024-02-16T09:33:31.358Z"
   },
   {
    "duration": 1761,
    "start_time": "2024-02-16T09:33:42.966Z"
   },
   {
    "duration": 8,
    "start_time": "2024-02-16T09:33:57.303Z"
   },
   {
    "duration": 71,
    "start_time": "2024-02-16T09:42:47.911Z"
   },
   {
    "duration": 1682,
    "start_time": "2024-02-16T09:43:14.380Z"
   },
   {
    "duration": 1445,
    "start_time": "2024-02-16T09:43:56.915Z"
   },
   {
    "duration": 21,
    "start_time": "2024-02-16T09:46:38.128Z"
   },
   {
    "duration": 110,
    "start_time": "2024-02-16T09:54:52.473Z"
   },
   {
    "duration": 76,
    "start_time": "2024-02-16T09:55:52.738Z"
   },
   {
    "duration": 17,
    "start_time": "2024-02-16T10:16:26.739Z"
   },
   {
    "duration": 3010,
    "start_time": "2024-02-16T10:17:12.316Z"
   },
   {
    "duration": 5,
    "start_time": "2024-02-16T10:18:05.592Z"
   },
   {
    "duration": 1423,
    "start_time": "2024-02-16T10:18:10.089Z"
   },
   {
    "duration": 6,
    "start_time": "2024-02-16T10:22:21.302Z"
   },
   {
    "duration": 5768,
    "start_time": "2024-02-16T10:25:21.503Z"
   },
   {
    "duration": 11,
    "start_time": "2024-02-16T10:25:48.974Z"
   },
   {
    "duration": 1131,
    "start_time": "2024-02-16T11:17:50.928Z"
   },
   {
    "duration": 4201,
    "start_time": "2024-02-16T11:18:20.205Z"
   },
   {
    "duration": 6,
    "start_time": "2024-02-16T11:30:52.355Z"
   },
   {
    "duration": 5,
    "start_time": "2024-02-16T11:31:00.181Z"
   },
   {
    "duration": 14,
    "start_time": "2024-02-16T11:35:40.839Z"
   },
   {
    "duration": 23,
    "start_time": "2024-02-16T11:35:46.103Z"
   },
   {
    "duration": 100,
    "start_time": "2024-02-16T11:35:51.030Z"
   },
   {
    "duration": 5,
    "start_time": "2024-02-16T11:36:16.524Z"
   },
   {
    "duration": 5,
    "start_time": "2024-02-16T11:36:18.172Z"
   },
   {
    "duration": 2741,
    "start_time": "2024-02-16T11:36:21.357Z"
   },
   {
    "duration": 2982,
    "start_time": "2024-02-16T11:36:24.160Z"
   },
   {
    "duration": 14,
    "start_time": "2024-02-16T11:37:42.094Z"
   },
   {
    "duration": 2084,
    "start_time": "2024-02-16T11:37:47.887Z"
   },
   {
    "duration": 1304,
    "start_time": "2024-02-16T11:37:49.973Z"
   },
   {
    "duration": 40,
    "start_time": "2024-02-16T11:54:46.215Z"
   },
   {
    "duration": 133,
    "start_time": "2024-02-16T12:02:48.953Z"
   },
   {
    "duration": 33,
    "start_time": "2024-02-16T12:04:50.690Z"
   },
   {
    "duration": 1526,
    "start_time": "2024-02-16T12:06:18.256Z"
   },
   {
    "duration": 1222,
    "start_time": "2024-02-16T12:10:27.861Z"
   },
   {
    "duration": 1447,
    "start_time": "2024-02-16T12:10:52.071Z"
   },
   {
    "duration": 6,
    "start_time": "2024-02-16T12:10:53.520Z"
   },
   {
    "duration": 7,
    "start_time": "2024-02-16T12:10:53.528Z"
   },
   {
    "duration": 6,
    "start_time": "2024-02-16T12:10:53.538Z"
   },
   {
    "duration": 14,
    "start_time": "2024-02-16T12:10:53.545Z"
   },
   {
    "duration": 9,
    "start_time": "2024-02-16T12:10:53.561Z"
   },
   {
    "duration": 10,
    "start_time": "2024-02-16T12:10:53.572Z"
   },
   {
    "duration": 16402,
    "start_time": "2024-02-16T12:10:53.584Z"
   },
   {
    "duration": 9281,
    "start_time": "2024-02-16T12:11:09.988Z"
   },
   {
    "duration": 11,
    "start_time": "2024-02-16T12:11:19.272Z"
   },
   {
    "duration": 107,
    "start_time": "2024-02-16T12:11:19.285Z"
   },
   {
    "duration": 868,
    "start_time": "2024-02-16T12:11:19.395Z"
   },
   {
    "duration": 4795,
    "start_time": "2024-02-16T12:11:20.265Z"
   },
   {
    "duration": 4028,
    "start_time": "2024-02-16T12:11:25.062Z"
   },
   {
    "duration": 1840,
    "start_time": "2024-02-16T12:11:29.092Z"
   },
   {
    "duration": 3,
    "start_time": "2024-02-16T12:11:30.934Z"
   },
   {
    "duration": 1674,
    "start_time": "2024-02-16T12:11:30.939Z"
   },
   {
    "duration": 2851,
    "start_time": "2024-02-16T12:11:32.615Z"
   },
   {
    "duration": 31,
    "start_time": "2024-02-16T12:11:35.468Z"
   },
   {
    "duration": 5369,
    "start_time": "2024-02-16T12:11:35.559Z"
   },
   {
    "duration": 2257,
    "start_time": "2024-02-16T12:11:40.930Z"
   },
   {
    "duration": 4475,
    "start_time": "2024-02-16T12:11:43.189Z"
   },
   {
    "duration": 2144,
    "start_time": "2024-02-16T12:11:47.666Z"
   },
   {
    "duration": 5,
    "start_time": "2024-02-16T12:11:49.811Z"
   },
   {
    "duration": 256,
    "start_time": "2024-02-16T12:11:49.818Z"
   },
   {
    "duration": 718,
    "start_time": "2024-02-16T12:11:50.076Z"
   },
   {
    "duration": 3,
    "start_time": "2024-02-16T12:11:50.796Z"
   },
   {
    "duration": 62,
    "start_time": "2024-02-16T12:11:50.803Z"
   },
   {
    "duration": 694,
    "start_time": "2024-02-16T12:11:50.867Z"
   },
   {
    "duration": 1204,
    "start_time": "2024-02-16T12:11:51.563Z"
   },
   {
    "duration": 2868,
    "start_time": "2024-02-16T12:11:52.769Z"
   },
   {
    "duration": 44,
    "start_time": "2024-02-16T12:11:55.639Z"
   },
   {
    "duration": 2622,
    "start_time": "2024-02-16T12:11:55.685Z"
   },
   {
    "duration": 2975,
    "start_time": "2024-02-16T12:11:58.308Z"
   },
   {
    "duration": 2899,
    "start_time": "2024-02-16T12:12:01.284Z"
   },
   {
    "duration": 484,
    "start_time": "2024-02-16T12:12:04.184Z"
   },
   {
    "duration": 3,
    "start_time": "2024-02-16T12:12:04.670Z"
   },
   {
    "duration": 84,
    "start_time": "2024-02-16T12:12:04.675Z"
   },
   {
    "duration": 3,
    "start_time": "2024-02-16T12:12:04.761Z"
   },
   {
    "duration": 6,
    "start_time": "2024-02-16T12:12:04.766Z"
   },
   {
    "duration": 5,
    "start_time": "2024-02-16T12:12:04.774Z"
   },
   {
    "duration": 80,
    "start_time": "2024-02-16T12:12:04.781Z"
   },
   {
    "duration": 0,
    "start_time": "2024-02-16T12:12:04.863Z"
   },
   {
    "duration": 0,
    "start_time": "2024-02-16T12:12:04.865Z"
   },
   {
    "duration": 0,
    "start_time": "2024-02-16T12:12:04.867Z"
   },
   {
    "duration": 0,
    "start_time": "2024-02-16T12:12:04.868Z"
   },
   {
    "duration": 0,
    "start_time": "2024-02-16T12:12:04.870Z"
   },
   {
    "duration": 3,
    "start_time": "2024-02-16T12:12:42.295Z"
   },
   {
    "duration": 109,
    "start_time": "2024-02-16T12:12:43.711Z"
   },
   {
    "duration": 12,
    "start_time": "2024-02-16T12:12:47.111Z"
   },
   {
    "duration": 1807,
    "start_time": "2024-02-16T12:12:51.127Z"
   },
   {
    "duration": 23,
    "start_time": "2024-02-16T12:12:55.456Z"
   },
   {
    "duration": 136,
    "start_time": "2024-02-16T12:12:59.648Z"
   },
   {
    "duration": 3763,
    "start_time": "2024-02-16T12:13:06.715Z"
   },
   {
    "duration": 33,
    "start_time": "2024-02-16T12:14:34.837Z"
   },
   {
    "duration": 6403,
    "start_time": "2024-02-16T12:14:45.897Z"
   },
   {
    "duration": 1609,
    "start_time": "2024-02-16T12:16:20.560Z"
   },
   {
    "duration": 10,
    "start_time": "2024-02-16T12:16:53.932Z"
   },
   {
    "duration": 9,
    "start_time": "2024-02-16T12:17:08.449Z"
   },
   {
    "duration": 7,
    "start_time": "2024-02-16T12:17:09.112Z"
   },
   {
    "duration": 41,
    "start_time": "2024-02-16T12:17:25.912Z"
   },
   {
    "duration": 30,
    "start_time": "2024-02-16T12:17:29.672Z"
   },
   {
    "duration": 2,
    "start_time": "2024-02-16T12:17:31.213Z"
   },
   {
    "duration": 6487,
    "start_time": "2024-02-16T12:17:33.805Z"
   },
   {
    "duration": 1823,
    "start_time": "2024-02-16T12:17:44.797Z"
   },
   {
    "duration": 5229,
    "start_time": "2024-02-16T12:22:00.570Z"
   },
   {
    "duration": 1317,
    "start_time": "2024-02-16T12:22:09.191Z"
   },
   {
    "duration": 1277,
    "start_time": "2024-02-16T12:22:28.448Z"
   },
   {
    "duration": 3546,
    "start_time": "2024-02-16T12:26:47.141Z"
   },
   {
    "duration": 4005,
    "start_time": "2024-02-16T12:26:50.689Z"
   },
   {
    "duration": 4676,
    "start_time": "2024-02-16T12:26:54.696Z"
   },
   {
    "duration": 132,
    "start_time": "2024-02-16T12:27:00.501Z"
   },
   {
    "duration": 2855,
    "start_time": "2024-02-16T12:27:13.934Z"
   },
   {
    "duration": 3046,
    "start_time": "2024-02-16T12:27:39.425Z"
   },
   {
    "duration": 3337,
    "start_time": "2024-02-16T12:27:43.393Z"
   },
   {
    "duration": 39,
    "start_time": "2024-02-16T12:28:29.907Z"
   },
   {
    "duration": 81,
    "start_time": "2024-02-16T12:31:41.891Z"
   },
   {
    "duration": 1390,
    "start_time": "2024-02-16T12:33:42.404Z"
   },
   {
    "duration": 6,
    "start_time": "2024-02-16T12:33:43.796Z"
   },
   {
    "duration": 33,
    "start_time": "2024-02-16T12:33:43.804Z"
   },
   {
    "duration": 21,
    "start_time": "2024-02-16T12:33:43.840Z"
   },
   {
    "duration": 51,
    "start_time": "2024-02-16T12:33:43.863Z"
   },
   {
    "duration": 75,
    "start_time": "2024-02-16T12:33:43.916Z"
   },
   {
    "duration": 20,
    "start_time": "2024-02-16T12:33:43.993Z"
   },
   {
    "duration": 16565,
    "start_time": "2024-02-16T12:33:44.015Z"
   },
   {
    "duration": 9806,
    "start_time": "2024-02-16T12:34:00.583Z"
   },
   {
    "duration": 70,
    "start_time": "2024-02-16T12:34:10.392Z"
   },
   {
    "duration": 112,
    "start_time": "2024-02-16T12:34:10.464Z"
   },
   {
    "duration": 806,
    "start_time": "2024-02-16T12:34:10.578Z"
   },
   {
    "duration": 5387,
    "start_time": "2024-02-16T12:34:11.386Z"
   },
   {
    "duration": 4321,
    "start_time": "2024-02-16T12:34:16.775Z"
   },
   {
    "duration": 1959,
    "start_time": "2024-02-16T12:34:21.098Z"
   },
   {
    "duration": 2,
    "start_time": "2024-02-16T12:34:23.059Z"
   },
   {
    "duration": 1301,
    "start_time": "2024-02-16T12:34:23.063Z"
   },
   {
    "duration": 2894,
    "start_time": "2024-02-16T12:34:24.365Z"
   },
   {
    "duration": 32,
    "start_time": "2024-02-16T12:34:27.261Z"
   },
   {
    "duration": 5733,
    "start_time": "2024-02-16T12:34:27.295Z"
   },
   {
    "duration": 1963,
    "start_time": "2024-02-16T12:34:33.029Z"
   },
   {
    "duration": 4569,
    "start_time": "2024-02-16T12:34:34.994Z"
   },
   {
    "duration": 2158,
    "start_time": "2024-02-16T12:34:39.565Z"
   },
   {
    "duration": 4,
    "start_time": "2024-02-16T12:34:41.725Z"
   },
   {
    "duration": 245,
    "start_time": "2024-02-16T12:34:41.730Z"
   },
   {
    "duration": 950,
    "start_time": "2024-02-16T12:34:41.977Z"
   },
   {
    "duration": 3,
    "start_time": "2024-02-16T12:34:42.929Z"
   },
   {
    "duration": 52,
    "start_time": "2024-02-16T12:34:42.936Z"
   },
   {
    "duration": 674,
    "start_time": "2024-02-16T12:34:42.990Z"
   },
   {
    "duration": 1024,
    "start_time": "2024-02-16T12:34:43.666Z"
   },
   {
    "duration": 2660,
    "start_time": "2024-02-16T12:34:44.692Z"
   },
   {
    "duration": 37,
    "start_time": "2024-02-16T12:34:47.354Z"
   },
   {
    "duration": 2578,
    "start_time": "2024-02-16T12:34:47.394Z"
   },
   {
    "duration": 2900,
    "start_time": "2024-02-16T12:34:49.974Z"
   },
   {
    "duration": 2922,
    "start_time": "2024-02-16T12:34:52.876Z"
   },
   {
    "duration": 479,
    "start_time": "2024-02-16T12:34:55.800Z"
   },
   {
    "duration": 78,
    "start_time": "2024-02-16T12:34:56.281Z"
   },
   {
    "duration": 3,
    "start_time": "2024-02-16T12:34:56.362Z"
   },
   {
    "duration": 5,
    "start_time": "2024-02-16T12:34:56.367Z"
   },
   {
    "duration": 7,
    "start_time": "2024-02-16T12:34:56.374Z"
   },
   {
    "duration": 4,
    "start_time": "2024-02-16T12:34:56.383Z"
   },
   {
    "duration": 70,
    "start_time": "2024-02-16T12:34:56.389Z"
   },
   {
    "duration": 199,
    "start_time": "2024-02-16T12:34:56.462Z"
   },
   {
    "duration": 9,
    "start_time": "2024-02-16T12:34:56.663Z"
   },
   {
    "duration": 1988,
    "start_time": "2024-02-16T12:34:56.674Z"
   },
   {
    "duration": 20,
    "start_time": "2024-02-16T12:34:58.664Z"
   },
   {
    "duration": 213,
    "start_time": "2024-02-16T12:34:58.686Z"
   },
   {
    "duration": 5,
    "start_time": "2024-02-16T12:34:58.900Z"
   },
   {
    "duration": 44,
    "start_time": "2024-02-16T12:34:58.907Z"
   },
   {
    "duration": 43,
    "start_time": "2024-02-16T12:34:58.953Z"
   },
   {
    "duration": 31,
    "start_time": "2024-02-16T12:34:58.998Z"
   },
   {
    "duration": 9342,
    "start_time": "2024-02-16T12:34:59.031Z"
   },
   {
    "duration": 6887,
    "start_time": "2024-02-16T12:35:08.375Z"
   },
   {
    "duration": 4829,
    "start_time": "2024-02-16T12:35:15.265Z"
   },
   {
    "duration": 4741,
    "start_time": "2024-02-16T12:35:20.096Z"
   },
   {
    "duration": 3,
    "start_time": "2024-02-16T12:35:24.858Z"
   },
   {
    "duration": 857,
    "start_time": "2024-02-16T12:36:14.033Z"
   },
   {
    "duration": 88,
    "start_time": "2024-02-16T12:36:45.806Z"
   }
  ],
  "colab": {
   "name": "PySparkSprint.ipynb",
   "provenance": []
  },
  "kernelspec": {
   "display_name": "Python 3 (ipykernel)",
   "language": "python",
   "name": "python3"
  },
  "language_info": {
   "codemirror_mode": {
    "name": "ipython",
    "version": 3
   },
   "file_extension": ".py",
   "mimetype": "text/x-python",
   "name": "python",
   "nbconvert_exporter": "python",
   "pygments_lexer": "ipython3",
   "version": "3.9.5"
  },
  "toc": {
   "base_numbering": 1,
   "nav_menu": {},
   "number_sections": true,
   "sideBar": true,
   "skip_h1_title": true,
   "title_cell": "Table of Contents",
   "title_sidebar": "Contents",
   "toc_cell": false,
   "toc_position": {},
   "toc_section_display": true,
   "toc_window_display": false
  }
 },
 "nbformat": 4,
 "nbformat_minor": 5
}
