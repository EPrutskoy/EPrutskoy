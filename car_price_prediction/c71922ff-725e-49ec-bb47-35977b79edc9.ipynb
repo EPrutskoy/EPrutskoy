{
 "cells": [
  {
   "cell_type": "markdown",
   "metadata": {},
   "source": [
    "# Определение стоимости автомобилей"
   ]
  },
  {
   "cell_type": "markdown",
   "metadata": {},
   "source": [
    "## Введение"
   ]
  },
  {
   "cell_type": "markdown",
   "metadata": {},
   "source": [
    "Сервис по продаже автомобилей с пробегом «Не бит, не крашен» разрабатывает приложение для привлечения новых клиентов. \n",
    "В нём можно быстро узнать рыночную стоимость своего автомобиля. \n",
    "В вашем распоряжении исторические данные: технические характеристики, комплектации и цены автомобилей. \n",
    "Вам нужно построить модель для определения стоимости. \n",
    "\n",
    "Заказчику важны:\n",
    "\n",
    "- качество предсказания;\n",
    "- скорость предсказания;\n",
    "- время обучения."
   ]
  },
  {
   "cell_type": "markdown",
   "metadata": {},
   "source": [
    "### Цели проекта"
   ]
  },
  {
   "cell_type": "markdown",
   "metadata": {},
   "source": [
    "Основной целью проекта является разработка модели машинного обучения, которая сможет предсказывать рыночную стоимость автомобиля на основе его технических характеристик, комплектации и цен на аналогичные автомобили."
   ]
  },
  {
   "cell_type": "markdown",
   "metadata": {},
   "source": [
    "### Задачи проекта"
   ]
  },
  {
   "cell_type": "markdown",
   "metadata": {},
   "source": [
    "* Изучение и подготовка предоставленных данных о технических характеристиках, комплектации и ценах автомобилей.\n",
    "* Обработка пропущенных значений и аномалий в данных.\n",
    "* Подготовка выборок для обучения моделей.\n",
    "* Обучение различных моделей машинного обучения, включая градиентный бустинг (с использованием LightGBM) и несколько альтернативных моделей.\n",
    "* Сравнение моделей по критериям заказчика: качество предсказания, время обучения и время предсказания.\n",
    "* Выбор наилучшей модели и проверка её качества на тестовой выборке."
   ]
  },
  {
   "cell_type": "markdown",
   "metadata": {},
   "source": [
    "### Методы решения"
   ]
  },
  {
   "cell_type": "markdown",
   "metadata": {},
   "source": [
    "* Градиентный бустинг с использованием LightGBM для создания мощной предсказательной модели.\n",
    "* Случайный лес и линейная регрессия в качестве альтернативных методов для сравнения и контраста с градиентным бустингом.\n",
    "* Кросс-валидация и поиск по сетке гиперпараметров для оптимизации моделей.\n",
    "* Анализ времени обучения и времени предсказания моделей, а также их качества с помощью метрики RMSE."
   ]
  },
  {
   "cell_type": "markdown",
   "metadata": {},
   "source": [
    "### Ожидаемые результаты"
   ]
  },
  {
   "cell_type": "markdown",
   "metadata": {},
   "source": [
    "* Модель, которая соответствует требованиям заказчика по качеству предсказания, \\\n",
    "времени обучения и времени предсказания. \n",
    "* Модель должна иметь значение метрики RMSE меньше 2500 для того, чтобы считаться \\\n",
    "приемлемой для практического применения в разрабатываемом приложении.\n",
    "\n",
    "* Данный проект позволит не только улучшить сервис\\\n",
    " \"Не бит, не крашен\" за счёт внедрения полезной функциональности для пользователей, \\\n",
    " но и продемонстрировать возможности современных методов машинного обучения в решении \\\n",
    " практических задач."
   ]
  },
  {
   "cell_type": "markdown",
   "metadata": {},
   "source": [
    "### План работы:"
   ]
  },
  {
   "cell_type": "markdown",
   "metadata": {},
   "source": [
    "1) Подготовка данных\n",
    "\n",
    "2) Обработка и анализ данных\n",
    "\n",
    "3) Построение моделей\n",
    "  * LightGBM\n",
    "  * CatBoostReg.\n",
    "  * Forest Reg.\n",
    "  \n",
    "4) Анализ и выводы"
   ]
  },
  {
   "cell_type": "markdown",
   "metadata": {},
   "source": [
    "**Признаки**\n",
    "* `DateCrawled` — дата скачивания анкеты из базы\n",
    "* `VehicleType` — тип автомобильного кузова\n",
    "* `RegistrationYear` — год регистрации автомобиля\n",
    "* `Gearbox` — тип коробки передач\n",
    "* `Power` — мощность (л. с.)\n",
    "* `Model` — модель автомобиля\n",
    "* `Kilometer` — пробег (км)\n",
    "* `RegistrationMonth` — месяц регистрации автомобиля\n",
    "* `FuelType` — тип топлива\n",
    "* `Brand` — марка автомобиля\n",
    "* `Repaired` — была машина в ремонте или нет\n",
    "* `DateCreated` — дата создания анкеты\n",
    "* `NumberOfPictures` — количество фотографий автомобиля\n",
    "* `PostalCode` — почтовый индекс владельца анкеты (пользователя)\n",
    "* `LastSeen` — дата последней активности пользователя\n",
    "\n",
    "**Целевой признак**\n",
    "* Price — цена (евро)"
   ]
  },
  {
   "cell_type": "markdown",
   "metadata": {},
   "source": [
    "## Подготовка данных"
   ]
  },
  {
   "cell_type": "markdown",
   "metadata": {},
   "source": [
    "### Установка библиотек и настройка окружения"
   ]
  },
  {
   "cell_type": "code",
   "execution_count": 1,
   "metadata": {},
   "outputs": [],
   "source": [
    "# Базовые библиотеки для работы с данными\n",
    "import pandas as pd\n",
    "import numpy as np\n",
    "\n",
    "# Визуализация\n",
    "import seaborn as sns\n",
    "import matplotlib.pyplot as plt\n",
    "\n",
    "# Модели и инструменты машинного обучения\n",
    "from sklearn.model_selection import train_test_split, RandomizedSearchCV, GridSearchCV, cross_val_score\n",
    "from sklearn.preprocessing import StandardScaler, OneHotEncoder, OrdinalEncoder, FunctionTransformer\n",
    "from sklearn.compose import ColumnTransformer\n",
    "from sklearn.pipeline import Pipeline\n",
    "from sklearn.impute import SimpleImputer\n",
    "from sklearn.metrics import make_scorer, mean_squared_error\n",
    "from sklearn.tree import DecisionTreeClassifier\n",
    "from sklearn.ensemble import RandomForestClassifier, RandomForestRegressor\n",
    "from sklearn.linear_model import LinearRegression\n",
    "\n",
    "# Модели градиентного бустинга\n",
    "from catboost import CatBoostRegressor, CatBoostClassifier\n",
    "import lightgbm as lgb\n",
    "\n",
    "# Статистика и оптимизация\n",
    "import scipy.stats as stats\n",
    "from scipy.stats import randint as sp_randint, uniform, poisson\n",
    "from scipy.stats import randint\n",
    "\n",
    "# Утилиты\n",
    "from IPython.display import display\n",
    "import warnings\n",
    "from time import time \n",
    "\n",
    "# Игнорирование предупреждений\n",
    "warnings.filterwarnings('ignore')"
   ]
  },
  {
   "cell_type": "code",
   "execution_count": 2,
   "metadata": {},
   "outputs": [],
   "source": [
    "pd.set_option('display.min_rows', 15)\n",
    "pd.set_option('display.max_rows', 20)\n",
    "pd.options.display.float_format = '{:,.2f}'.format"
   ]
  },
  {
   "cell_type": "markdown",
   "metadata": {},
   "source": [
    "### Инициализация полезных функций"
   ]
  },
  {
   "cell_type": "code",
   "execution_count": 3,
   "metadata": {},
   "outputs": [],
   "source": [
    "# вначале работал с урезанным датасетом, чтобы быстрее все прогружалось\n",
    "def get_stratified_sample(data, stratify_column='column_for_stratification', sample_size=100000):\n",
    "    # Разделение данных на обучающий набор (который будет отброшен) и \"тестовый\" набор, который является нужной выборкой\n",
    "    _, data_sample = train_test_split(data, test_size=sample_size, stratify=data[stratify_column], random_state=42)\n",
    "    \n",
    "    return data_sample"
   ]
  },
  {
   "cell_type": "code",
   "execution_count": 4,
   "metadata": {},
   "outputs": [],
   "source": [
    "class DatasetSizeTracker:\n",
    "    def __init__(self):\n",
    "        self.initial_size = None\n",
    "        self.previous_size = None\n",
    "\n",
    "    def track(self, data):\n",
    "        # Если исходный размер не был установлен, запоминаем его и текущий размер как первоначальный\n",
    "        if self.initial_size is None:\n",
    "            self.initial_size = len(data)\n",
    "            self.previous_size = len(data)\n",
    "            loss_from_initial = 0\n",
    "            loss_from_previous = 0\n",
    "            loss_percent_overoll = 0\n",
    "        else:\n",
    "            # Считаем, сколько строк потеряно относительно исходного размера и с прошлого вызова\n",
    "            current_size = len(data)\n",
    "            loss_from_initial = self.initial_size - current_size\n",
    "            loss_from_previous = self.previous_size - current_size\n",
    "            loss_percent_overoll = ((self.initial_size - current_size)/self.initial_size)*100\n",
    "            # обновляем преддущий размер для следующего вызова\n",
    "            self.previous_size = current_size\n",
    "        \n",
    "        return {\"Потери от исходного размера\": loss_from_initial, \"Потери с предыдущего раза\": loss_from_previous,\n",
    "                'Общие потери в процентах' : loss_percent_overoll}\n",
    "\n",
    "# Создание экземпляра класса для трекинга \n",
    "tracker = DatasetSizeTracker()"
   ]
  },
  {
   "cell_type": "code",
   "execution_count": 5,
   "metadata": {},
   "outputs": [],
   "source": [
    "# функция информации по таблице\n",
    "def dataframe_summary(df, string):\n",
    "    # Вывод общей информации\n",
    "    print(\"Общая информация по таблице:\", string)\n",
    "    df.info()\n",
    "\n",
    "    print(\"\\n Статистическое описание:\")\n",
    "    display(df.describe().transpose())\n",
    "\n",
    "    print(\"\\nСлучайные примеры:\")\n",
    "    display(df.sample(5))\n",
    "\n",
    "    print(\"\\nКоличество строк и столбцов:\", df.shape)\n",
    "\n",
    "    print(\"\\nКоличество явных дубликатов:\", df.duplicated().sum())\n",
    "    print('')"
   ]
  },
  {
   "cell_type": "code",
   "execution_count": 6,
   "metadata": {},
   "outputs": [],
   "source": [
    "# функция поиска пропусков\n",
    "def analyze_missing_values(df, string):\n",
    "        total = df.isnull().sum().sort_values(ascending=False)\n",
    "        percent = (df.isnull().sum()/df.isnull().count()*100).sort_values(ascending=False)\n",
    "        missing_data = pd.concat([total, percent], axis=1, keys=['Total', 'Percent'])\n",
    "        missing_data = missing_data.query('Total > 0')\n",
    "\n",
    "        # Вывод информации о пропусках\n",
    "        print(f\"Пропуски в датафрейме {string}:\\n{missing_data}\\n\")\n",
    "\n",
    "        # Создание и отображение тепловой карты\n",
    "        plt.figure(figsize=(12, 8))\n",
    "        sns.heatmap(df.isnull(), cbar=False, yticklabels=False)\n",
    "        plt.title(f\"Heatmap пропусков для {string}\")\n",
    "        plt.show()"
   ]
  },
  {
   "cell_type": "code",
   "execution_count": 7,
   "metadata": {},
   "outputs": [],
   "source": [
    "# Функция для преобразования названий в змеиный регистр (snake_case) \n",
    "def to_snake_case(name): \n",
    "    s1 = name[0].lower() \n",
    "    for c in name[1:]: \n",
    "        if c.isupper(): \n",
    "            s1 += '_' \n",
    "            s1 += c.lower() \n",
    "        else: \n",
    "            s1 += c \n",
    "    return s1 \n",
    " "
   ]
  },
  {
   "cell_type": "code",
   "execution_count": 8,
   "metadata": {},
   "outputs": [],
   "source": [
    "def fill_missing_values_by_brand_and_model(data, column_name):\n",
    "    # Считаем самое частое значение для каждой группы 'brand' и 'model'\n",
    "    most_frequent_values = data.groupby(['brand', \n",
    "                                         'model'])[column_name].apply(\n",
    "                                             lambda x: x.mode().iloc[0] if not x.mode().empty else None)\n",
    "    \n",
    "    # Функция для заполнения пропуска\n",
    "    def fill_value(row):\n",
    "        if pd.isnull(row[column_name]):\n",
    "            return most_frequent_values.get((row['brand'],\n",
    "                                              row['model']), \n",
    "                                              row[column_name])\n",
    "        else:\n",
    "            return row[column_name]\n",
    "\n",
    "    data[column_name] = data.apply(fill_value, axis=1)\n",
    "    \n",
    "    return data"
   ]
  },
  {
   "cell_type": "markdown",
   "metadata": {},
   "source": [
    "### Обзор данных, работа с дубликатами, пропусками и выбросами"
   ]
  },
  {
   "cell_type": "markdown",
   "metadata": {},
   "source": [
    "План работы:\n",
    "1) Анализ описательной статитстики по данным;\n",
    "2) Очистка явных дубликатов;\n",
    "3) Обработка пропусков;\n",
    "4) Обработка выбросов;\n",
    "5) Анализ визуальной статистики."
   ]
  },
  {
   "cell_type": "markdown",
   "metadata": {},
   "source": [
    "#### Обзор данных"
   ]
  },
  {
   "cell_type": "code",
   "execution_count": 9,
   "metadata": {},
   "outputs": [],
   "source": [
    "data = pd.read_csv('autos.csv')"
   ]
  },
  {
   "cell_type": "code",
   "execution_count": 10,
   "metadata": {},
   "outputs": [],
   "source": [
    "# Для использования функции, укажите DataFrame, колонку для стратификации и желаемый размер выборки:\n",
    "# data = get_stratified_sample(data, 'Brand', 150000)"
   ]
  },
  {
   "cell_type": "code",
   "execution_count": 11,
   "metadata": {},
   "outputs": [
    {
     "name": "stdout",
     "output_type": "stream",
     "text": [
      "Общая информация по таблице: Автомобили (data)\n",
      "<class 'pandas.core.frame.DataFrame'>\n",
      "RangeIndex: 354369 entries, 0 to 354368\n",
      "Data columns (total 16 columns):\n",
      " #   Column             Non-Null Count   Dtype \n",
      "---  ------             --------------   ----- \n",
      " 0   DateCrawled        354369 non-null  object\n",
      " 1   Price              354369 non-null  int64 \n",
      " 2   VehicleType        316879 non-null  object\n",
      " 3   RegistrationYear   354369 non-null  int64 \n",
      " 4   Gearbox            334536 non-null  object\n",
      " 5   Power              354369 non-null  int64 \n",
      " 6   Model              334664 non-null  object\n",
      " 7   Kilometer          354369 non-null  int64 \n",
      " 8   RegistrationMonth  354369 non-null  int64 \n",
      " 9   FuelType           321474 non-null  object\n",
      " 10  Brand              354369 non-null  object\n",
      " 11  Repaired           283215 non-null  object\n",
      " 12  DateCreated        354369 non-null  object\n",
      " 13  NumberOfPictures   354369 non-null  int64 \n",
      " 14  PostalCode         354369 non-null  int64 \n",
      " 15  LastSeen           354369 non-null  object\n",
      "dtypes: int64(7), object(9)\n",
      "memory usage: 43.3+ MB\n",
      "\n",
      " Статистическое описание:\n"
     ]
    },
    {
     "data": {
      "text/html": [
       "<div>\n",
       "<style scoped>\n",
       "    .dataframe tbody tr th:only-of-type {\n",
       "        vertical-align: middle;\n",
       "    }\n",
       "\n",
       "    .dataframe tbody tr th {\n",
       "        vertical-align: top;\n",
       "    }\n",
       "\n",
       "    .dataframe thead th {\n",
       "        text-align: right;\n",
       "    }\n",
       "</style>\n",
       "<table border=\"1\" class=\"dataframe\">\n",
       "  <thead>\n",
       "    <tr style=\"text-align: right;\">\n",
       "      <th></th>\n",
       "      <th>count</th>\n",
       "      <th>mean</th>\n",
       "      <th>std</th>\n",
       "      <th>min</th>\n",
       "      <th>25%</th>\n",
       "      <th>50%</th>\n",
       "      <th>75%</th>\n",
       "      <th>max</th>\n",
       "    </tr>\n",
       "  </thead>\n",
       "  <tbody>\n",
       "    <tr>\n",
       "      <th>Price</th>\n",
       "      <td>354,369.00</td>\n",
       "      <td>4,416.66</td>\n",
       "      <td>4,514.16</td>\n",
       "      <td>0.00</td>\n",
       "      <td>1,050.00</td>\n",
       "      <td>2,700.00</td>\n",
       "      <td>6,400.00</td>\n",
       "      <td>20,000.00</td>\n",
       "    </tr>\n",
       "    <tr>\n",
       "      <th>RegistrationYear</th>\n",
       "      <td>354,369.00</td>\n",
       "      <td>2,004.23</td>\n",
       "      <td>90.23</td>\n",
       "      <td>1,000.00</td>\n",
       "      <td>1,999.00</td>\n",
       "      <td>2,003.00</td>\n",
       "      <td>2,008.00</td>\n",
       "      <td>9,999.00</td>\n",
       "    </tr>\n",
       "    <tr>\n",
       "      <th>Power</th>\n",
       "      <td>354,369.00</td>\n",
       "      <td>110.09</td>\n",
       "      <td>189.85</td>\n",
       "      <td>0.00</td>\n",
       "      <td>69.00</td>\n",
       "      <td>105.00</td>\n",
       "      <td>143.00</td>\n",
       "      <td>20,000.00</td>\n",
       "    </tr>\n",
       "    <tr>\n",
       "      <th>Kilometer</th>\n",
       "      <td>354,369.00</td>\n",
       "      <td>128,211.17</td>\n",
       "      <td>37,905.34</td>\n",
       "      <td>5,000.00</td>\n",
       "      <td>125,000.00</td>\n",
       "      <td>150,000.00</td>\n",
       "      <td>150,000.00</td>\n",
       "      <td>150,000.00</td>\n",
       "    </tr>\n",
       "    <tr>\n",
       "      <th>RegistrationMonth</th>\n",
       "      <td>354,369.00</td>\n",
       "      <td>5.71</td>\n",
       "      <td>3.73</td>\n",
       "      <td>0.00</td>\n",
       "      <td>3.00</td>\n",
       "      <td>6.00</td>\n",
       "      <td>9.00</td>\n",
       "      <td>12.00</td>\n",
       "    </tr>\n",
       "    <tr>\n",
       "      <th>NumberOfPictures</th>\n",
       "      <td>354,369.00</td>\n",
       "      <td>0.00</td>\n",
       "      <td>0.00</td>\n",
       "      <td>0.00</td>\n",
       "      <td>0.00</td>\n",
       "      <td>0.00</td>\n",
       "      <td>0.00</td>\n",
       "      <td>0.00</td>\n",
       "    </tr>\n",
       "    <tr>\n",
       "      <th>PostalCode</th>\n",
       "      <td>354,369.00</td>\n",
       "      <td>50,508.69</td>\n",
       "      <td>25,783.10</td>\n",
       "      <td>1,067.00</td>\n",
       "      <td>30,165.00</td>\n",
       "      <td>49,413.00</td>\n",
       "      <td>71,083.00</td>\n",
       "      <td>99,998.00</td>\n",
       "    </tr>\n",
       "  </tbody>\n",
       "</table>\n",
       "</div>"
      ],
      "text/plain": [
       "                       count       mean       std      min        25%  \\\n",
       "Price             354,369.00   4,416.66  4,514.16     0.00   1,050.00   \n",
       "RegistrationYear  354,369.00   2,004.23     90.23 1,000.00   1,999.00   \n",
       "Power             354,369.00     110.09    189.85     0.00      69.00   \n",
       "Kilometer         354,369.00 128,211.17 37,905.34 5,000.00 125,000.00   \n",
       "RegistrationMonth 354,369.00       5.71      3.73     0.00       3.00   \n",
       "NumberOfPictures  354,369.00       0.00      0.00     0.00       0.00   \n",
       "PostalCode        354,369.00  50,508.69 25,783.10 1,067.00  30,165.00   \n",
       "\n",
       "                         50%        75%        max  \n",
       "Price               2,700.00   6,400.00  20,000.00  \n",
       "RegistrationYear    2,003.00   2,008.00   9,999.00  \n",
       "Power                 105.00     143.00  20,000.00  \n",
       "Kilometer         150,000.00 150,000.00 150,000.00  \n",
       "RegistrationMonth       6.00       9.00      12.00  \n",
       "NumberOfPictures        0.00       0.00       0.00  \n",
       "PostalCode         49,413.00  71,083.00  99,998.00  "
      ]
     },
     "metadata": {},
     "output_type": "display_data"
    },
    {
     "name": "stdout",
     "output_type": "stream",
     "text": [
      "\n",
      "Случайные примеры:\n"
     ]
    },
    {
     "data": {
      "text/html": [
       "<div>\n",
       "<style scoped>\n",
       "    .dataframe tbody tr th:only-of-type {\n",
       "        vertical-align: middle;\n",
       "    }\n",
       "\n",
       "    .dataframe tbody tr th {\n",
       "        vertical-align: top;\n",
       "    }\n",
       "\n",
       "    .dataframe thead th {\n",
       "        text-align: right;\n",
       "    }\n",
       "</style>\n",
       "<table border=\"1\" class=\"dataframe\">\n",
       "  <thead>\n",
       "    <tr style=\"text-align: right;\">\n",
       "      <th></th>\n",
       "      <th>DateCrawled</th>\n",
       "      <th>Price</th>\n",
       "      <th>VehicleType</th>\n",
       "      <th>RegistrationYear</th>\n",
       "      <th>Gearbox</th>\n",
       "      <th>Power</th>\n",
       "      <th>Model</th>\n",
       "      <th>Kilometer</th>\n",
       "      <th>RegistrationMonth</th>\n",
       "      <th>FuelType</th>\n",
       "      <th>Brand</th>\n",
       "      <th>Repaired</th>\n",
       "      <th>DateCreated</th>\n",
       "      <th>NumberOfPictures</th>\n",
       "      <th>PostalCode</th>\n",
       "      <th>LastSeen</th>\n",
       "    </tr>\n",
       "  </thead>\n",
       "  <tbody>\n",
       "    <tr>\n",
       "      <th>161492</th>\n",
       "      <td>2016-03-05 14:16:59</td>\n",
       "      <td>1799</td>\n",
       "      <td>wagon</td>\n",
       "      <td>2004</td>\n",
       "      <td>manual</td>\n",
       "      <td>109</td>\n",
       "      <td>other</td>\n",
       "      <td>150000</td>\n",
       "      <td>12</td>\n",
       "      <td>petrol</td>\n",
       "      <td>citroen</td>\n",
       "      <td>no</td>\n",
       "      <td>2016-03-04 00:00:00</td>\n",
       "      <td>0</td>\n",
       "      <td>60437</td>\n",
       "      <td>2016-03-07 09:16:28</td>\n",
       "    </tr>\n",
       "    <tr>\n",
       "      <th>345198</th>\n",
       "      <td>2016-03-17 18:45:28</td>\n",
       "      <td>1950</td>\n",
       "      <td>sedan</td>\n",
       "      <td>2000</td>\n",
       "      <td>manual</td>\n",
       "      <td>116</td>\n",
       "      <td>golf</td>\n",
       "      <td>150000</td>\n",
       "      <td>3</td>\n",
       "      <td>petrol</td>\n",
       "      <td>volkswagen</td>\n",
       "      <td>no</td>\n",
       "      <td>2016-03-17 00:00:00</td>\n",
       "      <td>0</td>\n",
       "      <td>92676</td>\n",
       "      <td>2016-03-17 18:45:28</td>\n",
       "    </tr>\n",
       "    <tr>\n",
       "      <th>26490</th>\n",
       "      <td>2016-04-04 22:25:23</td>\n",
       "      <td>2000</td>\n",
       "      <td>NaN</td>\n",
       "      <td>2017</td>\n",
       "      <td>manual</td>\n",
       "      <td>102</td>\n",
       "      <td>3er</td>\n",
       "      <td>150000</td>\n",
       "      <td>7</td>\n",
       "      <td>NaN</td>\n",
       "      <td>bmw</td>\n",
       "      <td>no</td>\n",
       "      <td>2016-04-04 00:00:00</td>\n",
       "      <td>0</td>\n",
       "      <td>55131</td>\n",
       "      <td>2016-04-07 06:44:58</td>\n",
       "    </tr>\n",
       "    <tr>\n",
       "      <th>297561</th>\n",
       "      <td>2016-03-25 15:54:53</td>\n",
       "      <td>3600</td>\n",
       "      <td>NaN</td>\n",
       "      <td>2016</td>\n",
       "      <td>manual</td>\n",
       "      <td>0</td>\n",
       "      <td>note</td>\n",
       "      <td>150000</td>\n",
       "      <td>12</td>\n",
       "      <td>petrol</td>\n",
       "      <td>nissan</td>\n",
       "      <td>no</td>\n",
       "      <td>2016-03-25 00:00:00</td>\n",
       "      <td>0</td>\n",
       "      <td>41542</td>\n",
       "      <td>2016-04-06 20:16:53</td>\n",
       "    </tr>\n",
       "    <tr>\n",
       "      <th>119782</th>\n",
       "      <td>2016-03-16 19:52:53</td>\n",
       "      <td>2399</td>\n",
       "      <td>small</td>\n",
       "      <td>2003</td>\n",
       "      <td>manual</td>\n",
       "      <td>54</td>\n",
       "      <td>polo</td>\n",
       "      <td>150000</td>\n",
       "      <td>2</td>\n",
       "      <td>petrol</td>\n",
       "      <td>volkswagen</td>\n",
       "      <td>no</td>\n",
       "      <td>2016-03-16 00:00:00</td>\n",
       "      <td>0</td>\n",
       "      <td>6268</td>\n",
       "      <td>2016-04-07 05:45:44</td>\n",
       "    </tr>\n",
       "  </tbody>\n",
       "</table>\n",
       "</div>"
      ],
      "text/plain": [
       "                DateCrawled  Price VehicleType  RegistrationYear Gearbox  \\\n",
       "161492  2016-03-05 14:16:59   1799       wagon              2004  manual   \n",
       "345198  2016-03-17 18:45:28   1950       sedan              2000  manual   \n",
       "26490   2016-04-04 22:25:23   2000         NaN              2017  manual   \n",
       "297561  2016-03-25 15:54:53   3600         NaN              2016  manual   \n",
       "119782  2016-03-16 19:52:53   2399       small              2003  manual   \n",
       "\n",
       "        Power  Model  Kilometer  RegistrationMonth FuelType       Brand  \\\n",
       "161492    109  other     150000                 12   petrol     citroen   \n",
       "345198    116   golf     150000                  3   petrol  volkswagen   \n",
       "26490     102    3er     150000                  7      NaN         bmw   \n",
       "297561      0   note     150000                 12   petrol      nissan   \n",
       "119782     54   polo     150000                  2   petrol  volkswagen   \n",
       "\n",
       "       Repaired          DateCreated  NumberOfPictures  PostalCode  \\\n",
       "161492       no  2016-03-04 00:00:00                 0       60437   \n",
       "345198       no  2016-03-17 00:00:00                 0       92676   \n",
       "26490        no  2016-04-04 00:00:00                 0       55131   \n",
       "297561       no  2016-03-25 00:00:00                 0       41542   \n",
       "119782       no  2016-03-16 00:00:00                 0        6268   \n",
       "\n",
       "                   LastSeen  \n",
       "161492  2016-03-07 09:16:28  \n",
       "345198  2016-03-17 18:45:28  \n",
       "26490   2016-04-07 06:44:58  \n",
       "297561  2016-04-06 20:16:53  \n",
       "119782  2016-04-07 05:45:44  "
      ]
     },
     "metadata": {},
     "output_type": "display_data"
    },
    {
     "name": "stdout",
     "output_type": "stream",
     "text": [
      "\n",
      "Количество строк и столбцов: (354369, 16)\n",
      "\n",
      "Количество явных дубликатов: 4\n",
      "\n"
     ]
    }
   ],
   "source": [
    "dataframe_summary(data, 'Автомобили (data)')"
   ]
  },
  {
   "cell_type": "code",
   "execution_count": 12,
   "metadata": {},
   "outputs": [
    {
     "data": {
      "text/plain": [
       "{'Потери от исходного размера': 0,\n",
       " 'Потери с предыдущего раза': 0,\n",
       " 'Общие потери в процентах': 0}"
      ]
     },
     "execution_count": 12,
     "metadata": {},
     "output_type": "execute_result"
    }
   ],
   "source": [
    "tracker = DatasetSizeTracker()\n",
    "\n",
    "tracker.track(data)  # Посмотреть, сколько строк потеряно с исходного момента и с последнего вызова"
   ]
  },
  {
   "cell_type": "markdown",
   "metadata": {},
   "source": [
    "Изменим названия переменных, избавимся от дубликатов"
   ]
  },
  {
   "cell_type": "code",
   "execution_count": 13,
   "metadata": {},
   "outputs": [
    {
     "data": {
      "text/plain": [
       "Index(['date_crawled', 'price', 'vehicle_type', 'registration_year', 'gearbox',\n",
       "       'power', 'model', 'kilometer', 'registration_month', 'fuel_type',\n",
       "       'brand', 'repaired', 'date_created', 'number_of_pictures',\n",
       "       'postal_code', 'last_seen'],\n",
       "      dtype='object')"
      ]
     },
     "execution_count": 13,
     "metadata": {},
     "output_type": "execute_result"
    }
   ],
   "source": [
    "data.columns = [to_snake_case(name) for name in data.columns] \n",
    "data.columns"
   ]
  },
  {
   "cell_type": "code",
   "execution_count": 14,
   "metadata": {},
   "outputs": [],
   "source": [
    "# удалим явные дубликаты\n",
    "data.drop_duplicates(inplace=True)"
   ]
  },
  {
   "cell_type": "markdown",
   "metadata": {},
   "source": [
    "В данных есть объявления с ценой равной 0. Тк это целевой признак - менять нельзя, но лучше удалить строки с такой ценой."
   ]
  },
  {
   "cell_type": "code",
   "execution_count": 15,
   "metadata": {},
   "outputs": [
    {
     "name": "stdout",
     "output_type": "stream",
     "text": [
      "Сколько людей готовы \"подарить\" автомобиль: 10772\n",
      "Сколько людей готовы \"подарить\" автомобиль теперь: 0\n"
     ]
    }
   ],
   "source": [
    "print('Сколько людей готовы \"подарить\" автомобиль:',len(data.loc[data['price'] == 0]))\n",
    "data = data.loc[data['price'] != 0]\n",
    "print('Сколько людей готовы \"подарить\" автомобиль теперь:',len(data.loc[data['price'] == 0]))"
   ]
  },
  {
   "cell_type": "code",
   "execution_count": 16,
   "metadata": {},
   "outputs": [
    {
     "data": {
      "text/plain": [
       "{'Потери от исходного размера': 10776,\n",
       " 'Потери с предыдущего раза': 10776,\n",
       " 'Общие потери в процентах': 3.0408980469510594}"
      ]
     },
     "execution_count": 16,
     "metadata": {},
     "output_type": "execute_result"
    }
   ],
   "source": [
    "tracker.track(data) "
   ]
  },
  {
   "cell_type": "code",
   "execution_count": 17,
   "metadata": {},
   "outputs": [
    {
     "name": "stdout",
     "output_type": "stream",
     "text": [
      "Пропуски в датафрейме data:\n",
      "              Total  Percent\n",
      "repaired      65866    19.17\n",
      "vehicle_type  33750     9.82\n",
      "fuel_type     29459     8.57\n",
      "model         17521     5.10\n",
      "gearbox       17355     5.05\n",
      "\n"
     ]
    },
    {
     "data": {
      "image/png": "[encoded data removed]",
      "text/plain": [
       "<Figure size 864x576 with 1 Axes>"
      ]
     },
     "metadata": {
      "needs_background": "light"
     },
     "output_type": "display_data"
    }
   ],
   "source": [
    "analyze_missing_values(data, 'data')"
   ]
  },
  {
   "cell_type": "markdown",
   "metadata": {},
   "source": [
    "Избавимся от явных дубликатов, возможно, после обработки датасета и удаления ненужных переменных дубликатов станет больше."
   ]
  },
  {
   "cell_type": "code",
   "execution_count": 18,
   "metadata": {},
   "outputs": [],
   "source": [
    "data = data.drop(['date_crawled', 'registration_month', 'date_created', \n",
    "                  'number_of_pictures', 'postal_code', 'last_seen'], axis =1) "
   ]
  },
  {
   "cell_type": "code",
   "execution_count": 19,
   "metadata": {},
   "outputs": [
    {
     "data": {
      "text/plain": [
       "Index(['price', 'vehicle_type', 'registration_year', 'gearbox', 'power',\n",
       "       'model', 'kilometer', 'fuel_type', 'brand', 'repaired'],\n",
       "      dtype='object')"
      ]
     },
     "execution_count": 19,
     "metadata": {},
     "output_type": "execute_result"
    }
   ],
   "source": [
    "data.columns"
   ]
  },
  {
   "cell_type": "code",
   "execution_count": 20,
   "metadata": {},
   "outputs": [
    {
     "data": {
      "text/html": [
       "<div>\n",
       "<style scoped>\n",
       "    .dataframe tbody tr th:only-of-type {\n",
       "        vertical-align: middle;\n",
       "    }\n",
       "\n",
       "    .dataframe tbody tr th {\n",
       "        vertical-align: top;\n",
       "    }\n",
       "\n",
       "    .dataframe thead th {\n",
       "        text-align: right;\n",
       "    }\n",
       "</style>\n",
       "<table border=\"1\" class=\"dataframe\">\n",
       "  <thead>\n",
       "    <tr style=\"text-align: right;\">\n",
       "      <th></th>\n",
       "      <th>brand</th>\n",
       "      <th>model</th>\n",
       "      <th>vehicle_type</th>\n",
       "      <th>fuel_type</th>\n",
       "      <th>gearbox</th>\n",
       "      <th>power</th>\n",
       "      <th>repaired</th>\n",
       "      <th>price</th>\n",
       "    </tr>\n",
       "  </thead>\n",
       "  <tbody>\n",
       "    <tr>\n",
       "      <th>281902</th>\n",
       "      <td>mazda</td>\n",
       "      <td>other</td>\n",
       "      <td>small</td>\n",
       "      <td>petrol</td>\n",
       "      <td>manual</td>\n",
       "      <td>80</td>\n",
       "      <td>no</td>\n",
       "      <td>3990</td>\n",
       "    </tr>\n",
       "    <tr>\n",
       "      <th>32595</th>\n",
       "      <td>volkswagen</td>\n",
       "      <td>lupo</td>\n",
       "      <td>small</td>\n",
       "      <td>petrol</td>\n",
       "      <td>manual</td>\n",
       "      <td>50</td>\n",
       "      <td>no</td>\n",
       "      <td>1900</td>\n",
       "    </tr>\n",
       "    <tr>\n",
       "      <th>334619</th>\n",
       "      <td>ford</td>\n",
       "      <td>escort</td>\n",
       "      <td>wagon</td>\n",
       "      <td>petrol</td>\n",
       "      <td>manual</td>\n",
       "      <td>75</td>\n",
       "      <td>NaN</td>\n",
       "      <td>650</td>\n",
       "    </tr>\n",
       "    <tr>\n",
       "      <th>33772</th>\n",
       "      <td>mini</td>\n",
       "      <td>one</td>\n",
       "      <td>small</td>\n",
       "      <td>petrol</td>\n",
       "      <td>manual</td>\n",
       "      <td>90</td>\n",
       "      <td>no</td>\n",
       "      <td>3550</td>\n",
       "    </tr>\n",
       "    <tr>\n",
       "      <th>111982</th>\n",
       "      <td>opel</td>\n",
       "      <td>zafira</td>\n",
       "      <td>bus</td>\n",
       "      <td>petrol</td>\n",
       "      <td>auto</td>\n",
       "      <td>0</td>\n",
       "      <td>NaN</td>\n",
       "      <td>500</td>\n",
       "    </tr>\n",
       "    <tr>\n",
       "      <th>64716</th>\n",
       "      <td>subaru</td>\n",
       "      <td>impreza</td>\n",
       "      <td>sedan</td>\n",
       "      <td>petrol</td>\n",
       "      <td>manual</td>\n",
       "      <td>265</td>\n",
       "      <td>no</td>\n",
       "      <td>8499</td>\n",
       "    </tr>\n",
       "    <tr>\n",
       "      <th>170945</th>\n",
       "      <td>sonstige_autos</td>\n",
       "      <td>NaN</td>\n",
       "      <td>convertible</td>\n",
       "      <td>petrol</td>\n",
       "      <td>manual</td>\n",
       "      <td>136</td>\n",
       "      <td>no</td>\n",
       "      <td>3900</td>\n",
       "    </tr>\n",
       "    <tr>\n",
       "      <th>351801</th>\n",
       "      <td>bmw</td>\n",
       "      <td>3er</td>\n",
       "      <td>sedan</td>\n",
       "      <td>gasoline</td>\n",
       "      <td>auto</td>\n",
       "      <td>286</td>\n",
       "      <td>no</td>\n",
       "      <td>18999</td>\n",
       "    </tr>\n",
       "    <tr>\n",
       "      <th>137566</th>\n",
       "      <td>bmw</td>\n",
       "      <td>i3</td>\n",
       "      <td>small</td>\n",
       "      <td>petrol</td>\n",
       "      <td>auto</td>\n",
       "      <td>102</td>\n",
       "      <td>yes</td>\n",
       "      <td>1500</td>\n",
       "    </tr>\n",
       "    <tr>\n",
       "      <th>285608</th>\n",
       "      <td>ford</td>\n",
       "      <td>focus</td>\n",
       "      <td>sedan</td>\n",
       "      <td>gasoline</td>\n",
       "      <td>manual</td>\n",
       "      <td>116</td>\n",
       "      <td>no</td>\n",
       "      <td>1800</td>\n",
       "    </tr>\n",
       "  </tbody>\n",
       "</table>\n",
       "</div>"
      ],
      "text/plain": [
       "                 brand    model vehicle_type fuel_type gearbox  power  \\\n",
       "281902           mazda    other        small    petrol  manual     80   \n",
       "32595       volkswagen     lupo        small    petrol  manual     50   \n",
       "334619            ford   escort        wagon    petrol  manual     75   \n",
       "33772             mini      one        small    petrol  manual     90   \n",
       "111982            opel   zafira          bus    petrol    auto      0   \n",
       "64716           subaru  impreza        sedan    petrol  manual    265   \n",
       "170945  sonstige_autos      NaN  convertible    petrol  manual    136   \n",
       "351801             bmw      3er        sedan  gasoline    auto    286   \n",
       "137566             bmw       i3        small    petrol    auto    102   \n",
       "285608            ford    focus        sedan  gasoline  manual    116   \n",
       "\n",
       "       repaired  price  \n",
       "281902       no   3990  \n",
       "32595        no   1900  \n",
       "334619      NaN    650  \n",
       "33772        no   3550  \n",
       "111982      NaN    500  \n",
       "64716        no   8499  \n",
       "170945       no   3900  \n",
       "351801       no  18999  \n",
       "137566      yes   1500  \n",
       "285608       no   1800  "
      ]
     },
     "metadata": {},
     "output_type": "display_data"
    }
   ],
   "source": [
    "display(data[['brand', 'model','vehicle_type', 'fuel_type', 'gearbox', 'power' ,'repaired','price']].sample(10))"
   ]
  },
  {
   "cell_type": "markdown",
   "metadata": {},
   "source": [
    "#### Работа с пропусками"
   ]
  },
  {
   "cell_type": "markdown",
   "metadata": {},
   "source": [
    "##### Пропуски в `model`"
   ]
  },
  {
   "cell_type": "markdown",
   "metadata": {},
   "source": [
    "Пропуски в `model`, на мой взгляд, критичны. Фактор модели может играть значительную роль в определении цены машины. Восполнить пропуски здесь никак, заглушка тоже может в данном случае не подойти или нарушить связи. "
   ]
  },
  {
   "cell_type": "code",
   "execution_count": 21,
   "metadata": {},
   "outputs": [
    {
     "data": {
      "text/plain": [
       "{'Потери от исходного размера': 28297,\n",
       " 'Потери с предыдущего раза': 17521,\n",
       " 'Общие потери в процентах': 7.985179290513561}"
      ]
     },
     "execution_count": 21,
     "metadata": {},
     "output_type": "execute_result"
    }
   ],
   "source": [
    "data = data.loc[~data['model'].isna()]\n",
    "tracker.track(data) "
   ]
  },
  {
   "cell_type": "markdown",
   "metadata": {},
   "source": [
    "##### Пропуски в `repaired`"
   ]
  },
  {
   "cell_type": "markdown",
   "metadata": {},
   "source": [
    "Пропусков в repaired довольно много, порядка 20% от изначального размера данных.\\\n",
    "Фактор довольно важный, при написании объявления обязательно указывать, если машина ремонтировалась. Возможно, значения в этом столбце пропущены, если машина не чинилась и продавцы оставляли незаполненным этот пропуск. \\\n",
    "Если качество модели будет неудовлетворительным, можно попробовать применить заглушку.\n"
   ]
  },
  {
   "cell_type": "code",
   "execution_count": 22,
   "metadata": {},
   "outputs": [
    {
     "data": {
      "text/plain": [
       "no     235821\n",
       "yes     31958\n",
       "Name: repaired, dtype: int64"
      ]
     },
     "execution_count": 22,
     "metadata": {},
     "output_type": "execute_result"
    }
   ],
   "source": [
    "data.repaired.value_counts()"
   ]
  },
  {
   "cell_type": "code",
   "execution_count": 23,
   "metadata": {},
   "outputs": [],
   "source": [
    "data.repaired.fillna('no', inplace=True)"
   ]
  },
  {
   "cell_type": "code",
   "execution_count": 24,
   "metadata": {},
   "outputs": [
    {
     "name": "stdout",
     "output_type": "stream",
     "text": [
      "Пропуски в датафрейме data:\n",
      "              Total  Percent\n",
      "vehicle_type  28166     8.64\n",
      "fuel_type     23551     7.22\n",
      "gearbox       14270     4.38\n",
      "\n"
     ]
    },
    {
     "data": {
      "image/png": "[encoded data removed]",
      "text/plain": [
       "<Figure size 864x576 with 1 Axes>"
      ]
     },
     "metadata": {
      "needs_background": "light"
     },
     "output_type": "display_data"
    }
   ],
   "source": [
    "analyze_missing_values(data, 'data')"
   ]
  },
  {
   "cell_type": "markdown",
   "metadata": {},
   "source": [
    "Остались пропуски в `vehicle_type`,  `fuel_type` и `gearbox` - их заполним на основе данных из `model` и `brand`. "
   ]
  },
  {
   "cell_type": "code",
   "execution_count": 25,
   "metadata": {},
   "outputs": [
    {
     "name": "stdout",
     "output_type": "stream",
     "text": [
      "sedan          86339\n",
      "small          74907\n",
      "wagon          61703\n",
      "bus            27427\n",
      "convertible    19038\n",
      "coupe          14774\n",
      "suv            11067\n",
      "other           2651\n",
      "Name: vehicle_type, dtype: int64\n",
      "petrol      202251\n",
      "gasoline     94503\n",
      "lpg           4845\n",
      "cng            534\n",
      "hybrid         204\n",
      "other          119\n",
      "electric        65\n",
      "Name: fuel_type, dtype: int64\n",
      "manual    249988\n",
      "auto       61814\n",
      "Name: gearbox, dtype: int64\n"
     ]
    }
   ],
   "source": [
    "print(data['vehicle_type'].value_counts())\n",
    "print(data['fuel_type'].value_counts())\n",
    "print(data['gearbox'].value_counts())"
   ]
  },
  {
   "cell_type": "code",
   "execution_count": 26,
   "metadata": {},
   "outputs": [],
   "source": [
    "# используем функцию для заполнения пропусков на основе сгрупиированных данных по brand и model\n",
    "missing_list = ['vehicle_type', 'fuel_type', 'gearbox']\n",
    "for i in missing_list:\n",
    "    data = fill_missing_values_by_brand_and_model(data, i)\n"
   ]
  },
  {
   "cell_type": "code",
   "execution_count": 27,
   "metadata": {},
   "outputs": [
    {
     "name": "stdout",
     "output_type": "stream",
     "text": [
      "sedan          97918\n",
      "small          83363\n",
      "wagon          64900\n",
      "bus            30942\n",
      "convertible    19283\n",
      "coupe          15323\n",
      "suv            11669\n",
      "other           2674\n",
      "Name: vehicle_type, dtype: int64\n",
      "petrol      221317\n",
      "gasoline     98988\n",
      "lpg           4845\n",
      "cng            534\n",
      "hybrid         204\n",
      "other          119\n",
      "electric        65\n",
      "Name: fuel_type, dtype: int64\n",
      "manual    262435\n",
      "auto       63637\n",
      "Name: gearbox, dtype: int64\n"
     ]
    }
   ],
   "source": [
    "print(data['vehicle_type'].value_counts())\n",
    "print(data['fuel_type'].value_counts())\n",
    "print(data['gearbox'].value_counts())"
   ]
  },
  {
   "cell_type": "markdown",
   "metadata": {},
   "source": [
    "#### Обработка аномальных значений"
   ]
  },
  {
   "cell_type": "code",
   "execution_count": 28,
   "metadata": {},
   "outputs": [
    {
     "data": {
      "text/html": [
       "<div>\n",
       "<style scoped>\n",
       "    .dataframe tbody tr th:only-of-type {\n",
       "        vertical-align: middle;\n",
       "    }\n",
       "\n",
       "    .dataframe tbody tr th {\n",
       "        vertical-align: top;\n",
       "    }\n",
       "\n",
       "    .dataframe thead th {\n",
       "        text-align: right;\n",
       "    }\n",
       "</style>\n",
       "<table border=\"1\" class=\"dataframe\">\n",
       "  <thead>\n",
       "    <tr style=\"text-align: right;\">\n",
       "      <th></th>\n",
       "      <th>price</th>\n",
       "      <th>registration_year</th>\n",
       "      <th>power</th>\n",
       "      <th>kilometer</th>\n",
       "    </tr>\n",
       "  </thead>\n",
       "  <tbody>\n",
       "    <tr>\n",
       "      <th>count</th>\n",
       "      <td>326,072.00</td>\n",
       "      <td>326,072.00</td>\n",
       "      <td>326,072.00</td>\n",
       "      <td>326,072.00</td>\n",
       "    </tr>\n",
       "    <tr>\n",
       "      <th>mean</th>\n",
       "      <td>4,623.01</td>\n",
       "      <td>2,003.95</td>\n",
       "      <td>111.98</td>\n",
       "      <td>128,565.73</td>\n",
       "    </tr>\n",
       "    <tr>\n",
       "      <th>std</th>\n",
       "      <td>4,530.62</td>\n",
       "      <td>66.76</td>\n",
       "      <td>182.97</td>\n",
       "      <td>37,010.32</td>\n",
       "    </tr>\n",
       "    <tr>\n",
       "      <th>min</th>\n",
       "      <td>1.00</td>\n",
       "      <td>1,000.00</td>\n",
       "      <td>0.00</td>\n",
       "      <td>5,000.00</td>\n",
       "    </tr>\n",
       "    <tr>\n",
       "      <th>25%</th>\n",
       "      <td>1,200.00</td>\n",
       "      <td>1,999.00</td>\n",
       "      <td>71.00</td>\n",
       "      <td>125,000.00</td>\n",
       "    </tr>\n",
       "    <tr>\n",
       "      <th>50%</th>\n",
       "      <td>2,950.00</td>\n",
       "      <td>2,003.00</td>\n",
       "      <td>105.00</td>\n",
       "      <td>150,000.00</td>\n",
       "    </tr>\n",
       "    <tr>\n",
       "      <th>75%</th>\n",
       "      <td>6,649.00</td>\n",
       "      <td>2,008.00</td>\n",
       "      <td>143.00</td>\n",
       "      <td>150,000.00</td>\n",
       "    </tr>\n",
       "    <tr>\n",
       "      <th>max</th>\n",
       "      <td>20,000.00</td>\n",
       "      <td>9,999.00</td>\n",
       "      <td>20,000.00</td>\n",
       "      <td>150,000.00</td>\n",
       "    </tr>\n",
       "  </tbody>\n",
       "</table>\n",
       "</div>"
      ],
      "text/plain": [
       "           price  registration_year      power  kilometer\n",
       "count 326,072.00         326,072.00 326,072.00 326,072.00\n",
       "mean    4,623.01           2,003.95     111.98 128,565.73\n",
       "std     4,530.62              66.76     182.97  37,010.32\n",
       "min         1.00           1,000.00       0.00   5,000.00\n",
       "25%     1,200.00           1,999.00      71.00 125,000.00\n",
       "50%     2,950.00           2,003.00     105.00 150,000.00\n",
       "75%     6,649.00           2,008.00     143.00 150,000.00\n",
       "max    20,000.00           9,999.00  20,000.00 150,000.00"
      ]
     },
     "execution_count": 28,
     "metadata": {},
     "output_type": "execute_result"
    }
   ],
   "source": [
    "data.describe()"
   ]
  },
  {
   "cell_type": "code",
   "execution_count": 29,
   "metadata": {},
   "outputs": [
    {
     "data": {
      "image/png": "[encoded data removed]",
      "text/plain": [
       "<Figure size 720x432 with 1 Axes>"
      ]
     },
     "metadata": {},
     "output_type": "display_data"
    }
   ],
   "source": [
    "sns.set(style=\"whitegrid\")\n",
    "\n",
    "# Создание графика распределения значений по годам\n",
    "plt.figure(figsize=(10, 6))\n",
    "sns.violinplot(data['registration_year'])\n",
    "\n",
    "plt.title('Распределение автомобилей по году регистрации') \n",
    "plt.xlabel('Год регистрации') \n",
    "plt.ylabel('Количество автомобилей') \n",
    "plt.xticks(rotation=45) \n",
    "\n",
    "plt.show() "
   ]
  },
  {
   "cell_type": "markdown",
   "metadata": {},
   "source": [
    "В данном столбце много выбросов, обработаем выбивающиеся значения. \\\n",
    "Границы отбора данных на изменение предлагаю определить такие:\n",
    " * Верхний потолок - 2024 год (машины из 2025года+ пока не производят, к сожалению не придумали)\n",
    " * Нижний потолок - машины старше 1980 года. Машин с более поздним годом выпуска совсем немного. "
   ]
  },
  {
   "cell_type": "code",
   "execution_count": 30,
   "metadata": {},
   "outputs": [
    {
     "name": "stdout",
     "output_type": "stream",
     "text": [
      "Строки с годом регистрации до 1980 или после 2024 составляют 0.76% от всего датасета.\n"
     ]
    }
   ],
   "source": [
    "print(f\"Строки с годом регистрации до 1980 или после 2024 составляют {(len(data[(data['registration_year'] < 1980) |  (data['registration_year'] > 2024)]) / len(data)) * 100:.2f}% от всего датасета.\")"
   ]
  },
  {
   "cell_type": "code",
   "execution_count": 31,
   "metadata": {},
   "outputs": [
    {
     "data": {
      "text/plain": [
       "{'Потери от исходного размера': 28297,\n",
       " 'Потери с предыдущего раза': 0,\n",
       " 'Общие потери в процентах': 7.985179290513561}"
      ]
     },
     "execution_count": 31,
     "metadata": {},
     "output_type": "execute_result"
    }
   ],
   "source": [
    "tracker.track(data) "
   ]
  },
  {
   "cell_type": "code",
   "execution_count": 32,
   "metadata": {},
   "outputs": [],
   "source": [
    "data = data[(data['registration_year'] >= 1985) & (data['registration_year'] < 2017)]"
   ]
  },
  {
   "cell_type": "code",
   "execution_count": 33,
   "metadata": {},
   "outputs": [
    {
     "data": {
      "text/plain": [
       "{'Потери от исходного размера': 44185,\n",
       " 'Потери с предыдущего раза': 15888,\n",
       " 'Общие потери в процентах': 12.468641444370133}"
      ]
     },
     "execution_count": 33,
     "metadata": {},
     "output_type": "execute_result"
    }
   ],
   "source": [
    "tracker.track(data) "
   ]
  },
  {
   "cell_type": "code",
   "execution_count": 34,
   "metadata": {},
   "outputs": [
    {
     "data": {
      "image/png": "[encoded data removed]",
      "text/plain": [
       "<Figure size 720x432 with 1 Axes>"
      ]
     },
     "metadata": {},
     "output_type": "display_data"
    }
   ],
   "source": [
    "sns.set(style=\"whitegrid\")\n",
    "plt.figure(figsize=(10, 6))\n",
    "sns.boxplot(data['registration_year'])\n",
    "plt.title('Распределение автомобилей по году регистрации')\n",
    "plt.xlabel('Год регистрации') \n",
    "plt.ylabel('Количество автомобилей') \n",
    "plt.xticks(rotation=45)\n",
    "plt.show() "
   ]
  },
  {
   "cell_type": "code",
   "execution_count": 35,
   "metadata": {},
   "outputs": [
    {
     "data": {
      "image/png": "[encoded data removed]",
      "text/plain": [
       "<Figure size 720x432 with 1 Axes>"
      ]
     },
     "metadata": {},
     "output_type": "display_data"
    }
   ],
   "source": [
    "sns.set(style=\"whitegrid\")\n",
    "plt.figure(figsize=(10, 6))\n",
    "sns.boxplot(data['power'])\n",
    "plt.title('Распределение автомобилей по году регистрации')\n",
    "plt.xlabel('Год регистрации') \n",
    "plt.ylabel('Количество автомобилей') \n",
    "plt.xticks(rotation=45)\n",
    "plt.show() "
   ]
  },
  {
   "cell_type": "code",
   "execution_count": 36,
   "metadata": {},
   "outputs": [
    {
     "name": "stdout",
     "output_type": "stream",
     "text": [
      "Строки с слишком большой или малой мощностью составляют 9.57% от всего датасета.\n"
     ]
    }
   ],
   "source": [
    "print(f\"Строки с слишком большой или малой мощностью составляют {(len(data[(data['power'] < 45) |   (data['power'] > 450)]) / len(data)) * 100:.2f}% от всего датасета.\")"
   ]
  },
  {
   "cell_type": "code",
   "execution_count": 37,
   "metadata": {},
   "outputs": [],
   "source": [
    "data_grp = data.groupby(['brand', 'model', 'vehicle_type'])['power'].apply(lambda x: x.median())"
   ]
  },
  {
   "cell_type": "code",
   "execution_count": 38,
   "metadata": {},
   "outputs": [],
   "source": [
    "def replace_outliers(data, column_name):\n",
    "    # Считаем самое частое значение для каждой группы 'brand' и 'model'\n",
    "    most_frequent_values = data.groupby(['brand', 'model', 'vehicle_type'])[column_name].apply(lambda x: x.mode().iloc[0] if not x.mode().empty else None)\n",
    "    \n",
    "    # Функция для заполнения пропуска\n",
    "    def fill_value(row):\n",
    "        if row['power'] < 45 or row['power'] > 450:\n",
    "            return most_frequent_values.get((row['brand'], row['model'], row['vehicle_type']), row[column_name])\n",
    "        else:\n",
    "            return row[column_name]\n",
    "    \n",
    "    # Заполнение пропусков\n",
    "    data[column_name] = data.apply(fill_value, axis=1)\n",
    "\n",
    "    return data"
   ]
  },
  {
   "cell_type": "code",
   "execution_count": 39,
   "metadata": {},
   "outputs": [
    {
     "data": {
      "text/html": [
       "<div>\n",
       "<style scoped>\n",
       "    .dataframe tbody tr th:only-of-type {\n",
       "        vertical-align: middle;\n",
       "    }\n",
       "\n",
       "    .dataframe tbody tr th {\n",
       "        vertical-align: top;\n",
       "    }\n",
       "\n",
       "    .dataframe thead th {\n",
       "        text-align: right;\n",
       "    }\n",
       "</style>\n",
       "<table border=\"1\" class=\"dataframe\">\n",
       "  <thead>\n",
       "    <tr style=\"text-align: right;\">\n",
       "      <th></th>\n",
       "      <th>price</th>\n",
       "      <th>vehicle_type</th>\n",
       "      <th>registration_year</th>\n",
       "      <th>gearbox</th>\n",
       "      <th>power</th>\n",
       "      <th>model</th>\n",
       "      <th>kilometer</th>\n",
       "      <th>fuel_type</th>\n",
       "      <th>brand</th>\n",
       "      <th>repaired</th>\n",
       "    </tr>\n",
       "  </thead>\n",
       "  <tbody>\n",
       "    <tr>\n",
       "      <th>0</th>\n",
       "      <td>480</td>\n",
       "      <td>sedan</td>\n",
       "      <td>1993</td>\n",
       "      <td>manual</td>\n",
       "      <td>75</td>\n",
       "      <td>golf</td>\n",
       "      <td>150000</td>\n",
       "      <td>petrol</td>\n",
       "      <td>volkswagen</td>\n",
       "      <td>no</td>\n",
       "    </tr>\n",
       "    <tr>\n",
       "      <th>2</th>\n",
       "      <td>9800</td>\n",
       "      <td>suv</td>\n",
       "      <td>2004</td>\n",
       "      <td>auto</td>\n",
       "      <td>163</td>\n",
       "      <td>grand</td>\n",
       "      <td>125000</td>\n",
       "      <td>gasoline</td>\n",
       "      <td>jeep</td>\n",
       "      <td>no</td>\n",
       "    </tr>\n",
       "    <tr>\n",
       "      <th>3</th>\n",
       "      <td>1500</td>\n",
       "      <td>small</td>\n",
       "      <td>2001</td>\n",
       "      <td>manual</td>\n",
       "      <td>75</td>\n",
       "      <td>golf</td>\n",
       "      <td>150000</td>\n",
       "      <td>petrol</td>\n",
       "      <td>volkswagen</td>\n",
       "      <td>no</td>\n",
       "    </tr>\n",
       "    <tr>\n",
       "      <th>4</th>\n",
       "      <td>3600</td>\n",
       "      <td>small</td>\n",
       "      <td>2008</td>\n",
       "      <td>manual</td>\n",
       "      <td>69</td>\n",
       "      <td>fabia</td>\n",
       "      <td>90000</td>\n",
       "      <td>gasoline</td>\n",
       "      <td>skoda</td>\n",
       "      <td>no</td>\n",
       "    </tr>\n",
       "    <tr>\n",
       "      <th>5</th>\n",
       "      <td>650</td>\n",
       "      <td>sedan</td>\n",
       "      <td>1995</td>\n",
       "      <td>manual</td>\n",
       "      <td>102</td>\n",
       "      <td>3er</td>\n",
       "      <td>150000</td>\n",
       "      <td>petrol</td>\n",
       "      <td>bmw</td>\n",
       "      <td>yes</td>\n",
       "    </tr>\n",
       "    <tr>\n",
       "      <th>6</th>\n",
       "      <td>2200</td>\n",
       "      <td>convertible</td>\n",
       "      <td>2004</td>\n",
       "      <td>manual</td>\n",
       "      <td>109</td>\n",
       "      <td>2_reihe</td>\n",
       "      <td>150000</td>\n",
       "      <td>petrol</td>\n",
       "      <td>peugeot</td>\n",
       "      <td>no</td>\n",
       "    </tr>\n",
       "    <tr>\n",
       "      <th>8</th>\n",
       "      <td>14500</td>\n",
       "      <td>bus</td>\n",
       "      <td>2014</td>\n",
       "      <td>manual</td>\n",
       "      <td>125</td>\n",
       "      <td>c_max</td>\n",
       "      <td>30000</td>\n",
       "      <td>petrol</td>\n",
       "      <td>ford</td>\n",
       "      <td>no</td>\n",
       "    </tr>\n",
       "    <tr>\n",
       "      <th>...</th>\n",
       "      <td>...</td>\n",
       "      <td>...</td>\n",
       "      <td>...</td>\n",
       "      <td>...</td>\n",
       "      <td>...</td>\n",
       "      <td>...</td>\n",
       "      <td>...</td>\n",
       "      <td>...</td>\n",
       "      <td>...</td>\n",
       "      <td>...</td>\n",
       "    </tr>\n",
       "    <tr>\n",
       "      <th>354360</th>\n",
       "      <td>3999</td>\n",
       "      <td>wagon</td>\n",
       "      <td>2005</td>\n",
       "      <td>manual</td>\n",
       "      <td>150</td>\n",
       "      <td>3er</td>\n",
       "      <td>150000</td>\n",
       "      <td>gasoline</td>\n",
       "      <td>bmw</td>\n",
       "      <td>no</td>\n",
       "    </tr>\n",
       "    <tr>\n",
       "      <th>354361</th>\n",
       "      <td>5250</td>\n",
       "      <td>wagon</td>\n",
       "      <td>2016</td>\n",
       "      <td>auto</td>\n",
       "      <td>150</td>\n",
       "      <td>159</td>\n",
       "      <td>150000</td>\n",
       "      <td>gasoline</td>\n",
       "      <td>alfa_romeo</td>\n",
       "      <td>no</td>\n",
       "    </tr>\n",
       "    <tr>\n",
       "      <th>354362</th>\n",
       "      <td>3200</td>\n",
       "      <td>sedan</td>\n",
       "      <td>2004</td>\n",
       "      <td>manual</td>\n",
       "      <td>225</td>\n",
       "      <td>leon</td>\n",
       "      <td>150000</td>\n",
       "      <td>petrol</td>\n",
       "      <td>seat</td>\n",
       "      <td>yes</td>\n",
       "    </tr>\n",
       "    <tr>\n",
       "      <th>354363</th>\n",
       "      <td>1150</td>\n",
       "      <td>bus</td>\n",
       "      <td>2000</td>\n",
       "      <td>manual</td>\n",
       "      <td>125</td>\n",
       "      <td>zafira</td>\n",
       "      <td>150000</td>\n",
       "      <td>petrol</td>\n",
       "      <td>opel</td>\n",
       "      <td>no</td>\n",
       "    </tr>\n",
       "    <tr>\n",
       "      <th>354366</th>\n",
       "      <td>1199</td>\n",
       "      <td>convertible</td>\n",
       "      <td>2000</td>\n",
       "      <td>auto</td>\n",
       "      <td>101</td>\n",
       "      <td>fortwo</td>\n",
       "      <td>125000</td>\n",
       "      <td>petrol</td>\n",
       "      <td>smart</td>\n",
       "      <td>no</td>\n",
       "    </tr>\n",
       "    <tr>\n",
       "      <th>354367</th>\n",
       "      <td>9200</td>\n",
       "      <td>bus</td>\n",
       "      <td>1996</td>\n",
       "      <td>manual</td>\n",
       "      <td>102</td>\n",
       "      <td>transporter</td>\n",
       "      <td>150000</td>\n",
       "      <td>gasoline</td>\n",
       "      <td>volkswagen</td>\n",
       "      <td>no</td>\n",
       "    </tr>\n",
       "    <tr>\n",
       "      <th>354368</th>\n",
       "      <td>3400</td>\n",
       "      <td>wagon</td>\n",
       "      <td>2002</td>\n",
       "      <td>manual</td>\n",
       "      <td>100</td>\n",
       "      <td>golf</td>\n",
       "      <td>150000</td>\n",
       "      <td>gasoline</td>\n",
       "      <td>volkswagen</td>\n",
       "      <td>no</td>\n",
       "    </tr>\n",
       "  </tbody>\n",
       "</table>\n",
       "<p>310184 rows × 10 columns</p>\n",
       "</div>"
      ],
      "text/plain": [
       "        price vehicle_type  registration_year gearbox  power        model  \\\n",
       "0         480        sedan               1993  manual     75         golf   \n",
       "2        9800          suv               2004    auto    163        grand   \n",
       "3        1500        small               2001  manual     75         golf   \n",
       "4        3600        small               2008  manual     69        fabia   \n",
       "5         650        sedan               1995  manual    102          3er   \n",
       "6        2200  convertible               2004  manual    109      2_reihe   \n",
       "8       14500          bus               2014  manual    125        c_max   \n",
       "...       ...          ...                ...     ...    ...          ...   \n",
       "354360   3999        wagon               2005  manual    150          3er   \n",
       "354361   5250        wagon               2016    auto    150          159   \n",
       "354362   3200        sedan               2004  manual    225         leon   \n",
       "354363   1150          bus               2000  manual    125       zafira   \n",
       "354366   1199  convertible               2000    auto    101       fortwo   \n",
       "354367   9200          bus               1996  manual    102  transporter   \n",
       "354368   3400        wagon               2002  manual    100         golf   \n",
       "\n",
       "        kilometer fuel_type       brand repaired  \n",
       "0          150000    petrol  volkswagen       no  \n",
       "2          125000  gasoline        jeep       no  \n",
       "3          150000    petrol  volkswagen       no  \n",
       "4           90000  gasoline       skoda       no  \n",
       "5          150000    petrol         bmw      yes  \n",
       "6          150000    petrol     peugeot       no  \n",
       "8           30000    petrol        ford       no  \n",
       "...           ...       ...         ...      ...  \n",
       "354360     150000  gasoline         bmw       no  \n",
       "354361     150000  gasoline  alfa_romeo       no  \n",
       "354362     150000    petrol        seat      yes  \n",
       "354363     150000    petrol        opel       no  \n",
       "354366     125000    petrol       smart       no  \n",
       "354367     150000  gasoline  volkswagen       no  \n",
       "354368     150000  gasoline  volkswagen       no  \n",
       "\n",
       "[310184 rows x 10 columns]"
      ]
     },
     "execution_count": 39,
     "metadata": {},
     "output_type": "execute_result"
    }
   ],
   "source": [
    "replace_outliers(data, 'power')"
   ]
  },
  {
   "cell_type": "code",
   "execution_count": 40,
   "metadata": {},
   "outputs": [
    {
     "data": {
      "text/plain": [
       "{'Потери от исходного размера': 46791,\n",
       " 'Потери с предыдущего раза': 2606,\n",
       " 'Общие потери в процентах': 13.20403308415804}"
      ]
     },
     "execution_count": 40,
     "metadata": {},
     "output_type": "execute_result"
    }
   ],
   "source": [
    "data = data[(data['power'] <= 450) & (data['power'] >= 45)]\n",
    "\n",
    "tracker.track(data) "
   ]
  },
  {
   "cell_type": "code",
   "execution_count": 41,
   "metadata": {},
   "outputs": [
    {
     "data": {
      "image/png": "[encoded data removed]",
      "text/plain": [
       "<Figure size 720x432 with 1 Axes>"
      ]
     },
     "metadata": {},
     "output_type": "display_data"
    }
   ],
   "source": [
    "replace_outliers(data, 'power')\n",
    "sns.set(style=\"whitegrid\")\n",
    "plt.figure(figsize=(10, 6))\n",
    "sns.boxplot(data['power'])\n",
    "plt.title('Распределение автомобилей по году регистрации')\n",
    "plt.xlabel('Год регистрации') \n",
    "plt.ylabel('Количество автомобилей') \n",
    "plt.xticks(rotation=45)\n",
    "plt.show() "
   ]
  },
  {
   "cell_type": "code",
   "execution_count": 42,
   "metadata": {},
   "outputs": [
    {
     "name": "stdout",
     "output_type": "stream",
     "text": [
      "Общая информация по таблице: data\n",
      "<class 'pandas.core.frame.DataFrame'>\n",
      "Int64Index: 307578 entries, 0 to 354368\n",
      "Data columns (total 10 columns):\n",
      " #   Column             Non-Null Count   Dtype \n",
      "---  ------             --------------   ----- \n",
      " 0   price              307578 non-null  int64 \n",
      " 1   vehicle_type       307578 non-null  object\n",
      " 2   registration_year  307578 non-null  int64 \n",
      " 3   gearbox            307578 non-null  object\n",
      " 4   power              307578 non-null  int64 \n",
      " 5   model              307578 non-null  object\n",
      " 6   kilometer          307578 non-null  int64 \n",
      " 7   fuel_type          307578 non-null  object\n",
      " 8   brand              307578 non-null  object\n",
      " 9   repaired           307578 non-null  object\n",
      "dtypes: int64(4), object(6)\n",
      "memory usage: 25.8+ MB\n",
      "\n",
      " Статистическое описание:\n"
     ]
    },
    {
     "data": {
      "text/html": [
       "<div>\n",
       "<style scoped>\n",
       "    .dataframe tbody tr th:only-of-type {\n",
       "        vertical-align: middle;\n",
       "    }\n",
       "\n",
       "    .dataframe tbody tr th {\n",
       "        vertical-align: top;\n",
       "    }\n",
       "\n",
       "    .dataframe thead th {\n",
       "        text-align: right;\n",
       "    }\n",
       "</style>\n",
       "<table border=\"1\" class=\"dataframe\">\n",
       "  <thead>\n",
       "    <tr style=\"text-align: right;\">\n",
       "      <th></th>\n",
       "      <th>count</th>\n",
       "      <th>mean</th>\n",
       "      <th>std</th>\n",
       "      <th>min</th>\n",
       "      <th>25%</th>\n",
       "      <th>50%</th>\n",
       "      <th>75%</th>\n",
       "      <th>max</th>\n",
       "    </tr>\n",
       "  </thead>\n",
       "  <tbody>\n",
       "    <tr>\n",
       "      <th>price</th>\n",
       "      <td>307,578.00</td>\n",
       "      <td>4,668.53</td>\n",
       "      <td>4,554.13</td>\n",
       "      <td>1.00</td>\n",
       "      <td>1,250.00</td>\n",
       "      <td>2,990.00</td>\n",
       "      <td>6,770.00</td>\n",
       "      <td>20,000.00</td>\n",
       "    </tr>\n",
       "    <tr>\n",
       "      <th>registration_year</th>\n",
       "      <td>307,578.00</td>\n",
       "      <td>2,003.12</td>\n",
       "      <td>5.75</td>\n",
       "      <td>1,985.00</td>\n",
       "      <td>1,999.00</td>\n",
       "      <td>2,003.00</td>\n",
       "      <td>2,007.00</td>\n",
       "      <td>2,016.00</td>\n",
       "    </tr>\n",
       "    <tr>\n",
       "      <th>power</th>\n",
       "      <td>307,578.00</td>\n",
       "      <td>119.46</td>\n",
       "      <td>52.09</td>\n",
       "      <td>45.00</td>\n",
       "      <td>75.00</td>\n",
       "      <td>110.00</td>\n",
       "      <td>150.00</td>\n",
       "      <td>450.00</td>\n",
       "    </tr>\n",
       "    <tr>\n",
       "      <th>kilometer</th>\n",
       "      <td>307,578.00</td>\n",
       "      <td>128,877.91</td>\n",
       "      <td>36,551.68</td>\n",
       "      <td>5,000.00</td>\n",
       "      <td>125,000.00</td>\n",
       "      <td>150,000.00</td>\n",
       "      <td>150,000.00</td>\n",
       "      <td>150,000.00</td>\n",
       "    </tr>\n",
       "  </tbody>\n",
       "</table>\n",
       "</div>"
      ],
      "text/plain": [
       "                       count       mean       std      min        25%  \\\n",
       "price             307,578.00   4,668.53  4,554.13     1.00   1,250.00   \n",
       "registration_year 307,578.00   2,003.12      5.75 1,985.00   1,999.00   \n",
       "power             307,578.00     119.46     52.09    45.00      75.00   \n",
       "kilometer         307,578.00 128,877.91 36,551.68 5,000.00 125,000.00   \n",
       "\n",
       "                         50%        75%        max  \n",
       "price               2,990.00   6,770.00  20,000.00  \n",
       "registration_year   2,003.00   2,007.00   2,016.00  \n",
       "power                 110.00     150.00     450.00  \n",
       "kilometer         150,000.00 150,000.00 150,000.00  "
      ]
     },
     "metadata": {},
     "output_type": "display_data"
    },
    {
     "name": "stdout",
     "output_type": "stream",
     "text": [
      "\n",
      "Случайные примеры:\n"
     ]
    },
    {
     "data": {
      "text/html": [
       "<div>\n",
       "<style scoped>\n",
       "    .dataframe tbody tr th:only-of-type {\n",
       "        vertical-align: middle;\n",
       "    }\n",
       "\n",
       "    .dataframe tbody tr th {\n",
       "        vertical-align: top;\n",
       "    }\n",
       "\n",
       "    .dataframe thead th {\n",
       "        text-align: right;\n",
       "    }\n",
       "</style>\n",
       "<table border=\"1\" class=\"dataframe\">\n",
       "  <thead>\n",
       "    <tr style=\"text-align: right;\">\n",
       "      <th></th>\n",
       "      <th>price</th>\n",
       "      <th>vehicle_type</th>\n",
       "      <th>registration_year</th>\n",
       "      <th>gearbox</th>\n",
       "      <th>power</th>\n",
       "      <th>model</th>\n",
       "      <th>kilometer</th>\n",
       "      <th>fuel_type</th>\n",
       "      <th>brand</th>\n",
       "      <th>repaired</th>\n",
       "    </tr>\n",
       "  </thead>\n",
       "  <tbody>\n",
       "    <tr>\n",
       "      <th>304920</th>\n",
       "      <td>700</td>\n",
       "      <td>small</td>\n",
       "      <td>1999</td>\n",
       "      <td>manual</td>\n",
       "      <td>60</td>\n",
       "      <td>corsa</td>\n",
       "      <td>150000</td>\n",
       "      <td>petrol</td>\n",
       "      <td>opel</td>\n",
       "      <td>no</td>\n",
       "    </tr>\n",
       "    <tr>\n",
       "      <th>36753</th>\n",
       "      <td>6990</td>\n",
       "      <td>small</td>\n",
       "      <td>2008</td>\n",
       "      <td>manual</td>\n",
       "      <td>69</td>\n",
       "      <td>500</td>\n",
       "      <td>60000</td>\n",
       "      <td>petrol</td>\n",
       "      <td>fiat</td>\n",
       "      <td>no</td>\n",
       "    </tr>\n",
       "    <tr>\n",
       "      <th>159748</th>\n",
       "      <td>11890</td>\n",
       "      <td>sedan</td>\n",
       "      <td>2014</td>\n",
       "      <td>manual</td>\n",
       "      <td>105</td>\n",
       "      <td>other</td>\n",
       "      <td>30000</td>\n",
       "      <td>petrol</td>\n",
       "      <td>skoda</td>\n",
       "      <td>no</td>\n",
       "    </tr>\n",
       "    <tr>\n",
       "      <th>209460</th>\n",
       "      <td>899</td>\n",
       "      <td>sedan</td>\n",
       "      <td>1997</td>\n",
       "      <td>manual</td>\n",
       "      <td>116</td>\n",
       "      <td>other</td>\n",
       "      <td>150000</td>\n",
       "      <td>petrol</td>\n",
       "      <td>rover</td>\n",
       "      <td>no</td>\n",
       "    </tr>\n",
       "    <tr>\n",
       "      <th>136990</th>\n",
       "      <td>5499</td>\n",
       "      <td>sedan</td>\n",
       "      <td>2006</td>\n",
       "      <td>manual</td>\n",
       "      <td>150</td>\n",
       "      <td>astra</td>\n",
       "      <td>150000</td>\n",
       "      <td>gasoline</td>\n",
       "      <td>opel</td>\n",
       "      <td>no</td>\n",
       "    </tr>\n",
       "  </tbody>\n",
       "</table>\n",
       "</div>"
      ],
      "text/plain": [
       "        price vehicle_type  registration_year gearbox  power  model  \\\n",
       "304920    700        small               1999  manual     60  corsa   \n",
       "36753    6990        small               2008  manual     69    500   \n",
       "159748  11890        sedan               2014  manual    105  other   \n",
       "209460    899        sedan               1997  manual    116  other   \n",
       "136990   5499        sedan               2006  manual    150  astra   \n",
       "\n",
       "        kilometer fuel_type  brand repaired  \n",
       "304920     150000    petrol   opel       no  \n",
       "36753       60000    petrol   fiat       no  \n",
       "159748      30000    petrol  skoda       no  \n",
       "209460     150000    petrol  rover       no  \n",
       "136990     150000  gasoline   opel       no  "
      ]
     },
     "metadata": {},
     "output_type": "display_data"
    },
    {
     "name": "stdout",
     "output_type": "stream",
     "text": [
      "\n",
      "Количество строк и столбцов: (307578, 10)\n",
      "\n",
      "Количество явных дубликатов: 55085\n",
      "\n"
     ]
    }
   ],
   "source": [
    "dataframe_summary(data, 'data')"
   ]
  },
  {
   "cell_type": "code",
   "execution_count": 43,
   "metadata": {},
   "outputs": [],
   "source": [
    "data.drop_duplicates(inplace=True)"
   ]
  },
  {
   "cell_type": "code",
   "execution_count": 44,
   "metadata": {},
   "outputs": [
    {
     "data": {
      "text/plain": [
       "array(['petrol', 'gasoline', 'lpg', 'other', 'hybrid', 'cng', 'electric'],\n",
       "      dtype=object)"
      ]
     },
     "execution_count": 44,
     "metadata": {},
     "output_type": "execute_result"
    }
   ],
   "source": [
    "data.fuel_type.unique()"
   ]
  },
  {
   "cell_type": "markdown",
   "metadata": {},
   "source": [
    "Для оптимизации рабочих процессов компиьютера предлагаю уменьшить размерность данных где это возможно:\n",
    "1) Можно перевести столбцы repaired и gearbox из разряда категориального в факторный, выразив как 1 и 0. \n",
    "2) Затем можно провести downсast всех числовых столбцов."
   ]
  },
  {
   "cell_type": "code",
   "execution_count": 45,
   "metadata": {},
   "outputs": [],
   "source": [
    "# Переименование столбца 'repaired' в 'is_repaired'\n",
    "data.rename(columns={'repaired': 'is_repaired'}, inplace=True)\n",
    "\n",
    "# Замена значений 'no' на 0 и 'yes' на 1 в столбце 'is_repaired'\n",
    "data['is_repaired'] = data['is_repaired'].map({'no': 0, 'yes': 1})"
   ]
  },
  {
   "cell_type": "code",
   "execution_count": 46,
   "metadata": {},
   "outputs": [],
   "source": [
    "# Переименование столбца 'gearbox' в 'is_automatic'\n",
    "data.rename(columns={'gearbox': 'is_automatic'}, inplace=True)\n",
    "\n",
    "# Замена значений 'manual' на 0 и 'auto' на 1 в столбце 'is_automatic'\n",
    "data['is_automatic'] = data['is_automatic'].map({'manual': 0, 'auto': 1})"
   ]
  },
  {
   "cell_type": "code",
   "execution_count": 47,
   "metadata": {},
   "outputs": [],
   "source": [
    "numeric_cols = data.select_dtypes(include=['int64', 'float64']).columns\n",
    "\n",
    "# Применяем downcast для каждого числового столбца\n",
    "for col in numeric_cols:\n",
    "    if data[col].dtype == 'int64':\n",
    "        data[col] = pd.to_numeric(data[col], downcast='integer')  # Downcast целочисленных значений\n",
    "    elif data[col].dtype == 'float64':\n",
    "        data[col] = pd.to_numeric(data[col], downcast='float')"
   ]
  },
  {
   "cell_type": "code",
   "execution_count": 48,
   "metadata": {},
   "outputs": [
    {
     "name": "stdout",
     "output_type": "stream",
     "text": [
      "<class 'pandas.core.frame.DataFrame'>\n",
      "Int64Index: 252493 entries, 0 to 354368\n",
      "Data columns (total 10 columns):\n",
      " #   Column             Non-Null Count   Dtype \n",
      "---  ------             --------------   ----- \n",
      " 0   price              252493 non-null  int16 \n",
      " 1   vehicle_type       252493 non-null  object\n",
      " 2   registration_year  252493 non-null  int16 \n",
      " 3   is_automatic       252493 non-null  int8  \n",
      " 4   power              252493 non-null  int16 \n",
      " 5   model              252493 non-null  object\n",
      " 6   kilometer          252493 non-null  int32 \n",
      " 7   fuel_type          252493 non-null  object\n",
      " 8   brand              252493 non-null  object\n",
      " 9   is_repaired        252493 non-null  int8  \n",
      "dtypes: int16(3), int32(1), int8(2), object(4)\n",
      "memory usage: 12.5+ MB\n"
     ]
    }
   ],
   "source": [
    "data.info()"
   ]
  },
  {
   "cell_type": "markdown",
   "metadata": {},
   "source": [
    "Удалось снизить потребление памяти на 10 MB"
   ]
  },
  {
   "cell_type": "markdown",
   "metadata": {},
   "source": [
    "## Построение моделей"
   ]
  },
  {
   "cell_type": "markdown",
   "metadata": {},
   "source": [
    "Разобъем данные на тренировочную и тестовую выборки:"
   ]
  },
  {
   "cell_type": "code",
   "execution_count": 49,
   "metadata": {},
   "outputs": [
    {
     "name": "stdout",
     "output_type": "stream",
     "text": [
      "Тренировочная выборка: X_train: (201994, 9), y_train: (201994,)\n",
      "Тестовая выборка: X_test: (50499, 9), y_test: (50499,)\n"
     ]
    }
   ],
   "source": [
    "X = data.drop('price', axis=1)  # Входные признаки (все кроме 'price')\n",
    "y = data['price']  # Целевая переменная\n",
    "\n",
    "# Разбиение на тренировочную и тестовую выборки с соотношением 80% к 20%\n",
    "X_train, X_test, y_train, y_test = train_test_split(X, y, test_size=0.2, random_state=42)\n",
    "\n",
    "# Вывод размеров полученных выборок для проверки\n",
    "print(f\"Тренировочная выборка: X_train: {X_train.shape}, y_train: {y_train.shape}\")\n",
    "print(f\"Тестовая выборка: X_test: {X_test.shape}, y_test: {y_test.shape}\")"
   ]
  },
  {
   "cell_type": "markdown",
   "metadata": {},
   "source": [
    "Зададим названия переменных"
   ]
  },
  {
   "cell_type": "code",
   "execution_count": 50,
   "metadata": {},
   "outputs": [],
   "source": [
    "numeric_features = ['registration_year', 'is_automatic', 'power', 'is_repaired']\n",
    "categorical_features = list(data.select_dtypes(include=['object']).columns)\n",
    "# Определение колонок для каждого типа кодирования\n",
    "ohe_features = ['vehicle_type', 'fuel_type']\n",
    "ordinal_features = ['brand', 'model']"
   ]
  },
  {
   "cell_type": "markdown",
   "metadata": {},
   "source": [
    "Настроим пайплайн последовательной трасформации данных"
   ]
  },
  {
   "cell_type": "code",
   "execution_count": 51,
   "metadata": {},
   "outputs": [],
   "source": [
    "# Создание трансформера для числовых переменных\n",
    "numeric_transformer = Pipeline(steps=[\n",
    "    ('scaler', StandardScaler())\n",
    "])\n",
    "\n",
    "# Определение колонок для каждого типа кодирования\n",
    "ohe_features = ['vehicle_type', 'fuel_type']\n",
    "ordinal_features = ['brand', 'model']\n",
    "\n",
    "# Создание трансформеров\n",
    "ohe_transformer = Pipeline(steps=[\n",
    "    ('onehot', OneHotEncoder(handle_unknown='ignore'))\n",
    "])\n",
    "\n",
    "ordinal_transformer = Pipeline(steps=[\n",
    "    ('ordinal', OrdinalEncoder(handle_unknown='use_encoded_value', unknown_value=-1))\n",
    "])\n",
    "\n",
    "# Создание препроцессора, который применяет ohe и oe\n",
    "preprocessor1 = ColumnTransformer(\n",
    "    transformers=[\n",
    "        ('num', numeric_transformer, numeric_features),\n",
    "        ('ohe', ohe_transformer, ohe_features),\n",
    "        ('ordinal', ordinal_transformer, ordinal_features)\n",
    "    ])\n",
    "\n",
    "# Создание препроцессора, который применяет ohe\n",
    "preprocessor = ColumnTransformer(\n",
    "    transformers=[\n",
    "        ('num', numeric_transformer, numeric_features),\n",
    "        ('cat', ohe_transformer, categorical_features)])"
   ]
  },
  {
   "cell_type": "markdown",
   "metadata": {},
   "source": [
    "### Model 1 RandomizedSearchCV + lgb.LGBMRegressor"
   ]
  },
  {
   "cell_type": "code",
   "execution_count": 52,
   "metadata": {},
   "outputs": [],
   "source": [
    "# Параметры\n",
    "param_dist = {\n",
    "    'model__n_estimators': sp_randint(20, 50),\n",
    "    'model__learning_rate': uniform(0.1, 0.2),\n",
    "    'model__max_depth': sp_randint(-1, 10),\n",
    "}"
   ]
  },
  {
   "cell_type": "code",
   "execution_count": 53,
   "metadata": {},
   "outputs": [],
   "source": [
    "pipeline = Pipeline([\n",
    "    ('preprocessor', preprocessor1),  \n",
    "    ('model', lgb.LGBMRegressor(random_state=123))\n",
    "])"
   ]
  },
  {
   "cell_type": "code",
   "execution_count": 54,
   "metadata": {},
   "outputs": [],
   "source": [
    "# Инициализация RandomizedSearchCV\n",
    "random_search = RandomizedSearchCV(\n",
    "    pipeline,\n",
    "    param_distributions=param_dist,\n",
    "    n_iter=5,\n",
    "    cv=3,\n",
    "    scoring='neg_mean_squared_error',\n",
    "    verbose=1,\n",
    "    random_state=123,\n",
    "    n_jobs=-2\n",
    ")"
   ]
  },
  {
   "cell_type": "code",
   "execution_count": 55,
   "metadata": {},
   "outputs": [
    {
     "name": "stdout",
     "output_type": "stream",
     "text": [
      "Fitting 3 folds for each of 5 candidates, totalling 15 fits\n"
     ]
    },
    {
     "ename": "KeyboardInterrupt",
     "evalue": "",
     "output_type": "error",
     "traceback": [
      "\u001b[0;31m---------------------------------------------------------------------------\u001b[0m",
      "\u001b[0;31mKeyboardInterrupt\u001b[0m                         Traceback (most recent call last)",
      "\u001b[0;32m/tmp/ipykernel_408/3249278486.py\u001b[0m in \u001b[0;36m<module>\u001b[0;34m\u001b[0m\n\u001b[1;32m      1\u001b[0m \u001b[0;31m# Замер времени обучения\u001b[0m\u001b[0;34m\u001b[0m\u001b[0;34m\u001b[0m\u001b[0;34m\u001b[0m\u001b[0m\n\u001b[1;32m      2\u001b[0m \u001b[0mstart_train\u001b[0m \u001b[0;34m=\u001b[0m \u001b[0mtime\u001b[0m\u001b[0;34m(\u001b[0m\u001b[0;34m)\u001b[0m\u001b[0;34m\u001b[0m\u001b[0;34m\u001b[0m\u001b[0m\n\u001b[0;32m----> 3\u001b[0;31m \u001b[0mrandom_search\u001b[0m\u001b[0;34m.\u001b[0m\u001b[0mfit\u001b[0m\u001b[0;34m(\u001b[0m\u001b[0mX_train\u001b[0m\u001b[0;34m,\u001b[0m \u001b[0my_train\u001b[0m\u001b[0;34m)\u001b[0m\u001b[0;34m\u001b[0m\u001b[0;34m\u001b[0m\u001b[0m\n\u001b[0m\u001b[1;32m      4\u001b[0m \u001b[0mend_train\u001b[0m \u001b[0;34m=\u001b[0m \u001b[0mtime\u001b[0m\u001b[0;34m(\u001b[0m\u001b[0;34m)\u001b[0m\u001b[0;34m\u001b[0m\u001b[0;34m\u001b[0m\u001b[0m\n\u001b[1;32m      5\u001b[0m \u001b[0;34m\u001b[0m\u001b[0m\n",
      "\u001b[0;32m/opt/conda/lib/python3.9/site-packages/sklearn/base.py\u001b[0m in \u001b[0;36mwrapper\u001b[0;34m(estimator, *args, **kwargs)\u001b[0m\n\u001b[1;32m   1472\u001b[0m                 )\n\u001b[1;32m   1473\u001b[0m             ):\n\u001b[0;32m-> 1474\u001b[0;31m                 \u001b[0;32mreturn\u001b[0m \u001b[0mfit_method\u001b[0m\u001b[0;34m(\u001b[0m\u001b[0mestimator\u001b[0m\u001b[0;34m,\u001b[0m \u001b[0;34m*\u001b[0m\u001b[0margs\u001b[0m\u001b[0;34m,\u001b[0m \u001b[0;34m**\u001b[0m\u001b[0mkwargs\u001b[0m\u001b[0;34m)\u001b[0m\u001b[0;34m\u001b[0m\u001b[0;34m\u001b[0m\u001b[0m\n\u001b[0m\u001b[1;32m   1475\u001b[0m \u001b[0;34m\u001b[0m\u001b[0m\n\u001b[1;32m   1476\u001b[0m         \u001b[0;32mreturn\u001b[0m \u001b[0mwrapper\u001b[0m\u001b[0;34m\u001b[0m\u001b[0;34m\u001b[0m\u001b[0m\n",
      "\u001b[0;32m/opt/conda/lib/python3.9/site-packages/sklearn/model_selection/_search.py\u001b[0m in \u001b[0;36mfit\u001b[0;34m(self, X, y, **params)\u001b[0m\n\u001b[1;32m    968\u001b[0m                 \u001b[0;32mreturn\u001b[0m \u001b[0mresults\u001b[0m\u001b[0;34m\u001b[0m\u001b[0;34m\u001b[0m\u001b[0m\n\u001b[1;32m    969\u001b[0m \u001b[0;34m\u001b[0m\u001b[0m\n\u001b[0;32m--> 970\u001b[0;31m             \u001b[0mself\u001b[0m\u001b[0;34m.\u001b[0m\u001b[0m_run_search\u001b[0m\u001b[0;34m(\u001b[0m\u001b[0mevaluate_candidates\u001b[0m\u001b[0;34m)\u001b[0m\u001b[0;34m\u001b[0m\u001b[0;34m\u001b[0m\u001b[0m\n\u001b[0m\u001b[1;32m    971\u001b[0m \u001b[0;34m\u001b[0m\u001b[0m\n\u001b[1;32m    972\u001b[0m             \u001b[0;31m# multimetric is determined here because in the case of a callable\u001b[0m\u001b[0;34m\u001b[0m\u001b[0;34m\u001b[0m\u001b[0;34m\u001b[0m\u001b[0m\n",
      "\u001b[0;32m/opt/conda/lib/python3.9/site-packages/sklearn/model_selection/_search.py\u001b[0m in \u001b[0;36m_run_search\u001b[0;34m(self, evaluate_candidates)\u001b[0m\n\u001b[1;32m   1912\u001b[0m     \u001b[0;32mdef\u001b[0m \u001b[0m_run_search\u001b[0m\u001b[0;34m(\u001b[0m\u001b[0mself\u001b[0m\u001b[0;34m,\u001b[0m \u001b[0mevaluate_candidates\u001b[0m\u001b[0;34m)\u001b[0m\u001b[0;34m:\u001b[0m\u001b[0;34m\u001b[0m\u001b[0;34m\u001b[0m\u001b[0m\n\u001b[1;32m   1913\u001b[0m         \u001b[0;34m\"\"\"Search n_iter candidates from param_distributions\"\"\"\u001b[0m\u001b[0;34m\u001b[0m\u001b[0;34m\u001b[0m\u001b[0m\n\u001b[0;32m-> 1914\u001b[0;31m         evaluate_candidates(\n\u001b[0m\u001b[1;32m   1915\u001b[0m             ParameterSampler(\n\u001b[1;32m   1916\u001b[0m                 \u001b[0mself\u001b[0m\u001b[0;34m.\u001b[0m\u001b[0mparam_distributions\u001b[0m\u001b[0;34m,\u001b[0m \u001b[0mself\u001b[0m\u001b[0;34m.\u001b[0m\u001b[0mn_iter\u001b[0m\u001b[0;34m,\u001b[0m \u001b[0mrandom_state\u001b[0m\u001b[0;34m=\u001b[0m\u001b[0mself\u001b[0m\u001b[0;34m.\u001b[0m\u001b[0mrandom_state\u001b[0m\u001b[0;34m\u001b[0m\u001b[0;34m\u001b[0m\u001b[0m\n",
      "\u001b[0;32m/opt/conda/lib/python3.9/site-packages/sklearn/model_selection/_search.py\u001b[0m in \u001b[0;36mevaluate_candidates\u001b[0;34m(candidate_params, cv, more_results)\u001b[0m\n\u001b[1;32m    914\u001b[0m                     )\n\u001b[1;32m    915\u001b[0m \u001b[0;34m\u001b[0m\u001b[0m\n\u001b[0;32m--> 916\u001b[0;31m                 out = parallel(\n\u001b[0m\u001b[1;32m    917\u001b[0m                     delayed(_fit_and_score)(\n\u001b[1;32m    918\u001b[0m                         \u001b[0mclone\u001b[0m\u001b[0;34m(\u001b[0m\u001b[0mbase_estimator\u001b[0m\u001b[0;34m)\u001b[0m\u001b[0;34m,\u001b[0m\u001b[0;34m\u001b[0m\u001b[0;34m\u001b[0m\u001b[0m\n",
      "\u001b[0;32m/opt/conda/lib/python3.9/site-packages/sklearn/utils/parallel.py\u001b[0m in \u001b[0;36m__call__\u001b[0;34m(self, iterable)\u001b[0m\n\u001b[1;32m     65\u001b[0m             \u001b[0;32mfor\u001b[0m \u001b[0mdelayed_func\u001b[0m\u001b[0;34m,\u001b[0m \u001b[0margs\u001b[0m\u001b[0;34m,\u001b[0m \u001b[0mkwargs\u001b[0m \u001b[0;32min\u001b[0m \u001b[0miterable\u001b[0m\u001b[0;34m\u001b[0m\u001b[0;34m\u001b[0m\u001b[0m\n\u001b[1;32m     66\u001b[0m         )\n\u001b[0;32m---> 67\u001b[0;31m         \u001b[0;32mreturn\u001b[0m \u001b[0msuper\u001b[0m\u001b[0;34m(\u001b[0m\u001b[0;34m)\u001b[0m\u001b[0;34m.\u001b[0m\u001b[0m__call__\u001b[0m\u001b[0;34m(\u001b[0m\u001b[0miterable_with_config\u001b[0m\u001b[0;34m)\u001b[0m\u001b[0;34m\u001b[0m\u001b[0;34m\u001b[0m\u001b[0m\n\u001b[0m\u001b[1;32m     68\u001b[0m \u001b[0;34m\u001b[0m\u001b[0m\n\u001b[1;32m     69\u001b[0m \u001b[0;34m\u001b[0m\u001b[0m\n",
      "\u001b[0;32m/opt/conda/lib/python3.9/site-packages/joblib/parallel.py\u001b[0m in \u001b[0;36m__call__\u001b[0;34m(self, iterable)\u001b[0m\n\u001b[1;32m   1861\u001b[0m             \u001b[0moutput\u001b[0m \u001b[0;34m=\u001b[0m \u001b[0mself\u001b[0m\u001b[0;34m.\u001b[0m\u001b[0m_get_sequential_output\u001b[0m\u001b[0;34m(\u001b[0m\u001b[0miterable\u001b[0m\u001b[0;34m)\u001b[0m\u001b[0;34m\u001b[0m\u001b[0;34m\u001b[0m\u001b[0m\n\u001b[1;32m   1862\u001b[0m             \u001b[0mnext\u001b[0m\u001b[0;34m(\u001b[0m\u001b[0moutput\u001b[0m\u001b[0;34m)\u001b[0m\u001b[0;34m\u001b[0m\u001b[0;34m\u001b[0m\u001b[0m\n\u001b[0;32m-> 1863\u001b[0;31m             \u001b[0;32mreturn\u001b[0m \u001b[0moutput\u001b[0m \u001b[0;32mif\u001b[0m \u001b[0mself\u001b[0m\u001b[0;34m.\u001b[0m\u001b[0mreturn_generator\u001b[0m \u001b[0;32melse\u001b[0m \u001b[0mlist\u001b[0m\u001b[0;34m(\u001b[0m\u001b[0moutput\u001b[0m\u001b[0;34m)\u001b[0m\u001b[0;34m\u001b[0m\u001b[0;34m\u001b[0m\u001b[0m\n\u001b[0m\u001b[1;32m   1864\u001b[0m \u001b[0;34m\u001b[0m\u001b[0m\n\u001b[1;32m   1865\u001b[0m         \u001b[0;31m# Let's create an ID that uniquely identifies the current call. If the\u001b[0m\u001b[0;34m\u001b[0m\u001b[0;34m\u001b[0m\u001b[0;34m\u001b[0m\u001b[0m\n",
      "\u001b[0;32m/opt/conda/lib/python3.9/site-packages/joblib/parallel.py\u001b[0m in \u001b[0;36m_get_sequential_output\u001b[0;34m(self, iterable)\u001b[0m\n\u001b[1;32m   1790\u001b[0m                 \u001b[0mself\u001b[0m\u001b[0;34m.\u001b[0m\u001b[0mn_dispatched_batches\u001b[0m \u001b[0;34m+=\u001b[0m \u001b[0;36m1\u001b[0m\u001b[0;34m\u001b[0m\u001b[0;34m\u001b[0m\u001b[0m\n\u001b[1;32m   1791\u001b[0m                 \u001b[0mself\u001b[0m\u001b[0;34m.\u001b[0m\u001b[0mn_dispatched_tasks\u001b[0m \u001b[0;34m+=\u001b[0m \u001b[0;36m1\u001b[0m\u001b[0;34m\u001b[0m\u001b[0;34m\u001b[0m\u001b[0m\n\u001b[0;32m-> 1792\u001b[0;31m                 \u001b[0mres\u001b[0m \u001b[0;34m=\u001b[0m \u001b[0mfunc\u001b[0m\u001b[0;34m(\u001b[0m\u001b[0;34m*\u001b[0m\u001b[0margs\u001b[0m\u001b[0;34m,\u001b[0m \u001b[0;34m**\u001b[0m\u001b[0mkwargs\u001b[0m\u001b[0;34m)\u001b[0m\u001b[0;34m\u001b[0m\u001b[0;34m\u001b[0m\u001b[0m\n\u001b[0m\u001b[1;32m   1793\u001b[0m                 \u001b[0mself\u001b[0m\u001b[0;34m.\u001b[0m\u001b[0mn_completed_tasks\u001b[0m \u001b[0;34m+=\u001b[0m \u001b[0;36m1\u001b[0m\u001b[0;34m\u001b[0m\u001b[0;34m\u001b[0m\u001b[0m\n\u001b[1;32m   1794\u001b[0m                 \u001b[0mself\u001b[0m\u001b[0;34m.\u001b[0m\u001b[0mprint_progress\u001b[0m\u001b[0;34m(\u001b[0m\u001b[0;34m)\u001b[0m\u001b[0;34m\u001b[0m\u001b[0;34m\u001b[0m\u001b[0m\n",
      "\u001b[0;32m/opt/conda/lib/python3.9/site-packages/sklearn/utils/parallel.py\u001b[0m in \u001b[0;36m__call__\u001b[0;34m(self, *args, **kwargs)\u001b[0m\n\u001b[1;32m    127\u001b[0m             \u001b[0mconfig\u001b[0m \u001b[0;34m=\u001b[0m \u001b[0;34m{\u001b[0m\u001b[0;34m}\u001b[0m\u001b[0;34m\u001b[0m\u001b[0;34m\u001b[0m\u001b[0m\n\u001b[1;32m    128\u001b[0m         \u001b[0;32mwith\u001b[0m \u001b[0mconfig_context\u001b[0m\u001b[0;34m(\u001b[0m\u001b[0;34m**\u001b[0m\u001b[0mconfig\u001b[0m\u001b[0;34m)\u001b[0m\u001b[0;34m:\u001b[0m\u001b[0;34m\u001b[0m\u001b[0;34m\u001b[0m\u001b[0m\n\u001b[0;32m--> 129\u001b[0;31m             \u001b[0;32mreturn\u001b[0m \u001b[0mself\u001b[0m\u001b[0;34m.\u001b[0m\u001b[0mfunction\u001b[0m\u001b[0;34m(\u001b[0m\u001b[0;34m*\u001b[0m\u001b[0margs\u001b[0m\u001b[0;34m,\u001b[0m \u001b[0;34m**\u001b[0m\u001b[0mkwargs\u001b[0m\u001b[0;34m)\u001b[0m\u001b[0;34m\u001b[0m\u001b[0;34m\u001b[0m\u001b[0m\n\u001b[0m",
      "\u001b[0;32m/opt/conda/lib/python3.9/site-packages/sklearn/model_selection/_validation.py\u001b[0m in \u001b[0;36m_fit_and_score\u001b[0;34m(estimator, X, y, scorer, train, test, verbose, parameters, fit_params, score_params, return_train_score, return_parameters, return_n_test_samples, return_times, return_estimator, split_progress, candidate_progress, error_score)\u001b[0m\n\u001b[1;32m    893\u001b[0m             \u001b[0mestimator\u001b[0m\u001b[0;34m.\u001b[0m\u001b[0mfit\u001b[0m\u001b[0;34m(\u001b[0m\u001b[0mX_train\u001b[0m\u001b[0;34m,\u001b[0m \u001b[0;34m**\u001b[0m\u001b[0mfit_params\u001b[0m\u001b[0;34m)\u001b[0m\u001b[0;34m\u001b[0m\u001b[0;34m\u001b[0m\u001b[0m\n\u001b[1;32m    894\u001b[0m         \u001b[0;32melse\u001b[0m\u001b[0;34m:\u001b[0m\u001b[0;34m\u001b[0m\u001b[0;34m\u001b[0m\u001b[0m\n\u001b[0;32m--> 895\u001b[0;31m             \u001b[0mestimator\u001b[0m\u001b[0;34m.\u001b[0m\u001b[0mfit\u001b[0m\u001b[0;34m(\u001b[0m\u001b[0mX_train\u001b[0m\u001b[0;34m,\u001b[0m \u001b[0my_train\u001b[0m\u001b[0;34m,\u001b[0m \u001b[0;34m**\u001b[0m\u001b[0mfit_params\u001b[0m\u001b[0;34m)\u001b[0m\u001b[0;34m\u001b[0m\u001b[0;34m\u001b[0m\u001b[0m\n\u001b[0m\u001b[1;32m    896\u001b[0m \u001b[0;34m\u001b[0m\u001b[0m\n\u001b[1;32m    897\u001b[0m     \u001b[0;32mexcept\u001b[0m \u001b[0mException\u001b[0m\u001b[0;34m:\u001b[0m\u001b[0;34m\u001b[0m\u001b[0;34m\u001b[0m\u001b[0m\n",
      "\u001b[0;32m/opt/conda/lib/python3.9/site-packages/sklearn/base.py\u001b[0m in \u001b[0;36mwrapper\u001b[0;34m(estimator, *args, **kwargs)\u001b[0m\n\u001b[1;32m   1472\u001b[0m                 )\n\u001b[1;32m   1473\u001b[0m             ):\n\u001b[0;32m-> 1474\u001b[0;31m                 \u001b[0;32mreturn\u001b[0m \u001b[0mfit_method\u001b[0m\u001b[0;34m(\u001b[0m\u001b[0mestimator\u001b[0m\u001b[0;34m,\u001b[0m \u001b[0;34m*\u001b[0m\u001b[0margs\u001b[0m\u001b[0;34m,\u001b[0m \u001b[0;34m**\u001b[0m\u001b[0mkwargs\u001b[0m\u001b[0;34m)\u001b[0m\u001b[0;34m\u001b[0m\u001b[0;34m\u001b[0m\u001b[0m\n\u001b[0m\u001b[1;32m   1475\u001b[0m \u001b[0;34m\u001b[0m\u001b[0m\n\u001b[1;32m   1476\u001b[0m         \u001b[0;32mreturn\u001b[0m \u001b[0mwrapper\u001b[0m\u001b[0;34m\u001b[0m\u001b[0;34m\u001b[0m\u001b[0m\n",
      "\u001b[0;32m/opt/conda/lib/python3.9/site-packages/sklearn/pipeline.py\u001b[0m in \u001b[0;36mfit\u001b[0;34m(self, X, y, **params)\u001b[0m\n\u001b[1;32m    473\u001b[0m             \u001b[0;32mif\u001b[0m \u001b[0mself\u001b[0m\u001b[0;34m.\u001b[0m\u001b[0m_final_estimator\u001b[0m \u001b[0;34m!=\u001b[0m \u001b[0;34m\"passthrough\"\u001b[0m\u001b[0;34m:\u001b[0m\u001b[0;34m\u001b[0m\u001b[0;34m\u001b[0m\u001b[0m\n\u001b[1;32m    474\u001b[0m                 \u001b[0mlast_step_params\u001b[0m \u001b[0;34m=\u001b[0m \u001b[0mrouted_params\u001b[0m\u001b[0;34m[\u001b[0m\u001b[0mself\u001b[0m\u001b[0;34m.\u001b[0m\u001b[0msteps\u001b[0m\u001b[0;34m[\u001b[0m\u001b[0;34m-\u001b[0m\u001b[0;36m1\u001b[0m\u001b[0;34m]\u001b[0m\u001b[0;34m[\u001b[0m\u001b[0;36m0\u001b[0m\u001b[0;34m]\u001b[0m\u001b[0;34m]\u001b[0m\u001b[0;34m\u001b[0m\u001b[0;34m\u001b[0m\u001b[0m\n\u001b[0;32m--> 475\u001b[0;31m                 \u001b[0mself\u001b[0m\u001b[0;34m.\u001b[0m\u001b[0m_final_estimator\u001b[0m\u001b[0;34m.\u001b[0m\u001b[0mfit\u001b[0m\u001b[0;34m(\u001b[0m\u001b[0mXt\u001b[0m\u001b[0;34m,\u001b[0m \u001b[0my\u001b[0m\u001b[0;34m,\u001b[0m \u001b[0;34m**\u001b[0m\u001b[0mlast_step_params\u001b[0m\u001b[0;34m[\u001b[0m\u001b[0;34m\"fit\"\u001b[0m\u001b[0;34m]\u001b[0m\u001b[0;34m)\u001b[0m\u001b[0;34m\u001b[0m\u001b[0;34m\u001b[0m\u001b[0m\n\u001b[0m\u001b[1;32m    476\u001b[0m \u001b[0;34m\u001b[0m\u001b[0m\n\u001b[1;32m    477\u001b[0m         \u001b[0;32mreturn\u001b[0m \u001b[0mself\u001b[0m\u001b[0;34m\u001b[0m\u001b[0;34m\u001b[0m\u001b[0m\n",
      "\u001b[0;32m/opt/conda/lib/python3.9/site-packages/lightgbm/sklearn.py\u001b[0m in \u001b[0;36mfit\u001b[0;34m(self, X, y, sample_weight, init_score, eval_set, eval_names, eval_sample_weight, eval_init_score, eval_metric, early_stopping_rounds, verbose, feature_name, categorical_feature, callbacks, init_model)\u001b[0m\n\u001b[1;32m    893\u001b[0m             callbacks=None, init_model=None):\n\u001b[1;32m    894\u001b[0m         \u001b[0;34m\"\"\"Docstring is inherited from the LGBMModel.\"\"\"\u001b[0m\u001b[0;34m\u001b[0m\u001b[0;34m\u001b[0m\u001b[0m\n\u001b[0;32m--> 895\u001b[0;31m         super().fit(X, y, sample_weight=sample_weight, init_score=init_score,\n\u001b[0m\u001b[1;32m    896\u001b[0m                     \u001b[0meval_set\u001b[0m\u001b[0;34m=\u001b[0m\u001b[0meval_set\u001b[0m\u001b[0;34m,\u001b[0m \u001b[0meval_names\u001b[0m\u001b[0;34m=\u001b[0m\u001b[0meval_names\u001b[0m\u001b[0;34m,\u001b[0m \u001b[0meval_sample_weight\u001b[0m\u001b[0;34m=\u001b[0m\u001b[0meval_sample_weight\u001b[0m\u001b[0;34m,\u001b[0m\u001b[0;34m\u001b[0m\u001b[0;34m\u001b[0m\u001b[0m\n\u001b[1;32m    897\u001b[0m                     \u001b[0meval_init_score\u001b[0m\u001b[0;34m=\u001b[0m\u001b[0meval_init_score\u001b[0m\u001b[0;34m,\u001b[0m \u001b[0meval_metric\u001b[0m\u001b[0;34m=\u001b[0m\u001b[0meval_metric\u001b[0m\u001b[0;34m,\u001b[0m\u001b[0;34m\u001b[0m\u001b[0;34m\u001b[0m\u001b[0m\n",
      "\u001b[0;32m/opt/conda/lib/python3.9/site-packages/lightgbm/sklearn.py\u001b[0m in \u001b[0;36mfit\u001b[0;34m(self, X, y, sample_weight, init_score, group, eval_set, eval_names, eval_sample_weight, eval_class_weight, eval_init_score, eval_group, eval_metric, early_stopping_rounds, verbose, feature_name, categorical_feature, callbacks, init_model)\u001b[0m\n\u001b[1;32m    746\u001b[0m         \u001b[0mcallbacks\u001b[0m\u001b[0;34m.\u001b[0m\u001b[0mappend\u001b[0m\u001b[0;34m(\u001b[0m\u001b[0mrecord_evaluation\u001b[0m\u001b[0;34m(\u001b[0m\u001b[0mevals_result\u001b[0m\u001b[0;34m)\u001b[0m\u001b[0;34m)\u001b[0m\u001b[0;34m\u001b[0m\u001b[0;34m\u001b[0m\u001b[0m\n\u001b[1;32m    747\u001b[0m \u001b[0;34m\u001b[0m\u001b[0m\n\u001b[0;32m--> 748\u001b[0;31m         self._Booster = train(\n\u001b[0m\u001b[1;32m    749\u001b[0m             \u001b[0mparams\u001b[0m\u001b[0;34m=\u001b[0m\u001b[0mparams\u001b[0m\u001b[0;34m,\u001b[0m\u001b[0;34m\u001b[0m\u001b[0;34m\u001b[0m\u001b[0m\n\u001b[1;32m    750\u001b[0m             \u001b[0mtrain_set\u001b[0m\u001b[0;34m=\u001b[0m\u001b[0mtrain_set\u001b[0m\u001b[0;34m,\u001b[0m\u001b[0;34m\u001b[0m\u001b[0;34m\u001b[0m\u001b[0m\n",
      "\u001b[0;32m/opt/conda/lib/python3.9/site-packages/lightgbm/engine.py\u001b[0m in \u001b[0;36mtrain\u001b[0;34m(params, train_set, num_boost_round, valid_sets, valid_names, fobj, feval, init_model, feature_name, categorical_feature, early_stopping_rounds, evals_result, verbose_eval, learning_rates, keep_training_booster, callbacks)\u001b[0m\n\u001b[1;32m    290\u001b[0m                                     evaluation_result_list=None))\n\u001b[1;32m    291\u001b[0m \u001b[0;34m\u001b[0m\u001b[0m\n\u001b[0;32m--> 292\u001b[0;31m         \u001b[0mbooster\u001b[0m\u001b[0;34m.\u001b[0m\u001b[0mupdate\u001b[0m\u001b[0;34m(\u001b[0m\u001b[0mfobj\u001b[0m\u001b[0;34m=\u001b[0m\u001b[0mfobj\u001b[0m\u001b[0;34m)\u001b[0m\u001b[0;34m\u001b[0m\u001b[0;34m\u001b[0m\u001b[0m\n\u001b[0m\u001b[1;32m    293\u001b[0m \u001b[0;34m\u001b[0m\u001b[0m\n\u001b[1;32m    294\u001b[0m         \u001b[0mevaluation_result_list\u001b[0m \u001b[0;34m=\u001b[0m \u001b[0;34m[\u001b[0m\u001b[0;34m]\u001b[0m\u001b[0;34m\u001b[0m\u001b[0;34m\u001b[0m\u001b[0m\n",
      "\u001b[0;32m/opt/conda/lib/python3.9/site-packages/lightgbm/basic.py\u001b[0m in \u001b[0;36mupdate\u001b[0;34m(self, train_set, fobj)\u001b[0m\n\u001b[1;32m   3019\u001b[0m             \u001b[0;32mif\u001b[0m \u001b[0mself\u001b[0m\u001b[0;34m.\u001b[0m\u001b[0m__set_objective_to_none\u001b[0m\u001b[0;34m:\u001b[0m\u001b[0;34m\u001b[0m\u001b[0;34m\u001b[0m\u001b[0m\n\u001b[1;32m   3020\u001b[0m                 \u001b[0;32mraise\u001b[0m \u001b[0mLightGBMError\u001b[0m\u001b[0;34m(\u001b[0m\u001b[0;34m'Cannot update due to null objective function.'\u001b[0m\u001b[0;34m)\u001b[0m\u001b[0;34m\u001b[0m\u001b[0;34m\u001b[0m\u001b[0m\n\u001b[0;32m-> 3021\u001b[0;31m             _safe_call(_LIB.LGBM_BoosterUpdateOneIter(\n\u001b[0m\u001b[1;32m   3022\u001b[0m                 \u001b[0mself\u001b[0m\u001b[0;34m.\u001b[0m\u001b[0mhandle\u001b[0m\u001b[0;34m,\u001b[0m\u001b[0;34m\u001b[0m\u001b[0;34m\u001b[0m\u001b[0m\n\u001b[1;32m   3023\u001b[0m                 ctypes.byref(is_finished)))\n",
      "\u001b[0;31mKeyboardInterrupt\u001b[0m: "
     ]
    }
   ],
   "source": [
    "# Замер времени обучения\n",
    "start_train = time()\n",
    "random_search.fit(X_train, y_train)\n",
    "end_train = time()\n",
    "\n",
    "# Вывод общего времени выполнения обучения\n",
    "train_time = end_train - start_train\n",
    "print(\"Время обучения: {:.2f} секунд\".format(train_time))\n",
    "\n",
    "# Лучшая модель и параметры\n",
    "print(\"Лучшее значение neg_mean_squared_error:\", random_search.best_score_)\n",
    "print(\"Лучшие параметры:\", random_search.best_params_)\n",
    "\n",
    "# Получение лучшей модели\n",
    "best_model = random_search.best_estimator_\n",
    "\n",
    "\n",
    "# Замер времени предсказания на обучающей выборке\n",
    "start_predict = time()\n",
    "predictions = best_model.predict(X_train)\n",
    "end_predict = time()\n",
    "\n",
    "# Время затраченное на предсказание\n",
    "predict_time = end_predict - start_predict\n",
    "print(\"Время предсказания: {:.2f} секунд\".format(predict_time))\n"
   ]
  },
  {
   "cell_type": "code",
   "execution_count": null,
   "metadata": {},
   "outputs": [],
   "source": [
    "model1_predict_time = predict_time\n",
    "model1_train_time = train_time\n",
    "model1_params = random_search.best_params_\n",
    "model1_rmse = np.sqrt(-random_search.best_score_)"
   ]
  },
  {
   "cell_type": "code",
   "execution_count": null,
   "metadata": {},
   "outputs": [],
   "source": [
    "model1_params"
   ]
  },
  {
   "cell_type": "markdown",
   "metadata": {},
   "source": [
    "### Model 2 RandomizedSearchCV + CatboostReg."
   ]
  },
  {
   "cell_type": "code",
   "execution_count": null,
   "metadata": {},
   "outputs": [],
   "source": [
    "param_distributions = {\n",
    "    'regressor__depth': np.arange(4, 10),\n",
    "    'regressor__learning_rate': np.logspace(-3, -1, 10),\n",
    "    'regressor__iterations': [100, 200, 300, 400, 500],\n",
    "    'regressor__l2_leaf_reg': np.logspace(-2, 0, 10)\n",
    "}"
   ]
  },
  {
   "cell_type": "code",
   "execution_count": null,
   "metadata": {},
   "outputs": [],
   "source": [
    "pipeline = Pipeline([\n",
    "    ('preprocessor', preprocessor),  \n",
    "    ('regressor', CatBoostRegressor(silent=True))\n",
    "])"
   ]
  },
  {
   "cell_type": "code",
   "execution_count": null,
   "metadata": {},
   "outputs": [],
   "source": [
    "random_search_cat = RandomizedSearchCV(\n",
    "    estimator=pipeline,\n",
    "    param_distributions=param_distributions,\n",
    "    n_iter=5, \n",
    "    cv=3,  \n",
    "    scoring='neg_mean_squared_error',  \n",
    "    verbose=1,\n",
    "    random_state=123,\n",
    "    n_jobs=-2  \n",
    ")"
   ]
  },
  {
   "cell_type": "code",
   "execution_count": null,
   "metadata": {},
   "outputs": [],
   "source": [
    "# Замер времени перед обучением\n",
    "start_train_time = time()\n",
    "random_search_cat.fit(X_train, y_train)\n",
    "end_train_time = time()\n",
    "\n",
    "# Вывод времени обучения\n",
    "train_time = end_train_time - start_train_time\n",
    "print(\"Время обучения: {:.2f} секунд\".format(train_time))\n",
    "\n",
    "# Лучшая модель\n",
    "best_model = random_search_cat.best_estimator_\n",
    "\n",
    "# Замер времени перед предсказанием\n",
    "start_predict_time = time()\n",
    "predictions = best_model.predict(X_test)\n",
    "end_predict_time = time()\n",
    "\n",
    "# Вывод времени предсказания\n",
    "predict_time = end_predict_time - start_predict_time\n",
    "print(\"Время предсказания: {:.2f} секунд\".format(predict_time))\n",
    "\n",
    "\n",
    "print(\"Лучшее значение NMSE:\", random_search_cat.best_params_)\n",
    "\n",
    "# Вывод лучших параметров модели\n",
    "print(\"Лучшее значение NMSE::\", random_search_cat.best_score_)\n"
   ]
  },
  {
   "cell_type": "code",
   "execution_count": null,
   "metadata": {},
   "outputs": [],
   "source": [
    "model2_predict_time = predict_time\n",
    "model2_train_time = train_time\n",
    "\n",
    "model2_params = random_search_cat.best_params_\n",
    "model2_rmse = np.sqrt(-random_search_cat.best_score_)"
   ]
  },
  {
   "cell_type": "markdown",
   "metadata": {},
   "source": [
    "### Model 3 RandomizedSearchCV + RandomForestRegressor."
   ]
  },
  {
   "cell_type": "code",
   "execution_count": null,
   "metadata": {},
   "outputs": [],
   "source": [
    "# Создание пайплайна, включающего предобработчик и RandomForestRegressor\n",
    "pipeline = Pipeline([\n",
    "    ('preprocessor', preprocessor),  \n",
    "    ('regressor', RandomForestRegressor(random_state=42))\n",
    "])"
   ]
  },
  {
   "cell_type": "code",
   "execution_count": null,
   "metadata": {},
   "outputs": [],
   "source": [
    "# Определение диапазона гиперпараметров для RandomizedSearchCV\n",
    "param_distributions = {\n",
    "    'regressor__n_estimators': randint(10, 30),  # Количество деревьев в лесу\n",
    "    'regressor__max_depth': randint(2, 10),  # Максимальная глубина дерева\n",
    "    'regressor__min_samples_split': randint(2, 11),  # Минимальное количество образцов, необходимое для разделения внутреннего узла\n",
    "    'regressor__min_samples_leaf': randint(1, 11)  # Минимальное количество образцов, необходимое в листовом узле\n",
    "}"
   ]
  },
  {
   "cell_type": "code",
   "execution_count": null,
   "metadata": {},
   "outputs": [],
   "source": [
    "forest_reg = RandomizedSearchCV(\n",
    "    estimator=pipeline,\n",
    "    param_distributions=param_distributions,\n",
    "    n_iter=5,  \n",
    "    cv=3,  \n",
    "    scoring='neg_mean_squared_error',  # Метрика для оценки\n",
    "    verbose=1,\n",
    "    random_state=42,\n",
    "    n_jobs=-2  \n",
    ")"
   ]
  },
  {
   "cell_type": "code",
   "execution_count": null,
   "metadata": {},
   "outputs": [],
   "source": [
    "# Начало замера времени обучения\n",
    "start_train_time = time()\n",
    "forest_reg.fit(X_train, y_train)\n",
    "end_train_time = time()\n",
    "\n",
    "# Вычисление и сохранение общего времени выполнения обучения\n",
    "train_time = end_train_time - start_train_time\n",
    "print(\"Время обучения: {:.2f} секунд\".format(train_time))\n",
    "\n",
    "# Получение лучшей модели из RandomizedSearchCV\n",
    "best_model = forest_reg.best_estimator_\n",
    "\n",
    "# Начало замера времени предсказания\n",
    "start_predict_time = time()\n",
    "predictions = best_model.predict(X_test)\n",
    "end_predict_time = time()\n",
    "\n",
    "# Время, затраченное на предсказание\n",
    "predict_time = end_predict_time - start_predict_time\n",
    "print(\"Время предсказания: {:.2f} секунд\".format(predict_time))\n",
    "\n",
    "# Вывод лучших параметров и соответствующего им значения метрики из RandomizedSearchCV\n",
    "print(\"Лучшие параметры:\", forest_reg.best_params_)\n",
    "print(\"Лучшее значение метрики (NMSE) на кросс-валидации:\",forest_reg.best_score_)"
   ]
  },
  {
   "cell_type": "code",
   "execution_count": null,
   "metadata": {},
   "outputs": [],
   "source": [
    "model3_predict_time = predict_time\n",
    "model3_train_time = train_time\n",
    "model3_params = forest_reg.best_params_\n",
    "model3_rmse = np.sqrt(-forest_reg.best_score_)"
   ]
  },
  {
   "cell_type": "markdown",
   "metadata": {},
   "source": [
    "## Анализ моделей"
   ]
  },
  {
   "cell_type": "markdown",
   "metadata": {},
   "source": [
    "Соберем всю нашу инфорамацию о моделях в один датафрейм:"
   ]
  },
  {
   "cell_type": "code",
   "execution_count": null,
   "metadata": {},
   "outputs": [],
   "source": [
    "# Сборка результатов в DataFrame\n",
    "results_df = pd.DataFrame({\n",
    "    'Model': ['RandomizedSearchCV + LGBM', 'RandomizedSearchCV + CatBoost', 'RandomizedSearchCV + RandomForest'],\n",
    "    'Train Time': [model1_train_time, model2_train_time, model3_train_time],\n",
    "    'Predict Time': [model1_predict_time, model2_predict_time, model3_predict_time],\n",
    "    'Best Parameters': [model1_params, model2_params, model3_params],\n",
    "    'RMSE': [model1_rmse, model2_rmse, model3_rmse]\n",
    "})\n",
    "\n",
    "# Вывод таблицы на экран\n",
    "display(results_df)"
   ]
  },
  {
   "cell_type": "markdown",
   "metadata": {},
   "source": [
    "Я считаю, что лучше всего себя показала модель RandomizedSearchCV + LGBM, которая хоть и немного дольше обучается, но предсказывает точнее. (на моей машине 1ая модель при одинаковом числе итераций считалась всегда быстрее, не знаю почему на сервере так)"
   ]
  },
  {
   "cell_type": "code",
   "execution_count": null,
   "metadata": {},
   "outputs": [],
   "source": [
    "%%time\n",
    "\n",
    "# Начало замера времени предсказания\n",
    "start_predict_time = time()\n",
    "\n",
    "# Предсказание значений для тестового набора данных\n",
    "y_pred = random_search.predict(X_test)\n",
    "\n",
    "# Конец замера времени предсказания\n",
    "end_predict_time = time()\n",
    "\n",
    "# Расчет времени, затраченного на предсказание\n",
    "predict_time = end_predict_time - start_predict_time\n",
    "print(\"Время, затраченное на предсказание: {:.4f} секунд\".format(predict_time))\n",
    "\n",
    "# Расчет Mean Squared Error (MSE)\n",
    "mse = mean_squared_error(y_test, y_pred)\n",
    "\n",
    "# Расчет Root Mean Squared Error (RMSE)\n",
    "rmse = np.sqrt(mse)\n",
    "\n",
    "print(\"RMSE финальной модели на тестовой выборке:\", rmse)"
   ]
  },
  {
   "cell_type": "markdown",
   "metadata": {},
   "source": [
    "#### **Итоги работы с моделями машинного обучения**\n",
    "\n",
    "**Обзор моделей**\n",
    "\n",
    "Были обучены и оптимизированы три различные модели машинного обучения для задачи регрессии с использованием RandomizedSearchCV:\n",
    "\n",
    "Model\tTrain Time\tPredict Time\tBest Parameters\tRMSE\n",
    "0\tRandomizedSearchCV + LGBM\t10.03\t0.33\t{'model__learning_rate': 0.23817697100537236, ...\t1,878.46\n",
    "1\tRandomizedSearchCV + CatBoost\t44.06\t0.11\t{'regressor__learning_rate': 0.021544346900318...\t1,986.12\n",
    "2\tRandomizedSearchCV + RandomForest\t38.66\t0.10\t{'regressor__max_depth': 8, 'regressor__min_sa...\t2,126.83\n",
    "* `LightGBM Regressor`\n",
    "\n",
    "  * Время обучения: 45 секунд\n",
    "  * Время предсказания: 0.2\n",
    "  * Лучшие параметры: {model__learning_rate: 0.265, model__max_depth: 0, model__n_estimators: 101, model__num_leaves: 137}\n",
    "  * RMSE: 1705.74\n",
    "* `CatBoost Regressor`\n",
    "\n",
    "  * Время обучения: 38 секунд\n",
    "  * Время предсказания: 0.11\n",
    "  * Лучшие параметры: {regressor__learning_rate: 0.0215}\n",
    "  * RMSE: 1946.14\n",
    "* `Random Forest Regressor`\n",
    "\n",
    "  * Время обучения: 25 секунд\n",
    "  * Время предсказания: 0.10\n",
    "  * Лучшие параметры: {regressor__max_depth: 8, regressor__min_samples_leaf: 4, regressor__min_samples_split: 9, regressor__n_estimators: 16}\n",
    "  * RMSE: 2067.94\n",
    "\n",
    "**Финальная модель**\n",
    "Из трех рассмотренных моделей, LightGBM Regressor показал лучший результат по метрике RMSE (1705.74) на кросс-валидации. Это делает её предпочтительным выбором для данной задачи регрессии среди рассмотренных моделей.\n",
    "\n",
    "**Время выполнения и эффективность** \n",
    "\n",
    "Несмотря на то, что LightGBM показал наилучшую производительность с точки зрения RMSE, модель также требовала наименьшее время для выполнения обучения среди всех трех.\n",
    "CatBoost и Random Forest показали себя как менее быстрые модели, но с более высоким RMSE, что указывает на потенциальное ухудшение качества предсказаний.\n",
    "\n",
    "**Выводы**\n",
    "\n",
    "LightGBM Regressor стал лучшим выбором для решения поставленной задачи благодаря оптимальному сочетанию точности предсказаний и времени выполнения, также он занял меньше времени по сравнению с другими моделями.\n",
    "Однако, при выборе модели для внедрения в продакшн следует также учитывать другие факторы, такие как интерпретируемость модели, время инференса и ресурсы на обучение.\n",
    "\n",
    "**Рекомендации**\n",
    "\n",
    "Для дальнейшего улучшения модели и минимизации RMSE рекомендуется:\n",
    "\n",
    "* Дополнительно исследовать пространство гиперпараметров.\n",
    "* Провести анализ важности признаков и исключить менее важные, что может улучшить качество модели и уменьшить время обучения.\n",
    "* Рассмотреть возможность использования ансамблевых методов, объединяющих предсказания нескольких моделей."
   ]
  },
  {
   "cell_type": "markdown",
   "metadata": {},
   "source": [
    "## Бизнес-интерпретация"
   ]
  },
  {
   "cell_type": "markdown",
   "metadata": {},
   "source": [
    "**В процессе работы были выполнены следующие шаги:**\n",
    "\n",
    "Подготовка и анализ данных, включая обработку пропусков и аномалий.\n",
    "Разделение данных на обучающую и тестовую выборки.\n",
    "Обучение моделей машинного обучения, включая LightGBM, CatBoost и RandomForestRegressor, с последующим подбором гиперпараметров через RandomizedSearchCV.\n",
    "Сравнение моделей по качеству предсказаний, времени обучения и времени предсказания."
   ]
  },
  {
   "cell_type": "markdown",
   "metadata": {},
   "source": [
    "### Результаты"
   ]
  },
  {
   "cell_type": "markdown",
   "metadata": {},
   "source": [
    "( на моей вычислительной машине разница между временем обучения моделей была в минуту. )"
   ]
  },
  {
   "cell_type": "markdown",
   "metadata": {},
   "source": [
    "\n",
    "Модель, основанная на LightGBM, продемонстрировала лучшее качество предсказаний с RMSE = 1883.78,\\\n",
    "что является наилучшим результатом среди рассмотренных моделей. \\\n",
    "Хотя время обучения модели LightGBM было ниже по сравнению с CatBoost и RandomForestRegressor,\\\n",
    "необходимо отметить, что в процессе обучения LightGBM было проведено примерно столько же итераций. \\\n",
    "Это свидетельствует о высокой эффективности LightGBM с точки зрения соотношения времени обучения к качеству предсказаний.\n"
   ]
  },
  {
   "cell_type": "markdown",
   "metadata": {},
   "source": [
    "#### Польза для бизнеса "
   ]
  },
  {
   "cell_type": "markdown",
   "metadata": {},
   "source": [
    "Модель на основе LightGBM, несмотря на более продолжительное время обучения,\\\n",
    "является оптимальным выбором для решения задачи оценки стоимости автомобилей в рамках сервиса \"Не бит, не крашен\". \\\n",
    "Высокая точность предсказаний и разумное время обучения делают эту модель ценным инструментом для бизнеса, \\\n",
    "способным значительно улучшить пользовательский опыт и повысить конкурентоспособность сервиса на рынке."
   ]
  }
 ],
 "metadata": {
  "ExecuteTimeLog": [
   {
    "duration": 1995,
    "start_time": "2024-03-21T19:33:18.691Z"
   },
   {
    "duration": 0,
    "start_time": "2024-03-21T19:33:20.692Z"
   },
   {
    "duration": 0,
    "start_time": "2024-03-21T19:33:20.693Z"
   },
   {
    "duration": 0,
    "start_time": "2024-03-21T19:33:20.694Z"
   },
   {
    "duration": 0,
    "start_time": "2024-03-21T19:33:20.695Z"
   },
   {
    "duration": 0,
    "start_time": "2024-03-21T19:33:20.700Z"
   },
   {
    "duration": 0,
    "start_time": "2024-03-21T19:33:20.702Z"
   },
   {
    "duration": 0,
    "start_time": "2024-03-21T19:33:20.705Z"
   },
   {
    "duration": 0,
    "start_time": "2024-03-21T19:33:20.706Z"
   },
   {
    "duration": 0,
    "start_time": "2024-03-21T19:33:20.707Z"
   },
   {
    "duration": 0,
    "start_time": "2024-03-21T19:33:20.709Z"
   },
   {
    "duration": 0,
    "start_time": "2024-03-21T19:33:20.710Z"
   },
   {
    "duration": 0,
    "start_time": "2024-03-21T19:33:20.712Z"
   },
   {
    "duration": 0,
    "start_time": "2024-03-21T19:33:20.713Z"
   },
   {
    "duration": 0,
    "start_time": "2024-03-21T19:33:20.719Z"
   },
   {
    "duration": 0,
    "start_time": "2024-03-21T19:33:20.723Z"
   },
   {
    "duration": 0,
    "start_time": "2024-03-21T19:33:20.724Z"
   },
   {
    "duration": 0,
    "start_time": "2024-03-21T19:33:20.725Z"
   },
   {
    "duration": 0,
    "start_time": "2024-03-21T19:33:20.726Z"
   },
   {
    "duration": 0,
    "start_time": "2024-03-21T19:33:20.727Z"
   },
   {
    "duration": 0,
    "start_time": "2024-03-21T19:33:20.729Z"
   },
   {
    "duration": 0,
    "start_time": "2024-03-21T19:33:20.730Z"
   },
   {
    "duration": 0,
    "start_time": "2024-03-21T19:33:20.731Z"
   },
   {
    "duration": 0,
    "start_time": "2024-03-21T19:33:20.732Z"
   },
   {
    "duration": 0,
    "start_time": "2024-03-21T19:33:20.733Z"
   },
   {
    "duration": 1,
    "start_time": "2024-03-21T19:33:20.734Z"
   },
   {
    "duration": 0,
    "start_time": "2024-03-21T19:33:20.736Z"
   },
   {
    "duration": 0,
    "start_time": "2024-03-21T19:33:20.737Z"
   },
   {
    "duration": 0,
    "start_time": "2024-03-21T19:33:20.738Z"
   },
   {
    "duration": 0,
    "start_time": "2024-03-21T19:33:20.739Z"
   },
   {
    "duration": 0,
    "start_time": "2024-03-21T19:33:20.740Z"
   },
   {
    "duration": 0,
    "start_time": "2024-03-21T19:33:20.741Z"
   },
   {
    "duration": 0,
    "start_time": "2024-03-21T19:33:20.795Z"
   },
   {
    "duration": 0,
    "start_time": "2024-03-21T19:33:20.795Z"
   },
   {
    "duration": 0,
    "start_time": "2024-03-21T19:33:20.796Z"
   },
   {
    "duration": 0,
    "start_time": "2024-03-21T19:33:20.797Z"
   },
   {
    "duration": 0,
    "start_time": "2024-03-21T19:33:20.798Z"
   },
   {
    "duration": 0,
    "start_time": "2024-03-21T19:33:20.798Z"
   },
   {
    "duration": 0,
    "start_time": "2024-03-21T19:33:20.800Z"
   },
   {
    "duration": 0,
    "start_time": "2024-03-21T19:33:20.801Z"
   },
   {
    "duration": 0,
    "start_time": "2024-03-21T19:33:20.802Z"
   },
   {
    "duration": 0,
    "start_time": "2024-03-21T19:33:20.803Z"
   },
   {
    "duration": 0,
    "start_time": "2024-03-21T19:33:20.804Z"
   },
   {
    "duration": 0,
    "start_time": "2024-03-21T19:33:20.805Z"
   },
   {
    "duration": 0,
    "start_time": "2024-03-21T19:33:20.809Z"
   },
   {
    "duration": 0,
    "start_time": "2024-03-21T19:33:20.810Z"
   },
   {
    "duration": 0,
    "start_time": "2024-03-21T19:33:20.811Z"
   },
   {
    "duration": 0,
    "start_time": "2024-03-21T19:33:20.813Z"
   },
   {
    "duration": 0,
    "start_time": "2024-03-21T19:33:20.814Z"
   },
   {
    "duration": 0,
    "start_time": "2024-03-21T19:33:20.815Z"
   },
   {
    "duration": 0,
    "start_time": "2024-03-21T19:33:20.816Z"
   },
   {
    "duration": 0,
    "start_time": "2024-03-21T19:33:20.817Z"
   },
   {
    "duration": 0,
    "start_time": "2024-03-21T19:33:20.818Z"
   },
   {
    "duration": 0,
    "start_time": "2024-03-21T19:33:20.819Z"
   },
   {
    "duration": 0,
    "start_time": "2024-03-21T19:33:20.820Z"
   },
   {
    "duration": 0,
    "start_time": "2024-03-21T19:33:20.821Z"
   },
   {
    "duration": 0,
    "start_time": "2024-03-21T19:33:20.823Z"
   },
   {
    "duration": 0,
    "start_time": "2024-03-21T19:33:20.824Z"
   },
   {
    "duration": 0,
    "start_time": "2024-03-21T19:33:20.825Z"
   },
   {
    "duration": 0,
    "start_time": "2024-03-21T19:33:20.826Z"
   },
   {
    "duration": 1715,
    "start_time": "2024-03-21T20:21:18.358Z"
   },
   {
    "duration": 0,
    "start_time": "2024-03-21T20:21:20.076Z"
   },
   {
    "duration": 0,
    "start_time": "2024-03-21T20:21:20.077Z"
   },
   {
    "duration": 0,
    "start_time": "2024-03-21T20:21:20.078Z"
   },
   {
    "duration": 0,
    "start_time": "2024-03-21T20:21:20.080Z"
   },
   {
    "duration": 0,
    "start_time": "2024-03-21T20:21:20.081Z"
   },
   {
    "duration": 1,
    "start_time": "2024-03-21T20:21:20.081Z"
   },
   {
    "duration": 0,
    "start_time": "2024-03-21T20:21:20.083Z"
   },
   {
    "duration": 0,
    "start_time": "2024-03-21T20:21:20.084Z"
   },
   {
    "duration": 0,
    "start_time": "2024-03-21T20:21:20.085Z"
   },
   {
    "duration": 0,
    "start_time": "2024-03-21T20:21:20.086Z"
   },
   {
    "duration": 0,
    "start_time": "2024-03-21T20:21:20.087Z"
   },
   {
    "duration": 0,
    "start_time": "2024-03-21T20:21:20.088Z"
   },
   {
    "duration": 0,
    "start_time": "2024-03-21T20:21:20.089Z"
   },
   {
    "duration": 0,
    "start_time": "2024-03-21T20:21:20.090Z"
   },
   {
    "duration": 0,
    "start_time": "2024-03-21T20:21:20.091Z"
   },
   {
    "duration": 0,
    "start_time": "2024-03-21T20:21:20.114Z"
   },
   {
    "duration": 0,
    "start_time": "2024-03-21T20:21:20.116Z"
   },
   {
    "duration": 0,
    "start_time": "2024-03-21T20:21:20.117Z"
   },
   {
    "duration": 0,
    "start_time": "2024-03-21T20:21:20.118Z"
   },
   {
    "duration": 0,
    "start_time": "2024-03-21T20:21:20.119Z"
   },
   {
    "duration": 0,
    "start_time": "2024-03-21T20:21:20.120Z"
   },
   {
    "duration": 0,
    "start_time": "2024-03-21T20:21:20.121Z"
   },
   {
    "duration": 0,
    "start_time": "2024-03-21T20:21:20.122Z"
   },
   {
    "duration": 0,
    "start_time": "2024-03-21T20:21:20.123Z"
   },
   {
    "duration": 0,
    "start_time": "2024-03-21T20:21:20.124Z"
   },
   {
    "duration": 0,
    "start_time": "2024-03-21T20:21:20.125Z"
   },
   {
    "duration": 0,
    "start_time": "2024-03-21T20:21:20.126Z"
   },
   {
    "duration": 0,
    "start_time": "2024-03-21T20:21:20.127Z"
   },
   {
    "duration": 0,
    "start_time": "2024-03-21T20:21:20.128Z"
   },
   {
    "duration": 0,
    "start_time": "2024-03-21T20:21:20.129Z"
   },
   {
    "duration": 0,
    "start_time": "2024-03-21T20:21:20.130Z"
   },
   {
    "duration": 0,
    "start_time": "2024-03-21T20:21:20.131Z"
   },
   {
    "duration": 0,
    "start_time": "2024-03-21T20:21:20.134Z"
   },
   {
    "duration": 0,
    "start_time": "2024-03-21T20:21:20.135Z"
   },
   {
    "duration": 0,
    "start_time": "2024-03-21T20:21:20.136Z"
   },
   {
    "duration": 0,
    "start_time": "2024-03-21T20:21:20.137Z"
   },
   {
    "duration": 0,
    "start_time": "2024-03-21T20:21:20.138Z"
   },
   {
    "duration": 0,
    "start_time": "2024-03-21T20:21:20.139Z"
   },
   {
    "duration": 0,
    "start_time": "2024-03-21T20:21:20.140Z"
   },
   {
    "duration": 0,
    "start_time": "2024-03-21T20:21:20.141Z"
   },
   {
    "duration": 0,
    "start_time": "2024-03-21T20:21:20.142Z"
   },
   {
    "duration": 0,
    "start_time": "2024-03-21T20:21:20.143Z"
   },
   {
    "duration": 0,
    "start_time": "2024-03-21T20:21:20.144Z"
   },
   {
    "duration": 0,
    "start_time": "2024-03-21T20:21:20.145Z"
   },
   {
    "duration": 0,
    "start_time": "2024-03-21T20:21:20.146Z"
   },
   {
    "duration": 0,
    "start_time": "2024-03-21T20:21:20.147Z"
   },
   {
    "duration": 0,
    "start_time": "2024-03-21T20:21:20.148Z"
   },
   {
    "duration": 0,
    "start_time": "2024-03-21T20:21:20.149Z"
   },
   {
    "duration": 0,
    "start_time": "2024-03-21T20:21:20.150Z"
   },
   {
    "duration": 0,
    "start_time": "2024-03-21T20:21:20.151Z"
   },
   {
    "duration": 0,
    "start_time": "2024-03-21T20:21:20.215Z"
   },
   {
    "duration": 0,
    "start_time": "2024-03-21T20:21:20.216Z"
   },
   {
    "duration": 0,
    "start_time": "2024-03-21T20:21:20.217Z"
   },
   {
    "duration": 0,
    "start_time": "2024-03-21T20:21:20.218Z"
   },
   {
    "duration": 0,
    "start_time": "2024-03-21T20:21:20.219Z"
   },
   {
    "duration": 0,
    "start_time": "2024-03-21T20:21:20.220Z"
   },
   {
    "duration": 0,
    "start_time": "2024-03-21T20:21:20.221Z"
   },
   {
    "duration": 0,
    "start_time": "2024-03-21T20:21:20.222Z"
   },
   {
    "duration": 0,
    "start_time": "2024-03-21T20:21:20.223Z"
   },
   {
    "duration": 18,
    "start_time": "2024-03-21T20:21:45.926Z"
   },
   {
    "duration": 0,
    "start_time": "2024-03-21T20:21:45.947Z"
   },
   {
    "duration": 0,
    "start_time": "2024-03-21T20:21:45.948Z"
   },
   {
    "duration": 0,
    "start_time": "2024-03-21T20:21:45.950Z"
   },
   {
    "duration": 0,
    "start_time": "2024-03-21T20:21:45.951Z"
   },
   {
    "duration": 0,
    "start_time": "2024-03-21T20:21:45.952Z"
   },
   {
    "duration": 0,
    "start_time": "2024-03-21T20:21:45.954Z"
   },
   {
    "duration": 0,
    "start_time": "2024-03-21T20:21:45.955Z"
   },
   {
    "duration": 0,
    "start_time": "2024-03-21T20:21:45.957Z"
   },
   {
    "duration": 0,
    "start_time": "2024-03-21T20:21:45.958Z"
   },
   {
    "duration": 0,
    "start_time": "2024-03-21T20:21:45.959Z"
   },
   {
    "duration": 0,
    "start_time": "2024-03-21T20:21:45.960Z"
   },
   {
    "duration": 0,
    "start_time": "2024-03-21T20:21:45.961Z"
   },
   {
    "duration": 0,
    "start_time": "2024-03-21T20:21:45.962Z"
   },
   {
    "duration": 0,
    "start_time": "2024-03-21T20:21:45.964Z"
   },
   {
    "duration": 0,
    "start_time": "2024-03-21T20:21:45.965Z"
   },
   {
    "duration": 0,
    "start_time": "2024-03-21T20:21:45.966Z"
   },
   {
    "duration": 0,
    "start_time": "2024-03-21T20:21:45.967Z"
   },
   {
    "duration": 0,
    "start_time": "2024-03-21T20:21:45.968Z"
   },
   {
    "duration": 0,
    "start_time": "2024-03-21T20:21:45.969Z"
   },
   {
    "duration": 9,
    "start_time": "2024-03-21T20:21:46.015Z"
   },
   {
    "duration": 0,
    "start_time": "2024-03-21T20:21:46.026Z"
   },
   {
    "duration": 0,
    "start_time": "2024-03-21T20:21:46.027Z"
   },
   {
    "duration": 0,
    "start_time": "2024-03-21T20:21:46.029Z"
   },
   {
    "duration": 0,
    "start_time": "2024-03-21T20:21:46.030Z"
   },
   {
    "duration": 0,
    "start_time": "2024-03-21T20:21:46.031Z"
   },
   {
    "duration": 0,
    "start_time": "2024-03-21T20:21:46.032Z"
   },
   {
    "duration": 0,
    "start_time": "2024-03-21T20:21:46.033Z"
   },
   {
    "duration": 0,
    "start_time": "2024-03-21T20:21:46.034Z"
   },
   {
    "duration": 0,
    "start_time": "2024-03-21T20:21:46.035Z"
   },
   {
    "duration": 0,
    "start_time": "2024-03-21T20:21:46.036Z"
   },
   {
    "duration": 0,
    "start_time": "2024-03-21T20:21:46.037Z"
   },
   {
    "duration": 0,
    "start_time": "2024-03-21T20:21:46.038Z"
   },
   {
    "duration": 0,
    "start_time": "2024-03-21T20:21:46.039Z"
   },
   {
    "duration": 0,
    "start_time": "2024-03-21T20:21:46.040Z"
   },
   {
    "duration": 0,
    "start_time": "2024-03-21T20:21:46.041Z"
   },
   {
    "duration": 0,
    "start_time": "2024-03-21T20:21:46.043Z"
   },
   {
    "duration": 0,
    "start_time": "2024-03-21T20:21:46.044Z"
   },
   {
    "duration": 0,
    "start_time": "2024-03-21T20:21:46.045Z"
   },
   {
    "duration": 0,
    "start_time": "2024-03-21T20:21:46.045Z"
   },
   {
    "duration": 1,
    "start_time": "2024-03-21T20:21:46.046Z"
   },
   {
    "duration": 0,
    "start_time": "2024-03-21T20:21:46.048Z"
   },
   {
    "duration": 0,
    "start_time": "2024-03-21T20:21:46.048Z"
   },
   {
    "duration": 0,
    "start_time": "2024-03-21T20:21:46.049Z"
   },
   {
    "duration": 0,
    "start_time": "2024-03-21T20:21:46.050Z"
   },
   {
    "duration": 0,
    "start_time": "2024-03-21T20:21:46.115Z"
   },
   {
    "duration": 0,
    "start_time": "2024-03-21T20:21:46.116Z"
   },
   {
    "duration": 0,
    "start_time": "2024-03-21T20:21:46.118Z"
   },
   {
    "duration": 0,
    "start_time": "2024-03-21T20:21:46.119Z"
   },
   {
    "duration": 0,
    "start_time": "2024-03-21T20:21:46.120Z"
   },
   {
    "duration": 0,
    "start_time": "2024-03-21T20:21:46.121Z"
   },
   {
    "duration": 0,
    "start_time": "2024-03-21T20:21:46.122Z"
   },
   {
    "duration": 0,
    "start_time": "2024-03-21T20:21:46.123Z"
   },
   {
    "duration": 0,
    "start_time": "2024-03-21T20:21:46.124Z"
   },
   {
    "duration": 0,
    "start_time": "2024-03-21T20:21:46.126Z"
   },
   {
    "duration": 0,
    "start_time": "2024-03-21T20:21:46.127Z"
   },
   {
    "duration": 0,
    "start_time": "2024-03-21T20:21:46.128Z"
   },
   {
    "duration": 0,
    "start_time": "2024-03-21T20:21:46.129Z"
   },
   {
    "duration": 0,
    "start_time": "2024-03-21T20:21:46.130Z"
   },
   {
    "duration": 0,
    "start_time": "2024-03-21T20:21:46.132Z"
   },
   {
    "duration": 11,
    "start_time": "2024-03-21T20:22:08.428Z"
   },
   {
    "duration": 5,
    "start_time": "2024-03-21T20:22:11.506Z"
   },
   {
    "duration": 6,
    "start_time": "2024-03-21T20:22:26.179Z"
   },
   {
    "duration": 6,
    "start_time": "2024-03-21T20:22:37.735Z"
   },
   {
    "duration": 12,
    "start_time": "2024-03-21T20:22:37.743Z"
   },
   {
    "duration": 16,
    "start_time": "2024-03-21T20:22:37.757Z"
   },
   {
    "duration": 9,
    "start_time": "2024-03-21T20:22:37.775Z"
   },
   {
    "duration": 6,
    "start_time": "2024-03-21T20:22:37.785Z"
   },
   {
    "duration": 7,
    "start_time": "2024-03-21T20:22:37.793Z"
   },
   {
    "duration": 19,
    "start_time": "2024-03-21T20:22:37.802Z"
   },
   {
    "duration": 4,
    "start_time": "2024-03-21T20:22:37.823Z"
   },
   {
    "duration": 51,
    "start_time": "2024-03-21T20:22:37.828Z"
   },
   {
    "duration": 0,
    "start_time": "2024-03-21T20:22:37.882Z"
   },
   {
    "duration": 0,
    "start_time": "2024-03-21T20:22:37.883Z"
   },
   {
    "duration": 0,
    "start_time": "2024-03-21T20:22:37.885Z"
   },
   {
    "duration": 0,
    "start_time": "2024-03-21T20:22:37.886Z"
   },
   {
    "duration": 0,
    "start_time": "2024-03-21T20:22:37.887Z"
   },
   {
    "duration": 0,
    "start_time": "2024-03-21T20:22:37.888Z"
   },
   {
    "duration": 0,
    "start_time": "2024-03-21T20:22:37.888Z"
   },
   {
    "duration": 0,
    "start_time": "2024-03-21T20:22:37.889Z"
   },
   {
    "duration": 0,
    "start_time": "2024-03-21T20:22:37.890Z"
   },
   {
    "duration": 0,
    "start_time": "2024-03-21T20:22:37.891Z"
   },
   {
    "duration": 0,
    "start_time": "2024-03-21T20:22:37.892Z"
   },
   {
    "duration": 0,
    "start_time": "2024-03-21T20:22:37.893Z"
   },
   {
    "duration": 0,
    "start_time": "2024-03-21T20:22:37.894Z"
   },
   {
    "duration": 0,
    "start_time": "2024-03-21T20:22:37.895Z"
   },
   {
    "duration": 0,
    "start_time": "2024-03-21T20:22:37.896Z"
   },
   {
    "duration": 0,
    "start_time": "2024-03-21T20:22:37.897Z"
   },
   {
    "duration": 0,
    "start_time": "2024-03-21T20:22:37.898Z"
   },
   {
    "duration": 0,
    "start_time": "2024-03-21T20:22:37.899Z"
   },
   {
    "duration": 0,
    "start_time": "2024-03-21T20:22:37.900Z"
   },
   {
    "duration": 0,
    "start_time": "2024-03-21T20:22:37.901Z"
   },
   {
    "duration": 0,
    "start_time": "2024-03-21T20:22:37.903Z"
   },
   {
    "duration": 0,
    "start_time": "2024-03-21T20:22:37.903Z"
   },
   {
    "duration": 0,
    "start_time": "2024-03-21T20:22:37.905Z"
   },
   {
    "duration": 0,
    "start_time": "2024-03-21T20:22:37.906Z"
   },
   {
    "duration": 0,
    "start_time": "2024-03-21T20:22:37.907Z"
   },
   {
    "duration": 0,
    "start_time": "2024-03-21T20:22:37.908Z"
   },
   {
    "duration": 0,
    "start_time": "2024-03-21T20:22:37.909Z"
   },
   {
    "duration": 0,
    "start_time": "2024-03-21T20:22:37.914Z"
   },
   {
    "duration": 0,
    "start_time": "2024-03-21T20:22:37.915Z"
   },
   {
    "duration": 0,
    "start_time": "2024-03-21T20:22:37.916Z"
   },
   {
    "duration": 0,
    "start_time": "2024-03-21T20:22:37.917Z"
   },
   {
    "duration": 0,
    "start_time": "2024-03-21T20:22:37.918Z"
   },
   {
    "duration": 0,
    "start_time": "2024-03-21T20:22:37.919Z"
   },
   {
    "duration": 0,
    "start_time": "2024-03-21T20:22:37.920Z"
   },
   {
    "duration": 0,
    "start_time": "2024-03-21T20:22:37.921Z"
   },
   {
    "duration": 0,
    "start_time": "2024-03-21T20:22:37.922Z"
   },
   {
    "duration": 0,
    "start_time": "2024-03-21T20:22:37.924Z"
   },
   {
    "duration": 1,
    "start_time": "2024-03-21T20:22:37.924Z"
   },
   {
    "duration": 0,
    "start_time": "2024-03-21T20:22:37.926Z"
   },
   {
    "duration": 0,
    "start_time": "2024-03-21T20:22:37.926Z"
   },
   {
    "duration": 0,
    "start_time": "2024-03-21T20:22:37.928Z"
   },
   {
    "duration": 0,
    "start_time": "2024-03-21T20:22:37.929Z"
   },
   {
    "duration": 0,
    "start_time": "2024-03-21T20:22:37.930Z"
   },
   {
    "duration": 0,
    "start_time": "2024-03-21T20:22:37.931Z"
   },
   {
    "duration": 0,
    "start_time": "2024-03-21T20:22:37.932Z"
   },
   {
    "duration": 0,
    "start_time": "2024-03-21T20:22:37.933Z"
   },
   {
    "duration": 0,
    "start_time": "2024-03-21T20:22:37.934Z"
   },
   {
    "duration": 0,
    "start_time": "2024-03-21T20:22:37.935Z"
   },
   {
    "duration": 0,
    "start_time": "2024-03-21T20:22:37.936Z"
   },
   {
    "duration": 0,
    "start_time": "2024-03-21T20:22:37.937Z"
   },
   {
    "duration": 0,
    "start_time": "2024-03-21T20:22:37.938Z"
   },
   {
    "duration": 1133,
    "start_time": "2024-03-21T20:23:11.872Z"
   },
   {
    "duration": 1519,
    "start_time": "2024-03-21T20:23:23.987Z"
   },
   {
    "duration": 3,
    "start_time": "2024-03-21T20:23:25.508Z"
   },
   {
    "duration": 8,
    "start_time": "2024-03-21T20:23:25.513Z"
   },
   {
    "duration": 6,
    "start_time": "2024-03-21T20:23:25.523Z"
   },
   {
    "duration": 20,
    "start_time": "2024-03-21T20:23:25.530Z"
   },
   {
    "duration": 9,
    "start_time": "2024-03-21T20:23:25.552Z"
   },
   {
    "duration": 6,
    "start_time": "2024-03-21T20:23:25.562Z"
   },
   {
    "duration": 5,
    "start_time": "2024-03-21T20:23:25.569Z"
   },
   {
    "duration": 892,
    "start_time": "2024-03-21T20:23:25.576Z"
   },
   {
    "duration": 3,
    "start_time": "2024-03-21T20:23:26.471Z"
   },
   {
    "duration": 789,
    "start_time": "2024-03-21T20:23:26.475Z"
   },
   {
    "duration": 4,
    "start_time": "2024-03-21T20:23:27.265Z"
   },
   {
    "duration": 6,
    "start_time": "2024-03-21T20:23:27.271Z"
   },
   {
    "duration": 529,
    "start_time": "2024-03-21T20:23:27.279Z"
   },
   {
    "duration": 70,
    "start_time": "2024-03-21T20:23:27.810Z"
   },
   {
    "duration": 4,
    "start_time": "2024-03-21T20:23:27.881Z"
   },
   {
    "duration": 5013,
    "start_time": "2024-03-21T20:23:27.887Z"
   },
   {
    "duration": 39,
    "start_time": "2024-03-21T20:23:32.902Z"
   },
   {
    "duration": 6,
    "start_time": "2024-03-21T20:23:32.942Z"
   },
   {
    "duration": 31,
    "start_time": "2024-03-21T20:23:32.949Z"
   },
   {
    "duration": 56,
    "start_time": "2024-03-21T20:23:32.982Z"
   },
   {
    "duration": 35,
    "start_time": "2024-03-21T20:23:33.039Z"
   },
   {
    "duration": 41,
    "start_time": "2024-03-21T20:23:33.075Z"
   },
   {
    "duration": 3114,
    "start_time": "2024-03-21T20:23:33.118Z"
   },
   {
    "duration": 103,
    "start_time": "2024-03-21T20:23:36.233Z"
   },
   {
    "duration": 10869,
    "start_time": "2024-03-21T20:23:36.338Z"
   },
   {
    "duration": 108,
    "start_time": "2024-03-21T20:23:47.208Z"
   },
   {
    "duration": 49,
    "start_time": "2024-03-21T20:23:47.321Z"
   },
   {
    "duration": 905,
    "start_time": "2024-03-21T20:23:47.372Z"
   },
   {
    "duration": 7,
    "start_time": "2024-03-21T20:23:48.279Z"
   },
   {
    "duration": 5,
    "start_time": "2024-03-21T20:23:48.288Z"
   },
   {
    "duration": 35,
    "start_time": "2024-03-21T20:23:48.294Z"
   },
   {
    "duration": 4,
    "start_time": "2024-03-21T20:23:48.331Z"
   },
   {
    "duration": 269,
    "start_time": "2024-03-21T20:23:48.337Z"
   },
   {
    "duration": 196,
    "start_time": "2024-03-21T20:23:48.608Z"
   },
   {
    "duration": 11,
    "start_time": "2024-03-21T20:23:48.814Z"
   },
   {
    "duration": 333,
    "start_time": "2024-03-21T20:23:48.827Z"
   },
   {
    "duration": 5,
    "start_time": "2024-03-21T20:23:49.162Z"
   },
   {
    "duration": 4750,
    "start_time": "2024-03-21T20:23:49.169Z"
   },
   {
    "duration": 19,
    "start_time": "2024-03-21T20:23:53.921Z"
   },
   {
    "duration": 4273,
    "start_time": "2024-03-21T20:23:53.943Z"
   },
   {
    "duration": 309,
    "start_time": "2024-03-21T20:23:58.218Z"
   },
   {
    "duration": 20,
    "start_time": "2024-03-21T20:23:58.529Z"
   },
   {
    "duration": 46,
    "start_time": "2024-03-21T20:23:58.550Z"
   },
   {
    "duration": 45,
    "start_time": "2024-03-21T20:23:58.598Z"
   },
   {
    "duration": 57,
    "start_time": "2024-03-21T20:23:58.644Z"
   },
   {
    "duration": 68,
    "start_time": "2024-03-21T20:23:58.702Z"
   },
   {
    "duration": 72,
    "start_time": "2024-03-21T20:23:58.772Z"
   },
   {
    "duration": 12,
    "start_time": "2024-03-21T20:23:58.846Z"
   },
   {
    "duration": 6,
    "start_time": "2024-03-21T20:23:58.859Z"
   },
   {
    "duration": 26,
    "start_time": "2024-03-21T20:23:58.866Z"
   },
   {
    "duration": 959926,
    "start_time": "2024-03-21T20:23:58.894Z"
   },
   {
    "duration": 2,
    "start_time": "2024-03-21T20:39:58.822Z"
   },
   {
    "duration": 6,
    "start_time": "2024-03-21T20:39:58.826Z"
   },
   {
    "duration": 129906,
    "start_time": "2024-03-21T20:39:58.833Z"
   },
   {
    "duration": 3,
    "start_time": "2024-03-21T20:42:08.740Z"
   },
   {
    "duration": 82394,
    "start_time": "2024-03-21T20:42:08.744Z"
   },
   {
    "duration": 3,
    "start_time": "2024-03-21T20:43:31.140Z"
   },
   {
    "duration": 32,
    "start_time": "2024-03-21T20:43:31.145Z"
   },
   {
    "duration": 751,
    "start_time": "2024-03-21T20:43:31.179Z"
   },
   {
    "duration": 2,
    "start_time": "2024-03-21T20:43:31.934Z"
   },
   {
    "duration": 71,
    "start_time": "2024-03-21T20:43:31.938Z"
   },
   {
    "duration": 1930,
    "start_time": "2024-03-22T10:32:18.549Z"
   },
   {
    "duration": 3,
    "start_time": "2024-03-22T10:32:20.481Z"
   },
   {
    "duration": 36,
    "start_time": "2024-03-22T10:32:20.486Z"
   },
   {
    "duration": 82,
    "start_time": "2024-03-22T10:32:20.524Z"
   },
   {
    "duration": 40,
    "start_time": "2024-03-22T10:32:20.608Z"
   },
   {
    "duration": 41,
    "start_time": "2024-03-22T10:32:20.651Z"
   },
   {
    "duration": 19,
    "start_time": "2024-03-22T10:32:20.695Z"
   },
   {
    "duration": 36,
    "start_time": "2024-03-22T10:32:20.716Z"
   },
   {
    "duration": 3043,
    "start_time": "2024-03-22T10:32:20.755Z"
   },
   {
    "duration": 3,
    "start_time": "2024-03-22T10:32:23.801Z"
   },
   {
    "duration": 853,
    "start_time": "2024-03-22T10:32:23.806Z"
   },
   {
    "duration": 4,
    "start_time": "2024-03-22T10:32:24.661Z"
   },
   {
    "duration": 54,
    "start_time": "2024-03-22T10:32:24.667Z"
   },
   {
    "duration": 713,
    "start_time": "2024-03-22T10:32:24.723Z"
   },
   {
    "duration": 77,
    "start_time": "2024-03-22T10:32:25.438Z"
   },
   {
    "duration": 4,
    "start_time": "2024-03-22T10:32:25.517Z"
   },
   {
    "duration": 5712,
    "start_time": "2024-03-22T10:32:25.523Z"
   },
   {
    "duration": 35,
    "start_time": "2024-03-22T10:32:31.237Z"
   },
   {
    "duration": 583,
    "start_time": "2024-03-22T10:32:31.274Z"
   },
   {
    "duration": 707,
    "start_time": "2024-03-22T10:32:31.859Z"
   },
   {
    "duration": 225,
    "start_time": "2024-03-22T10:32:32.567Z"
   },
   {
    "duration": 35,
    "start_time": "2024-03-22T10:32:32.794Z"
   },
   {
    "duration": 56,
    "start_time": "2024-03-22T10:32:32.831Z"
   },
   {
    "duration": 3447,
    "start_time": "2024-03-22T10:32:32.889Z"
   },
   {
    "duration": 109,
    "start_time": "2024-03-22T10:32:36.338Z"
   },
   {
    "duration": 12003,
    "start_time": "2024-03-22T10:32:36.449Z"
   },
   {
    "duration": 109,
    "start_time": "2024-03-22T10:32:48.454Z"
   },
   {
    "duration": 80,
    "start_time": "2024-03-22T10:32:48.567Z"
   },
   {
    "duration": 1115,
    "start_time": "2024-03-22T10:32:48.649Z"
   },
   {
    "duration": 7,
    "start_time": "2024-03-22T10:32:49.766Z"
   },
   {
    "duration": 4,
    "start_time": "2024-03-22T10:32:49.775Z"
   },
   {
    "duration": 27,
    "start_time": "2024-03-22T10:32:49.781Z"
   },
   {
    "duration": 4,
    "start_time": "2024-03-22T10:32:49.810Z"
   },
   {
    "duration": 313,
    "start_time": "2024-03-22T10:32:49.816Z"
   },
   {
    "duration": 375,
    "start_time": "2024-03-22T10:32:50.131Z"
   },
   {
    "duration": 11,
    "start_time": "2024-03-22T10:32:50.508Z"
   },
   {
    "duration": 385,
    "start_time": "2024-03-22T10:32:50.521Z"
   },
   {
    "duration": 5,
    "start_time": "2024-03-22T10:32:50.908Z"
   },
   {
    "duration": 5435,
    "start_time": "2024-03-22T10:32:50.915Z"
   },
   {
    "duration": 30,
    "start_time": "2024-03-22T10:32:56.351Z"
   },
   {
    "duration": 4760,
    "start_time": "2024-03-22T10:32:56.383Z"
   },
   {
    "duration": 382,
    "start_time": "2024-03-22T10:33:01.146Z"
   },
   {
    "duration": 22,
    "start_time": "2024-03-22T10:33:01.530Z"
   },
   {
    "duration": 105,
    "start_time": "2024-03-22T10:33:01.554Z"
   },
   {
    "duration": 196,
    "start_time": "2024-03-22T10:33:01.661Z"
   },
   {
    "duration": 119,
    "start_time": "2024-03-22T10:33:01.859Z"
   },
   {
    "duration": 150,
    "start_time": "2024-03-22T10:33:01.980Z"
   },
   {
    "duration": 106,
    "start_time": "2024-03-22T10:33:02.133Z"
   },
   {
    "duration": 13,
    "start_time": "2024-03-22T10:33:02.241Z"
   },
   {
    "duration": 57,
    "start_time": "2024-03-22T10:33:02.256Z"
   },
   {
    "duration": 66,
    "start_time": "2024-03-22T10:33:02.315Z"
   },
   {
    "duration": 862141,
    "start_time": "2024-03-22T10:33:02.383Z"
   },
   {
    "duration": 13,
    "start_time": "2024-03-22T10:47:24.526Z"
   },
   {
    "duration": 0,
    "start_time": "2024-03-22T10:47:24.541Z"
   },
   {
    "duration": 0,
    "start_time": "2024-03-22T10:47:24.542Z"
   },
   {
    "duration": 0,
    "start_time": "2024-03-22T10:47:24.543Z"
   },
   {
    "duration": 0,
    "start_time": "2024-03-22T10:47:24.544Z"
   },
   {
    "duration": 0,
    "start_time": "2024-03-22T10:47:24.545Z"
   },
   {
    "duration": 0,
    "start_time": "2024-03-22T10:47:24.546Z"
   },
   {
    "duration": 0,
    "start_time": "2024-03-22T10:47:24.547Z"
   },
   {
    "duration": 1718,
    "start_time": "2024-03-22T15:11:23.024Z"
   },
   {
    "duration": 3,
    "start_time": "2024-03-22T15:11:24.744Z"
   },
   {
    "duration": 5,
    "start_time": "2024-03-22T15:11:24.749Z"
   },
   {
    "duration": 8,
    "start_time": "2024-03-22T15:11:24.755Z"
   },
   {
    "duration": 8,
    "start_time": "2024-03-22T15:11:24.764Z"
   },
   {
    "duration": 10,
    "start_time": "2024-03-22T15:11:24.773Z"
   },
   {
    "duration": 4,
    "start_time": "2024-03-22T15:11:24.785Z"
   },
   {
    "duration": 6,
    "start_time": "2024-03-22T15:11:24.790Z"
   },
   {
    "duration": 241,
    "start_time": "2024-03-22T15:11:24.797Z"
   },
   {
    "duration": 0,
    "start_time": "2024-03-22T15:11:25.042Z"
   },
   {
    "duration": 0,
    "start_time": "2024-03-22T15:11:25.043Z"
   },
   {
    "duration": 0,
    "start_time": "2024-03-22T15:11:25.044Z"
   },
   {
    "duration": 0,
    "start_time": "2024-03-22T15:11:25.045Z"
   },
   {
    "duration": 0,
    "start_time": "2024-03-22T15:11:25.046Z"
   },
   {
    "duration": 0,
    "start_time": "2024-03-22T15:11:25.047Z"
   },
   {
    "duration": 0,
    "start_time": "2024-03-22T15:11:25.048Z"
   },
   {
    "duration": 0,
    "start_time": "2024-03-22T15:11:25.049Z"
   },
   {
    "duration": 0,
    "start_time": "2024-03-22T15:11:25.050Z"
   },
   {
    "duration": 0,
    "start_time": "2024-03-22T15:11:25.051Z"
   },
   {
    "duration": 0,
    "start_time": "2024-03-22T15:11:25.052Z"
   },
   {
    "duration": 0,
    "start_time": "2024-03-22T15:11:25.053Z"
   },
   {
    "duration": 0,
    "start_time": "2024-03-22T15:11:25.054Z"
   },
   {
    "duration": 0,
    "start_time": "2024-03-22T15:11:25.055Z"
   },
   {
    "duration": 0,
    "start_time": "2024-03-22T15:11:25.056Z"
   },
   {
    "duration": 0,
    "start_time": "2024-03-22T15:11:25.057Z"
   },
   {
    "duration": 0,
    "start_time": "2024-03-22T15:11:25.058Z"
   },
   {
    "duration": 0,
    "start_time": "2024-03-22T15:11:25.059Z"
   },
   {
    "duration": 0,
    "start_time": "2024-03-22T15:11:25.060Z"
   },
   {
    "duration": 0,
    "start_time": "2024-03-22T15:11:25.061Z"
   },
   {
    "duration": 0,
    "start_time": "2024-03-22T15:11:25.062Z"
   },
   {
    "duration": 0,
    "start_time": "2024-03-22T15:11:25.063Z"
   },
   {
    "duration": 0,
    "start_time": "2024-03-22T15:11:25.064Z"
   },
   {
    "duration": 0,
    "start_time": "2024-03-22T15:11:25.065Z"
   },
   {
    "duration": 0,
    "start_time": "2024-03-22T15:11:25.066Z"
   },
   {
    "duration": 0,
    "start_time": "2024-03-22T15:11:25.081Z"
   },
   {
    "duration": 0,
    "start_time": "2024-03-22T15:11:25.082Z"
   },
   {
    "duration": 0,
    "start_time": "2024-03-22T15:11:25.083Z"
   },
   {
    "duration": 1,
    "start_time": "2024-03-22T15:11:25.084Z"
   },
   {
    "duration": 0,
    "start_time": "2024-03-22T15:11:25.086Z"
   },
   {
    "duration": 0,
    "start_time": "2024-03-22T15:11:25.086Z"
   },
   {
    "duration": 0,
    "start_time": "2024-03-22T15:11:25.087Z"
   },
   {
    "duration": 0,
    "start_time": "2024-03-22T15:11:25.089Z"
   },
   {
    "duration": 0,
    "start_time": "2024-03-22T15:11:25.090Z"
   },
   {
    "duration": 0,
    "start_time": "2024-03-22T15:11:25.091Z"
   },
   {
    "duration": 0,
    "start_time": "2024-03-22T15:11:25.091Z"
   },
   {
    "duration": 0,
    "start_time": "2024-03-22T15:11:25.092Z"
   },
   {
    "duration": 0,
    "start_time": "2024-03-22T15:11:25.094Z"
   },
   {
    "duration": 0,
    "start_time": "2024-03-22T15:11:25.094Z"
   },
   {
    "duration": 0,
    "start_time": "2024-03-22T15:11:25.095Z"
   },
   {
    "duration": 0,
    "start_time": "2024-03-22T15:11:25.096Z"
   },
   {
    "duration": 0,
    "start_time": "2024-03-22T15:11:25.097Z"
   },
   {
    "duration": 0,
    "start_time": "2024-03-22T15:11:25.098Z"
   },
   {
    "duration": 0,
    "start_time": "2024-03-22T15:11:25.099Z"
   },
   {
    "duration": 0,
    "start_time": "2024-03-22T15:11:25.100Z"
   },
   {
    "duration": 0,
    "start_time": "2024-03-22T15:11:25.101Z"
   },
   {
    "duration": 0,
    "start_time": "2024-03-22T15:11:25.102Z"
   },
   {
    "duration": 0,
    "start_time": "2024-03-22T15:11:25.103Z"
   },
   {
    "duration": 0,
    "start_time": "2024-03-22T15:11:25.105Z"
   },
   {
    "duration": 0,
    "start_time": "2024-03-22T15:11:25.105Z"
   },
   {
    "duration": 0,
    "start_time": "2024-03-22T15:11:25.107Z"
   },
   {
    "duration": 0,
    "start_time": "2024-03-22T15:11:25.107Z"
   },
   {
    "duration": 0,
    "start_time": "2024-03-22T15:11:25.108Z"
   },
   {
    "duration": 0,
    "start_time": "2024-03-22T15:11:25.109Z"
   },
   {
    "duration": 0,
    "start_time": "2024-03-22T15:11:25.110Z"
   },
   {
    "duration": 0,
    "start_time": "2024-03-22T15:11:25.111Z"
   },
   {
    "duration": 0,
    "start_time": "2024-03-22T15:11:25.113Z"
   },
   {
    "duration": 0,
    "start_time": "2024-03-22T15:11:25.114Z"
   },
   {
    "duration": 0,
    "start_time": "2024-03-22T15:11:25.115Z"
   },
   {
    "duration": 1,
    "start_time": "2024-03-22T15:11:25.115Z"
   },
   {
    "duration": 0,
    "start_time": "2024-03-22T15:11:25.117Z"
   },
   {
    "duration": 6,
    "start_time": "2024-03-22T15:12:00.458Z"
   },
   {
    "duration": 78,
    "start_time": "2024-03-22T15:12:00.465Z"
   },
   {
    "duration": 66,
    "start_time": "2024-03-22T15:12:00.544Z"
   },
   {
    "duration": 86,
    "start_time": "2024-03-22T15:12:00.612Z"
   },
   {
    "duration": 60,
    "start_time": "2024-03-22T15:12:00.700Z"
   },
   {
    "duration": 69,
    "start_time": "2024-03-22T15:12:00.762Z"
   },
   {
    "duration": 81,
    "start_time": "2024-03-22T15:12:00.833Z"
   },
   {
    "duration": 50,
    "start_time": "2024-03-22T15:12:00.915Z"
   },
   {
    "duration": 3052,
    "start_time": "2024-03-22T15:12:00.967Z"
   },
   {
    "duration": 3,
    "start_time": "2024-03-22T15:12:04.020Z"
   },
   {
    "duration": 777,
    "start_time": "2024-03-22T15:12:04.024Z"
   },
   {
    "duration": 4,
    "start_time": "2024-03-22T15:12:04.803Z"
   },
   {
    "duration": 9,
    "start_time": "2024-03-22T15:12:04.808Z"
   },
   {
    "duration": 545,
    "start_time": "2024-03-22T15:12:04.819Z"
   },
   {
    "duration": 70,
    "start_time": "2024-03-22T15:12:05.366Z"
   },
   {
    "duration": 4,
    "start_time": "2024-03-22T15:12:05.438Z"
   },
   {
    "duration": 5013,
    "start_time": "2024-03-22T15:12:05.443Z"
   },
   {
    "duration": 42,
    "start_time": "2024-03-22T15:12:10.458Z"
   },
   {
    "duration": 15,
    "start_time": "2024-03-22T15:12:10.502Z"
   },
   {
    "duration": 33,
    "start_time": "2024-03-22T15:12:10.519Z"
   },
   {
    "duration": 52,
    "start_time": "2024-03-22T15:12:10.553Z"
   },
   {
    "duration": 32,
    "start_time": "2024-03-22T15:12:10.607Z"
   },
   {
    "duration": 40,
    "start_time": "2024-03-22T15:12:10.641Z"
   },
   {
    "duration": 3059,
    "start_time": "2024-03-22T15:12:10.685Z"
   },
   {
    "duration": 106,
    "start_time": "2024-03-22T15:12:13.746Z"
   },
   {
    "duration": 10667,
    "start_time": "2024-03-22T15:12:13.854Z"
   },
   {
    "duration": 109,
    "start_time": "2024-03-22T15:12:24.523Z"
   },
   {
    "duration": 66,
    "start_time": "2024-03-22T15:12:24.634Z"
   },
   {
    "duration": 839,
    "start_time": "2024-03-22T15:12:24.701Z"
   },
   {
    "duration": 7,
    "start_time": "2024-03-22T15:12:25.541Z"
   },
   {
    "duration": 6,
    "start_time": "2024-03-22T15:12:25.549Z"
   },
   {
    "duration": 41,
    "start_time": "2024-03-22T15:12:25.556Z"
   },
   {
    "duration": 4,
    "start_time": "2024-03-22T15:12:25.599Z"
   },
   {
    "duration": 258,
    "start_time": "2024-03-22T15:12:25.605Z"
   },
   {
    "duration": 194,
    "start_time": "2024-03-22T15:12:25.865Z"
   },
   {
    "duration": 9,
    "start_time": "2024-03-22T15:12:26.061Z"
   },
   {
    "duration": 329,
    "start_time": "2024-03-22T15:12:26.081Z"
   },
   {
    "duration": 4,
    "start_time": "2024-03-22T15:12:26.412Z"
   },
   {
    "duration": 4726,
    "start_time": "2024-03-22T15:12:26.418Z"
   },
   {
    "duration": 20,
    "start_time": "2024-03-22T15:12:31.145Z"
   },
   {
    "duration": 4144,
    "start_time": "2024-03-22T15:12:31.167Z"
   },
   {
    "duration": 312,
    "start_time": "2024-03-22T15:12:35.313Z"
   },
   {
    "duration": 167,
    "start_time": "2024-03-22T15:12:35.626Z"
   },
   {
    "duration": 18,
    "start_time": "2024-03-22T15:12:35.795Z"
   },
   {
    "duration": 56,
    "start_time": "2024-03-22T15:12:35.815Z"
   },
   {
    "duration": 49,
    "start_time": "2024-03-22T15:12:35.872Z"
   },
   {
    "duration": 61,
    "start_time": "2024-03-22T15:12:35.923Z"
   },
   {
    "duration": 57,
    "start_time": "2024-03-22T15:12:35.985Z"
   },
   {
    "duration": 58,
    "start_time": "2024-03-22T15:12:36.043Z"
   },
   {
    "duration": 11,
    "start_time": "2024-03-22T15:12:36.103Z"
   },
   {
    "duration": 26,
    "start_time": "2024-03-22T15:12:36.115Z"
   },
   {
    "duration": 58,
    "start_time": "2024-03-22T15:12:36.142Z"
   },
   {
    "duration": 53,
    "start_time": "2024-03-22T15:12:36.202Z"
   },
   {
    "duration": 29,
    "start_time": "2024-03-22T15:12:36.257Z"
   },
   {
    "duration": 48,
    "start_time": "2024-03-22T15:12:36.287Z"
   },
   {
    "duration": 33849,
    "start_time": "2024-03-22T15:12:36.337Z"
   },
   {
    "duration": 2,
    "start_time": "2024-03-22T15:13:10.188Z"
   },
   {
    "duration": 7,
    "start_time": "2024-03-22T15:13:10.191Z"
   },
   {
    "duration": 5,
    "start_time": "2024-03-22T15:13:10.199Z"
   },
   {
    "duration": 4,
    "start_time": "2024-03-22T15:13:10.206Z"
   },
   {
    "duration": 4,
    "start_time": "2024-03-22T15:13:10.211Z"
   },
   {
    "duration": 107303,
    "start_time": "2024-03-22T15:13:10.216Z"
   },
   {
    "duration": 3,
    "start_time": "2024-03-22T15:14:57.520Z"
   },
   {
    "duration": 18,
    "start_time": "2024-03-22T15:14:57.524Z"
   },
   {
    "duration": 36,
    "start_time": "2024-03-22T15:14:57.544Z"
   },
   {
    "duration": 49,
    "start_time": "2024-03-22T15:14:57.582Z"
   },
   {
    "duration": 66775,
    "start_time": "2024-03-22T15:14:57.633Z"
   },
   {
    "duration": 2,
    "start_time": "2024-03-22T15:16:04.410Z"
   },
   {
    "duration": 11,
    "start_time": "2024-03-22T15:16:04.417Z"
   },
   {
    "duration": 258,
    "start_time": "2024-03-22T15:16:04.429Z"
   },
   {
    "duration": 110897,
    "start_time": "2024-03-22T15:16:30.666Z"
   },
   {
    "duration": 4,
    "start_time": "2024-03-22T15:18:37.655Z"
   },
   {
    "duration": 1618,
    "start_time": "2024-03-22T15:20:32.767Z"
   },
   {
    "duration": 3,
    "start_time": "2024-03-22T15:20:34.388Z"
   },
   {
    "duration": 12,
    "start_time": "2024-03-22T15:20:34.393Z"
   },
   {
    "duration": 22,
    "start_time": "2024-03-22T15:20:34.407Z"
   },
   {
    "duration": 24,
    "start_time": "2024-03-22T15:20:34.431Z"
   },
   {
    "duration": 36,
    "start_time": "2024-03-22T15:20:34.457Z"
   },
   {
    "duration": 7,
    "start_time": "2024-03-22T15:20:34.494Z"
   },
   {
    "duration": 14,
    "start_time": "2024-03-22T15:20:34.503Z"
   },
   {
    "duration": 151,
    "start_time": "2024-03-22T15:20:34.519Z"
   },
   {
    "duration": 0,
    "start_time": "2024-03-22T15:20:34.675Z"
   },
   {
    "duration": 0,
    "start_time": "2024-03-22T15:20:34.676Z"
   },
   {
    "duration": 0,
    "start_time": "2024-03-22T15:20:34.681Z"
   },
   {
    "duration": 0,
    "start_time": "2024-03-22T15:20:34.682Z"
   },
   {
    "duration": 0,
    "start_time": "2024-03-22T15:20:34.683Z"
   },
   {
    "duration": 0,
    "start_time": "2024-03-22T15:20:34.685Z"
   },
   {
    "duration": 0,
    "start_time": "2024-03-22T15:20:34.685Z"
   },
   {
    "duration": 0,
    "start_time": "2024-03-22T15:20:34.687Z"
   },
   {
    "duration": 0,
    "start_time": "2024-03-22T15:20:34.687Z"
   },
   {
    "duration": 0,
    "start_time": "2024-03-22T15:20:34.689Z"
   },
   {
    "duration": 0,
    "start_time": "2024-03-22T15:20:34.690Z"
   },
   {
    "duration": 0,
    "start_time": "2024-03-22T15:20:34.691Z"
   },
   {
    "duration": 0,
    "start_time": "2024-03-22T15:20:34.692Z"
   },
   {
    "duration": 0,
    "start_time": "2024-03-22T15:20:34.693Z"
   },
   {
    "duration": 0,
    "start_time": "2024-03-22T15:20:34.693Z"
   },
   {
    "duration": 0,
    "start_time": "2024-03-22T15:20:34.695Z"
   },
   {
    "duration": 0,
    "start_time": "2024-03-22T15:20:34.695Z"
   },
   {
    "duration": 0,
    "start_time": "2024-03-22T15:20:34.696Z"
   },
   {
    "duration": 0,
    "start_time": "2024-03-22T15:20:34.697Z"
   },
   {
    "duration": 0,
    "start_time": "2024-03-22T15:20:34.698Z"
   },
   {
    "duration": 0,
    "start_time": "2024-03-22T15:20:34.700Z"
   },
   {
    "duration": 0,
    "start_time": "2024-03-22T15:20:34.700Z"
   },
   {
    "duration": 0,
    "start_time": "2024-03-22T15:20:34.701Z"
   },
   {
    "duration": 0,
    "start_time": "2024-03-22T15:20:34.702Z"
   },
   {
    "duration": 0,
    "start_time": "2024-03-22T15:20:34.703Z"
   },
   {
    "duration": 0,
    "start_time": "2024-03-22T15:20:34.704Z"
   },
   {
    "duration": 0,
    "start_time": "2024-03-22T15:20:34.705Z"
   },
   {
    "duration": 0,
    "start_time": "2024-03-22T15:20:34.706Z"
   },
   {
    "duration": 0,
    "start_time": "2024-03-22T15:20:34.706Z"
   },
   {
    "duration": 1,
    "start_time": "2024-03-22T15:20:34.707Z"
   },
   {
    "duration": 0,
    "start_time": "2024-03-22T15:20:34.708Z"
   },
   {
    "duration": 0,
    "start_time": "2024-03-22T15:20:34.709Z"
   },
   {
    "duration": 0,
    "start_time": "2024-03-22T15:20:34.710Z"
   },
   {
    "duration": 0,
    "start_time": "2024-03-22T15:20:34.711Z"
   },
   {
    "duration": 0,
    "start_time": "2024-03-22T15:20:34.712Z"
   },
   {
    "duration": 0,
    "start_time": "2024-03-22T15:20:34.713Z"
   },
   {
    "duration": 0,
    "start_time": "2024-03-22T15:20:34.714Z"
   },
   {
    "duration": 0,
    "start_time": "2024-03-22T15:20:34.714Z"
   },
   {
    "duration": 0,
    "start_time": "2024-03-22T15:20:34.715Z"
   },
   {
    "duration": 0,
    "start_time": "2024-03-22T15:20:34.716Z"
   },
   {
    "duration": 0,
    "start_time": "2024-03-22T15:20:34.717Z"
   },
   {
    "duration": 0,
    "start_time": "2024-03-22T15:20:34.782Z"
   },
   {
    "duration": 0,
    "start_time": "2024-03-22T15:20:34.783Z"
   },
   {
    "duration": 0,
    "start_time": "2024-03-22T15:20:34.783Z"
   },
   {
    "duration": 0,
    "start_time": "2024-03-22T15:20:34.784Z"
   },
   {
    "duration": 0,
    "start_time": "2024-03-22T15:20:34.785Z"
   },
   {
    "duration": 0,
    "start_time": "2024-03-22T15:20:34.786Z"
   },
   {
    "duration": 0,
    "start_time": "2024-03-22T15:20:34.787Z"
   },
   {
    "duration": 0,
    "start_time": "2024-03-22T15:20:34.788Z"
   },
   {
    "duration": 0,
    "start_time": "2024-03-22T15:20:34.789Z"
   },
   {
    "duration": 0,
    "start_time": "2024-03-22T15:20:34.790Z"
   },
   {
    "duration": 0,
    "start_time": "2024-03-22T15:20:34.791Z"
   },
   {
    "duration": 0,
    "start_time": "2024-03-22T15:20:34.792Z"
   },
   {
    "duration": 0,
    "start_time": "2024-03-22T15:20:34.793Z"
   },
   {
    "duration": 0,
    "start_time": "2024-03-22T15:20:34.794Z"
   },
   {
    "duration": 0,
    "start_time": "2024-03-22T15:20:34.795Z"
   },
   {
    "duration": 0,
    "start_time": "2024-03-22T15:20:34.796Z"
   },
   {
    "duration": 0,
    "start_time": "2024-03-22T15:20:34.797Z"
   },
   {
    "duration": 0,
    "start_time": "2024-03-22T15:20:34.798Z"
   },
   {
    "duration": 0,
    "start_time": "2024-03-22T15:20:34.799Z"
   },
   {
    "duration": 61,
    "start_time": "2024-03-22T15:23:35.366Z"
   },
   {
    "duration": 21,
    "start_time": "2024-03-22T15:23:39.427Z"
   },
   {
    "duration": 117,
    "start_time": "2024-03-22T15:24:10.313Z"
   },
   {
    "duration": 1560,
    "start_time": "2024-03-22T15:27:01.081Z"
   },
   {
    "duration": 3,
    "start_time": "2024-03-22T15:27:02.643Z"
   },
   {
    "duration": 70,
    "start_time": "2024-03-22T15:27:02.647Z"
   },
   {
    "duration": 71,
    "start_time": "2024-03-22T15:27:02.719Z"
   },
   {
    "duration": 42,
    "start_time": "2024-03-22T15:27:02.792Z"
   },
   {
    "duration": 43,
    "start_time": "2024-03-22T15:27:02.836Z"
   },
   {
    "duration": 46,
    "start_time": "2024-03-22T15:27:02.881Z"
   },
   {
    "duration": 13,
    "start_time": "2024-03-22T15:27:02.928Z"
   },
   {
    "duration": 343,
    "start_time": "2024-03-22T15:27:02.942Z"
   },
   {
    "duration": 2,
    "start_time": "2024-03-22T15:27:03.287Z"
   },
   {
    "duration": 174,
    "start_time": "2024-03-22T15:27:03.291Z"
   },
   {
    "duration": 16,
    "start_time": "2024-03-22T15:27:03.467Z"
   },
   {
    "duration": 32,
    "start_time": "2024-03-22T15:27:03.484Z"
   },
   {
    "duration": 104,
    "start_time": "2024-03-22T15:27:03.517Z"
   },
   {
    "duration": 16,
    "start_time": "2024-03-22T15:27:03.623Z"
   },
   {
    "duration": 9,
    "start_time": "2024-03-22T15:27:03.641Z"
   },
   {
    "duration": 1344,
    "start_time": "2024-03-22T15:27:03.651Z"
   },
   {
    "duration": 9,
    "start_time": "2024-03-22T15:27:04.996Z"
   },
   {
    "duration": 55,
    "start_time": "2024-03-22T15:27:05.007Z"
   },
   {
    "duration": 36,
    "start_time": "2024-03-22T15:27:05.064Z"
   },
   {
    "duration": 12,
    "start_time": "2024-03-22T15:27:05.102Z"
   },
   {
    "duration": 25,
    "start_time": "2024-03-22T15:27:05.116Z"
   },
   {
    "duration": 50,
    "start_time": "2024-03-22T15:27:05.142Z"
   },
   {
    "duration": 866,
    "start_time": "2024-03-22T15:27:05.194Z"
   },
   {
    "duration": 29,
    "start_time": "2024-03-22T15:27:06.062Z"
   },
   {
    "duration": 2709,
    "start_time": "2024-03-22T15:27:06.093Z"
   },
   {
    "duration": 23,
    "start_time": "2024-03-22T15:27:08.804Z"
   },
   {
    "duration": 25,
    "start_time": "2024-03-22T15:27:08.883Z"
   },
   {
    "duration": 635,
    "start_time": "2024-03-22T15:27:08.910Z"
   },
   {
    "duration": 36,
    "start_time": "2024-03-22T15:27:09.546Z"
   },
   {
    "duration": 4,
    "start_time": "2024-03-22T15:27:09.584Z"
   },
   {
    "duration": 8,
    "start_time": "2024-03-22T15:27:09.590Z"
   },
   {
    "duration": 4,
    "start_time": "2024-03-22T15:27:09.599Z"
   },
   {
    "duration": 507,
    "start_time": "2024-03-22T15:27:09.605Z"
   },
   {
    "duration": 373,
    "start_time": "2024-03-22T15:27:10.113Z"
   },
   {
    "duration": 6,
    "start_time": "2024-03-22T15:27:10.487Z"
   },
   {
    "duration": 402,
    "start_time": "2024-03-22T15:27:10.494Z"
   },
   {
    "duration": 4,
    "start_time": "2024-03-22T15:27:10.898Z"
   },
   {
    "duration": 1260,
    "start_time": "2024-03-22T15:27:10.903Z"
   },
   {
    "duration": 8,
    "start_time": "2024-03-22T15:27:12.165Z"
   },
   {
    "duration": 1080,
    "start_time": "2024-03-22T15:27:12.181Z"
   },
   {
    "duration": 118,
    "start_time": "2024-03-22T15:27:13.263Z"
   },
   {
    "duration": 35,
    "start_time": "2024-03-22T15:27:13.383Z"
   },
   {
    "duration": 9,
    "start_time": "2024-03-22T15:27:13.420Z"
   },
   {
    "duration": 18,
    "start_time": "2024-03-22T15:27:13.430Z"
   },
   {
    "duration": 36,
    "start_time": "2024-03-22T15:27:13.449Z"
   },
   {
    "duration": 27,
    "start_time": "2024-03-22T15:27:13.487Z"
   },
   {
    "duration": 23,
    "start_time": "2024-03-22T15:27:13.515Z"
   },
   {
    "duration": 14,
    "start_time": "2024-03-22T15:27:13.540Z"
   },
   {
    "duration": 24,
    "start_time": "2024-03-22T15:27:13.557Z"
   },
   {
    "duration": 12,
    "start_time": "2024-03-22T15:27:13.584Z"
   },
   {
    "duration": 10,
    "start_time": "2024-03-22T15:27:13.600Z"
   },
   {
    "duration": 4,
    "start_time": "2024-03-22T15:27:13.612Z"
   },
   {
    "duration": 5,
    "start_time": "2024-03-22T15:27:13.617Z"
   },
   {
    "duration": 30665,
    "start_time": "2024-03-22T15:27:13.623Z"
   },
   {
    "duration": 3,
    "start_time": "2024-03-22T15:27:44.290Z"
   },
   {
    "duration": 16,
    "start_time": "2024-03-22T15:27:44.295Z"
   },
   {
    "duration": 69,
    "start_time": "2024-03-22T15:27:44.313Z"
   },
   {
    "duration": 4,
    "start_time": "2024-03-22T15:27:44.383Z"
   },
   {
    "duration": 8,
    "start_time": "2024-03-22T15:27:44.389Z"
   },
   {
    "duration": 27459,
    "start_time": "2024-03-22T15:27:44.399Z"
   },
   {
    "duration": 3,
    "start_time": "2024-03-22T15:28:11.859Z"
   },
   {
    "duration": 5,
    "start_time": "2024-03-22T15:28:11.863Z"
   },
   {
    "duration": 6,
    "start_time": "2024-03-22T15:28:11.869Z"
   },
   {
    "duration": 6,
    "start_time": "2024-03-22T15:28:11.877Z"
   },
   {
    "duration": 13124,
    "start_time": "2024-03-22T15:28:11.884Z"
   },
   {
    "duration": 3,
    "start_time": "2024-03-22T15:28:25.010Z"
   },
   {
    "duration": 32,
    "start_time": "2024-03-22T15:28:25.014Z"
   },
   {
    "duration": 40,
    "start_time": "2024-03-22T15:28:25.047Z"
   },
   {
    "duration": 4,
    "start_time": "2024-03-22T15:29:12.687Z"
   },
   {
    "duration": 5,
    "start_time": "2024-03-22T15:29:12.693Z"
   },
   {
    "duration": 2823,
    "start_time": "2024-03-22T15:29:12.700Z"
   },
   {
    "duration": 0,
    "start_time": "2024-03-22T15:29:15.524Z"
   },
   {
    "duration": 0,
    "start_time": "2024-03-22T15:29:15.526Z"
   },
   {
    "duration": 0,
    "start_time": "2024-03-22T15:29:15.527Z"
   },
   {
    "duration": 0,
    "start_time": "2024-03-22T15:29:15.528Z"
   },
   {
    "duration": 0,
    "start_time": "2024-03-22T15:29:15.582Z"
   },
   {
    "duration": 0,
    "start_time": "2024-03-22T15:29:15.583Z"
   },
   {
    "duration": 0,
    "start_time": "2024-03-22T15:29:15.584Z"
   },
   {
    "duration": 0,
    "start_time": "2024-03-22T15:29:15.585Z"
   },
   {
    "duration": 1510,
    "start_time": "2024-03-22T15:29:29.832Z"
   },
   {
    "duration": 3,
    "start_time": "2024-03-22T15:29:31.344Z"
   },
   {
    "duration": 25,
    "start_time": "2024-03-22T15:29:31.348Z"
   },
   {
    "duration": 32,
    "start_time": "2024-03-22T15:29:31.375Z"
   },
   {
    "duration": 63,
    "start_time": "2024-03-22T15:29:31.408Z"
   },
   {
    "duration": 55,
    "start_time": "2024-03-22T15:29:31.473Z"
   },
   {
    "duration": 29,
    "start_time": "2024-03-22T15:29:31.530Z"
   },
   {
    "duration": 33,
    "start_time": "2024-03-22T15:29:31.562Z"
   },
   {
    "duration": 360,
    "start_time": "2024-03-22T15:29:31.597Z"
   },
   {
    "duration": 3,
    "start_time": "2024-03-22T15:29:31.959Z"
   },
   {
    "duration": 229,
    "start_time": "2024-03-22T15:29:31.963Z"
   },
   {
    "duration": 4,
    "start_time": "2024-03-22T15:29:32.194Z"
   },
   {
    "duration": 32,
    "start_time": "2024-03-22T15:29:32.199Z"
   },
   {
    "duration": 136,
    "start_time": "2024-03-22T15:29:32.233Z"
   },
   {
    "duration": 18,
    "start_time": "2024-03-22T15:29:32.371Z"
   },
   {
    "duration": 13,
    "start_time": "2024-03-22T15:29:32.390Z"
   },
   {
    "duration": 1375,
    "start_time": "2024-03-22T15:29:32.405Z"
   },
   {
    "duration": 9,
    "start_time": "2024-03-22T15:29:33.781Z"
   },
   {
    "duration": 41,
    "start_time": "2024-03-22T15:29:33.791Z"
   },
   {
    "duration": 17,
    "start_time": "2024-03-22T15:29:33.833Z"
   },
   {
    "duration": 10,
    "start_time": "2024-03-22T15:29:33.852Z"
   },
   {
    "duration": 16,
    "start_time": "2024-03-22T15:29:33.864Z"
   },
   {
    "duration": 20,
    "start_time": "2024-03-22T15:29:33.882Z"
   },
   {
    "duration": 865,
    "start_time": "2024-03-22T15:29:33.904Z"
   },
   {
    "duration": 24,
    "start_time": "2024-03-22T15:29:34.771Z"
   },
   {
    "duration": 2172,
    "start_time": "2024-03-22T15:29:34.797Z"
   },
   {
    "duration": 26,
    "start_time": "2024-03-22T15:29:36.970Z"
   },
   {
    "duration": 25,
    "start_time": "2024-03-22T15:29:36.999Z"
   },
   {
    "duration": 465,
    "start_time": "2024-03-22T15:29:37.025Z"
   },
   {
    "duration": 5,
    "start_time": "2024-03-22T15:29:37.492Z"
   },
   {
    "duration": 38,
    "start_time": "2024-03-22T15:29:37.499Z"
   },
   {
    "duration": 17,
    "start_time": "2024-03-22T15:29:37.539Z"
   },
   {
    "duration": 15,
    "start_time": "2024-03-22T15:29:37.558Z"
   },
   {
    "duration": 235,
    "start_time": "2024-03-22T15:29:37.575Z"
   },
   {
    "duration": 175,
    "start_time": "2024-03-22T15:29:37.812Z"
   },
   {
    "duration": 6,
    "start_time": "2024-03-22T15:29:37.989Z"
   },
   {
    "duration": 196,
    "start_time": "2024-03-22T15:29:37.996Z"
   },
   {
    "duration": 4,
    "start_time": "2024-03-22T15:29:38.194Z"
   },
   {
    "duration": 1119,
    "start_time": "2024-03-22T15:29:38.200Z"
   },
   {
    "duration": 61,
    "start_time": "2024-03-22T15:29:39.321Z"
   },
   {
    "duration": 1687,
    "start_time": "2024-03-22T15:29:39.384Z"
   },
   {
    "duration": 110,
    "start_time": "2024-03-22T15:29:41.072Z"
   },
   {
    "duration": 30,
    "start_time": "2024-03-22T15:29:41.183Z"
   },
   {
    "duration": 6,
    "start_time": "2024-03-22T15:29:41.215Z"
   },
   {
    "duration": 9,
    "start_time": "2024-03-22T15:29:41.223Z"
   },
   {
    "duration": 13,
    "start_time": "2024-03-22T15:29:41.234Z"
   },
   {
    "duration": 45,
    "start_time": "2024-03-22T15:29:41.249Z"
   },
   {
    "duration": 19,
    "start_time": "2024-03-22T15:29:41.296Z"
   },
   {
    "duration": 13,
    "start_time": "2024-03-22T15:29:41.317Z"
   },
   {
    "duration": 5,
    "start_time": "2024-03-22T15:29:41.331Z"
   },
   {
    "duration": 5,
    "start_time": "2024-03-22T15:29:41.338Z"
   },
   {
    "duration": 5,
    "start_time": "2024-03-22T15:29:41.380Z"
   },
   {
    "duration": 13,
    "start_time": "2024-03-22T15:29:41.387Z"
   },
   {
    "duration": 13,
    "start_time": "2024-03-22T15:29:41.402Z"
   },
   {
    "duration": 45465,
    "start_time": "2024-03-22T15:29:41.417Z"
   },
   {
    "duration": 3,
    "start_time": "2024-03-22T15:30:26.885Z"
   },
   {
    "duration": 16,
    "start_time": "2024-03-22T15:30:26.890Z"
   },
   {
    "duration": 30,
    "start_time": "2024-03-22T15:30:26.908Z"
   },
   {
    "duration": 29,
    "start_time": "2024-03-22T15:30:26.940Z"
   },
   {
    "duration": 17,
    "start_time": "2024-03-22T15:30:26.970Z"
   },
   {
    "duration": 38677,
    "start_time": "2024-03-22T15:30:26.989Z"
   },
   {
    "duration": 3,
    "start_time": "2024-03-22T15:31:05.667Z"
   },
   {
    "duration": 7,
    "start_time": "2024-03-22T15:31:05.672Z"
   },
   {
    "duration": 7,
    "start_time": "2024-03-22T15:31:05.680Z"
   },
   {
    "duration": 14,
    "start_time": "2024-03-22T15:31:05.688Z"
   },
   {
    "duration": 12424,
    "start_time": "2024-03-22T15:31:05.704Z"
   },
   {
    "duration": 2,
    "start_time": "2024-03-22T15:31:18.130Z"
   },
   {
    "duration": 25,
    "start_time": "2024-03-22T15:31:18.134Z"
   },
   {
    "duration": 123,
    "start_time": "2024-03-22T15:31:18.160Z"
   },
   {
    "duration": 2,
    "start_time": "2024-03-22T15:35:56.477Z"
   },
   {
    "duration": 25678,
    "start_time": "2024-03-22T15:36:00.217Z"
   },
   {
    "duration": 3,
    "start_time": "2024-03-22T15:36:30.137Z"
   },
   {
    "duration": 10,
    "start_time": "2024-03-22T15:36:32.378Z"
   },
   {
    "duration": 42,
    "start_time": "2024-03-22T19:12:22.481Z"
   },
   {
    "duration": 3312,
    "start_time": "2024-03-22T19:45:53.683Z"
   },
   {
    "duration": 3,
    "start_time": "2024-03-22T19:45:56.997Z"
   },
   {
    "duration": 12,
    "start_time": "2024-03-22T19:45:57.001Z"
   },
   {
    "duration": 9,
    "start_time": "2024-03-22T19:45:57.015Z"
   },
   {
    "duration": 60,
    "start_time": "2024-03-22T19:45:57.026Z"
   },
   {
    "duration": 5,
    "start_time": "2024-03-22T19:45:57.088Z"
   },
   {
    "duration": 6,
    "start_time": "2024-03-22T19:45:57.095Z"
   },
   {
    "duration": 12,
    "start_time": "2024-03-22T19:45:57.102Z"
   },
   {
    "duration": 2685,
    "start_time": "2024-03-22T19:45:57.116Z"
   },
   {
    "duration": 2,
    "start_time": "2024-03-22T19:45:59.804Z"
   },
   {
    "duration": 2391,
    "start_time": "2024-03-22T19:45:59.808Z"
   },
   {
    "duration": 4,
    "start_time": "2024-03-22T19:46:02.201Z"
   },
   {
    "duration": 24,
    "start_time": "2024-03-22T19:46:02.206Z"
   },
   {
    "duration": 2097,
    "start_time": "2024-03-22T19:46:02.232Z"
   },
   {
    "duration": 179,
    "start_time": "2024-03-22T19:46:04.331Z"
   },
   {
    "duration": 5,
    "start_time": "2024-03-22T19:46:04.511Z"
   },
   {
    "duration": 14193,
    "start_time": "2024-03-22T19:46:04.518Z"
   },
   {
    "duration": 90,
    "start_time": "2024-03-22T19:46:18.713Z"
   },
   {
    "duration": 5,
    "start_time": "2024-03-22T19:46:18.805Z"
   },
   {
    "duration": 98,
    "start_time": "2024-03-22T19:46:18.811Z"
   },
   {
    "duration": 110,
    "start_time": "2024-03-22T19:46:18.911Z"
   },
   {
    "duration": 693,
    "start_time": "2024-03-22T19:46:19.093Z"
   },
   {
    "duration": 393,
    "start_time": "2024-03-22T19:46:19.788Z"
   },
   {
    "duration": 9106,
    "start_time": "2024-03-22T19:46:20.183Z"
   },
   {
    "duration": 1021,
    "start_time": "2024-03-22T19:46:29.291Z"
   },
   {
    "duration": 30903,
    "start_time": "2024-03-22T19:46:30.313Z"
   },
   {
    "duration": 203,
    "start_time": "2024-03-22T19:47:01.218Z"
   },
   {
    "duration": 160,
    "start_time": "2024-03-22T19:47:01.425Z"
   },
   {
    "duration": 3928,
    "start_time": "2024-03-22T19:47:01.587Z"
   },
   {
    "duration": 65,
    "start_time": "2024-03-22T19:47:05.517Z"
   },
   {
    "duration": 4,
    "start_time": "2024-03-22T19:47:05.584Z"
   },
   {
    "duration": 23,
    "start_time": "2024-03-22T19:47:05.590Z"
   },
   {
    "duration": 4,
    "start_time": "2024-03-22T19:47:05.615Z"
   },
   {
    "duration": 2315,
    "start_time": "2024-03-22T19:47:05.683Z"
   },
   {
    "duration": 1403,
    "start_time": "2024-03-22T19:47:08.000Z"
   },
   {
    "duration": 13,
    "start_time": "2024-03-22T19:47:09.405Z"
   },
   {
    "duration": 1176,
    "start_time": "2024-03-22T19:47:09.420Z"
   },
   {
    "duration": 6,
    "start_time": "2024-03-22T19:47:10.599Z"
   },
   {
    "duration": 13515,
    "start_time": "2024-03-22T19:47:10.607Z"
   },
   {
    "duration": 78,
    "start_time": "2024-03-22T19:47:24.124Z"
   },
   {
    "duration": 13711,
    "start_time": "2024-03-22T19:47:24.204Z"
   },
   {
    "duration": 602,
    "start_time": "2024-03-22T19:47:37.917Z"
   },
   {
    "duration": 303,
    "start_time": "2024-03-22T19:47:38.521Z"
   },
   {
    "duration": 80,
    "start_time": "2024-03-22T19:47:38.826Z"
   },
   {
    "duration": 89,
    "start_time": "2024-03-22T19:47:38.908Z"
   },
   {
    "duration": 84,
    "start_time": "2024-03-22T19:47:38.998Z"
   },
   {
    "duration": 100,
    "start_time": "2024-03-22T19:47:39.083Z"
   },
   {
    "duration": 123,
    "start_time": "2024-03-22T19:47:39.184Z"
   },
   {
    "duration": 682,
    "start_time": "2024-03-22T19:47:39.310Z"
   },
   {
    "duration": 99,
    "start_time": "2024-03-22T19:47:40.083Z"
   },
   {
    "duration": 102,
    "start_time": "2024-03-22T19:47:40.184Z"
   },
   {
    "duration": 104,
    "start_time": "2024-03-22T19:47:40.288Z"
   },
   {
    "duration": 7,
    "start_time": "2024-03-22T19:47:40.394Z"
   },
   {
    "duration": 11,
    "start_time": "2024-03-22T19:47:40.403Z"
   },
   {
    "duration": 102905,
    "start_time": "2024-03-22T19:47:40.416Z"
   },
   {
    "duration": 1,
    "start_time": "2024-03-22T19:49:23.382Z"
   },
   {
    "duration": 0,
    "start_time": "2024-03-22T19:49:23.384Z"
   },
   {
    "duration": 0,
    "start_time": "2024-03-22T19:49:23.386Z"
   },
   {
    "duration": 0,
    "start_time": "2024-03-22T19:49:23.387Z"
   },
   {
    "duration": 0,
    "start_time": "2024-03-22T19:49:23.389Z"
   },
   {
    "duration": 0,
    "start_time": "2024-03-22T19:49:23.390Z"
   },
   {
    "duration": 0,
    "start_time": "2024-03-22T19:49:23.392Z"
   },
   {
    "duration": 0,
    "start_time": "2024-03-22T19:49:23.393Z"
   },
   {
    "duration": 0,
    "start_time": "2024-03-22T19:49:23.395Z"
   },
   {
    "duration": 0,
    "start_time": "2024-03-22T19:49:23.396Z"
   },
   {
    "duration": 0,
    "start_time": "2024-03-22T19:49:23.398Z"
   },
   {
    "duration": 0,
    "start_time": "2024-03-22T19:49:23.399Z"
   },
   {
    "duration": 0,
    "start_time": "2024-03-22T19:49:23.400Z"
   },
   {
    "duration": 0,
    "start_time": "2024-03-22T19:49:23.403Z"
   },
   {
    "duration": 0,
    "start_time": "2024-03-22T19:49:23.404Z"
   }
  ],
  "kernelspec": {
   "display_name": "Python 3 (ipykernel)",
   "language": "python",
   "name": "python3"
  },
  "language_info": {
   "codemirror_mode": {
    "name": "ipython",
    "version": 3
   },
   "file_extension": ".py",
   "mimetype": "text/x-python",
   "name": "python",
   "nbconvert_exporter": "python",
   "pygments_lexer": "ipython3",
   "version": "3.9.5"
  },
  "toc": {
   "base_numbering": 1,
   "nav_menu": {},
   "number_sections": true,
   "sideBar": true,
   "skip_h1_title": true,
   "title_cell": "Table of Contents",
   "title_sidebar": "Contents",
   "toc_cell": false,
   "toc_position": {
    "height": "calc(100% - 180px)",
    "left": "10px",
    "top": "150px",
    "width": "384px"
   },
   "toc_section_display": true,
   "toc_window_display": true
  }
 },
 "nbformat": 4,
 "nbformat_minor": 2
}
