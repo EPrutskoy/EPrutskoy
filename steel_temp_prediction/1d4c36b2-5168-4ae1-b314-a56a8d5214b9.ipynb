{
 "cells": [
  {
   "cell_type": "markdown",
   "metadata": {},
   "source": [
    "# Описание проекта: Промышленность\n",
    "\n",
    "Чтобы оптимизировать производственные расходы, металлургический комбинат «Стальная птица» решил уменьшить потребление электроэнергии на этапе обработки стали.\\\n",
    "Для этого комбинату нужно контролировать температуру сплава. \\\n",
    "Ваша задача — построить модель, которая будет её предсказывать. \\\n",
    "Заказчик хочет использовать разработанную модель для имитации технологического процесса. \\\n",
    "Изучите его, прежде чем генерировать новые признаки.\n"
   ]
  },
  {
   "cell_type": "markdown",
   "metadata": {},
   "source": [
    "## Описание процесса обработки"
   ]
  },
  {
   "cell_type": "markdown",
   "metadata": {},
   "source": [
    "Сталь обрабатывают в металлическом ковше вместимостью около 100 тонн.\\\n",
    "Чтобы ковш выдерживал высокие температуры, изнутри его облицовывают огнеупорным кирпичом.\\\n",
    "Расплавленную сталь заливают в ковш и подогревают до нужной температуры графитовыми электродами.\\\n",
    "Они установлены на крышке ковша.\n",
    "\n",
    "Сначала происходит десульфурация — из стали выводят серу и корректируют её химический состав добавлением примесей.\\\n",
    "Затем сталь легируют — добавляют в неё куски сплава из бункера для сыпучих материалов или порошковую проволоку через специальный трайб-аппарат.\n",
    "\n",
    "Прежде чем в первый раз ввести легирующие добавки, специалисты производят химический анализ стали и измеряют её температуру.\\\n",
    "Потом температуру на несколько минут повышают, уже после этого добавляют легирующие материалы и продувают сталь инертным газом, чтобы перемешать, а затем снова проводят измерения. \\\n",
    "Такой цикл повторяется до тех пор, пока не будут достигнуты нужный химический состав стали и оптимальная температура плавки.\n",
    "\n",
    "\n",
    "Дальше расплавленная сталь отправляется на доводку металла или поступает в машину непрерывной разливки. \\\n",
    "Оттуда готовый продукт выходит в виде заготовок-слябов (англ. *slab*, «плита»)."
   ]
  },
  {
   "cell_type": "markdown",
   "metadata": {},
   "source": [
    "## Описание данных"
   ]
  },
  {
   "cell_type": "markdown",
   "metadata": {},
   "source": [
    "\n",
    "Данные хранятся в `Sqlite` — СУБД, в которой база данных представлена одним файлом. Она состоит из нескольких таблиц:\n",
    "\n",
    "- `steel.data_arc` — данные об электродах;\n",
    "- `steel.data_bulk` — данные об объёме сыпучих материалов;\n",
    "- `steel.data_bulk_time` — данные о времени подачи сыпучих материалов;\n",
    "- `steel.data_gas` — данные о продувке сплава газом;\n",
    "- `steel.data_temp` — данные об измерениях температуры;\n",
    "- `steel.data_wire` — данные об объёме проволочных материалов;\n",
    "- `steel.data_wire_time` — данные о времени подачи проволочных материалов.\n",
    "\n",
    "### Таблица `steel.data_arc`\n",
    "\n",
    "- `key` — номер партии;\n",
    "- `BeginHeat` — время начала нагрева;\n",
    "- `EndHeat` — время окончания нагрева;\n",
    "- `ActivePower` — значение активной мощности;\n",
    "- `ReactivePower` — значение реактивной мощности.\n",
    "\n",
    "### Таблица `steel.data_bulk`\n",
    "\n",
    "- `key` — номер партии;\n",
    "- `Bulk1` … `Bulk15` — объём подаваемого материала.\n",
    "\n",
    "### Таблица `steel.data_bulk_time`\n",
    "\n",
    "- `key` — номер партии;\n",
    "- `Bulk1` … `Bulk15` — время подачи материала.\n",
    "\n",
    "#### Таблица `steel.data_gas`\n",
    "\n",
    "- `key` — номер партии;\n",
    "- `gas` — объём подаваемого газа.\n",
    "\n",
    "#### Таблица `steel.data_temp`\n",
    "\n",
    "- `key` — номер партии;\n",
    "- `MesaureTime` — время замера;\n",
    "- `Temperature` — значение температуры.\n",
    "\n",
    "#### Таблица `steel.data_wire`\n",
    "\n",
    "- `key` — номер партии;\n",
    "- `Wire1` … `Wire9` — объём подаваемых проволочных материалов.\n",
    "\n",
    "#### Таблица `steel.data_wire_time`\n",
    "\n",
    "- `key` — номер партии;\n",
    "- `Wire1` … `Wire9` — время подачи проволочных материалов.\n",
    "\n",
    "Во всех файлах столбец `key` содержит номер партии. В таблицах может быть несколько строк с одинаковым значением `key`: они соответствуют разным итерациям обработки.\n"
   ]
  },
  {
   "cell_type": "markdown",
   "metadata": {},
   "source": [
    "## План проекта: Прогнозирование температуры стали"
   ]
  },
  {
   "cell_type": "markdown",
   "metadata": {},
   "source": [
    "### **Шаг 1. Загрузка данных**\n",
    "\n",
    "1. Подключение к базе данных в SQLite.\n",
    "2. Загрузка данных из базы данных.\n",
    "3. Установка константы RANDOM_STATE. Значение равно дате начала проекта (например, RANDOM_STATE = 10922 для 1 сентября 2022 года)."
   ]
  },
  {
   "cell_type": "markdown",
   "metadata": {},
   "source": [
    "### **Шаг 2. Исследовательский анализ и предобработка данных**\n",
    "\n",
    "Общие задачи:\n",
    "1. Проверка всех таблиц на наличие данных и соответствие количеству таблиц условию задачи.\n",
    "\n",
    "**Анализ таблицы steel.data_arc:**\n",
    "\n",
    "1. Проведение исследовательского анализа данных (EDA):\n",
    "    - Проверка наличия пропусков и аномалий.\n",
    "    - Изучение распределения признаков.\n",
    "2. Обработка аномалий:\n",
    "    - Удаление партий с аномальными значениями или замена аномальных значений.\n",
    "3. Генерация новых признаков:\n",
    "    - Длительность нагрева.\n",
    "    - Общая мощность.\n",
    "    - Соотношение активной мощности к реактивной.\n",
    "    - Количество запусков нагрева электродами.\n",
    "4. Агрегация наблюдений по ключу после генерации новых признаков.\n",
    "\n",
    "**Анализ таблицы steel.data_bulk:**\n",
    "1. Проведение EDA:\n",
    "    - Проверка наличия пропусков и аномалий.\n",
    "    - Изучение распределения признаков.\n",
    "2. Обработка пропусков:\n",
    "    - Пропуск означает, что материал не добавляли в партию.\n",
    "\n",
    "**Анализ таблицы steel.data_bulk_time:**\n",
    "1. Проведение EDA:\n",
    "    - Проверка наличия пропусков и аномалий.\n",
    "    - Изучение распределения признаков.\n",
    "2. Проверка данных на адекватность (например, что подача материала не измеряется сутками).\n",
    "\n",
    "**Анализ таблицы steel.data_gas:**\n",
    "1. Проведение EDA:\n",
    "    - Проверка наличия пропусков и аномалий.\n",
    "    - Изучение распределения признаков.\n",
    "\n",
    "**Анализ таблицы steel.data_temp:**\n",
    "1. Проведение EDA:\n",
    "    - Проверка наличия пропусков и аномалий.\n",
    "    - Изучение распределения признаков.\n",
    "2. Целевой признак:\n",
    "    - Последняя температура партии.\n",
    "3. Использование начальной температуры партии как входного признака.\n",
    "4. Исключение промежуточных значений температуры для предотвращения утечки целевого признака.\n",
    "5. Агрегация наблюдений:\n",
    "    - Учитываются только ключи с как минимум двумя наблюдениями: первый и последний замеры температуры.\n",
    "6. Обработка аномальных значений:\n",
    "    - Температуры ниже 1500 градусов считаются аномальными.\n",
    "\n",
    "**Анализ таблицы steel.data_wire:**\n",
    "1. Обработка пропусков:\n",
    "    - Пропуск означает, что материал не добавляли в партию.\n",
    "\n",
    "**Анализ таблицы steel.data_wire_time:**\n",
    "1. Проведение EDA:\n",
    "    - Проверка наличия пропусков и аномалий.\n",
    "    - Изучение распределения признаков.\n",
    "2. Проверка данных на адекватность (например, что подача материала не измеряется сутками).\n",
    "\n",
    "**Объединение таблиц по ключу:**\n",
    "1. Каждой партии должно соответствовать одно наблюдение.\n",
    "2. Учет всех материалов (сыпучие, проволочные) и процессов (продувка газом, нагревание).\n",
    "3. Обработка возможной асинхронности времени между датчиками.\n",
    "\n",
    "**Общий анализ объединенной таблицы:**\n",
    "1. Проведение EDA объединенной таблицы.\n",
    "2. Визуализация распределения каждого признака.\n",
    "3. Корреляционный анализ.\n",
    "\n",
    "**Подготовка данных для обучения:**\n",
    "1. Выбор признаков для обучения.\n",
    "2. Разделение данных на тренировочную и тестовую выборки (`test_size = 0.25`).\n",
    "3. Подготовка данных для обучения с учетом особенностей выбранных моделей."
   ]
  },
  {
   "cell_type": "markdown",
   "metadata": {},
   "source": [
    "### **Шаг 3. Обучение модели**\n",
    "\n",
    "1. **Рассмотрение классов моделей:**\n",
    "    - Решающее дерево или случайный лес.\n",
    "    - Бустинги.\n",
    "    - Нейронные сети.\n",
    "2. Обучение моделей и оценка их качества с использованием метрики MAE.\n",
    "3. Выбор лучшей модели на основе значений метрики на кросс-валидации.\n",
    "4. Подбор значений гиперпараметров:\n",
    "    - Использование методов автоматизированного подбора гиперпараметров (`GridSearchCV`, `RandomizedSearchCV`, `OptunaSearchCV`, `Optuna` и другие)\n"
   ]
  },
  {
   "cell_type": "markdown",
   "metadata": {},
   "source": [
    "\n",
    "### Шаг 4. Тестирование модели и демонстрация работы\n",
    "\n",
    "1. Проверка качества лучшей модели на тестовой выборке.\n",
    "2. Значение метрики MAE должно быть менее 6.8.\n",
    "3. Дополнительная оценка модели с использованием R².\n",
    "4. Сравнение результатов лучшей модели и константной модели.\n",
    "5. Анализ важности основных признаков.\n",
    "6. Проведение дополнительного исследования для одного из важных признаков:\n",
    "    - Построение графика зависимости входного и целевого признаков."
   ]
  },
  {
   "cell_type": "markdown",
   "metadata": {},
   "source": [
    "\n",
    "### Шаг 5. Общий вывод\n",
    "\n",
    "1. Написание общих выводов по проекту.\n",
    "2. Предложение способов для дальнейшего улучшения модели.\n",
    "3. Формулирование бизнес-рекомендаций заказчику."
   ]
  },
  {
   "cell_type": "markdown",
   "metadata": {},
   "source": [
    "## Подготовка данных"
   ]
  },
  {
   "cell_type": "markdown",
   "metadata": {},
   "source": [
    "### Загрузка библиотек"
   ]
  },
  {
   "cell_type": "code",
   "execution_count": 1,
   "metadata": {},
   "outputs": [],
   "source": [
    "import os\n",
    "import pandas as pd\n",
    "from sqlalchemy import create_engine, Column, Integer, String, Float, DateTime, text, select\n",
    "from sqlalchemy.orm import DeclarativeBase, Session\n",
    "from sqlalchemy.schema import DropTable\n",
    "from sqlalchemy.ext.compiler import compiles\n",
    "from sqlalchemy import MetaData, Table\n"
   ]
  },
  {
   "cell_type": "markdown",
   "metadata": {},
   "source": [
    "### Инциализация констант, настройка окружения"
   ]
  },
  {
   "cell_type": "code",
   "execution_count": 2,
   "metadata": {},
   "outputs": [],
   "source": [
    "# При с работе с проектом необходимо отредактировать константу пути\n",
    "PATH_TO_DATABASE = 'datasets/ds-plus-final.db'\n",
    "RANDOM_STATE = 150824\n",
    "# Создаем объект подключения (engine) к базе данных SQLite\n",
    "engine = create_engine(f'sqlite:///{PATH_TO_DATABASE}', echo=False)"
   ]
  },
  {
   "cell_type": "markdown",
   "metadata": {},
   "source": [
    "### Проверка БД"
   ]
  },
  {
   "cell_type": "markdown",
   "metadata": {},
   "source": [
    "По условию проекта в базе данных должно быть 7 таблиц:\\\n",
    "'data_arc', 'data_bulk', 'data_bulk_time', 'data_gas', 'data_temp', 'data_wire', 'data_wire_time'\n",
    "\n",
    "Проверим:"
   ]
  },
  {
   "cell_type": "code",
   "execution_count": 13,
   "metadata": {},
   "outputs": [
    {
     "name": "stdout",
     "output_type": "stream",
     "text": [
      "['data_arc', 'data_bulk', 'data_bulk_time', 'data_gas', 'data_temp', 'data_wire', 'data_wire_time']\n"
     ]
    }
   ],
   "source": [
    "# Создаем объект MetaData\n",
    "metadata = MetaData()\n",
    "\n",
    "# Отображаем таблицы из базы данных\n",
    "metadata.reflect(bind=engine)\n",
    "\n",
    "# Получаем список таблиц\n",
    "tables = metadata.tables.keys()\n",
    "print(list(tables))"
   ]
  },
  {
   "cell_type": "code",
   "execution_count": 12,
   "metadata": {},
   "outputs": [
    {
     "data": {
      "text/plain": [
       "dict_keys(['data_arc', 'data_bulk', 'data_bulk_time', 'data_gas', 'data_temp', 'data_wire', 'data_wire_time'])"
      ]
     },
     "execution_count": 12,
     "metadata": {},
     "output_type": "execute_result"
    }
   ],
   "source": [
    "tables"
   ]
  },
  {
   "cell_type": "code",
   "execution_count": 4,
   "metadata": {},
   "outputs": [
    {
     "name": "stdout",
     "output_type": "stream",
     "text": [
      "\n",
      "Таблица: data_arc\n",
      " - Столбец: key, Тип данных: INTEGER\n",
      " - Столбец: Начало нагрева дугой, Тип данных: TEXT\n",
      " - Столбец: Конец нагрева дугой, Тип данных: TEXT\n",
      " - Столбец: Активная мощность, Тип данных: DOUBLE\n",
      " - Столбец: Реактивная мощность, Тип данных: DOUBLE\n",
      "\n",
      "Таблица: data_bulk\n",
      " - Столбец: key, Тип данных: INTEGER\n",
      " - Столбец: Bulk 1, Тип данных: DOUBLE\n",
      " - Столбец: Bulk 2, Тип данных: DOUBLE\n",
      " - Столбец: Bulk 3, Тип данных: DOUBLE\n",
      " - Столбец: Bulk 4, Тип данных: DOUBLE\n",
      " - Столбец: Bulk 5, Тип данных: TEXT\n",
      " - Столбец: Bulk 6, Тип данных: TEXT\n",
      " - Столбец: Bulk 7, Тип данных: TEXT\n",
      " - Столбец: Bulk 8, Тип данных: TEXT\n",
      " - Столбец: Bulk 9, Тип данных: TEXT\n",
      " - Столбец: Bulk 10, Тип данных: TEXT\n",
      " - Столбец: Bulk 11, Тип данных: TEXT\n",
      " - Столбец: Bulk 12, Тип данных: TEXT\n",
      " - Столбец: Bulk 13, Тип данных: TEXT\n",
      " - Столбец: Bulk 14, Тип данных: TEXT\n",
      " - Столбец: Bulk 15, Тип данных: TEXT\n",
      "\n",
      "Таблица: data_bulk_time\n",
      " - Столбец: key, Тип данных: INTEGER\n",
      " - Столбец: Bulk 1, Тип данных: TEXT\n",
      " - Столбец: Bulk 2, Тип данных: TEXT\n",
      " - Столбец: Bulk 3, Тип данных: TEXT\n",
      " - Столбец: Bulk 4, Тип данных: TEXT\n",
      " - Столбец: Bulk 5, Тип данных: TEXT\n",
      " - Столбец: Bulk 6, Тип данных: TEXT\n",
      " - Столбец: Bulk 7, Тип данных: TEXT\n",
      " - Столбец: Bulk 8, Тип данных: TEXT\n",
      " - Столбец: Bulk 9, Тип данных: TEXT\n",
      " - Столбец: Bulk 10, Тип данных: TEXT\n",
      " - Столбец: Bulk 11, Тип данных: TEXT\n",
      " - Столбец: Bulk 12, Тип данных: TEXT\n",
      " - Столбец: Bulk 13, Тип данных: TEXT\n",
      " - Столбец: Bulk 14, Тип данных: TEXT\n",
      " - Столбец: Bulk 15, Тип данных: TEXT\n",
      "\n",
      "Таблица: data_gas\n",
      " - Столбец: key, Тип данных: INTEGER\n",
      " - Столбец: Газ 1, Тип данных: DOUBLE\n",
      "\n",
      "Таблица: data_temp\n",
      " - Столбец: key, Тип данных: INTEGER\n",
      " - Столбец: Время замера, Тип данных: TEXT\n",
      " - Столбец: Температура, Тип данных: TEXT\n",
      "\n",
      "Таблица: data_wire\n",
      " - Столбец: key, Тип данных: INTEGER\n",
      " - Столбец: Wire 1, Тип данных: DOUBLE\n",
      " - Столбец: Wire 2, Тип данных: TEXT\n",
      " - Столбец: Wire 3, Тип данных: TEXT\n",
      " - Столбец: Wire 4, Тип данных: TEXT\n",
      " - Столбец: Wire 5, Тип данных: TEXT\n",
      " - Столбец: Wire 6, Тип данных: TEXT\n",
      " - Столбец: Wire 7, Тип данных: TEXT\n",
      " - Столбец: Wire 8, Тип данных: TEXT\n",
      " - Столбец: Wire 9, Тип данных: TEXT\n",
      "\n",
      "Таблица: data_wire_time\n",
      " - Столбец: key, Тип данных: INTEGER\n",
      " - Столбец: Wire 1, Тип данных: TEXT\n",
      " - Столбец: Wire 2, Тип данных: TEXT\n",
      " - Столбец: Wire 3, Тип данных: TEXT\n",
      " - Столбец: Wire 4, Тип данных: TEXT\n",
      " - Столбец: Wire 5, Тип данных: TEXT\n",
      " - Столбец: Wire 6, Тип данных: TEXT\n",
      " - Столбец: Wire 7, Тип данных: TEXT\n",
      " - Столбец: Wire 8, Тип данных: TEXT\n",
      " - Столбец: Wire 9, Тип данных: TEXT\n"
     ]
    }
   ],
   "source": [
    "# Выводим информацию о типах данных в каждой таблице\n",
    "for table_name in metadata.tables:\n",
    "    print(f\"\\nТаблица: {table_name}\")\n",
    "    table = metadata.tables[table_name]\n",
    "    for column in table.c:\n",
    "        print(f\" - Столбец: {column.name}, Тип данных: {column.type}\")"
   ]
  },
  {
   "cell_type": "markdown",
   "metadata": {},
   "source": [
    "В БД присутсвуют лишние таблицы:\\\n",
    "\"internet\", \"personal\", \"phone\", \"contract\"\n",
    "\n",
    "Удалим их и освободим место на диске после их удаления."
   ]
  },
  {
   "cell_type": "code",
   "execution_count": 5,
   "metadata": {},
   "outputs": [
    {
     "name": "stdout",
     "output_type": "stream",
     "text": [
      "Масто на диске очищено с помощью VACUUM\n"
     ]
    }
   ],
   "source": [
    "# Отражаем таблицы из базы данных (если еще не было сделано)\n",
    "metadata.reflect(bind=engine)\n",
    "\n",
    "# Список таблиц для удаления\n",
    "tables_to_delete = [\"internet\", \"personal\", \"phone\", \"contract\"]\n",
    "\n",
    "# Удаляем таблицы\n",
    "with engine.connect() as connection:\n",
    "    for table_name in tables_to_delete:\n",
    "        if table_name in metadata.tables:\n",
    "            table = Table(table_name, metadata, autoload_with=engine)\n",
    "            table.drop(bind=engine, checkfirst=True)  # checkfirst=True проверяет наличие таблицы перед удалением\n",
    "            print(f\"Таблица {table_name} удалена.\")\n",
    "    connection.execute(text(\"VACUUM;\"))\n",
    "    print('Масто на диске очищено с помощью VACUUM')  "
   ]
  },
  {
   "cell_type": "markdown",
   "metadata": {},
   "source": [
    "Создадим подключение к БД заново, проверим таблицы."
   ]
  },
  {
   "cell_type": "code",
   "execution_count": 6,
   "metadata": {},
   "outputs": [
    {
     "name": "stdout",
     "output_type": "stream",
     "text": [
      "['data_arc', 'data_bulk', 'data_bulk_time', 'data_gas', 'data_temp', 'data_wire', 'data_wire_time']\n",
      "\n",
      "Таблица: data_arc\n",
      " - Столбец: key, Тип данных: INTEGER\n",
      " - Столбец: Начало нагрева дугой, Тип данных: TEXT\n",
      " - Столбец: Конец нагрева дугой, Тип данных: TEXT\n",
      " - Столбец: Активная мощность, Тип данных: DOUBLE\n",
      " - Столбец: Реактивная мощность, Тип данных: DOUBLE\n",
      "\n",
      "Таблица: data_bulk\n",
      " - Столбец: key, Тип данных: INTEGER\n",
      " - Столбец: Bulk 1, Тип данных: DOUBLE\n",
      " - Столбец: Bulk 2, Тип данных: DOUBLE\n",
      " - Столбец: Bulk 3, Тип данных: DOUBLE\n",
      " - Столбец: Bulk 4, Тип данных: DOUBLE\n",
      " - Столбец: Bulk 5, Тип данных: TEXT\n",
      " - Столбец: Bulk 6, Тип данных: TEXT\n",
      " - Столбец: Bulk 7, Тип данных: TEXT\n",
      " - Столбец: Bulk 8, Тип данных: TEXT\n",
      " - Столбец: Bulk 9, Тип данных: TEXT\n",
      " - Столбец: Bulk 10, Тип данных: TEXT\n",
      " - Столбец: Bulk 11, Тип данных: TEXT\n",
      " - Столбец: Bulk 12, Тип данных: TEXT\n",
      " - Столбец: Bulk 13, Тип данных: TEXT\n",
      " - Столбец: Bulk 14, Тип данных: TEXT\n",
      " - Столбец: Bulk 15, Тип данных: TEXT\n",
      "\n",
      "Таблица: data_bulk_time\n",
      " - Столбец: key, Тип данных: INTEGER\n",
      " - Столбец: Bulk 1, Тип данных: TEXT\n",
      " - Столбец: Bulk 2, Тип данных: TEXT\n",
      " - Столбец: Bulk 3, Тип данных: TEXT\n",
      " - Столбец: Bulk 4, Тип данных: TEXT\n",
      " - Столбец: Bulk 5, Тип данных: TEXT\n",
      " - Столбец: Bulk 6, Тип данных: TEXT\n",
      " - Столбец: Bulk 7, Тип данных: TEXT\n",
      " - Столбец: Bulk 8, Тип данных: TEXT\n",
      " - Столбец: Bulk 9, Тип данных: TEXT\n",
      " - Столбец: Bulk 10, Тип данных: TEXT\n",
      " - Столбец: Bulk 11, Тип данных: TEXT\n",
      " - Столбец: Bulk 12, Тип данных: TEXT\n",
      " - Столбец: Bulk 13, Тип данных: TEXT\n",
      " - Столбец: Bulk 14, Тип данных: TEXT\n",
      " - Столбец: Bulk 15, Тип данных: TEXT\n",
      "\n",
      "Таблица: data_gas\n",
      " - Столбец: key, Тип данных: INTEGER\n",
      " - Столбец: Газ 1, Тип данных: DOUBLE\n",
      "\n",
      "Таблица: data_temp\n",
      " - Столбец: key, Тип данных: INTEGER\n",
      " - Столбец: Время замера, Тип данных: TEXT\n",
      " - Столбец: Температура, Тип данных: TEXT\n",
      "\n",
      "Таблица: data_wire\n",
      " - Столбец: key, Тип данных: INTEGER\n",
      " - Столбец: Wire 1, Тип данных: DOUBLE\n",
      " - Столбец: Wire 2, Тип данных: TEXT\n",
      " - Столбец: Wire 3, Тип данных: TEXT\n",
      " - Столбец: Wire 4, Тип данных: TEXT\n",
      " - Столбец: Wire 5, Тип данных: TEXT\n",
      " - Столбец: Wire 6, Тип данных: TEXT\n",
      " - Столбец: Wire 7, Тип данных: TEXT\n",
      " - Столбец: Wire 8, Тип данных: TEXT\n",
      " - Столбец: Wire 9, Тип данных: TEXT\n",
      "\n",
      "Таблица: data_wire_time\n",
      " - Столбец: key, Тип данных: INTEGER\n",
      " - Столбец: Wire 1, Тип данных: TEXT\n",
      " - Столбец: Wire 2, Тип данных: TEXT\n",
      " - Столбец: Wire 3, Тип данных: TEXT\n",
      " - Столбец: Wire 4, Тип данных: TEXT\n",
      " - Столбец: Wire 5, Тип данных: TEXT\n",
      " - Столбец: Wire 6, Тип данных: TEXT\n",
      " - Столбец: Wire 7, Тип данных: TEXT\n",
      " - Столбец: Wire 8, Тип данных: TEXT\n",
      " - Столбец: Wire 9, Тип данных: TEXT\n"
     ]
    }
   ],
   "source": [
    "metadata = MetaData()\n",
    "metadata.reflect(bind=engine)\n",
    "tables = metadata.tables.keys()\n",
    "print(list(tables))\n",
    "for table_name in metadata.tables:\n",
    "    print(f\"\\nТаблица: {table_name}\")\n",
    "    table = metadata.tables[table_name]\n",
    "    for column in table.c:\n",
    "        print(f\" - Столбец: {column.name}, Тип данных: {column.type}\")"
   ]
  },
  {
   "cell_type": "markdown",
   "metadata": {},
   "source": [
    "Посмотрим первые строки каждой таблицы:"
   ]
  },
  {
   "cell_type": "code",
   "execution_count": 7,
   "metadata": {},
   "outputs": [
    {
     "name": "stdout",
     "output_type": "stream",
     "text": [
      "\n",
      "Таблица: data_arc\n",
      "(1, '2019-05-03 11:02:14', '2019-05-03 11:06:02', 0.30513, 0.211253)\n",
      "(1, '2019-05-03 11:07:28', '2019-05-03 11:10:33', 0.765658, 0.477438)\n",
      "\n",
      "Таблица: data_bulk\n",
      "(1, None, None, None, 43.0, None, None, None, None, None, None, None, '206.0', None, '150.0', '154.0')\n",
      "(2, None, None, None, 73.0, None, None, None, None, None, None, None, '206.0', None, '149.0', '154.0')\n",
      "\n",
      "Таблица: data_bulk_time\n",
      "(1, None, None, None, '2019-05-03 11:28:48', None, None, None, None, None, None, None, '2019-05-03 11:24:31', None, '2019-05-03 11:14:50', '2019-05-03 11:10:43')\n",
      "(2, None, None, None, '2019-05-03 11:36:50', None, None, None, None, None, None, None, '2019-05-03 11:53:30', None, '2019-05-03 11:48:37', '2019-05-03 11:44:39')\n",
      "\n",
      "Таблица: data_gas\n",
      "(1, 29.7499859302)\n",
      "(2, 12.5555609779)\n",
      "\n",
      "Таблица: data_temp\n",
      "(1, '2019-05-03 11:02:04', '1571.0')\n",
      "(1, '2019-05-03 11:07:18', '1604.0')\n",
      "\n",
      "Таблица: data_wire\n",
      "(1, 60.059998, None, None, None, None, None, None, None, None)\n",
      "(2, 96.052315, None, None, None, None, None, None, None, None)\n",
      "\n",
      "Таблица: data_wire_time\n",
      "(1, '2019-05-03 11:06:19', None, None, None, None, None, None, None, None)\n",
      "(2, '2019-05-03 11:36:50', None, None, None, None, None, None, None, None)\n"
     ]
    }
   ],
   "source": [
    "# Функция для вывода первых нескольких строк из таблицы\n",
    "def print_first_rows(table, num_rows=5):\n",
    "    with engine.connect() as connection:\n",
    "        stmt = select(table).limit(num_rows)  # Передаем объект table напрямую в select()\n",
    "        result = connection.execute(stmt)\n",
    "        rows = result.fetchall()\n",
    "        print(f\"\\nТаблица: {table.name}\")\n",
    "        for row in rows:\n",
    "            print(row)\n",
    "\n",
    "# Перебор всех таблиц в базе данных\n",
    "for table_name in metadata.tables:\n",
    "    table = metadata.tables[table_name]\n",
    "    print_first_rows(table, num_rows=2)  # Выводим первые две строки из каждой таблицы"
   ]
  },
  {
   "cell_type": "markdown",
   "metadata": {},
   "source": [
    "Создадим для каждой таблицы из БД объект pandas. \\\n",
    "Пренесем данный из БД."
   ]
  },
  {
   "cell_type": "code",
   "execution_count": 14,
   "metadata": {},
   "outputs": [
    {
     "name": "stdout",
     "output_type": "stream",
     "text": [
      "Таблица data_arc загружена в DataFrame.\n",
      "Таблица data_bulk загружена в DataFrame.\n",
      "Таблица data_bulk_time загружена в DataFrame.\n",
      "Таблица data_gas загружена в DataFrame.\n",
      "Таблица data_temp загружена в DataFrame.\n",
      "Таблица data_wire загружена в DataFrame.\n",
      "Таблица data_wire_time загружена в DataFrame.\n"
     ]
    }
   ],
   "source": [
    "# Загрузка таблиц в отдельные DataFrame\n",
    "for table_name in list(tables):\n",
    "    with engine.connect() as connection:\n",
    "        globals()[table_name] = pd.read_sql_table(table_name, connection)\n",
    "        print(f\"Таблица {table_name} загружена в DataFrame.\")"
   ]
  },
  {
   "cell_type": "markdown",
   "metadata": {},
   "source": [
    "Когда объявляешь переменную через globals()\\\n",
    "в VScode эта переменная подчеркивается как та,\\\n",
    "которая еще не была определена,\\\n",
    "но работать с ней можно.\n",
    "\n",
    "То есть это не кретично и работе не мешает,\\\n",
    "но меня это немного бесит!\n",
    "\n",
    "Поэтому воспользуемся таким костылем:"
   ]
  },
  {
   "cell_type": "code",
   "execution_count": 16,
   "metadata": {},
   "outputs": [],
   "source": [
    "data_arc = data_arc\n",
    "data_bulk = data_bulk\n",
    "data_bulk_time = data_bulk_time\n",
    "data_gas = data_gas\n",
    "data_temp = data_temp\n",
    "data_wire = data_wire\n",
    "data_wire_time = data_wire_time"
   ]
  },
  {
   "cell_type": "code",
   "execution_count": null,
   "metadata": {},
   "outputs": [],
   "source": [
    "\n",
    "# Пример использования загруженных DataFrame\n",
    "print(data_arc.head())  # Вывод первых 5 строк таблицы data_arc\n",
    "print(data_bulk.head())  # Вывод первых 5 строк таблицы data_bulk"
   ]
  }
 ],
 "metadata": {
  "kernelspec": {
   "display_name": "Python 3 (ipykernel)",
   "language": "python",
   "name": "python3"
  },
  "language_info": {
   "codemirror_mode": {
    "name": "ipython",
    "version": 3
   },
   "file_extension": ".py",
   "mimetype": "text/x-python",
   "name": "python",
   "nbconvert_exporter": "python",
   "pygments_lexer": "ipython3",
   "version": "3.9.13"
  },
  "toc": {
   "base_numbering": 1,
   "nav_menu": {},
   "number_sections": true,
   "sideBar": true,
   "skip_h1_title": true,
   "title_cell": "Table of Contents",
   "title_sidebar": "Contents",
   "toc_cell": false,
   "toc_position": {},
   "toc_section_display": true,
   "toc_window_display": false
  }
 },
 "nbformat": 4,
 "nbformat_minor": 2
}
