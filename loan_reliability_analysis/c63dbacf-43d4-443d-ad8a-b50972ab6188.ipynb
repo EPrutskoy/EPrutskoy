{
 "cells": [
  {
   "cell_type": "markdown",
   "id": "7617c265",
   "metadata": {
    "deletable": false,
    "editable": false,
    "id": "c81daeeb"
   },
   "source": [
    "# Исследование надежности заемщиков\n"
   ]
  },
  {
   "cell_type": "markdown",
   "id": "0cdc13ea",
   "metadata": {
    "deletable": false,
    "editable": false,
    "id": "827c20bf"
   },
   "source": [
    "Во второй части проекта вы выполните шаги 3 и 4. Их вручную проверит ревьюер.\n",
    "Чтобы вам не пришлось писать код заново для шагов 1 и 2, мы добавили авторские решения в ячейки с кодом. \n",
    "\n"
   ]
  },
  {
   "cell_type": "markdown",
   "id": "f7f808c5",
   "metadata": {
    "deletable": false,
    "editable": false,
    "id": "744d7639"
   },
   "source": [
    "## Откройте таблицу и изучите общую информацию о данных"
   ]
  },
  {
   "cell_type": "markdown",
   "id": "27f638b4",
   "metadata": {
    "deletable": false,
    "editable": false,
    "id": "e7a14c31"
   },
   "source": [
    "**Задание 1. Импортируйте библиотеку pandas. Считайте данные из csv-файла в датафрейм и сохраните в переменную `data`. Путь к файлу:**\n",
    "\n",
    "`/datasets/data.csv`"
   ]
  },
  {
   "cell_type": "code",
   "execution_count": 1,
   "id": "fd40b03a",
   "metadata": {
    "deletable": false,
    "id": "7bcf75c9"
   },
   "outputs": [
    {
     "name": "stdout",
     "output_type": "stream",
     "text": [
      "3.3.4\n",
      "0.11.1\n"
     ]
    }
   ],
   "source": [
    "import pandas as pd\n",
    "import numpy as np\n",
    "import pandas as pd\n",
    "import matplotlib as mpl\n",
    "import matplotlib.pyplot as plt\n",
    "import seaborn as sns\n",
    "import warnings; warnings.filterwarnings(action='once')\n",
    "\n",
    "large = 22; med = 16; small = 12\n",
    "params = {'axes.titlesize': large,\n",
    "          'legend.fontsize': med,\n",
    "          'figure.figsize': (16, 10),\n",
    "          'axes.labelsize': med,\n",
    "          'axes.titlesize': med,\n",
    "          'xtick.labelsize': med,\n",
    "          'ytick.labelsize': med,\n",
    "          'figure.titlesize': large}\n",
    "plt.rcParams.update(params)\n",
    "plt.style.use('seaborn-whitegrid')\n",
    "sns.set_style(\"white\")\n",
    "%matplotlib inline\n",
    "\n",
    "# Version\n",
    "print(mpl.__version__)  #> 3.0.0\n",
    "print(sns.__version__)  #> 0.9.0\n",
    "\n",
    "try:\n",
    "    data = pd.read_csv('/datasets/data.csv')\n",
    "except:\n",
    "    data = pd.read_csv('https://code.s3.yandex.net/datasets/data.csv')"
   ]
  },
  {
   "cell_type": "markdown",
   "id": "3fe94c91",
   "metadata": {
    "deletable": false,
    "editable": false,
    "id": "b8038fe3"
   },
   "source": [
    "**Задание 2. Выведите первые 20 строчек датафрейма `data` на экран.**"
   ]
  },
  {
   "cell_type": "code",
   "execution_count": 2,
   "id": "24a97781",
   "metadata": {
    "deletable": false,
    "id": "2a7cab99",
    "outputId": "1a8f3ef2-d323-4ec2-ddf7-89670b5944c4"
   },
   "outputs": [
    {
     "data": {
      "text/html": [
       "<div>\n",
       "<style scoped>\n",
       "    .dataframe tbody tr th:only-of-type {\n",
       "        vertical-align: middle;\n",
       "    }\n",
       "\n",
       "    .dataframe tbody tr th {\n",
       "        vertical-align: top;\n",
       "    }\n",
       "\n",
       "    .dataframe thead th {\n",
       "        text-align: right;\n",
       "    }\n",
       "</style>\n",
       "<table border=\"1\" class=\"dataframe\">\n",
       "  <thead>\n",
       "    <tr style=\"text-align: right;\">\n",
       "      <th></th>\n",
       "      <th>children</th>\n",
       "      <th>days_employed</th>\n",
       "      <th>dob_years</th>\n",
       "      <th>education</th>\n",
       "      <th>education_id</th>\n",
       "      <th>family_status</th>\n",
       "      <th>family_status_id</th>\n",
       "      <th>gender</th>\n",
       "      <th>income_type</th>\n",
       "      <th>debt</th>\n",
       "      <th>total_income</th>\n",
       "      <th>purpose</th>\n",
       "    </tr>\n",
       "  </thead>\n",
       "  <tbody>\n",
       "    <tr>\n",
       "      <th>0</th>\n",
       "      <td>1</td>\n",
       "      <td>-8437.673028</td>\n",
       "      <td>42</td>\n",
       "      <td>высшее</td>\n",
       "      <td>0</td>\n",
       "      <td>женат / замужем</td>\n",
       "      <td>0</td>\n",
       "      <td>F</td>\n",
       "      <td>сотрудник</td>\n",
       "      <td>0</td>\n",
       "      <td>253875.639453</td>\n",
       "      <td>покупка жилья</td>\n",
       "    </tr>\n",
       "    <tr>\n",
       "      <th>1</th>\n",
       "      <td>1</td>\n",
       "      <td>-4024.803754</td>\n",
       "      <td>36</td>\n",
       "      <td>среднее</td>\n",
       "      <td>1</td>\n",
       "      <td>женат / замужем</td>\n",
       "      <td>0</td>\n",
       "      <td>F</td>\n",
       "      <td>сотрудник</td>\n",
       "      <td>0</td>\n",
       "      <td>112080.014102</td>\n",
       "      <td>приобретение автомобиля</td>\n",
       "    </tr>\n",
       "    <tr>\n",
       "      <th>2</th>\n",
       "      <td>0</td>\n",
       "      <td>-5623.422610</td>\n",
       "      <td>33</td>\n",
       "      <td>Среднее</td>\n",
       "      <td>1</td>\n",
       "      <td>женат / замужем</td>\n",
       "      <td>0</td>\n",
       "      <td>M</td>\n",
       "      <td>сотрудник</td>\n",
       "      <td>0</td>\n",
       "      <td>145885.952297</td>\n",
       "      <td>покупка жилья</td>\n",
       "    </tr>\n",
       "    <tr>\n",
       "      <th>3</th>\n",
       "      <td>3</td>\n",
       "      <td>-4124.747207</td>\n",
       "      <td>32</td>\n",
       "      <td>среднее</td>\n",
       "      <td>1</td>\n",
       "      <td>женат / замужем</td>\n",
       "      <td>0</td>\n",
       "      <td>M</td>\n",
       "      <td>сотрудник</td>\n",
       "      <td>0</td>\n",
       "      <td>267628.550329</td>\n",
       "      <td>дополнительное образование</td>\n",
       "    </tr>\n",
       "    <tr>\n",
       "      <th>4</th>\n",
       "      <td>0</td>\n",
       "      <td>340266.072047</td>\n",
       "      <td>53</td>\n",
       "      <td>среднее</td>\n",
       "      <td>1</td>\n",
       "      <td>гражданский брак</td>\n",
       "      <td>1</td>\n",
       "      <td>F</td>\n",
       "      <td>пенсионер</td>\n",
       "      <td>0</td>\n",
       "      <td>158616.077870</td>\n",
       "      <td>сыграть свадьбу</td>\n",
       "    </tr>\n",
       "    <tr>\n",
       "      <th>5</th>\n",
       "      <td>0</td>\n",
       "      <td>-926.185831</td>\n",
       "      <td>27</td>\n",
       "      <td>высшее</td>\n",
       "      <td>0</td>\n",
       "      <td>гражданский брак</td>\n",
       "      <td>1</td>\n",
       "      <td>M</td>\n",
       "      <td>компаньон</td>\n",
       "      <td>0</td>\n",
       "      <td>255763.565419</td>\n",
       "      <td>покупка жилья</td>\n",
       "    </tr>\n",
       "    <tr>\n",
       "      <th>6</th>\n",
       "      <td>0</td>\n",
       "      <td>-2879.202052</td>\n",
       "      <td>43</td>\n",
       "      <td>высшее</td>\n",
       "      <td>0</td>\n",
       "      <td>женат / замужем</td>\n",
       "      <td>0</td>\n",
       "      <td>F</td>\n",
       "      <td>компаньон</td>\n",
       "      <td>0</td>\n",
       "      <td>240525.971920</td>\n",
       "      <td>операции с жильем</td>\n",
       "    </tr>\n",
       "    <tr>\n",
       "      <th>7</th>\n",
       "      <td>0</td>\n",
       "      <td>-152.779569</td>\n",
       "      <td>50</td>\n",
       "      <td>СРЕДНЕЕ</td>\n",
       "      <td>1</td>\n",
       "      <td>женат / замужем</td>\n",
       "      <td>0</td>\n",
       "      <td>M</td>\n",
       "      <td>сотрудник</td>\n",
       "      <td>0</td>\n",
       "      <td>135823.934197</td>\n",
       "      <td>образование</td>\n",
       "    </tr>\n",
       "    <tr>\n",
       "      <th>8</th>\n",
       "      <td>2</td>\n",
       "      <td>-6929.865299</td>\n",
       "      <td>35</td>\n",
       "      <td>ВЫСШЕЕ</td>\n",
       "      <td>0</td>\n",
       "      <td>гражданский брак</td>\n",
       "      <td>1</td>\n",
       "      <td>F</td>\n",
       "      <td>сотрудник</td>\n",
       "      <td>0</td>\n",
       "      <td>95856.832424</td>\n",
       "      <td>на проведение свадьбы</td>\n",
       "    </tr>\n",
       "    <tr>\n",
       "      <th>9</th>\n",
       "      <td>0</td>\n",
       "      <td>-2188.756445</td>\n",
       "      <td>41</td>\n",
       "      <td>среднее</td>\n",
       "      <td>1</td>\n",
       "      <td>женат / замужем</td>\n",
       "      <td>0</td>\n",
       "      <td>M</td>\n",
       "      <td>сотрудник</td>\n",
       "      <td>0</td>\n",
       "      <td>144425.938277</td>\n",
       "      <td>покупка жилья для семьи</td>\n",
       "    </tr>\n",
       "    <tr>\n",
       "      <th>10</th>\n",
       "      <td>2</td>\n",
       "      <td>-4171.483647</td>\n",
       "      <td>36</td>\n",
       "      <td>высшее</td>\n",
       "      <td>0</td>\n",
       "      <td>женат / замужем</td>\n",
       "      <td>0</td>\n",
       "      <td>M</td>\n",
       "      <td>компаньон</td>\n",
       "      <td>0</td>\n",
       "      <td>113943.491460</td>\n",
       "      <td>покупка недвижимости</td>\n",
       "    </tr>\n",
       "    <tr>\n",
       "      <th>11</th>\n",
       "      <td>0</td>\n",
       "      <td>-792.701887</td>\n",
       "      <td>40</td>\n",
       "      <td>среднее</td>\n",
       "      <td>1</td>\n",
       "      <td>женат / замужем</td>\n",
       "      <td>0</td>\n",
       "      <td>F</td>\n",
       "      <td>сотрудник</td>\n",
       "      <td>0</td>\n",
       "      <td>77069.234271</td>\n",
       "      <td>покупка коммерческой недвижимости</td>\n",
       "    </tr>\n",
       "    <tr>\n",
       "      <th>12</th>\n",
       "      <td>0</td>\n",
       "      <td>NaN</td>\n",
       "      <td>65</td>\n",
       "      <td>среднее</td>\n",
       "      <td>1</td>\n",
       "      <td>гражданский брак</td>\n",
       "      <td>1</td>\n",
       "      <td>M</td>\n",
       "      <td>пенсионер</td>\n",
       "      <td>0</td>\n",
       "      <td>NaN</td>\n",
       "      <td>сыграть свадьбу</td>\n",
       "    </tr>\n",
       "    <tr>\n",
       "      <th>13</th>\n",
       "      <td>0</td>\n",
       "      <td>-1846.641941</td>\n",
       "      <td>54</td>\n",
       "      <td>неоконченное высшее</td>\n",
       "      <td>2</td>\n",
       "      <td>женат / замужем</td>\n",
       "      <td>0</td>\n",
       "      <td>F</td>\n",
       "      <td>сотрудник</td>\n",
       "      <td>0</td>\n",
       "      <td>130458.228857</td>\n",
       "      <td>приобретение автомобиля</td>\n",
       "    </tr>\n",
       "    <tr>\n",
       "      <th>14</th>\n",
       "      <td>0</td>\n",
       "      <td>-1844.956182</td>\n",
       "      <td>56</td>\n",
       "      <td>высшее</td>\n",
       "      <td>0</td>\n",
       "      <td>гражданский брак</td>\n",
       "      <td>1</td>\n",
       "      <td>F</td>\n",
       "      <td>компаньон</td>\n",
       "      <td>1</td>\n",
       "      <td>165127.911772</td>\n",
       "      <td>покупка жилой недвижимости</td>\n",
       "    </tr>\n",
       "    <tr>\n",
       "      <th>15</th>\n",
       "      <td>1</td>\n",
       "      <td>-972.364419</td>\n",
       "      <td>26</td>\n",
       "      <td>среднее</td>\n",
       "      <td>1</td>\n",
       "      <td>женат / замужем</td>\n",
       "      <td>0</td>\n",
       "      <td>F</td>\n",
       "      <td>сотрудник</td>\n",
       "      <td>0</td>\n",
       "      <td>116820.904450</td>\n",
       "      <td>строительство собственной недвижимости</td>\n",
       "    </tr>\n",
       "    <tr>\n",
       "      <th>16</th>\n",
       "      <td>0</td>\n",
       "      <td>-1719.934226</td>\n",
       "      <td>35</td>\n",
       "      <td>среднее</td>\n",
       "      <td>1</td>\n",
       "      <td>женат / замужем</td>\n",
       "      <td>0</td>\n",
       "      <td>F</td>\n",
       "      <td>сотрудник</td>\n",
       "      <td>0</td>\n",
       "      <td>289202.704229</td>\n",
       "      <td>недвижимость</td>\n",
       "    </tr>\n",
       "    <tr>\n",
       "      <th>17</th>\n",
       "      <td>0</td>\n",
       "      <td>-2369.999720</td>\n",
       "      <td>33</td>\n",
       "      <td>высшее</td>\n",
       "      <td>0</td>\n",
       "      <td>гражданский брак</td>\n",
       "      <td>1</td>\n",
       "      <td>M</td>\n",
       "      <td>сотрудник</td>\n",
       "      <td>0</td>\n",
       "      <td>90410.586745</td>\n",
       "      <td>строительство недвижимости</td>\n",
       "    </tr>\n",
       "    <tr>\n",
       "      <th>18</th>\n",
       "      <td>0</td>\n",
       "      <td>400281.136913</td>\n",
       "      <td>53</td>\n",
       "      <td>среднее</td>\n",
       "      <td>1</td>\n",
       "      <td>вдовец / вдова</td>\n",
       "      <td>2</td>\n",
       "      <td>F</td>\n",
       "      <td>пенсионер</td>\n",
       "      <td>0</td>\n",
       "      <td>56823.777243</td>\n",
       "      <td>на покупку подержанного автомобиля</td>\n",
       "    </tr>\n",
       "    <tr>\n",
       "      <th>19</th>\n",
       "      <td>0</td>\n",
       "      <td>-10038.818549</td>\n",
       "      <td>48</td>\n",
       "      <td>СРЕДНЕЕ</td>\n",
       "      <td>1</td>\n",
       "      <td>в разводе</td>\n",
       "      <td>3</td>\n",
       "      <td>F</td>\n",
       "      <td>сотрудник</td>\n",
       "      <td>0</td>\n",
       "      <td>242831.107982</td>\n",
       "      <td>на покупку своего автомобиля</td>\n",
       "    </tr>\n",
       "  </tbody>\n",
       "</table>\n",
       "</div>"
      ],
      "text/plain": [
       "    children  days_employed  dob_years            education  education_id  \\\n",
       "0          1   -8437.673028         42               высшее             0   \n",
       "1          1   -4024.803754         36              среднее             1   \n",
       "2          0   -5623.422610         33              Среднее             1   \n",
       "3          3   -4124.747207         32              среднее             1   \n",
       "4          0  340266.072047         53              среднее             1   \n",
       "5          0    -926.185831         27               высшее             0   \n",
       "6          0   -2879.202052         43               высшее             0   \n",
       "7          0    -152.779569         50              СРЕДНЕЕ             1   \n",
       "8          2   -6929.865299         35               ВЫСШЕЕ             0   \n",
       "9          0   -2188.756445         41              среднее             1   \n",
       "10         2   -4171.483647         36               высшее             0   \n",
       "11         0    -792.701887         40              среднее             1   \n",
       "12         0            NaN         65              среднее             1   \n",
       "13         0   -1846.641941         54  неоконченное высшее             2   \n",
       "14         0   -1844.956182         56               высшее             0   \n",
       "15         1    -972.364419         26              среднее             1   \n",
       "16         0   -1719.934226         35              среднее             1   \n",
       "17         0   -2369.999720         33               высшее             0   \n",
       "18         0  400281.136913         53              среднее             1   \n",
       "19         0  -10038.818549         48              СРЕДНЕЕ             1   \n",
       "\n",
       "       family_status  family_status_id gender income_type  debt  \\\n",
       "0    женат / замужем                 0      F   сотрудник     0   \n",
       "1    женат / замужем                 0      F   сотрудник     0   \n",
       "2    женат / замужем                 0      M   сотрудник     0   \n",
       "3    женат / замужем                 0      M   сотрудник     0   \n",
       "4   гражданский брак                 1      F   пенсионер     0   \n",
       "5   гражданский брак                 1      M   компаньон     0   \n",
       "6    женат / замужем                 0      F   компаньон     0   \n",
       "7    женат / замужем                 0      M   сотрудник     0   \n",
       "8   гражданский брак                 1      F   сотрудник     0   \n",
       "9    женат / замужем                 0      M   сотрудник     0   \n",
       "10   женат / замужем                 0      M   компаньон     0   \n",
       "11   женат / замужем                 0      F   сотрудник     0   \n",
       "12  гражданский брак                 1      M   пенсионер     0   \n",
       "13   женат / замужем                 0      F   сотрудник     0   \n",
       "14  гражданский брак                 1      F   компаньон     1   \n",
       "15   женат / замужем                 0      F   сотрудник     0   \n",
       "16   женат / замужем                 0      F   сотрудник     0   \n",
       "17  гражданский брак                 1      M   сотрудник     0   \n",
       "18    вдовец / вдова                 2      F   пенсионер     0   \n",
       "19         в разводе                 3      F   сотрудник     0   \n",
       "\n",
       "     total_income                                 purpose  \n",
       "0   253875.639453                           покупка жилья  \n",
       "1   112080.014102                 приобретение автомобиля  \n",
       "2   145885.952297                           покупка жилья  \n",
       "3   267628.550329              дополнительное образование  \n",
       "4   158616.077870                         сыграть свадьбу  \n",
       "5   255763.565419                           покупка жилья  \n",
       "6   240525.971920                       операции с жильем  \n",
       "7   135823.934197                             образование  \n",
       "8    95856.832424                   на проведение свадьбы  \n",
       "9   144425.938277                 покупка жилья для семьи  \n",
       "10  113943.491460                    покупка недвижимости  \n",
       "11   77069.234271       покупка коммерческой недвижимости  \n",
       "12            NaN                         сыграть свадьбу  \n",
       "13  130458.228857                 приобретение автомобиля  \n",
       "14  165127.911772              покупка жилой недвижимости  \n",
       "15  116820.904450  строительство собственной недвижимости  \n",
       "16  289202.704229                            недвижимость  \n",
       "17   90410.586745              строительство недвижимости  \n",
       "18   56823.777243      на покупку подержанного автомобиля  \n",
       "19  242831.107982            на покупку своего автомобиля  "
      ]
     },
     "execution_count": 2,
     "metadata": {},
     "output_type": "execute_result"
    }
   ],
   "source": [
    "data_origin = data.copy()\n",
    "data.head(20)"
   ]
  },
  {
   "cell_type": "markdown",
   "id": "b5deabb6",
   "metadata": {
    "deletable": false,
    "editable": false,
    "id": "1c12e233"
   },
   "source": [
    "**Задание 3. Выведите основную информацию о датафрейме с помощью метода `info()`.**"
   ]
  },
  {
   "cell_type": "code",
   "execution_count": 3,
   "id": "5186de50",
   "metadata": {
    "deletable": false,
    "id": "2b757bca",
    "outputId": "15376089-8dad-46c9-b520-c05248d43158"
   },
   "outputs": [
    {
     "name": "stdout",
     "output_type": "stream",
     "text": [
      "<class 'pandas.core.frame.DataFrame'>\n",
      "RangeIndex: 21525 entries, 0 to 21524\n",
      "Data columns (total 12 columns):\n",
      " #   Column            Non-Null Count  Dtype  \n",
      "---  ------            --------------  -----  \n",
      " 0   children          21525 non-null  int64  \n",
      " 1   days_employed     19351 non-null  float64\n",
      " 2   dob_years         21525 non-null  int64  \n",
      " 3   education         21525 non-null  object \n",
      " 4   education_id      21525 non-null  int64  \n",
      " 5   family_status     21525 non-null  object \n",
      " 6   family_status_id  21525 non-null  int64  \n",
      " 7   gender            21525 non-null  object \n",
      " 8   income_type       21525 non-null  object \n",
      " 9   debt              21525 non-null  int64  \n",
      " 10  total_income      19351 non-null  float64\n",
      " 11  purpose           21525 non-null  object \n",
      "dtypes: float64(2), int64(5), object(5)\n",
      "memory usage: 2.0+ MB\n"
     ]
    }
   ],
   "source": [
    "data.info()"
   ]
  },
  {
   "cell_type": "markdown",
   "id": "d7801f97",
   "metadata": {
    "deletable": false,
    "editable": false,
    "id": "333ec665"
   },
   "source": [
    "## Предобработка данных"
   ]
  },
  {
   "cell_type": "markdown",
   "id": "dd0cdc5f",
   "metadata": {
    "deletable": false,
    "editable": false,
    "id": "02d92d53"
   },
   "source": [
    "### Удаление пропусков"
   ]
  },
  {
   "cell_type": "markdown",
   "id": "7325a571",
   "metadata": {
    "deletable": false,
    "editable": false,
    "id": "cd84967c"
   },
   "source": [
    "**Задание 4. Выведите количество пропущенных значений для каждого столбца. Используйте комбинацию двух методов.**"
   ]
  },
  {
   "cell_type": "code",
   "execution_count": 4,
   "id": "aff189de",
   "metadata": {
    "deletable": false,
    "id": "7f9b2309",
    "outputId": "81f4d817-781c-465c-ed15-91ce4446810d"
   },
   "outputs": [
    {
     "data": {
      "text/plain": [
       "children               0\n",
       "days_employed       2174\n",
       "dob_years              0\n",
       "education              0\n",
       "education_id           0\n",
       "family_status          0\n",
       "family_status_id       0\n",
       "gender                 0\n",
       "income_type            0\n",
       "debt                   0\n",
       "total_income        2174\n",
       "purpose                0\n",
       "dtype: int64"
      ]
     },
     "execution_count": 4,
     "metadata": {},
     "output_type": "execute_result"
    }
   ],
   "source": [
    "data.isna().sum()"
   ]
  },
  {
   "cell_type": "markdown",
   "id": "ca3cf70c",
   "metadata": {
    "deletable": false,
    "editable": false,
    "id": "db86e27b"
   },
   "source": [
    "**Задание 5. В двух столбцах есть пропущенные значения. Один из них — `days_employed`. Пропуски в этом столбце вы обработаете на следующем этапе. Другой столбец с пропущенными значениями — `total_income` — хранит данные о доходах. На сумму дохода сильнее всего влияет тип занятости, поэтому заполнить пропуски в этом столбце нужно медианным значением по каждому типу из столбца `income_type`. Например, у человека с типом занятости `сотрудник` пропуск в столбце `total_income` должен быть заполнен медианным доходом среди всех записей с тем же типом.**"
   ]
  },
  {
   "cell_type": "code",
   "execution_count": 5,
   "id": "4f8d0a0f",
   "metadata": {
    "deletable": false,
    "id": "42006a93"
   },
   "outputs": [],
   "source": [
    "for t in data['income_type'].unique():\n",
    "    data.loc[(data['income_type'] == t) & (data['total_income'].isna()), 'total_income'] = \\\n",
    "    data.loc[(data['income_type'] == t), 'total_income'].median()"
   ]
  },
  {
   "cell_type": "markdown",
   "id": "f7723a00",
   "metadata": {
    "deletable": false,
    "editable": false,
    "id": "89da5ece"
   },
   "source": [
    "### Обработка аномальных значений"
   ]
  },
  {
   "cell_type": "markdown",
   "id": "fad367ed",
   "metadata": {
    "deletable": false,
    "editable": false,
    "id": "57964554"
   },
   "source": [
    "**Задание 6. В данных могут встречаться артефакты (аномалии) — значения, которые не отражают действительность и появились по какой-то ошибке. таким артефактом будет отрицательное количество дней трудового стажа в столбце `days_employed`. Для реальных данных это нормально. Обработайте значения в этом столбце: замените все отрицательные значения положительными с помощью метода `abs()`.**"
   ]
  },
  {
   "cell_type": "code",
   "execution_count": 6,
   "id": "01adf27d",
   "metadata": {
    "deletable": false,
    "id": "f6f055bf"
   },
   "outputs": [],
   "source": [
    "data['days_employed'] = data['days_employed'].abs()"
   ]
  },
  {
   "cell_type": "markdown",
   "id": "a2924f4c",
   "metadata": {
    "deletable": false,
    "editable": false,
    "id": "6107dd2f"
   },
   "source": [
    "**Задание 7. Для каждого типа занятости выведите медианное значение трудового стажа `days_employed` в днях.**"
   ]
  },
  {
   "cell_type": "code",
   "execution_count": 7,
   "id": "1a9ac3c7",
   "metadata": {
    "deletable": false,
    "id": "85a5faf6",
    "outputId": "801ef80e-522b-4668-f34e-565af7432bcf"
   },
   "outputs": [
    {
     "data": {
      "text/plain": [
       "income_type\n",
       "безработный        366413.652744\n",
       "в декрете            3296.759962\n",
       "госслужащий          2689.368353\n",
       "компаньон            1547.382223\n",
       "пенсионер          365213.306266\n",
       "предприниматель       520.848083\n",
       "сотрудник            1574.202821\n",
       "студент               578.751554\n",
       "Name: days_employed, dtype: float64"
      ]
     },
     "execution_count": 7,
     "metadata": {},
     "output_type": "execute_result"
    }
   ],
   "source": [
    "data.groupby('income_type')['days_employed'].agg('median')"
   ]
  },
  {
   "cell_type": "markdown",
   "id": "5b981f9a",
   "metadata": {
    "deletable": false,
    "editable": false,
    "id": "38d1a030"
   },
   "source": [
    "У двух типов (безработные и пенсионеры) получатся аномально большие значения. Исправить такие значения сложно, поэтому оставьте их как есть. Тем более этот столбец не понадобится вам для исследования."
   ]
  },
  {
   "cell_type": "markdown",
   "id": "ac7f4849",
   "metadata": {
    "deletable": false,
    "editable": false,
    "id": "d8a9f147"
   },
   "source": [
    "**Задание 8. Выведите перечень уникальных значений столбца `children`.**"
   ]
  },
  {
   "cell_type": "code",
   "execution_count": 8,
   "id": "ff35f414",
   "metadata": {
    "deletable": false,
    "id": "ef5056eb",
    "outputId": "6975b15c-7f95-4697-d16d-a0c79b657b03"
   },
   "outputs": [
    {
     "data": {
      "text/plain": [
       "array([ 1,  0,  3,  2, -1,  4, 20,  5])"
      ]
     },
     "execution_count": 8,
     "metadata": {},
     "output_type": "execute_result"
    }
   ],
   "source": [
    "data['children'].unique()"
   ]
  },
  {
   "cell_type": "markdown",
   "id": "f56f7bc6",
   "metadata": {
    "deletable": false,
    "editable": false,
    "id": "40b9ebf2"
   },
   "source": [
    "**Задание 9. В столбце `children` есть два аномальных значения. Удалите строки, в которых встречаются такие аномальные значения из датафрейма `data`.**"
   ]
  },
  {
   "cell_type": "code",
   "execution_count": 9,
   "id": "fc2f8b80",
   "metadata": {
    "deletable": false,
    "id": "3ff9801d"
   },
   "outputs": [],
   "source": [
    "data = data[(data['children'] != -1) & (data['children'] != 20)]"
   ]
  },
  {
   "cell_type": "markdown",
   "id": "87f659eb",
   "metadata": {
    "deletable": false,
    "editable": false,
    "id": "bbc4d0ce"
   },
   "source": [
    "**Задание 10. Ещё раз выведите перечень уникальных значений столбца `children`, чтобы убедиться, что артефакты удалены.**"
   ]
  },
  {
   "cell_type": "code",
   "execution_count": 10,
   "id": "76d06d9d",
   "metadata": {
    "deletable": false,
    "id": "ad4fa8b7",
    "outputId": "b2097101-d49d-44d9-901b-32a65c9463d1"
   },
   "outputs": [
    {
     "data": {
      "text/plain": [
       "array([1, 0, 3, 2, 4, 5])"
      ]
     },
     "execution_count": 10,
     "metadata": {},
     "output_type": "execute_result"
    }
   ],
   "source": [
    "data['children'].unique()"
   ]
  },
  {
   "cell_type": "markdown",
   "id": "f2a8ef81",
   "metadata": {
    "deletable": false,
    "editable": false,
    "id": "75440b63"
   },
   "source": [
    "### Удаление пропусков (продолжение)"
   ]
  },
  {
   "cell_type": "markdown",
   "id": "4a7f031b",
   "metadata": {
    "deletable": false,
    "editable": false,
    "id": "f4ea573f"
   },
   "source": [
    "**Задание 11. Заполните пропуски в столбце `days_employed` медианными значениями по каждого типа занятости `income_type`.**"
   ]
  },
  {
   "cell_type": "code",
   "execution_count": 11,
   "id": "2f13830e",
   "metadata": {
    "deletable": false,
    "id": "af6b1a7e"
   },
   "outputs": [],
   "source": [
    "for t in data['income_type'].unique():\n",
    "    data.loc[(data['income_type'] == t) & (data['days_employed'].isna()), 'days_employed'] = \\\n",
    "    data.loc[(data['income_type'] == t), 'days_employed'].median()"
   ]
  },
  {
   "cell_type": "markdown",
   "id": "2f555c61",
   "metadata": {
    "deletable": false,
    "editable": false,
    "id": "2753f40d"
   },
   "source": [
    "**Задание 12. Убедитесь, что все пропуски заполнены. Проверьте себя и ещё раз выведите количество пропущенных значений для каждого столбца с помощью двух методов.**"
   ]
  },
  {
   "cell_type": "code",
   "execution_count": 12,
   "id": "465ff5d3",
   "metadata": {
    "deletable": false,
    "id": "55f78bc2",
    "outputId": "8da1e4e1-358e-4e87-98c9-f261bce0a7b2"
   },
   "outputs": [
    {
     "data": {
      "text/plain": [
       "children            0\n",
       "days_employed       0\n",
       "dob_years           0\n",
       "education           0\n",
       "education_id        0\n",
       "family_status       0\n",
       "family_status_id    0\n",
       "gender              0\n",
       "income_type         0\n",
       "debt                0\n",
       "total_income        0\n",
       "purpose             0\n",
       "dtype: int64"
      ]
     },
     "execution_count": 12,
     "metadata": {},
     "output_type": "execute_result"
    }
   ],
   "source": [
    "data.isna().sum()"
   ]
  },
  {
   "cell_type": "markdown",
   "id": "d6a6ff94",
   "metadata": {
    "deletable": false,
    "editable": false,
    "id": "ddc81e43"
   },
   "source": [
    "### Изменение типов данных"
   ]
  },
  {
   "cell_type": "markdown",
   "id": "601feb54",
   "metadata": {
    "deletable": false,
    "editable": false,
    "id": "42d19d24"
   },
   "source": [
    "**Задание 13. Замените вещественный тип данных в столбце `total_income` на целочисленный с помощью метода `astype()`.**"
   ]
  },
  {
   "cell_type": "code",
   "execution_count": 13,
   "id": "c18729b8",
   "metadata": {
    "deletable": false,
    "id": "920b65ad"
   },
   "outputs": [],
   "source": [
    "data['total_income'] = data['total_income'].astype(int)"
   ]
  },
  {
   "cell_type": "markdown",
   "id": "4e1e8871",
   "metadata": {
    "deletable": false,
    "editable": false,
    "id": "80c420ba"
   },
   "source": [
    "### Обработка дубликатов"
   ]
  },
  {
   "cell_type": "markdown",
   "id": "5814a463",
   "metadata": {
    "deletable": false,
    "editable": false
   },
   "source": [
    "**Задание 14. Обработайте неявные дубликаты в столбце `education`. В этом столбце есть одни и те же значения, но записанные по-разному: с использованием заглавных и строчных букв. Приведите их к нижнему регистру. Проверьте остальные столбцы.**"
   ]
  },
  {
   "cell_type": "code",
   "execution_count": 14,
   "id": "f901aa7a",
   "metadata": {
    "deletable": false
   },
   "outputs": [],
   "source": [
    "data['education'] = data['education'].str.lower()"
   ]
  },
  {
   "cell_type": "markdown",
   "id": "731c2baf",
   "metadata": {
    "deletable": false,
    "editable": false,
    "id": "dc587695"
   },
   "source": [
    "**Задание 15. Выведите на экран количество строк-дубликатов в данных. Если такие строки присутствуют, удалите их.**"
   ]
  },
  {
   "cell_type": "code",
   "execution_count": 15,
   "id": "dd35dd9c",
   "metadata": {
    "deletable": false,
    "id": "3ee445e4",
    "outputId": "9684deba-1934-42d1-99e1-cda61740f822"
   },
   "outputs": [
    {
     "data": {
      "text/plain": [
       "71"
      ]
     },
     "execution_count": 15,
     "metadata": {},
     "output_type": "execute_result"
    }
   ],
   "source": [
    "data.duplicated().sum()"
   ]
  },
  {
   "cell_type": "code",
   "execution_count": 16,
   "id": "efb05bb0",
   "metadata": {
    "deletable": false,
    "id": "8575fe05"
   },
   "outputs": [],
   "source": [
    "data = data.drop_duplicates()"
   ]
  },
  {
   "cell_type": "markdown",
   "id": "59bc2fc4",
   "metadata": {
    "deletable": false,
    "editable": false,
    "id": "9904cf55"
   },
   "source": [
    "### Категоризация данных"
   ]
  },
  {
   "cell_type": "markdown",
   "id": "f53546c5",
   "metadata": {
    "deletable": false,
    "editable": false,
    "id": "72fcc8a2"
   },
   "source": [
    "**Задание 16. На основании диапазонов, указанных ниже, создайте в датафрейме `data` столбец `total_income_category` с категориями:**\n",
    "\n",
    "- 0–30000 — `'E'`;\n",
    "- 30001–50000 — `'D'`;\n",
    "- 50001–200000 — `'C'`;\n",
    "- 200001–1000000 — `'B'`;\n",
    "- 1000001 и выше — `'A'`.\n",
    "\n",
    "\n",
    "**Например, кредитополучателю с доходом 25000 нужно назначить категорию `'E'`, а клиенту, получающему 235000, — `'B'`. Используйте собственную функцию с именем `categorize_income()` и метод `apply()`.**"
   ]
  },
  {
   "cell_type": "code",
   "execution_count": 17,
   "id": "37288984",
   "metadata": {
    "deletable": false,
    "id": "e1771346"
   },
   "outputs": [],
   "source": [
    "def categorize_income(income):\n",
    "    try:\n",
    "        if 0 <= income <= 30000:\n",
    "            return 'E'\n",
    "        elif 30001 <= income <= 50000:\n",
    "            return 'D'\n",
    "        elif 50001 <= income <= 200000:\n",
    "            return 'C'\n",
    "        elif 200001 <= income <= 1000000:\n",
    "            return 'B'\n",
    "        elif income >= 1000001:\n",
    "            return 'A'\n",
    "    except:\n",
    "        pass"
   ]
  },
  {
   "cell_type": "code",
   "execution_count": 18,
   "id": "4295f954",
   "metadata": {
    "deletable": false,
    "id": "d5f3586d"
   },
   "outputs": [],
   "source": [
    "data['total_income_category'] = data['total_income'].apply(categorize_income)"
   ]
  },
  {
   "cell_type": "markdown",
   "id": "78323b5b",
   "metadata": {
    "deletable": false,
    "editable": false,
    "id": "dde49b5c"
   },
   "source": [
    "**Задание 17. Выведите на экран перечень уникальных целей взятия кредита из столбца `purpose`.**"
   ]
  },
  {
   "cell_type": "code",
   "execution_count": 19,
   "id": "2a03221f",
   "metadata": {
    "deletable": false,
    "id": "f67ce9b3",
    "outputId": "673c12d9-7d7e-4ae0-9812-c622c89dd244"
   },
   "outputs": [
    {
     "data": {
      "text/plain": [
       "array(['покупка жилья', 'приобретение автомобиля',\n",
       "       'дополнительное образование', 'сыграть свадьбу',\n",
       "       'операции с жильем', 'образование', 'на проведение свадьбы',\n",
       "       'покупка жилья для семьи', 'покупка недвижимости',\n",
       "       'покупка коммерческой недвижимости', 'покупка жилой недвижимости',\n",
       "       'строительство собственной недвижимости', 'недвижимость',\n",
       "       'строительство недвижимости', 'на покупку подержанного автомобиля',\n",
       "       'на покупку своего автомобиля',\n",
       "       'операции с коммерческой недвижимостью',\n",
       "       'строительство жилой недвижимости', 'жилье',\n",
       "       'операции со своей недвижимостью', 'автомобили',\n",
       "       'заняться образованием', 'сделка с подержанным автомобилем',\n",
       "       'получение образования', 'автомобиль', 'свадьба',\n",
       "       'получение дополнительного образования', 'покупка своего жилья',\n",
       "       'операции с недвижимостью', 'получение высшего образования',\n",
       "       'свой автомобиль', 'сделка с автомобилем',\n",
       "       'профильное образование', 'высшее образование',\n",
       "       'покупка жилья для сдачи', 'на покупку автомобиля', 'ремонт жилью',\n",
       "       'заняться высшим образованием'], dtype=object)"
      ]
     },
     "execution_count": 19,
     "metadata": {},
     "output_type": "execute_result"
    }
   ],
   "source": [
    "data['purpose'].unique()"
   ]
  },
  {
   "cell_type": "markdown",
   "id": "b67a87b1",
   "metadata": {
    "deletable": false,
    "editable": false,
    "id": "85d0aef0"
   },
   "source": [
    "**Задание 18. Создайте функцию, которая на основании данных из столбца `purpose` сформирует новый столбец `purpose_category`, в который войдут следующие категории:**\n",
    "\n",
    "- `'операции с автомобилем'`,\n",
    "- `'операции с недвижимостью'`,\n",
    "- `'проведение свадьбы'`,\n",
    "- `'получение образования'`.\n",
    "\n",
    "**Например, если в столбце `purpose` находится подстрока `'на покупку автомобиля'`, то в столбце `purpose_category` должна появиться строка `'операции с автомобилем'`.**\n",
    "\n",
    "**Используйте собственную функцию с именем `categorize_purpose()` и метод `apply()`. Изучите данные в столбце `purpose` и определите, какие подстроки помогут вам правильно определить категорию.**"
   ]
  },
  {
   "cell_type": "code",
   "execution_count": 20,
   "id": "a6d8f45e",
   "metadata": {
    "deletable": false,
    "id": "e149fab4"
   },
   "outputs": [],
   "source": [
    "def categorize_purpose(row):\n",
    "    try:\n",
    "        if 'автом' in row:\n",
    "            return 'операции с автомобилем'\n",
    "        elif 'жил' in row or 'недвиж' in row:\n",
    "            return 'операции с недвижимостью'\n",
    "        elif 'свад' in row:\n",
    "            return 'проведение свадьбы'\n",
    "        elif 'образов' in row:\n",
    "            return 'получение образования'\n",
    "    except:\n",
    "        return 'нет категории'"
   ]
  },
  {
   "cell_type": "code",
   "execution_count": 21,
   "id": "7644e717",
   "metadata": {
    "deletable": false,
    "id": "bf36e69b"
   },
   "outputs": [],
   "source": [
    "data['purpose_category'] = data['purpose'].apply(categorize_purpose)"
   ]
  },
  {
   "cell_type": "markdown",
   "id": "bceb1613",
   "metadata": {},
   "source": [
    "<div class=\"alert alert-success\">\n",
    "<h1> Комментарий ревьюера✅</h1>\n",
    "\n",
    "Данные готовы к анализу)\n",
    "\n",
    "</div>"
   ]
  },
  {
   "cell_type": "markdown",
   "id": "29f0b2b6",
   "metadata": {
    "deletable": false,
    "editable": false,
    "id": "09b242bf"
   },
   "source": [
    "### Шаг 3. Исследуйте данные и ответьте на вопросы"
   ]
  },
  {
   "cell_type": "markdown",
   "id": "8b10162e",
   "metadata": {
    "deletable": false,
    "editable": false,
    "id": "c5d66278"
   },
   "source": [
    "#### 3.1 Есть ли зависимость между количеством детей и возвратом кредита в срок?"
   ]
  },
  {
   "cell_type": "code",
   "execution_count": 22,
   "id": "4fedb6a9",
   "metadata": {
    "deletable": false,
    "id": "2cacfc4a"
   },
   "outputs": [
    {
     "name": "stdout",
     "output_type": "stream",
     "text": [
      "children\n",
      "0    14091\n",
      "1     4808\n",
      "2     2052\n",
      "3      330\n",
      "4       41\n",
      "5        9\n",
      "Name: debt, dtype: int64\n"
     ]
    },
    {
     "data": {
      "text/plain": [
       "children\n",
       "0    1063\n",
       "1     444\n",
       "2     194\n",
       "3      27\n",
       "4       4\n",
       "5       0\n",
       "Name: debt, dtype: int64"
      ]
     },
     "execution_count": 22,
     "metadata": {},
     "output_type": "execute_result"
    }
   ],
   "source": [
    "print(data.groupby('children')['debt'].count())\n",
    "data.groupby('children')['debt'].sum()"
   ]
  },
  {
   "cell_type": "markdown",
   "id": "b5cf2794",
   "metadata": {},
   "source": [
    "##### Людей, у которых было бы 3 и больше детей, достаточно мало, поэтому, думаю, что было бы лучше создать 4 категории:\n",
    "* ##### Без детей\n",
    "* ##### 1 ребенок\n",
    "* ##### 2 ребенка\n",
    "* ##### Многодетная семья"
   ]
  },
  {
   "cell_type": "code",
   "execution_count": 23,
   "id": "a193b9d9",
   "metadata": {},
   "outputs": [],
   "source": [
    "#примеим lambda-функцию с методом .apply(), чтобы категоризировать данные.\n",
    "data['children_qty'] = data['children'].apply(lambda x : 'Без детей' if x == 0 else ('1 ребенок' if x == 1 else '2 ребенка' if x == 2 else 'Многодетная семья'))"
   ]
  },
  {
   "cell_type": "code",
   "execution_count": 24,
   "id": "16619e56",
   "metadata": {},
   "outputs": [
    {
     "name": "stdout",
     "output_type": "stream",
     "text": [
      "debt                   0     1    sum  debt_percent\n",
      "children_qty                                       \n",
      "1 ребенок           4364   444   4808          9.23\n",
      "2 ребенка           1858   194   2052          9.45\n",
      "Без детей          13028  1063  14091          7.54\n",
      "Многодетная семья    349    31    380          8.16\n"
     ]
    }
   ],
   "source": [
    "data_pivot = pd.pivot_table(data, index=['children_qty'],values= 'purpose', columns='debt', aggfunc='count').fillna(0).astype(int)\n",
    "data_pivot['sum'] = data_pivot[0] + data_pivot[1]\n",
    "data_pivot['debt_percent'] = (data_pivot[1]/data_pivot['sum']*100).round(2)\n",
    "print(data_pivot)"
   ]
  },
  {
   "cell_type": "code",
   "execution_count": 25,
   "id": "549d9295",
   "metadata": {},
   "outputs": [],
   "source": [
    "#data_children = data.pivot_table(index=['children_qty'], values='debt').sort_values('debt', ascending=False)\n",
    "#data_children"
   ]
  },
  {
   "cell_type": "markdown",
   "id": "56d667a4",
   "metadata": {
    "deletable": false,
    "id": "3a6b99ec"
   },
   "source": [
    "##### **Вывод:** \n",
    "##### Можно говорить о том, что бездетные оказываются должниками реже (всего 7.5%), чем те, у кого дети есть.\n",
    "##### Тем не менее, многодетные семьи менее склонны становится должниками (8.1%) по сравнению с семьями, где есть 1 или 2 ребенка. (9.2% и 9.4% соответственно.)"
   ]
  },
  {
   "cell_type": "markdown",
   "id": "522c5123",
   "metadata": {
    "deletable": false,
    "editable": false,
    "id": "97be82ca"
   },
   "source": [
    "#### 3.2 Есть ли зависимость между семейным положением и возвратом кредита в срок?"
   ]
  },
  {
   "cell_type": "markdown",
   "id": "d67299ed",
   "metadata": {},
   "source": [
    "##### Для ответа на этот вопрос нужно будет еще раз сформировать сводную таблицу, а затем проанализировать результаты.\n"
   ]
  },
  {
   "cell_type": "code",
   "execution_count": 26,
   "id": "d051c2fe",
   "metadata": {
    "deletable": false,
    "id": "dc3f7ee8"
   },
   "outputs": [
    {
     "name": "stdout",
     "output_type": "stream",
     "text": [
      "женат / замужем          12261\n",
      "гражданский брак          4134\n",
      "Не женат / не замужем     2796\n",
      "в разводе                 1189\n",
      "вдовец / вдова             951\n",
      "Name: family_status, dtype: int64\n"
     ]
    },
    {
     "data": {
      "text/html": [
       "<div>\n",
       "<style scoped>\n",
       "    .dataframe tbody tr th:only-of-type {\n",
       "        vertical-align: middle;\n",
       "    }\n",
       "\n",
       "    .dataframe tbody tr th {\n",
       "        vertical-align: top;\n",
       "    }\n",
       "\n",
       "    .dataframe thead th {\n",
       "        text-align: right;\n",
       "    }\n",
       "</style>\n",
       "<table border=\"1\" class=\"dataframe\">\n",
       "  <thead>\n",
       "    <tr style=\"text-align: right;\">\n",
       "      <th>debt</th>\n",
       "      <th>0</th>\n",
       "      <th>1</th>\n",
       "      <th>debt_percent</th>\n",
       "    </tr>\n",
       "    <tr>\n",
       "      <th>family_status</th>\n",
       "      <th></th>\n",
       "      <th></th>\n",
       "      <th></th>\n",
       "    </tr>\n",
       "  </thead>\n",
       "  <tbody>\n",
       "    <tr>\n",
       "      <th>Не женат / не замужем</th>\n",
       "      <td>2523</td>\n",
       "      <td>273</td>\n",
       "      <td>0.097639</td>\n",
       "    </tr>\n",
       "    <tr>\n",
       "      <th>гражданский брак</th>\n",
       "      <td>3749</td>\n",
       "      <td>385</td>\n",
       "      <td>0.093130</td>\n",
       "    </tr>\n",
       "    <tr>\n",
       "      <th>женат / замужем</th>\n",
       "      <td>11334</td>\n",
       "      <td>927</td>\n",
       "      <td>0.075606</td>\n",
       "    </tr>\n",
       "    <tr>\n",
       "      <th>в разводе</th>\n",
       "      <td>1105</td>\n",
       "      <td>84</td>\n",
       "      <td>0.070648</td>\n",
       "    </tr>\n",
       "    <tr>\n",
       "      <th>вдовец / вдова</th>\n",
       "      <td>888</td>\n",
       "      <td>63</td>\n",
       "      <td>0.066246</td>\n",
       "    </tr>\n",
       "  </tbody>\n",
       "</table>\n",
       "</div>"
      ],
      "text/plain": [
       "debt                       0    1  debt_percent\n",
       "family_status                                  \n",
       "Не женат / не замужем   2523  273      0.097639\n",
       "гражданский брак        3749  385      0.093130\n",
       "женат / замужем        11334  927      0.075606\n",
       "в разводе               1105   84      0.070648\n",
       "вдовец / вдова           888   63      0.066246"
      ]
     },
     "execution_count": 26,
     "metadata": {},
     "output_type": "execute_result"
    }
   ],
   "source": [
    "print(data['family_status'].value_counts())\n",
    "data_pivot = data.pivot_table(index = ['family_status'], columns = 'debt', values = 'education', aggfunc = 'count')\n",
    "# посчитаем вероятность задолженности для каждого вида семейного положения\n",
    "data_pivot['debt_percent'] = data_pivot[1] / (data_pivot[0] + data_pivot[1])\n",
    "\n",
    "data_pivot.sort_values('debt_percent', ascending=False)"
   ]
  },
  {
   "cell_type": "markdown",
   "id": "ac7f4884",
   "metadata": {
    "deletable": false,
    "id": "1cef7837"
   },
   "source": [
    "**Вывод:** \n",
    "##### Исходя из полученных данных, напрашивается вывод о том, что люди никогда не состоявшие в браке чаще оказываются должниками.\n",
    "##### Что интересно, люди, которые остались без второй половинки по причине развода или смерти супруга выплачивают свои долги в срок."
   ]
  },
  {
   "cell_type": "markdown",
   "id": "67aece13",
   "metadata": {
    "deletable": false,
    "editable": false,
    "id": "1e8b2fca"
   },
   "source": [
    "#### 3.3 Есть ли зависимость между уровнем дохода и возвратом кредита в срок?"
   ]
  },
  {
   "cell_type": "markdown",
   "id": "e9daca8d",
   "metadata": {},
   "source": [
    "##### Как сказано в задании, необходимо найти зависимость от *уровня* дохода и возврата кредита в срок.\n",
    "##### Поэтому необходимо опять применить сводную таблицу и теорему Байеса."
   ]
  },
  {
   "cell_type": "code",
   "execution_count": 27,
   "id": "1b1b3d11",
   "metadata": {
    "deletable": false,
    "id": "cd7e3720"
   },
   "outputs": [
    {
     "name": "stdout",
     "output_type": "stream",
     "text": [
      "C    15921\n",
      "B     5014\n",
      "D      349\n",
      "A       25\n",
      "E       22\n",
      "Name: total_income_category, dtype: int64\n"
     ]
    },
    {
     "data": {
      "text/html": [
       "<div>\n",
       "<style scoped>\n",
       "    .dataframe tbody tr th:only-of-type {\n",
       "        vertical-align: middle;\n",
       "    }\n",
       "\n",
       "    .dataframe tbody tr th {\n",
       "        vertical-align: top;\n",
       "    }\n",
       "\n",
       "    .dataframe thead th {\n",
       "        text-align: right;\n",
       "    }\n",
       "</style>\n",
       "<table border=\"1\" class=\"dataframe\">\n",
       "  <thead>\n",
       "    <tr style=\"text-align: right;\">\n",
       "      <th>debt</th>\n",
       "      <th>0</th>\n",
       "      <th>1</th>\n",
       "      <th>debt_percent</th>\n",
       "    </tr>\n",
       "    <tr>\n",
       "      <th>total_income_category</th>\n",
       "      <th></th>\n",
       "      <th></th>\n",
       "      <th></th>\n",
       "    </tr>\n",
       "  </thead>\n",
       "  <tbody>\n",
       "    <tr>\n",
       "      <th>E</th>\n",
       "      <td>20</td>\n",
       "      <td>2</td>\n",
       "      <td>0.090909</td>\n",
       "    </tr>\n",
       "    <tr>\n",
       "      <th>C</th>\n",
       "      <td>14568</td>\n",
       "      <td>1353</td>\n",
       "      <td>0.084982</td>\n",
       "    </tr>\n",
       "    <tr>\n",
       "      <th>A</th>\n",
       "      <td>23</td>\n",
       "      <td>2</td>\n",
       "      <td>0.080000</td>\n",
       "    </tr>\n",
       "    <tr>\n",
       "      <th>B</th>\n",
       "      <td>4660</td>\n",
       "      <td>354</td>\n",
       "      <td>0.070602</td>\n",
       "    </tr>\n",
       "    <tr>\n",
       "      <th>D</th>\n",
       "      <td>328</td>\n",
       "      <td>21</td>\n",
       "      <td>0.060172</td>\n",
       "    </tr>\n",
       "  </tbody>\n",
       "</table>\n",
       "</div>"
      ],
      "text/plain": [
       "debt                       0     1  debt_percent\n",
       "total_income_category                           \n",
       "E                         20     2      0.090909\n",
       "C                      14568  1353      0.084982\n",
       "A                         23     2      0.080000\n",
       "B                       4660   354      0.070602\n",
       "D                        328    21      0.060172"
      ]
     },
     "execution_count": 27,
     "metadata": {},
     "output_type": "execute_result"
    }
   ],
   "source": [
    "print(data['total_income_category'].value_counts())\n",
    "data_pivot = data.pivot_table(index = ['total_income_category'], columns = 'debt', values = 'education', aggfunc = 'count')\n",
    "# посчитаем вероятность задолженности для каждой категории доходов\n",
    "data_pivot['debt_percent'] = data_pivot[1] / (data_pivot[0] + data_pivot[1])\n",
    "\n",
    "data_pivot.sort_values('debt_percent', ascending=False)"
   ]
  },
  {
   "cell_type": "markdown",
   "id": "c0ad3c0a",
   "metadata": {
    "deletable": false,
    "id": "e8593def"
   },
   "source": [
    "**Вывод:** \n",
    "##### Категории A, D и E имеют недостаточное колличество наблюдений относительно категорий B и C. В этом случае, вывод составленный на основе маленькой выборки может быть ложным. Таким образом, рассмотрению подлежит сравнение категорий B и C. Можно говорить о том, что кредит пользуется наибольшей популярностью у людей с категорией C. Тем не менее, люди с категорией дохода B реже оказываются должниками, хотя по количеству кредитов занимают второе место."
   ]
  },
  {
   "cell_type": "markdown",
   "id": "bd48bf78",
   "metadata": {
    "deletable": false,
    "editable": false,
    "id": "99ecbd1f"
   },
   "source": [
    "#### 3.4 Как разные цели кредита влияют на его возврат в срок?"
   ]
  },
  {
   "cell_type": "markdown",
   "id": "8f82fd91",
   "metadata": {},
   "source": [
    "#####"
   ]
  },
  {
   "cell_type": "code",
   "execution_count": 28,
   "id": "b3a1df65",
   "metadata": {
    "deletable": false,
    "id": "2b687290"
   },
   "outputs": [
    {
     "name": "stdout",
     "output_type": "stream",
     "text": [
      "операции с недвижимостью    10751\n",
      "операции с автомобилем       4279\n",
      "получение образования        3988\n",
      "проведение свадьбы           2313\n",
      "Name: purpose_category, dtype: int64\n"
     ]
    },
    {
     "data": {
      "text/html": [
       "<div>\n",
       "<style scoped>\n",
       "    .dataframe tbody tr th:only-of-type {\n",
       "        vertical-align: middle;\n",
       "    }\n",
       "\n",
       "    .dataframe tbody tr th {\n",
       "        vertical-align: top;\n",
       "    }\n",
       "\n",
       "    .dataframe thead th {\n",
       "        text-align: right;\n",
       "    }\n",
       "</style>\n",
       "<table border=\"1\" class=\"dataframe\">\n",
       "  <thead>\n",
       "    <tr style=\"text-align: right;\">\n",
       "      <th>debt</th>\n",
       "      <th>0</th>\n",
       "      <th>1</th>\n",
       "      <th>debt_percent</th>\n",
       "    </tr>\n",
       "    <tr>\n",
       "      <th>purpose_category</th>\n",
       "      <th></th>\n",
       "      <th></th>\n",
       "      <th></th>\n",
       "    </tr>\n",
       "  </thead>\n",
       "  <tbody>\n",
       "    <tr>\n",
       "      <th>операции с автомобилем</th>\n",
       "      <td>3879</td>\n",
       "      <td>400</td>\n",
       "      <td>0.093480</td>\n",
       "    </tr>\n",
       "    <tr>\n",
       "      <th>получение образования</th>\n",
       "      <td>3619</td>\n",
       "      <td>369</td>\n",
       "      <td>0.092528</td>\n",
       "    </tr>\n",
       "    <tr>\n",
       "      <th>проведение свадьбы</th>\n",
       "      <td>2130</td>\n",
       "      <td>183</td>\n",
       "      <td>0.079118</td>\n",
       "    </tr>\n",
       "    <tr>\n",
       "      <th>операции с недвижимостью</th>\n",
       "      <td>9971</td>\n",
       "      <td>780</td>\n",
       "      <td>0.072551</td>\n",
       "    </tr>\n",
       "  </tbody>\n",
       "</table>\n",
       "</div>"
      ],
      "text/plain": [
       "debt                         0    1  debt_percent\n",
       "purpose_category                                 \n",
       "операции с автомобилем    3879  400      0.093480\n",
       "получение образования     3619  369      0.092528\n",
       "проведение свадьбы        2130  183      0.079118\n",
       "операции с недвижимостью  9971  780      0.072551"
      ]
     },
     "execution_count": 28,
     "metadata": {},
     "output_type": "execute_result"
    }
   ],
   "source": [
    "print(data['purpose_category'].value_counts())\n",
    "data_pivot = data.pivot_table(index = ['purpose_category'], columns = 'debt', values = 'education', aggfunc = 'count')\n",
    "# посчитаем вероятность задолженности для каждой цели кредита\n",
    "data_pivot['debt_percent'] = data_pivot[1] / (data_pivot[0] + data_pivot[1])\n",
    "\n",
    "data_pivot.sort_values('debt_percent', ascending=False)"
   ]
  },
  {
   "cell_type": "markdown",
   "id": "3fed9620",
   "metadata": {
    "deletable": false,
    "id": "b4bb2ce6"
   },
   "source": [
    "**Вывод:** \n",
    "\n",
    "##### Самые популярные и самые надежные заемщики берут кредиты на недвижимость. Скорее всего такие опирации серьезно продумываются, люди относятся к преобритению недвижимости с особым трепетом."
   ]
  },
  {
   "cell_type": "markdown",
   "id": "7f32666f",
   "metadata": {
    "deletable": false,
    "editable": false,
    "id": "09c3ac4c"
   },
   "source": [
    "#### 3.5 Приведите возможные причины появления пропусков в исходных данных.\n",
    "\n",
    "##### В столбцах 'days_employed\" и 'total_income' пропуски имеют стандартный тип NaN, а также индексы пропусков в столбцах совпадают. Скорее всего ошибкиа возникла из-за выгрузки."
   ]
  },
  {
   "cell_type": "markdown",
   "id": "410fdbbe",
   "metadata": {
    "deletable": false,
    "editable": false,
    "id": "7b0487d6"
   },
   "source": [
    "#### 3.6 Объясните, почему заполнить пропуски медианным значением — лучшее решение для количественных переменных."
   ]
  },
  {
   "cell_type": "markdown",
   "id": "73bceddc",
   "metadata": {
    "deletable": false,
    "id": "7ecf2b8e"
   },
   "source": [
    "*Ответ:* Медиана устойчива к \"выбросам\" в данных. Когда слишком большие или слишком маленькие значения не оказывают искажение на представление среднего значения числового ряда."
   ]
  },
  {
   "cell_type": "markdown",
   "id": "3fc02dfd",
   "metadata": {
    "deletable": false,
    "editable": false,
    "id": "6db5255a"
   },
   "source": [
    "### Шаг 4: общий вывод."
   ]
  },
  {
   "cell_type": "markdown",
   "id": "eec0899e",
   "metadata": {
    "deletable": false,
    "id": "bad65432"
   },
   "source": [
    "##### В ходе обработки данных о банковских должниках мы подвергли данные поэтапоной \"очистке\":\n",
    "- Замена пропусков\n",
    "- Обработка аномальных значений\n",
    "- Изменение типов данных\n",
    "- Обработка дубликатов\n",
    "- Категоризация данных"
   ]
  },
  {
   "cell_type": "markdown",
   "id": "193401af",
   "metadata": {},
   "source": [
    "##### После приведения данных в надлежайший вид мы попытались ответить на некоторые вопросы, вот самые интересные выводы, по моему мнению:\n",
    "- Есть ли зависимость между количеством детей и возвратом кредита в срок? - Оказалось, что бездетные заемщики становятся должниками реже, чем семьи с детьми. Тем не менее, многодетные семьи в большинтсве своем ответсвенно подходят к кредиту.\n",
    "- ##### Есть ли зависимость между семейным положением и возвратом кредита в срок? - Люди никогда не состоявшие в браке чаще оказываются должниками. А люди которые остались без второй половинки по причине развода или смерти супруга выплачивают свои долги в срок чаще друхих.\n",
    "- ##### Самые популярные и самые надежные заемщики берут кредиты на недвижимость. Скорее всего такие опирации серьезно продумываются, люди относятся к преобритению недвижимости с особым трепетом.\n",
    "- ##### Можно говорить о том, что кредит пользуется наибольшей популярностью у людей с низкой категорией дохода (C). Тем не менее, люди с более высокой категорией дохода (B) реже оказываются должниками, хотя по количеству кредитов занимают второе место."
   ]
  },
  {
   "cell_type": "markdown",
   "id": "cba1ac45",
   "metadata": {},
   "source": [
    "##### Подводя итоги, можно говорить о том, что поэтапная очистка и структуризация-категоризация данных - уже 3/4 выполненной работы. Поскольку изночально \"грязные\" данные могут существенно исказить выводы анализа, если их не обработать. Многие интересные контринтуитивные выводы могут осказаться скрыты. "
   ]
  },
  {
   "cell_type": "code",
   "execution_count": null,
   "id": "88ccd21a",
   "metadata": {},
   "outputs": [],
   "source": []
  }
 ],
 "metadata": {
  "ExecuteTimeLog": [
   {
    "duration": 429,
    "start_time": "2022-09-20T08:38:17.469Z"
   },
   {
    "duration": 24,
    "start_time": "2022-09-20T08:38:17.900Z"
   },
   {
    "duration": 25,
    "start_time": "2022-09-20T08:38:17.926Z"
   },
   {
    "duration": 29,
    "start_time": "2022-09-20T08:38:17.953Z"
   },
   {
    "duration": 69,
    "start_time": "2022-09-20T08:38:17.984Z"
   },
   {
    "duration": 4,
    "start_time": "2022-09-20T08:38:18.055Z"
   },
   {
    "duration": 34,
    "start_time": "2022-09-20T08:38:18.060Z"
   },
   {
    "duration": 30,
    "start_time": "2022-09-20T08:38:18.095Z"
   },
   {
    "duration": 35,
    "start_time": "2022-09-20T08:38:18.127Z"
   },
   {
    "duration": 8,
    "start_time": "2022-09-20T08:38:18.164Z"
   },
   {
    "duration": 62,
    "start_time": "2022-09-20T08:38:18.174Z"
   },
   {
    "duration": 12,
    "start_time": "2022-09-20T08:38:18.238Z"
   },
   {
    "duration": 39,
    "start_time": "2022-09-20T08:38:18.251Z"
   },
   {
    "duration": 54,
    "start_time": "2022-09-20T08:38:18.292Z"
   },
   {
    "duration": 34,
    "start_time": "2022-09-20T08:38:18.348Z"
   },
   {
    "duration": 17,
    "start_time": "2022-09-20T08:38:18.383Z"
   },
   {
    "duration": 6,
    "start_time": "2022-09-20T08:38:18.402Z"
   },
   {
    "duration": 24,
    "start_time": "2022-09-20T08:38:18.410Z"
   },
   {
    "duration": 42,
    "start_time": "2022-09-20T08:38:18.436Z"
   },
   {
    "duration": 36,
    "start_time": "2022-09-20T08:38:18.480Z"
   },
   {
    "duration": 47,
    "start_time": "2022-09-20T08:38:18.518Z"
   },
   {
    "duration": 14,
    "start_time": "2022-09-20T08:38:18.567Z"
   },
   {
    "duration": 31,
    "start_time": "2022-09-20T08:38:18.583Z"
   },
   {
    "duration": 42,
    "start_time": "2022-09-20T08:38:18.616Z"
   },
   {
    "duration": 32,
    "start_time": "2022-09-20T08:38:18.660Z"
   },
   {
    "duration": 73,
    "start_time": "2022-09-20T09:13:00.485Z"
   },
   {
    "duration": 482,
    "start_time": "2022-09-23T10:25:09.880Z"
   },
   {
    "duration": 22,
    "start_time": "2022-09-23T10:25:10.364Z"
   },
   {
    "duration": 16,
    "start_time": "2022-09-23T10:25:10.387Z"
   },
   {
    "duration": 9,
    "start_time": "2022-09-23T10:25:10.406Z"
   },
   {
    "duration": 33,
    "start_time": "2022-09-23T10:25:10.417Z"
   },
   {
    "duration": 3,
    "start_time": "2022-09-23T10:25:10.452Z"
   },
   {
    "duration": 12,
    "start_time": "2022-09-23T10:25:10.456Z"
   },
   {
    "duration": 28,
    "start_time": "2022-09-23T10:25:10.469Z"
   },
   {
    "duration": 9,
    "start_time": "2022-09-23T10:25:10.499Z"
   },
   {
    "duration": 4,
    "start_time": "2022-09-23T10:25:10.510Z"
   },
   {
    "duration": 36,
    "start_time": "2022-09-23T10:25:10.515Z"
   },
   {
    "duration": 9,
    "start_time": "2022-09-23T10:25:10.553Z"
   },
   {
    "duration": 4,
    "start_time": "2022-09-23T10:25:10.563Z"
   },
   {
    "duration": 10,
    "start_time": "2022-09-23T10:25:10.595Z"
   },
   {
    "duration": 22,
    "start_time": "2022-09-23T10:25:10.606Z"
   },
   {
    "duration": 17,
    "start_time": "2022-09-23T10:25:10.630Z"
   },
   {
    "duration": 3,
    "start_time": "2022-09-23T10:25:10.649Z"
   },
   {
    "duration": 16,
    "start_time": "2022-09-23T10:25:10.654Z"
   },
   {
    "duration": 26,
    "start_time": "2022-09-23T10:25:10.671Z"
   },
   {
    "duration": 5,
    "start_time": "2022-09-23T10:25:10.699Z"
   },
   {
    "duration": 13,
    "start_time": "2022-09-23T10:25:10.706Z"
   },
   {
    "duration": 3,
    "start_time": "2022-09-23T10:25:10.720Z"
   },
   {
    "duration": 5,
    "start_time": "2022-09-23T10:25:10.724Z"
   },
   {
    "duration": 5,
    "start_time": "2022-09-23T10:25:10.730Z"
   },
   {
    "duration": 4,
    "start_time": "2022-09-23T10:25:10.736Z"
   },
   {
    "duration": 1125,
    "start_time": "2022-10-31T20:57:24.352Z"
   },
   {
    "duration": 19,
    "start_time": "2022-10-31T20:57:25.479Z"
   },
   {
    "duration": 15,
    "start_time": "2022-10-31T20:57:25.500Z"
   },
   {
    "duration": 9,
    "start_time": "2022-10-31T20:57:25.517Z"
   },
   {
    "duration": 31,
    "start_time": "2022-10-31T20:57:25.528Z"
   },
   {
    "duration": 3,
    "start_time": "2022-10-31T20:57:25.561Z"
   },
   {
    "duration": 23,
    "start_time": "2022-10-31T20:57:25.565Z"
   },
   {
    "duration": 4,
    "start_time": "2022-10-31T20:57:25.590Z"
   },
   {
    "duration": 8,
    "start_time": "2022-10-31T20:57:25.608Z"
   },
   {
    "duration": 5,
    "start_time": "2022-10-31T20:57:25.617Z"
   },
   {
    "duration": 31,
    "start_time": "2022-10-31T20:57:25.623Z"
   },
   {
    "duration": 9,
    "start_time": "2022-10-31T20:57:25.655Z"
   },
   {
    "duration": 4,
    "start_time": "2022-10-31T20:57:25.666Z"
   },
   {
    "duration": 40,
    "start_time": "2022-10-31T20:57:25.673Z"
   },
   {
    "duration": 19,
    "start_time": "2022-10-31T20:57:25.715Z"
   },
   {
    "duration": 16,
    "start_time": "2022-10-31T20:57:25.735Z"
   },
   {
    "duration": 4,
    "start_time": "2022-10-31T20:57:25.753Z"
   },
   {
    "duration": 13,
    "start_time": "2022-10-31T20:57:25.758Z"
   },
   {
    "duration": 5,
    "start_time": "2022-10-31T20:57:25.773Z"
   },
   {
    "duration": 3,
    "start_time": "2022-10-31T20:57:25.780Z"
   },
   {
    "duration": 8,
    "start_time": "2022-10-31T20:57:25.810Z"
   },
   {
    "duration": 9,
    "start_time": "2022-10-31T20:57:25.820Z"
   },
   {
    "duration": 7,
    "start_time": "2022-10-31T20:57:25.831Z"
   },
   {
    "duration": 24,
    "start_time": "2022-10-31T20:57:25.840Z"
   },
   {
    "duration": 2,
    "start_time": "2022-10-31T20:57:25.866Z"
   },
   {
    "duration": 57,
    "start_time": "2022-10-31T20:57:25.870Z"
   },
   {
    "duration": 21,
    "start_time": "2022-10-31T20:57:25.929Z"
   },
   {
    "duration": 21,
    "start_time": "2022-10-31T20:57:25.952Z"
   },
   {
    "duration": 22,
    "start_time": "2022-10-31T21:04:32.559Z"
   },
   {
    "duration": 12,
    "start_time": "2022-10-31T21:04:38.164Z"
   },
   {
    "duration": 81,
    "start_time": "2022-10-31T21:05:19.977Z"
   },
   {
    "duration": 926,
    "start_time": "2022-10-31T21:05:24.537Z"
   },
   {
    "duration": 13,
    "start_time": "2022-10-31T21:05:32.314Z"
   },
   {
    "duration": 7,
    "start_time": "2022-10-31T21:05:37.667Z"
   },
   {
    "duration": 4,
    "start_time": "2022-10-31T21:05:54.192Z"
   },
   {
    "duration": 4,
    "start_time": "2022-10-31T21:06:00.442Z"
   },
   {
    "duration": 968,
    "start_time": "2022-10-31T21:06:13.082Z"
   },
   {
    "duration": 75,
    "start_time": "2022-10-31T21:06:18.356Z"
   },
   {
    "duration": 7,
    "start_time": "2022-10-31T21:06:22.531Z"
   },
   {
    "duration": 24,
    "start_time": "2022-10-31T21:06:34.752Z"
   },
   {
    "duration": 8,
    "start_time": "2022-10-31T21:06:42.986Z"
   },
   {
    "duration": 933,
    "start_time": "2022-10-31T21:06:50.005Z"
   },
   {
    "duration": 6,
    "start_time": "2022-10-31T21:06:55.004Z"
   },
   {
    "duration": 8,
    "start_time": "2022-10-31T21:06:59.636Z"
   },
   {
    "duration": 4,
    "start_time": "2022-10-31T21:07:11.107Z"
   },
   {
    "duration": 8,
    "start_time": "2022-10-31T21:07:24.522Z"
   },
   {
    "duration": 14,
    "start_time": "2022-10-31T21:07:31.237Z"
   },
   {
    "duration": 4,
    "start_time": "2022-10-31T21:07:41.420Z"
   },
   {
    "duration": 4,
    "start_time": "2022-10-31T21:08:01.565Z"
   },
   {
    "duration": 746,
    "start_time": "2022-10-31T21:08:09.107Z"
   },
   {
    "duration": 4,
    "start_time": "2022-10-31T21:08:12.597Z"
   },
   {
    "duration": 4,
    "start_time": "2022-10-31T21:08:17.263Z"
   },
   {
    "duration": 12,
    "start_time": "2022-10-31T21:08:31.707Z"
   },
   {
    "duration": 1170,
    "start_time": "2022-10-31T21:17:30.002Z"
   },
   {
    "duration": 21,
    "start_time": "2022-10-31T21:17:31.175Z"
   },
   {
    "duration": 19,
    "start_time": "2022-10-31T21:17:31.198Z"
   },
   {
    "duration": 18,
    "start_time": "2022-10-31T21:17:31.220Z"
   },
   {
    "duration": 38,
    "start_time": "2022-10-31T21:17:31.240Z"
   },
   {
    "duration": 4,
    "start_time": "2022-10-31T21:17:31.280Z"
   },
   {
    "duration": 23,
    "start_time": "2022-10-31T21:17:31.285Z"
   },
   {
    "duration": 4,
    "start_time": "2022-10-31T21:17:31.309Z"
   },
   {
    "duration": 18,
    "start_time": "2022-10-31T21:17:31.315Z"
   },
   {
    "duration": 10,
    "start_time": "2022-10-31T21:17:31.336Z"
   },
   {
    "duration": 40,
    "start_time": "2022-10-31T21:17:31.348Z"
   },
   {
    "duration": 8,
    "start_time": "2022-10-31T21:17:31.390Z"
   },
   {
    "duration": 10,
    "start_time": "2022-10-31T21:17:31.399Z"
   },
   {
    "duration": 23,
    "start_time": "2022-10-31T21:17:31.410Z"
   },
   {
    "duration": 30,
    "start_time": "2022-10-31T21:17:31.434Z"
   },
   {
    "duration": 17,
    "start_time": "2022-10-31T21:17:31.465Z"
   },
   {
    "duration": 15,
    "start_time": "2022-10-31T21:17:31.484Z"
   },
   {
    "duration": 32,
    "start_time": "2022-10-31T21:17:31.500Z"
   },
   {
    "duration": 18,
    "start_time": "2022-10-31T21:17:31.534Z"
   },
   {
    "duration": 14,
    "start_time": "2022-10-31T21:17:31.554Z"
   },
   {
    "duration": 38,
    "start_time": "2022-10-31T21:17:31.569Z"
   },
   {
    "duration": 15,
    "start_time": "2022-10-31T21:17:31.609Z"
   },
   {
    "duration": 7,
    "start_time": "2022-10-31T21:17:31.626Z"
   },
   {
    "duration": 29,
    "start_time": "2022-10-31T21:17:31.635Z"
   },
   {
    "duration": 2,
    "start_time": "2022-10-31T21:17:31.666Z"
   },
   {
    "duration": 38,
    "start_time": "2022-10-31T21:17:31.670Z"
   },
   {
    "duration": 27,
    "start_time": "2022-10-31T21:17:31.710Z"
   },
   {
    "duration": 24,
    "start_time": "2022-10-31T21:17:31.740Z"
   },
   {
    "duration": 1234,
    "start_time": "2022-11-01T16:14:39.385Z"
   },
   {
    "duration": 18,
    "start_time": "2022-11-01T16:14:40.621Z"
   },
   {
    "duration": 17,
    "start_time": "2022-11-01T16:14:40.641Z"
   },
   {
    "duration": 16,
    "start_time": "2022-11-01T16:14:40.659Z"
   },
   {
    "duration": 51,
    "start_time": "2022-11-01T16:14:40.678Z"
   },
   {
    "duration": 3,
    "start_time": "2022-11-01T16:14:40.731Z"
   },
   {
    "duration": 25,
    "start_time": "2022-11-01T16:14:40.736Z"
   },
   {
    "duration": 20,
    "start_time": "2022-11-01T16:14:40.762Z"
   },
   {
    "duration": 18,
    "start_time": "2022-11-01T16:14:40.784Z"
   },
   {
    "duration": 33,
    "start_time": "2022-11-01T16:14:40.805Z"
   },
   {
    "duration": 49,
    "start_time": "2022-11-01T16:14:40.840Z"
   },
   {
    "duration": 12,
    "start_time": "2022-11-01T16:14:40.891Z"
   },
   {
    "duration": 26,
    "start_time": "2022-11-01T16:14:40.904Z"
   },
   {
    "duration": 47,
    "start_time": "2022-11-01T16:14:40.934Z"
   },
   {
    "duration": 44,
    "start_time": "2022-11-01T16:14:40.983Z"
   },
   {
    "duration": 34,
    "start_time": "2022-11-01T16:14:41.029Z"
   },
   {
    "duration": 4,
    "start_time": "2022-11-01T16:14:41.065Z"
   },
   {
    "duration": 41,
    "start_time": "2022-11-01T16:14:41.070Z"
   },
   {
    "duration": 37,
    "start_time": "2022-11-01T16:14:41.113Z"
   },
   {
    "duration": 28,
    "start_time": "2022-11-01T16:14:41.152Z"
   },
   {
    "duration": 32,
    "start_time": "2022-11-01T16:14:41.182Z"
   },
   {
    "duration": 38,
    "start_time": "2022-11-01T16:14:41.216Z"
   },
   {
    "duration": 31,
    "start_time": "2022-11-01T16:14:41.256Z"
   },
   {
    "duration": 52,
    "start_time": "2022-11-01T16:14:41.289Z"
   },
   {
    "duration": 13,
    "start_time": "2022-11-01T16:14:41.343Z"
   },
   {
    "duration": 39,
    "start_time": "2022-11-01T16:14:41.358Z"
   },
   {
    "duration": 52,
    "start_time": "2022-11-01T16:14:41.399Z"
   },
   {
    "duration": 44,
    "start_time": "2022-11-01T16:14:41.453Z"
   },
   {
    "duration": 1256,
    "start_time": "2022-11-08T15:32:49.039Z"
   },
   {
    "duration": 19,
    "start_time": "2022-11-08T15:32:50.297Z"
   },
   {
    "duration": 15,
    "start_time": "2022-11-08T15:32:50.318Z"
   },
   {
    "duration": 10,
    "start_time": "2022-11-08T15:32:50.335Z"
   },
   {
    "duration": 39,
    "start_time": "2022-11-08T15:32:50.348Z"
   },
   {
    "duration": 3,
    "start_time": "2022-11-08T15:32:50.389Z"
   },
   {
    "duration": 15,
    "start_time": "2022-11-08T15:32:50.394Z"
   },
   {
    "duration": 23,
    "start_time": "2022-11-08T15:32:50.410Z"
   },
   {
    "duration": 8,
    "start_time": "2022-11-08T15:32:50.435Z"
   },
   {
    "duration": 5,
    "start_time": "2022-11-08T15:32:50.444Z"
   },
   {
    "duration": 81,
    "start_time": "2022-11-08T15:32:50.450Z"
   },
   {
    "duration": 11,
    "start_time": "2022-11-08T15:32:50.533Z"
   },
   {
    "duration": 11,
    "start_time": "2022-11-08T15:32:50.546Z"
   },
   {
    "duration": 14,
    "start_time": "2022-11-08T15:32:50.560Z"
   },
   {
    "duration": 26,
    "start_time": "2022-11-08T15:32:50.577Z"
   },
   {
    "duration": 48,
    "start_time": "2022-11-08T15:32:50.605Z"
   },
   {
    "duration": 5,
    "start_time": "2022-11-08T15:32:50.655Z"
   },
   {
    "duration": 14,
    "start_time": "2022-11-08T15:32:50.661Z"
   },
   {
    "duration": 5,
    "start_time": "2022-11-08T15:32:50.677Z"
   },
   {
    "duration": 6,
    "start_time": "2022-11-08T15:32:50.683Z"
   },
   {
    "duration": 12,
    "start_time": "2022-11-08T15:32:50.690Z"
   },
   {
    "duration": 30,
    "start_time": "2022-11-08T15:32:50.704Z"
   },
   {
    "duration": 7,
    "start_time": "2022-11-08T15:32:50.736Z"
   },
   {
    "duration": 37,
    "start_time": "2022-11-08T15:32:50.745Z"
   },
   {
    "duration": 2,
    "start_time": "2022-11-08T15:32:50.784Z"
   },
   {
    "duration": 55,
    "start_time": "2022-11-08T15:32:50.788Z"
   },
   {
    "duration": 27,
    "start_time": "2022-11-08T15:32:50.845Z"
   },
   {
    "duration": 23,
    "start_time": "2022-11-08T15:32:50.874Z"
   }
  ],
  "colab": {
   "name": "dpp_template_part2.ipynb",
   "provenance": []
  },
  "kernelspec": {
   "display_name": "Python 3 (ipykernel)",
   "language": "python",
   "name": "python3"
  },
  "language_info": {
   "codemirror_mode": {
    "name": "ipython",
    "version": 3
   },
   "file_extension": ".py",
   "mimetype": "text/x-python",
   "name": "python",
   "nbconvert_exporter": "python",
   "pygments_lexer": "ipython3",
   "version": "3.9.5"
  },
  "toc": {
   "base_numbering": 1,
   "nav_menu": {},
   "number_sections": true,
   "sideBar": true,
   "skip_h1_title": true,
   "title_cell": "Table of Contents",
   "title_sidebar": "Contents",
   "toc_cell": false,
   "toc_position": {},
   "toc_section_display": true,
   "toc_window_display": false
  },
  "vscode": {
   "interpreter": {
    "hash": "ee4a48cafb9c41b2b17790e05f6229ce086b4d1356249f96da1210646be55d22"
   }
  }
 },
 "nbformat": 4,
 "nbformat_minor": 5
}
